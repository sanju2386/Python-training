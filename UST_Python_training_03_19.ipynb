{
 "cells": [
  {
   "cell_type": "markdown",
   "id": "129faf48-a51c-422e-aec5-0b29b3bf452e",
   "metadata": {},
   "source": [
    "This just a heading"
   ]
  },
  {
   "cell_type": "markdown",
   "id": "5a639433-ded4-4544-acd2-5375a52ae25a",
   "metadata": {},
   "source": [
    "# We are learnig cell functions like markdown , code , raw"
   ]
  },
  {
   "cell_type": "markdown",
   "id": "4a9a888f-bca6-48b2-9f90-6ff9d454bdfd",
   "metadata": {},
   "source": [
    "# Making a headline bigger using '#'"
   ]
  },
  {
   "cell_type": "code",
   "execution_count": null,
   "id": "00030ed2-54ae-4a34-9aec-33aa4416ea08",
   "metadata": {},
   "outputs": [],
   "source": [
    "#"
   ]
  },
  {
   "cell_type": "code",
   "execution_count": 1,
   "id": "43ea932b-678d-4740-96c3-de54a1a16f4e",
   "metadata": {},
   "outputs": [
    {
     "data": {
      "text/plain": [
       "int"
      ]
     },
     "execution_count": 1,
     "metadata": {},
     "output_type": "execute_result"
    }
   ],
   "source": [
    "type(2)"
   ]
  },
  {
   "cell_type": "code",
   "execution_count": 2,
   "id": "3b86d239-d3a1-47cd-92d6-e0c9a496a898",
   "metadata": {},
   "outputs": [],
   "source": [
    "c=12"
   ]
  },
  {
   "cell_type": "code",
   "execution_count": 3,
   "id": "5924dfee-5ddb-4873-9f1e-fd1d9704622e",
   "metadata": {},
   "outputs": [
    {
     "data": {
      "text/plain": [
       "12"
      ]
     },
     "execution_count": 3,
     "metadata": {},
     "output_type": "execute_result"
    }
   ],
   "source": [
    "c"
   ]
  },
  {
   "cell_type": "code",
   "execution_count": 4,
   "id": "5d79c0ad-f20c-4c07-99b7-4430ae474af9",
   "metadata": {},
   "outputs": [],
   "source": [
    "d=2+3j"
   ]
  },
  {
   "cell_type": "code",
   "execution_count": 5,
   "id": "03887149-b2d7-4926-bef5-d30970bf8202",
   "metadata": {},
   "outputs": [
    {
     "data": {
      "text/plain": [
       "complex"
      ]
     },
     "execution_count": 5,
     "metadata": {},
     "output_type": "execute_result"
    }
   ],
   "source": [
    "type(d)"
   ]
  },
  {
   "cell_type": "code",
   "execution_count": null,
   "id": "cc24425f-210b-4eb1-bc59-c7b65811743c",
   "metadata": {},
   "outputs": [],
   "source": []
  },
  {
   "cell_type": "code",
   "execution_count": null,
   "id": "33002f52-4ab4-4bd8-8727-a7fb89799d5c",
   "metadata": {},
   "outputs": [],
   "source": []
  },
  {
   "cell_type": "code",
   "execution_count": null,
   "id": "3042fab2-e1f3-4714-8d8f-44168a36c0e8",
   "metadata": {},
   "outputs": [],
   "source": []
  },
  {
   "cell_type": "markdown",
   "id": "cc5df95c-c3b8-4127-8e22-d5d5f377b8ec",
   "metadata": {},
   "source": [
    "# Builtin functions "
   ]
  },
  {
   "cell_type": "code",
   "execution_count": 7,
   "id": "b93a210d-445c-45f9-ae2c-bebd9213a387",
   "metadata": {},
   "outputs": [
    {
     "name": "stdin",
     "output_type": "stream",
     "text": [
      "enter a number  2\n"
     ]
    }
   ],
   "source": [
    "a1=input(\"enter a number \") "
   ]
  },
  {
   "cell_type": "code",
   "execution_count": 8,
   "id": "52808093-27e0-4790-b1ef-bf6dfe084e63",
   "metadata": {},
   "outputs": [
    {
     "data": {
      "text/plain": [
       "'2'"
      ]
     },
     "execution_count": 8,
     "metadata": {},
     "output_type": "execute_result"
    }
   ],
   "source": [
    "a1"
   ]
  },
  {
   "cell_type": "code",
   "execution_count": 9,
   "id": "d9967ac4-f898-4ff0-9dea-2043197ffe26",
   "metadata": {},
   "outputs": [
    {
     "data": {
      "text/plain": [
       "str"
      ]
     },
     "execution_count": 9,
     "metadata": {},
     "output_type": "execute_result"
    }
   ],
   "source": [
    "type(a1)"
   ]
  },
  {
   "cell_type": "code",
   "execution_count": null,
   "id": "bebca0e9-6b16-46cb-be9f-28797e97c0e8",
   "metadata": {},
   "outputs": [],
   "source": []
  },
  {
   "cell_type": "code",
   "execution_count": null,
   "id": "39da0084-340c-479c-8d94-db04365b41a4",
   "metadata": {},
   "outputs": [],
   "source": []
  },
  {
   "cell_type": "markdown",
   "id": "3a8ff5c3-e5f8-480d-b86b-0009be0632d2",
   "metadata": {},
   "source": [
    "Exercises\n",
    "1. Given temperature t in Celcius, write a python expression to convert into farenheit\n",
    "2. Given two points A(x1, y1) and B(x2, y2), calculate the straight line distance between them\n",
    "3. Calculate the area of the triangle with threen given points A(x1, y1), B(x2, y2), C(x3, y3)"
   ]
  },
  {
   "cell_type": "markdown",
   "id": "e45492d5-d815-424b-ae3f-130746e59e0b",
   "metadata": {},
   "source": [
    "# Excercise I"
   ]
  },
  {
   "cell_type": "code",
   "execution_count": 13,
   "id": "002f3b06-62d1-4e0f-be9e-0166a6880c67",
   "metadata": {},
   "outputs": [
    {
     "name": "stdin",
     "output_type": "stream",
     "text": [
      "Enter your temperature in Celsius :  35\n"
     ]
    },
    {
     "name": "stdout",
     "output_type": "stream",
     "text": [
      "Degree in Fahrenheit is :  95.0\n"
     ]
    }
   ],
   "source": [
    "temp_in_celsius=int(input(\"Enter your temperature in Celsius : \"))\n",
    "degree_in_faranheit = ((temp_in_celsius*(9/5))+32)\n",
    "print( \"Degree in Fahrenheit is : \",degree_in_faranheit)\n",
    "\n",
    "                    "
   ]
  },
  {
   "cell_type": "code",
   "execution_count": null,
   "id": "2569ca26-a2aa-47a8-af39-498bc0e88458",
   "metadata": {},
   "outputs": [],
   "source": []
  },
  {
   "cell_type": "markdown",
   "id": "497a1cf3-418e-47e0-a6c6-363f0842d174",
   "metadata": {},
   "source": [
    "# Excercise II"
   ]
  },
  {
   "cell_type": "code",
   "execution_count": 21,
   "id": "4ed1f82a-e071-4e53-88ae-e12ff73c468b",
   "metadata": {},
   "outputs": [
    {
     "name": "stdin",
     "output_type": "stream",
     "text": [
      "Enter x cordinate of point a :  2\n",
      "Enter x cordinate of point a :  1\n",
      "Enter x cordinate of point b :  1\n",
      "Enter x cordinate of point b :  3\n"
     ]
    },
    {
     "name": "stdout",
     "output_type": "stream",
     "text": [
      "2.236\n"
     ]
    }
   ],
   "source": [
    "import math\n",
    "x1=int(input(\"Enter x cordinate of point a : \"))\n",
    "y1=int(input(\"Enter y cordinate of point a : \"))\n",
    "x2=int(input(\"Enter x cordinate of point b : \"))\n",
    "y2=int(input(\"Enter y cordinate of point b : \"))\n",
    "d= (((x2-x1)**2) +((y2-y1)**2))\n",
    "lenght_of_2point=math.sqrt(d)\n",
    "print(round(lenght_of_2point,3))"
   ]
  },
  {
   "cell_type": "code",
   "execution_count": null,
   "id": "3046bd6d-7d1c-4680-9c93-86523a5c83ef",
   "metadata": {},
   "outputs": [],
   "source": []
  },
  {
   "cell_type": "code",
   "execution_count": null,
   "id": "9d422e5d-e1e7-4868-84b3-caff32f79c46",
   "metadata": {},
   "outputs": [],
   "source": []
  },
  {
   "cell_type": "markdown",
   "id": "4614d64c-ff89-4b83-ad57-2cce55feac95",
   "metadata": {},
   "source": [
    "# Excercise III"
   ]
  },
  {
   "cell_type": "code",
   "execution_count": 27,
   "id": "09f2c029-3eed-405a-b8fe-7ffd3bf7465d",
   "metadata": {},
   "outputs": [
    {
     "name": "stdin",
     "output_type": "stream",
     "text": [
      "Enter x cordinate of point a :  1\n",
      "Enter y cordinate of point a :  0\n",
      "Enter x cordinate of point b :  2\n",
      "Enter y cordinate of point b :  1\n",
      "Enter x cordinate of point c :  3\n",
      "Enter y cordinate of point c :  4\n"
     ]
    },
    {
     "name": "stdout",
     "output_type": "stream",
     "text": [
      "Area of the traingle 7.0\n"
     ]
    }
   ],
   "source": [
    "x1=int(input(\"Enter x cordinate of point a : \"))\n",
    "y1=int(input(\"Enter y cordinate of point a : \"))\n",
    "x2=int(input(\"Enter x cordinate of point b : \"))\n",
    "y2=int(input(\"Enter y cordinate of point b : \"))\n",
    "x3=int(input(\"Enter x cordinate of point c : \"))\n",
    "y3=int(input(\"Enter y cordinate of point c : \"))\n",
    "area=(0.5*abs((x1*(y3-y2)+x2*(y3-y1)+x3*(y2-y1))))\n",
    "triangle_area= abs(area)\n",
    "print(\"Area of the traingle\" ,triangle_area)\n",
    "\n"
   ]
  },
  {
   "cell_type": "code",
   "execution_count": null,
   "id": "af911d93-aab7-4b6f-a91c-4ba688d5bf9c",
   "metadata": {},
   "outputs": [],
   "source": []
  }
 ],
 "metadata": {
  "kernelspec": {
   "display_name": "Python 3 (ipykernel)",
   "language": "python",
   "name": "python3"
  },
  "language_info": {
   "codemirror_mode": {
    "name": "ipython",
    "version": 3
   },
   "file_extension": ".py",
   "mimetype": "text/x-python",
   "name": "python",
   "nbconvert_exporter": "python",
   "pygments_lexer": "ipython3",
   "version": "3.12.4"
  }
 },
 "nbformat": 4,
 "nbformat_minor": 5
}
