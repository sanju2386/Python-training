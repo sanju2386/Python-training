{
 "cells": [
  {
   "cell_type": "code",
   "execution_count": null,
   "id": "af416168-9cd4-45db-866d-3685e11ba1b8",
   "metadata": {},
   "outputs": [],
   "source": []
  },
  {
   "cell_type": "code",
   "execution_count": 1,
   "id": "114611d6-4e77-4aa5-8c62-fcd6deec33a8",
   "metadata": {},
   "outputs": [],
   "source": [
    "path=r\"C:\\Users\\292593\\Desktop\\master\\python training\\Git_repo\\excercise\\ust-python-2025\\case-studies\\day-12-case-student-report\\students.csv\""
   ]
  },
  {
   "cell_type": "code",
   "execution_count": 2,
   "id": "1610b902-3c22-44cc-a908-e599ed1bc81c",
   "metadata": {},
   "outputs": [],
   "source": [
    "f=open(path)\n",
    "content = f.readlines()\n",
    "f.close()"
   ]
  },
  {
   "cell_type": "code",
   "execution_count": 3,
   "id": "50766b7f-3d52-4ed8-b17d-c4e3134e44a2",
   "metadata": {},
   "outputs": [
    {
     "data": {
      "text/plain": [
       "['name,age,regid,phy,chem,math,bio,avg,rank\\n',\n",
       " 'Vijay,14,HPE001,99,98,97,96,0,0\\n',\n",
       " 'Aryan,14,HPE002,98,91,93,96,0,0\\n',\n",
       " 'Muni,14,HPE003,97,98,97,94,0,0\\n',\n",
       " 'Abhi,14,HPE004,96,93,97,95,0,0\\n',\n",
       " 'Hemanth,14,HPE005,94,91,93,96,0,0\\n',\n",
       " 'Grace,14,HPE006,94,95,96,97,0,0\\n',\n",
       " 'Ankita,14,CAP007,99,99,99,99,0,0\\n',\n",
       " 'John,14,HPE008,96,93,97,95,0,0\\n',\n",
       " 'Chris,14,HPE009,94,91,93,96,0,0\\n',\n",
       " 'Grace,14,ORA006,94,95,96,97,0,0\\n',\n",
       " 'Ankita,14,INF007,99,99,99,99,0,0\\n']"
      ]
     },
     "execution_count": 3,
     "metadata": {},
     "output_type": "execute_result"
    }
   ],
   "source": [
    "content\n"
   ]
  },
  {
   "cell_type": "code",
   "execution_count": 4,
   "id": "e12b84ab-e156-478a-aa26-d68995a01a51",
   "metadata": {},
   "outputs": [],
   "source": [
    "c=[item.strip(\"\\n\") for item in content]\n",
    "\n"
   ]
  },
  {
   "cell_type": "code",
   "execution_count": 5,
   "id": "d9d53176-edd2-48b8-b4b1-aa3c599fed5c",
   "metadata": {},
   "outputs": [
    {
     "data": {
      "text/plain": [
       "['name,age,regid,phy,chem,math,bio,avg,rank',\n",
       " 'Vijay,14,HPE001,99,98,97,96,0,0',\n",
       " 'Aryan,14,HPE002,98,91,93,96,0,0',\n",
       " 'Muni,14,HPE003,97,98,97,94,0,0',\n",
       " 'Abhi,14,HPE004,96,93,97,95,0,0',\n",
       " 'Hemanth,14,HPE005,94,91,93,96,0,0',\n",
       " 'Grace,14,HPE006,94,95,96,97,0,0',\n",
       " 'Ankita,14,CAP007,99,99,99,99,0,0',\n",
       " 'John,14,HPE008,96,93,97,95,0,0',\n",
       " 'Chris,14,HPE009,94,91,93,96,0,0',\n",
       " 'Grace,14,ORA006,94,95,96,97,0,0',\n",
       " 'Ankita,14,INF007,99,99,99,99,0,0']"
      ]
     },
     "execution_count": 5,
     "metadata": {},
     "output_type": "execute_result"
    }
   ],
   "source": [
    "c"
   ]
  },
  {
   "cell_type": "code",
   "execution_count": 6,
   "id": "1753ef65-0a79-44b4-ad55-cc2f823f70e7",
   "metadata": {},
   "outputs": [],
   "source": [
    "nested_data = [row.split(\",\") for row in c]"
   ]
  },
  {
   "cell_type": "code",
   "execution_count": 7,
   "id": "f6292e2e-e248-4ca9-8ea6-e661acaea2ca",
   "metadata": {},
   "outputs": [
    {
     "data": {
      "text/plain": [
       "[['name', 'age', 'regid', 'phy', 'chem', 'math', 'bio', 'avg', 'rank'],\n",
       " ['Vijay', '14', 'HPE001', '99', '98', '97', '96', '0', '0'],\n",
       " ['Aryan', '14', 'HPE002', '98', '91', '93', '96', '0', '0'],\n",
       " ['Muni', '14', 'HPE003', '97', '98', '97', '94', '0', '0'],\n",
       " ['Abhi', '14', 'HPE004', '96', '93', '97', '95', '0', '0'],\n",
       " ['Hemanth', '14', 'HPE005', '94', '91', '93', '96', '0', '0'],\n",
       " ['Grace', '14', 'HPE006', '94', '95', '96', '97', '0', '0'],\n",
       " ['Ankita', '14', 'CAP007', '99', '99', '99', '99', '0', '0'],\n",
       " ['John', '14', 'HPE008', '96', '93', '97', '95', '0', '0'],\n",
       " ['Chris', '14', 'HPE009', '94', '91', '93', '96', '0', '0'],\n",
       " ['Grace', '14', 'ORA006', '94', '95', '96', '97', '0', '0'],\n",
       " ['Ankita', '14', 'INF007', '99', '99', '99', '99', '0', '0']]"
      ]
     },
     "execution_count": 7,
     "metadata": {},
     "output_type": "execute_result"
    }
   ],
   "source": [
    "nested_data"
   ]
  },
  {
   "cell_type": "code",
   "execution_count": 8,
   "id": "122e2ef1-a2c9-41f2-9aab-d1820cbf6605",
   "metadata": {},
   "outputs": [
    {
     "data": {
      "text/plain": [
       "list"
      ]
     },
     "execution_count": 8,
     "metadata": {},
     "output_type": "execute_result"
    }
   ],
   "source": [
    "type(nested_data)"
   ]
  },
  {
   "cell_type": "code",
   "execution_count": 9,
   "id": "39ba3a06-a37a-4ad1-888d-a6aecd2fad0f",
   "metadata": {},
   "outputs": [],
   "source": [
    "keys=nested_data[0]"
   ]
  },
  {
   "cell_type": "code",
   "execution_count": 10,
   "id": "f30d91f2-8221-4c06-85a0-afe71a2310a9",
   "metadata": {},
   "outputs": [
    {
     "data": {
      "text/plain": [
       "['name', 'age', 'regid', 'phy', 'chem', 'math', 'bio', 'avg', 'rank']"
      ]
     },
     "execution_count": 10,
     "metadata": {},
     "output_type": "execute_result"
    }
   ],
   "source": [
    "keys"
   ]
  },
  {
   "cell_type": "code",
   "execution_count": 11,
   "id": "73f343da-8ea8-4c0d-b63b-f357da1c2ce6",
   "metadata": {},
   "outputs": [
    {
     "data": {
      "text/plain": [
       "[['Vijay', '14', 'HPE001', '99', '98', '97', '96', '0', '0'],\n",
       " ['Aryan', '14', 'HPE002', '98', '91', '93', '96', '0', '0'],\n",
       " ['Muni', '14', 'HPE003', '97', '98', '97', '94', '0', '0'],\n",
       " ['Abhi', '14', 'HPE004', '96', '93', '97', '95', '0', '0'],\n",
       " ['Hemanth', '14', 'HPE005', '94', '91', '93', '96', '0', '0'],\n",
       " ['Grace', '14', 'HPE006', '94', '95', '96', '97', '0', '0'],\n",
       " ['Ankita', '14', 'CAP007', '99', '99', '99', '99', '0', '0'],\n",
       " ['John', '14', 'HPE008', '96', '93', '97', '95', '0', '0'],\n",
       " ['Chris', '14', 'HPE009', '94', '91', '93', '96', '0', '0'],\n",
       " ['Grace', '14', 'ORA006', '94', '95', '96', '97', '0', '0'],\n",
       " ['Ankita', '14', 'INF007', '99', '99', '99', '99', '0', '0']]"
      ]
     },
     "execution_count": 11,
     "metadata": {},
     "output_type": "execute_result"
    }
   ],
   "source": [
    "values=nested_data[1::]\n",
    "values"
   ]
  },
  {
   "cell_type": "code",
   "execution_count": 12,
   "id": "d8ce5a3f-b922-40eb-b870-2b95cbac71e0",
   "metadata": {},
   "outputs": [],
   "source": [
    "d1=dict(zip(keys,values))"
   ]
  },
  {
   "cell_type": "code",
   "execution_count": 13,
   "id": "478557ca-66c0-4597-a951-ff7528917915",
   "metadata": {},
   "outputs": [
    {
     "data": {
      "text/plain": [
       "{'name': ['Vijay', '14', 'HPE001', '99', '98', '97', '96', '0', '0'],\n",
       " 'age': ['Aryan', '14', 'HPE002', '98', '91', '93', '96', '0', '0'],\n",
       " 'regid': ['Muni', '14', 'HPE003', '97', '98', '97', '94', '0', '0'],\n",
       " 'phy': ['Abhi', '14', 'HPE004', '96', '93', '97', '95', '0', '0'],\n",
       " 'chem': ['Hemanth', '14', 'HPE005', '94', '91', '93', '96', '0', '0'],\n",
       " 'math': ['Grace', '14', 'HPE006', '94', '95', '96', '97', '0', '0'],\n",
       " 'bio': ['Ankita', '14', 'CAP007', '99', '99', '99', '99', '0', '0'],\n",
       " 'avg': ['John', '14', 'HPE008', '96', '93', '97', '95', '0', '0'],\n",
       " 'rank': ['Chris', '14', 'HPE009', '94', '91', '93', '96', '0', '0']}"
      ]
     },
     "execution_count": 13,
     "metadata": {},
     "output_type": "execute_result"
    }
   ],
   "source": [
    "d1"
   ]
  },
  {
   "cell_type": "code",
   "execution_count": 14,
   "id": "a8c42919-f9e6-439c-801d-0fd7fefd76d2",
   "metadata": {},
   "outputs": [],
   "source": [
    "class_dict = {}\n",
    "for i in values:\n",
    "    student_dict=dict(zip(keys,i))\n",
    "    class_dict[student_dict['regid']] = student_dict \n",
    "    \n",
    "    "
   ]
  },
  {
   "cell_type": "code",
   "execution_count": 15,
   "id": "6c48f6d1-f7fe-4871-ba45-6c0e45482598",
   "metadata": {},
   "outputs": [
    {
     "name": "stdout",
     "output_type": "stream",
     "text": [
      "{'HPE001': {'name': 'Vijay', 'age': '14', 'regid': 'HPE001', 'phy': '99', 'chem': '98', 'math': '97', 'bio': '96', 'avg': '0', 'rank': '0'}, 'HPE002': {'name': 'Aryan', 'age': '14', 'regid': 'HPE002', 'phy': '98', 'chem': '91', 'math': '93', 'bio': '96', 'avg': '0', 'rank': '0'}, 'HPE003': {'name': 'Muni', 'age': '14', 'regid': 'HPE003', 'phy': '97', 'chem': '98', 'math': '97', 'bio': '94', 'avg': '0', 'rank': '0'}, 'HPE004': {'name': 'Abhi', 'age': '14', 'regid': 'HPE004', 'phy': '96', 'chem': '93', 'math': '97', 'bio': '95', 'avg': '0', 'rank': '0'}, 'HPE005': {'name': 'Hemanth', 'age': '14', 'regid': 'HPE005', 'phy': '94', 'chem': '91', 'math': '93', 'bio': '96', 'avg': '0', 'rank': '0'}, 'HPE006': {'name': 'Grace', 'age': '14', 'regid': 'HPE006', 'phy': '94', 'chem': '95', 'math': '96', 'bio': '97', 'avg': '0', 'rank': '0'}, 'CAP007': {'name': 'Ankita', 'age': '14', 'regid': 'CAP007', 'phy': '99', 'chem': '99', 'math': '99', 'bio': '99', 'avg': '0', 'rank': '0'}, 'HPE008': {'name': 'John', 'age': '14', 'regid': 'HPE008', 'phy': '96', 'chem': '93', 'math': '97', 'bio': '95', 'avg': '0', 'rank': '0'}, 'HPE009': {'name': 'Chris', 'age': '14', 'regid': 'HPE009', 'phy': '94', 'chem': '91', 'math': '93', 'bio': '96', 'avg': '0', 'rank': '0'}, 'ORA006': {'name': 'Grace', 'age': '14', 'regid': 'ORA006', 'phy': '94', 'chem': '95', 'math': '96', 'bio': '97', 'avg': '0', 'rank': '0'}, 'INF007': {'name': 'Ankita', 'age': '14', 'regid': 'INF007', 'phy': '99', 'chem': '99', 'math': '99', 'bio': '99', 'avg': '0', 'rank': '0'}}\n"
     ]
    }
   ],
   "source": [
    "print(class_dict) "
   ]
  },
  {
   "cell_type": "code",
   "execution_count": 16,
   "id": "4c6e63af-41c5-4ab2-b634-7cec1c41b236",
   "metadata": {},
   "outputs": [
    {
     "name": "stdout",
     "output_type": "stream",
     "text": [
      "{'name': 'Ankita', 'age': '14', 'regid': 'INF007', 'phy': '99', 'chem': '99', 'math': '99', 'bio': '99', 'avg': '0', 'rank': '0'}\n"
     ]
    }
   ],
   "source": [
    "print(student_dict)"
   ]
  },
  {
   "cell_type": "code",
   "execution_count": null,
   "id": "f94eb7bc-677a-4966-9c02-b6e49bbfe48d",
   "metadata": {},
   "outputs": [],
   "source": [
    "print(student_dict)"
   ]
  },
  {
   "cell_type": "code",
   "execution_count": null,
   "id": "58eaff6a-bf4a-40ca-8d04-c2953f79dae7",
   "metadata": {},
   "outputs": [],
   "source": [
    "class_dict"
   ]
  },
  {
   "cell_type": "code",
   "execution_count": null,
   "id": "9e2bd4ad-bb8d-4773-8fac-b9038ec81cd1",
   "metadata": {},
   "outputs": [],
   "source": [
    "sub=[\"phy\",\"chem\",\"math\",\"bio\"]"
   ]
  },
  {
   "cell_type": "code",
   "execution_count": null,
   "id": "bbcfb39d-e863-4dab-8936-4636b5a1442e",
   "metadata": {},
   "outputs": [],
   "source": [
    "for i in class_dict.items():\n",
    "    print(i)"
   ]
  },
  {
   "cell_type": "code",
   "execution_count": 25,
   "id": "832803d7-6d07-42d6-b8fa-818abffe92a4",
   "metadata": {},
   "outputs": [
    {
     "ename": "TypeError",
     "evalue": "'int' object is not subscriptable",
     "output_type": "error",
     "traceback": [
      "\u001b[1;31m---------------------------------------------------------------------------\u001b[0m",
      "\u001b[1;31mTypeError\u001b[0m                                 Traceback (most recent call last)",
      "Cell \u001b[1;32mIn[25], line 2\u001b[0m\n\u001b[0;32m      1\u001b[0m \u001b[38;5;28;01mfor\u001b[39;00m i, j \u001b[38;5;129;01min\u001b[39;00m class_dict\u001b[38;5;241m.\u001b[39mitems():\n\u001b[1;32m----> 2\u001b[0m     total_marks \u001b[38;5;241m=\u001b[39m \u001b[38;5;28msum\u001b[39m(\u001b[38;5;28mint\u001b[39m(j[sub]) \u001b[38;5;28;01mfor\u001b[39;00m sub \u001b[38;5;129;01min\u001b[39;00m [\u001b[38;5;124m'\u001b[39m\u001b[38;5;124mphy\u001b[39m\u001b[38;5;124m'\u001b[39m, \u001b[38;5;124m'\u001b[39m\u001b[38;5;124mchem\u001b[39m\u001b[38;5;124m'\u001b[39m, \u001b[38;5;124m'\u001b[39m\u001b[38;5;124mmath\u001b[39m\u001b[38;5;124m'\u001b[39m, \u001b[38;5;124m'\u001b[39m\u001b[38;5;124mbio\u001b[39m\u001b[38;5;124m'\u001b[39m])\n\u001b[0;32m      3\u001b[0m     avg_marks \u001b[38;5;241m=\u001b[39m total_marks \u001b[38;5;241m/\u001b[39m \u001b[38;5;241m4\u001b[39m  \u001b[38;5;66;03m# Compute the average\u001b[39;00m\n\u001b[0;32m      5\u001b[0m     j[\u001b[38;5;124m'\u001b[39m\u001b[38;5;124mtotal\u001b[39m\u001b[38;5;124m'\u001b[39m] \u001b[38;5;241m=\u001b[39m total_marks  \u001b[38;5;66;03m# Store total marks in student dictionary\u001b[39;00m\n",
      "Cell \u001b[1;32mIn[25], line 2\u001b[0m, in \u001b[0;36m<genexpr>\u001b[1;34m(.0)\u001b[0m\n\u001b[0;32m      1\u001b[0m \u001b[38;5;28;01mfor\u001b[39;00m i, j \u001b[38;5;129;01min\u001b[39;00m class_dict\u001b[38;5;241m.\u001b[39mitems():\n\u001b[1;32m----> 2\u001b[0m     total_marks \u001b[38;5;241m=\u001b[39m \u001b[38;5;28msum\u001b[39m(\u001b[38;5;28mint\u001b[39m(j[sub]) \u001b[38;5;28;01mfor\u001b[39;00m sub \u001b[38;5;129;01min\u001b[39;00m [\u001b[38;5;124m'\u001b[39m\u001b[38;5;124mphy\u001b[39m\u001b[38;5;124m'\u001b[39m, \u001b[38;5;124m'\u001b[39m\u001b[38;5;124mchem\u001b[39m\u001b[38;5;124m'\u001b[39m, \u001b[38;5;124m'\u001b[39m\u001b[38;5;124mmath\u001b[39m\u001b[38;5;124m'\u001b[39m, \u001b[38;5;124m'\u001b[39m\u001b[38;5;124mbio\u001b[39m\u001b[38;5;124m'\u001b[39m])\n\u001b[0;32m      3\u001b[0m     avg_marks \u001b[38;5;241m=\u001b[39m total_marks \u001b[38;5;241m/\u001b[39m \u001b[38;5;241m4\u001b[39m  \u001b[38;5;66;03m# Compute the average\u001b[39;00m\n\u001b[0;32m      5\u001b[0m     j[\u001b[38;5;124m'\u001b[39m\u001b[38;5;124mtotal\u001b[39m\u001b[38;5;124m'\u001b[39m] \u001b[38;5;241m=\u001b[39m total_marks  \u001b[38;5;66;03m# Store total marks in student dictionary\u001b[39;00m\n",
      "\u001b[1;31mTypeError\u001b[0m: 'int' object is not subscriptable"
     ]
    }
   ],
   "source": [
    "for i, j in class_dict.items():\n",
    "    total_marks = sum(int(j[sub]) for sub in ['phy', 'chem', 'math', 'bio'])\n",
    "    avg_marks = total_marks / 4  # Compute the average\n",
    "    \n",
    "    j['total'] = total_marks  # Store total marks in student dictionary\n",
    "    j['avg'] = round(avg_marks, 2)  # Store average marks\n",
    "\n",
    "    # ❌ Don't do this! It corrupts the dictionary structure\n",
    "    # class_dict['total'] = j[\"total\"]\n",
    "\n",
    "# Now, class_dict correctly stores the total and average for each student\n",
    "print(class_dict)"
   ]
  },
  {
   "cell_type": "code",
   "execution_count": 24,
   "id": "b54e16a6-1cae-4554-b4f3-8930c38c2cbd",
   "metadata": {},
   "outputs": [
    {
     "ename": "RuntimeError",
     "evalue": "dictionary changed size during iteration",
     "output_type": "error",
     "traceback": [
      "\u001b[1;31m---------------------------------------------------------------------------\u001b[0m",
      "\u001b[1;31mRuntimeError\u001b[0m                              Traceback (most recent call last)",
      "Cell \u001b[1;32mIn[24], line 1\u001b[0m\n\u001b[1;32m----> 1\u001b[0m \u001b[38;5;28;01mfor\u001b[39;00m i ,j \u001b[38;5;129;01min\u001b[39;00m class_dict\u001b[38;5;241m.\u001b[39mitems():\n\u001b[0;32m      2\u001b[0m     total_marks \u001b[38;5;241m=\u001b[39m \u001b[38;5;28msum\u001b[39m(\u001b[38;5;28mint\u001b[39m(j[sub]) \u001b[38;5;28;01mfor\u001b[39;00m sub \u001b[38;5;129;01min\u001b[39;00m [\u001b[38;5;124m'\u001b[39m\u001b[38;5;124mphy\u001b[39m\u001b[38;5;124m'\u001b[39m, \u001b[38;5;124m'\u001b[39m\u001b[38;5;124mchem\u001b[39m\u001b[38;5;124m'\u001b[39m, \u001b[38;5;124m'\u001b[39m\u001b[38;5;124mmath\u001b[39m\u001b[38;5;124m'\u001b[39m, \u001b[38;5;124m'\u001b[39m\u001b[38;5;124mbio\u001b[39m\u001b[38;5;124m'\u001b[39m])\n\u001b[0;32m      3\u001b[0m     avg_marks \u001b[38;5;241m=\u001b[39m total_marks \u001b[38;5;241m/\u001b[39m \u001b[38;5;241m4\u001b[39m  \u001b[38;5;66;03m# Compute the average\u001b[39;00m\n",
      "\u001b[1;31mRuntimeError\u001b[0m: dictionary changed size during iteration"
     ]
    }
   ],
   "source": [
    "for i ,j in class_dict.items():\n",
    "    total_marks = sum(int(j[sub]) for sub in ['phy', 'chem', 'math', 'bio'])\n",
    "    avg_marks = total_marks / 4  # Compute the average\n",
    "    j['total'] = total_marks\n",
    "    j['avg'] = round(avg_marks, 2)\n",
    "    class_dict['total']=j[\"total\"]"
   ]
  },
  {
   "cell_type": "code",
   "execution_count": 22,
   "id": "293dd12c-7ac2-4096-a9a8-907b305b5d47",
   "metadata": {},
   "outputs": [
    {
     "name": "stdout",
     "output_type": "stream",
     "text": [
      "{'HPE001': {'name': 'Vijay', 'age': '14', 'regid': 'HPE001', 'phy': '99', 'chem': '98', 'math': '97', 'bio': '96', 'avg': '0', 'rank': '0'}, 'HPE002': {'name': 'Aryan', 'age': '14', 'regid': 'HPE002', 'phy': '98', 'chem': '91', 'math': '93', 'bio': '96', 'avg': '0', 'rank': '0'}, 'HPE003': {'name': 'Muni', 'age': '14', 'regid': 'HPE003', 'phy': '97', 'chem': '98', 'math': '97', 'bio': '94', 'avg': '0', 'rank': '0'}, 'HPE004': {'name': 'Abhi', 'age': '14', 'regid': 'HPE004', 'phy': '96', 'chem': '93', 'math': '97', 'bio': '95', 'avg': '0', 'rank': '0'}, 'HPE005': {'name': 'Hemanth', 'age': '14', 'regid': 'HPE005', 'phy': '94', 'chem': '91', 'math': '93', 'bio': '96', 'avg': '0', 'rank': '0'}, 'HPE006': {'name': 'Grace', 'age': '14', 'regid': 'HPE006', 'phy': '94', 'chem': '95', 'math': '96', 'bio': '97', 'avg': '0', 'rank': '0'}, 'CAP007': {'name': 'Ankita', 'age': '14', 'regid': 'CAP007', 'phy': '99', 'chem': '99', 'math': '99', 'bio': '99', 'avg': '0', 'rank': '0'}, 'HPE008': {'name': 'John', 'age': '14', 'regid': 'HPE008', 'phy': '96', 'chem': '93', 'math': '97', 'bio': '95', 'avg': '0', 'rank': '0'}, 'HPE009': {'name': 'Chris', 'age': '14', 'regid': 'HPE009', 'phy': '94', 'chem': '91', 'math': '93', 'bio': '96', 'avg': '0', 'rank': '0'}, 'ORA006': {'name': 'Grace', 'age': '14', 'regid': 'ORA006', 'phy': '94', 'chem': '95', 'math': '96', 'bio': '97', 'avg': '0', 'rank': '0'}, 'INF007': {'name': 'Ankita', 'age': '14', 'regid': 'INF007', 'phy': '99', 'chem': '99', 'math': '99', 'bio': '99', 'avg': '0', 'rank': '0'}}\n"
     ]
    }
   ],
   "source": [
    "print(class_dict)"
   ]
  },
  {
   "cell_type": "code",
   "execution_count": 21,
   "id": "cc03b4a7-e6ef-4474-a29b-476f5d97bd1f",
   "metadata": {},
   "outputs": [
    {
     "ename": "KeyError",
     "evalue": "'total'",
     "output_type": "error",
     "traceback": [
      "\u001b[1;31m---------------------------------------------------------------------------\u001b[0m",
      "\u001b[1;31mKeyError\u001b[0m                                  Traceback (most recent call last)",
      "Cell \u001b[1;32mIn[21], line 1\u001b[0m\n\u001b[1;32m----> 1\u001b[0m sorted_students \u001b[38;5;241m=\u001b[39m \u001b[38;5;28msorted\u001b[39m(class_dict\u001b[38;5;241m.\u001b[39mitems(), key\u001b[38;5;241m=\u001b[39m\u001b[38;5;28;01mlambda\u001b[39;00m x: x[\u001b[38;5;241m1\u001b[39m][\u001b[38;5;124m'\u001b[39m\u001b[38;5;124mtotal\u001b[39m\u001b[38;5;124m'\u001b[39m], reverse\u001b[38;5;241m=\u001b[39m\u001b[38;5;28;01mTrue\u001b[39;00m)\n\u001b[0;32m      2\u001b[0m sorted_students\n",
      "Cell \u001b[1;32mIn[21], line 1\u001b[0m, in \u001b[0;36m<lambda>\u001b[1;34m(x)\u001b[0m\n\u001b[1;32m----> 1\u001b[0m sorted_students \u001b[38;5;241m=\u001b[39m \u001b[38;5;28msorted\u001b[39m(class_dict\u001b[38;5;241m.\u001b[39mitems(), key\u001b[38;5;241m=\u001b[39m\u001b[38;5;28;01mlambda\u001b[39;00m x: x[\u001b[38;5;241m1\u001b[39m][\u001b[38;5;124m'\u001b[39m\u001b[38;5;124mtotal\u001b[39m\u001b[38;5;124m'\u001b[39m], reverse\u001b[38;5;241m=\u001b[39m\u001b[38;5;28;01mTrue\u001b[39;00m)\n\u001b[0;32m      2\u001b[0m sorted_students\n",
      "\u001b[1;31mKeyError\u001b[0m: 'total'"
     ]
    }
   ],
   "source": [
    "sorted_students = sorted(class_dict.items(), key=lambda x: x[1]['total'], reverse=True)\n",
    "sorted_students"
   ]
  },
  {
   "cell_type": "code",
   "execution_count": null,
   "id": "43dfabe7-778c-48a6-ac15-5ff8e27013a5",
   "metadata": {},
   "outputs": [],
   "source": [
    "sorted_students"
   ]
  },
  {
   "cell_type": "code",
   "execution_count": 20,
   "id": "a7784ae7-51fd-4095-b89a-87e5dc436e0d",
   "metadata": {},
   "outputs": [
    {
     "ename": "KeyError",
     "evalue": "'total'",
     "output_type": "error",
     "traceback": [
      "\u001b[1;31m---------------------------------------------------------------------------\u001b[0m",
      "\u001b[1;31mKeyError\u001b[0m                                  Traceback (most recent call last)",
      "Cell \u001b[1;32mIn[20], line 1\u001b[0m\n\u001b[1;32m----> 1\u001b[0m sorted_students \u001b[38;5;241m=\u001b[39m \u001b[38;5;28msorted\u001b[39m(class_dict\u001b[38;5;241m.\u001b[39mitems(), key\u001b[38;5;241m=\u001b[39m\u001b[38;5;28;01mlambda\u001b[39;00m x: x[\u001b[38;5;241m1\u001b[39m][\u001b[38;5;124m'\u001b[39m\u001b[38;5;124mtotal\u001b[39m\u001b[38;5;124m'\u001b[39m], reverse\u001b[38;5;241m=\u001b[39m\u001b[38;5;28;01mTrue\u001b[39;00m)\n\u001b[0;32m      2\u001b[0m rank \u001b[38;5;241m=\u001b[39m \u001b[38;5;241m1\u001b[39m\n\u001b[0;32m      3\u001b[0m prev_total \u001b[38;5;241m=\u001b[39m \u001b[38;5;28;01mNone\u001b[39;00m\n",
      "Cell \u001b[1;32mIn[20], line 1\u001b[0m, in \u001b[0;36m<lambda>\u001b[1;34m(x)\u001b[0m\n\u001b[1;32m----> 1\u001b[0m sorted_students \u001b[38;5;241m=\u001b[39m \u001b[38;5;28msorted\u001b[39m(class_dict\u001b[38;5;241m.\u001b[39mitems(), key\u001b[38;5;241m=\u001b[39m\u001b[38;5;28;01mlambda\u001b[39;00m x: x[\u001b[38;5;241m1\u001b[39m][\u001b[38;5;124m'\u001b[39m\u001b[38;5;124mtotal\u001b[39m\u001b[38;5;124m'\u001b[39m], reverse\u001b[38;5;241m=\u001b[39m\u001b[38;5;28;01mTrue\u001b[39;00m)\n\u001b[0;32m      2\u001b[0m rank \u001b[38;5;241m=\u001b[39m \u001b[38;5;241m1\u001b[39m\n\u001b[0;32m      3\u001b[0m prev_total \u001b[38;5;241m=\u001b[39m \u001b[38;5;28;01mNone\u001b[39;00m\n",
      "\u001b[1;31mKeyError\u001b[0m: 'total'"
     ]
    }
   ],
   "source": [
    "sorted_students = sorted(class_dict.items(), key=lambda x: x[1]['total'], reverse=True)\n",
    "rank = 1\n",
    "prev_total = None\n",
    "\n",
    "for index, (regid, student) in enumerate(sorted_students, start=1):\n",
    "    # If the current student's total marks differ from the previous, update the rank.\n",
    "    if student['total'] != prev_total:\n",
    "        rank = index\n",
    "    student['rank'] = rank\n",
    "    prev_total = student['total']\n",
    "\n",
    "# Step 4: Print the final dictionary with total, average, and rank.\n",
    "print(class_dict)\n"
   ]
  },
  {
   "cell_type": "code",
   "execution_count": 17,
   "id": "a2218352-fefe-416e-a906-7927fac82d48",
   "metadata": {},
   "outputs": [
    {
     "ename": "NameError",
     "evalue": "name 'sorted_students' is not defined",
     "output_type": "error",
     "traceback": [
      "\u001b[1;31m---------------------------------------------------------------------------\u001b[0m",
      "\u001b[1;31mNameError\u001b[0m                                 Traceback (most recent call last)",
      "Cell \u001b[1;32mIn[17], line 3\u001b[0m\n\u001b[0;32m      1\u001b[0m prev_total\u001b[38;5;241m=\u001b[39m\u001b[38;5;241m0\u001b[39m\n\u001b[0;32m      2\u001b[0m rank_counter\u001b[38;5;241m=\u001b[39m\u001b[38;5;241m0\u001b[39m\n\u001b[1;32m----> 3\u001b[0m \u001b[38;5;28;01mfor\u001b[39;00m index, (regid, student) \u001b[38;5;129;01min\u001b[39;00m \u001b[38;5;28menumerate\u001b[39m(sorted_students, start\u001b[38;5;241m=\u001b[39m\u001b[38;5;241m1\u001b[39m):\n\u001b[0;32m      4\u001b[0m     \u001b[38;5;28;01mif\u001b[39;00m student[\u001b[38;5;124m'\u001b[39m\u001b[38;5;124mtotal\u001b[39m\u001b[38;5;124m'\u001b[39m] \u001b[38;5;241m!=\u001b[39m prev_total:\n\u001b[0;32m      5\u001b[0m         rank \u001b[38;5;241m=\u001b[39m rank_counter  \u001b[38;5;66;03m# Assign the next available rank\u001b[39;00m\n",
      "\u001b[1;31mNameError\u001b[0m: name 'sorted_students' is not defined"
     ]
    }
   ],
   "source": [
    "prev_total=0\n",
    "rank_counter=0\n",
    "for index, (regid, student) in enumerate(sorted_students, start=1):\n",
    "    if student['total'] != prev_total:\n",
    "        rank = rank_counter  # Assign the next available rank\n",
    "    student['rank'] = rank\n",
    "    sorted_students['regid']['rank']=student['rank']    \n",
    "    prev_total = student['total']\n",
    "    rank_counter += 1  "
   ]
  },
  {
   "cell_type": "code",
   "execution_count": null,
   "id": "9c4fed70-9d00-4c21-a21b-c8b7e0b9f5c9",
   "metadata": {},
   "outputs": [],
   "source": [
    "sorted_students = sorted(class_dict.items(), key=lambda x: x[1]['total'], reverse=True)"
   ]
  },
  {
   "cell_type": "code",
   "execution_count": null,
   "id": "12455e8c-8d3c-4354-a4bc-2806d239dadc",
   "metadata": {},
   "outputs": [],
   "source": [
    "type(sorted_students)"
   ]
  },
  {
   "cell_type": "raw",
   "id": "6e67481e-5571-41aa-94d6-26fa7371baa8",
   "metadata": {},
   "source": [
    "prev_total = None\n",
    "rank = 0\n",
    "\n",
    "# Sorting students by total marks in descending order\n",
    "sorted_students = sorted(class_dict.items(), key=lambda x: x[1]['total'], reverse=True)\n",
    "\n",
    "for index, (regid, student) in enumerate(sorted_students, start=1):\n",
    "    if student['total'] != prev_total:  # Assign a new rank only when total changes\n",
    "        rank = index\n",
    "    \n",
    "    # ✅ Updating the rank in the original dictionary\n",
    "    class_dict[regid]['rank'] = rank  \n",
    "\n",
    "    prev_total = student['total']  # Update previous total\n",
    "\n"
   ]
  },
  {
   "cell_type": "raw",
   "id": "03e99ae9-33c8-44a1-b0b8-2023b93ee9c9",
   "metadata": {},
   "source": [
    "prev_total = None\n",
    "rank = 0\n",
    "\n",
    "# Sort students based on 'total' marks in descending order\n",
    "sorted_students = sorted(class_dict.items(), key=lambda x: x[1]['total'], reverse=True)\n",
    "\n",
    "for index, (regid, student) in enumerate(sorted_students, start=1):\n",
    "    if student['total'] != prev_total:  # Assign a new rank only when total changes\n",
    "        rank = index\n",
    "\n",
    "    # ✅ Update the rank in the original dictionary\n",
    "    class_dict[regid]['rank'] = rank  \n",
    "\n",
    "    prev_total = student['total']  # Update previous total\n"
   ]
  },
  {
   "cell_type": "raw",
   "id": "a634b582-c8b2-43fe-8c01-b912934b7b0a",
   "metadata": {},
   "source": [
    "# Sort by 'total' marks in descending order\n",
    "sorted_items = sorted(class_dict.items(), key=lambda x: x[1]['total'], reverse=True)\n",
    "\n",
    "# Update rank while rebuilding class_dict\n",
    "rank = 0  \n",
    "prev_total = None\n",
    "class_dict = {}  # Rebuild dictionary\n",
    "\n",
    "for regid, student in sorted_items:\n",
    "    # Assign rank\n",
    "    if student['total'] != prev_total:\n",
    "        rank += 1\n",
    "    student['rank'] = rank  \n",
    "    prev_total = student['total']\n",
    "    \n",
    "    # Insert into the new dictionary in sorted order\n",
    "    class_dict[regid] = student  \n",
    "\n",
    "# Print updated dictionary\n",
    "print(class_dict)\n"
   ]
  },
  {
   "cell_type": "code",
   "execution_count": 19,
   "id": "2ddd13ea-61c9-47c9-83d1-36263809d304",
   "metadata": {},
   "outputs": [
    {
     "ename": "KeyError",
     "evalue": "'total'",
     "output_type": "error",
     "traceback": [
      "\u001b[1;31m---------------------------------------------------------------------------\u001b[0m",
      "\u001b[1;31mKeyError\u001b[0m                                  Traceback (most recent call last)",
      "Cell \u001b[1;32mIn[19], line 2\u001b[0m\n\u001b[0;32m      1\u001b[0m \u001b[38;5;66;03m# Sort by 'total' in descending order\u001b[39;00m\n\u001b[1;32m----> 2\u001b[0m sorted_items \u001b[38;5;241m=\u001b[39m \u001b[38;5;28msorted\u001b[39m(class_dict\u001b[38;5;241m.\u001b[39mitems(), key\u001b[38;5;241m=\u001b[39m\u001b[38;5;28;01mlambda\u001b[39;00m x: x[\u001b[38;5;241m1\u001b[39m][\u001b[38;5;124m'\u001b[39m\u001b[38;5;124mtotal\u001b[39m\u001b[38;5;124m'\u001b[39m], reverse\u001b[38;5;241m=\u001b[39m\u001b[38;5;28;01mTrue\u001b[39;00m)\n\u001b[0;32m      4\u001b[0m \u001b[38;5;66;03m# Rebuild dictionary while assigning rank\u001b[39;00m\n\u001b[0;32m      5\u001b[0m class_dict \u001b[38;5;241m=\u001b[39m {}  \u001b[38;5;66;03m# Rebuild the dictionary\u001b[39;00m\n",
      "Cell \u001b[1;32mIn[19], line 2\u001b[0m, in \u001b[0;36m<lambda>\u001b[1;34m(x)\u001b[0m\n\u001b[0;32m      1\u001b[0m \u001b[38;5;66;03m# Sort by 'total' in descending order\u001b[39;00m\n\u001b[1;32m----> 2\u001b[0m sorted_items \u001b[38;5;241m=\u001b[39m \u001b[38;5;28msorted\u001b[39m(class_dict\u001b[38;5;241m.\u001b[39mitems(), key\u001b[38;5;241m=\u001b[39m\u001b[38;5;28;01mlambda\u001b[39;00m x: x[\u001b[38;5;241m1\u001b[39m][\u001b[38;5;124m'\u001b[39m\u001b[38;5;124mtotal\u001b[39m\u001b[38;5;124m'\u001b[39m], reverse\u001b[38;5;241m=\u001b[39m\u001b[38;5;28;01mTrue\u001b[39;00m)\n\u001b[0;32m      4\u001b[0m \u001b[38;5;66;03m# Rebuild dictionary while assigning rank\u001b[39;00m\n\u001b[0;32m      5\u001b[0m class_dict \u001b[38;5;241m=\u001b[39m {}  \u001b[38;5;66;03m# Rebuild the dictionary\u001b[39;00m\n",
      "\u001b[1;31mKeyError\u001b[0m: 'total'"
     ]
    }
   ],
   "source": [
    "# Sort by 'total' in descending order\n",
    "sorted_items = sorted(class_dict.items(), key=lambda x: x[1]['total'], reverse=True)\n",
    "\n",
    "# Rebuild dictionary while assigning rank\n",
    "class_dict = {}  # Rebuild the dictionary\n",
    "\n",
    "prev_total = None\n",
    "rank = 0\n",
    "\n",
    "for index, (regid, student) in enumerate(sorted_items, start=1):\n",
    "    # Assign the same rank if the total marks are the same\n",
    "    if student['total'] != prev_total:\n",
    "        rank = index  # Assign rank based on index when marks change\n",
    "    \n",
    "    student['rank'] = rank\n",
    "    prev_total = student['total']  # Store previous total marks\n",
    "\n",
    "    # Insert into the new dictionary in sorted order\n",
    "    class_dict[regid] = student  \n",
    "\n",
    "# Print updated dictionary\n",
    "print(class_dict)\n"
   ]
  },
  {
   "cell_type": "code",
   "execution_count": null,
   "id": "f8a9e552-8e63-4ab0-91f0-905da5af4f0e",
   "metadata": {},
   "outputs": [],
   "source": [
    "print(sorted_students)"
   ]
  },
  {
   "cell_type": "code",
   "execution_count": null,
   "id": "6cb20161-c140-446e-9fd9-aee11f91b4e0",
   "metadata": {},
   "outputs": [],
   "source": [
    "print(class_dict)"
   ]
  },
  {
   "cell_type": "code",
   "execution_count": null,
   "id": "d37b0466-f657-4a70-b7d9-0fec77cd3f2d",
   "metadata": {},
   "outputs": [],
   "source": [
    "#class_dict=sorted_students"
   ]
  },
  {
   "cell_type": "code",
   "execution_count": null,
   "id": "5d555563-10e1-4abc-b4c3-4e612e749cb5",
   "metadata": {},
   "outputs": [],
   "source": [
    "class_dict"
   ]
  },
  {
   "cell_type": "code",
   "execution_count": null,
   "id": "2e8cab1b-0cdf-4ac4-a20c-a57481ac78c6",
   "metadata": {},
   "outputs": [],
   "source": [
    "type(class_dict)"
   ]
  },
  {
   "cell_type": "code",
   "execution_count": null,
   "id": "0b833375-fa0d-44ba-94ac-d1eec6d451b2",
   "metadata": {},
   "outputs": [],
   "source": [
    "for index, (regid, student) in enumerate(sorted_students, start=1):\n",
    "    print(index, (regid, student))"
   ]
  },
  {
   "cell_type": "code",
   "execution_count": null,
   "id": "c26436bd-1ae9-4e03-922e-229051d06433",
   "metadata": {},
   "outputs": [],
   "source": [
    "import pandas as pd"
   ]
  },
  {
   "cell_type": "code",
   "execution_count": null,
   "id": "5c6fbcb1-b896-450f-b16d-892259f0e8af",
   "metadata": {},
   "outputs": [],
   "source": [
    "df=pd.DataFrame.from_dict(class_dict, orient='index')"
   ]
  },
  {
   "cell_type": "code",
   "execution_count": null,
   "id": "c2aa2df4-2456-411b-985f-24bba133612b",
   "metadata": {},
   "outputs": [],
   "source": [
    "df"
   ]
  },
  {
   "cell_type": "code",
   "execution_count": null,
   "id": "8b016841-442f-4d4d-ab16-dcb3ce280120",
   "metadata": {},
   "outputs": [],
   "source": [
    "template = \"{0:8} | {1:15} | {2:5} | {3:5} | {4:5} | {5:5} | {6:5} | {7:5} | {8:5}\"\n",
    "line = '-'*90\n",
    " \n",
    "print(\"\\nCLASS REPORT\")\n",
    "print(line)\n",
    "print(template.format('REGID', 'NAME', 'AGE', 'PHY', 'CHEM', 'MATH', 'BIO', 'AVG', 'RANK'))\n",
    "print(line)\n",
    "for regid in class_dict.keys():\n",
    "    name = class_dict[regid]['name']\n",
    "    id = class_dict[regid]['regid']\n",
    "    age = class_dict[regid]['age']\n",
    "    phy = class_dict[regid]['phy']\n",
    "    chem = class_dict[regid]['chem']\n",
    "    math = class_dict[regid]['math']\n",
    "    bio = class_dict[regid]['bio']\n",
    "    avg = class_dict[regid]['avg']\n",
    "    rank = class_dict[regid]['rank']\n",
    "    print(template.format(id, name, age, phy, chem, math, bio, avg, rank))\n",
    "print(line)"
   ]
  },
  {
   "cell_type": "code",
   "execution_count": null,
   "id": "579c64b0-f0ff-48f2-a352-b469dee08448",
   "metadata": {},
   "outputs": [],
   "source": []
  },
  {
   "cell_type": "code",
   "execution_count": 26,
   "id": "4ddd9d95-88de-4afc-bc5f-7bbe5f80cb3e",
   "metadata": {},
   "outputs": [
    {
     "ename": "TypeError",
     "evalue": "unsupported operand type(s) for +: 'int' and 'str'",
     "output_type": "error",
     "traceback": [
      "\u001b[1;31m---------------------------------------------------------------------------\u001b[0m",
      "\u001b[1;31mTypeError\u001b[0m                                 Traceback (most recent call last)",
      "Cell \u001b[1;32mIn[26], line 7\u001b[0m\n\u001b[0;32m      3\u001b[0m \u001b[38;5;66;03m# Sample data dictionary (should be built from your nested_data list)\u001b[39;00m\n\u001b[0;32m      4\u001b[0m \u001b[38;5;66;03m#class_dict \u001b[39;00m\n\u001b[0;32m      5\u001b[0m \u001b[38;5;66;03m# Step 1: Compute total and average for each student\u001b[39;00m\n\u001b[0;32m      6\u001b[0m \u001b[38;5;28;01mfor\u001b[39;00m i, j \u001b[38;5;129;01min\u001b[39;00m class_dict\u001b[38;5;241m.\u001b[39mitems():\n\u001b[1;32m----> 7\u001b[0m     total_marks \u001b[38;5;241m=\u001b[39m \u001b[38;5;28msum\u001b[39m(j[sub] \u001b[38;5;28;01mfor\u001b[39;00m sub \u001b[38;5;129;01min\u001b[39;00m [\u001b[38;5;124m'\u001b[39m\u001b[38;5;124mphy\u001b[39m\u001b[38;5;124m'\u001b[39m, \u001b[38;5;124m'\u001b[39m\u001b[38;5;124mchem\u001b[39m\u001b[38;5;124m'\u001b[39m, \u001b[38;5;124m'\u001b[39m\u001b[38;5;124mmath\u001b[39m\u001b[38;5;124m'\u001b[39m, \u001b[38;5;124m'\u001b[39m\u001b[38;5;124mbio\u001b[39m\u001b[38;5;124m'\u001b[39m])\n\u001b[0;32m      8\u001b[0m     avg_marks \u001b[38;5;241m=\u001b[39m total_marks \u001b[38;5;241m/\u001b[39m \u001b[38;5;241m4\u001b[39m\n\u001b[0;32m     10\u001b[0m     j[\u001b[38;5;124m'\u001b[39m\u001b[38;5;124mtotal\u001b[39m\u001b[38;5;124m'\u001b[39m] \u001b[38;5;241m=\u001b[39m total_marks\n",
      "\u001b[1;31mTypeError\u001b[0m: unsupported operand type(s) for +: 'int' and 'str'"
     ]
    }
   ],
   "source": [
    "import json\n",
    "\n",
    "# Sample data dictionary (should be built from your nested_data list)\n",
    "#class_dict \n",
    "# Step 1: Compute total and average for each student\n",
    "for i, j in class_dict.items():\n",
    "    total_marks = sum(j[sub] for sub in ['phy', 'chem', 'math', 'bio'])\n",
    "    avg_marks = total_marks / 4\n",
    "    \n",
    "    j['total'] = total_marks\n",
    "    j['avg'] = round(avg_marks, 2)\n",
    "\n",
    "# Step 2: Sort students by total marks (descending)\n",
    "sorted_students = sorted(class_dict.items(), key=lambda x: x[1]['total'], reverse=True)\n",
    "\n",
    "# Step 3: Assign ranks with ties considered\n",
    "rank = 1\n",
    "prev_total = None\n",
    "\n",
    "for index, (regid, student) in enumerate(sorted_students, start=1):\n",
    "    if student['total'] != prev_total:\n",
    "        rank = index  # Assign the current index as rank if marks change\n",
    "    \n",
    "    student['rank'] = rank\n",
    "    prev_total = student['total']\n",
    "\n",
    "# Convert to JSON format for better readability\n",
    "#json_output = json.dumps(class_dict, indent=4)\n",
    "print(json_output)\n"
   ]
  },
  {
   "cell_type": "code",
   "execution_count": 27,
   "id": "cfdea2ac-4ba5-46ae-bb3b-8946bbe74130",
   "metadata": {},
   "outputs": [
    {
     "name": "stdout",
     "output_type": "stream",
     "text": [
      "Vijay (HPE001): Total=390, Avg=97.50, Rank=3\n",
      "Aryan (HPE002): Total=378, Avg=94.50, Rank=9\n",
      "Muni (HPE003): Total=386, Avg=96.50, Rank=4\n",
      "Abhi (HPE004): Total=381, Avg=95.25, Rank=7\n",
      "Hemanth (HPE005): Total=374, Avg=93.50, Rank=10\n",
      "Grace (HPE006): Total=382, Avg=95.50, Rank=5\n",
      "Ankita (CAP007): Total=396, Avg=99.00, Rank=1\n",
      "John (HPE008): Total=381, Avg=95.25, Rank=7\n",
      "Chris (HPE009): Total=374, Avg=93.50, Rank=10\n",
      "Grace (ORA006): Total=382, Avg=95.50, Rank=5\n",
      "Ankita (INF007): Total=396, Avg=99.00, Rank=1\n"
     ]
    }
   ],
   "source": [
    "# Sample data\n",
    "c = [\n",
    "    'name,age,regid,phy,chem,math,bio,avg,rank',\n",
    "    'Vijay,14,HPE001,99,98,97,96,0,0',\n",
    "    'Aryan,14,HPE002,98,91,93,96,0,0',\n",
    "    'Muni,14,HPE003,97,98,97,94,0,0',\n",
    "    'Abhi,14,HPE004,96,93,97,95,0,0',\n",
    "    'Hemanth,14,HPE005,94,91,93,96,0,0',\n",
    "    'Grace,14,HPE006,94,95,96,97,0,0',\n",
    "    'Ankita,14,CAP007,99,99,99,99,0,0',\n",
    "    'John,14,HPE008,96,93,97,95,0,0',\n",
    "    'Chris,14,HPE009,94,91,93,96,0,0',\n",
    "    'Grace,14,ORA006,94,95,96,97,0,0',\n",
    "    'Ankita,14,INF007,99,99,99,99,0,0'\n",
    "]\n",
    "\n",
    "# Convert data into a nested list\n",
    "nested_data = [row.split(\",\") for row in c]\n",
    "\n",
    "# Extract headers and values\n",
    "keys = nested_data[0]  # ['name', 'age', 'regid', 'phy', 'chem', 'math', 'bio', 'avg', 'rank']\n",
    "values = nested_data[1:]  # All student data\n",
    "\n",
    "# Creating dictionary for students\n",
    "class_dict = {}\n",
    "\n",
    "for i in values:\n",
    "    student_dict = dict(zip(keys, i))  # Create a dictionary from student data\n",
    "    student_dict['phy'] = int(student_dict['phy'])\n",
    "    student_dict['chem'] = int(student_dict['chem'])\n",
    "    student_dict['math'] = int(student_dict['math'])\n",
    "    student_dict['bio'] = int(student_dict['bio'])\n",
    "\n",
    "    # Compute total and average\n",
    "    student_dict['total'] = student_dict['phy'] + student_dict['chem'] + student_dict['math'] + student_dict['bio']\n",
    "    student_dict['avg'] = student_dict['total'] / 4\n",
    "\n",
    "    class_dict[student_dict['regid']] = student_dict\n",
    "\n",
    "# Sorting based on total marks in descending order\n",
    "sorted_students = sorted(class_dict.items(), key=lambda x: x[1]['total'], reverse=True)\n",
    "\n",
    "# Assign ranks\n",
    "rank = 1\n",
    "prev_total = None\n",
    "\n",
    "for index, (regid, student) in enumerate(sorted_students, start=1):\n",
    "    if student['total'] != prev_total:\n",
    "        rank = index\n",
    "    student['rank'] = rank\n",
    "    prev_total = student['total']\n",
    "\n",
    "# Print final dictionary with total, average, and rank\n",
    "for regid, student in class_dict.items():\n",
    "    print(f\"{student['name']} ({student['regid']}): Total={student['total']}, Avg={student['avg']:.2f}, Rank={student['rank']}\")\n"
   ]
  },
  {
   "cell_type": "code",
   "execution_count": 28,
   "id": "745418bc-fb36-4c9a-863b-8378011add26",
   "metadata": {},
   "outputs": [
    {
     "data": {
      "text/plain": [
       "{'HPE001': {'name': 'Vijay',\n",
       "  'age': '14',\n",
       "  'regid': 'HPE001',\n",
       "  'phy': 99,\n",
       "  'chem': 98,\n",
       "  'math': 97,\n",
       "  'bio': 96,\n",
       "  'avg': 97.5,\n",
       "  'rank': 3,\n",
       "  'total': 390},\n",
       " 'HPE002': {'name': 'Aryan',\n",
       "  'age': '14',\n",
       "  'regid': 'HPE002',\n",
       "  'phy': 98,\n",
       "  'chem': 91,\n",
       "  'math': 93,\n",
       "  'bio': 96,\n",
       "  'avg': 94.5,\n",
       "  'rank': 9,\n",
       "  'total': 378},\n",
       " 'HPE003': {'name': 'Muni',\n",
       "  'age': '14',\n",
       "  'regid': 'HPE003',\n",
       "  'phy': 97,\n",
       "  'chem': 98,\n",
       "  'math': 97,\n",
       "  'bio': 94,\n",
       "  'avg': 96.5,\n",
       "  'rank': 4,\n",
       "  'total': 386},\n",
       " 'HPE004': {'name': 'Abhi',\n",
       "  'age': '14',\n",
       "  'regid': 'HPE004',\n",
       "  'phy': 96,\n",
       "  'chem': 93,\n",
       "  'math': 97,\n",
       "  'bio': 95,\n",
       "  'avg': 95.25,\n",
       "  'rank': 7,\n",
       "  'total': 381},\n",
       " 'HPE005': {'name': 'Hemanth',\n",
       "  'age': '14',\n",
       "  'regid': 'HPE005',\n",
       "  'phy': 94,\n",
       "  'chem': 91,\n",
       "  'math': 93,\n",
       "  'bio': 96,\n",
       "  'avg': 93.5,\n",
       "  'rank': 10,\n",
       "  'total': 374},\n",
       " 'HPE006': {'name': 'Grace',\n",
       "  'age': '14',\n",
       "  'regid': 'HPE006',\n",
       "  'phy': 94,\n",
       "  'chem': 95,\n",
       "  'math': 96,\n",
       "  'bio': 97,\n",
       "  'avg': 95.5,\n",
       "  'rank': 5,\n",
       "  'total': 382},\n",
       " 'CAP007': {'name': 'Ankita',\n",
       "  'age': '14',\n",
       "  'regid': 'CAP007',\n",
       "  'phy': 99,\n",
       "  'chem': 99,\n",
       "  'math': 99,\n",
       "  'bio': 99,\n",
       "  'avg': 99.0,\n",
       "  'rank': 1,\n",
       "  'total': 396},\n",
       " 'HPE008': {'name': 'John',\n",
       "  'age': '14',\n",
       "  'regid': 'HPE008',\n",
       "  'phy': 96,\n",
       "  'chem': 93,\n",
       "  'math': 97,\n",
       "  'bio': 95,\n",
       "  'avg': 95.25,\n",
       "  'rank': 7,\n",
       "  'total': 381},\n",
       " 'HPE009': {'name': 'Chris',\n",
       "  'age': '14',\n",
       "  'regid': 'HPE009',\n",
       "  'phy': 94,\n",
       "  'chem': 91,\n",
       "  'math': 93,\n",
       "  'bio': 96,\n",
       "  'avg': 93.5,\n",
       "  'rank': 10,\n",
       "  'total': 374},\n",
       " 'ORA006': {'name': 'Grace',\n",
       "  'age': '14',\n",
       "  'regid': 'ORA006',\n",
       "  'phy': 94,\n",
       "  'chem': 95,\n",
       "  'math': 96,\n",
       "  'bio': 97,\n",
       "  'avg': 95.5,\n",
       "  'rank': 5,\n",
       "  'total': 382},\n",
       " 'INF007': {'name': 'Ankita',\n",
       "  'age': '14',\n",
       "  'regid': 'INF007',\n",
       "  'phy': 99,\n",
       "  'chem': 99,\n",
       "  'math': 99,\n",
       "  'bio': 99,\n",
       "  'avg': 99.0,\n",
       "  'rank': 1,\n",
       "  'total': 396}}"
      ]
     },
     "execution_count": 28,
     "metadata": {},
     "output_type": "execute_result"
    }
   ],
   "source": [
    "class_dict\n"
   ]
  },
  {
   "cell_type": "code",
   "execution_count": 29,
   "id": "2a048929-6b6a-4c87-8197-72435fc5ae9e",
   "metadata": {},
   "outputs": [
    {
     "name": "stdout",
     "output_type": "stream",
     "text": [
      "CAP007 {'name': 'Ankita', 'age': '14', 'regid': 'CAP007', 'phy': 99, 'chem': 99, 'math': 99, 'bio': 99, 'avg': 99.0, 'rank': 1, 'total': 396}\n",
      "INF007 {'name': 'Ankita', 'age': '14', 'regid': 'INF007', 'phy': 99, 'chem': 99, 'math': 99, 'bio': 99, 'avg': 99.0, 'rank': 1, 'total': 396}\n",
      "HPE001 {'name': 'Vijay', 'age': '14', 'regid': 'HPE001', 'phy': 99, 'chem': 98, 'math': 97, 'bio': 96, 'avg': 97.5, 'rank': 3, 'total': 390}\n",
      "HPE003 {'name': 'Muni', 'age': '14', 'regid': 'HPE003', 'phy': 97, 'chem': 98, 'math': 97, 'bio': 94, 'avg': 96.5, 'rank': 4, 'total': 386}\n",
      "HPE006 {'name': 'Grace', 'age': '14', 'regid': 'HPE006', 'phy': 94, 'chem': 95, 'math': 96, 'bio': 97, 'avg': 95.5, 'rank': 5, 'total': 382}\n",
      "ORA006 {'name': 'Grace', 'age': '14', 'regid': 'ORA006', 'phy': 94, 'chem': 95, 'math': 96, 'bio': 97, 'avg': 95.5, 'rank': 5, 'total': 382}\n",
      "HPE004 {'name': 'Abhi', 'age': '14', 'regid': 'HPE004', 'phy': 96, 'chem': 93, 'math': 97, 'bio': 95, 'avg': 95.25, 'rank': 7, 'total': 381}\n",
      "HPE008 {'name': 'John', 'age': '14', 'regid': 'HPE008', 'phy': 96, 'chem': 93, 'math': 97, 'bio': 95, 'avg': 95.25, 'rank': 7, 'total': 381}\n",
      "HPE002 {'name': 'Aryan', 'age': '14', 'regid': 'HPE002', 'phy': 98, 'chem': 91, 'math': 93, 'bio': 96, 'avg': 94.5, 'rank': 9, 'total': 378}\n",
      "HPE005 {'name': 'Hemanth', 'age': '14', 'regid': 'HPE005', 'phy': 94, 'chem': 91, 'math': 93, 'bio': 96, 'avg': 93.5, 'rank': 10, 'total': 374}\n",
      "HPE009 {'name': 'Chris', 'age': '14', 'regid': 'HPE009', 'phy': 94, 'chem': 91, 'math': 93, 'bio': 96, 'avg': 93.5, 'rank': 10, 'total': 374}\n"
     ]
    }
   ],
   "source": [
    "students = {\n",
    "    'HPE001': {'name': 'Vijay', 'age': '14', 'regid': 'HPE001', 'phy': 99, 'chem': 98, 'math': 97, 'bio': 96, 'avg': 97.5, 'rank': 3, 'total': 390},\n",
    "    'HPE002': {'name': 'Aryan', 'age': '14', 'regid': 'HPE002', 'phy': 98, 'chem': 91, 'math': 93, 'bio': 96, 'avg': 94.5, 'rank': 9, 'total': 378},\n",
    "    'HPE003': {'name': 'Muni', 'age': '14', 'regid': 'HPE003', 'phy': 97, 'chem': 98, 'math': 97, 'bio': 94, 'avg': 96.5, 'rank': 4, 'total': 386},\n",
    "    'HPE004': {'name': 'Abhi', 'age': '14', 'regid': 'HPE004', 'phy': 96, 'chem': 93, 'math': 97, 'bio': 95, 'avg': 95.25, 'rank': 7, 'total': 381},\n",
    "    'HPE005': {'name': 'Hemanth', 'age': '14', 'regid': 'HPE005', 'phy': 94, 'chem': 91, 'math': 93, 'bio': 96, 'avg': 93.5, 'rank': 10, 'total': 374},\n",
    "    'HPE006': {'name': 'Grace', 'age': '14', 'regid': 'HPE006', 'phy': 94, 'chem': 95, 'math': 96, 'bio': 97, 'avg': 95.5, 'rank': 5, 'total': 382},\n",
    "    'CAP007': {'name': 'Ankita', 'age': '14', 'regid': 'CAP007', 'phy': 99, 'chem': 99, 'math': 99, 'bio': 99, 'avg': 99.0, 'rank': 1, 'total': 396},\n",
    "    'HPE008': {'name': 'John', 'age': '14', 'regid': 'HPE008', 'phy': 96, 'chem': 93, 'math': 97, 'bio': 95, 'avg': 95.25, 'rank': 7, 'total': 381},\n",
    "    'HPE009': {'name': 'Chris', 'age': '14', 'regid': 'HPE009', 'phy': 94, 'chem': 91, 'math': 93, 'bio': 96, 'avg': 93.5, 'rank': 10, 'total': 374},\n",
    "    'ORA006': {'name': 'Grace', 'age': '14', 'regid': 'ORA006', 'phy': 94, 'chem': 95, 'math': 96, 'bio': 97, 'avg': 95.5, 'rank': 5, 'total': 382},\n",
    "    'INF007': {'name': 'Ankita', 'age': '14', 'regid': 'INF007', 'phy': 99, 'chem': 99, 'math': 99, 'bio': 99, 'avg': 99.0, 'rank': 1, 'total': 396}\n",
    "}\n",
    "\n",
    "# Sorting logic: Ankita first, then others by rank\n",
    "sorted_students = {\n",
    "    k: v for k, v in sorted(students.items(), key=lambda item: (item[1]['name'] != 'Ankita', item[1]['rank']))\n",
    "}\n",
    "\n",
    "# Printing sorted dictionary\n",
    "for regid, details in sorted_students.items():\n",
    "    print(regid, details)\n"
   ]
  },
  {
   "cell_type": "code",
   "execution_count": 30,
   "id": "6919e71b-28ab-4aed-bdd5-155eff7b2bf1",
   "metadata": {},
   "outputs": [
    {
     "data": {
      "text/plain": [
       "{'HPE001': {'name': 'Vijay',\n",
       "  'age': '14',\n",
       "  'regid': 'HPE001',\n",
       "  'phy': 99,\n",
       "  'chem': 98,\n",
       "  'math': 97,\n",
       "  'bio': 96,\n",
       "  'avg': 97.5,\n",
       "  'rank': 3,\n",
       "  'total': 390},\n",
       " 'HPE002': {'name': 'Aryan',\n",
       "  'age': '14',\n",
       "  'regid': 'HPE002',\n",
       "  'phy': 98,\n",
       "  'chem': 91,\n",
       "  'math': 93,\n",
       "  'bio': 96,\n",
       "  'avg': 94.5,\n",
       "  'rank': 9,\n",
       "  'total': 378},\n",
       " 'HPE003': {'name': 'Muni',\n",
       "  'age': '14',\n",
       "  'regid': 'HPE003',\n",
       "  'phy': 97,\n",
       "  'chem': 98,\n",
       "  'math': 97,\n",
       "  'bio': 94,\n",
       "  'avg': 96.5,\n",
       "  'rank': 4,\n",
       "  'total': 386},\n",
       " 'HPE004': {'name': 'Abhi',\n",
       "  'age': '14',\n",
       "  'regid': 'HPE004',\n",
       "  'phy': 96,\n",
       "  'chem': 93,\n",
       "  'math': 97,\n",
       "  'bio': 95,\n",
       "  'avg': 95.25,\n",
       "  'rank': 7,\n",
       "  'total': 381},\n",
       " 'HPE005': {'name': 'Hemanth',\n",
       "  'age': '14',\n",
       "  'regid': 'HPE005',\n",
       "  'phy': 94,\n",
       "  'chem': 91,\n",
       "  'math': 93,\n",
       "  'bio': 96,\n",
       "  'avg': 93.5,\n",
       "  'rank': 10,\n",
       "  'total': 374},\n",
       " 'HPE006': {'name': 'Grace',\n",
       "  'age': '14',\n",
       "  'regid': 'HPE006',\n",
       "  'phy': 94,\n",
       "  'chem': 95,\n",
       "  'math': 96,\n",
       "  'bio': 97,\n",
       "  'avg': 95.5,\n",
       "  'rank': 5,\n",
       "  'total': 382},\n",
       " 'CAP007': {'name': 'Ankita',\n",
       "  'age': '14',\n",
       "  'regid': 'CAP007',\n",
       "  'phy': 99,\n",
       "  'chem': 99,\n",
       "  'math': 99,\n",
       "  'bio': 99,\n",
       "  'avg': 99.0,\n",
       "  'rank': 1,\n",
       "  'total': 396},\n",
       " 'HPE008': {'name': 'John',\n",
       "  'age': '14',\n",
       "  'regid': 'HPE008',\n",
       "  'phy': 96,\n",
       "  'chem': 93,\n",
       "  'math': 97,\n",
       "  'bio': 95,\n",
       "  'avg': 95.25,\n",
       "  'rank': 7,\n",
       "  'total': 381},\n",
       " 'HPE009': {'name': 'Chris',\n",
       "  'age': '14',\n",
       "  'regid': 'HPE009',\n",
       "  'phy': 94,\n",
       "  'chem': 91,\n",
       "  'math': 93,\n",
       "  'bio': 96,\n",
       "  'avg': 93.5,\n",
       "  'rank': 10,\n",
       "  'total': 374},\n",
       " 'ORA006': {'name': 'Grace',\n",
       "  'age': '14',\n",
       "  'regid': 'ORA006',\n",
       "  'phy': 94,\n",
       "  'chem': 95,\n",
       "  'math': 96,\n",
       "  'bio': 97,\n",
       "  'avg': 95.5,\n",
       "  'rank': 5,\n",
       "  'total': 382},\n",
       " 'INF007': {'name': 'Ankita',\n",
       "  'age': '14',\n",
       "  'regid': 'INF007',\n",
       "  'phy': 99,\n",
       "  'chem': 99,\n",
       "  'math': 99,\n",
       "  'bio': 99,\n",
       "  'avg': 99.0,\n",
       "  'rank': 1,\n",
       "  'total': 396}}"
      ]
     },
     "execution_count": 30,
     "metadata": {},
     "output_type": "execute_result"
    }
   ],
   "source": [
    "class_dict"
   ]
  },
  {
   "cell_type": "code",
   "execution_count": 31,
   "id": "0de10842-6437-4cc4-aa37-e153c3a0d108",
   "metadata": {},
   "outputs": [
    {
     "name": "stdout",
     "output_type": "stream",
     "text": [
      "{'CAP007': {'name': 'Ankita', 'age': '14', 'regid': 'CAP007', 'phy': 99, 'chem': 99, 'math': 99, 'bio': 99, 'avg': 99.0, 'rank': 1, 'total': 396}, 'INF007': {'name': 'Ankita', 'age': '14', 'regid': 'INF007', 'phy': 99, 'chem': 99, 'math': 99, 'bio': 99, 'avg': 99.0, 'rank': 1, 'total': 396}, 'HPE001': {'name': 'Vijay', 'age': '14', 'regid': 'HPE001', 'phy': 99, 'chem': 98, 'math': 97, 'bio': 96, 'avg': 97.5, 'rank': 3, 'total': 390}, 'HPE003': {'name': 'Muni', 'age': '14', 'regid': 'HPE003', 'phy': 97, 'chem': 98, 'math': 97, 'bio': 94, 'avg': 96.5, 'rank': 4, 'total': 386}, 'HPE006': {'name': 'Grace', 'age': '14', 'regid': 'HPE006', 'phy': 94, 'chem': 95, 'math': 96, 'bio': 97, 'avg': 95.5, 'rank': 5, 'total': 382}, 'ORA006': {'name': 'Grace', 'age': '14', 'regid': 'ORA006', 'phy': 94, 'chem': 95, 'math': 96, 'bio': 97, 'avg': 95.5, 'rank': 5, 'total': 382}, 'HPE004': {'name': 'Abhi', 'age': '14', 'regid': 'HPE004', 'phy': 96, 'chem': 93, 'math': 97, 'bio': 95, 'avg': 95.25, 'rank': 7, 'total': 381}, 'HPE008': {'name': 'John', 'age': '14', 'regid': 'HPE008', 'phy': 96, 'chem': 93, 'math': 97, 'bio': 95, 'avg': 95.25, 'rank': 7, 'total': 381}, 'HPE002': {'name': 'Aryan', 'age': '14', 'regid': 'HPE002', 'phy': 98, 'chem': 91, 'math': 93, 'bio': 96, 'avg': 94.5, 'rank': 9, 'total': 378}, 'HPE005': {'name': 'Hemanth', 'age': '14', 'regid': 'HPE005', 'phy': 94, 'chem': 91, 'math': 93, 'bio': 96, 'avg': 93.5, 'rank': 10, 'total': 374}, 'HPE009': {'name': 'Chris', 'age': '14', 'regid': 'HPE009', 'phy': 94, 'chem': 91, 'math': 93, 'bio': 96, 'avg': 93.5, 'rank': 10, 'total': 374}}\n"
     ]
    }
   ],
   "source": [
    "students = {\n",
    "    'HPE001': {'name': 'Vijay', 'age': '14', 'regid': 'HPE001', 'phy': 99, 'chem': 98, 'math': 97, 'bio': 96, 'avg': 97.5, 'rank': 3, 'total': 390},\n",
    "    'HPE002': {'name': 'Aryan', 'age': '14', 'regid': 'HPE002', 'phy': 98, 'chem': 91, 'math': 93, 'bio': 96, 'avg': 94.5, 'rank': 9, 'total': 378},\n",
    "    'HPE003': {'name': 'Muni', 'age': '14', 'regid': 'HPE003', 'phy': 97, 'chem': 98, 'math': 97, 'bio': 94, 'avg': 96.5, 'rank': 4, 'total': 386},\n",
    "    'HPE004': {'name': 'Abhi', 'age': '14', 'regid': 'HPE004', 'phy': 96, 'chem': 93, 'math': 97, 'bio': 95, 'avg': 95.25, 'rank': 7, 'total': 381},\n",
    "    'HPE005': {'name': 'Hemanth', 'age': '14', 'regid': 'HPE005', 'phy': 94, 'chem': 91, 'math': 93, 'bio': 96, 'avg': 93.5, 'rank': 10, 'total': 374},\n",
    "    'HPE006': {'name': 'Grace', 'age': '14', 'regid': 'HPE006', 'phy': 94, 'chem': 95, 'math': 96, 'bio': 97, 'avg': 95.5, 'rank': 5, 'total': 382},\n",
    "    'CAP007': {'name': 'Ankita', 'age': '14', 'regid': 'CAP007', 'phy': 99, 'chem': 99, 'math': 99, 'bio': 99, 'avg': 99.0, 'rank': 1, 'total': 396},\n",
    "    'HPE008': {'name': 'John', 'age': '14', 'regid': 'HPE008', 'phy': 96, 'chem': 93, 'math': 97, 'bio': 95, 'avg': 95.25, 'rank': 7, 'total': 381},\n",
    "    'HPE009': {'name': 'Chris', 'age': '14', 'regid': 'HPE009', 'phy': 94, 'chem': 91, 'math': 93, 'bio': 96, 'avg': 93.5, 'rank': 10, 'total': 374},\n",
    "    'ORA006': {'name': 'Grace', 'age': '14', 'regid': 'ORA006', 'phy': 94, 'chem': 95, 'math': 96, 'bio': 97, 'avg': 95.5, 'rank': 5, 'total': 382},\n",
    "    'INF007': {'name': 'Ankita', 'age': '14', 'regid': 'INF007', 'phy': 99, 'chem': 99, 'math': 99, 'bio': 99, 'avg': 99.0, 'rank': 1, 'total': 396}\n",
    "}\n",
    "\n",
    "# Sorting logic: Prioritize \"Ankita\", then sort by rank\n",
    "sorted_students = dict(sorted(students.items(), key=lambda item: (item[1]['name'] != 'Ankita', item[1]['rank'])))\n",
    "\n",
    "# Update class_dict with sorted data\n",
    "class_dict = sorted_students\n",
    "\n",
    "# Print the updated class_dict\n",
    "print(class_dict)"
   ]
  },
  {
   "cell_type": "code",
   "execution_count": null,
   "id": "67c6b68c-93ee-459c-a2ac-ed84cee0bfa8",
   "metadata": {},
   "outputs": [],
   "source": []
  }
 ],
 "metadata": {
  "kernelspec": {
   "display_name": "Python 3 (ipykernel)",
   "language": "python",
   "name": "python3"
  },
  "language_info": {
   "codemirror_mode": {
    "name": "ipython",
    "version": 3
   },
   "file_extension": ".py",
   "mimetype": "text/x-python",
   "name": "python",
   "nbconvert_exporter": "python",
   "pygments_lexer": "ipython3",
   "version": "3.12.4"
  }
 },
 "nbformat": 4,
 "nbformat_minor": 5
}
