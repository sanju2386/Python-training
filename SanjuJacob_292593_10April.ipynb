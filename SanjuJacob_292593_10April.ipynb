{
 "cells": [
  {
   "cell_type": "code",
   "execution_count": 3,
   "id": "f71ed96c-b79e-434e-ac1e-20ebe7dc5370",
   "metadata": {},
   "outputs": [],
   "source": [
    "class Student:\n",
    "\n",
    "    def __init__(self, name, age, grade, student_id=None):\n",
    "        self.name=name\n",
    "        self.age=age\n",
    "        self.grade=grade\n",
    "        self.student_id=student_id or str(uuid.uuid4())\n",
    "\n",
    "\n",
    "    def to_dict(self):\n",
    "        return {\n",
    "            \"student_id\": self.student_id,\n",
    "            \"name\": self.name,\n",
    "            \"age\": self.age,\n",
    "            \"grade\": self.grade\n",
    "        }\n",
    "    \n",
    "    @staticmethod\n",
    "    def from_dict(data):\n",
    "        return Student(\n",
    "            student_id=data[\"student_id\"],\n",
    "            name=data[\"name\"],\n",
    "            age=data[\"age\"],\n",
    "            grade=data[\"grade\"]\n",
    "        )\n",
    "    "
   ]
  },
  {
   "cell_type": "code",
   "execution_count": 4,
   "id": "8da466cf-3490-445a-a032-f2167cc58ea8",
   "metadata": {},
   "outputs": [
    {
     "ename": "ModuleNotFoundError",
     "evalue": "No module named 'student'",
     "output_type": "error",
     "traceback": [
      "\u001b[1;31m---------------------------------------------------------------------------\u001b[0m",
      "\u001b[1;31mModuleNotFoundError\u001b[0m                       Traceback (most recent call last)",
      "Cell \u001b[1;32mIn[4], line 1\u001b[0m\n\u001b[1;32m----> 1\u001b[0m \u001b[38;5;28;01mfrom\u001b[39;00m \u001b[38;5;21;01mstudent\u001b[39;00m \u001b[38;5;28;01mimport\u001b[39;00m Student\n\u001b[0;32m      3\u001b[0m \u001b[38;5;28;01mclass\u001b[39;00m \u001b[38;5;21;01mStudentManager\u001b[39;00m:\n\u001b[0;32m      4\u001b[0m     \u001b[38;5;28;01mdef\u001b[39;00m \u001b[38;5;21m__init__\u001b[39m(\u001b[38;5;28mself\u001b[39m):\n",
      "\u001b[1;31mModuleNotFoundError\u001b[0m: No module named 'student'"
     ]
    }
   ],
   "source": [
    "from student import Student\n",
    "\n",
    "class StudentManager:\n",
    "    def __init__(self):\n",
    "        self.students = []\n",
    "\n",
    "    def add_student(self, name, age, grade):\n",
    "        student = Student(name, age, grade)\n",
    "        self.students.append(student)\n",
    "        return student\n",
    "\n",
    "    def get_all_students(self):\n",
    "        return self.students\n",
    "\n",
    "    # def find_student_by_id(self, student_id):\n",
    "    #     return next((s for s in self.students if s.student_id == student_id), None)\n",
    "    def find_student_by_id(self,student_id):\n",
    "        for students in self.students:\n",
    "            if students.student_id == student_id:\n",
    "                return students\n",
    "        return None\n",
    "\n",
    "\n",
    "    def delete_student(self, student_id):\n",
    "        student = self.find_student_by_id(student_id)\n",
    "        if student:\n",
    "            self.students.remove(student)\n",
    "            return True\n",
    "        return False\n",
    "\n",
    "    def load_students(self, student_list):\n",
    "        self.students = [Student.from_dict(data) for data in student_list]\n",
    "\n",
    "    def export_students(self):\n",
    "        return [s.to_dict() for s in self.students]\n"
   ]
  },
  {
   "cell_type": "code",
   "execution_count": null,
   "id": "038fc003-16eb-490a-990e-a859ae223d06",
   "metadata": {},
   "outputs": [],
   "source": [
    "from student_manager import StudentManager\n",
    "import storage\n",
    "\n",
    "def menu():\n",
    "    print(\"\\nStudent Management System\")\n",
    "    print(\"1. Add Student\")\n",
    "    print(\"2. View All Students\")\n",
    "    print(\"3. Search by ID\")\n",
    "    print(\"4. Delete Student\")\n",
    "    print(\"5. Exit\")\n",
    "\n",
    "def main():\n",
    "    manager = StudentManager()\n",
    "    data = storage.load_from_file()\n",
    "    manager.load_students(data)\n",
    "\n",
    "    while True:\n",
    "        menu()\n",
    "        choice = input(\"Enter choice: \").strip()\n",
    "\n",
    "        if choice == '1':\n",
    "            name = input(\"Name: \")\n",
    "            age = int(input(\"Age: \"))\n",
    "            grade = input(\"Grade: \")\n",
    "            student = manager.add_student(name, age, grade)\n",
    "            print(f\"Student added with ID: {student.student_id}\")\n",
    "        \n",
    "        elif choice == '2':\n",
    "            for s in manager.get_all_students():\n",
    "                print(s.to_dict())\n",
    "\n",
    "        elif choice == '3':\n",
    "            sid = input(\"Enter Student ID: \")\n",
    "            student = manager.find_student_by_id(sid)\n",
    "            print(student.to_dict() if student else \"Student not found.\")\n",
    "\n",
    "        elif choice == '4':\n",
    "            sid = input(\"Enter Student ID to delete: \")\n",
    "            if manager.delete_student(sid):\n",
    "                print(\"Deleted successfully.\")\n",
    "            else:\n",
    "                print(\"Student not found.\")\n",
    "        \n",
    "        elif choice == '5':\n",
    "            storage.save_to_file(manager.export_students())\n",
    "            print(\"Data saved. Goodbye!\")\n",
    "            break\n",
    "        else:\n",
    "            print(\"Invalid option.\")\n",
    "\n",
    "if __name__ == \"__main__\":\n",
    "    main()\n"
   ]
  },
  {
   "cell_type": "code",
   "execution_count": 7,
   "id": "8942052e-f3d9-4d9d-9e28-3c4117b311af",
   "metadata": {},
   "outputs": [],
   "source": [
    "import random\n",
    "\n",
    "used_ids = set()\n",
    "def generate_unique_id():\n",
    "    while True:\n",
    "        new_id = random.randint(1000, 9999)\n",
    "        if new_id not in used_ids:\n",
    "            used_ids.add(new_id)\n",
    "            return str(new_id)"
   ]
  },
  {
   "cell_type": "code",
   "execution_count": 8,
   "id": "77687761-05e8-4278-b621-c58bba487f77",
   "metadata": {},
   "outputs": [],
   "source": [
    "s=generate_unique_id()"
   ]
  },
  {
   "cell_type": "code",
   "execution_count": 9,
   "id": "f114ef62-976b-4978-afd7-b8eb2bd500fe",
   "metadata": {},
   "outputs": [
    {
     "data": {
      "text/plain": [
       "'8116'"
      ]
     },
     "execution_count": 9,
     "metadata": {},
     "output_type": "execute_result"
    }
   ],
   "source": [
    "s"
   ]
  },
  {
   "cell_type": "code",
   "execution_count": null,
   "id": "6a51c567-fbe6-43df-845b-e66921d7101e",
   "metadata": {},
   "outputs": [],
   "source": []
  }
 ],
 "metadata": {
  "kernelspec": {
   "display_name": "Python 3 (ipykernel)",
   "language": "python",
   "name": "python3"
  },
  "language_info": {
   "codemirror_mode": {
    "name": "ipython",
    "version": 3
   },
   "file_extension": ".py",
   "mimetype": "text/x-python",
   "name": "python",
   "nbconvert_exporter": "python",
   "pygments_lexer": "ipython3",
   "version": "3.12.4"
  }
 },
 "nbformat": 4,
 "nbformat_minor": 5
}
