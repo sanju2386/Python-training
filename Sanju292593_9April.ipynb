{
 "cells": [
  {
   "cell_type": "raw",
   "id": "8977e5bd-3fa3-40f0-9777-7e63da626a3e",
   "metadata": {},
   "source": [
    "Create a metaclass called AutoInit that automatically injects an __init__ method into \n",
    "any class that:\n",
    "\n",
    "Defines a class-level list called init_fields, e.g., [\"name\", \"salary\"].\n",
    "\n",
    "If the __init__ method already exists, the metaclass should not override it.\n",
    "\n",
    "The injected __init__ should assign values to those fields as instance attributes.\n",
    "\n",
    "Raise an error if the init_fields list is missing or not a list.\n"
   ]
  },
  {
   "cell_type": "code",
   "execution_count": 1,
   "id": "1fcb5165-eeef-4e4f-bb47-56a5d51f8337",
   "metadata": {},
   "outputs": [],
   "source": [
    "class AutoInit(type):\n",
    "    def __new__(cls,name,base,dct):\n",
    "        \n",
    "        return super().__new__(cls,name,base,dct)"
   ]
  },
  {
   "cell_type": "raw",
   "id": "21335d0f-38d1-4010-af4a-3f7e41e33a83",
   "metadata": {},
   "source": [
    "class Autoinit(type):\n",
    "    def __new__(cls,name,bases,dct):\n",
    "\n",
    "        # check for iniit field\n",
    "        init_field=None\n",
    "        if init_field is None or not instance(init_field,list):\n",
    "            raise TypeError(f\"Class{name} must define class level list called init_fields\")\n",
    "        \n",
    "        # check if __init__ is defined otherwise inject it \n",
    "        if '__init__' not in dct:\n",
    "            def __init__(self, *args):\n",
    "                for field v\n",
    "\n",
    "\n",
    "\n",
    "        dct\n",
    "        "
   ]
  },
  {
   "cell_type": "code",
   "execution_count": 2,
   "id": "2eebd531-672b-44d8-b2ed-e679b053b368",
   "metadata": {},
   "outputs": [],
   "source": [
    "import time\n",
    "import tracemalloc\n",
    "from functools import cache"
   ]
  },
  {
   "cell_type": "code",
   "execution_count": 3,
   "id": "a3e5ab0e-b231-4d25-95f8-411e1e212bcc",
   "metadata": {},
   "outputs": [],
   "source": [
    "def fib(n):\n",
    "    if n<2:\n",
    "        return n\n",
    "    return fib(n-1)+fib(n-2)"
   ]
  },
  {
   "cell_type": "code",
   "execution_count": 6,
   "id": "84031573-4f61-415d-b259-d4500754c81a",
   "metadata": {},
   "outputs": [],
   "source": [
    "@cache\n",
    "def fib_cach(n):\n",
    "    if n<2:\n",
    "        return n\n",
    "    return fib(n-1)+fib(n-2)"
   ]
  },
  {
   "cell_type": "code",
   "execution_count": 13,
   "id": "f9689df6-36d5-421e-b6b8-1ee7b9ab9747",
   "metadata": {},
   "outputs": [],
   "source": [
    "def execution(func,n):\n",
    "\n",
    "    tracemalloc.start\n",
    "    starttime=time.time()\n",
    "    result=func(n)\n",
    "    endtime=time.time()\n",
    "    current,peak=tracemalloc.get_trace_memory\n",
    "    tracemalloc.stop()\n",
    "    print({func.name})\n",
    "    print(f\"time taken{endtime-starttime} seconds\")\n",
    "    print(f\"Memory used {current}Bytes,Peak: {peak} Bytes\\n\")\n"
   ]
  },
  {
   "cell_type": "code",
   "execution_count": 14,
   "id": "cefb6565-8ba6-4aba-bfee-84e536c6f27a",
   "metadata": {},
   "outputs": [
    {
     "ename": "AttributeError",
     "evalue": "module 'tracemalloc' has no attribute 'get_trace_memory'",
     "output_type": "error",
     "traceback": [
      "\u001b[1;31m---------------------------------------------------------------------------\u001b[0m",
      "\u001b[1;31mAttributeError\u001b[0m                            Traceback (most recent call last)",
      "Cell \u001b[1;32mIn[14], line 2\u001b[0m\n\u001b[0;32m      1\u001b[0m N\u001b[38;5;241m=\u001b[39m\u001b[38;5;241m35\u001b[39m\n\u001b[1;32m----> 2\u001b[0m execution(fib_cach,N)\n",
      "Cell \u001b[1;32mIn[13], line 7\u001b[0m, in \u001b[0;36mexecution\u001b[1;34m(func, n)\u001b[0m\n\u001b[0;32m      5\u001b[0m result\u001b[38;5;241m=\u001b[39mfunc(n)\n\u001b[0;32m      6\u001b[0m endtime\u001b[38;5;241m=\u001b[39mtime\u001b[38;5;241m.\u001b[39mtime()\n\u001b[1;32m----> 7\u001b[0m current,peak\u001b[38;5;241m=\u001b[39mtracemalloc\u001b[38;5;241m.\u001b[39mget_trace_memory\n\u001b[0;32m      8\u001b[0m tracemalloc\u001b[38;5;241m.\u001b[39mstop()\n\u001b[0;32m      9\u001b[0m \u001b[38;5;28mprint\u001b[39m({func\u001b[38;5;241m.\u001b[39mname})\n",
      "\u001b[1;31mAttributeError\u001b[0m: module 'tracemalloc' has no attribute 'get_trace_memory'"
     ]
    }
   ],
   "source": [
    "N=35\n",
    "execution(fib_cach,N)"
   ]
  },
  {
   "cell_type": "code",
   "execution_count": 15,
   "id": "5acbff06-fdde-4c80-878f-8ceda479a697",
   "metadata": {},
   "outputs": [
    {
     "name": "stdout",
     "output_type": "stream",
     "text": [
      "Function: fib_cach\n",
      "Time taken: 0.000000 seconds\n",
      "Memory used: 1880 Bytes, Peak: 2000 Bytes\n",
      "\n"
     ]
    },
    {
     "data": {
      "text/plain": [
       "9227465"
      ]
     },
     "execution_count": 15,
     "metadata": {},
     "output_type": "execute_result"
    }
   ],
   "source": [
    "import time\n",
    "import tracemalloc\n",
    "\n",
    "def execution(func, n):\n",
    "    tracemalloc.start()  # 🔧 missing parentheses to call the function\n",
    "    starttime = time.time()\n",
    "    \n",
    "    result = func(n)\n",
    "    \n",
    "    endtime = time.time()\n",
    "    current, peak = tracemalloc.get_traced_memory()  # 🔧 correct function name\n",
    "    \n",
    "    tracemalloc.stop()\n",
    "    \n",
    "    print(f\"Function: {func.__name__}\")  # 🔧 use __name__ instead of name\n",
    "    print(f\"Time taken: {endtime - starttime:.6f} seconds\")\n",
    "    print(f\"Memory used: {current} Bytes, Peak: {peak} Bytes\\n\")\n",
    "    \n",
    "    return result  # Optional: return the result of the function\n",
    "\n",
    "# Example usage\n",
    "from functools import lru_cache\n",
    "\n",
    "@lru_cache(maxsize=None)\n",
    "def fib_cach(n):\n",
    "    if n <= 1:\n",
    "        return n\n",
    "    return fib_cach(n-1) + fib_cach(n-2)\n",
    "\n",
    "N = 35\n",
    "execution(fib_cach, N)\n"
   ]
  },
  {
   "cell_type": "code",
   "execution_count": 17,
   "id": "969129cb-73bb-4e7b-a0b6-2f5e512475fa",
   "metadata": {},
   "outputs": [
    {
     "name": "stdout",
     "output_type": "stream",
     "text": [
      "Function: fib\n",
      "Time taken: 0.000000 seconds\n",
      "Memory used: 0 Bytes, Peak: 0 Bytes\n",
      "\n"
     ]
    },
    {
     "data": {
      "text/plain": [
       "34"
      ]
     },
     "execution_count": 17,
     "metadata": {},
     "output_type": "execute_result"
    }
   ],
   "source": [
    "N=9\n",
    "execution(fib, N)"
   ]
  },
  {
   "cell_type": "code",
   "execution_count": 18,
   "id": "849a2f53-dba3-46e9-b2b2-063de5aeb737",
   "metadata": {},
   "outputs": [],
   "source": [
    "from functools import total_ordering\n",
    "\n",
    "@total_ordering\n",
    "class Student(object):\n",
    "\n",
    "    def __init__(self, name, marks):\n",
    "        self.name = name\n",
    "        self.marks = marks\n",
    "\n",
    "    def __eq__(self, other):\n",
    "        if not isinstance(other, Student):\n",
    "            return NotImplemented\n",
    "        return self.marks == other.marks\n",
    "\n",
    "    def __lt__(self, other):\n",
    "        if not isinstance(other, Student):\n",
    "            return NotImplemented \n",
    "        return self.marks < other.marks\n",
    "\n",
    "    def __repr__(self):\n",
    "        return f\"{self.name}({self.marks})\""
   ]
  },
  {
   "cell_type": "code",
   "execution_count": 19,
   "id": "a4aaca73-1fbb-4f4b-9551-f3a9bc01e39c",
   "metadata": {},
   "outputs": [],
   "source": [
    "s1 = (\"Anil\", 398)\n",
    "s2 = (\"Sunil\", 407)"
   ]
  },
  {
   "cell_type": "code",
   "execution_count": 20,
   "id": "b33dccda-d415-43ad-9e4a-05aff8aa4e57",
   "metadata": {},
   "outputs": [
    {
     "data": {
      "text/plain": [
       "(('Anil', 398), ('Sunil', 407))"
      ]
     },
     "execution_count": 20,
     "metadata": {},
     "output_type": "execute_result"
    }
   ],
   "source": [
    "s1, s2"
   ]
  },
  {
   "cell_type": "code",
   "execution_count": 21,
   "id": "e6ea6350-3d8b-4118-bfb0-c7e62d346191",
   "metadata": {},
   "outputs": [
    {
     "data": {
      "text/plain": [
       "False"
      ]
     },
     "execution_count": 21,
     "metadata": {},
     "output_type": "execute_result"
    }
   ],
   "source": [
    "s1 == s2 # works, because it is implemented"
   ]
  },
  {
   "cell_type": "code",
   "execution_count": null,
   "id": "d81260c2-5f70-4703-9975-34db62134b60",
   "metadata": {},
   "outputs": [],
   "source": []
  },
  {
   "cell_type": "code",
   "execution_count": null,
   "id": "56818fd0-42b3-4158-81ea-5e6c887e4f61",
   "metadata": {},
   "outputs": [],
   "source": []
  },
  {
   "cell_type": "code",
   "execution_count": null,
   "id": "2310175f-5e40-4a92-b79d-24bb6e4b05e2",
   "metadata": {},
   "outputs": [],
   "source": []
  },
  {
   "cell_type": "code",
   "execution_count": null,
   "id": "c0dfb05c-49b2-4fa5-9072-69cdb81de169",
   "metadata": {},
   "outputs": [],
   "source": []
  },
  {
   "cell_type": "code",
   "execution_count": null,
   "id": "f434ba83-6d25-4cbc-a20c-3d833e8236bc",
   "metadata": {},
   "outputs": [],
   "source": []
  },
  {
   "cell_type": "markdown",
   "id": "cd49255a-e959-4c91-810c-8bbbc1af3ee7",
   "metadata": {},
   "source": [
    "# Lab session I"
   ]
  },
  {
   "cell_type": "raw",
   "id": "c840bfd7-860f-4e60-bd14-36dee0040411",
   "metadata": {},
   "source": [
    "Session 1 [30]\n",
    "-------------------------------------------------------------------------------------------\n",
    "\n",
    "Problem Statement\n",
    "--------------------------------------\n",
    "\n",
    "You are designing a system to rank products based on their ratings (on a scale of 0 to 5). \n",
    "Two products are considered equal if their ratings are equal. A product with a lower rating \n",
    "is considered less than one with a higher rating.\n",
    "\n",
    "Requirements:\n",
    "\n",
    "Implement a class Product with the following:\n",
    "\n",
    "    Attributes: name (str), rating (float)\n",
    "    Define appropriate comparison methods to allow sorting and comparison based on rating.\n",
    "    such as __le__, __gt__\n",
    "    Use @total_ordering to minimize method definitions.\n",
    "\n",
    "You are to:\n",
    "\n",
    "        Implement the class with proper ordering using @total_ordering.\n",
    "        Create a list of products and sort them.\n",
    "        Demonstrate comparisons (==, <, >=, etc.) between different products.\n",
    "\n",
    "\n",
    "class Product:\n",
    "    pass\n",
    "\n",
    "# === SAMPLE TEST CASE ===\n",
    "if __name__ == \"__main__\":\n",
    "    p1 = Product(\"Laptop\", 4.5)\n",
    "    p2 = Product(\"Tablet\", 4.7)\n",
    "    p3 = Product(\"Phone\", 4.5)\n",
    "    p4 = Product(\"Monitor\", 4.2)\n",
    "\n",
    "    print(\"Sorted Products:\", sorted([p1, p2, p3, p4]))\n",
    "    print(\"p1 == p3:\", p1 == p3)\n",
    "    print(\"p1 < p2:\", p1 < p2)\n",
    "    print(\"p2 >= p4:\", p2 >= p4)\n",
    "\n",
    "# Output\n",
    "\n",
    "Sorted Products: [Monitor(4.2), Laptop(4.5), Phone(4.5), Tablet(4.7)]\n",
    "p1 == p3: True\n",
    "p1 < p2: True\n",
    "p2 >= p4: True"
   ]
  },
  {
   "cell_type": "code",
   "execution_count": 30,
   "id": "5c50fc61-eee6-4995-8d5d-7985f69c7ee8",
   "metadata": {},
   "outputs": [],
   "source": [
    "from functools import total_ordering\n",
    "\n",
    "@total_ordering\n",
    "class Product(object):\n",
    "\n",
    "    def __init__(self, name,rating):\n",
    "        self.name = name\n",
    "        self.rating = rating\n",
    "        if not isinstance(rating,float):\n",
    "            raise TypeError(\"Ratings should be a float\")\n",
    "\n",
    "        if not (0.0<=rating<5.0):\n",
    "            raise ValueError(\"Ratings must be from 0 to 5\")\n",
    "\n",
    "    def __eq__(self, other):\n",
    "        if not isinstance(other, Product):\n",
    "            return NotImplemented\n",
    "        return self.rating == other.rating\n",
    "\n",
    "    def __gt__(self, other):\n",
    "        if not isinstance(other, Product):\n",
    "            return NotImplemented \n",
    "        return self.rating > other.rating\n",
    "\n",
    "    # def __le__(self, other):\n",
    "    #     if not isinstance(other, Product):\n",
    "    #         return NotImplemented \n",
    "    #     return self.rating < = other.rating\n",
    "\n",
    "    def __repr__(self):\n",
    "        return f\"{self.name}({self.rating})\"\n",
    "\n"
   ]
  },
  {
   "cell_type": "code",
   "execution_count": 31,
   "id": "d900bd97-53c2-4e11-b5e5-26c6aaff24ed",
   "metadata": {},
   "outputs": [
    {
     "name": "stdout",
     "output_type": "stream",
     "text": [
      "Sorted Products: [Monitor(4.2), Laptop(4.5), Phone(4.5), Tablet(4.7)]\n",
      "p1 == p3: True\n",
      "p1 < p2: True\n",
      "p2 >= p4: True\n"
     ]
    }
   ],
   "source": [
    "\n",
    "p1 = Product(\"Laptop\", 4.5)\n",
    "p2 = Product(\"Tablet\", 4.7)\n",
    "p3 = Product(\"Phone\", 4.5)\n",
    "p4 = Product(\"Monitor\", 4.2)\n",
    "\n",
    "print(\"Sorted Products:\", sorted([p1, p2, p3, p4]))\n",
    "print(\"p1 == p3:\", p1 == p3)\n",
    "print(\"p1 < p2:\", p1 < p2)\n",
    "print(\"p2 >= p4:\", p2 >= p4)"
   ]
  },
  {
   "cell_type": "code",
   "execution_count": null,
   "id": "26d375bb-2447-499c-8894-e91a44ebb76a",
   "metadata": {},
   "outputs": [],
   "source": []
  },
  {
   "cell_type": "markdown",
   "id": "22ce9e21-788c-4182-b333-93f1630136c1",
   "metadata": {},
   "source": [
    "# SQl lite3"
   ]
  },
  {
   "cell_type": "markdown",
   "id": "bba1d5cf-cf24-4b77-86cf-ba2e23ceb86f",
   "metadata": {},
   "source": [
    "# lab session :"
   ]
  },
  {
   "cell_type": "raw",
   "id": "1c00ddbb-8ce4-4165-95d5-dbbf81610fbd",
   "metadata": {},
   "source": [
    "Problem Statement: 1\n",
    "--------------------------------------\n",
    "\n",
    "You are tasked with developing a simple student record management system using SQLite3 in Python. The system should perform the following operations:\n",
    "\n",
    "Requirements:\n",
    "\n",
    "Create a SQLite database named school.db with a table students having fields:\n",
    "\n",
    "    id (INTEGER, Primary Key, Auto-increment)\n",
    "    name (TEXT)\n",
    "    age (INTEGER)\n",
    "    grade (TEXT)\n",
    "\n",
    "- Insert at least three student records into the table using parameterized queries.\n",
    "- Fetch and print all student records.\n",
    "- Update the grade of a specific student based on their name.\n",
    "- Delete a student record based on the id.\n",
    "- Display the remaining students and the total number of students.\n",
    "- Finalize and close the connection\n",
    "\n",
    "Deliverables:\n",
    "\n",
    "- Python code with all the required database operations.\n",
    "- Clear output showing the operations performed.\n",
    "- Use of best practices: parameterized queries, commit(), and close().\n",
    "\n",
    "Problem Statement: 2\n",
    "--------------------------------------\n",
    "\n",
    "Tasks:\n",
    "\n",
    "Create a Student class with the following attributes:\n",
    "\n",
    "- name (string)\n",
    "- roll_number (integer)\n",
    "- marks (dictionary of subject-wise marks, e.g., {\"Math\": 85, \"Science\": 90})\n",
    "\n",
    "Create a list of at least two Student objects with sample data.\n",
    "Use the pickle module to serialize and save this list into a file named students.pkl.\n",
    "Write code to load the student data from students.pkl and display each student’s details.\n",
    "\n",
    "Challenge: Allow updating a student's marks and re-saving the modified list."
   ]
  },
  {
   "cell_type": "raw",
   "id": "b63f8080-3cb9-4cf0-9ed7-ff1d17fff441",
   "metadata": {},
   "source": [
    "Problem Statement: 1\n",
    "--------------------------------------\n",
    "\n",
    "You are tasked with developing a simple student record management system using SQLite3 in Python. The system should perform the following operations:\n",
    "\n",
    "Requirements:\n",
    "\n",
    "Create a SQLite database named school.db with a table students having fields:\n",
    "\n",
    "    id (INTEGER, Primary Key, Auto-increment)\n",
    "    name (TEXT)\n",
    "    age (INTEGER)\n",
    "    grade (TEXT)\n",
    "\n",
    "- Insert at least three student records into the table using parameterized queries.\n",
    "- Fetch and print all student records.\n",
    "- Update the grade of a specific student based on their name.\n",
    "- Delete a student record based on the id.\n",
    "- Display the remaining students and the total number of students.\n",
    "- Finalize and close the connection\n",
    "\n",
    "Deliverables:\n",
    "\n",
    "- Python code with all the required database operations.\n",
    "- Clear output showing the operations performed.\n",
    "- Use of best practices: parameterized queries, commit(), and close()."
   ]
  },
  {
   "cell_type": "code",
   "execution_count": null,
   "id": "1a1c32e2-c577-44c6-b0e9-e049436b34bf",
   "metadata": {},
   "outputs": [],
   "source": []
  },
  {
   "cell_type": "raw",
   "id": "4d2870d5-e2ea-44ac-84e7-087e64e08164",
   "metadata": {},
   "source": [
    "Problem Statement: 1\n",
    "--------------------------------------\n",
    "\n",
    "You are tasked with developing a simple student record management system using SQLite3 in Python. The system should perform the following operations:\n",
    "\n",
    "Requirements:\n",
    "\n",
    "Create a SQLite database named school.db with a table students having fields:\n",
    "\n",
    "    id (INTEGER, Primary Key, Auto-increment)\n",
    "    name (TEXT)\n",
    "    age (INTEGER)\n",
    "    grade (TEXT)\n",
    "\n",
    "- Insert at least three student records into the table using parameterized queries.\n",
    "- Fetch and print all student records.\n",
    "- Update the grade of a specific student based on their name.\n",
    "- Delete a student record based on the id.\n",
    "- Display the remaining students and the total number of students.\n",
    "- Finalize and close the connection\n",
    "\n",
    "Deliverables:\n",
    "\n",
    "- Python code with all the required database operations.\n",
    "- Clear output showing the operations performed.\n",
    "- Use of best practices: parameterized queries, commit(), and close().\n"
   ]
  },
  {
   "cell_type": "code",
   "execution_count": 36,
   "id": "a1957505-d957-45e3-b473-550b97593c42",
   "metadata": {},
   "outputs": [],
   "source": [
    "import sqlite3\n"
   ]
  },
  {
   "cell_type": "code",
   "execution_count": 37,
   "id": "09d51b2d-7583-4db6-b270-283c4bf2d17d",
   "metadata": {},
   "outputs": [],
   "source": [
    "conn = sqlite3.connect('school.db') # school db just got created "
   ]
  },
  {
   "cell_type": "code",
   "execution_count": 41,
   "id": "c9605aa2-5220-437e-9aa8-80e0cc944781",
   "metadata": {},
   "outputs": [
    {
     "ename": "ProgrammingError",
     "evalue": "Cannot operate on a closed database.",
     "output_type": "error",
     "traceback": [
      "\u001b[1;31m---------------------------------------------------------------------------\u001b[0m",
      "\u001b[1;31mProgrammingError\u001b[0m                          Traceback (most recent call last)",
      "Cell \u001b[1;32mIn[41], line 1\u001b[0m\n\u001b[1;32m----> 1\u001b[0m cursor \u001b[38;5;241m=\u001b[39m conn\u001b[38;5;241m.\u001b[39mcursor()\n\u001b[0;32m      3\u001b[0m cursor\u001b[38;5;241m.\u001b[39mexecute(\u001b[38;5;124m'''\u001b[39m\n\u001b[0;32m      4\u001b[0m \u001b[38;5;124m    CREATE TABLE  students (\u001b[39m\n\u001b[0;32m      5\u001b[0m \u001b[38;5;124m        id INTEGER PRIMARY KEY AUTOINCREMENT,\u001b[39m\n\u001b[1;32m   (...)\u001b[0m\n\u001b[0;32m      9\u001b[0m \u001b[38;5;124m    )\u001b[39m\n\u001b[0;32m     10\u001b[0m \u001b[38;5;124m'''\u001b[39m)\n\u001b[0;32m     12\u001b[0m conn\u001b[38;5;241m.\u001b[39mcommit()\n",
      "\u001b[1;31mProgrammingError\u001b[0m: Cannot operate on a closed database."
     ]
    }
   ],
   "source": [
    "cursor = conn.cursor()\n",
    "\n",
    "cursor.execute('''\n",
    "    CREATE TABLE  students (\n",
    "        id INTEGER PRIMARY KEY AUTOINCREMENT,\n",
    "        name TEXT,\n",
    "        age INTEGER,\n",
    "        grade TEXT\n",
    "    )\n",
    "''')\n",
    "\n",
    "conn.commit()\n",
    "conn.close()"
   ]
  },
  {
   "cell_type": "code",
   "execution_count": 42,
   "id": "a0e2541e-e37b-496d-95de-5a13994e9ed0",
   "metadata": {},
   "outputs": [],
   "source": [
    "import sqlite3\n",
    "\n",
    "# Step 1: Create or connect to the database\n",
    "conn = sqlite3.connect('school.db')\n",
    "\n",
    "# Step 2: Create a cursor\n",
    "cursor = conn.cursor()\n",
    "\n",
    "# Step 3: Create the students table\n",
    "cursor.execute('''\n",
    "    CREATE TABLE IF NOT EXISTS students (\n",
    "        id INTEGER PRIMARY KEY AUTOINCREMENT,\n",
    "        name TEXT,\n",
    "        age INTEGER,\n",
    "        grade TEXT\n",
    "    )\n",
    "''')\n",
    "\n",
    "# Step 4: Commit the changes\n",
    "conn.commit()\n",
    "\n",
    "# Step 5: Close the connection\n",
    "conn.close()\n"
   ]
  },
  {
   "cell_type": "code",
   "execution_count": 43,
   "id": "5aad7590-280d-4f78-9cfb-f4933c7e2ef1",
   "metadata": {},
   "outputs": [],
   "source": [
    "\n",
    "\n",
    "# Step 1: Create or connect to the database\n",
    "conn = sqlite3.connect('school.db')\n",
    "\n",
    "# Step 2: Create a cursor\n",
    "cursor = conn.cursor()\n",
    "student_data = [\n",
    "    (\"Anil\", 14, \"A+\"),\n",
    "    (\"SAM\", 13,\"B+\"),\n",
    "    (\"Sanju\", 13,\"A\"),\n",
    "]\n",
    "\n",
    "cursor.executemany('''\n",
    "    INSERT INTO students (name, age, grade) VALUES (?, ?, ?)\n",
    "''', student_data)\n",
    "\n",
    "# Step 4: Commit the changes\n",
    "conn.commit()\n",
    "\n",
    "# Step 5: Close the connection\n",
    "conn.close()\n",
    "\n"
   ]
  },
  {
   "cell_type": "markdown",
   "id": "3c762ae7-f2ce-4218-94f1-1a69536fdaa9",
   "metadata": {},
   "source": [
    "# Fetch and print all student records."
   ]
  },
  {
   "cell_type": "code",
   "execution_count": 50,
   "id": "0cb80def-4847-4eb3-8150-e6f360f67447",
   "metadata": {},
   "outputs": [
    {
     "data": {
      "text/plain": [
       "[(1, 'Anil', 14, 'A+'), (2, 'SAM', 13, 'B+'), (3, 'Sanju', 13, 'A')]"
      ]
     },
     "execution_count": 50,
     "metadata": {},
     "output_type": "execute_result"
    }
   ],
   "source": [
    "# Step 1: Create or connect to the database\n",
    "conn = sqlite3.connect('school.db')\n",
    "\n",
    "# Step 2: Create a cursor\n",
    "cursor = conn.cursor()\n",
    "cursor.execute('''\n",
    "    SELECT * FROM students\n",
    "''')\n",
    "cursor.fetchall()\n"
   ]
  },
  {
   "cell_type": "markdown",
   "id": "95b186b0-6102-42c9-a9c3-1e11432b7721",
   "metadata": {},
   "source": [
    "# Update the grade of a specific student based on their name"
   ]
  },
  {
   "cell_type": "code",
   "execution_count": 51,
   "id": "32d49d94-0cbd-486b-ab6e-745a00ba5581",
   "metadata": {},
   "outputs": [],
   "source": [
    "import sqlite3\n",
    "\n",
    "# Connect to the database\n",
    "conn = sqlite3.connect('school.db')\n",
    "cursor = conn.cursor()\n",
    "\n",
    "# Update grade for a student named 'Sanju'\n",
    "new_grade = 'A+'\n",
    "student_name = 'Sanju'\n",
    "\n",
    "cursor.execute('''\n",
    "    UPDATE students\n",
    "    SET grade = ?\n",
    "    WHERE name = ?\n",
    "''', (new_grade, student_name))\n",
    "\n",
    "# Commit the changes and close the connection\n",
    "conn.commit()\n",
    "conn.close()\n"
   ]
  },
  {
   "cell_type": "code",
   "execution_count": 52,
   "id": "def0b5c4-9a35-44cf-9433-430870141113",
   "metadata": {},
   "outputs": [
    {
     "data": {
      "text/plain": [
       "[(1, 'Anil', 14, 'A+'), (2, 'SAM', 13, 'B+'), (3, 'Sanju', 13, 'A+')]"
      ]
     },
     "execution_count": 52,
     "metadata": {},
     "output_type": "execute_result"
    }
   ],
   "source": [
    "# Step 1: Create or connect to the database\n",
    "conn = sqlite3.connect('school.db')\n",
    "\n",
    "# Step 2: Create a cursor\n",
    "cursor = conn.cursor()\n",
    "cursor.execute('''\n",
    "    SELECT * FROM students\n",
    "''')\n",
    "cursor.fetchall()\n"
   ]
  },
  {
   "cell_type": "markdown",
   "id": "a011699b-23c2-4872-9c2c-aee236d60a9f",
   "metadata": {},
   "source": [
    "# Delete a student record based on the id.\n"
   ]
  },
  {
   "cell_type": "code",
   "execution_count": 53,
   "id": "94422551-7ebb-4dd2-a4e3-2b023c69305a",
   "metadata": {},
   "outputs": [],
   "source": [
    "import sqlite3\n",
    "\n",
    "# Connect to the database\n",
    "conn = sqlite3.connect('school.db')\n",
    "cursor = conn.cursor()\n",
    "\n",
    "# Specify the student ID to delete\n",
    "student_id = 3\n",
    "\n",
    "# Execute the DELETE command\n",
    "cursor.execute('''\n",
    "    DELETE FROM students\n",
    "    WHERE id = ?\n",
    "''', (student_id,))\n",
    "\n",
    "# Commit the changes and close the connection\n",
    "conn.commit()\n",
    "conn.close()\n"
   ]
  },
  {
   "cell_type": "code",
   "execution_count": 54,
   "id": "239f9818-e934-462c-bb04-feb5e09129b0",
   "metadata": {},
   "outputs": [
    {
     "data": {
      "text/plain": [
       "[(1, 'Anil', 14, 'A+'), (2, 'SAM', 13, 'B+')]"
      ]
     },
     "execution_count": 54,
     "metadata": {},
     "output_type": "execute_result"
    }
   ],
   "source": [
    "# Step 1: Create or connect to the database\n",
    "conn = sqlite3.connect('school.db')\n",
    "\n",
    "# Step 2: Create a cursor\n",
    "cursor = conn.cursor()\n",
    "cursor.execute('''\n",
    "    SELECT * FROM students\n",
    "''')\n",
    "cursor.fetchall()\n"
   ]
  },
  {
   "cell_type": "markdown",
   "id": "bcde135e-efa4-40cc-a9dc-2cea5be9387c",
   "metadata": {},
   "source": [
    "# Display the remaining students and the total number of students.\n"
   ]
  },
  {
   "cell_type": "code",
   "execution_count": 59,
   "id": "2e8f0c3b-b83f-4cbb-b896-6e8e690b27a9",
   "metadata": {},
   "outputs": [
    {
     "name": "stdout",
     "output_type": "stream",
     "text": [
      "Remaining Students:\n",
      "(1, 'Anil', 14, 'A+')\n",
      "(2, 'SAM', 13, 'B+')\n",
      "\n",
      "Total Number of Students: 2\n",
      "Database connection closed successfully.\n"
     ]
    }
   ],
   "source": [
    "import sqlite3\n",
    "\n",
    "# Connect to the database\n",
    "conn = sqlite3.connect('school.db')\n",
    "cursor = conn.cursor()\n",
    "\n",
    "# Fetch and display all remaining students\n",
    "cursor.execute('SELECT * FROM students')\n",
    "students = cursor.fetchall()\n",
    "\n",
    "print(\"Remaining Students:\")\n",
    "for student in students:\n",
    "    print(student)\n",
    "\n",
    "# Get total number of students\n",
    "cursor.execute('SELECT COUNT(*) FROM students')\n",
    "count = cursor.fetchone()[0]\n",
    "\n",
    "print(\"\\nTotal Number of Students:\", count)\n",
    "\n",
    "conn.commit()\n",
    "\n",
    "# Close the connection to free up resources\n",
    "conn.close()\n",
    "\n",
    "print(\"Database connection closed successfully.\")"
   ]
  },
  {
   "cell_type": "markdown",
   "id": "56feb3b7-beae-499d-b5fb-2e24dcae0367",
   "metadata": {},
   "source": [
    "# Finalize and close the connection\n"
   ]
  },
  {
   "cell_type": "code",
   "execution_count": 58,
   "id": "21c45b4a-d8b0-4ade-96d8-c3dec6903957",
   "metadata": {},
   "outputs": [
    {
     "ename": "ProgrammingError",
     "evalue": "Cannot operate on a closed database.",
     "output_type": "error",
     "traceback": [
      "\u001b[1;31m---------------------------------------------------------------------------\u001b[0m",
      "\u001b[1;31mProgrammingError\u001b[0m                          Traceback (most recent call last)",
      "Cell \u001b[1;32mIn[58], line 1\u001b[0m\n\u001b[1;32m----> 1\u001b[0m conn\u001b[38;5;241m.\u001b[39mcommit()\n\u001b[0;32m      2\u001b[0m conn\u001b[38;5;241m.\u001b[39mclose()\n",
      "\u001b[1;31mProgrammingError\u001b[0m: Cannot operate on a closed database."
     ]
    }
   ],
   "source": [
    "conn.commit()\n",
    "conn.close()\n"
   ]
  },
  {
   "cell_type": "code",
   "execution_count": null,
   "id": "7c8be3eb-ced7-47cf-8bd2-ecc706aabf82",
   "metadata": {},
   "outputs": [],
   "source": []
  },
  {
   "cell_type": "raw",
   "id": "cce5ded8-4f10-4466-a5b8-68bdde810170",
   "metadata": {},
   "source": [
    "Problem Statement: 2\n",
    "--------------------------------------\n",
    "\n",
    "Tasks:\n",
    "\n",
    "Create a Student class with the following attributes:\n",
    "\n",
    "- name (string)\n",
    "- roll_number (integer)\n",
    "- marks (dictionary of subject-wise marks, e.g., {\"Math\": 85, \"Science\": 90})\n",
    "\n",
    "Create a list of at least two Student objects with sample data.\n",
    "Use the pickle module to serialize and save this list into a file named students.pkl.\n",
    "Write code to load the student data from students.pkl and display each student’s details.\n",
    "\n",
    "Challenge: Allow updating a student's marks and re-saving the modified list."
   ]
  },
  {
   "cell_type": "code",
   "execution_count": 69,
   "id": "04640ca4-c905-4daa-bb79-f0a15e733180",
   "metadata": {},
   "outputs": [],
   "source": [
    "class Student:\n",
    "    def __init__(self, name,rollnumber,marks):\n",
    "        self.name=name\n",
    "        self.rollnumber=rollnumber\n",
    "        self.marks=marks\n",
    "\n",
    "    def __str__(self):\n",
    "        return f\"Name: {self.name}, Roll No: {self.rollnumber}, Marks: {self.marks}\""
   ]
  },
  {
   "cell_type": "code",
   "execution_count": 70,
   "id": "a84c90b2-c8fd-46f1-86f2-86845a7f5977",
   "metadata": {},
   "outputs": [],
   "source": [
    "student1 = Student(\"Anil\", 101, {\"Math\": 85, \"Science\": 90})\n",
    "student2 = Student(\"Sam\", 102, {\"Math\": 78, \"Science\": 88})\n",
    "students_list = [student1, student2]"
   ]
  },
  {
   "cell_type": "code",
   "execution_count": 71,
   "id": "e8d05231-60a9-4bb3-842b-bde420f32053",
   "metadata": {},
   "outputs": [],
   "source": [
    "import pickle"
   ]
  },
  {
   "cell_type": "code",
   "execution_count": 72,
   "id": "2c88d042-1b7d-41db-8741-5c08a02a05b5",
   "metadata": {},
   "outputs": [
    {
     "name": "stdout",
     "output_type": "stream",
     "text": [
      "Students saved successfully!\n",
      "\n",
      "Loaded student data:\n",
      "Name: Anil, Roll No: 101, Marks: {'Math': 85, 'Science': 90}\n",
      "Name: Sam, Roll No: 102, Marks: {'Math': 78, 'Science': 88}\n",
      "\n",
      "Updated marks for Sam\n",
      "\n",
      "Modified data saved successfully!\n",
      "\n",
      "Verifying updated data:\n",
      "Name: Anil, Roll No: 101, Marks: {'Math': 85, 'Science': 90}\n",
      "Name: Sam, Roll No: 102, Marks: {'Math': 95, 'Science': 88}\n"
     ]
    }
   ],
   "source": [
    "with open(\"students.pkl\", \"wb\") as file:\n",
    "    pickle.dump(students_list, file)\n",
    "\n",
    "print(\"Students saved successfully!\")\n",
    "\n",
    "# Step 4: Load and display students from the file\n",
    "with open(\"students.pkl\", \"rb\") as file:\n",
    "    loaded_students = pickle.load(file)\n",
    "\n",
    "print(\"\\nLoaded student data:\")\n",
    "for student in loaded_students:\n",
    "    print(student)\n",
    "\n",
    "# === CHALLENGE ===\n",
    "# Step 5: Update a student’s marks (e.g., for roll number 102)\n",
    "for student in loaded_students:\n",
    "    if student.rollnumber == 102:\n",
    "        student.marks[\"Math\"] = 95  # Update Math marks\n",
    "        print(f\"\\nUpdated marks for {student.name}\")\n",
    "\n",
    "# Step 6: Re-save the modified list to students.pkl\n",
    "with open(\"students.pkl\", \"wb\") as file:\n",
    "    pickle.dump(loaded_students, file)\n",
    "\n",
    "print(\"\\nModified data saved successfully!\")\n",
    "\n",
    "# Step 7: Reload to verify\n",
    "print(\"\\nVerifying updated data:\")\n",
    "with open(\"students.pkl\", \"rb\") as file:\n",
    "    verified_students = pickle.load(file)\n",
    "    for student in verified_students:\n",
    "        print(student)"
   ]
  },
  {
   "cell_type": "code",
   "execution_count": null,
   "id": "110cc51d-0f0e-4b2f-893b-6204fc38f6e2",
   "metadata": {},
   "outputs": [],
   "source": []
  }
 ],
 "metadata": {
  "kernelspec": {
   "display_name": "Python 3 (ipykernel)",
   "language": "python",
   "name": "python3"
  },
  "language_info": {
   "codemirror_mode": {
    "name": "ipython",
    "version": 3
   },
   "file_extension": ".py",
   "mimetype": "text/x-python",
   "name": "python",
   "nbconvert_exporter": "python",
   "pygments_lexer": "ipython3",
   "version": "3.12.4"
  }
 },
 "nbformat": 4,
 "nbformat_minor": 5
}
