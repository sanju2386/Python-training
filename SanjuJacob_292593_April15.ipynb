{
 "cells": [
  {
   "cell_type": "markdown",
   "id": "61d2c318-6486-44b8-a102-9186077bbe75",
   "metadata": {},
   "source": [
    "# server"
   ]
  },
  {
   "cell_type": "code",
   "execution_count": null,
   "id": "c4ad5316-ce93-4a8f-bb86-99396eb299bb",
   "metadata": {},
   "outputs": [],
   "source": [
    "#!/usr/bin/python           # This is client.py file\n",
    "\n",
    "import socket               # Import socket module\n",
    "\n",
    "s = socket.socket()         # Create a socket object\n",
    "#host = socket.gethostname() # Get local machine name\n",
    "#port = 12345                # Reserve a port for your service.\n",
    "\n",
    "s.connect(('127.0.0.1', 1000))\n",
    "print (s.recv(1024))\n",
    "s.close()                    # Close the socket when done\n"
   ]
  },
  {
   "cell_type": "markdown",
   "id": "fffa3f67-0ccd-4df1-9c21-ffc624c5584d",
   "metadata": {},
   "source": [
    "# client"
   ]
  },
  {
   "cell_type": "code",
   "execution_count": null,
   "id": "ac150b71-9994-4181-83d8-c48fcadf6913",
   "metadata": {},
   "outputs": [],
   "source": [
    "import socket\n",
    "import threading\n",
    "\n",
    "def run_server():\n",
    "    s = socket.socket()\n",
    "    s.bind(('127.0.0.1', 1000))\n",
    "    s.listen(5)\n",
    "    print(\"Server is listening on port 1000...\")\n",
    "    \n",
    "    while True:\n",
    "        c, addr = s.accept()\n",
    "        print('Got connection from', addr)\n",
    "        c.send(bytes('Thank you for connecting', 'utf-8'))\n",
    "        c.close()\n",
    "\n",
    "# Run server in a background thread\n",
    "server_thread = threading.Thread(target=run_server, daemon=True)\n",
    "server_thread.start()\n"
   ]
  },
  {
   "cell_type": "code",
   "execution_count": null,
   "id": "bf8b7f8b-ba68-42a7-af5e-5d538521d33f",
   "metadata": {},
   "outputs": [],
   "source": [
    "import socket\n",
    "\n",
    "s = socket.socket()\n",
    "s.connect(('127.0.0.1', 1000))\n",
    "print(s.recv(1024).decode('utf-8'))\n",
    "s.close()\n"
   ]
  },
  {
   "cell_type": "code",
   "execution_count": null,
   "id": "f91c5d2a-9e24-4c80-b636-fac33add1822",
   "metadata": {},
   "outputs": [],
   "source": []
  },
  {
   "cell_type": "markdown",
   "id": "e1157bb3-ddf3-48d2-872d-039da0b9781f",
   "metadata": {},
   "source": [
    "# server_program"
   ]
  },
  {
   "cell_type": "code",
   "execution_count": null,
   "id": "023c3ad0-36f1-4356-bb46-4b2f7b0d5484",
   "metadata": {},
   "outputs": [],
   "source": [
    "import socket\n",
    "\n",
    "\n",
    "def server_program():\n",
    "    # get the hostname\n",
    "    host = '127.0.0.1'\n",
    "    port = 5000  # initiate port no above 1024\n",
    "\n",
    "    server_socket = socket.socket()  # get instance\n",
    "    # look closely. The bind() function takes tuple as argument\n",
    "    server_socket.bind((host, port))  # bind host address and port together\n",
    "\n",
    "    # configure how many client the server can listen simultaneously\n",
    "    server_socket.listen(5)\n",
    "    conn, address = server_socket.accept()  # accept new connection\n",
    "    print(\"Connection from: \" + str(address))\n",
    "    while True:\n",
    "        # receive data stream. it won't accept data packet greater than 1024 bytes\n",
    "        data = conn.recv(1024).decode()\n",
    "        if not data:\n",
    "            # if data is not received break\n",
    "            break\n",
    "        print(\"from connected user: \" + str(data))\n",
    "        data = input(' -> ')\n",
    "        conn.send(data.encode())  # send data to the client\n",
    "\n",
    "    conn.close()  # close the connection\n",
    "\n",
    "\n",
    "if __name__ == '__main__':\n",
    "    server_program()\n"
   ]
  },
  {
   "cell_type": "code",
   "execution_count": null,
   "id": "39ac5561-e97b-407d-968a-f4d7c1ca4312",
   "metadata": {},
   "outputs": [],
   "source": []
  },
  {
   "cell_type": "code",
   "execution_count": null,
   "id": "cf505c3d-4c13-4852-b425-b39ee3f6d358",
   "metadata": {},
   "outputs": [],
   "source": [
    "import socket\n",
    "import threading\n",
    "\n",
    "def server_program_jupyter():\n",
    "    host = '127.0.0.1'\n",
    "    port = 5000\n",
    "\n",
    "    server_socket = socket.socket()\n",
    "    server_socket.bind((host, port))\n",
    "    server_socket.listen(1)\n",
    "    print(\"Server is listening on port 5000...\")\n",
    "\n",
    "    conn, address = server_socket.accept()\n",
    "    print(\"Connection from:\", address)\n",
    "\n",
    "    while True:\n",
    "        data = conn.recv(1024).decode()\n",
    "        if not data:\n",
    "            break\n",
    "        print(\"from connected user:\", data)\n",
    "        \n",
    "        # Instead of input(), send a static reply for testing\n",
    "        reply = \"Hello client, I got your message!\"\n",
    "        conn.send(reply.encode())\n",
    "\n",
    "    conn.close()\n",
    "\n",
    "# Run server in background thread\n",
    "threading.Thread(target=server_program_jupyter, daemon=True).start()\n"
   ]
  },
  {
   "cell_type": "code",
   "execution_count": 1,
   "id": "94525af3-bdec-4f28-96ec-d954c3e733f8",
   "metadata": {},
   "outputs": [
    {
     "ename": "ConnectionRefusedError",
     "evalue": "[WinError 10061] No connection could be made because the target machine actively refused it",
     "output_type": "error",
     "traceback": [
      "\u001b[1;31m---------------------------------------------------------------------------\u001b[0m",
      "\u001b[1;31mConnectionRefusedError\u001b[0m                    Traceback (most recent call last)",
      "Cell \u001b[1;32mIn[1], line 20\u001b[0m\n\u001b[0;32m     16\u001b[0m         \u001b[38;5;28mprint\u001b[39m(\u001b[38;5;124m\"\u001b[39m\u001b[38;5;124mReceived from server:\u001b[39m\u001b[38;5;124m\"\u001b[39m, data)\n\u001b[0;32m     18\u001b[0m     client_socket\u001b[38;5;241m.\u001b[39mclose()\n\u001b[1;32m---> 20\u001b[0m client_program_jupyter()\n",
      "Cell \u001b[1;32mIn[1], line 8\u001b[0m, in \u001b[0;36mclient_program_jupyter\u001b[1;34m()\u001b[0m\n\u001b[0;32m      5\u001b[0m port \u001b[38;5;241m=\u001b[39m \u001b[38;5;241m5000\u001b[39m\n\u001b[0;32m      7\u001b[0m client_socket \u001b[38;5;241m=\u001b[39m socket\u001b[38;5;241m.\u001b[39msocket()\n\u001b[1;32m----> 8\u001b[0m client_socket\u001b[38;5;241m.\u001b[39mconnect((host, port))\n\u001b[0;32m     10\u001b[0m \u001b[38;5;28;01mwhile\u001b[39;00m \u001b[38;5;28;01mTrue\u001b[39;00m:\n\u001b[0;32m     11\u001b[0m     message \u001b[38;5;241m=\u001b[39m \u001b[38;5;28minput\u001b[39m(\u001b[38;5;124m\"\u001b[39m\u001b[38;5;124mClient message -> \u001b[39m\u001b[38;5;124m\"\u001b[39m)\n",
      "\u001b[1;31mConnectionRefusedError\u001b[0m: [WinError 10061] No connection could be made because the target machine actively refused it"
     ]
    }
   ],
   "source": [
    "import socket\n",
    "\n",
    "def client_program_jupyter():\n",
    "    host = '127.0.0.1'\n",
    "    port = 5000\n",
    "\n",
    "    client_socket = socket.socket()\n",
    "    client_socket.connect((host, port))\n",
    "\n",
    "    while True:\n",
    "        message = input(\"Client message -> \")\n",
    "        if message.lower().strip() == 'bye':\n",
    "            break\n",
    "        client_socket.send(message.encode())\n",
    "        data = client_socket.recv(1024).decode()\n",
    "        print(\"Received from server:\", data)\n",
    "\n",
    "    client_socket.close()\n",
    "\n",
    "client_program_jupyter()\n"
   ]
  },
  {
   "cell_type": "code",
   "execution_count": null,
   "id": "efc7d3da-1965-471e-a5fb-c042d8f8f5d8",
   "metadata": {},
   "outputs": [],
   "source": [
    "import socket\n",
    "\n",
    "\n",
    "def client_program():\n",
    "    host = '127.0.0.1'  # as both code is running on same pc\n",
    "    port = 5000  # socket server port number\n",
    "\n",
    "    client_socket = socket.socket()  # instantiate\n",
    "    client_socket.connect((host, port))  # connect to the server\n",
    "\n",
    "    message = input(\" -> \")  # take input\n",
    "\n",
    "    while message.lower().strip() != 'bye':\n",
    "        client_socket.send(message.encode())  # send message\n",
    "        data = client_socket.recv(1024).decode()  # receive response\n",
    "\n",
    "        print('Received from server: ' + data)  # show in terminal\n",
    "\n",
    "        message = input(\" -> \")  # again take input\n",
    "\n",
    "    client_socket.close()  # close the connection\n",
    "\n",
    "\n",
    "if __name__ == '__main__':\n",
    "    client_program()\n"
   ]
  },
  {
   "cell_type": "markdown",
   "id": "fc74802f-eee0-4b37-9eb4-1fb6e1eb075c",
   "metadata": {},
   "source": [
    "# Server"
   ]
  },
  {
   "cell_type": "code",
   "execution_count": 2,
   "id": "7ade177a-9f3e-4537-ba36-e4d59359a904",
   "metadata": {},
   "outputs": [
    {
     "name": "stdout",
     "output_type": "stream",
     "text": [
      "Server is listening on port 5000...\n"
     ]
    }
   ],
   "source": [
    "import socket\n",
    "import threading\n",
    "\n",
    "def server_program_jupyter():\n",
    "    host = '127.0.0.1'\n",
    "    port = 5000\n",
    "\n",
    "    server_socket = socket.socket()\n",
    "    server_socket.bind((host, port))\n",
    "    server_socket.listen(1)\n",
    "    print(\"Server is listening on port 5000...\")\n",
    "\n",
    "    conn, address = server_socket.accept()\n",
    "    print(\"Connection from:\", address)\n",
    "\n",
    "    data = conn.recv(1024).decode()\n",
    "    print(\"From client:\", data)\n",
    "\n",
    "    reply = input(\"Server reply -> \")\n",
    "    conn.send(reply.encode())\n",
    "\n",
    "    conn.close()\n",
    "    print(\"Connection closed.\")\n",
    "\n",
    "# Run the server in the background\n",
    "threading.Thread(target=server_program_jupyter, daemon=True).start()\n"
   ]
  },
  {
   "cell_type": "markdown",
   "id": "79962b1b-5320-4de2-b947-fdab962edf08",
   "metadata": {},
   "source": [
    "# client"
   ]
  },
  {
   "cell_type": "code",
   "execution_count": 3,
   "id": "c169a1e3-eb78-4c33-98f6-c1d1b9614de8",
   "metadata": {},
   "outputs": [
    {
     "name": "stdout",
     "output_type": "stream",
     "text": [
      "Connection from: ('127.0.0.1', 62996)\n"
     ]
    },
    {
     "name": "stdin",
     "output_type": "stream",
     "text": [
      "Client message ->  Hi\n"
     ]
    },
    {
     "name": "stdout",
     "output_type": "stream",
     "text": [
      "From client: Hi\n"
     ]
    },
    {
     "name": "stdin",
     "output_type": "stream",
     "text": [
      "Server reply ->  Hi\n"
     ]
    },
    {
     "name": "stdout",
     "output_type": "stream",
     "text": [
      "Received from server: Hi\n",
      "Connection closed.\n"
     ]
    }
   ],
   "source": [
    "import socket\n",
    "\n",
    "def client_program_jupyter():\n",
    "    host = '127.0.0.1'\n",
    "    port = 5000\n",
    "\n",
    "    client_socket = socket.socket()\n",
    "    client_socket.connect((host, port))\n",
    "\n",
    "    message = input(\"Client message -> \")\n",
    "    client_socket.send(message.encode())\n",
    "\n",
    "    data = client_socket.recv(1024).decode()\n",
    "    print(\"Received from server:\", data)\n",
    "\n",
    "    client_socket.close()\n",
    "\n",
    "client_program_jupyter()\n"
   ]
  },
  {
   "cell_type": "code",
   "execution_count": null,
   "id": "a9abe7f7-3c8a-4ef5-b589-24ac8998c0f4",
   "metadata": {},
   "outputs": [],
   "source": []
  },
  {
   "cell_type": "code",
   "execution_count": null,
   "id": "3344efdf-8ad4-4d86-8998-baccc580c798",
   "metadata": {},
   "outputs": [],
   "source": []
  },
  {
   "cell_type": "markdown",
   "id": "1b0df61a-09cc-4130-9e47-471190f19aaf",
   "metadata": {},
   "source": [
    "# Django"
   ]
  },
  {
   "cell_type": "code",
   "execution_count": 1,
   "id": "29ac9be5-2df7-41c3-8cb1-ba13aaaa81c2",
   "metadata": {},
   "outputs": [
    {
     "name": "stdout",
     "output_type": "stream",
     "text": [
      "Defaulting to user installation because normal site-packages is not writeableNote: you may need to restart the kernel to use updated packages.\n",
      "\n",
      "Could not fetch URL https://pypi.org/simple/django/: There was a problem confirming the ssl certificate: HTTPSConnectionPool(host='pypi.org', port=443): Max retries exceeded with url: /simple/django/ (Caused by SSLError(SSLCertVerificationError(1, '[SSL: CERTIFICATE_VERIFY_FAILED] certificate verify failed: unable to get local issuer certificate (_ssl.c:1000)'))) - skipping\n",
      "Could not fetch URL https://pypi.org/simple/pip/: There was a problem confirming the ssl certificate: HTTPSConnectionPool(host='pypi.org', port=443): Max retries exceeded with url: /simple/pip/ (Caused by SSLError(SSLCertVerificationError(1, '[SSL: CERTIFICATE_VERIFY_FAILED] certificate verify failed: unable to get local issuer certificate (_ssl.c:1000)'))) - skipping\n"
     ]
    },
    {
     "name": "stderr",
     "output_type": "stream",
     "text": [
      "WARNING: Retrying (Retry(total=4, connect=None, read=None, redirect=None, status=None)) after connection broken by 'SSLError(SSLCertVerificationError(1, '[SSL: CERTIFICATE_VERIFY_FAILED] certificate verify failed: unable to get local issuer certificate (_ssl.c:1000)'))': /simple/django/\n",
      "WARNING: Retrying (Retry(total=3, connect=None, read=None, redirect=None, status=None)) after connection broken by 'SSLError(SSLCertVerificationError(1, '[SSL: CERTIFICATE_VERIFY_FAILED] certificate verify failed: unable to get local issuer certificate (_ssl.c:1000)'))': /simple/django/\n",
      "WARNING: Retrying (Retry(total=2, connect=None, read=None, redirect=None, status=None)) after connection broken by 'SSLError(SSLCertVerificationError(1, '[SSL: CERTIFICATE_VERIFY_FAILED] certificate verify failed: unable to get local issuer certificate (_ssl.c:1000)'))': /simple/django/\n",
      "WARNING: Retrying (Retry(total=1, connect=None, read=None, redirect=None, status=None)) after connection broken by 'SSLError(SSLEOFError(8, '[SSL: UNEXPECTED_EOF_WHILE_READING] EOF occurred in violation of protocol (_ssl.c:1000)'))': /simple/django/\n",
      "WARNING: Retrying (Retry(total=0, connect=None, read=None, redirect=None, status=None)) after connection broken by 'SSLError(SSLCertVerificationError(1, '[SSL: CERTIFICATE_VERIFY_FAILED] certificate verify failed: unable to get local issuer certificate (_ssl.c:1000)'))': /simple/django/\n",
      "ERROR: Could not find a version that satisfies the requirement Django (from versions: none)\n",
      "ERROR: No matching distribution found for Django\n"
     ]
    }
   ],
   "source": [
    "pip install Django"
   ]
  },
  {
   "cell_type": "code",
   "execution_count": 3,
   "id": "37186f97-6bac-4cab-9868-83bea0d41a2a",
   "metadata": {},
   "outputs": [
    {
     "name": "stdout",
     "output_type": "stream",
     "text": [
      "Defaulting to user installation because normal site-packages is not writeableNote: you may need to restart the kernel to use updated packages.\n",
      "\n",
      "Could not fetch URL https://pypi.org/simple/django/: There was a problem confirming the ssl certificate: HTTPSConnectionPool(host='pypi.org', port=443): Max retries exceeded with url: /simple/django/ (Caused by SSLError(SSLCertVerificationError(1, '[SSL: CERTIFICATE_VERIFY_FAILED] certificate verify failed: unable to get local issuer certificate (_ssl.c:1000)'))) - skipping\n",
      "Could not fetch URL https://pypi.org/simple/pip/: There was a problem confirming the ssl certificate: HTTPSConnectionPool(host='pypi.org', port=443): Max retries exceeded with url: /simple/pip/ (Caused by SSLError(SSLCertVerificationError(1, '[SSL: CERTIFICATE_VERIFY_FAILED] certificate verify failed: unable to get local issuer certificate (_ssl.c:1000)'))) - skipping\n"
     ]
    },
    {
     "name": "stderr",
     "output_type": "stream",
     "text": [
      "WARNING: Retrying (Retry(total=4, connect=None, read=None, redirect=None, status=None)) after connection broken by 'SSLError(SSLCertVerificationError(1, '[SSL: CERTIFICATE_VERIFY_FAILED] certificate verify failed: unable to get local issuer certificate (_ssl.c:1000)'))': /simple/django/\n",
      "WARNING: Retrying (Retry(total=3, connect=None, read=None, redirect=None, status=None)) after connection broken by 'SSLError(SSLCertVerificationError(1, '[SSL: CERTIFICATE_VERIFY_FAILED] certificate verify failed: unable to get local issuer certificate (_ssl.c:1000)'))': /simple/django/\n",
      "WARNING: Retrying (Retry(total=2, connect=None, read=None, redirect=None, status=None)) after connection broken by 'SSLError(SSLCertVerificationError(1, '[SSL: CERTIFICATE_VERIFY_FAILED] certificate verify failed: unable to get local issuer certificate (_ssl.c:1000)'))': /simple/django/\n",
      "WARNING: Retrying (Retry(total=1, connect=None, read=None, redirect=None, status=None)) after connection broken by 'SSLError(SSLCertVerificationError(1, '[SSL: CERTIFICATE_VERIFY_FAILED] certificate verify failed: unable to get local issuer certificate (_ssl.c:1000)'))': /simple/django/\n",
      "WARNING: Retrying (Retry(total=0, connect=None, read=None, redirect=None, status=None)) after connection broken by 'SSLError(SSLCertVerificationError(1, '[SSL: CERTIFICATE_VERIFY_FAILED] certificate verify failed: unable to get local issuer certificate (_ssl.c:1000)'))': /simple/django/\n",
      "ERROR: Could not find a version that satisfies the requirement Django (from versions: none)\n",
      "ERROR: No matching distribution found for Django\n"
     ]
    }
   ],
   "source": [
    "pip install Django"
   ]
  },
  {
   "cell_type": "code",
   "execution_count": 4,
   "id": "ef9131ca-ea3d-46a3-9f5c-b411a2a76e5e",
   "metadata": {},
   "outputs": [
    {
     "ename": "NameError",
     "evalue": "name 'django' is not defined",
     "output_type": "error",
     "traceback": [
      "\u001b[1;31m---------------------------------------------------------------------------\u001b[0m",
      "\u001b[1;31mNameError\u001b[0m                                 Traceback (most recent call last)",
      "Cell \u001b[1;32mIn[4], line 1\u001b[0m\n\u001b[1;32m----> 1\u001b[0m django\u001b[38;5;241m-\u001b[39madmin \u001b[38;5;241m-\u001b[39m\u001b[38;5;241m-\u001b[39mversion\n",
      "\u001b[1;31mNameError\u001b[0m: name 'django' is not defined"
     ]
    }
   ],
   "source": [
    "django-admin --version\n"
   ]
  },
  {
   "cell_type": "code",
   "execution_count": 5,
   "id": "969e90c3-f1ac-4e76-b6b8-d337c355c465",
   "metadata": {},
   "outputs": [
    {
     "name": "stdout",
     "output_type": "stream",
     "text": [
      "Defaulting to user installation because normal site-packages is not writeableNote: you may need to restart the kernel to use updated packages.\n",
      "\n",
      "Requirement already satisfied: django in c:\\users\\292593\\appdata\\roaming\\python\\python312\\site-packages (5.2)\n",
      "Requirement already satisfied: asgiref>=3.8.1 in c:\\users\\292593\\appdata\\roaming\\python\\python312\\site-packages (from django) (3.8.1)\n",
      "Requirement already satisfied: sqlparse>=0.3.1 in c:\\users\\292593\\appdata\\roaming\\python\\python312\\site-packages (from django) (0.5.3)\n",
      "Requirement already satisfied: tzdata in c:\\programdata\\anaconda3\\lib\\site-packages (from django) (2023.3)\n"
     ]
    }
   ],
   "source": [
    "pip install django --trusted-host pypi.org --trusted-host files.pythonhosted.org"
   ]
  },
  {
   "cell_type": "code",
   "execution_count": 1,
   "id": "cfea2f36-855a-4ae9-94ec-e64e6fb17adb",
   "metadata": {},
   "outputs": [
    {
     "ename": "NameError",
     "evalue": "name 'django' is not defined",
     "output_type": "error",
     "traceback": [
      "\u001b[1;31m---------------------------------------------------------------------------\u001b[0m",
      "\u001b[1;31mNameError\u001b[0m                                 Traceback (most recent call last)",
      "Cell \u001b[1;32mIn[1], line 1\u001b[0m\n\u001b[1;32m----> 1\u001b[0m django \u001b[38;5;241m-\u001b[39m\u001b[38;5;241m-\u001b[39mversion\n",
      "\u001b[1;31mNameError\u001b[0m: name 'django' is not defined"
     ]
    }
   ],
   "source": [
    "django --version"
   ]
  },
  {
   "cell_type": "code",
   "execution_count": 3,
   "id": "b0213aae-34fd-4167-a2d0-e92be834b43c",
   "metadata": {},
   "outputs": [
    {
     "name": "stdout",
     "output_type": "stream",
     "text": [
      "5.2\n"
     ]
    }
   ],
   "source": [
    "import django\n",
    "print(django.get_version())\n"
   ]
  },
  {
   "cell_type": "code",
   "execution_count": null,
   "id": "0d647853-7569-4ff1-a816-bbf1124a0c89",
   "metadata": {},
   "outputs": [],
   "source": []
  }
 ],
 "metadata": {
  "kernelspec": {
   "display_name": "Python 3 (ipykernel)",
   "language": "python",
   "name": "python3"
  },
  "language_info": {
   "codemirror_mode": {
    "name": "ipython",
    "version": 3
   },
   "file_extension": ".py",
   "mimetype": "text/x-python",
   "name": "python",
   "nbconvert_exporter": "python",
   "pygments_lexer": "ipython3",
   "version": "3.12.4"
  }
 },
 "nbformat": 4,
 "nbformat_minor": 5
}
