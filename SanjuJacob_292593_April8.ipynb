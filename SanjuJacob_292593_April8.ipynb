{
 "cells": [
  {
   "cell_type": "markdown",
   "id": "6e84acea-febd-427a-aede-ffb5ba131c5f",
   "metadata": {},
   "source": [
    "# creating an iterator"
   ]
  },
  {
   "cell_type": "raw",
   "id": "97823422-8242-4029-ac8a-1ec1f8d2e580",
   "metadata": {},
   "source": [
    "Create an iterator to generate some natural numbers"
   ]
  },
  {
   "cell_type": "code",
   "execution_count": 5,
   "id": "94bd1e96-2013-46c2-8bb9-6a9a2d05c126",
   "metadata": {},
   "outputs": [],
   "source": [
    "class Number:\n",
    "\n",
    "    # constructor\n",
    "    def __init__(self,minimum,maximum):\n",
    "        self.maxlimit=maximum\n",
    "        self.start=minimum\n",
    "        self.a=0\n",
    "\n",
    "    \n",
    "    # neede for print\n",
    "    def __str__(self):\n",
    "        return f\"My numbers {self.start} {self.maxlimit}\"\n",
    "        \n",
    "        \n",
    "    # custom reprensentation of the objects\n",
    "    def __repr__(self):\n",
    "        return f\"My class\\nCreated iterable object\"\n",
    "        \n",
    "    # iter(), it is returning an object ,not vakue after doing some internal changes\n",
    "    def __iter__(self):\n",
    "        self.a=self.start\n",
    "        return self\n",
    "\n",
    "    \n",
    "    # for loop -> Next\n",
    "    def __next__(self):\n",
    "        if self.a<=self.maxlimit:\n",
    "            x=self.a\n",
    "            self.a+=1\n",
    "            return x\n",
    "        else:\n",
    "            raise StopIteration # when all element arecopletely exhausted ,then system raises stop iteration exepmtion to stop iteration.\n",
    "        \n",
    "\n",
    "        "
   ]
  },
  {
   "cell_type": "code",
   "execution_count": 6,
   "id": "d0d1b43f-bb35-49c2-ab5e-35348b6d9845",
   "metadata": {},
   "outputs": [],
   "source": [
    "m=Number(1,10)"
   ]
  },
  {
   "cell_type": "code",
   "execution_count": 7,
   "id": "eeb033e2-389c-4792-8887-866124d4b3f7",
   "metadata": {},
   "outputs": [
    {
     "data": {
      "text/plain": [
       "My class\n",
       "Created iterable object"
      ]
     },
     "execution_count": 7,
     "metadata": {},
     "output_type": "execute_result"
    }
   ],
   "source": [
    "m # see output representation is given as my class and Created iterable iterable object"
   ]
  },
  {
   "cell_type": "code",
   "execution_count": 8,
   "id": "c5e417e2-b32c-49c1-99dd-37f98e234d9d",
   "metadata": {},
   "outputs": [
    {
     "name": "stdout",
     "output_type": "stream",
     "text": [
      "1\n",
      "2\n",
      "3\n",
      "4\n",
      "5\n",
      "6\n",
      "7\n",
      "8\n",
      "9\n",
      "10\n"
     ]
    }
   ],
   "source": [
    "for i in m :\n",
    "    print(i)# here m is the iterable object "
   ]
  },
  {
   "cell_type": "code",
   "execution_count": 10,
   "id": "499301f8-63a4-4dbd-93f8-133d16f8d1c9",
   "metadata": {},
   "outputs": [],
   "source": [
    "class WeeklyAttendance:\n",
    "\n",
    "    def __init__(self,attendence_data):\n",
    "        self.attendence=attendence_data\n",
    "        self.index=0\n",
    "\n",
    "    def __iter__(self): # It takes elements in object\n",
    "        return self\n",
    "\n",
    "    def __next__(self):\n",
    "        if(self.index<self.attendence[self.index]):\n",
    "            week=self.attendence_data[self.index]\n",
    "            self.index += 1\n",
    "            return week\n",
    "        else:\n",
    "            raise StopIteration"
   ]
  },
  {
   "cell_type": "code",
   "execution_count": 12,
   "id": "3f5d8e0a-eab9-4cf2-a5fb-55f7370228bd",
   "metadata": {},
   "outputs": [],
   "source": [
    "weekly_data=[\n",
    "    [\"Alice\",\"Bob\",\"Charlie\"],\n",
    "    [\"Alice\",\"Bob\"],\n",
    "    [\"Eve\",\"Frank\",\"Alice\"]\n",
    "]"
   ]
  },
  {
   "cell_type": "markdown",
   "id": "790f9b80-d7ca-4aa4-a127-9503cda3d5f3",
   "metadata": {},
   "source": [
    "# Abstract class"
   ]
  },
  {
   "cell_type": "raw",
   "id": "c89212cd-66ce-49b8-a6f2-4911d809b5c8",
   "metadata": {},
   "source": [
    "Abstract class are blue prints for derving other classes .it is class where othere classes dervided\n",
    "They can't intatiated directely \n",
    "Abractmenthod[methods with no implementations], creation of abract menthod will enforce implementations of function in derived class.\n",
    "We can use Python abc model \n",
    "\n",
    "from abc import ABC\n",
    "class "
   ]
  },
  {
   "cell_type": "code",
   "execution_count": 13,
   "id": "00d8bed4-9492-41de-b5e0-ec4d1c867bcf",
   "metadata": {},
   "outputs": [],
   "source": [
    "from abc import ABC"
   ]
  },
  {
   "cell_type": "code",
   "execution_count": 21,
   "id": "9d16561c-5374-4a96-aee9-de9bef1caf07",
   "metadata": {},
   "outputs": [
    {
     "ename": "NameError",
     "evalue": "name 'abstract' is not defined",
     "output_type": "error",
     "traceback": [
      "\u001b[1;31m---------------------------------------------------------------------------\u001b[0m",
      "\u001b[1;31mNameError\u001b[0m                                 Traceback (most recent call last)",
      "Cell \u001b[1;32mIn[21], line 1\u001b[0m\n\u001b[1;32m----> 1\u001b[0m \u001b[38;5;28;01mclass\u001b[39;00m \u001b[38;5;21;01mShape\u001b[39;00m(ABC):\n\u001b[0;32m      3\u001b[0m     \u001b[38;5;129m@abstract\u001b[39m\n\u001b[0;32m      4\u001b[0m     \u001b[38;5;28;01mdef\u001b[39;00m \u001b[38;5;21marea\u001b[39m(\u001b[38;5;28mself\u001b[39m):\n\u001b[0;32m      5\u001b[0m         \u001b[38;5;28;01mpass\u001b[39;00m\n",
      "Cell \u001b[1;32mIn[21], line 3\u001b[0m, in \u001b[0;36mShape\u001b[1;34m()\u001b[0m\n\u001b[0;32m      1\u001b[0m \u001b[38;5;28;01mclass\u001b[39;00m \u001b[38;5;21;01mShape\u001b[39;00m(ABC):\n\u001b[1;32m----> 3\u001b[0m     \u001b[38;5;129m@abstract\u001b[39m\n\u001b[0;32m      4\u001b[0m     \u001b[38;5;28;01mdef\u001b[39;00m \u001b[38;5;21marea\u001b[39m(\u001b[38;5;28mself\u001b[39m):\n\u001b[0;32m      5\u001b[0m         \u001b[38;5;28;01mpass\u001b[39;00m\n",
      "\u001b[1;31mNameError\u001b[0m: name 'abstract' is not defined"
     ]
    }
   ],
   "source": [
    "class Shape(ABC):\n",
    "\n",
    "    @abstract\n",
    "    def area(self):\n",
    "        pass\n",
    "        "
   ]
  },
  {
   "cell_type": "code",
   "execution_count": 19,
   "id": "594f48c9-1f8b-41c8-a985-d950b677c9e3",
   "metadata": {},
   "outputs": [],
   "source": [
    "class Circle(ABC):\n",
    "    def __init__(self,radius):\n",
    "        self.radius=radius\n",
    "\n",
    "    def area (self):\n",
    "        return 3.14*self.radius"
   ]
  },
  {
   "cell_type": "code",
   "execution_count": 20,
   "id": "44f4ef2a-8d64-40e6-be5d-ad7d372f780f",
   "metadata": {},
   "outputs": [
    {
     "ename": "NameError",
     "evalue": "name 'Triangle' is not defined",
     "output_type": "error",
     "traceback": [
      "\u001b[1;31m---------------------------------------------------------------------------\u001b[0m",
      "\u001b[1;31mNameError\u001b[0m                                 Traceback (most recent call last)",
      "Cell \u001b[1;32mIn[20], line 1\u001b[0m\n\u001b[1;32m----> 1\u001b[0m t\u001b[38;5;241m=\u001b[39mTriangle(\u001b[38;5;241m1\u001b[39m,\u001b[38;5;241m2\u001b[39m,\u001b[38;5;241m3\u001b[39m)\n",
      "\u001b[1;31mNameError\u001b[0m: name 'Triangle' is not defined"
     ]
    }
   ],
   "source": [
    "t=Triangle(1,2,3)"
   ]
  },
  {
   "cell_type": "code",
   "execution_count": null,
   "id": "0bf0a8bd-2c5c-495e-a9dc-aa4f5ee9849d",
   "metadata": {},
   "outputs": [],
   "source": []
  },
  {
   "cell_type": "markdown",
   "id": "8d1fa52e-5e8c-436d-bb2b-ed9d7794fcd0",
   "metadata": {},
   "source": [
    "# Metaclass"
   ]
  },
  {
   "cell_type": "code",
   "execution_count": 41,
   "id": "ff939ef2-dccc-4f7d-9c53-eb57b2285acc",
   "metadata": {},
   "outputs": [],
   "source": [
    "class MyMeta(type):\n",
    "\n",
    "    def __new__(cls,name,bases,dct) :   #  purpose of  new is create a class itself and get executed first befor __init__ ,it take class , class name, dictionary, bases\n",
    "        dct['class_id']= name.upper()\n",
    "        print(\"Creating a class\",cls,name,bases,dct)\n",
    "        print(\"cls:\",cls)\n",
    "        print(\"name: \", name)\n",
    "        #print(\"base \",base)\n",
    "        print(f\"dct/n\",dct)\n",
    "        return super().__new__(cls,name,bases,dct) # inherenting attributes even before Meta class is created\n"
   ]
  },
  {
   "cell_type": "code",
   "execution_count": 42,
   "id": "ffac8a38-d85c-4a2a-bac6-f838a0d8f9c4",
   "metadata": {},
   "outputs": [
    {
     "name": "stdout",
     "output_type": "stream",
     "text": [
      "Creating a class <class '__main__.MyMeta'> Myclass () {'__module__': '__main__', '__qualname__': 'Myclass', 'greet': <function Myclass.greet at 0x000001FDFEAA1580>, 'class_id': 'MYCLASS'}\n",
      "cls: <class '__main__.MyMeta'>\n",
      "name:  Myclass\n",
      "dct/n {'__module__': '__main__', '__qualname__': 'Myclass', 'greet': <function Myclass.greet at 0x000001FDFEAA1580>, 'class_id': 'MYCLASS'}\n"
     ]
    }
   ],
   "source": [
    "class Myclass(metaclass=MyMeta):\n",
    "    def greet(self):\n",
    "        return f\"{self.class_id}\" # class_id"
   ]
  },
  {
   "cell_type": "code",
   "execution_count": 43,
   "id": "10312bbe-9406-4717-b893-6bfeb7387e96",
   "metadata": {},
   "outputs": [],
   "source": [
    "o=Myclass()"
   ]
  },
  {
   "cell_type": "code",
   "execution_count": 44,
   "id": "d5825372-ad7b-4d45-881f-6cf835fd9012",
   "metadata": {},
   "outputs": [
    {
     "data": {
      "text/plain": [
       "<bound method Myclass.greet of <__main__.Myclass object at 0x000001FDFDECF590>>"
      ]
     },
     "execution_count": 44,
     "metadata": {},
     "output_type": "execute_result"
    }
   ],
   "source": [
    "o.greet"
   ]
  },
  {
   "cell_type": "code",
   "execution_count": 45,
   "id": "2098a836-7e68-4ba2-8443-6f408bbb0d65",
   "metadata": {},
   "outputs": [
    {
     "data": {
      "text/plain": [
       "'MYCLASS'"
      ]
     },
     "execution_count": 45,
     "metadata": {},
     "output_type": "execute_result"
    }
   ],
   "source": [
    "o.greet()"
   ]
  },
  {
   "cell_type": "code",
   "execution_count": 52,
   "id": "675cd7bd-2507-4b47-a747-c225e4de5c8f",
   "metadata": {},
   "outputs": [],
   "source": [
    "class ValidateAnttrs(type):\n",
    "    def __new__(cls,name,bses,dct):\n",
    "        if required_attrs not in dct:\n",
    "            raise TypeError(f\"Class {name} should implement required attributes\")\n",
    "        if not isinstance(dct[required_attr],list):\n",
    "            raise TypeError(f\"required attributes{name} should be a type list\")\n",
    "\n",
    "        return super().__new__(cls,name,base ,dct)  # dct is just variable for dictionary ,it can be abc,bcd\n",
    "            "
   ]
  },
  {
   "cell_type": "code",
   "execution_count": 53,
   "id": "2587e210-7c9d-4138-bb81-5ff5446263b6",
   "metadata": {},
   "outputs": [
    {
     "ename": "NameError",
     "evalue": "name 'required_attrs' is not defined",
     "output_type": "error",
     "traceback": [
      "\u001b[1;31m---------------------------------------------------------------------------\u001b[0m",
      "\u001b[1;31mNameError\u001b[0m                                 Traceback (most recent call last)",
      "Cell \u001b[1;32mIn[53], line 1\u001b[0m\n\u001b[1;32m----> 1\u001b[0m \u001b[38;5;28;01mclass\u001b[39;00m \u001b[38;5;21;01mA\u001b[39;00m(metaclass\u001b[38;5;241m=\u001b[39mValidateAnttrs):\n\u001b[0;32m      2\u001b[0m     \u001b[38;5;28;01mdef\u001b[39;00m \u001b[38;5;21m__init__\u001b[39m(\u001b[38;5;28mself\u001b[39m):\n\u001b[0;32m      3\u001b[0m         \u001b[38;5;28mprint\u001b[39m(\u001b[38;5;124m\"\u001b[39m\u001b[38;5;124mclass created \u001b[39m\u001b[38;5;124m\"\u001b[39m)\n",
      "Cell \u001b[1;32mIn[52], line 3\u001b[0m, in \u001b[0;36mValidateAnttrs.__new__\u001b[1;34m(cls, name, bses, dct)\u001b[0m\n\u001b[0;32m      2\u001b[0m \u001b[38;5;28;01mdef\u001b[39;00m \u001b[38;5;21m__new__\u001b[39m(\u001b[38;5;28mcls\u001b[39m,name,bses,dct):\n\u001b[1;32m----> 3\u001b[0m     \u001b[38;5;28;01mif\u001b[39;00m required_attrs \u001b[38;5;129;01mnot\u001b[39;00m \u001b[38;5;129;01min\u001b[39;00m dct:\n\u001b[0;32m      4\u001b[0m         \u001b[38;5;28;01mraise\u001b[39;00m \u001b[38;5;167;01mTypeError\u001b[39;00m(\u001b[38;5;124mf\u001b[39m\u001b[38;5;124m\"\u001b[39m\u001b[38;5;124mClass \u001b[39m\u001b[38;5;132;01m{\u001b[39;00mname\u001b[38;5;132;01m}\u001b[39;00m\u001b[38;5;124m should implement required attributes\u001b[39m\u001b[38;5;124m\"\u001b[39m)\n\u001b[0;32m      5\u001b[0m     \u001b[38;5;28;01mif\u001b[39;00m \u001b[38;5;129;01mnot\u001b[39;00m \u001b[38;5;28misinstance\u001b[39m(dct[required_attr],\u001b[38;5;28mlist\u001b[39m):\n",
      "\u001b[1;31mNameError\u001b[0m: name 'required_attrs' is not defined"
     ]
    }
   ],
   "source": [
    "class A(metaclass=ValidateAnttrs):\n",
    "    def __init__(self):\n",
    "        print(\"class created \")"
   ]
  },
  {
   "cell_type": "code",
   "execution_count": 54,
   "id": "d238db5e-09c2-46a7-a3c8-056bea120f9f",
   "metadata": {},
   "outputs": [
    {
     "ename": "NameError",
     "evalue": "name 'required_attrs' is not defined",
     "output_type": "error",
     "traceback": [
      "\u001b[1;31m---------------------------------------------------------------------------\u001b[0m",
      "\u001b[1;31mNameError\u001b[0m                                 Traceback (most recent call last)",
      "Cell \u001b[1;32mIn[54], line 1\u001b[0m\n\u001b[1;32m----> 1\u001b[0m \u001b[38;5;28;01mclass\u001b[39;00m \u001b[38;5;21;01mA\u001b[39;00m(metaclass\u001b[38;5;241m=\u001b[39mValidateAnttrs):\n\u001b[0;32m      2\u001b[0m     required_attrs\u001b[38;5;241m=\u001b[39m [\u001b[38;5;124m\"\u001b[39m\u001b[38;5;124mname\u001b[39m\u001b[38;5;124m\"\u001b[39m,\u001b[38;5;124m\"\u001b[39m\u001b[38;5;124memail\u001b[39m\u001b[38;5;124m\"\u001b[39m]\n\u001b[0;32m      3\u001b[0m     \u001b[38;5;28;01mdef\u001b[39;00m \u001b[38;5;21m__init__\u001b[39m(\u001b[38;5;28mself\u001b[39m):\n",
      "Cell \u001b[1;32mIn[52], line 3\u001b[0m, in \u001b[0;36mValidateAnttrs.__new__\u001b[1;34m(cls, name, bses, dct)\u001b[0m\n\u001b[0;32m      2\u001b[0m \u001b[38;5;28;01mdef\u001b[39;00m \u001b[38;5;21m__new__\u001b[39m(\u001b[38;5;28mcls\u001b[39m,name,bses,dct):\n\u001b[1;32m----> 3\u001b[0m     \u001b[38;5;28;01mif\u001b[39;00m required_attrs \u001b[38;5;129;01mnot\u001b[39;00m \u001b[38;5;129;01min\u001b[39;00m dct:\n\u001b[0;32m      4\u001b[0m         \u001b[38;5;28;01mraise\u001b[39;00m \u001b[38;5;167;01mTypeError\u001b[39;00m(\u001b[38;5;124mf\u001b[39m\u001b[38;5;124m\"\u001b[39m\u001b[38;5;124mClass \u001b[39m\u001b[38;5;132;01m{\u001b[39;00mname\u001b[38;5;132;01m}\u001b[39;00m\u001b[38;5;124m should implement required attributes\u001b[39m\u001b[38;5;124m\"\u001b[39m)\n\u001b[0;32m      5\u001b[0m     \u001b[38;5;28;01mif\u001b[39;00m \u001b[38;5;129;01mnot\u001b[39;00m \u001b[38;5;28misinstance\u001b[39m(dct[required_attr],\u001b[38;5;28mlist\u001b[39m):\n",
      "\u001b[1;31mNameError\u001b[0m: name 'required_attrs' is not defined"
     ]
    }
   ],
   "source": [
    "class A(metaclass=ValidateAnttrs):\n",
    "    required_attrs= [\"name\",\"email\"]\n",
    "    def __init__(self):\n",
    "        print(\"class created \")"
   ]
  },
  {
   "cell_type": "code",
   "execution_count": 55,
   "id": "3fbcd834-f77b-4fc7-913b-47ac133922dd",
   "metadata": {},
   "outputs": [],
   "source": [
    "class ValidateAttrs(type):\n",
    "    def __new__(cls, name, bases, dct):\n",
    "        required_attr = 'required_attrs'\n",
    "        if required_attr not in dct:\n",
    "            raise TypeError(f\"Class {name} should implement the '{required_attr}' attribute\")\n",
    "        if not isinstance(dct[required_attr], list):\n",
    "            raise TypeError(f\"'{required_attr}' in class {name} should be of type 'list'\")\n",
    "        return super().__new__(cls, name, bases, dct)\n",
    "\n",
    "class A(metaclass=ValidateAttrs):\n",
    "    required_attrs = [\"name\", \"email\"]\n",
    "    def __init__(self):\n",
    "        print(\"class created\")\n"
   ]
  },
  {
   "cell_type": "code",
   "execution_count": 56,
   "id": "0cbe822e-1b3c-42e4-a7d4-6be39f6f6a7a",
   "metadata": {},
   "outputs": [
    {
     "name": "stdout",
     "output_type": "stream",
     "text": [
      "Testing ValidClass:\n",
      "ValidClass created\n",
      "\n",
      "Testing InvalidClass (Missing required_attrs):\n",
      "Class InvalidClass should implement the 'required_attrs' attribute\n",
      "\n",
      "Testing AnotherInvalidClass (required_attrs not a list):\n",
      "'required_attrs' in class AnotherInvalidClass should be of type 'list'\n"
     ]
    }
   ],
   "source": [
    "# Define the metaclass with proper checks\n",
    "class ValidateAttrs(type):\n",
    "    def __new__(cls, name, bases, dct):\n",
    "        # The name of the required attribute as a string\n",
    "        required_attr = 'required_attrs'\n",
    "        # Check if the required attribute exists in the class dictionary\n",
    "        if required_attr not in dct:\n",
    "            raise TypeError(f\"Class {name} should implement the '{required_attr}' attribute\")\n",
    "        # Check if the value of the required attribute is a list\n",
    "        if not isinstance(dct[required_attr], list):\n",
    "            raise TypeError(f\"'{required_attr}' in class {name} should be of type 'list'\")\n",
    "        # Create the class if all checks pass\n",
    "        return super().__new__(cls, name, bases, dct)\n",
    "\n",
    "\n",
    "# Test Case 1: Valid Class\n",
    "class ValidClass(metaclass=ValidateAttrs):\n",
    "    required_attrs = [\"name\", \"email\"]\n",
    "\n",
    "    def __init__(self):\n",
    "        print(\"ValidClass created\")\n",
    "\n",
    "\n",
    "print(\"Testing ValidClass:\")\n",
    "obj = ValidClass()  # This should work correctly.\n",
    "print()\n",
    "\n",
    "\n",
    "# Test Case 2: Missing 'required_attrs' Attribute\n",
    "try:\n",
    "    class InvalidClass(metaclass=ValidateAttrs):\n",
    "        # Intentionally omitting 'required_attrs'\n",
    "        def __init__(self):\n",
    "            print(\"InvalidClass created\")\n",
    "except TypeError as e:\n",
    "    print(\"Testing InvalidClass (Missing required_attrs):\")\n",
    "    print(e)\n",
    "    print()\n",
    "\n",
    "\n",
    "# Test Case 3: 'required_attrs' Not a List\n",
    "try:\n",
    "    class AnotherInvalidClass(metaclass=ValidateAttrs):\n",
    "        # 'required_attrs' is provided but not as a list.\n",
    "        required_attrs = \"name, email\"  # Should be a list, not a string.\n",
    "        \n",
    "        def __init__(self):\n",
    "            print(\"AnotherInvalidClass created\")\n",
    "except TypeError as e:\n",
    "    print(\"Testing AnotherInvalidClass (required_attrs not a list):\")\n",
    "    print(e)\n"
   ]
  },
  {
   "cell_type": "code",
   "execution_count": 58,
   "id": "396b9b26-eb99-40e3-9c42-2efeb49e60a2",
   "metadata": {},
   "outputs": [],
   "source": [
    "class Person(metaclass=ValidateAttrs):\n",
    "    required_attrs=['name','email']\n",
    " \n",
    "def __init__(self,**kargs):#keyword arguments--dictionary format\n",
    "    missing=[attr for attr in self.required_attrs if attr not in kargs]\n",
    "    if missing:\n",
    "        raise ValueError(\"f missing attributes:{missing}\")\n",
    "    for attr in Person.required_attrs:\n",
    "        setattr(self,attr,kargs[attr])"
   ]
  },
  {
   "cell_type": "code",
   "execution_count": 59,
   "id": "1f473713-5967-4180-af57-047472661596",
   "metadata": {},
   "outputs": [
    {
     "ename": "TypeError",
     "evalue": "Person() takes no arguments",
     "output_type": "error",
     "traceback": [
      "\u001b[1;31m---------------------------------------------------------------------------\u001b[0m",
      "\u001b[1;31mTypeError\u001b[0m                                 Traceback (most recent call last)",
      "Cell \u001b[1;32mIn[59], line 1\u001b[0m\n\u001b[1;32m----> 1\u001b[0m p\u001b[38;5;241m=\u001b[39mPerson(\u001b[38;5;124m\"\u001b[39m\u001b[38;5;124mAnil\u001b[39m\u001b[38;5;124m\"\u001b[39m,\u001b[38;5;124m\"\u001b[39m\u001b[38;5;124manil@yahoomail.com\u001b[39m\u001b[38;5;124m\"\u001b[39m)\n",
      "\u001b[1;31mTypeError\u001b[0m: Person() takes no arguments"
     ]
    }
   ],
   "source": [
    "p=Person(\"Anil\",\"anil@yahoomail.com\")"
   ]
  },
  {
   "cell_type": "code",
   "execution_count": null,
   "id": "e384a554-f0df-45f2-9bb9-0ff620ebdad6",
   "metadata": {},
   "outputs": [],
   "source": []
  },
  {
   "cell_type": "code",
   "execution_count": null,
   "id": "08fee1e8-2a72-4e9d-a55f-adce28b2e777",
   "metadata": {},
   "outputs": [],
   "source": []
  },
  {
   "cell_type": "code",
   "execution_count": 60,
   "id": "a8c4c8ab-73ab-4caa-aee0-9eb8450a15c9",
   "metadata": {},
   "outputs": [
    {
     "name": "stdout",
     "output_type": "stream",
     "text": [
      "Person(name=Anil, email=anil@yahoomail.com)\n"
     ]
    }
   ],
   "source": [
    "class Person(metaclass=ValidateAttrs):\n",
    "    required_attrs = ['name', 'email']\n",
    "    \n",
    "    def __init__(self, **kwargs):  # Use keyword arguments as a dictionary\n",
    "        # Determine any missing required attribute(s)\n",
    "        missing = [attr for attr in self.required_attrs if attr not in kwargs]\n",
    "        if missing:\n",
    "            raise ValueError(f\"Missing attributes: {missing}\")\n",
    "        # Set attributes on the instance\n",
    "        for attr in self.required_attrs:\n",
    "            setattr(self, attr, kwargs[attr])\n",
    "            \n",
    "    def __repr__(self):\n",
    "        # Return a string representation of the instance for debugging\n",
    "        return f\"Person(name={self.name}, email={self.email})\"\n",
    "\n",
    "\n",
    "# Correct usage: pass arguments as keywords\n",
    "p = Person(name=\"Anil\", email=\"anil@yahoomail.com\")\n",
    "print(p)\n"
   ]
  },
  {
   "cell_type": "code",
   "execution_count": 68,
   "id": "295ae2f3-ad90-4fe7-b4b1-4be780221e8e",
   "metadata": {},
   "outputs": [
    {
     "data": {
      "text/plain": [
       "['__add__',\n",
       " '__class__',\n",
       " '__contains__',\n",
       " '__delattr__',\n",
       " '__dir__',\n",
       " '__doc__',\n",
       " '__eq__',\n",
       " '__format__',\n",
       " '__ge__',\n",
       " '__getattribute__',\n",
       " '__getitem__',\n",
       " '__getnewargs__',\n",
       " '__getstate__',\n",
       " '__gt__',\n",
       " '__hash__',\n",
       " '__init__',\n",
       " '__init_subclass__',\n",
       " '__iter__',\n",
       " '__le__',\n",
       " '__len__',\n",
       " '__lt__',\n",
       " '__mod__',\n",
       " '__mul__',\n",
       " '__ne__',\n",
       " '__new__',\n",
       " '__reduce__',\n",
       " '__reduce_ex__',\n",
       " '__repr__',\n",
       " '__rmod__',\n",
       " '__rmul__',\n",
       " '__setattr__',\n",
       " '__sizeof__',\n",
       " '__str__',\n",
       " '__subclasshook__',\n",
       " 'capitalize',\n",
       " 'casefold',\n",
       " 'center',\n",
       " 'count',\n",
       " 'encode',\n",
       " 'endswith',\n",
       " 'expandtabs',\n",
       " 'find',\n",
       " 'format',\n",
       " 'format_map',\n",
       " 'index',\n",
       " 'isalnum',\n",
       " 'isalpha',\n",
       " 'isascii',\n",
       " 'isdecimal',\n",
       " 'isdigit',\n",
       " 'isidentifier',\n",
       " 'islower',\n",
       " 'isnumeric',\n",
       " 'isprintable',\n",
       " 'isspace',\n",
       " 'istitle',\n",
       " 'isupper',\n",
       " 'join',\n",
       " 'ljust',\n",
       " 'lower',\n",
       " 'lstrip',\n",
       " 'maketrans',\n",
       " 'partition',\n",
       " 'removeprefix',\n",
       " 'removesuffix',\n",
       " 'replace',\n",
       " 'rfind',\n",
       " 'rindex',\n",
       " 'rjust',\n",
       " 'rpartition',\n",
       " 'rsplit',\n",
       " 'rstrip',\n",
       " 'split',\n",
       " 'splitlines',\n",
       " 'startswith',\n",
       " 'strip',\n",
       " 'swapcase',\n",
       " 'title',\n",
       " 'translate',\n",
       " 'upper',\n",
       " 'zfill']"
      ]
     },
     "execution_count": 68,
     "metadata": {},
     "output_type": "execute_result"
    }
   ],
   "source": [
    "dir(p)"
   ]
  },
  {
   "cell_type": "code",
   "execution_count": 70,
   "id": "c88d6ee8-ce7a-4122-88c8-575efbfc393d",
   "metadata": {},
   "outputs": [
    {
     "data": {
      "text/plain": [
       "str"
      ]
     },
     "execution_count": 70,
     "metadata": {},
     "output_type": "execute_result"
    }
   ],
   "source": [
    "p.__class__"
   ]
  },
  {
   "cell_type": "code",
   "execution_count": 72,
   "id": "deda2388-957a-4b85-8fbf-66741ad2aa8f",
   "metadata": {},
   "outputs": [
    {
     "data": {
      "text/plain": [
       "<method-wrapper '__init__' of str object at 0x000001FDFEA1A430>"
      ]
     },
     "execution_count": 72,
     "metadata": {},
     "output_type": "execute_result"
    }
   ],
   "source": [
    "p.__init__"
   ]
  },
  {
   "cell_type": "code",
   "execution_count": 73,
   "id": "f4e5de50-f3d1-4126-93e3-e47a348eaf1f",
   "metadata": {},
   "outputs": [
    {
     "ename": "AttributeError",
     "evalue": "'str' object has no attribute '__dict__'",
     "output_type": "error",
     "traceback": [
      "\u001b[1;31m---------------------------------------------------------------------------\u001b[0m",
      "\u001b[1;31mAttributeError\u001b[0m                            Traceback (most recent call last)",
      "Cell \u001b[1;32mIn[73], line 1\u001b[0m\n\u001b[1;32m----> 1\u001b[0m p\u001b[38;5;241m.\u001b[39m\u001b[38;5;18m__dict__\u001b[39m\n",
      "\u001b[1;31mAttributeError\u001b[0m: 'str' object has no attribute '__dict__'"
     ]
    }
   ],
   "source": [
    "p.__dict__"
   ]
  },
  {
   "cell_type": "code",
   "execution_count": null,
   "id": "13a55a2a-76e0-41b0-93fb-a99f2de7ccac",
   "metadata": {},
   "outputs": [],
   "source": []
  },
  {
   "cell_type": "markdown",
   "id": "ce751b18-fb2c-40f8-834b-ea11298575a6",
   "metadata": {},
   "source": [
    "# labsession"
   ]
  },
  {
   "cell_type": "raw",
   "id": "b69a82a6-2989-4f95-a119-9a4d6bebd60c",
   "metadata": {},
   "source": [
    "Session 1 [40]\n",
    "---------------------------------------------------------------------------------------------------------\n",
    "\n",
    "Task 1: Chunking data with generators\n",
    "--------------------------------------------------------\n",
    "\n",
    "You have a large list of items (e.g., 10,000 user IDs), and you want to process \n",
    "them in chunks of fixed size (say 100) — maybe for batching in an API call.\n",
    "\n",
    "Example:\n",
    "\n",
    "for chunk in chunk_data(user_ids, 100):\n",
    "    print(f\"Processing chunk: {chunk[:3]}...{chunk[-3:]}\")  # show partial chunk\n",
    "\n",
    "Processing chunk: [1, 2, 3]...[98, 99, 100]\n",
    "Processing chunk: [101, 102, 103]...[198, 199, 200]\n",
    "...\n",
    "\n",
    "\n",
    "Task 2 Stream-Based Line Filtering (Simulating Log Monitor)\n",
    "--------------------------------------------------------\n",
    "\n",
    "You’re processing live logs and want to filter lines that contain a keyword, say \"ERROR\".\n",
    "Write a generator: filter_log_lines\n",
    "\n",
    "\n",
    "Example:\n",
    "\n",
    "# Simulated log lines (could also be read line-by-line from a real file)\n",
    "log_lines = [\n",
    "    \"2025-04-07 INFO User logged in\",\n",
    "    \"2025-04-07 ERROR Failed to load resource\",\n",
    "    \"2025-04-07 DEBUG Memory usage stable\",\n",
    "    \"2025-04-07 ERROR Timeout occurred\",\n",
    "]\n",
    "\n",
    "# Filter for error lines\n",
    "for error in filter_log_lines(log_lines, keyword=\"ERROR\"):\n",
    "    print(\">>\", error)\n",
    "\n",
    "Output:\n",
    ">> 2025-04-07 ERROR Failed to load resource\n",
    ">> 2025-04-07 ERROR Timeout occurred\n",
    "\n",
    "Task 3 Progress Tracker\n",
    "--------------------------------------------------------\n",
    "\n",
    "Simulate a progress bar using a generator called progress_tracker(total_steps). \n",
    "At each step, yield the progress percentage as a string like \"Progress: 20%\".\n",
    "\n",
    "# Example:\n",
    "for p in progress_tracker(5):\n",
    "    print(p)\n",
    "\n",
    "Progress: 20%\n",
    "Progress: 40%\n",
    "Progress: 60%\n",
    "Progress: 80%\n",
    "Progress: 100%\n",
    "\n",
    "Use a loop and yield formatted strings based on (step / total_steps) * 100.\n",
    "\n",
    "Session 2: [30]\n",
    "---------------------------------------------------------------------------------------------------------\n",
    "\n",
    "Task #1\n",
    "--------------------------------------------------------\n",
    "Create a text-processing tool that reads a paragraph and returns each word \n",
    "one at a time when iterated over. You want to build a custom iterator \n",
    "class called WordIterator that takes a string of text and lets users \n",
    "iterate through its words using a for loop or next().\n",
    "\n",
    "# Sample paragraph\n",
    "paragraph = \"Python is a powerful and versatile programming language.\"\n",
    "\n",
    "# Create the iterator\n",
    "word_iter = WordIterator(paragraph)\n",
    "\n",
    "# Iterate through the words\n",
    "for word in word_iter:\n",
    "    print(word)\n",
    "\n",
    "# Output\n",
    "Python\n",
    "is\n",
    "a\n",
    "powerful\n",
    "and\n",
    "versatile\n",
    "programming\n",
    "language.\n"
   ]
  },
  {
   "cell_type": "raw",
   "id": "4f14c357-3503-47c9-b568-30eeea7e9b0d",
   "metadata": {},
   "source": [
    "ask 1: Chunking data with generators\n",
    "--------------------------------------------------------\n",
    "\n",
    "You have a large list of items (e.g., 10,000 user IDs), and you want to process \n",
    "them in chunks of fixed size (say 100) — maybe for batching in an API call.\n",
    "\n",
    "Example:\n",
    "\n",
    "for chunk in chunk_data(user_ids, 100):\n",
    "    print(f\"Processing chunk: {chunk[:3]}...{chunk[-3:]}\")  # show partial chunk\n",
    "\n",
    "Processing chunk: [1, 2, 3]...[98, 99, 100]\n",
    "Processing chunk: [101, 102, 103]...[198, 199, 200]\n",
    "...\n",
    "\n"
   ]
  },
  {
   "cell_type": "code",
   "execution_count": 62,
   "id": "0ab571b6-f067-4e42-9614-dfdb2940f2c3",
   "metadata": {},
   "outputs": [
    {
     "name": "stdout",
     "output_type": "stream",
     "text": [
      "Processing chunk: [1, 2, 3]...[98, 99, 100]\n"
     ]
    }
   ],
   "source": [
    "def chunk_data(data, chunk_size, include_index=True):\n",
    " \n",
    "    # yield the chunks\n",
    "    for i in range(0, len(data), chunk_size):\n",
    "        yield data[i:i + chunk_size]\n",
    "user_ids = list(range(1, 101))  \n",
    " \n",
    "for chunk in chunk_data(user_ids, 100):\n",
    "    print(f\"Processing chunk: {chunk[:3]}...{chunk[-3:]}\")"
   ]
  },
  {
   "cell_type": "code",
   "execution_count": 63,
   "id": "8a4dd510-1b54-44d5-a132-5f40eba021dd",
   "metadata": {
    "scrolled": true
   },
   "outputs": [
    {
     "name": "stdout",
     "output_type": "stream",
     "text": [
      "Processing chunk: [1, 2, 3]...[98, 99, 100]\n",
      "Processing chunk: [101, 102, 103]...[198, 199, 200]\n",
      "Processing chunk: [201, 202, 203]...[298, 299, 300]\n",
      "Processing chunk: [301, 302, 303]...[398, 399, 400]\n",
      "Processing chunk: [401, 402, 403]...[498, 499, 500]\n",
      "Processing chunk: [501, 502, 503]...[598, 599, 600]\n",
      "Processing chunk: [601, 602, 603]...[698, 699, 700]\n",
      "Processing chunk: [701, 702, 703]...[798, 799, 800]\n",
      "Processing chunk: [801, 802, 803]...[898, 899, 900]\n",
      "Processing chunk: [901, 902, 903]...[998, 999, 1000]\n",
      "Processing chunk: [1001, 1002, 1003]...[1098, 1099, 1100]\n",
      "Processing chunk: [1101, 1102, 1103]...[1198, 1199, 1200]\n",
      "Processing chunk: [1201, 1202, 1203]...[1298, 1299, 1300]\n",
      "Processing chunk: [1301, 1302, 1303]...[1398, 1399, 1400]\n",
      "Processing chunk: [1401, 1402, 1403]...[1498, 1499, 1500]\n",
      "Processing chunk: [1501, 1502, 1503]...[1598, 1599, 1600]\n",
      "Processing chunk: [1601, 1602, 1603]...[1698, 1699, 1700]\n",
      "Processing chunk: [1701, 1702, 1703]...[1798, 1799, 1800]\n",
      "Processing chunk: [1801, 1802, 1803]...[1898, 1899, 1900]\n",
      "Processing chunk: [1901, 1902, 1903]...[1998, 1999, 2000]\n",
      "Processing chunk: [2001, 2002, 2003]...[2098, 2099, 2100]\n",
      "Processing chunk: [2101, 2102, 2103]...[2198, 2199, 2200]\n",
      "Processing chunk: [2201, 2202, 2203]...[2298, 2299, 2300]\n",
      "Processing chunk: [2301, 2302, 2303]...[2398, 2399, 2400]\n",
      "Processing chunk: [2401, 2402, 2403]...[2498, 2499, 2500]\n",
      "Processing chunk: [2501, 2502, 2503]...[2598, 2599, 2600]\n",
      "Processing chunk: [2601, 2602, 2603]...[2698, 2699, 2700]\n",
      "Processing chunk: [2701, 2702, 2703]...[2798, 2799, 2800]\n",
      "Processing chunk: [2801, 2802, 2803]...[2898, 2899, 2900]\n",
      "Processing chunk: [2901, 2902, 2903]...[2998, 2999, 3000]\n",
      "Processing chunk: [3001, 3002, 3003]...[3098, 3099, 3100]\n",
      "Processing chunk: [3101, 3102, 3103]...[3198, 3199, 3200]\n",
      "Processing chunk: [3201, 3202, 3203]...[3298, 3299, 3300]\n",
      "Processing chunk: [3301, 3302, 3303]...[3398, 3399, 3400]\n",
      "Processing chunk: [3401, 3402, 3403]...[3498, 3499, 3500]\n",
      "Processing chunk: [3501, 3502, 3503]...[3598, 3599, 3600]\n",
      "Processing chunk: [3601, 3602, 3603]...[3698, 3699, 3700]\n",
      "Processing chunk: [3701, 3702, 3703]...[3798, 3799, 3800]\n",
      "Processing chunk: [3801, 3802, 3803]...[3898, 3899, 3900]\n",
      "Processing chunk: [3901, 3902, 3903]...[3998, 3999, 4000]\n",
      "Processing chunk: [4001, 4002, 4003]...[4098, 4099, 4100]\n",
      "Processing chunk: [4101, 4102, 4103]...[4198, 4199, 4200]\n",
      "Processing chunk: [4201, 4202, 4203]...[4298, 4299, 4300]\n",
      "Processing chunk: [4301, 4302, 4303]...[4398, 4399, 4400]\n",
      "Processing chunk: [4401, 4402, 4403]...[4498, 4499, 4500]\n",
      "Processing chunk: [4501, 4502, 4503]...[4598, 4599, 4600]\n",
      "Processing chunk: [4601, 4602, 4603]...[4698, 4699, 4700]\n",
      "Processing chunk: [4701, 4702, 4703]...[4798, 4799, 4800]\n",
      "Processing chunk: [4801, 4802, 4803]...[4898, 4899, 4900]\n",
      "Processing chunk: [4901, 4902, 4903]...[4998, 4999, 5000]\n",
      "Processing chunk: [5001, 5002, 5003]...[5098, 5099, 5100]\n",
      "Processing chunk: [5101, 5102, 5103]...[5198, 5199, 5200]\n",
      "Processing chunk: [5201, 5202, 5203]...[5298, 5299, 5300]\n",
      "Processing chunk: [5301, 5302, 5303]...[5398, 5399, 5400]\n",
      "Processing chunk: [5401, 5402, 5403]...[5498, 5499, 5500]\n",
      "Processing chunk: [5501, 5502, 5503]...[5598, 5599, 5600]\n",
      "Processing chunk: [5601, 5602, 5603]...[5698, 5699, 5700]\n",
      "Processing chunk: [5701, 5702, 5703]...[5798, 5799, 5800]\n",
      "Processing chunk: [5801, 5802, 5803]...[5898, 5899, 5900]\n",
      "Processing chunk: [5901, 5902, 5903]...[5998, 5999, 6000]\n",
      "Processing chunk: [6001, 6002, 6003]...[6098, 6099, 6100]\n",
      "Processing chunk: [6101, 6102, 6103]...[6198, 6199, 6200]\n",
      "Processing chunk: [6201, 6202, 6203]...[6298, 6299, 6300]\n",
      "Processing chunk: [6301, 6302, 6303]...[6398, 6399, 6400]\n",
      "Processing chunk: [6401, 6402, 6403]...[6498, 6499, 6500]\n",
      "Processing chunk: [6501, 6502, 6503]...[6598, 6599, 6600]\n",
      "Processing chunk: [6601, 6602, 6603]...[6698, 6699, 6700]\n",
      "Processing chunk: [6701, 6702, 6703]...[6798, 6799, 6800]\n",
      "Processing chunk: [6801, 6802, 6803]...[6898, 6899, 6900]\n",
      "Processing chunk: [6901, 6902, 6903]...[6998, 6999, 7000]\n",
      "Processing chunk: [7001, 7002, 7003]...[7098, 7099, 7100]\n",
      "Processing chunk: [7101, 7102, 7103]...[7198, 7199, 7200]\n",
      "Processing chunk: [7201, 7202, 7203]...[7298, 7299, 7300]\n",
      "Processing chunk: [7301, 7302, 7303]...[7398, 7399, 7400]\n",
      "Processing chunk: [7401, 7402, 7403]...[7498, 7499, 7500]\n",
      "Processing chunk: [7501, 7502, 7503]...[7598, 7599, 7600]\n",
      "Processing chunk: [7601, 7602, 7603]...[7698, 7699, 7700]\n",
      "Processing chunk: [7701, 7702, 7703]...[7798, 7799, 7800]\n",
      "Processing chunk: [7801, 7802, 7803]...[7898, 7899, 7900]\n",
      "Processing chunk: [7901, 7902, 7903]...[7998, 7999, 8000]\n",
      "Processing chunk: [8001, 8002, 8003]...[8098, 8099, 8100]\n",
      "Processing chunk: [8101, 8102, 8103]...[8198, 8199, 8200]\n",
      "Processing chunk: [8201, 8202, 8203]...[8298, 8299, 8300]\n",
      "Processing chunk: [8301, 8302, 8303]...[8398, 8399, 8400]\n",
      "Processing chunk: [8401, 8402, 8403]...[8498, 8499, 8500]\n",
      "Processing chunk: [8501, 8502, 8503]...[8598, 8599, 8600]\n",
      "Processing chunk: [8601, 8602, 8603]...[8698, 8699, 8700]\n",
      "Processing chunk: [8701, 8702, 8703]...[8798, 8799, 8800]\n",
      "Processing chunk: [8801, 8802, 8803]...[8898, 8899, 8900]\n",
      "Processing chunk: [8901, 8902, 8903]...[8998, 8999, 9000]\n",
      "Processing chunk: [9001, 9002, 9003]...[9098, 9099, 9100]\n",
      "Processing chunk: [9101, 9102, 9103]...[9198, 9199, 9200]\n",
      "Processing chunk: [9201, 9202, 9203]...[9298, 9299, 9300]\n",
      "Processing chunk: [9301, 9302, 9303]...[9398, 9399, 9400]\n",
      "Processing chunk: [9401, 9402, 9403]...[9498, 9499, 9500]\n",
      "Processing chunk: [9501, 9502, 9503]...[9598, 9599, 9600]\n",
      "Processing chunk: [9601, 9602, 9603]...[9698, 9699, 9700]\n",
      "Processing chunk: [9701, 9702, 9703]...[9798, 9799, 9800]\n",
      "Processing chunk: [9801, 9802, 9803]...[9898, 9899, 9900]\n",
      "Processing chunk: [9901, 9902, 9903]...[9998, 9999, 10000]\n"
     ]
    }
   ],
   "source": [
    "def chunk_data(data, chunk_size):\n",
    "    \"\"\"Yield successive chunks from data with the specified chunk_size.\"\"\"\n",
    "    for i in range(0, len(data), chunk_size):\n",
    "        yield data[i:i + chunk_size]\n",
    "\n",
    "# Example usage:\n",
    "user_ids = list(range(1, 10001))\n",
    "for chunk in chunk_data(user_ids, 100):\n",
    "    print(f\"Processing chunk: {chunk[:3]}...{chunk[-3:]}\")\n"
   ]
  },
  {
   "cell_type": "markdown",
   "id": "20d78ca8-8ccd-4ca5-8b99-575054e6367c",
   "metadata": {},
   "source": [
    "# Qn"
   ]
  },
  {
   "cell_type": "raw",
   "id": "67bf4854-fbf8-407e-95cd-6f9cbf2ca2c6",
   "metadata": {},
   "source": [
    "\n",
    "Task 2 Stream-Based Line Filtering (Simulating Log Monitor)\n",
    "--------------------------------------------------------\n",
    "\n",
    "You’re processing live logs and want to filter lines that contain a keyword, say \"ERROR\".\n",
    "Write a generator: filter_log_lines\n",
    "\n",
    "\n",
    "Example:\n",
    "\n",
    "# Simulated log lines (could also be read line-by-line from a real file)\n",
    "log_lines = [\n",
    "    \"2025-04-07 INFO User logged in\",\n",
    "    \"2025-04-07 ERROR Failed to load resource\",\n",
    "    \"2025-04-07 DEBUG Memory usage stable\",\n",
    "    \"2025-04-07 ERROR Timeout occurred\",\n",
    "]\n",
    "\n",
    "# Filter for error lines\n",
    "for error in filter_log_lines(log_lines, keyword=\"ERROR\"):\n",
    "    print(\">>\", error)\n",
    "\n",
    "Output:\n",
    ">> 2025-04-07 ERROR Failed to load resource\n",
    ">> 2025-04-07 ERROR Timeout occurred\n"
   ]
  },
  {
   "cell_type": "code",
   "execution_count": 64,
   "id": "ec092373-8a07-4ad2-b48b-bbff23e8d5f4",
   "metadata": {},
   "outputs": [
    {
     "name": "stdout",
     "output_type": "stream",
     "text": [
      ">> 2025-04-07 ERROR Failed to load resource\n",
      ">> 2025-04-07 ERROR Timeout occurred\n"
     ]
    }
   ],
   "source": [
    "def filter_log_lines(log_lines, keyword):\n",
    "    \"\"\"\n",
    "    Generator that yields lines containing the given keyword.\n",
    "\n",
    "    Parameters:\n",
    "        log_lines (iterable): An iterable of log lines.\n",
    "        keyword (str): The keyword to search for in each log line.\n",
    "\n",
    "    Yields:\n",
    "        str: Each log line that contains the keyword.\n",
    "    \"\"\"\n",
    "    for line in log_lines:\n",
    "        if keyword in line:\n",
    "            yield line\n",
    "\n",
    "# Example usage:\n",
    "log_lines = [\n",
    "    \"2025-04-07 INFO User logged in\",\n",
    "    \"2025-04-07 ERROR Failed to load resource\",\n",
    "    \"2025-04-07 DEBUG Memory usage stable\",\n",
    "    \"2025-04-07 ERROR Timeout occurred\",\n",
    "]\n",
    "\n",
    "# Filter for error lines:\n",
    "for error in filter_log_lines(log_lines, keyword=\"ERROR\"):\n",
    "    print(\">>\", error)\n"
   ]
  },
  {
   "cell_type": "code",
   "execution_count": null,
   "id": "22aa7284-243d-4722-b754-e2edfd64bf20",
   "metadata": {},
   "outputs": [],
   "source": [
    "Task 2 Stream-Based Line Filtering (Simulating Log Monitor)\n",
    "--------------------------------------------------------\n",
    "\n",
    "You’re processing live logs and want to filter lines that contain a keyword, say \"ERROR\".\n",
    "Write a generator: filter_log_lines\n",
    "\n",
    "\n",
    "Example:\n",
    "\n",
    "# Simulated log lines (could also be read line-by-line from a real file)\n",
    "log_lines = [\n",
    "    \"2025-04-07 INFO User logged in\",\n",
    "    \"2025-04-07 ERROR Failed to load resource\",\n",
    "    \"2025-04-07 DEBUG Memory usage stable\",\n",
    "    \"2025-04-07 ERROR Timeout occurred\",\n",
    "]\n",
    "\n",
    "# Filter for error lines\n",
    "for error in filter_log_lines(log_lines, keyword=\"ERROR\"):\n",
    "    print(\">>\", error)\n",
    "\n",
    "Output:\n",
    ">> 2025-04-07 ERROR Failed to load resource\n",
    ">> 2025-04-07 ERROR Timeout occurred\n"
   ]
  },
  {
   "cell_type": "code",
   "execution_count": 66,
   "id": "86f06408-af9d-444c-9011-d5d333fe6974",
   "metadata": {},
   "outputs": [
    {
     "name": "stdout",
     "output_type": "stream",
     "text": [
      ">> 2025-04-07 ERROR Failed to load resource\n",
      ">> 2025-04-07 ERROR Timeout occurred\n"
     ]
    }
   ],
   "source": [
    "def filter_log_lines(log_lines, keyword):\n",
    "    \"\"\"\n",
    "    Generator that yields log lines containing the given keyword.\n",
    "    \n",
    "    Parameters:\n",
    "        log_lines (iterable): A sequence of log lines (strings).\n",
    "        keyword (str): The keyword to filter lines by.\n",
    "        \n",
    "    Yields:\n",
    "        str: Log lines containing the keyword.\n",
    "    \"\"\"\n",
    "    for line in log_lines:\n",
    "        if keyword in line:\n",
    "            yield line\n",
    "\n",
    "# Simulated log lines\n",
    "log_lines = [\n",
    "    \"2025-04-07 INFO User logged in\",\n",
    "    \"2025-04-07 ERROR Failed to load resource\",\n",
    "    \"2025-04-07 DEBUG Memory usage stable\",\n",
    "    \"2025-04-07 ERROR Timeout occurred\",\n",
    "]\n",
    "\n",
    "# Filtering for \"ERROR\" lines\n",
    "for error in filter_log_lines(log_lines, keyword=\"ERROR\"):\n",
    "    print(\">>\", error)\n"
   ]
  },
  {
   "cell_type": "raw",
   "id": "3d13162e-9ddd-4ef1-aebd-6e33fd684924",
   "metadata": {},
   "source": [
    "Task 3 Progress Tracker\n",
    "--------------------------------------------------------\n",
    "\n",
    "Simulate a progress bar using a generator called progress_tracker(total_steps). \n",
    "At each step, yield the progress percentage as a string like \"Progress: 20%\".\n",
    "\n",
    "# Example:\n",
    "for p in progress_tracker(5):\n",
    "    print(p)\n",
    "\n",
    "Progress: 20%\n",
    "Progress: 40%\n",
    "Progress: 60%\n",
    "Progress: 80%\n",
    "Progress: 100%\n",
    "\n",
    "Use a loop and yield formatted strings based on (step / total_steps) * 100.\n"
   ]
  },
  {
   "cell_type": "code",
   "execution_count": 67,
   "id": "5cabf8c5-26bc-4e3e-8508-5caadf390c00",
   "metadata": {},
   "outputs": [
    {
     "name": "stdout",
     "output_type": "stream",
     "text": [
      "Progress: 20%\n",
      "Progress: 40%\n",
      "Progress: 60%\n",
      "Progress: 80%\n",
      "Progress: 100%\n"
     ]
    }
   ],
   "source": [
    "def progress_tracker(total_steps):\n",
    "    \"\"\"\n",
    "    Generator that yields progress updates as a percentage string.\n",
    "    \n",
    "    Parameters:\n",
    "        total_steps (int): The total number of steps to simulate.\n",
    "        \n",
    "    Yields:\n",
    "        str: Progress message like \"Progress: 20%\"\n",
    "    \"\"\"\n",
    "    for step in range(1, total_steps + 1):\n",
    "        percent = int((step / total_steps) * 100)\n",
    "        yield f\"Progress: {percent}%\"\n",
    "\n",
    "# Example usage:\n",
    "for p in progress_tracker(5):\n",
    "    print(p)\n"
   ]
  },
  {
   "cell_type": "code",
   "execution_count": null,
   "id": "9ad8e0bc-08f6-4641-9bb8-ec6647c0bff6",
   "metadata": {},
   "outputs": [],
   "source": []
  },
  {
   "cell_type": "code",
   "execution_count": null,
   "id": "d19e810f-aa85-4a79-b980-afe4c6c1bfd8",
   "metadata": {},
   "outputs": [],
   "source": []
  },
  {
   "cell_type": "code",
   "execution_count": null,
   "id": "704e486b-0544-49ff-b4d6-9abc1e2d3d0f",
   "metadata": {},
   "outputs": [],
   "source": []
  },
  {
   "cell_type": "code",
   "execution_count": null,
   "id": "76b14c9a-a40b-47d5-bb59-bb98924006ed",
   "metadata": {},
   "outputs": [],
   "source": []
  },
  {
   "cell_type": "code",
   "execution_count": null,
   "id": "27662327-7382-4ba4-bc08-f9c02d526969",
   "metadata": {},
   "outputs": [],
   "source": []
  },
  {
   "cell_type": "code",
   "execution_count": 65,
   "id": "a81adf4e-d50c-480a-a556-eeb6d2deb506",
   "metadata": {},
   "outputs": [
    {
     "name": "stdout",
     "output_type": "stream",
     "text": [
      "Words in the paragraph:\n",
      "Python\n",
      "is\n",
      "a\n",
      "powerful\n",
      "language\n"
     ]
    }
   ],
   "source": [
    "# Define the WordIterator class (your code)\n",
    "class WordIterator:\n",
    "    def __init__(self, para):\n",
    "        self.para = para\n",
    "        self.index = 0\n",
    "        self.word = ''\n",
    " \n",
    "    def __iter__(self):\n",
    "        return self\n",
    " \n",
    "    def __next__(self):\n",
    "        self.word = self.para.split()\n",
    "        if self.index < len(self.word):\n",
    "            word = self.word[self.index]\n",
    "            self.index += 1\n",
    "            return word\n",
    "        else:\n",
    "            raise StopIteration\n",
    "\n",
    "# Sample test case\n",
    "paragraph = \"Python is a powerful language\"\n",
    "iterator = WordIterator(paragraph)\n",
    "\n",
    "# Using the iterator\n",
    "print(\"Words in the paragraph:\")\n",
    "for word in iterator:\n",
    "    print(word)\n"
   ]
  },
  {
   "cell_type": "code",
   "execution_count": 74,
   "id": "303c4135-d34d-4b8f-a4c1-7ad7b1969897",
   "metadata": {},
   "outputs": [
    {
     "name": "stdout",
     "output_type": "stream",
     "text": [
      "dict_items([('name', 'Alice'), ('age', 30), ('city', 'New York')])\n",
      "[('name', 'Alice'), ('age', 30), ('city', 'New York')]\n",
      "Key: name, Value: Alice\n",
      "Key: age, Value: 30\n",
      "Key: city, Value: New York\n"
     ]
    }
   ],
   "source": [
    "my_dict = {\"name\": \"Alice\", \"age\": 30, \"city\": \"New York\"}\n",
    "items_view = my_dict.items()\n",
    "\n",
    "print(items_view)\n",
    "# Output: dict_items([('name', 'Alice'), ('age', 30), ('city', 'New York')])\n",
    "\n",
    "# You can convert it to a list if needed\n",
    "items_list = list(items_view)\n",
    "print(items_list)\n",
    "# Output: [('name', 'Alice'), ('age', 30), ('city', 'New York')]\n",
    "\n",
    "# You can iterate through it directly\n",
    "for key, value in my_dict.items():\n",
    "    print(f\"Key: {key}, Value: {value}\")\n",
    "# Output:\n",
    "# Key: name, Value: Alice\n",
    "# Key: age, Value: 30\n",
    "# Key: city, Value: New York"
   ]
  },
  {
   "cell_type": "code",
   "execution_count": 75,
   "id": "bb59070e-e598-4424-9844-8198e9dd7e85",
   "metadata": {},
   "outputs": [
    {
     "data": {
      "text/plain": [
       "['__cause__',\n",
       " '__class__',\n",
       " '__context__',\n",
       " '__delattr__',\n",
       " '__dict__',\n",
       " '__dir__',\n",
       " '__doc__',\n",
       " '__eq__',\n",
       " '__format__',\n",
       " '__ge__',\n",
       " '__getattribute__',\n",
       " '__getstate__',\n",
       " '__gt__',\n",
       " '__hash__',\n",
       " '__init__',\n",
       " '__init_subclass__',\n",
       " '__le__',\n",
       " '__lt__',\n",
       " '__ne__',\n",
       " '__new__',\n",
       " '__reduce__',\n",
       " '__reduce_ex__',\n",
       " '__repr__',\n",
       " '__setattr__',\n",
       " '__setstate__',\n",
       " '__sizeof__',\n",
       " '__str__',\n",
       " '__subclasshook__',\n",
       " '__suppress_context__',\n",
       " '__traceback__',\n",
       " 'add_note',\n",
       " 'args',\n",
       " 'with_traceback']"
      ]
     },
     "execution_count": 75,
     "metadata": {},
     "output_type": "execute_result"
    }
   ],
   "source": [
    "dir(Exception)"
   ]
  },
  {
   "cell_type": "code",
   "execution_count": 76,
   "id": "6c01055c-73e3-4f25-8b2d-b5d328efdf39",
   "metadata": {},
   "outputs": [
    {
     "data": {
      "text/plain": [
       "type"
      ]
     },
     "execution_count": 76,
     "metadata": {},
     "output_type": "execute_result"
    }
   ],
   "source": [
    "Exception.__class__"
   ]
  },
  {
   "cell_type": "code",
   "execution_count": 77,
   "id": "ca3e5b47-57b9-474d-a67d-66963fa9cd5a",
   "metadata": {},
   "outputs": [
    {
     "data": {
      "text/plain": [
       "<slot wrapper '__init__' of 'Exception' objects>"
      ]
     },
     "execution_count": 77,
     "metadata": {},
     "output_type": "execute_result"
    }
   ],
   "source": [
    "Exception.__init__"
   ]
  },
  {
   "cell_type": "code",
   "execution_count": 79,
   "id": "305e4029-1566-4a12-8455-1de7bb47ef68",
   "metadata": {},
   "outputs": [
    {
     "data": {
      "text/plain": [
       "mappingproxy({'__new__': <function Exception.__new__(*args, **kwargs)>,\n",
       "              '__init__': <slot wrapper '__init__' of 'Exception' objects>,\n",
       "              '__doc__': 'Common base class for all non-exit exceptions.'})"
      ]
     },
     "execution_count": 79,
     "metadata": {},
     "output_type": "execute_result"
    }
   ],
   "source": [
    "Exception.__dict__"
   ]
  },
  {
   "cell_type": "code",
   "execution_count": null,
   "id": "ec793859-1d3b-40ec-bb17-1fab5b7604c8",
   "metadata": {},
   "outputs": [],
   "source": []
  },
  {
   "cell_type": "markdown",
   "id": "cb3aab76-4d1d-4c73-b2ef-ad2bc673cd28",
   "metadata": {},
   "source": [
    "# Custom Exception"
   ]
  },
  {
   "cell_type": "code",
   "execution_count": 81,
   "id": "752a0024-5204-4d03-a14c-f36eaf75261e",
   "metadata": {},
   "outputs": [
    {
     "name": "stdout",
     "output_type": "stream",
     "text": [
      "Salary should be greater than 5000 -> Given 0\n"
     ]
    }
   ],
   "source": [
    "class InvalidSalaryException(Exception):  # Exception is a built-in class - this is the parent class\n",
    "    def __init__(self, salary, msg=\"Salary should be greater than 5000\"):\n",
    "        self.salary = salary\n",
    "        self.msg = msg\n",
    "        super().__init__(self.msg)  # Pass msg to super(). Call init method of parent class\n",
    " \n",
    "    def __str__(self):  # If __str__ is there, not raise exception\n",
    "        return f\"{self.msg} -> Given {self.salary}\"\n",
    " \n",
    "class Employee:\n",
    "    def __init__(self, name, company, salary):\n",
    "        if salary <= 0:\n",
    "            raise InvalidSalaryException(salary)\n",
    "        self.salary = salary\n",
    "        self.name = name\n",
    "        self.company = company\n",
    " \n",
    "    def get_details(self):\n",
    "        return self.name, self.company, self.salary\n",
    " \n",
    "try:\n",
    "    c = Employee(\"Anil\", \"Wipro\", 0)\n",
    "    c.get_details()\n",
    "except Exception as e:\n",
    "    print(e)"
   ]
  },
  {
   "cell_type": "code",
   "execution_count": null,
   "id": "4cac24b7-9176-4de9-ba75-069d2ce699e0",
   "metadata": {},
   "outputs": [],
   "source": []
  },
  {
   "cell_type": "raw",
   "id": "e80d287c-ea52-4dc8-affb-627a9f5b2aab",
   "metadata": {},
   "source": [
    "Session 3: [40]\n",
    "---------------------------------------------------------------------------------------------------------\n",
    "\n",
    "Task 1: Checking method existance\n",
    "--------------------------------------------------\n",
    "\n",
    "Create a metaclass called RequireToString that ensures any class using it must define a \n",
    "__str__ method. If a class does not define __str__, raise a TypeError during class creation.\n",
    "\n"
   ]
  },
  {
   "cell_type": "markdown",
   "id": "25027e63-0c5d-4c4e-9000-84bb9df02588",
   "metadata": {},
   "source": [
    "# metaclass creation"
   ]
  },
  {
   "cell_type": "code",
   "execution_count": 84,
   "id": "857e31e9-1eb1-4b40-9b7b-953b1622f5f7",
   "metadata": {},
   "outputs": [],
   "source": [
    "class RequireToString(type):\n",
    "    def __new__(cls ,name, bases,dict):\n",
    "        if ' __str__' not in dict:\n",
    "            raise TypeError(f\"class: '{name}' must define a __str__ method\" )\n",
    "            return super().__new__(cls, name, bases, class_dict)\n",
    "\n"
   ]
  },
  {
   "cell_type": "markdown",
   "id": "219bcace-227a-4096-95d2-7997a571924c",
   "metadata": {},
   "source": [
    "# Testing classes"
   ]
  },
  {
   "cell_type": "code",
   "execution_count": 85,
   "id": "a750a5b3-24cb-4ef3-887b-aadc8038810f",
   "metadata": {},
   "outputs": [
    {
     "ename": "TypeError",
     "evalue": "class: 'Person' must define a __str__ method",
     "output_type": "error",
     "traceback": [
      "\u001b[1;31m---------------------------------------------------------------------------\u001b[0m",
      "\u001b[1;31mTypeError\u001b[0m                                 Traceback (most recent call last)",
      "Cell \u001b[1;32mIn[85], line 1\u001b[0m\n\u001b[1;32m----> 1\u001b[0m \u001b[38;5;28;01mclass\u001b[39;00m \u001b[38;5;21;01mPerson\u001b[39;00m(metaclass\u001b[38;5;241m=\u001b[39mRequireToString):\n\u001b[0;32m      2\u001b[0m     \u001b[38;5;28;01mdef\u001b[39;00m \u001b[38;5;21m__str__\u001b[39m(\u001b[38;5;28mself\u001b[39m):\n\u001b[0;32m      3\u001b[0m         \u001b[38;5;28;01mreturn\u001b[39;00m \u001b[38;5;124m\"\u001b[39m\u001b[38;5;124mI\u001b[39m\u001b[38;5;124m'\u001b[39m\u001b[38;5;124mm a Person\u001b[39m\u001b[38;5;124m\"\u001b[39m\n",
      "Cell \u001b[1;32mIn[84], line 4\u001b[0m, in \u001b[0;36mRequireToString.__new__\u001b[1;34m(cls, name, bases, dict)\u001b[0m\n\u001b[0;32m      2\u001b[0m \u001b[38;5;28;01mdef\u001b[39;00m \u001b[38;5;21m__new__\u001b[39m(\u001b[38;5;28mcls\u001b[39m ,name, bases,\u001b[38;5;28mdict\u001b[39m):\n\u001b[0;32m      3\u001b[0m     \u001b[38;5;28;01mif\u001b[39;00m \u001b[38;5;124m'\u001b[39m\u001b[38;5;124m __str__\u001b[39m\u001b[38;5;124m'\u001b[39m \u001b[38;5;129;01mnot\u001b[39;00m \u001b[38;5;129;01min\u001b[39;00m \u001b[38;5;28mdict\u001b[39m:\n\u001b[1;32m----> 4\u001b[0m         \u001b[38;5;28;01mraise\u001b[39;00m \u001b[38;5;167;01mTypeError\u001b[39;00m(\u001b[38;5;124mf\u001b[39m\u001b[38;5;124m\"\u001b[39m\u001b[38;5;124mclass: \u001b[39m\u001b[38;5;124m'\u001b[39m\u001b[38;5;132;01m{\u001b[39;00mname\u001b[38;5;132;01m}\u001b[39;00m\u001b[38;5;124m'\u001b[39m\u001b[38;5;124m must define a __str__ method\u001b[39m\u001b[38;5;124m\"\u001b[39m )\n\u001b[0;32m      5\u001b[0m         \u001b[38;5;28;01mreturn\u001b[39;00m \u001b[38;5;28msuper\u001b[39m()\u001b[38;5;241m.\u001b[39m\u001b[38;5;21m__new__\u001b[39m(\u001b[38;5;28mcls\u001b[39m, name, bases, class_dict)\n",
      "\u001b[1;31mTypeError\u001b[0m: class: 'Person' must define a __str__ method"
     ]
    }
   ],
   "source": [
    "class Person(metaclass=RequireToString):\n",
    "    def __str__(self):\n",
    "        return \"I'm a Person\"\n",
    "\n",
    "# ❌ This will raise an error\n",
    "class Animal(metaclass=RequireToString):\n",
    "    pass"
   ]
  },
  {
   "cell_type": "raw",
   "id": "43ef3aae-9100-4d12-93fd-5ce0842c65de",
   "metadata": {},
   "source": [
    "Create a NegativeNumberException\n",
    "\n",
    "Define a nfactorial(n) function in which the above exception is raised\n",
    "\n",
    "Use an exception handler to capture the exception when factorial() is\n",
    "called with negative numbers"
   ]
  },
  {
   "cell_type": "code",
   "execution_count": 90,
   "id": "79154650-7549-4e6b-bbaa-764aeac369e3",
   "metadata": {},
   "outputs": [],
   "source": [
    "class NegativeNumberException(Exception):\n",
    "    def __init__(self, n,message=\"Plz provide positive number\"):\n",
    "        self.n=n\n",
    "        self.message=message\n",
    "        super().__init__(self.message)\n",
    "\n",
    "    def __str__(self):\n",
    "        return f\"{self.message} please provide poisitive number and >= 0 -> what you given :{self.n}\"\n",
    "        \n",
    "\n",
    "    "
   ]
  },
  {
   "cell_type": "code",
   "execution_count": 97,
   "id": "c9fe2476-64d7-4fff-8190-732cc166edcc",
   "metadata": {},
   "outputs": [],
   "source": [
    "class Factorial():\n",
    "    def __init__(self,n):\n",
    "        self.n=n\n",
    "        if self.n <=0:\n",
    "            raise NegativeNumberException(self.n)\n",
    "            \n",
    "    def __str__(self) :\n",
    "        return \"This class{self.__name__} to calculate factorial of a non-negative number{fact(self)}\"\n",
    "        \n",
    "    \n",
    "    \n",
    "    \n",
    "  \n",
    "    \n",
    "        \n",
    "\n",
    "    \n",
    "    def fact(self):\n",
    "        return self.n*fact(self.n-1)\n",
    "        "
   ]
  },
  {
   "cell_type": "code",
   "execution_count": 98,
   "id": "2568c84d-6519-4d4d-adad-3b87ed90c2e0",
   "metadata": {},
   "outputs": [
    {
     "name": "stdout",
     "output_type": "stream",
     "text": [
      "Plz provide positive number please provide poisitive number and >= 0 -> what you given :-5\n"
     ]
    }
   ],
   "source": [
    "try:\n",
    "    c = Factorial(-5)\n",
    "    print(c)\n",
    "except Exception as e:\n",
    "    print(e)"
   ]
  },
  {
   "cell_type": "code",
   "execution_count": 99,
   "id": "f1f6cce1-f606-4343-a37b-d6a48ea399c3",
   "metadata": {},
   "outputs": [
    {
     "name": "stdout",
     "output_type": "stream",
     "text": [
      "This class{self.__name__} to calculate factorial of a non-negative number{fact(self)}\n"
     ]
    }
   ],
   "source": [
    "try:\n",
    "    c = Factorial(6)\n",
    "    print(c)\n",
    "except Exception as e:\n",
    "    print(e)"
   ]
  },
  {
   "cell_type": "code",
   "execution_count": 100,
   "id": "82417da0-f213-4370-a7fc-d487290ad29f",
   "metadata": {},
   "outputs": [],
   "source": [
    "class NegativeNumberException(Exception):\n",
    "    def __init__(self, n, message=\"Please provide a positive number or zero\"):\n",
    "        self.n = n\n",
    "        self.message = message\n",
    "        super().__init__(self.message)\n",
    "\n",
    "    def __str__(self):\n",
    "        return f\"{self.message}. Provided: {self.n}\"\n",
    "\n",
    "\n",
    "class Factorial:\n",
    "    def __init__(self, n):\n",
    "        if n < 0:  # Allowing 0\n",
    "            raise NegativeNumberException(n)\n",
    "        self.n = n\n",
    "\n",
    "    def __str__(self):\n",
    "        return f\"This class {self.__class__.__name__} calculates the factorial of a non-negative number. Factorial of {self.n} is {self.fact()}\"\n",
    "\n",
    "    def fact(self, num=None):\n",
    "        if num is None:\n",
    "            num = self.n\n",
    "        if num == 0 or num == 1:\n",
    "            return 1\n",
    "        return num * self.fact(num - 1)\n"
   ]
  },
  {
   "cell_type": "code",
   "execution_count": 101,
   "id": "2b707288-4a40-4d93-b63b-4edc7ecaa2de",
   "metadata": {},
   "outputs": [
    {
     "name": "stdout",
     "output_type": "stream",
     "text": [
      "Please provide a positive number or zero. Provided: -5\n"
     ]
    }
   ],
   "source": [
    "try:\n",
    "    c = Factorial(-5)\n",
    "    print(c)\n",
    "except Exception as e:\n",
    "    print(e)"
   ]
  },
  {
   "cell_type": "code",
   "execution_count": 102,
   "id": "9542bb18-fcf2-4ef0-b93b-018408730e08",
   "metadata": {},
   "outputs": [
    {
     "name": "stdout",
     "output_type": "stream",
     "text": [
      "This class Factorial calculates the factorial of a non-negative number. Factorial of 7 is 5040\n"
     ]
    }
   ],
   "source": [
    "try:\n",
    "    c = Factorial(7)\n",
    "    print(c)\n",
    "except Exception as e:\n",
    "    print(e)"
   ]
  },
  {
   "cell_type": "raw",
   "id": "c42ac48d-3197-4589-bdc7-ab0073f2dbaa",
   "metadata": {},
   "source": [
    "Create a metaclass called AutoInit that automatically injects an __init__ method into \n",
    "any class that:\n",
    "\n",
    "Defines a class-level list called init_fields, e.g., [\"name\", \"salary\"].\n",
    "\n",
    "If the __init__ method already exists, the metaclass should not override it.\n",
    "\n",
    "The injected __init__ should assign values to those fields as instance attributes.\n",
    "\n",
    "Raise an error if the init_fields list is missing or not a list.\n"
   ]
  },
  {
   "cell_type": "code",
   "execution_count": null,
   "id": "668de657-6ace-414d-868c-97f1a0fb6b5a",
   "metadata": {},
   "outputs": [],
   "source": [
    "class"
   ]
  }
 ],
 "metadata": {
  "kernelspec": {
   "display_name": "Python 3 (ipykernel)",
   "language": "python",
   "name": "python3"
  },
  "language_info": {
   "codemirror_mode": {
    "name": "ipython",
    "version": 3
   },
   "file_extension": ".py",
   "mimetype": "text/x-python",
   "name": "python",
   "nbconvert_exporter": "python",
   "pygments_lexer": "ipython3",
   "version": "3.12.4"
  }
 },
 "nbformat": 4,
 "nbformat_minor": 5
}
