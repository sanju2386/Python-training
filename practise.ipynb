{
 "cells": [
  {
   "cell_type": "code",
   "execution_count": 10,
   "id": "a131aad9-03f9-4ea9-b0ef-4f6e3c1efcc8",
   "metadata": {},
   "outputs": [
    {
     "name": "stdin",
     "output_type": "stream",
     "text": [
      " stringlist\n",
      " 5\n",
      " k\n"
     ]
    },
    {
     "name": "stdout",
     "output_type": "stream",
     "text": [
      "strinkglist\n"
     ]
    }
   ],
   "source": [
    "def mutate_string(string, position, character):\n",
    "    # Convert string to a list\n",
    "    string_list = list(string)\n",
    "    \n",
    "    # Modify the character at the given position\n",
    "    string_list.insert(position,character)\n",
    "    \n",
    "    # Convert list back to string\n",
    "    return ''.join(string_list)\n",
    "\n",
    "# Read input\n",
    "s = input()\n",
    "pos =int(input())\n",
    "char = input()\n",
    "\n",
    "\n",
    "# Call function and print result\n",
    "print(mutate_string(s, pos, char))\n"
   ]
  },
  {
   "cell_type": "code",
   "execution_count": null,
   "id": "25b4305d-3d8a-4994-8615-812e550edb37",
   "metadata": {},
   "outputs": [],
   "source": []
  }
 ],
 "metadata": {
  "kernelspec": {
   "display_name": "Python 3 (ipykernel)",
   "language": "python",
   "name": "python3"
  },
  "language_info": {
   "codemirror_mode": {
    "name": "ipython",
    "version": 3
   },
   "file_extension": ".py",
   "mimetype": "text/x-python",
   "name": "python",
   "nbconvert_exporter": "python",
   "pygments_lexer": "ipython3",
   "version": "3.12.4"
  }
 },
 "nbformat": 4,
 "nbformat_minor": 5
}
