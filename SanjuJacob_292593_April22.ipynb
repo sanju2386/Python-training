{
 "cells": [
  {
   "cell_type": "raw",
   "id": "5e59e1f2-3129-404e-9ad3-3e7e2fedee36",
   "metadata": {},
   "source": [
    "ob developed a search game where he stores N special sequences in a database. \n",
    "The sequences are stored in an array of strings called \"games\" and each sequence is of size M. \n",
    "Afterwards, Bob asks a bot Q queries. When a query is made, the bot searches the database for any previously stored games.\n",
    "\n",
    "A special sequence is provided in each query. The special sequence \n",
    "Is written as a1,a2,ak,ak+1,am where a1, a2,..., ak is the Initial sequence and ak+1.... am \n",
    "is -1. All the -1 must be ignored when processing the input.\n",
    " \n",
    "The bot's task is to find the number of games stored in the database that have the provided \n",
    "sequence as a prefix.\n",
    " \n",
    "Function description\n",
    "Complete the BobnBot function. This function takes the following 5 parameters \n",
    "and returns an array of integers:\n",
    " \n",
    "N. Represents the count of sequences\n",
    " \n",
    "M. Represents the length of the sequence\n",
    " \n",
    "games. Represents a 2D array containing all sequences\n",
    " \n",
    "Q. Represents the count of queries\n",
    " \n",
    "queries. Represents a 2D array containing the query sequences\n",
    "\n",
    "--------------------------------------------------------------------------------------------------\n",
    "\n",
    "\n",
    "Example case\n",
    " \n",
    " \n",
    "Sample input\n",
    "\n",
    "2 3                    <- m, n\n",
    "1 1 -1                 <- game\n",
    "1 -1 -1                <- game\n",
    "1                      <- q\n",
    "1 1 -1                 <- query\n",
    "\n",
    "\n",
    "Sample output\n",
    "\n",
    "1"
   ]
  },
  {
   "cell_type": "code",
   "execution_count": 7,
   "id": "8eb7387c-838d-43cb-b4f6-d2734f0149da",
   "metadata": {},
   "outputs": [],
   "source": [
    "a=[34,21,45,22,12,12,45,67,23,12,56,78,98,65,23,77,9,9,9,7]"
   ]
  },
  {
   "cell_type": "code",
   "execution_count": 9,
   "id": "d2b9ab3c-a5c6-4d65-84a0-a896e70a6b89",
   "metadata": {},
   "outputs": [
    {
     "name": "stdout",
     "output_type": "stream",
     "text": [
      "{65, 34, 67, 98, 7, 9, 12, 45, 78, 77, 21, 22, 23, 56}\n"
     ]
    }
   ],
   "source": [
    "b=set(a)\n",
    "print(b)"
   ]
  },
  {
   "cell_type": "code",
   "execution_count": 11,
   "id": "5f755d4a-df7a-4e6c-baa9-1bca629fe523",
   "metadata": {},
   "outputs": [
    {
     "name": "stdin",
     "output_type": "stream",
     "text": [
      "Size of of games (Example 2 3) ->  2,3\n"
     ]
    },
    {
     "name": "stdout",
     "output_type": "stream",
     "text": [
      "Invalid input\n",
      "Specify 2 games of length 3 -> values sepated by space (Example 1 3 3 -1)\n"
     ]
    },
    {
     "name": "stdin",
     "output_type": "stream",
     "text": [
      "Game ->  1 1 -1 1\n",
      "Game ->  1 1 1 -1\n",
      "N ->  2\n"
     ]
    },
    {
     "name": "stdout",
     "output_type": "stream",
     "text": [
      "Specify 2 sequences -> values sepated by space (Example 1 3 3 -1)\n"
     ]
    },
    {
     "name": "stdin",
     "output_type": "stream",
     "text": [
      "Sequence ->  3\n",
      "Sequence ->  2\n"
     ]
    },
    {
     "name": "stdout",
     "output_type": "stream",
     "text": [
      "\n",
      "Games:  [[1, 1, -1], [1, 1, 1]]\n",
      "Sequences: \n",
      " [[3], [2]]\n",
      "Result -> \n",
      "[([3], 0), ([2], 0)]\n"
     ]
    }
   ],
   "source": [
    "# input the size of the game\n",
    "size = input('Size of of games (Example 2 3) -> ')\n",
    "try:\n",
    "    m, n, *x = list(map(int, size.split()))\n",
    "except:\n",
    "    print(\"Invalid input\")\n",
    "\n",
    "# ----------- Games ----------- #\n",
    "games = []\n",
    "print(f\"Specify {m} games of length {n} -> values sepated by space (Example 1 3 3 -1)\")\n",
    "for _ in range(m):\n",
    "    game = input(\"Game -> \")\n",
    "    try:\n",
    "        game = list(map(int, game.split()))[:n]\n",
    "    except:\n",
    "        game = [0 for _ in range(n)]\n",
    "        print(\"Invalid input\")\n",
    "    games.append(game)\n",
    "\n",
    "\n",
    "# ----------- Sequences ----------- #\n",
    "nseq = int(input(\"N -> \"))\n",
    "seqs = []\n",
    "print(f\"Specify {nseq} sequences -> values sepated by space (Example 1 3 3 -1)\")\n",
    "for _ in range(nseq):\n",
    "    s = input(\"Sequence -> \")\n",
    "    try:\n",
    "        s = list(map(int, s.split()))\n",
    "    except:\n",
    "        s = [0 for _ in range(nseq)]\n",
    "        print(\"Invalid input\")\n",
    "    seqs.append(s)\n",
    "\n",
    "# output\n",
    "print(\"\\nGames: \", games)\n",
    "print(\"Sequences: \\n\", seqs)\n",
    "\n",
    "result = []\n",
    "for seq in seqs:\n",
    "    count = 0\n",
    "    for game in games:\n",
    "        if seq == game[:len(seq)]:\n",
    "            count += 1\n",
    "    result.append((seq, count))\n",
    "\n",
    "print(\"Result -> \")\n",
    "print(result)"
   ]
  },
  {
   "cell_type": "code",
   "execution_count": 12,
   "id": "2e2c005f-14d9-4278-8584-0f1825cc13c2",
   "metadata": {},
   "outputs": [
    {
     "name": "stdin",
     "output_type": "stream",
     "text": [
      "Size of of games (Example 2 3) ->  1 1 -1\n"
     ]
    },
    {
     "name": "stdout",
     "output_type": "stream",
     "text": [
      "Specify 1 games of length 1 -> values sepated by space (Example 1 3 3 -1)\n"
     ]
    },
    {
     "name": "stdin",
     "output_type": "stream",
     "text": [
      "Game ->  1 -1 -1\n",
      "N ->  2\n"
     ]
    },
    {
     "name": "stdout",
     "output_type": "stream",
     "text": [
      "Specify 2 sequences -> values sepated by space (Example 1 3 3 -1)\n"
     ]
    },
    {
     "name": "stdin",
     "output_type": "stream",
     "text": [
      "Sequence ->  1 1 -1\n",
      "Sequence ->  1 -1 -1\n"
     ]
    },
    {
     "name": "stdout",
     "output_type": "stream",
     "text": [
      "\n",
      "Games:  [[1]]\n",
      "Sequences: \n",
      " [[1, 1, -1], [1, -1, -1]]\n",
      "Result -> \n",
      "[([1, 1, -1], 0), ([1, -1, -1], 0)]\n"
     ]
    }
   ],
   "source": [
    "# input the size of the game\n",
    "size = input('Size of of games (Example 2 3) -> ')\n",
    "try:\n",
    "    m, n, *x = list(map(int, size.split()))\n",
    "except:\n",
    "    print(\"Invalid input\")\n",
    "\n",
    "# ----------- Games ----------- #\n",
    "games = []\n",
    "print(f\"Specify {m} games of length {n} -> values sepated by space (Example 1 3 3 -1)\")\n",
    "for _ in range(m):\n",
    "    game = input(\"Game -> \")\n",
    "    try:\n",
    "        game = list(map(int, game.split()))[:n]\n",
    "    except:\n",
    "        game = [0 for _ in range(n)]\n",
    "        print(\"Invalid input\")\n",
    "    games.append(game)\n",
    "\n",
    "\n",
    "# ----------- Sequences ----------- #\n",
    "nseq = int(input(\"N -> \"))\n",
    "seqs = []\n",
    "print(f\"Specify {nseq} sequences -> values sepated by space (Example 1 3 3 -1)\")\n",
    "for _ in range(nseq):\n",
    "    s = input(\"Sequence -> \")\n",
    "    try:\n",
    "        s = list(map(int, s.split()))\n",
    "    except:\n",
    "        s = [0 for _ in range(nseq)]\n",
    "        print(\"Invalid input\")\n",
    "    seqs.append(s)\n",
    "\n",
    "# output\n",
    "print(\"\\nGames: \", games)\n",
    "print(\"Sequences: \\n\", seqs)\n",
    "\n",
    "result = []\n",
    "for seq in seqs:\n",
    "    count = 0\n",
    "    for game in games:\n",
    "        if seq == game[:len(seq)]:\n",
    "            count += 1\n",
    "    result.append((seq, count))\n",
    "\n",
    "print(\"Result -> \")\n",
    "print(result)"
   ]
  },
  {
   "cell_type": "code",
   "execution_count": 16,
   "id": "fee4f3b5-8bb2-4cab-9a31-572f4d76be70",
   "metadata": {},
   "outputs": [
    {
     "name": "stdout",
     "output_type": "stream",
     "text": [
      "29\n",
      "Group 1: ['akshay', 'gagana', 'vijaya']\n",
      "Group 2: ['sourabh', 'nithin', 'tamil']\n",
      "Group 3: ['lakith', 'srinandan', 'mahesh']\n",
      "Group 4: ['afif', 'prathiksha', 'nimra']\n",
      "Group 5: ['pranav', 'dinesh', 'priyanka']\n",
      "Group 6: ['aleena', 'ramji', 'sadhana']\n",
      "Group 7: ['sanju', 'bincy', 'gomathi']\n",
      "Group 8: ['ponnulakshmi', 'ananthan', 'shwetha']\n",
      "Group 9: ['parvathi', 'krishnapriya', 'abhijith']\n"
     ]
    }
   ],
   "source": [
    "import random\n",
    "list1 = ['dinesh', 'vijaya', 'gomathi', 'priyanka',\n",
    "         'gagana', 'abhijith', 'yashwanth', 'shwetha', 'sadhana',\n",
    "         'mahesh', 'pranav', 'aleena', 'nithin', 'prathiksha', 'lakith', 'tamil', 'afif',\n",
    "         'srinandan', 'akshay', 'parvathi', 'bincy', 'ponnulakshmi', 'ganga', 'krishnapriya', 'sanju', 'sourabh',\n",
    "         'nimra', 'ramji', 'ananthan']\n",
    " \n",
    "print(len(list1))\n",
    "random.shuffle(list1)\n",
    " \n",
    "group1 = list1[:3]\n",
    "group2 = list1[3:6]\n",
    "group3 = list1[6:9]\n",
    "group4 = list1[9:12]\n",
    "group5 = list1[12:15]\n",
    "group6 = list1[15:18]\n",
    "group7 = list1[18:21]\n",
    "group8 = list1[21:24]\n",
    "group9 = list1[24:27]\n",
    "group10 = list1[27:30]\n",
    " \n",
    "print(\"Group 1:\", group1)\n",
    "print(\"Group 2:\", group2)\n",
    "print(\"Group 3:\", group3)\n",
    "print(\"Group 4:\", group4)\n",
    "print(\"Group 5:\", group5)\n",
    "print(\"Group 6:\", group6)\n",
    "print(\"Group 7:\", group7)\n",
    "print(\"Group 8:\", group8)\n",
    "print(\"Group 9:\", group9)"
   ]
  },
  {
   "cell_type": "code",
   "execution_count": null,
   "id": "0851ffed-632f-4ebb-a8d4-4bcae24270c2",
   "metadata": {},
   "outputs": [],
   "source": []
  },
  {
   "cell_type": "code",
   "execution_count": null,
   "id": "80afe2fc-9576-4a59-8491-f62dec4ca8a7",
   "metadata": {},
   "outputs": [],
   "source": []
  }
 ],
 "metadata": {
  "kernelspec": {
   "display_name": "Python 3 (ipykernel)",
   "language": "python",
   "name": "python3"
  },
  "language_info": {
   "codemirror_mode": {
    "name": "ipython",
    "version": 3
   },
   "file_extension": ".py",
   "mimetype": "text/x-python",
   "name": "python",
   "nbconvert_exporter": "python",
   "pygments_lexer": "ipython3",
   "version": "3.12.4"
  }
 },
 "nbformat": 4,
 "nbformat_minor": 5
}
