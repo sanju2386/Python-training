{
 "cells": [
  {
   "cell_type": "markdown",
   "id": "22feec86-369d-4cfa-94f8-c62cebaac917",
   "metadata": {},
   "source": [
    "#lab session I "
   ]
  },
  {
   "cell_type": "raw",
   "id": "3ccf8ce7-d1f6-4367-9a98-e96bb1288f57",
   "metadata": {},
   "source": [
    "Refactor the 24-sc-student-report-generator.py to work with student.json\n",
    "    Read student.json\n",
    "    Calculate averages and ranks\n",
    "    Write student-report.json\n",
    "\n"
   ]
  },
  {
   "cell_type": "code",
   "execution_count": 1,
   "id": "82bb6a7f-4cb3-4cbe-9ebe-9b5e5c144121",
   "metadata": {},
   "outputs": [],
   "source": [
    "path=r\"C:\\Users\\292593\\Desktop\\master\\python training\\Git_repo\\excercise\\ust-python-2025\\day-13\\students.json\""
   ]
  },
  {
   "cell_type": "code",
   "execution_count": 2,
   "id": "6edd0f5c-2b64-4b32-99c2-ed23a4673889",
   "metadata": {},
   "outputs": [],
   "source": [
    "import json"
   ]
  },
  {
   "cell_type": "code",
   "execution_count": 3,
   "id": "42f128c7-b0c9-4198-a311-939e391438d3",
   "metadata": {},
   "outputs": [],
   "source": [
    "with open(path,'r') as file:\n",
    "    data=json.load(file)\n",
    "    "
   ]
  },
  {
   "cell_type": "code",
   "execution_count": null,
   "id": "c88c9e75-b6bb-4718-b232-76109e0fe30f",
   "metadata": {},
   "outputs": [],
   "source": []
  },
  {
   "cell_type": "code",
   "execution_count": 4,
   "id": "736a8531-d6be-4186-b9a8-ae8ed0b07290",
   "metadata": {},
   "outputs": [
    {
     "data": {
      "text/plain": [
       "list"
      ]
     },
     "execution_count": 4,
     "metadata": {},
     "output_type": "execute_result"
    }
   ],
   "source": [
    "type(data)"
   ]
  },
  {
   "cell_type": "code",
   "execution_count": 5,
   "id": "a95c7cd2-59d7-4257-8159-4c9723922a2f",
   "metadata": {},
   "outputs": [
    {
     "data": {
      "text/plain": [
       "{'name': 'Aryan',\n",
       " 'age': 14,\n",
       " 'regid': 'HPE002',\n",
       " 'phy': 98,\n",
       " 'chem': 91,\n",
       " 'math': 93,\n",
       " 'bio': 96,\n",
       " 'avg': 0,\n",
       " 'rank': 0}"
      ]
     },
     "execution_count": 5,
     "metadata": {},
     "output_type": "execute_result"
    }
   ],
   "source": [
    "d=data[1]\n",
    "d"
   ]
  },
  {
   "cell_type": "code",
   "execution_count": 6,
   "id": "af3f05c0-5f00-40a2-8e34-b908a7490127",
   "metadata": {},
   "outputs": [
    {
     "ename": "TypeError",
     "evalue": "unhashable type: 'dict'",
     "output_type": "error",
     "traceback": [
      "\u001b[1;31m---------------------------------------------------------------------------\u001b[0m",
      "\u001b[1;31mTypeError\u001b[0m                                 Traceback (most recent call last)",
      "Cell \u001b[1;32mIn[6], line 2\u001b[0m\n\u001b[0;32m      1\u001b[0m \u001b[38;5;28;01mfor\u001b[39;00m i \u001b[38;5;129;01min\u001b[39;00m  data:\n\u001b[1;32m----> 2\u001b[0m     d[i]\n\u001b[0;32m      3\u001b[0m \u001b[38;5;28mprint\u001b[39m(d)\n",
      "\u001b[1;31mTypeError\u001b[0m: unhashable type: 'dict'"
     ]
    }
   ],
   "source": [
    "for i in  data:\n",
    "    d[i]\n",
    "print(d)"
   ]
  },
  {
   "cell_type": "code",
   "execution_count": 12,
   "id": "55c3ba10-b9c5-4fe0-bcd6-aa3e6325126d",
   "metadata": {},
   "outputs": [],
   "source": [
    "class_dict = {student['regid']: student for student in data}"
   ]
  },
  {
   "cell_type": "code",
   "execution_count": 13,
   "id": "4839753c-cbb4-4661-9df7-2a433e715b8e",
   "metadata": {},
   "outputs": [
    {
     "data": {
      "text/plain": [
       "{'HPE001': {'name': 'Vijay',\n",
       "  'age': 14,\n",
       "  'regid': 'HPE001',\n",
       "  'phy': 99,\n",
       "  'chem': 98,\n",
       "  'math': 97,\n",
       "  'bio': 96,\n",
       "  'avg': 0,\n",
       "  'rank': 0},\n",
       " 'HPE002': {'name': 'Aryan',\n",
       "  'age': 14,\n",
       "  'regid': 'HPE002',\n",
       "  'phy': 98,\n",
       "  'chem': 91,\n",
       "  'math': 93,\n",
       "  'bio': 96,\n",
       "  'avg': 0,\n",
       "  'rank': 0},\n",
       " 'HPE003': {'name': 'Muni',\n",
       "  'age': 14,\n",
       "  'regid': 'HPE003',\n",
       "  'phy': 97,\n",
       "  'chem': 98,\n",
       "  'math': 97,\n",
       "  'bio': 94,\n",
       "  'avg': 0,\n",
       "  'rank': 0},\n",
       " 'HPE004': {'name': 'Abhi',\n",
       "  'age': 14,\n",
       "  'regid': 'HPE004',\n",
       "  'phy': 96,\n",
       "  'chem': 93,\n",
       "  'math': 97,\n",
       "  'bio': 95,\n",
       "  'avg': 0,\n",
       "  'rank': 0},\n",
       " 'HPE005': {'name': 'Hemanth',\n",
       "  'age': 14,\n",
       "  'regid': 'HPE005',\n",
       "  'phy': 94,\n",
       "  'chem': 91,\n",
       "  'math': 93,\n",
       "  'bio': 96,\n",
       "  'avg': 0,\n",
       "  'rank': 0},\n",
       " 'HPE006': {'name': 'Grace',\n",
       "  'age': 14,\n",
       "  'regid': 'HPE006',\n",
       "  'phy': 94,\n",
       "  'chem': 95,\n",
       "  'math': 96,\n",
       "  'bio': 97,\n",
       "  'avg': 0,\n",
       "  'rank': 0},\n",
       " 'CAP007': {'name': 'Ankita',\n",
       "  'age': 14,\n",
       "  'regid': 'CAP007',\n",
       "  'phy': 99,\n",
       "  'chem': 99,\n",
       "  'math': 99,\n",
       "  'bio': 99,\n",
       "  'avg': 0,\n",
       "  'rank': 0},\n",
       " 'HPE008': {'name': 'John',\n",
       "  'age': 14,\n",
       "  'regid': 'HPE008',\n",
       "  'phy': 96,\n",
       "  'chem': 93,\n",
       "  'math': 97,\n",
       "  'bio': 95,\n",
       "  'avg': 0,\n",
       "  'rank': 0},\n",
       " 'HPE009': {'name': 'Chris',\n",
       "  'age': 14,\n",
       "  'regid': 'HPE009',\n",
       "  'phy': 94,\n",
       "  'chem': 91,\n",
       "  'math': 93,\n",
       "  'bio': 96,\n",
       "  'avg': 0,\n",
       "  'rank': 0},\n",
       " 'ORA006': {'name': 'Grace',\n",
       "  'age': 14,\n",
       "  'regid': 'ORA006',\n",
       "  'phy': 94,\n",
       "  'chem': 95,\n",
       "  'math': 96,\n",
       "  'bio': 97,\n",
       "  'avg': 0,\n",
       "  'rank': 0},\n",
       " 'INF007': {'name': 'Ankita',\n",
       "  'age': 14,\n",
       "  'regid': 'INF007',\n",
       "  'phy': 99,\n",
       "  'chem': 99,\n",
       "  'math': 99,\n",
       "  'bio': 99,\n",
       "  'avg': 0,\n",
       "  'rank': 0}}"
      ]
     },
     "execution_count": 13,
     "metadata": {},
     "output_type": "execute_result"
    }
   ],
   "source": [
    "class_dict"
   ]
  },
  {
   "cell_type": "code",
   "execution_count": 14,
   "id": "6e29ae00-a941-450b-9d32-f14d59038f71",
   "metadata": {},
   "outputs": [],
   "source": [
    "for i ,j in class_dict.items():\n",
    "    total_marks = sum(int(j[sub]) for sub in ['phy', 'chem', 'math', 'bio'])\n",
    "    avg_marks = total_marks / 4  # Compute the average\n",
    "    j['total'] = total_marks\n",
    "    j['avg'] = round(avg_marks, 2)"
   ]
  },
  {
   "cell_type": "code",
   "execution_count": 15,
   "id": "ffcef10b-319b-4691-b810-9c4e2ee361f9",
   "metadata": {},
   "outputs": [
    {
     "data": {
      "text/plain": [
       "{'HPE001': {'name': 'Vijay',\n",
       "  'age': 14,\n",
       "  'regid': 'HPE001',\n",
       "  'phy': 99,\n",
       "  'chem': 98,\n",
       "  'math': 97,\n",
       "  'bio': 96,\n",
       "  'avg': 97.5,\n",
       "  'rank': 0,\n",
       "  'total': 390},\n",
       " 'HPE002': {'name': 'Aryan',\n",
       "  'age': 14,\n",
       "  'regid': 'HPE002',\n",
       "  'phy': 98,\n",
       "  'chem': 91,\n",
       "  'math': 93,\n",
       "  'bio': 96,\n",
       "  'avg': 94.5,\n",
       "  'rank': 0,\n",
       "  'total': 378},\n",
       " 'HPE003': {'name': 'Muni',\n",
       "  'age': 14,\n",
       "  'regid': 'HPE003',\n",
       "  'phy': 97,\n",
       "  'chem': 98,\n",
       "  'math': 97,\n",
       "  'bio': 94,\n",
       "  'avg': 96.5,\n",
       "  'rank': 0,\n",
       "  'total': 386},\n",
       " 'HPE004': {'name': 'Abhi',\n",
       "  'age': 14,\n",
       "  'regid': 'HPE004',\n",
       "  'phy': 96,\n",
       "  'chem': 93,\n",
       "  'math': 97,\n",
       "  'bio': 95,\n",
       "  'avg': 95.25,\n",
       "  'rank': 0,\n",
       "  'total': 381},\n",
       " 'HPE005': {'name': 'Hemanth',\n",
       "  'age': 14,\n",
       "  'regid': 'HPE005',\n",
       "  'phy': 94,\n",
       "  'chem': 91,\n",
       "  'math': 93,\n",
       "  'bio': 96,\n",
       "  'avg': 93.5,\n",
       "  'rank': 0,\n",
       "  'total': 374},\n",
       " 'HPE006': {'name': 'Grace',\n",
       "  'age': 14,\n",
       "  'regid': 'HPE006',\n",
       "  'phy': 94,\n",
       "  'chem': 95,\n",
       "  'math': 96,\n",
       "  'bio': 97,\n",
       "  'avg': 95.5,\n",
       "  'rank': 0,\n",
       "  'total': 382},\n",
       " 'CAP007': {'name': 'Ankita',\n",
       "  'age': 14,\n",
       "  'regid': 'CAP007',\n",
       "  'phy': 99,\n",
       "  'chem': 99,\n",
       "  'math': 99,\n",
       "  'bio': 99,\n",
       "  'avg': 99.0,\n",
       "  'rank': 0,\n",
       "  'total': 396},\n",
       " 'HPE008': {'name': 'John',\n",
       "  'age': 14,\n",
       "  'regid': 'HPE008',\n",
       "  'phy': 96,\n",
       "  'chem': 93,\n",
       "  'math': 97,\n",
       "  'bio': 95,\n",
       "  'avg': 95.25,\n",
       "  'rank': 0,\n",
       "  'total': 381},\n",
       " 'HPE009': {'name': 'Chris',\n",
       "  'age': 14,\n",
       "  'regid': 'HPE009',\n",
       "  'phy': 94,\n",
       "  'chem': 91,\n",
       "  'math': 93,\n",
       "  'bio': 96,\n",
       "  'avg': 93.5,\n",
       "  'rank': 0,\n",
       "  'total': 374},\n",
       " 'ORA006': {'name': 'Grace',\n",
       "  'age': 14,\n",
       "  'regid': 'ORA006',\n",
       "  'phy': 94,\n",
       "  'chem': 95,\n",
       "  'math': 96,\n",
       "  'bio': 97,\n",
       "  'avg': 95.5,\n",
       "  'rank': 0,\n",
       "  'total': 382},\n",
       " 'INF007': {'name': 'Ankita',\n",
       "  'age': 14,\n",
       "  'regid': 'INF007',\n",
       "  'phy': 99,\n",
       "  'chem': 99,\n",
       "  'math': 99,\n",
       "  'bio': 99,\n",
       "  'avg': 99.0,\n",
       "  'rank': 0,\n",
       "  'total': 396}}"
      ]
     },
     "execution_count": 15,
     "metadata": {},
     "output_type": "execute_result"
    }
   ],
   "source": [
    "class_dict"
   ]
  },
  {
   "cell_type": "markdown",
   "id": "20d0a47a-6360-4a10-a5b4-39199962db50",
   "metadata": {},
   "source": [
    "# Sorting and Ranking"
   ]
  },
  {
   "cell_type": "code",
   "execution_count": 18,
   "id": "d6a9a11a-eefc-4496-821c-789a1bae5f7a",
   "metadata": {},
   "outputs": [],
   "source": [
    "sorted_items = sorted(class_dict.items(), key=lambda x: x[1]['total'], reverse=True)\n",
    "\n",
    "class_dict = {}\n",
    "prev_total = None\n",
    "rank = 0\n",
    "\n",
    "for (regid, student) in sorted_items:\n",
    "    if student['total'] != prev_total:\n",
    "        rank += 1  # Only increase rank when total changes\n",
    "    \n",
    "    student['rank'] = rank  # Assign rank\n",
    "    prev_total = student['total']\n",
    "    \n",
    "    class_dict[regid] = student\n",
    "\n",
    "\n"
   ]
  },
  {
   "cell_type": "code",
   "execution_count": 19,
   "id": "1e676ef9-9144-419b-9d6f-41666bcf685e",
   "metadata": {},
   "outputs": [
    {
     "data": {
      "text/plain": [
       "{'CAP007': {'name': 'Ankita',\n",
       "  'age': 14,\n",
       "  'regid': 'CAP007',\n",
       "  'phy': 99,\n",
       "  'chem': 99,\n",
       "  'math': 99,\n",
       "  'bio': 99,\n",
       "  'avg': 99.0,\n",
       "  'rank': 1,\n",
       "  'total': 396},\n",
       " 'INF007': {'name': 'Ankita',\n",
       "  'age': 14,\n",
       "  'regid': 'INF007',\n",
       "  'phy': 99,\n",
       "  'chem': 99,\n",
       "  'math': 99,\n",
       "  'bio': 99,\n",
       "  'avg': 99.0,\n",
       "  'rank': 1,\n",
       "  'total': 396},\n",
       " 'HPE001': {'name': 'Vijay',\n",
       "  'age': 14,\n",
       "  'regid': 'HPE001',\n",
       "  'phy': 99,\n",
       "  'chem': 98,\n",
       "  'math': 97,\n",
       "  'bio': 96,\n",
       "  'avg': 97.5,\n",
       "  'rank': 2,\n",
       "  'total': 390},\n",
       " 'HPE003': {'name': 'Muni',\n",
       "  'age': 14,\n",
       "  'regid': 'HPE003',\n",
       "  'phy': 97,\n",
       "  'chem': 98,\n",
       "  'math': 97,\n",
       "  'bio': 94,\n",
       "  'avg': 96.5,\n",
       "  'rank': 3,\n",
       "  'total': 386},\n",
       " 'HPE006': {'name': 'Grace',\n",
       "  'age': 14,\n",
       "  'regid': 'HPE006',\n",
       "  'phy': 94,\n",
       "  'chem': 95,\n",
       "  'math': 96,\n",
       "  'bio': 97,\n",
       "  'avg': 95.5,\n",
       "  'rank': 4,\n",
       "  'total': 382},\n",
       " 'ORA006': {'name': 'Grace',\n",
       "  'age': 14,\n",
       "  'regid': 'ORA006',\n",
       "  'phy': 94,\n",
       "  'chem': 95,\n",
       "  'math': 96,\n",
       "  'bio': 97,\n",
       "  'avg': 95.5,\n",
       "  'rank': 4,\n",
       "  'total': 382},\n",
       " 'HPE004': {'name': 'Abhi',\n",
       "  'age': 14,\n",
       "  'regid': 'HPE004',\n",
       "  'phy': 96,\n",
       "  'chem': 93,\n",
       "  'math': 97,\n",
       "  'bio': 95,\n",
       "  'avg': 95.25,\n",
       "  'rank': 5,\n",
       "  'total': 381},\n",
       " 'HPE008': {'name': 'John',\n",
       "  'age': 14,\n",
       "  'regid': 'HPE008',\n",
       "  'phy': 96,\n",
       "  'chem': 93,\n",
       "  'math': 97,\n",
       "  'bio': 95,\n",
       "  'avg': 95.25,\n",
       "  'rank': 5,\n",
       "  'total': 381},\n",
       " 'HPE002': {'name': 'Aryan',\n",
       "  'age': 14,\n",
       "  'regid': 'HPE002',\n",
       "  'phy': 98,\n",
       "  'chem': 91,\n",
       "  'math': 93,\n",
       "  'bio': 96,\n",
       "  'avg': 94.5,\n",
       "  'rank': 6,\n",
       "  'total': 378},\n",
       " 'HPE005': {'name': 'Hemanth',\n",
       "  'age': 14,\n",
       "  'regid': 'HPE005',\n",
       "  'phy': 94,\n",
       "  'chem': 91,\n",
       "  'math': 93,\n",
       "  'bio': 96,\n",
       "  'avg': 93.5,\n",
       "  'rank': 7,\n",
       "  'total': 374},\n",
       " 'HPE009': {'name': 'Chris',\n",
       "  'age': 14,\n",
       "  'regid': 'HPE009',\n",
       "  'phy': 94,\n",
       "  'chem': 91,\n",
       "  'math': 93,\n",
       "  'bio': 96,\n",
       "  'avg': 93.5,\n",
       "  'rank': 7,\n",
       "  'total': 374}}"
      ]
     },
     "execution_count": 19,
     "metadata": {},
     "output_type": "execute_result"
    }
   ],
   "source": [
    "class_dict\n"
   ]
  },
  {
   "cell_type": "markdown",
   "id": "6f5680d4-6c48-4ba6-b053-96f88ec2d779",
   "metadata": {},
   "source": [
    "# Converting Dictionary  to json file\n"
   ]
  },
  {
   "cell_type": "code",
   "execution_count": 20,
   "id": "c7f21908-a718-4c0e-ba0b-a1e23eee6dee",
   "metadata": {},
   "outputs": [],
   "source": [
    "import json\n",
    "\n",
    "with open(\"class_rankings.json\", \"w\") as file:\n",
    "    json.dump(class_dict, file, indent=4)\n"
   ]
  },
  {
   "cell_type": "code",
   "execution_count": null,
   "id": "d5206795-1919-4ff4-a04d-422d38c10af2",
   "metadata": {},
   "outputs": [],
   "source": []
  }
 ],
 "metadata": {
  "kernelspec": {
   "display_name": "Python 3 (ipykernel)",
   "language": "python",
   "name": "python3"
  },
  "language_info": {
   "codemirror_mode": {
    "name": "ipython",
    "version": 3
   },
   "file_extension": ".py",
   "mimetype": "text/x-python",
   "name": "python",
   "nbconvert_exporter": "python",
   "pygments_lexer": "ipython3",
   "version": "3.12.4"
  }
 },
 "nbformat": 4,
 "nbformat_minor": 5
}
