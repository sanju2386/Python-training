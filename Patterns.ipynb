{
 "cells": [
  {
   "cell_type": "raw",
   "id": "8d2f35be-c6f1-4e50-a46d-6b192d393504",
   "metadata": {},
   "source": [
    "*\n",
    "**\n",
    "***\n",
    "****\n",
    "*****\n"
   ]
  },
  {
   "cell_type": "code",
   "execution_count": 5,
   "id": "6272ee30-f28d-4d76-8d00-4139090a3606",
   "metadata": {},
   "outputs": [
    {
     "name": "stdout",
     "output_type": "stream",
     "text": [
      "\n",
      "\n",
      "*\n",
      "\n",
      "*\n",
      "**\n",
      "\n",
      "*\n",
      "**\n",
      "***\n",
      "\n",
      "*\n",
      "**\n",
      "***\n",
      "****\n"
     ]
    }
   ],
   "source": [
    "for i in range(6):\n",
    "    for j in range(i):\n",
    "        print(f\"*\"*j)"
   ]
  },
  {
   "cell_type": "code",
   "execution_count": 4,
   "id": "0fbf9bcf-88db-4d64-9907-1bc594c0192c",
   "metadata": {},
   "outputs": [
    {
     "name": "stdout",
     "output_type": "stream",
     "text": [
      "value of i is 1, value of j is 0\n",
      "value of i is 2, value of j is 0\n",
      "value of i is 2, value of j is 1\n",
      "value of i is 3, value of j is 0\n",
      "value of i is 3, value of j is 1\n",
      "value of i is 3, value of j is 2\n",
      "value of i is 4, value of j is 0\n",
      "value of i is 4, value of j is 1\n",
      "value of i is 4, value of j is 2\n",
      "value of i is 4, value of j is 3\n"
     ]
    }
   ],
   "source": [
    "for i in range(5):\n",
    "    for j in range(i):\n",
    "        print(f\"value of i is {i}, value of j is {j}\")"
   ]
  },
  {
   "cell_type": "code",
   "execution_count": 6,
   "id": "65edc159-545e-4f69-9845-07cc0afddb93",
   "metadata": {},
   "outputs": [
    {
     "name": "stdout",
     "output_type": "stream",
     "text": [
      "*\n",
      "**\n",
      "***\n",
      "****\n",
      "*****\n"
     ]
    }
   ],
   "source": [
    "for i in range(1, 6):\n",
    "    print(\"*\" * i)\n"
   ]
  },
  {
   "cell_type": "code",
   "execution_count": null,
   "id": "d3c64361-aa4a-4505-859a-c1f57964d1b0",
   "metadata": {},
   "outputs": [],
   "source": []
  }
 ],
 "metadata": {
  "kernelspec": {
   "display_name": "Python 3 (ipykernel)",
   "language": "python",
   "name": "python3"
  },
  "language_info": {
   "codemirror_mode": {
    "name": "ipython",
    "version": 3
   },
   "file_extension": ".py",
   "mimetype": "text/x-python",
   "name": "python",
   "nbconvert_exporter": "python",
   "pygments_lexer": "ipython3",
   "version": "3.12.4"
  }
 },
 "nbformat": 4,
 "nbformat_minor": 5
}
