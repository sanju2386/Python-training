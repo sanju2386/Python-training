{
 "cells": [
  {
   "cell_type": "raw",
   "id": "10366b96-a19a-4457-9746-7369b6007355",
   "metadata": {},
   "source": [
    "虌虇虈虉虊虋 ObjecƟve\n",
    "Build an Employee Management System using OOP principles in Python. The system should support \n",
    "creaƟng employee records, associaƟng them with departments, compuƟng average salaries, and \n",
    "saving/loading data to/from a JSON file. \n",
    "굋굌굍굎굏굒교굑 Requirements \n",
    "1. Class: Person \n",
    " AƩributes: name, age, gender \n",
    " Method: get_details() – return string of details \n",
    "2. Class: Employee (inherits from Person) \n",
    " AddiƟonal AƩributes: emp_id, department, salary \n",
    " Methods: \n",
    "o get_details() – override and return all employee details \n",
    "o is_eligible_for_bonus() – return True if salary < 50000 \n",
    " class method: from_string(cls, data_string) \n",
    "Format: \"John,35,Male,E101,HR,45000\" \n",
    " staƟc method: bonus_policy() – print bonus policy descripƟon\n",
    "3. Class: Department \n",
    " AƩributes: name, employees (list of Employee objects) \n",
    " Methods: \n",
    "o add_employee(employee) \n",
    "o get_average_salary() \n",
    "o get_all_employees() \n",
    "4. Data Persistence \n",
    " Write a method to save all employee data to a JSON file \n",
    " Write a method to load employee data to Department "
   ]
  },
  {
   "cell_type": "code",
   "execution_count": null,
   "id": "bb5ff13e-501f-4446-bf80-8704e1a16158",
   "metadata": {},
   "outputs": [],
   "source": [
    "class Person:\n",
    "    def __init__(self,name,age,gender):\n",
    "        self.name=name\n",
    "        self.age=age\n",
    "        self.gender=gender\n",
    "        \n",
    "        \n",
    "    "
   ]
  }
 ],
 "metadata": {
  "kernelspec": {
   "display_name": "Python 3 (ipykernel)",
   "language": "python",
   "name": "python3"
  },
  "language_info": {
   "codemirror_mode": {
    "name": "ipython",
    "version": 3
   },
   "file_extension": ".py",
   "mimetype": "text/x-python",
   "name": "python",
   "nbconvert_exporter": "python",
   "pygments_lexer": "ipython3",
   "version": "3.12.4"
  }
 },
 "nbformat": 4,
 "nbformat_minor": 5
}
