{
 "cells": [
  {
   "cell_type": "code",
   "execution_count": 1,
   "id": "2d64fb85-e8f4-42d1-a86c-79f0c74ffa54",
   "metadata": {},
   "outputs": [
    {
     "name": "stdout",
     "output_type": "stream",
     "text": [
      "Car Details:\n",
      "Brand: Toyota\n",
      "Model: Corolla\n",
      "Year: 2022\n",
      "Engine: 1500cc\n",
      "Mileage: 20000 km\n",
      "Fuel Level: 30 L\n",
      "Mileage per liter: 12.00 km/L\n",
      "Drove 200 km. New mileage: 20000 km, Fuel level: 13.33 L\n",
      "Updated mileage per liter: 12.05 km/L\n",
      "Refueled 10 L. Current fuel level: 23.33 L\n",
      "Not enough fuel! Please refuel.\n",
      "Car Details:\n",
      "Brand: Toyota\n",
      "Model: Corolla\n",
      "Year: 2022\n",
      "Engine: 1500cc\n",
      "Mileage: 20000 km\n",
      "Fuel Level: 23.333333333333332 L\n",
      "Mileage per liter: 12.05 km/L\n"
     ]
    }
   ],
   "source": [
    "class Car:\n",
    "    def __init__(self, brand, model, year, engine_capacity, mileage, fuel_level):\n",
    "        self.brand = brand\n",
    "        self.model = model\n",
    "        self.year = year\n",
    "        self.engine_capacity = engine_capacity\n",
    "        self.mileage = mileage  # Total mileage of the car\n",
    "        self.fuel_level = fuel_level  # Fuel level in liters\n",
    "        self.mileage_per_liter = self.calculate_mileage_per_liter()\n",
    "\n",
    "    def calculate_mileage_per_liter(self):\n",
    "        # Placeholder calculation for mileage per liter, this can depend on engine capacity or other factors.\n",
    "        if self.engine_capacity <= 1000:\n",
    "            return 15  # Example mileage for smaller engines\n",
    "        elif 1000 < self.engine_capacity <= 1500:\n",
    "            return 12  # Example mileage for medium engines\n",
    "        else:\n",
    "            return 10  # Example mileage for larger engines\n",
    "\n",
    "    def drive(self, distance):\n",
    "        # Calculate fuel needed for the trip\n",
    "        fuel_needed = distance / self.mileage_per_liter\n",
    "\n",
    "        if self.fuel_level >= fuel_needed:\n",
    "            # Update the car's mileage and fuel level\n",
    "            #self.mileage += distance\n",
    "            self.fuel_level -= fuel_needed\n",
    "\n",
    "            # Update the mileage per liter based on driving distance (can be improved or degraded based on factors)\n",
    "            self.update_mileage_per_liter(distance)\n",
    "\n",
    "            print(f\"Drove {distance} km. New mileage: {self.mileage} km, Fuel level: {self.fuel_level:.2f} L\")\n",
    "            print(f\"Updated mileage per liter: {self.mileage_per_liter:.2f} km/L\")\n",
    "        else:\n",
    "            print(\"Not enough fuel! Please refuel.\")\n",
    "\n",
    "    def update_mileage_per_liter(self, distance):\n",
    "        # Let's say the car's mileage per liter improves slightly with more distance driven\n",
    "        if distance > 100:  # If a long distance is driven, improve efficiency slightly\n",
    "            self.mileage_per_liter += 0.05\n",
    "        elif distance < 20:  # If a short distance is driven, mileage may degrade slightly\n",
    "            self.mileage_per_liter -= 0.05\n",
    "\n",
    "    def refuel(self, amount):\n",
    "        self.fuel_level += amount\n",
    "        print(f\"Refueled {amount} L. Current fuel level: {self.fuel_level:.2f} L\")\n",
    "\n",
    "    def display_info(self):\n",
    "        print(f\"Car Details:\\nBrand: {self.brand}\\nModel: {self.model}\\nYear: {self.year}\")\n",
    "        print(f\"Engine: {self.engine_capacity}cc\\nMileage: {self.mileage} km\\nFuel Level: {self.fuel_level} L\")\n",
    "        print(f\"Mileage per liter: {self.mileage_per_liter:.2f} km/L\")\n",
    "\n",
    "\n",
    "# Example usage:\n",
    "car = Car(brand=\"Toyota\", model=\"Corolla\", year=2022, engine_capacity=1500, mileage=20000, fuel_level=30)\n",
    "\n",
    "car.display_info()\n",
    "\n",
    "# Drive the car\n",
    "car.drive(200)\n",
    "\n",
    "# Refuel the car\n",
    "car.refuel(10)\n",
    "\n",
    "# Drive again after refueling\n",
    "car.drive(300)\n",
    "\n",
    "car.display_info()\n"
   ]
  },
  {
   "cell_type": "code",
   "execution_count": 2,
   "id": "07dbb1df-4382-4d80-acac-0ca601d655ad",
   "metadata": {},
   "outputs": [],
   "source": [
    "class ElectricCar(Car):\n",
    "    def __init__(self, brand, model, year, engine_capacity, mileage, battery_capacity, charge_level=100):\n",
    "        # Call the parent class constructor with default fuel level = 0 (since EVs don't use fuel)\n",
    "        super().__init__(brand, model, year, engine_capacity, mileage, fuel_level=0)\n",
    "        \n",
    "        # EV-specific attributes\n",
    "        self.battery_capacity = battery_capacity  # Battery capacity in kWh\n",
    "        self.charge_level = charge_level  # Battery charge level in %\n",
    "\n",
    "    def charge(self, amount):\n",
    "        #Charges the battery but ensures it doesn't exceed 100%\n",
    "        self.charge_level = min(self.charge_level + amount, 100)\n",
    "        print(f\"Charged {amount}%. Battery level: {self.charge_level}%\")\n",
    "\n",
    "    def display_info(self):\n",
    "        # Override display_info() to include electric car details\n",
    "        super().display_info()  # Call parent method to display general car info\n",
    "        print(f\"Battery Capacity: {self.battery_capacity} kWh\")\n",
    "        print(f\"Charge Level: {self.charge_level}%\")\n",
    "        print(\"-\" * 40)"
   ]
  },
  {
   "cell_type": "markdown",
   "id": "83874e39-af05-4952-b91e-ac47e392abf7",
   "metadata": {},
   "source": [
    "# polymorhism "
   ]
  },
  {
   "cell_type": "code",
   "execution_count": 3,
   "id": "bfb3c223-8429-4812-a2c9-4506e91c3ee3",
   "metadata": {},
   "outputs": [],
   "source": [
    "class Car2(object):\n",
    "\n",
    "    # Class variables\n",
    "    nCars = 0\n",
    "\n",
    "    # Constructor\n",
    "    def __init__(self, brand, model, year, mileage=0): # double underscored = dunder\n",
    "        # Instance variables\n",
    "        self.brand = brand\n",
    "        self.model = model\n",
    "        self.year  = year\n",
    "        self.mileage = mileage\n",
    "\n",
    "    # Member functions\n",
    "    def drive(self, distance):\n",
    "        self.mileage += distance\n",
    "\n",
    "    def display_info(self):\n",
    "        print(\"BRAND\".ljust(10), '|', self.brand)\n",
    "        print(\"MODEL\".ljust(10), '|', self.model)\n",
    "        print(\"YEAR\".ljust(10), '|', self.year)\n",
    "        print(\"MILEAGE\".ljust(10), '|', self.mileage)"
   ]
  },
  {
   "cell_type": "code",
   "execution_count": 4,
   "id": "4a3f3991-0599-4fb4-8c06-59209682d61e",
   "metadata": {},
   "outputs": [],
   "source": [
    "class ElectricCar2(Car2):\n",
    "\n",
    "    def __init__(self, brand, model, year, mileage=0, battery=10):\n",
    "        super().__init__(brand, model, year, mileage)  # initialize the parent with appropriate values\n",
    "        # local to ElectricCar - instance variables\n",
    "        self.battery = battery\n",
    "\n",
    "    # Newly added mothod\n",
    "    def charge(self, units):\n",
    "        self.battery += units\n",
    "\n",
    "    # Overridden methods to accomodate the changes in the electric car\n",
    "    def drive(self, distance):\n",
    "        self.battery -= distance/10  # charge reduces 1 unit for 10 KMS driven -> assumption\n",
    "\n",
    "    def display_info(self):\n",
    "        super().display_info()\n",
    "        print(\"CHARGE\".ljust(10), '|', self.battery)"
   ]
  },
  {
   "cell_type": "code",
   "execution_count": 5,
   "id": "ad5b8c07-bede-44c2-a6d3-08ba3cf30ccd",
   "metadata": {},
   "outputs": [],
   "source": [
    "class dummy:\n",
    "\n",
    "    def display_info(self):\n",
    "        print(\"This is a dummy class\")"
   ]
  },
  {
   "cell_type": "code",
   "execution_count": 6,
   "id": "ad3f5c4d-8b76-4002-8ad1-22c48e44f2a5",
   "metadata": {},
   "outputs": [],
   "source": [
    "c1 = Car2(\"Toyota\", \"Innova Crysta\", 2024, 1000)\n",
    "c2 = ElectricCar2(\"Hyundai\", \"IONIQ\", 2024, 1000, 10)\n",
    "c3 = ElectricCar2(\"MG\", \"Windsor\", 2025, 100, 10)\n",
    "d = dummy()"
   ]
  },
  {
   "cell_type": "code",
   "execution_count": 7,
   "id": "733e342d-6c03-401d-b743-5f1ea75dd286",
   "metadata": {},
   "outputs": [
    {
     "name": "stdout",
     "output_type": "stream",
     "text": [
      "BRAND      | Toyota\n",
      "MODEL      | Innova Crysta\n",
      "YEAR       | 2024\n",
      "MILEAGE    | 1000\n"
     ]
    }
   ],
   "source": [
    "c = c1\n",
    "c.display_info()"
   ]
  },
  {
   "cell_type": "code",
   "execution_count": 8,
   "id": "b63ff8dc-26b8-41e3-b034-25844db55c74",
   "metadata": {},
   "outputs": [
    {
     "name": "stdout",
     "output_type": "stream",
     "text": [
      "BRAND      | Hyundai\n",
      "MODEL      | IONIQ\n",
      "YEAR       | 2024\n",
      "MILEAGE    | 1000\n",
      "CHARGE     | 10\n"
     ]
    }
   ],
   "source": [
    "c = c2\n",
    "c.display_info()"
   ]
  },
  {
   "cell_type": "code",
   "execution_count": 9,
   "id": "2811aad1-c50f-4db8-9350-0bd7d5238531",
   "metadata": {},
   "outputs": [
    {
     "name": "stdout",
     "output_type": "stream",
     "text": [
      "This is a dummy class\n"
     ]
    }
   ],
   "source": [
    "c = d \n",
    "c.display_info()"
   ]
  },
  {
   "cell_type": "code",
   "execution_count": null,
   "id": "5f9516e1-5e42-4ab2-a08d-3b3ace4ea3d5",
   "metadata": {},
   "outputs": [],
   "source": []
  },
  {
   "cell_type": "code",
   "execution_count": null,
   "id": "dc88a4ef-40b8-4879-a529-bbd8fc6deb0a",
   "metadata": {},
   "outputs": [],
   "source": []
  },
  {
   "cell_type": "code",
   "execution_count": null,
   "id": "4bd91230-4b8b-4dac-8e59-dcb836e5b272",
   "metadata": {},
   "outputs": [],
   "source": []
  },
  {
   "cell_type": "markdown",
   "id": "8a09102e-8d8c-466c-9ab6-5d8f37850ef1",
   "metadata": {},
   "source": [
    "# Buitlin functions"
   ]
  },
  {
   "cell_type": "code",
   "execution_count": null,
   "id": "d6a10b04-389f-45cd-bbf5-69a9c79a3578",
   "metadata": {},
   "outputs": [],
   "source": []
  },
  {
   "cell_type": "code",
   "execution_count": null,
   "id": "48c00f85-afde-4552-9150-81dd156de311",
   "metadata": {},
   "outputs": [],
   "source": []
  },
  {
   "cell_type": "markdown",
   "id": "3f32dd37-7308-4221-98ba-bb8e4b169ba1",
   "metadata": {},
   "source": [
    "# Built in module -operator"
   ]
  },
  {
   "cell_type": "code",
   "execution_count": 44,
   "id": "d3c31031-c616-4592-a86f-dc100985cbe3",
   "metadata": {},
   "outputs": [],
   "source": [
    "class Car3(object):\n",
    "\n",
    "    # Class variables\n",
    "    nCars = 0\n",
    "\n",
    "    # Constructor\n",
    "    def __init__(self, brand, model, year, mileage=0): # double underscored = dunder\n",
    "        # Instance variables\n",
    "        self.brand = brand\n",
    "        self.model = model\n",
    "        self.year  = year\n",
    "        self.mileage = mileage\n",
    "\n",
    "    # Member functions\n",
    "    def drive(self, distance):\n",
    "        self.mileage += distance\n",
    "\n",
    "    def display_info(self):\n",
    "        print(\"BRAND\".ljust(10), '|', self.brand)\n",
    "        print(\"MODEL\".ljust(10), '|', self.model)\n",
    "        print(\"YEAR\".ljust(10), '|', self.year)\n",
    "        print(\"MILEAGE\".ljust(10), '|', self.mileage)"
   ]
  },
  {
   "cell_type": "code",
   "execution_count": 46,
   "id": "aac51d5b-70cf-4a94-b16e-70ccf94b625a",
   "metadata": {},
   "outputs": [],
   "source": [
    "class ElectricCar3(Car3):\n",
    "\n",
    "    def __init__(self, brand, model, year, mileage=0, battery=10):\n",
    "        super().__init__(brand, model, year, mileage)  # initialize the parent with appropriate values\n",
    "        # local to ElectricCar - instance variables\n",
    "        self.battery = battery\n",
    "\n",
    "    # Newly added mothod\n",
    "    def charge(self, units):\n",
    "        self.battery += units\n",
    "\n",
    "    # Overridden methods to accomodate the changes in the electric car\n",
    "    def drive(self, distance):\n",
    "        self.battery -= distance/10  # charge reduces 1 unit for 10 KMS driven -> assumption\n",
    "\n",
    "    def display_info(self):\n",
    "        super().display_info()\n",
    "        print(\"CHARGE\".ljust(10), '|', self.battery)"
   ]
  },
  {
   "cell_type": "code",
   "execution_count": 47,
   "id": "b29fea70-c8bb-49a1-afb2-d5b7dc6241ff",
   "metadata": {},
   "outputs": [],
   "source": [
    "class dummy:\n",
    "\n",
    "    def display_info(self):\n",
    "        print(\"This is a dummy class\")"
   ]
  },
  {
   "cell_type": "code",
   "execution_count": 48,
   "id": "849b3825-5a2c-40b7-b269-9b3f86eb9d1e",
   "metadata": {},
   "outputs": [],
   "source": [
    "c1 = Car3(\"Toyota\", \"Innova Crysta\", 2024, 1000)\n",
    "c2 = ElectricCar3(\"Hyundai\", \"IONIQ\", 2024, 1000, 10)\n",
    "c3 = ElectricCar3(\"MG\", \"Windsor\", 2025, 100, 10)\n",
    "d = dummy()"
   ]
  },
  {
   "cell_type": "code",
   "execution_count": 49,
   "id": "4a4e5680-05f3-42cc-b43c-42720a4e8599",
   "metadata": {},
   "outputs": [
    {
     "name": "stdout",
     "output_type": "stream",
     "text": [
      "BRAND      | Toyota\n",
      "MODEL      | Innova Crysta\n",
      "YEAR       | 2024\n",
      "MILEAGE    | 1000\n"
     ]
    }
   ],
   "source": [
    "c = c1\n",
    "c.display_info()"
   ]
  },
  {
   "cell_type": "code",
   "execution_count": 50,
   "id": "ab573561-3b14-46d3-80e5-e32dab7e5f4b",
   "metadata": {},
   "outputs": [
    {
     "name": "stdout",
     "output_type": "stream",
     "text": [
      "BRAND      | Hyundai\n",
      "MODEL      | IONIQ\n",
      "YEAR       | 2024\n",
      "MILEAGE    | 1000\n",
      "CHARGE     | 10\n"
     ]
    }
   ],
   "source": [
    "c = c2\n",
    "c.display_info()"
   ]
  },
  {
   "cell_type": "code",
   "execution_count": 51,
   "id": "bb126a84-65be-49c8-a0c7-a5d32a3bf972",
   "metadata": {},
   "outputs": [
    {
     "name": "stdout",
     "output_type": "stream",
     "text": [
      "This is a dummy class\n"
     ]
    }
   ],
   "source": [
    "c = d \n",
    "c.display_info()"
   ]
  },
  {
   "cell_type": "markdown",
   "id": "79556008-a59e-4ef1-ba46-e8de9cedf73a",
   "metadata": {},
   "source": [
    "# Builtin functions"
   ]
  },
  {
   "cell_type": "code",
   "execution_count": 52,
   "id": "78a04122-12c4-4b8b-ad84-f7f6aa44d8d1",
   "metadata": {},
   "outputs": [
    {
     "data": {
      "text/plain": [
       "'Hyundai'"
      ]
     },
     "execution_count": 52,
     "metadata": {},
     "output_type": "execute_result"
    }
   ],
   "source": [
    "getattr(c2, 'brand')"
   ]
  },
  {
   "cell_type": "code",
   "execution_count": 54,
   "id": "ad490672-ce04-4f9c-9b59-3e7e1a5c5b24",
   "metadata": {},
   "outputs": [
    {
     "data": {
      "text/plain": [
       "(True, False)"
      ]
     },
     "execution_count": 54,
     "metadata": {},
     "output_type": "execute_result"
    }
   ],
   "source": [
    "hasattr(c2, 'charge'), hasattr(c3, 'baas')"
   ]
  },
  {
   "cell_type": "code",
   "execution_count": 55,
   "id": "3072d317-ac0c-467b-851d-11aa55c6bcc2",
   "metadata": {},
   "outputs": [],
   "source": [
    "setattr(c3, 'baas', 'True') # dynamically inserting a variable into the object directly - not coming from class"
   ]
  },
  {
   "cell_type": "code",
   "execution_count": 56,
   "id": "f09a1281-5925-4e53-91f0-998d3047164b",
   "metadata": {},
   "outputs": [
    {
     "data": {
      "text/plain": [
       "(False, True, 'True')"
      ]
     },
     "execution_count": 56,
     "metadata": {},
     "output_type": "execute_result"
    }
   ],
   "source": [
    "hasattr(c2, 'baas'), hasattr(c3, 'baas'), getattr(c3, 'baas')"
   ]
  },
  {
   "cell_type": "markdown",
   "id": "7e3ea72d-87a6-4dea-a1be-6f6b008455b4",
   "metadata": {},
   "source": [
    "# Built in module - operator"
   ]
  },
  {
   "cell_type": "code",
   "execution_count": 58,
   "id": "6658a5db-8620-47fe-b2ea-38792256d0e2",
   "metadata": {},
   "outputs": [],
   "source": [
    "from operator import itemgetter, methodcaller, attrgetter"
   ]
  },
  {
   "cell_type": "code",
   "execution_count": 59,
   "id": "44ac01f8-15bb-4e2b-8b58-6f1719acc562",
   "metadata": {},
   "outputs": [
    {
     "data": {
      "text/plain": [
       "'bananas'"
      ]
     },
     "execution_count": 59,
     "metadata": {},
     "output_type": "execute_result"
    }
   ],
   "source": [
    "itemgetter(1)(['apples', 'bananas', 'cherries'])"
   ]
  },
  {
   "cell_type": "code",
   "execution_count": 60,
   "id": "3770a12d-7d6c-4df8-8d92-1a785e9b598c",
   "metadata": {},
   "outputs": [],
   "source": [
    "class Person:\n",
    "\n",
    "    def __init__(self, name, age):\n",
    "        self.name = name\n",
    "        self.age = age\n",
    "        \n",
    "    def greet(self):\n",
    "        return f\"Hello, my name is {self.name} and age is {self.age}\""
   ]
  },
  {
   "cell_type": "code",
   "execution_count": 61,
   "id": "514ae026-f9f5-4718-a8cb-2bbddd4940b7",
   "metadata": {},
   "outputs": [],
   "source": [
    "people = [\n",
    "            Person(\"Anil\", 35),\n",
    "            Person(\"Sunil\", 36),\n",
    "            Person(\"Vinil\", 37) \n",
    "]"
   ]
  },
  {
   "cell_type": "code",
   "execution_count": 62,
   "id": "611e6014-26d0-4d1c-9e42-ffe1ba87cdb3",
   "metadata": {},
   "outputs": [
    {
     "data": {
      "text/plain": [
       "[<__main__.Person at 0x1aa5e2fa180>,\n",
       " <__main__.Person at 0x1aa5e301d00>,\n",
       " <__main__.Person at 0x1aa5e301c40>]"
      ]
     },
     "execution_count": 62,
     "metadata": {},
     "output_type": "execute_result"
    }
   ],
   "source": [
    "people"
   ]
  },
  {
   "cell_type": "code",
   "execution_count": 66,
   "id": "8c57680e-39c4-4553-9ca0-a3a2d7d7d856",
   "metadata": {},
   "outputs": [
    {
     "data": {
      "text/plain": [
       "<__main__.Person at 0x1aa5e301d00>"
      ]
     },
     "execution_count": 66,
     "metadata": {},
     "output_type": "execute_result"
    }
   ],
   "source": [
    "itemgetter(1)(people)"
   ]
  },
  {
   "cell_type": "code",
   "execution_count": 64,
   "id": "40c018a1-8a65-4682-bb58-17145410703f",
   "metadata": {},
   "outputs": [
    {
     "data": {
      "text/plain": [
       "'Sunil'"
      ]
     },
     "execution_count": 64,
     "metadata": {},
     "output_type": "execute_result"
    }
   ],
   "source": [
    "attrgetter('name')(people[1])"
   ]
  },
  {
   "cell_type": "code",
   "execution_count": 67,
   "id": "23511810-c890-4b8b-8a93-b4940054ef8b",
   "metadata": {},
   "outputs": [
    {
     "data": {
      "text/plain": [
       "'Hello, my name is Vinil and age is 37'"
      ]
     },
     "execution_count": 67,
     "metadata": {},
     "output_type": "execute_result"
    }
   ],
   "source": [
    "methodcaller('greet')(people[2])"
   ]
  },
  {
   "cell_type": "code",
   "execution_count": 69,
   "id": "ca21a2aa-a9e7-4602-9ff7-ef8dc2a4fe8a",
   "metadata": {},
   "outputs": [],
   "source": [
    "names = list(map(attrgetter('name'), people))\n",
    "ages = list(map(attrgetter('age'), people))"
   ]
  },
  {
   "cell_type": "code",
   "execution_count": 70,
   "id": "6fceaa00-c724-4ec4-875e-0aed1a627aa9",
   "metadata": {},
   "outputs": [
    {
     "data": {
      "text/plain": [
       "['Anil', 'Sunil', 'Vinil']"
      ]
     },
     "execution_count": 70,
     "metadata": {},
     "output_type": "execute_result"
    }
   ],
   "source": [
    "names"
   ]
  },
  {
   "cell_type": "code",
   "execution_count": 71,
   "id": "4096d7fb-cc75-4921-ac3e-7f982648309a",
   "metadata": {},
   "outputs": [
    {
     "data": {
      "text/plain": [
       "[35, 36, 37]"
      ]
     },
     "execution_count": 71,
     "metadata": {},
     "output_type": "execute_result"
    }
   ],
   "source": [
    "ages\n"
   ]
  },
  {
   "cell_type": "code",
   "execution_count": null,
   "id": "e8509f30-90a3-4bad-98de-acc177f392f3",
   "metadata": {},
   "outputs": [],
   "source": []
  },
  {
   "cell_type": "code",
   "execution_count": null,
   "id": "5c4245c8-ffee-4885-8066-c3489e2bf42d",
   "metadata": {},
   "outputs": [],
   "source": []
  },
  {
   "cell_type": "code",
   "execution_count": null,
   "id": "5e7ccf66-15e2-4829-82a0-5fa4770b48b4",
   "metadata": {},
   "outputs": [],
   "source": []
  },
  {
   "cell_type": "markdown",
   "id": "c26b8357-a391-4c23-a549-dd60cbbb01a0",
   "metadata": {},
   "source": [
    "# lab session I"
   ]
  },
  {
   "cell_type": "raw",
   "id": "adb94603-1506-474e-9a75-dad55f460b19",
   "metadata": {},
   "source": [
    "Session 1 [45]\n",
    "----------------------------------------------------------------------------------------------\n",
    "\n",
    "1. Review the concepts \n",
    "2. Review the Word Jumble Game in OOP framework\n",
    "3. Implement the Guess-my-Number game in the OOP framework\n",
    "\n",
    "    Computer has chose a number (1, 100), can you guess? Max. 10 guesses\n",
    "\n",
    "    -> 35\n",
    "    Higher\n",
    "\n",
    "    -> 65\n",
    "    Lower\n",
    "\n",
    "    -> 44\n",
    "    Higher\n",
    "\n",
    "    -> 45\n",
    "    Correct!!\n",
    "\n",
    "    Number of attempts 4/10\n",
    "    Excellent playing!"
   ]
  },
  {
   "cell_type": "code",
   "execution_count": 10,
   "id": "e81e4510-4800-4248-a702-4b663fcf3a3d",
   "metadata": {},
   "outputs": [
    {
     "name": "stdout",
     "output_type": "stream",
     "text": [
      "24\n"
     ]
    }
   ],
   "source": [
    "import random\n",
    "\n",
    "a = random.randint(1, 100)  # Generates a random integer between 1 and 100\n",
    "print(a)"
   ]
  },
  {
   "cell_type": "code",
   "execution_count": 11,
   "id": "041b748d-3122-4bd0-86fc-0a60bcd0324d",
   "metadata": {},
   "outputs": [],
   "source": [
    "# My intial logic"
   ]
  },
  {
   "cell_type": "raw",
   "id": "d3c4e207-0d87-4ebd-ab72-fa699f818ecd",
   "metadata": {},
   "source": [
    "import random\n",
    "class guessnumber:\n",
    "    def __init__(self ,name,number):\n",
    "        self.name=name\n",
    "        self.attempt=0\n",
    "        self.number = random.randint(1, 500)\n",
    "        self.max_attempts = 10\n",
    "\n",
    "    def number(self):\n",
    "            n=random.randint(1,500)\n",
    "            return n\n",
    "\n",
    "    def play(self):\n",
    "        \n",
    "        while self_attempt < self.max_attempts:\n",
    "            guess=int(input())\n",
    "            self.attempt += 1\n",
    "\n",
    "            if guess< self.number:\n",
    "                print(\"Guess higher\")\n",
    "\n",
    "            elif guess>self.number:\n",
    "                print(\"Guess lower\")\n",
    "\n",
    "            else:\n",
    "                print(\"Great guess\")\n",
    "\n",
    "                    \n",
    "        "
   ]
  },
  {
   "cell_type": "code",
   "execution_count": 12,
   "id": "38708e92-09ba-4bb2-a566-197986e3727d",
   "metadata": {},
   "outputs": [],
   "source": [
    "# chatgpt help in polishing game ,nneded advice how to reward"
   ]
  },
  {
   "cell_type": "code",
   "execution_count": 13,
   "id": "bddaeae9-a9fb-41c8-b4a0-79606859f2dd",
   "metadata": {},
   "outputs": [
    {
     "name": "stdin",
     "output_type": "stream",
     "text": [
      "Enter your name:  Jacob\n"
     ]
    },
    {
     "name": "stdout",
     "output_type": "stream",
     "text": [
      "Jacob, I have chosen a number between 1 and 500. Can you guess it?\n",
      "You have 10 attempts.\n"
     ]
    },
    {
     "name": "stdin",
     "output_type": "stream",
     "text": [
      "Enter your guess:  23\n"
     ]
    },
    {
     "name": "stdout",
     "output_type": "stream",
     "text": [
      "Guess higher!\n"
     ]
    },
    {
     "name": "stdin",
     "output_type": "stream",
     "text": [
      "Enter your guess:  567\n"
     ]
    },
    {
     "name": "stdout",
     "output_type": "stream",
     "text": [
      "Guess lower!\n"
     ]
    },
    {
     "name": "stdin",
     "output_type": "stream",
     "text": [
      "Enter your guess:  564\n"
     ]
    },
    {
     "name": "stdout",
     "output_type": "stream",
     "text": [
      "Guess lower!\n"
     ]
    },
    {
     "name": "stdin",
     "output_type": "stream",
     "text": [
      "Enter your guess:  345\n"
     ]
    },
    {
     "name": "stdout",
     "output_type": "stream",
     "text": [
      "Guess lower!\n"
     ]
    },
    {
     "name": "stdin",
     "output_type": "stream",
     "text": [
      "Enter your guess:  234\n"
     ]
    },
    {
     "name": "stdout",
     "output_type": "stream",
     "text": [
      "Guess lower!\n"
     ]
    },
    {
     "name": "stdin",
     "output_type": "stream",
     "text": [
      "Enter your guess:  123\n"
     ]
    },
    {
     "name": "stdout",
     "output_type": "stream",
     "text": [
      "Guess lower!\n"
     ]
    },
    {
     "name": "stdin",
     "output_type": "stream",
     "text": [
      "Enter your guess:  456\n"
     ]
    },
    {
     "name": "stdout",
     "output_type": "stream",
     "text": [
      "Guess lower!\n"
     ]
    },
    {
     "name": "stdin",
     "output_type": "stream",
     "text": [
      "Enter your guess:  453\n"
     ]
    },
    {
     "name": "stdout",
     "output_type": "stream",
     "text": [
      "Guess lower!\n"
     ]
    },
    {
     "name": "stdin",
     "output_type": "stream",
     "text": [
      "Enter your guess:  3456\n"
     ]
    },
    {
     "name": "stdout",
     "output_type": "stream",
     "text": [
      "Guess lower!\n"
     ]
    },
    {
     "name": "stdin",
     "output_type": "stream",
     "text": [
      "Enter your guess:  234\n"
     ]
    },
    {
     "name": "stdout",
     "output_type": "stream",
     "text": [
      "Guess lower!\n",
      "😢 Sorry, you've used all 10 attempts. The correct number was 66.\n"
     ]
    }
   ],
   "source": [
    "import random\n",
    "\n",
    "class GuessNumber:\n",
    "    def __init__(self, name):\n",
    "        self.name = name\n",
    "        self.attempt = 0\n",
    "        self.number = random.randint(1, 500)  # Store the random number once\n",
    "        self.max_attempts = 10\n",
    "\n",
    "    def play(self):\n",
    "        print(f\"{self.name}, I have chosen a number between 1 and 500. Can you guess it?\")\n",
    "        print(f\"You have {self.max_attempts} attempts.\")\n",
    "\n",
    "        while self.attempt < self.max_attempts:\n",
    "            try:\n",
    "                guess = int(input(\"Enter your guess: \"))\n",
    "                self.attempt += 1\n",
    "\n",
    "                if guess < self.number:\n",
    "                    print(\"Guess higher!\")\n",
    "\n",
    "                elif guess > self.number:\n",
    "                    print(\"Guess lower!\")\n",
    "\n",
    "                else:\n",
    "                    print(f\"🎉 Great guess, {self.name}! You got it in {self.attempt} attempts.\")\n",
    "                    \n",
    "                    # Rewarding based on attempts\n",
    "                    if self.attempt == 1:\n",
    "                        print(\"🔥 Amazing! You got it on the first try! You're a genius! 🏆\")\n",
    "                    elif self.attempt <= 3:\n",
    "                        print(\"🌟 Excellent! That was super fast! 🎖️\")\n",
    "                    elif self.attempt <= 6:\n",
    "                        print(\"👍 Good job! You did well! 🎉\")\n",
    "                    else:\n",
    "                        print(\"😃 You did it! Keep practicing for a quicker guess next time!\")\n",
    "\n",
    "                    return  # Exit after correct guess\n",
    "            except ValueError:\n",
    "                print(\"❌ Please enter a valid number!\")\n",
    "\n",
    "        print(f\"😢 Sorry, you've used all {self.max_attempts} attempts. The correct number was {self.number}.\")\n",
    "\n",
    "# Run the game\n",
    "name = input(\"Enter your name: \")\n",
    "game = GuessNumber(name)\n",
    "game.play()\n"
   ]
  },
  {
   "cell_type": "code",
   "execution_count": null,
   "id": "a4a18b14-dd9d-43a4-8f37-d7c5552d18de",
   "metadata": {},
   "outputs": [],
   "source": [
    "name = input(\"Enter your name: \")\n",
    "game = GuessNumber(name)\n",
    "game.play()"
   ]
  },
  {
   "cell_type": "raw",
   "id": "a881766c-0bdf-4051-b010-aa1d4105b50c",
   "metadata": {},
   "source": [
    "mport random\n",
    " \n",
    "class Guessthenumber:\n",
    "    def __init__(self):\n",
    "        self.number = random.randint(1, 80)\n",
    "        self.no_of_gusess = 10\n",
    " \n",
    "    def start_game(self):\n",
    "        for attempt in range(1, self.no_of_gusess + 1):\n",
    "            guess = int(input(f\"Attempt {attempt}/{self.no_of_gusess} - Give your guess: \"))\n",
    "            if guess < self.number:\n",
    "                print(\"Give a bit higher\")\n",
    "            elif guess > self.number:\n",
    "                print(\"Give a bit lower\")\n",
    "            else:\n",
    "                print(f\"WooHoo...yeah...you guessed it Correct! in {attempt} attempts.\")\n",
    "                print(\"really you have a brain...!!!\") \n",
    "                break\n",
    "        else:\n",
    "            print(f\"ohh...ohh...Sorry! the number is {self.number}.\")\n",
    "            print(\"get your brain and try again\")\n",
    " \n",
    "game = Guessthenumber()\n",
    " \n",
    "game.start_game()"
   ]
  },
  {
   "cell_type": "code",
   "execution_count": null,
   "id": "6e5d1257-97bd-410f-8aa1-783e23c231a7",
   "metadata": {},
   "outputs": [],
   "source": []
  },
  {
   "cell_type": "raw",
   "id": "b940ffcf-ef68-4c10-a8a7-b7f3204919dc",
   "metadata": {},
   "source": [
    "Session 2 [45]\n",
    "----------------------------------------------------------------------------------------------\n",
    "\n",
    "Exercise: Implement a Vector2D Class with Overloaded Operators\n",
    "----------------------------------------------------------------\n",
    "Objective:\n",
    "Implement a 2D vector class and overload operators for addition, subtraction, and comparison.\n",
    "\n",
    "Tasks:\n",
    "Create a class Vector2D with attributes:\n",
    "\n",
    "    x (horizontal component)\n",
    "\n",
    "    y (vertical component)\n",
    "\n",
    "Overload the following operators:\n",
    "\n",
    "    + (addition): Add corresponding x and y values of two vectors.\n",
    "\n",
    "    - (subtraction): Subtract corresponding x and y values.\n",
    "\n",
    "    == (equality): Check if two vectors are identical. Go into operator module and find out what is the\n",
    "                   function that needs to be overloaded to achieve this functionality\n",
    "\n",
    "Implement a __str__() method to display vectors as \"(x, y)\".\n",
    "\n",
    "Test your class with examples like:\n",
    "v1 = Vector2D(3, 4)\n",
    "v2 = Vector2D(1, 2)\n",
    "v3 = v1 + v2   # Should return Vector2D(4, 6)\n",
    "v4 = v1 - v2   # Should return Vector2D(2, 2)\n",
    "print(v3 == Vector2D(4, 6))  # Should return True\n",
    "\n",
    "\n",
    "Exercise: Implement a Time Class with Overloaded Operators\n",
    "----------------------------------------------------------------\n",
    "\n",
    "\n",
    "Objective:\n",
    "Create a Time class that allows addition of two time durations and comparisons.\n",
    "\n",
    "Tasks:\n",
    "Define a class Time with attributes:\n",
    "\n",
    "hours, minutes, seconds.\n",
    "\n",
    "Overload the following operators:\n",
    "\n",
    "+ (addition): Add two time objects correctly handling overflow (e.g., 90 seconds = 1 min 30 sec).\n",
    "\n",
    "> (greater than): Compare two time objects based on total seconds. Go into operator module and find out what is the\n",
    "                   function that needs to be overloaded to achieve this functionality\n",
    "\n",
    "Implement a __str__() method to display time in \"hh:mm:ss\" format.\n",
    "\n",
    "Test your class with examples like:\n",
    "\n",
    "t1 = Time(1, 45, 50)\n",
    "t2 = Time(0, 30, 20)\n",
    "t3 = t1 + t2  # Should return Time(2, 16, 10)\n",
    "print(t1 > t2)  # Should return True"
   ]
  },
  {
   "cell_type": "raw",
   "id": "d197ce5b-8d0c-407e-b09a-5d2197ccebaf",
   "metadata": {},
   "source": [
    "Exercise: Implement a Vector2D Class with Overloaded Operators\n",
    "----------------------------------------------------------------\n",
    "Objective:\n",
    "Implement a 2D vector class and overload operators for addition, subtraction, and comparison.\n",
    "\n",
    "Tasks:\n",
    "Create a class Vector2D with attributes:\n",
    "\n",
    "    x (horizontal component)\n",
    "\n",
    "    y (vertical component)\n",
    "\n",
    "Overload the following operators:\n",
    "\n",
    "    + (addition): Add corresponding x and y values of two vectors.\n",
    "\n",
    "    - (subtraction): Subtract corresponding x and y values.\n",
    "\n",
    "    == (equality): Check if two vectors are identical. Go into operator module and find out what is the\n",
    "                   function that needs to be overloaded to achieve this functionality\n",
    "\n",
    "Implement a __str__() method to display vectors as \"(x, y)\".\n",
    "\n",
    "Test your class with examples like:\n",
    "v1 = Vector2D(3, 4)\n",
    "v2 = Vector2D(1, 2)\n",
    "v3 = v1 + v2   # Should return Vector2D(4, 6)\n",
    "v4 = v1 - v2   # Should return Vector2D(2, 2)\n",
    "print(v3 == Vector2D(4, 6))  # Should return True"
   ]
  },
  {
   "cell_type": "code",
   "execution_count": 14,
   "id": "7326eb7b-464e-49f3-8833-443f2d88552f",
   "metadata": {},
   "outputs": [],
   "source": [
    "class Vector2D:\n",
    "    def __init__(self,x,y):\n",
    "        self.x=x\n",
    "        self.y=y\n",
    "\n",
    "    def __add__(self ,other):\n",
    "        return Vector2D(self.x + other.x , self.y + other.y)\n",
    "\n",
    "    def __sub__(self,other):\n",
    "        return Vector2D(self.x-other.x, self.y - other.y)\n",
    "\n",
    "    def __eq__(self, other):\n",
    "        return self.x == other.x and self.y == other.y\n",
    "\n",
    "    def __str__(self):\n",
    "        return f\"({self.x}, {self.y})\"\n",
    "        \n",
    "\n",
    "    \n",
    "\n",
    "\n",
    "        \n",
    "    "
   ]
  },
  {
   "cell_type": "code",
   "execution_count": 15,
   "id": "3a580ee0-5ca8-408a-806f-70dc3d054f7a",
   "metadata": {},
   "outputs": [
    {
     "name": "stdout",
     "output_type": "stream",
     "text": [
      "(4, 6)\n",
      "(2, 2)\n",
      "True\n"
     ]
    }
   ],
   "source": [
    "# Testing the class\n",
    "v1 = Vector2D(3, 4)\n",
    "v2 = Vector2D(1, 2)\n",
    "\n",
    "v3 = v1 + v2   # Should return Vector2D(4, 6)\n",
    "v4 = v1 - v2   # Should return Vector2D(2, 2)\n",
    "\n",
    "print(v3)  # Output: (4, 6)\n",
    "print(v4)  # Output: (2, 2)\n",
    "print(v3 == Vector2D(4, 6))  # Output: True\n"
   ]
  },
  {
   "cell_type": "raw",
   "id": "8b291bc6-f8bd-4e4d-aa24-bbdcf41dd6d0",
   "metadata": {},
   "source": [
    "Exercise: Implement a Time Class with Overloaded Operators\n",
    "----------------------------------------------------------------\n",
    "\n",
    "\n",
    "Objective:\n",
    "Create a Time class that allows addition of two time durations and comparisons.\n",
    "\n",
    "Tasks:\n",
    "Define a class Time with attributes:\n",
    "\n",
    "hours, minutes, seconds.\n",
    "\n",
    "Overload the following operators:\n",
    "\n",
    "+ (addition): Add two time objects correctly handling overflow (e.g., 90 seconds = 1 min 30 sec).\n",
    "\n",
    "> (greater than): Compare two time objects based on total seconds. Go into operator module and find out what is the\n",
    "                   function that needs to be overloaded to achieve this functionality\n",
    "\n",
    "Implement a __str__() method to display time in \"hh:mm:ss\" format.\n",
    "\n",
    "Test your class with examples like:\n",
    "\n",
    "t1 = Time(1, 45, 50)\n",
    "t2 = Time(0, 30, 20)\n",
    "t3 = t1 + t2  # Should return Time(2, 16, 10)\n",
    "print(t1 > t2)  # Should return True"
   ]
  },
  {
   "cell_type": "code",
   "execution_count": null,
   "id": "8d81335c-89b0-4701-b31f-567df777bff8",
   "metadata": {},
   "outputs": [],
   "source": [
    "class Time:\n",
    "    def __init__(self, hours, minutes, seconds):\n",
    "        self.hours = hours\n",
    "        self.minutes = minutes\n",
    "        self.seconds = seconds\n",
    "        self.normalize_time()\n",
    "\n",
    "    def normalize_time(self):\n",
    "        #\"\"\"Ensures that seconds and minutes do not exceed 59.\"\"\"\n",
    "        self.minutes += self.seconds // 60\n",
    "        self.seconds = self.seconds % 60\n",
    "        self.hours += self.minutes // 60\n",
    "        self.minutes = self.minutes % 60\n",
    "    \n",
    "    def __add__(self, other):\n",
    "        \"\"\"Adds two Time objects and returns a new Time object.\"\"\"\n",
    "        new_hours = self.hours + other.hours\n",
    "        new_minutes = self.minutes + other.minutes\n",
    "        new_seconds = self.seconds + other.seconds\n",
    "        return Time(new_hours, new_minutes, new_seconds)\n",
    "\n",
    "    def __gt__(self, other):\n",
    "        \"\"\"Compares two Time objects based on total seconds.\"\"\"\n",
    "        return (self.hours * 3600 + self.minutes * 60 + self.seconds) > (other.hours * 3600 + other.minutes * 60 + other.seconds)\n",
    "\n",
    "    def __str__(self):\n",
    "        \"\"\"Returns the string representation in hh:mm:ss format.\"\"\"\n",
    "        return f\"{self.hours:02}:{self.minutes:02}:{self.seconds:02}\"\n",
    "\n",
    "# Testing the class\n",
    "t1 = Time(1, 45, 50)\n",
    "t2 = Time(0, 30, 20)\n",
    "t3 = t1 + t2  # Should return Time(2, 16, 10)\n",
    "\n",
    "print(t3)  # Output: 02:16:10\n",
    "print(t1 > t2)  # Output: True\n"
   ]
  },
  {
   "cell_type": "code",
   "execution_count": 16,
   "id": "5724a363-7e00-403b-b035-755b5d7b03cd",
   "metadata": {},
   "outputs": [
    {
     "data": {
      "text/plain": [
       "1"
      ]
     },
     "execution_count": 16,
     "metadata": {},
     "output_type": "execute_result"
    }
   ],
   "source": [
    "3%2"
   ]
  },
  {
   "cell_type": "code",
   "execution_count": 17,
   "id": "abca396d-64af-41c7-b1eb-0a96d1580f0a",
   "metadata": {},
   "outputs": [
    {
     "data": {
      "text/plain": [
       "1"
      ]
     },
     "execution_count": 17,
     "metadata": {},
     "output_type": "execute_result"
    }
   ],
   "source": [
    "5%2\n"
   ]
  },
  {
   "cell_type": "code",
   "execution_count": 18,
   "id": "eebd88c1-b57a-448c-981b-3d3b3877c91e",
   "metadata": {},
   "outputs": [
    {
     "data": {
      "text/plain": [
       "2"
      ]
     },
     "execution_count": 18,
     "metadata": {},
     "output_type": "execute_result"
    }
   ],
   "source": [
    "5%3"
   ]
  },
  {
   "cell_type": "raw",
   "id": "9a1518c0-0f2c-4d09-8baa-da46e55da1fb",
   "metadata": {},
   "source": [
    "class time2(object):\n",
    "    def __init__(self,hours minutes,records):\n",
    "        se"
   ]
  },
  {
   "cell_type": "code",
   "execution_count": 19,
   "id": "7100794d-9e9b-42cd-877a-43a66b0fbb87",
   "metadata": {},
   "outputs": [
    {
     "data": {
      "text/plain": [
       "15"
      ]
     },
     "execution_count": 19,
     "metadata": {},
     "output_type": "execute_result"
    }
   ],
   "source": [
    "12+3"
   ]
  },
  {
   "cell_type": "code",
   "execution_count": 24,
   "id": "15e8758c-b914-4e81-bc1a-455b1c0138bb",
   "metadata": {},
   "outputs": [],
   "source": [
    "class Person:\n",
    "    def __init__(self,name,age):\n",
    "        self.name=name\n",
    "        self.age=age\n",
    "    def __rep__(self):\n",
    "        return self.name, self.age\n",
    "    # Due to way iti s used it can be alternate constructor \n",
    "    def birth_year(cls, name,birth_year):\n",
    "        return cls(name,2025-birth_year )\n",
    "        # cls refers to class name in this is equivalent to Person(name ,2025-birth_year)\n",
    "    from_birth_year=classmethod(birth_year)    "
   ]
  },
  {
   "cell_type": "code",
   "execution_count": 25,
   "id": "c8ede2ba-347c-422e-90f9-9c6a2c03a44b",
   "metadata": {},
   "outputs": [],
   "source": [
    "p1=Person(\"Anil\",45)"
   ]
  },
  {
   "cell_type": "code",
   "execution_count": 26,
   "id": "14069488-21b0-4505-a9d0-94a167cb2515",
   "metadata": {},
   "outputs": [
    {
     "data": {
      "text/plain": [
       "<__main__.Person at 0x1aa5e2f9280>"
      ]
     },
     "execution_count": 26,
     "metadata": {},
     "output_type": "execute_result"
    }
   ],
   "source": [
    "p1"
   ]
  },
  {
   "cell_type": "code",
   "execution_count": 27,
   "id": "36ae6a35-4828-432f-a849-4e79bef0597d",
   "metadata": {},
   "outputs": [
    {
     "name": "stdout",
     "output_type": "stream",
     "text": [
      "<__main__.Person object at 0x000001AA5E2F9280>\n"
     ]
    }
   ],
   "source": [
    "print(p1)"
   ]
  },
  {
   "cell_type": "code",
   "execution_count": 29,
   "id": "f918b957-1195-42c7-8b81-aa29e1e6c6c5",
   "metadata": {},
   "outputs": [
    {
     "name": "stdout",
     "output_type": "stream",
     "text": [
      "Person(name='Anil', age=45)\n",
      "Person(name='Anil', age=45)\n"
     ]
    }
   ],
   "source": [
    "class Person:\n",
    "    def __init__(self, name, age):\n",
    "        self.name = name\n",
    "        self.age = age\n",
    "\n",
    "    def __repr__(self):  # Fixed: Used __repr__ instead of __rep__\n",
    "        return f\"Person(name='{self.name}', age={self.age})\"\n",
    "\n",
    "    @classmethod  # Fixed: Added @classmethod decorator\n",
    "    def birth_year(cls, name, birth_year):\n",
    "        return cls(name, 2025 - birth_year)  # cls refers to the class Person\n",
    "\n",
    "# Creating objects\n",
    "p1 = Person(\"Anil\", 45)\n",
    "print(p1)  # Output: Person(name='Anil', age=45)\n",
    "\n",
    "# Creating object using the alternate constructor\n",
    "p2 = Person.birth_year(\"Anil\", 1980)\n",
    "print(p2)  # Output: Person(name='Anil', age=45)\n"
   ]
  },
  {
   "cell_type": "code",
   "execution_count": null,
   "id": "640982d1-a47a-43d5-9e56-f3ff69454ec5",
   "metadata": {},
   "outputs": [],
   "source": []
  },
  {
   "cell_type": "markdown",
   "id": "32a5b3bc-62b6-45cc-9a2b-63206865a621",
   "metadata": {},
   "source": [
    "# Static MEthod"
   ]
  },
  {
   "cell_type": "raw",
   "id": "d30559f4-9b2a-4e9f-ac8d-5576b1cdf284",
   "metadata": {},
   "source": [
    "A static method does not operates on self->self refers to object or instance, cls->cls referes to class itself\n",
    "It behaves like a regular function but belongs to a class \n",
    "can be used as helper or utility functions that do not need accesss to class or instance variables\n",
    "They cannot modify instance , class variable \n"
   ]
  },
  {
   "cell_type": "code",
   "execution_count": 36,
   "id": "c3453d20-0cf4-46ca-8ec7-b77a976afbe0",
   "metadata": {},
   "outputs": [],
   "source": [
    "class MathsOps:\n",
    "    def add(x,y):\n",
    "        return x+y\n",
    "\n",
    "    def multiply(x,y):\n",
    "        return x*y\n",
    "\n",
    "    add=staticmethod(add)\n",
    "    multiply=staticmethod(multiply)"
   ]
  },
  {
   "cell_type": "code",
   "execution_count": 37,
   "id": "4af12109-03c4-4c30-85c4-08888c89a81d",
   "metadata": {},
   "outputs": [],
   "source": [
    "m=MathsOps()"
   ]
  },
  {
   "cell_type": "code",
   "execution_count": 38,
   "id": "12f49d86-92a2-42fa-911c-b9c6ffc0e689",
   "metadata": {},
   "outputs": [
    {
     "data": {
      "text/plain": [
       "<__main__.MathsOps at 0x1aa5e079400>"
      ]
     },
     "execution_count": 38,
     "metadata": {},
     "output_type": "execute_result"
    }
   ],
   "source": [
    "m"
   ]
  },
  {
   "cell_type": "code",
   "execution_count": 39,
   "id": "4916fbbd-7df2-474c-a0f7-ef29c5f9814b",
   "metadata": {},
   "outputs": [
    {
     "data": {
      "text/plain": [
       "15"
      ]
     },
     "execution_count": 39,
     "metadata": {},
     "output_type": "execute_result"
    }
   ],
   "source": [
    "m.add(12,3)"
   ]
  },
  {
   "cell_type": "code",
   "execution_count": 40,
   "id": "1633a8a3-5b98-4833-87d8-8bab8c5724f5",
   "metadata": {},
   "outputs": [
    {
     "data": {
      "text/plain": [
       "6"
      ]
     },
     "execution_count": 40,
     "metadata": {},
     "output_type": "execute_result"
    }
   ],
   "source": [
    "m.multiply(2,3)"
   ]
  },
  {
   "cell_type": "code",
   "execution_count": 41,
   "id": "dbd54644-8601-4e66-9b26-4832ca521308",
   "metadata": {},
   "outputs": [],
   "source": [
    "def add2(a,b):\n",
    "    return a+b"
   ]
  },
  {
   "cell_type": "code",
   "execution_count": 42,
   "id": "92f2e621-c33e-4f06-ba7d-dbdcfd78e647",
   "metadata": {},
   "outputs": [],
   "source": [
    "n=add2"
   ]
  },
  {
   "cell_type": "code",
   "execution_count": 43,
   "id": "3acb37e7-9fda-4eb1-b383-e0d548d20c7d",
   "metadata": {},
   "outputs": [
    {
     "data": {
      "text/plain": [
       "<function __main__.add2(a, b)>"
      ]
     },
     "execution_count": 43,
     "metadata": {},
     "output_type": "execute_result"
    }
   ],
   "source": [
    "n"
   ]
  },
  {
   "cell_type": "code",
   "execution_count": 73,
   "id": "deda9c7b-c6d4-4b98-a077-af107b124361",
   "metadata": {},
   "outputs": [],
   "source": [
    "c=[\"age\",'/n45']"
   ]
  },
  {
   "cell_type": "code",
   "execution_count": 79,
   "id": "4a478605-356c-4354-a3d9-4711b3350ff7",
   "metadata": {},
   "outputs": [],
   "source": [
    "c=[item.strip('/') for item in c]"
   ]
  },
  {
   "cell_type": "code",
   "execution_count": 80,
   "id": "8d58e5bc-18e9-4f73-a6b0-b1da86c459a9",
   "metadata": {},
   "outputs": [
    {
     "data": {
      "text/plain": [
       "['age', 'n45']"
      ]
     },
     "execution_count": 80,
     "metadata": {},
     "output_type": "execute_result"
    }
   ],
   "source": [
    "c"
   ]
  },
  {
   "cell_type": "code",
   "execution_count": 81,
   "id": "a8d017ac-7b1f-4cd0-8051-a0682f3a431e",
   "metadata": {},
   "outputs": [],
   "source": [
    "import json\n",
    "import os\n",
    "\n",
    "# Define the file path\n",
    "JSON_FILE_PATH = r\"C:\\Users\\292593\\Desktop\\master\\python training\\Hackatons\\Friday_4th\\292593_SanjuJacob_UST\\employees.json\"\n",
    "\n",
    "class Person:\n",
    "    def __init__(self, name, age, gender):\n",
    "        self.name = name\n",
    "        self.age = age\n",
    "        self.gender = gender\n",
    "\n",
    "    def get_details(self):\n",
    "        return f\"Name: {self.name}, Age: {self.age}, Gender: {self.gender}\"\n",
    "\n",
    "    def __str__(self):\n",
    "        return self.get_details()\n",
    "\n",
    "class Employee(Person):\n",
    "    def __init__(self, name, age, gender, emp_id, department, salary):\n",
    "        super().__init__(name, age, gender)\n",
    "        self.emp_id = emp_id\n",
    "        self.department = department\n",
    "        self.salary = salary\n",
    "\n",
    "    def get_details(self):\n",
    "        return (super().get_details() + \n",
    "                f\", Employee ID: {self.emp_id}, Department: {self.department}, Salary: {self.salary}\")\n",
    "\n",
    "    def is_eligible_for_bonus(self):\n",
    "        return self.salary < 50000\n",
    "\n",
    "    @classmethod\n",
    "    def from_string(cls, data_string):\n",
    "        name, age, gender, emp_id, department, salary = data_string.split(',')\n",
    "        return cls(name, int(age), gender, emp_id, department, int(salary))\n",
    "\n",
    "    @staticmethod\n",
    "    def bonus_policy():\n",
    "        print(\"Employees with a salary below 50,000 are eligible for a bonus.\")\n",
    "\n",
    "class Department:\n",
    "    def __init__(self, name):\n",
    "        self.name = name\n",
    "        self.employees = []\n",
    "\n",
    "    def add_employee(self, employee):\n",
    "        if isinstance(employee, Employee):\n",
    "            self.employees.append(employee)\n",
    "        else:\n",
    "            raise ValueError(\"Only Employee objects can be added.\")\n",
    "\n",
    "    def get_average_salary(self):\n",
    "        if not self.employees:\n",
    "            return 0  # Avoid division by zero\n",
    "        total_salary = sum(emp.salary for emp in self.employees)\n",
    "        return total_salary / len(self.employees)\n",
    "\n",
    "    def get_all_employees(self):\n",
    "        return [emp.get_details() for emp in self.employees]\n",
    "\n",
    "# ✅ Updated Functions with Specified Path\n",
    "def save_to_json(employees, filename=JSON_FILE_PATH):\n",
    "    #\"\"\"Save employee data to a JSON file at the specified path.\"\"\"\n",
    "    data = [{\"name\": emp.name, \"age\": emp.age, \"gender\": emp.gender,\n",
    "             \"emp_id\": emp.emp_id, \"department\": emp.department, \"salary\": emp.salary}\n",
    "            for emp in employees]\n",
    "    \n",
    "    # Ensure directory exists before saving\n",
    "    os.makedirs(os.path.dirname(filename), exist_ok=True)\n",
    "\n",
    "    with open(filename, \"w\") as f:\n",
    "        json.dump(data, f, indent=4)\n",
    "    print(f\"✅ Data saved to {filename}\")\n",
    "\n",
    "def load_from_json(filename=JSON_FILE_PATH):\n",
    "    #\"\"\"Load employee data from a JSON file at the specified path and return Employee objects.\"\"\"\n",
    "    try:\n",
    "        with open(filename, \"r\") as f:\n",
    "            data = json.load(f)\n",
    "        employees = [Employee(emp[\"name\"], emp[\"age\"], emp[\"gender\"],\n",
    "                              emp[\"emp_id\"], emp[\"department\"], emp[\"salary\"])\n",
    "                     for emp in data]\n",
    "        print(f\"📂 Data loaded from {filename}\")\n",
    "        return employees\n",
    "    except FileNotFoundError:\n",
    "        print(f\"❌ {filename} not found.\")\n",
    "        return []\n"
   ]
  },
  {
   "cell_type": "code",
   "execution_count": 83,
   "id": "1e872d94-bed4-4a98-921b-d06fe69ac4c8",
   "metadata": {},
   "outputs": [],
   "source": [
    "\"\"\"\n",
    "Author: Sanju Jacob\n",
    "UID:292593\n",
    "Location : Trivandrum UST main campus\n",
    "\"\"\"\n",
    "import json\n",
    "import os\n",
    "\n",
    "# Defining  the file path for json saving\n",
    "JSON_FILE_PATH = r\"C:\\Users\\292593\\Desktop\\master\\python training\\Hackatons\\Friday_4th\\292593_SanjuJacob_UST\\employees.json\"\n",
    "\n",
    "class Person:\n",
    "    def __init__(self, name, age, gender):\n",
    "        self.name = name\n",
    "        self.age = age\n",
    "        self.gender = gender\n",
    "\n",
    "    def get_details(self):\n",
    "        return \"Name:{}, Age:{}, Gender:{}\".format(self.name, self.age, self.gender)\n",
    "\n",
    "    def __str__(self):\n",
    "        return self.get_details()\n",
    "\n",
    "class Employee(Person):\n",
    "    def __init__(self, name, age, gender, emp_id, department, salary):\n",
    "        super().__init__(name, age, gender)\n",
    "        self.emp_id = emp_id\n",
    "        self.department = department\n",
    "        self.salary = salary\n",
    "\n",
    "    def get_details(self):\n",
    "        return (super().get_details() + \n",
    "                f\", Employee ID: {self.emp_id}, Department: {self.department}, Salary: {self.salary}\")\n",
    "\n",
    "    def is_eligible_for_bonus(self):\n",
    "        return self.salary < 50000\n",
    "\n",
    "    # Define a normal method to convert a string into an Employee object.\n",
    "    def from_string(cls, data_string):\n",
    "        name, age, gender, emp_id, department, salary = data_string.split(',')\n",
    "        return cls(name, int(age), gender, emp_id, department, int(salary))\n",
    "    # Convert the above method to a class method.\n",
    "    from_string = classmethod(from_string)\n",
    "\n",
    "    # Define a normal method for bonus_policy.\n",
    "    def bonus_policy():\n",
    "        print(\"Employees with a salary below 50,000 are eligible for a bonus.\")\n",
    "    # Convert the above method to a static method.\n",
    "    bonus_policy = staticmethod(bonus_policy)\n",
    "\n",
    "class Department:\n",
    "    def __init__(self, name):\n",
    "        self.name = name\n",
    "        self.employees = []\n",
    "\n",
    "    def add_employee(self, employee):\n",
    "        if isinstance(employee, Employee):\n",
    "            self.employees.append(employee)\n",
    "        else:\n",
    "            raise ValueError(\"Only Employee objects can be added.\")\n",
    "\n",
    "    def get_average_salary(self):\n",
    "        if not self.employees:\n",
    "            return 0  # Avoid division by zero\n",
    "        total_salary = sum(emp.salary for emp in self.employees)\n",
    "        return total_salary / len(self.employees)\n",
    "\n",
    "    def get_all_employees(self):\n",
    "        return [emp.get_details() for emp in self.employees]\n",
    "\n",
    "# Updated Functions with Specified Path\n",
    "def save_to_json(employees, filename=JSON_FILE_PATH):\n",
    "    data = [{\"name\": emp.name, \"age\": emp.age, \"gender\": emp.gender,\n",
    "             \"emp_id\": emp.emp_id, \"department\": emp.department, \"salary\": emp.salary}\n",
    "            for emp in employees]\n",
    "    \n",
    "    # Ensure directory exists before saving\n",
    "    os.makedirs(os.path.dirname(filename), exist_ok=True)\n",
    "\n",
    "    with open(filename, \"w\") as f:\n",
    "        json.dump(data, f, indent=4)\n",
    "    print(f\"✅ Data saved to {filename}\")\n",
    "\n",
    "def load_from_json(filename=JSON_FILE_PATH):\n",
    "    try:\n",
    "        with open(filename, \"r\") as f:\n",
    "            data = json.load(f)\n",
    "        employees = [Employee(emp[\"name\"], emp[\"age\"], emp[\"gender\"],\n",
    "                              emp[\"emp_id\"], emp[\"department\"], emp[\"salary\"])\n",
    "                     for emp in data]\n",
    "        print(f\"📂 Data loaded from {filename}\")\n",
    "        return employees\n",
    "    except FileNotFoundError:\n",
    "        print(f\"❌ {filename} not found.\")\n",
    "        return []\n",
    "\n",
    "if __name__ == \"__main__\":\n",
    "    pass\n"
   ]
  },
  {
   "cell_type": "code",
   "execution_count": 85,
   "id": "13d0f591-3d2d-45a4-93a5-2870ebcf3582",
   "metadata": {},
   "outputs": [
    {
     "name": "stdout",
     "output_type": "stream",
     "text": [
      "True\n"
     ]
    }
   ],
   "source": [
    "print(type([]) is list)"
   ]
  },
  {
   "cell_type": "code",
   "execution_count": 86,
   "id": "51943fd8-5d96-43a1-b3fa-41e0d1263571",
   "metadata": {},
   "outputs": [
    {
     "name": "stdout",
     "output_type": "stream",
     "text": [
      "True\n"
     ]
    }
   ],
   "source": [
    "print(5==5.0)"
   ]
  },
  {
   "cell_type": "code",
   "execution_count": 87,
   "id": "422562a9-4387-4800-9c3e-80812d949ab0",
   "metadata": {},
   "outputs": [
    {
     "name": "stdout",
     "output_type": "stream",
     "text": [
      "0\n"
     ]
    }
   ],
   "source": [
    "print(len({}))"
   ]
  },
  {
   "cell_type": "code",
   "execution_count": null,
   "id": "df57a6b0-4b41-4870-b851-e4b1825cf715",
   "metadata": {},
   "outputs": [],
   "source": []
  }
 ],
 "metadata": {
  "kernelspec": {
   "display_name": "Python 3 (ipykernel)",
   "language": "python",
   "name": "python3"
  },
  "language_info": {
   "codemirror_mode": {
    "name": "ipython",
    "version": 3
   },
   "file_extension": ".py",
   "mimetype": "text/x-python",
   "name": "python",
   "nbconvert_exporter": "python",
   "pygments_lexer": "ipython3",
   "version": "3.12.4"
  }
 },
 "nbformat": 4,
 "nbformat_minor": 5
}
