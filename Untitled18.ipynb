{
 "cells": [
  {
   "cell_type": "code",
   "execution_count": 1,
   "id": "b4c821a3-d2c6-4bbf-b88c-2776856a7346",
   "metadata": {},
   "outputs": [
    {
     "name": "stdout",
     "output_type": "stream",
     "text": [
      "Folder compressed successfully to C:\\Users\\292593\\Desktop\\hackaton_18April.zip\n"
     ]
    }
   ],
   "source": [
    "import os\n",
    "import zipfile\n",
    "\n",
    "def zip_folder(folder_path, output_path):\n",
    "    with zipfile.ZipFile(output_path, 'w', zipfile.ZIP_DEFLATED) as zipf:\n",
    "        for root, dirs, files in os.walk(folder_path):\n",
    "            for file in files:\n",
    "                abs_path = os.path.join(root, file)\n",
    "                rel_path = os.path.relpath(abs_path, start=folder_path)\n",
    "                zipf.write(abs_path, rel_path)\n",
    "\n",
    "folder_to_zip = r\"C:\\Users\\292593\\Desktop\\master\\python training\\Hackatons\\Friday_4th\\292593_SanjuJacob_UST\\Hackaton_18_April\\Dajango_webapp\\hackaton_18April\"\n",
    "zip_output = r\"C:\\Users\\292593\\Desktop\\hackaton_18April.zip\"\n",
    "\n",
    "zip_folder(folder_to_zip, zip_output)\n",
    "print(f\"Folder compressed successfully to {zip_output}\")\n"
   ]
  },
  {
   "cell_type": "code",
   "execution_count": null,
   "id": "66dc5a25-f27c-4054-9a12-748233ca770e",
   "metadata": {},
   "outputs": [],
   "source": []
  }
 ],
 "metadata": {
  "kernelspec": {
   "display_name": "Python 3 (ipykernel)",
   "language": "python",
   "name": "python3"
  },
  "language_info": {
   "codemirror_mode": {
    "name": "ipython",
    "version": 3
   },
   "file_extension": ".py",
   "mimetype": "text/x-python",
   "name": "python",
   "nbconvert_exporter": "python",
   "pygments_lexer": "ipython3",
   "version": "3.12.4"
  }
 },
 "nbformat": 4,
 "nbformat_minor": 5
}
