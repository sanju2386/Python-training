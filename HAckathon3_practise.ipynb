{
 "cells": [
  {
   "cell_type": "raw",
   "id": "159c7fc7-5fbb-4677-8520-f9048ab48e32",
   "metadata": {},
   "source": [
    "employees:\n",
    "\n",
    "import random\n",
    "\n",
    "class Employee:\n",
    "    used_ids = set()  # A class-level set to track used IDs\n",
    "\n",
    "    def __init__(self, name, department, designation, gross_salary, tax, bonus):\n",
    "        self.id = self.generate_unique_id()\n",
    "        self.name = name\n",
    "        self.department = department\n",
    "        self.designation = designation\n",
    "        self.gross_salary = gross_salary\n",
    "        self.tax = tax\n",
    "        self.bonus = bonus\n",
    "        self.net_salary = self.calculate_net_salary()\n",
    "\n",
    "    @classmethod\n",
    "    def generate_unique_id(cls):\n",
    "        \"\"\"Generate a unique ID for an employee.\"\"\"\n",
    "        while True:\n",
    "            new_id = random.randint(1000, 9999)\n",
    "            if new_id not in cls.used_ids:\n",
    "                cls.used_ids.add(new_id)\n",
    "                return str(new_id)\n",
    "\n",
    "    def calculate_net_salary(self):\n",
    "        \"\"\"Calculate net salary based on gross salary, tax, and bonus.\"\"\"\n",
    "        return self.gross_salary - self.tax + self.bonus\n",
    "\n",
    "    def __str__(self):\n",
    "        \"\"\"String representation of an employee.\"\"\"\n",
    "        return f\"ID: {self.id}, Name: {self.name}, Department: {self.department}, Designation: {self.designation}, Gross Salary: {self.gross_salary}, Tax: {self.tax}, Bonus: {self.bonus}, Net Salary: {self.net_salary}\"\n",
    "\n",
    "    def to_dict(self):\n",
    "        \"\"\"Convert the Employee object to a dictionary for Pickle storage.\"\"\"\n",
    "        return {\n",
    "            \"id\": self.id,\n",
    "            \"name\": self.name,\n",
    "            \"department\": self.department,\n",
    "            \"designation\": self.designation,\n",
    "            \"gross_salary\": self.gross_salary,\n",
    "            \"tax\": self.tax,\n",
    "            \"bonus\": self.bonus,\n",
    "            \"net_salary\": self.net_salary\n",
    "        }\n",
    "\n",
    "    @classmethod\n",
    "    def from_dict(cls, data):\n",
    "        #\"\"\"Convert a dictionary back to an Employee object.\"\"\"\n",
    "        emp = cls(data['name'], data['department'], data['designation'], data['gross_salary'], data['tax'], data['bonus'])\n",
    "        emp.id = data['id']\n",
    "        emp.net_salary = data['net_salary']\n",
    "        return emp\n"
   ]
  },
  {
   "cell_type": "code",
   "execution_count": 1,
   "id": "9e846995-d4e0-4153-bba4-2fbf673be3ed",
   "metadata": {},
   "outputs": [],
   "source": [
    "import random\n",
    "\n",
    "class Employee:\n",
    "    used_ids = set()  # A class-level set to track used IDs\n",
    "\n",
    "    def __init__(self, name, department, designation, gross_salary, tax, bonus):\n",
    "        self.id = self.generate_unique_id()\n",
    "        self.name = name\n",
    "        self.department = department\n",
    "        self.designation = designation\n",
    "        self.gross_salary = gross_salary\n",
    "        self.tax = tax\n",
    "        self.bonus = bonus\n",
    "        self.net_salary = self.calculate_net_salary()\n",
    "\n",
    "    @classmethod\n",
    "    def generate_unique_id(cls):\n",
    "        \"\"\"Generate a unique ID for an employee.\"\"\"\n",
    "        while True:\n",
    "            new_id = random.randint(1000, 9999)\n",
    "            if new_id not in cls.used_ids:\n",
    "                cls.used_ids.add(new_id)\n",
    "                return str(new_id)\n",
    "\n",
    "    def calculate_net_salary(self):\n",
    "        \"\"\"Calculate net salary based on gross salary, tax, and bonus.\"\"\"\n",
    "        return self.gross_salary - self.tax + self.bonus\n",
    "\n",
    "    def __str__(self):\n",
    "        \"\"\"String representation of an employee.\"\"\"\n",
    "        return f\"ID: {self.id}, Name: {self.name}, Department: {self.department}, Designation: {self.designation}, Gross Salary: {self.gross_salary}, Tax: {self.tax}, Bonus: {self.bonus}, Net Salary: {self.net_salary}\""
   ]
  },
  {
   "cell_type": "code",
   "execution_count": 2,
   "id": "ba7a8db4-420b-4141-83bb-0629b14a49a3",
   "metadata": {},
   "outputs": [],
   "source": [
    "s=Employee(\"Anil\",\"Design\",\"Designer\",45000,200,7000)"
   ]
  },
  {
   "cell_type": "code",
   "execution_count": 3,
   "id": "d16f84eb-14a6-4940-8026-1bad3864faef",
   "metadata": {},
   "outputs": [
    {
     "data": {
      "text/plain": [
       "<__main__.Employee at 0x14655565280>"
      ]
     },
     "execution_count": 3,
     "metadata": {},
     "output_type": "execute_result"
    }
   ],
   "source": [
    "s"
   ]
  },
  {
   "cell_type": "code",
   "execution_count": 4,
   "id": "b3d99194-f416-4829-8a28-768c15e0041b",
   "metadata": {},
   "outputs": [
    {
     "data": {
      "text/plain": [
       "<bound method Employee.__str__ of <__main__.Employee object at 0x0000014655565280>>"
      ]
     },
     "execution_count": 4,
     "metadata": {},
     "output_type": "execute_result"
    }
   ],
   "source": [
    "s.__str__"
   ]
  },
  {
   "cell_type": "code",
   "execution_count": 5,
   "id": "e141020a-9995-4967-a0b1-f74ce2f0e253",
   "metadata": {},
   "outputs": [
    {
     "name": "stdout",
     "output_type": "stream",
     "text": [
      "ID: 9260, Name: Anil, Department: Design, Designation: Designer, Gross Salary: 45000, Tax: 200, Bonus: 7000, Net Salary: 51800\n"
     ]
    }
   ],
   "source": [
    "print(s)"
   ]
  },
  {
   "cell_type": "code",
   "execution_count": 6,
   "id": "4cd9b649-b844-4d34-99d9-86e9488df350",
   "metadata": {},
   "outputs": [],
   "source": [
    "s2=Employee(\"Anil\",\"Design\",\"Designer\",47000,200,7000)"
   ]
  },
  {
   "cell_type": "code",
   "execution_count": 7,
   "id": "2abc933e-f0bf-4519-b128-826f53855bae",
   "metadata": {},
   "outputs": [
    {
     "name": "stdout",
     "output_type": "stream",
     "text": [
      "ID: 2924, Name: Anil, Department: Design, Designation: Designer, Gross Salary: 47000, Tax: 200, Bonus: 7000, Net Salary: 53800\n"
     ]
    }
   ],
   "source": [
    "print(s2)"
   ]
  },
  {
   "cell_type": "code",
   "execution_count": 8,
   "id": "6c97a6b9-36d5-4e9d-bbd1-f63d6a048a7e",
   "metadata": {},
   "outputs": [],
   "source": [
    "import os\n",
    "import pickle"
   ]
  },
  {
   "cell_type": "code",
   "execution_count": 18,
   "id": "d0578091-6a44-4a01-a95a-e0b0ac2dcf76",
   "metadata": {},
   "outputs": [],
   "source": [
    "class EmployeeManager:\n",
    "    def __init__(self):\n",
    "        self.filename = r\"C:\\Users\\292593\\Desktop\\master\\python training\\python_code_submit\\Python-training\\employee_data.pkl\"\n",
    "        self.employees = self.load_data()\n",
    "\n",
    "    def add_employee(self, name, dept, desig, gross, tax, bonus):\n",
    "        emp = Employee(name, dept, desig, gross, tax, bonus)\n",
    "        self.employees.append(emp)\n",
    "        self.save_data()\n",
    "        return emp\n",
    "\n",
    "    def save_data(self):\n",
    "        directory = os.path.dirname(self.filename)\n",
    "        if directory and not os.path.exists(directory):  # Check if directory is not empty\n",
    "            os.makedirs(directory, exist_ok=True)\n",
    "\n",
    "        with open(self.filename, \"wb\") as f:\n",
    "            pickle.dump(self.employees, f)\n",
    "\n",
    "    def load_data(self):\n",
    "        try:\n",
    "            with open(self.filename, \"rb\") as f:\n",
    "                return pickle.load(f)\n",
    "        except (FileNotFoundError, EOFError):\n",
    "            return []\n",
    "        except pickle.UnpicklingError:\n",
    "            print(\"Error unpickling file. Data might be corrupted.\")\n",
    "            return []\n",
    "\n",
    "    def view_employees(self):\n",
    "        return self.employees  # No need to convert\n",
    "\n",
    "    def search_employee_by_id(self, emp_id):\n",
    "        for emp in self.employees:\n",
    "            if emp.id == emp_id:\n",
    "                return emp\n",
    "        return None\n",
    "\n",
    "    def delete_employee(self, emp_id):\n",
    "        original_len = len(self.employees)\n",
    "        self.employees = [emp for emp in self.employees if emp.id != emp_id]\n",
    "        self.save_data()\n",
    "        return len(self.employees) < original_len\n"
   ]
  },
  {
   "cell_type": "code",
   "execution_count": 14,
   "id": "42164370-75d9-4222-8fb0-8f5babcb02f4",
   "metadata": {},
   "outputs": [],
   "source": [
    "import os\n",
    "import pickle\n",
    "\n",
    "class Storage:\n",
    "    def __init__(self):\n",
    "        self.filename = r\"C:\\Users\\292593\\Desktop\\master\\python training\\Hackatons\\Friday_4th\\292593_SanjuJacob_UST\\Hackaton_11_April\\Hackaton3_v2\\storage_data.pkl\"\n",
    "\n",
    "    def save_data(self, data):\n",
    "        directory = os.path.dirname(self.filename)\n",
    "        if not os.path.exists(directory):\n",
    "            os.makedirs(directory, exist_ok=True)\n",
    "\n",
    "        with open(self.filename, \"wb\") as f:\n",
    "            pickle.dump(data, f)\n",
    "\n",
    "    def load_data(self):\n",
    "        try:\n",
    "            with open(self.filename, \"rb\") as f:\n",
    "                return pickle.load(f)\n",
    "        except (FileNotFoundError, EOFError):\n",
    "            return []\n",
    "        except pickle.UnpicklingError:\n",
    "            print(\"Error unpickling file. Data might be corrupted.\")\n",
    "            return []\n"
   ]
  },
  {
   "cell_type": "code",
   "execution_count": 16,
   "id": "3e425abe-cc0e-44d4-ae49-94ff7650102b",
   "metadata": {},
   "outputs": [
    {
     "name": "stdout",
     "output_type": "stream",
     "text": [
      "Employee Management System\n",
      "1. Add Employee\n",
      "2. View All Employees\n",
      "3. Search by ID\n",
      "4. Delete Employee\n",
      "5. Exit\n"
     ]
    },
    {
     "name": "stdin",
     "output_type": "stream",
     "text": [
      "Enter choice:  1\n",
      "Enter name:  Anil\n",
      "Enter department:  Design\n",
      "Enter designation:  Ui_UX Designer\n",
      "Enter gross salary:  87000\n",
      "Enter tax:  5000\n",
      "Enter bonus:  10000\n"
     ]
    },
    {
     "name": "stdout",
     "output_type": "stream",
     "text": [
      "Employee Anil added successfully with ID 3686.\n",
      "Employee Management System\n",
      "1. Add Employee\n",
      "2. View All Employees\n",
      "3. Search by ID\n",
      "4. Delete Employee\n",
      "5. Exit\n"
     ]
    },
    {
     "name": "stdin",
     "output_type": "stream",
     "text": [
      "Enter choice:  2\n"
     ]
    },
    {
     "name": "stdout",
     "output_type": "stream",
     "text": [
      "ID: 3686, Name: Anil, Dept: Design, Designation: Ui_UX Designer, Gross Salary: 87000.0, Tax: 5000.0, Bonus: 10000.0, Net Salary: 92000.0\n",
      "Employee Management System\n",
      "1. Add Employee\n",
      "2. View All Employees\n",
      "3. Search by ID\n",
      "4. Delete Employee\n",
      "5. Exit\n"
     ]
    },
    {
     "name": "stdin",
     "output_type": "stream",
     "text": [
      "Enter choice:  5\n"
     ]
    },
    {
     "name": "stdout",
     "output_type": "stream",
     "text": [
      "Exiting the program.\n"
     ]
    }
   ],
   "source": [
    "\n",
    "\n",
    "def main():\n",
    "    manager = EmployeeManager()\n",
    "\n",
    "    while True:\n",
    "        print(\"Employee Management System\")\n",
    "        print(\"1. Add Employee\")\n",
    "        print(\"2. View All Employees\")\n",
    "        print(\"3. Search by ID\")\n",
    "        print(\"4. Delete Employee\")\n",
    "        print(\"5. Exit\")\n",
    "\n",
    "        choice = int(input(\"Enter choice: \"))\n",
    "\n",
    "        if choice == 1:\n",
    "            name = input(\"Enter name: \")\n",
    "            dept = input(\"Enter department: \")\n",
    "            desig = input(\"Enter designation: \")\n",
    "            gross = float(input(\"Enter gross salary: \"))\n",
    "            tax = float(input(\"Enter tax: \"))\n",
    "            bonus = float(input(\"Enter bonus: \"))\n",
    "            emp = manager.add_employee(name, dept, desig, gross, tax, bonus)\n",
    "            print(f\"Employee {emp.name} added successfully with ID {emp.id}.\")\n",
    "\n",
    "        elif choice == 2:\n",
    "            employees = manager.view_employees()\n",
    "            if employees:\n",
    "                for emp in employees:\n",
    "                    print(f\"ID: {emp.id}, Name: {emp.name}, Dept: {emp.department}, \"\n",
    "                          f\"Designation: {emp.designation}, Gross Salary: {emp.gross_salary}, \"\n",
    "                          f\"Tax: {emp.tax}, Bonus: {emp.bonus}, Net Salary: {emp.net_salary}\")\n",
    "            else:\n",
    "                print(\"No employees found.\")\n",
    "\n",
    "        elif choice == 3:\n",
    "            emp_id = input(\"Enter employee ID to search: \")\n",
    "            employee = manager.search_employee_by_id(emp_id)\n",
    "            if employee:\n",
    "                print(f\"Employee found: {employee}\")\n",
    "            else:\n",
    "                print(\"Employee not found.\")\n",
    "\n",
    "        elif choice == 4:\n",
    "            emp_id = input(\"Enter employee ID to delete: \")\n",
    "            if manager.delete_employee(emp_id):\n",
    "                print(f\"Employee with ID {emp_id} deleted.\")\n",
    "            else:\n",
    "                print(\"Employee not found.\")\n",
    "\n",
    "        elif choice == 5:\n",
    "            print(\"Exiting the program.\")\n",
    "            break\n",
    "\n",
    "        else:\n",
    "            print(\"Invalid choice. Please try again.\")\n",
    "\n",
    "if __name__ == \"__main__\":\n",
    "    main()"
   ]
  },
  {
   "cell_type": "code",
   "execution_count": 17,
   "id": "4ab49116-cbbb-4ae9-a8e9-1ef9e933d40e",
   "metadata": {},
   "outputs": [
    {
     "name": "stdout",
     "output_type": "stream",
     "text": [
      "Employee Management System\n",
      "1. Add Employee\n",
      "2. View All Employees\n",
      "3. Search by ID\n",
      "4. Delete Employee\n",
      "5. Exit\n"
     ]
    },
    {
     "name": "stdin",
     "output_type": "stream",
     "text": [
      "Enter choice:  1\n",
      "Enter name:  Sunil\n",
      "Enter department:  Developer2\n",
      "Enter designation:  Developer\n",
      "Enter gross salary:  50000\n",
      "Enter tax:  2000\n",
      "Enter bonus:  6000\n"
     ]
    },
    {
     "name": "stdout",
     "output_type": "stream",
     "text": [
      "Employee Sunil added successfully with ID 5688.\n",
      "Employee Management System\n",
      "1. Add Employee\n",
      "2. View All Employees\n",
      "3. Search by ID\n",
      "4. Delete Employee\n",
      "5. Exit\n"
     ]
    },
    {
     "name": "stdin",
     "output_type": "stream",
     "text": [
      "Enter choice:  2\n"
     ]
    },
    {
     "name": "stdout",
     "output_type": "stream",
     "text": [
      "ID: 3686, Name: Anil, Dept: Design, Designation: Ui_UX Designer, Gross Salary: 87000.0, Tax: 5000.0, Bonus: 10000.0, Net Salary: 92000.0\n",
      "ID: 5688, Name: Sunil, Dept: Developer2, Designation: Developer, Gross Salary: 50000.0, Tax: 2000.0, Bonus: 6000.0, Net Salary: 54000.0\n",
      "Employee Management System\n",
      "1. Add Employee\n",
      "2. View All Employees\n",
      "3. Search by ID\n",
      "4. Delete Employee\n",
      "5. Exit\n"
     ]
    },
    {
     "name": "stdin",
     "output_type": "stream",
     "text": [
      "Enter choice:  3\n",
      "Enter employee ID to search:  5688\n"
     ]
    },
    {
     "name": "stdout",
     "output_type": "stream",
     "text": [
      "Employee found: ID: 5688, Name: Sunil, Department: Developer2, Designation: Developer, Gross Salary: 50000.0, Tax: 2000.0, Bonus: 6000.0, Net Salary: 54000.0\n",
      "Employee Management System\n",
      "1. Add Employee\n",
      "2. View All Employees\n",
      "3. Search by ID\n",
      "4. Delete Employee\n",
      "5. Exit\n"
     ]
    },
    {
     "name": "stdin",
     "output_type": "stream",
     "text": [
      "Enter choice:  4\n",
      "Enter employee ID to delete:  5688\n"
     ]
    },
    {
     "ename": "TypeError",
     "evalue": "'Employee' object is not subscriptable",
     "output_type": "error",
     "traceback": [
      "\u001b[1;31m---------------------------------------------------------------------------\u001b[0m",
      "\u001b[1;31mTypeError\u001b[0m                                 Traceback (most recent call last)",
      "Cell \u001b[1;32mIn[17], line 1\u001b[0m\n\u001b[1;32m----> 1\u001b[0m main()\n",
      "Cell \u001b[1;32mIn[16], line 44\u001b[0m, in \u001b[0;36mmain\u001b[1;34m()\u001b[0m\n\u001b[0;32m     42\u001b[0m \u001b[38;5;28;01melif\u001b[39;00m choice \u001b[38;5;241m==\u001b[39m \u001b[38;5;241m4\u001b[39m:\n\u001b[0;32m     43\u001b[0m     emp_id \u001b[38;5;241m=\u001b[39m \u001b[38;5;28minput\u001b[39m(\u001b[38;5;124m\"\u001b[39m\u001b[38;5;124mEnter employee ID to delete: \u001b[39m\u001b[38;5;124m\"\u001b[39m)\n\u001b[1;32m---> 44\u001b[0m     \u001b[38;5;28;01mif\u001b[39;00m manager\u001b[38;5;241m.\u001b[39mdelete_employee(emp_id):\n\u001b[0;32m     45\u001b[0m         \u001b[38;5;28mprint\u001b[39m(\u001b[38;5;124mf\u001b[39m\u001b[38;5;124m\"\u001b[39m\u001b[38;5;124mEmployee with ID \u001b[39m\u001b[38;5;132;01m{\u001b[39;00memp_id\u001b[38;5;132;01m}\u001b[39;00m\u001b[38;5;124m deleted.\u001b[39m\u001b[38;5;124m\"\u001b[39m)\n\u001b[0;32m     46\u001b[0m     \u001b[38;5;28;01melse\u001b[39;00m:\n",
      "Cell \u001b[1;32mIn[13], line 41\u001b[0m, in \u001b[0;36mEmployeeManager.delete_employee\u001b[1;34m(self, emp_id)\u001b[0m\n\u001b[0;32m     39\u001b[0m \u001b[38;5;28;01mdef\u001b[39;00m \u001b[38;5;21mdelete_employee\u001b[39m(\u001b[38;5;28mself\u001b[39m, emp_id):\n\u001b[0;32m     40\u001b[0m     original_len \u001b[38;5;241m=\u001b[39m \u001b[38;5;28mlen\u001b[39m(\u001b[38;5;28mself\u001b[39m\u001b[38;5;241m.\u001b[39memployees)\n\u001b[1;32m---> 41\u001b[0m     \u001b[38;5;28mself\u001b[39m\u001b[38;5;241m.\u001b[39memployees \u001b[38;5;241m=\u001b[39m [emp \u001b[38;5;28;01mfor\u001b[39;00m emp \u001b[38;5;129;01min\u001b[39;00m \u001b[38;5;28mself\u001b[39m\u001b[38;5;241m.\u001b[39memployees \u001b[38;5;28;01mif\u001b[39;00m emp[\u001b[38;5;124m\"\u001b[39m\u001b[38;5;124mid\u001b[39m\u001b[38;5;124m\"\u001b[39m] \u001b[38;5;241m!=\u001b[39m emp_id]\n\u001b[0;32m     42\u001b[0m     \u001b[38;5;28mself\u001b[39m\u001b[38;5;241m.\u001b[39msave_data()\n\u001b[0;32m     43\u001b[0m     \u001b[38;5;28;01mreturn\u001b[39;00m \u001b[38;5;28mlen\u001b[39m(\u001b[38;5;28mself\u001b[39m\u001b[38;5;241m.\u001b[39memployees) \u001b[38;5;241m<\u001b[39m original_len\n",
      "\u001b[1;31mTypeError\u001b[0m: 'Employee' object is not subscriptable"
     ]
    }
   ],
   "source": [
    "main()"
   ]
  },
  {
   "cell_type": "code",
   "execution_count": 19,
   "id": "5eb5d2c6-c747-40c6-8824-52559dda3322",
   "metadata": {},
   "outputs": [
    {
     "name": "stdout",
     "output_type": "stream",
     "text": [
      "Employee Management System\n",
      "1. Add Employee\n",
      "2. View All Employees\n",
      "3. Search by ID\n",
      "4. Delete Employee\n",
      "5. Exit\n"
     ]
    },
    {
     "name": "stdin",
     "output_type": "stream",
     "text": [
      "Enter choice:  2\n"
     ]
    },
    {
     "name": "stdout",
     "output_type": "stream",
     "text": [
      "ID: 3686, Name: Anil, Dept: Design, Designation: Ui_UX Designer, Gross Salary: 87000.0, Tax: 5000.0, Bonus: 10000.0, Net Salary: 92000.0\n",
      "ID: 5688, Name: Sunil, Dept: Developer2, Designation: Developer, Gross Salary: 50000.0, Tax: 2000.0, Bonus: 6000.0, Net Salary: 54000.0\n",
      "Employee Management System\n",
      "1. Add Employee\n",
      "2. View All Employees\n",
      "3. Search by ID\n",
      "4. Delete Employee\n",
      "5. Exit\n"
     ]
    },
    {
     "name": "stdin",
     "output_type": "stream",
     "text": [
      "Enter choice:  4\n",
      "Enter employee ID to delete:  5688\n"
     ]
    },
    {
     "name": "stdout",
     "output_type": "stream",
     "text": [
      "Employee with ID 5688 deleted.\n",
      "Employee Management System\n",
      "1. Add Employee\n",
      "2. View All Employees\n",
      "3. Search by ID\n",
      "4. Delete Employee\n",
      "5. Exit\n"
     ]
    },
    {
     "name": "stdin",
     "output_type": "stream",
     "text": [
      "Enter choice:  2\n"
     ]
    },
    {
     "name": "stdout",
     "output_type": "stream",
     "text": [
      "ID: 3686, Name: Anil, Dept: Design, Designation: Ui_UX Designer, Gross Salary: 87000.0, Tax: 5000.0, Bonus: 10000.0, Net Salary: 92000.0\n",
      "Employee Management System\n",
      "1. Add Employee\n",
      "2. View All Employees\n",
      "3. Search by ID\n",
      "4. Delete Employee\n",
      "5. Exit\n"
     ]
    },
    {
     "name": "stdin",
     "output_type": "stream",
     "text": [
      "Enter choice:  5\n"
     ]
    },
    {
     "name": "stdout",
     "output_type": "stream",
     "text": [
      "Exiting the program.\n"
     ]
    }
   ],
   "source": [
    "main()"
   ]
  },
  {
   "cell_type": "code",
   "execution_count": 20,
   "id": "65e7146e-87d3-4aca-86ad-ed0736da4e36",
   "metadata": {},
   "outputs": [
    {
     "name": "stdout",
     "output_type": "stream",
     "text": [
      "Employee Management System\n",
      "1. Add Employee\n",
      "2. View All Employees\n",
      "3. Search by ID\n",
      "4. Delete Employee\n",
      "5. Exit\n"
     ]
    },
    {
     "name": "stdin",
     "output_type": "stream",
     "text": [
      "Enter choice:  1\n",
      "Enter name:  Sunil\n",
      "Enter department:  Semicon\n",
      "Enter designation:  DeveloperII\n",
      "Enter gross salary:  70000\n",
      "Enter tax:  2000\n",
      "Enter bonus:  5000\n"
     ]
    },
    {
     "name": "stdout",
     "output_type": "stream",
     "text": [
      "Employee Sunil added successfully with ID 8856.\n",
      "Employee Management System\n",
      "1. Add Employee\n",
      "2. View All Employees\n",
      "3. Search by ID\n",
      "4. Delete Employee\n",
      "5. Exit\n"
     ]
    },
    {
     "name": "stdin",
     "output_type": "stream",
     "text": [
      "Enter choice:  2\n"
     ]
    },
    {
     "name": "stdout",
     "output_type": "stream",
     "text": [
      "ID: 3686, Name: Anil, Dept: Design, Designation: Ui_UX Designer, Gross Salary: 87000.0, Tax: 5000.0, Bonus: 10000.0, Net Salary: 92000.0\n",
      "ID: 8856, Name: Sunil, Dept: Semicon, Designation: DeveloperII, Gross Salary: 70000.0, Tax: 2000.0, Bonus: 5000.0, Net Salary: 73000.0\n",
      "Employee Management System\n",
      "1. Add Employee\n",
      "2. View All Employees\n",
      "3. Search by ID\n",
      "4. Delete Employee\n",
      "5. Exit\n"
     ]
    },
    {
     "name": "stdin",
     "output_type": "stream",
     "text": [
      "Enter choice:  5\n"
     ]
    },
    {
     "name": "stdout",
     "output_type": "stream",
     "text": [
      "Exiting the program.\n"
     ]
    }
   ],
   "source": [
    "main()"
   ]
  },
  {
   "cell_type": "markdown",
   "id": "e51ea709-1a08-4356-8510-fc1c9b4551c9",
   "metadata": {},
   "source": [
    "# Testing part"
   ]
  },
  {
   "cell_type": "code",
   "execution_count": 21,
   "id": "ce00ba1b-a6c8-41da-a1fe-308aeed8fcaf",
   "metadata": {},
   "outputs": [],
   "source": [
    "import unittest\n",
    "\n",
    "class TestEmployeeManager(unittest.TestCase):\n",
    "\n",
    "    def setUp(self):\n",
    "        self.manager = EmployeeManager()\n",
    "        self.manager.employees = []  # Clear existing employee list\n",
    "\n",
    "    def test_add_employee(self):\n",
    "        emp = self.manager.add_employee(\"Alice\", \"Engineering\", \"Developer\", 50000, 5000, 2000)\n",
    "        self.assertEqual(emp.name, \"Alice\")\n",
    "        self.assertEqual(emp.net_salary, 50000 - 5000 + 2000)\n",
    "        self.assertIn(emp, self.manager.employees)\n",
    "\n",
    "    def test_delete_employee(self):\n",
    "        emp = self.manager.add_employee(\"Bob\", \"Design\", \"UI/UX\", 60000, 4000, 3000)\n",
    "        deleted = self.manager.delete_employee(emp.id)\n",
    "        self.assertTrue(deleted)\n",
    "        self.assertNotIn(emp, self.manager.employees)\n",
    "\n",
    "    def test_search_employee_by_id(self):\n",
    "        emp = self.manager.add_employee(\"Charlie\", \"QA\", \"Tester\", 55000, 3500, 1500)\n",
    "        found = self.manager.search_employee_by_id(emp.id)\n",
    "        self.assertIsNotNone(found)\n",
    "        self.assertEqual(found.id, emp.id)\n",
    "\n",
    "    def test_unique_id(self):\n",
    "        ids = set()\n",
    "        for _ in range(10):\n",
    "            emp = self.manager.add_employee(\"Test\", \"Dev\", \"Dev\", 50000, 1000, 1000)\n",
    "            self.assertNotIn(emp.id, ids)\n",
    "            ids.add(emp.id)\n"
   ]
  },
  {
   "cell_type": "code",
   "execution_count": 22,
   "id": "6dcdf430-2cee-42a7-97f7-5cda9105a63b",
   "metadata": {},
   "outputs": [
    {
     "name": "stderr",
     "output_type": "stream",
     "text": [
      "test_add_employee (__main__.TestEmployeeManager.test_add_employee) ... ok\n",
      "test_delete_employee (__main__.TestEmployeeManager.test_delete_employee) ... ok\n",
      "test_search_employee_by_id (__main__.TestEmployeeManager.test_search_employee_by_id) ... ok\n",
      "test_unique_id (__main__.TestEmployeeManager.test_unique_id) ... ok\n",
      "\n",
      "----------------------------------------------------------------------\n",
      "Ran 4 tests in 0.101s\n",
      "\n",
      "OK\n"
     ]
    },
    {
     "data": {
      "text/plain": [
       "<unittest.main.TestProgram at 0x14655873d10>"
      ]
     },
     "execution_count": 22,
     "metadata": {},
     "output_type": "execute_result"
    }
   ],
   "source": [
    "unittest.main(argv=[''], verbosity=2, exit=False)\n"
   ]
  },
  {
   "cell_type": "code",
   "execution_count": 23,
   "id": "df3e15f6-81c2-46b7-bd23-21171b96a757",
   "metadata": {},
   "outputs": [
    {
     "name": "stderr",
     "output_type": "stream",
     "text": [
      "test_add_employee (__main__.TestEmployeeManager.test_add_employee) ... ERROR\n",
      "test_delete_existing_employee (__main__.TestEmployeeManager.test_delete_existing_employee) ... ERROR\n",
      "test_delete_nonexistent_employee (__main__.TestEmployeeManager.test_delete_nonexistent_employee) ... ERROR\n",
      "\n",
      "======================================================================\n",
      "ERROR: test_add_employee (__main__.TestEmployeeManager.test_add_employee)\n",
      "----------------------------------------------------------------------\n",
      "Traceback (most recent call last):\n",
      "  File \"C:\\Users\\292593\\AppData\\Local\\Temp\\ipykernel_41308\\3425353438.py\", line 9, in setUp\n",
      "    self.manager = EmployeeManager(storage=self.mock_storage)\n",
      "                   ^^^^^^^^^^^^^^^^^^^^^^^^^^^^^^^^^^^^^^^^^^\n",
      "TypeError: EmployeeManager.__init__() got an unexpected keyword argument 'storage'\n",
      "\n",
      "======================================================================\n",
      "ERROR: test_delete_existing_employee (__main__.TestEmployeeManager.test_delete_existing_employee)\n",
      "----------------------------------------------------------------------\n",
      "Traceback (most recent call last):\n",
      "  File \"C:\\Users\\292593\\AppData\\Local\\Temp\\ipykernel_41308\\3425353438.py\", line 9, in setUp\n",
      "    self.manager = EmployeeManager(storage=self.mock_storage)\n",
      "                   ^^^^^^^^^^^^^^^^^^^^^^^^^^^^^^^^^^^^^^^^^^\n",
      "TypeError: EmployeeManager.__init__() got an unexpected keyword argument 'storage'\n",
      "\n",
      "======================================================================\n",
      "ERROR: test_delete_nonexistent_employee (__main__.TestEmployeeManager.test_delete_nonexistent_employee)\n",
      "----------------------------------------------------------------------\n",
      "Traceback (most recent call last):\n",
      "  File \"C:\\Users\\292593\\AppData\\Local\\Temp\\ipykernel_41308\\3425353438.py\", line 9, in setUp\n",
      "    self.manager = EmployeeManager(storage=self.mock_storage)\n",
      "                   ^^^^^^^^^^^^^^^^^^^^^^^^^^^^^^^^^^^^^^^^^^\n",
      "TypeError: EmployeeManager.__init__() got an unexpected keyword argument 'storage'\n",
      "\n",
      "----------------------------------------------------------------------\n",
      "Ran 3 tests in 0.015s\n",
      "\n",
      "FAILED (errors=3)\n"
     ]
    },
    {
     "data": {
      "text/plain": [
       "<unittest.main.TestProgram at 0x1465585f5c0>"
      ]
     },
     "execution_count": 23,
     "metadata": {},
     "output_type": "execute_result"
    }
   ],
   "source": [
    "import unittest\n",
    "from unittest.mock import MagicMock\n",
    "\n",
    "class TestEmployeeManager(unittest.TestCase):\n",
    "    def setUp(self):\n",
    "        # Mock storage to avoid real file I/O\n",
    "        self.mock_storage = MagicMock()\n",
    "        self.mock_storage.load.return_value = []\n",
    "        self.manager = EmployeeManager(storage=self.mock_storage)\n",
    "\n",
    "    def test_add_employee(self):\n",
    "        emp = self.manager.add_employee(\"Sunil\", \"Dev\", \"Engineer\", 50000, 2000, 3000)\n",
    "        self.assertEqual(emp.name, \"Sunil\")\n",
    "        self.assertEqual(emp.department, \"Dev\")\n",
    "        self.assertEqual(emp.net_salary, 51000.0)\n",
    "        self.assertIn(emp, self.manager.employees)\n",
    "        self.mock_storage.save.assert_called_once()\n",
    "\n",
    "    def test_delete_existing_employee(self):\n",
    "        emp = self.manager.add_employee(\"Anil\", \"Design\", \"Designer\", 60000, 3000, 4000)\n",
    "        result = self.manager.delete_employee(emp.id)\n",
    "        self.assertTrue(result)\n",
    "        self.assertNotIn(emp, self.manager.employees)\n",
    "\n",
    "    def test_delete_nonexistent_employee(self):\n",
    "        result = self.manager.delete_employee(\"9999\")\n",
    "        self.assertFalse(result)\n",
    "\n",
    "# Run tests\n",
    "unittest.main(argv=[''], exit=False, verbosity=2)\n"
   ]
  },
  {
   "cell_type": "markdown",
   "id": "c203d73b-e95b-4191-9eaf-baf6d62045ca",
   "metadata": {},
   "source": [
    "# fixing EmployeeManager class for acceting stoarage"
   ]
  },
  {
   "cell_type": "code",
   "execution_count": 24,
   "id": "d7d544bb-b2db-4934-b765-0dd6082d793c",
   "metadata": {},
   "outputs": [],
   "source": [
    "class EmployeeManager:\n",
    "    def __init__(self, storage=None):\n",
    "        self.filename = r\"C:\\Users\\292593\\Desktop\\master\\python training\\python_code_submit\\Python-training\\employee_data.pkl\"\n",
    "        self.storage = storage or Storage()  # Use provided storage or default to the Storage class\n",
    "        self.employees = self.storage.load_data()  # Use the storage object for loading data\n",
    "\n",
    "    def add_employee(self, name, dept, desig, gross, tax, bonus):\n",
    "        emp = Employee(name, dept, desig, gross, tax, bonus)\n",
    "        self.employees.append(emp)\n",
    "        self.save_data()\n",
    "        return emp\n",
    "\n",
    "    def save_data(self):\n",
    "        self.storage.save_data(self.employees)\n",
    "\n",
    "    def load_data(self):\n",
    "        return self.employees  # Use the data loaded from storage\n",
    "\n",
    "    def view_employees(self):\n",
    "        return self.employees\n",
    "\n",
    "    def search_employee_by_id(self, emp_id):\n",
    "        for emp in self.employees:\n",
    "            if emp.id == emp_id:\n",
    "                return emp\n",
    "        return None\n",
    "\n",
    "    def delete_employee(self, emp_id):\n",
    "        original_len = len(self.employees)\n",
    "        self.employees = [emp for emp in self.employees if emp.id != emp_id]\n",
    "        self.save_data()\n",
    "        return len(self.employees) < original_len\n"
   ]
  },
  {
   "cell_type": "code",
   "execution_count": 25,
   "id": "a7a48083-a8fa-4e54-8481-94a3fe931170",
   "metadata": {},
   "outputs": [
    {
     "name": "stderr",
     "output_type": "stream",
     "text": [
      "test_add_employee (__main__.TestEmployeeManager.test_add_employee) ... FAIL\n",
      "test_delete_existing_employee (__main__.TestEmployeeManager.test_delete_existing_employee) ... FAIL\n",
      "test_delete_nonexistent_employee (__main__.TestEmployeeManager.test_delete_nonexistent_employee) ... ok\n",
      "\n",
      "======================================================================\n",
      "FAIL: test_add_employee (__main__.TestEmployeeManager.test_add_employee)\n",
      "----------------------------------------------------------------------\n",
      "Traceback (most recent call last):\n",
      "  File \"C:\\Users\\292593\\AppData\\Local\\Temp\\ipykernel_41308\\4151931781.py\", line 16, in test_add_employee\n",
      "    self.assertIn(emp, self.manager.employees)\n",
      "AssertionError: <__main__.Employee object at 0x000001465586F530> not found in <MagicMock name='mock.load_data()' id='1401591069824'>\n",
      "\n",
      "======================================================================\n",
      "FAIL: test_delete_existing_employee (__main__.TestEmployeeManager.test_delete_existing_employee)\n",
      "----------------------------------------------------------------------\n",
      "Traceback (most recent call last):\n",
      "  File \"C:\\Users\\292593\\AppData\\Local\\Temp\\ipykernel_41308\\4151931781.py\", line 22, in test_delete_existing_employee\n",
      "    self.assertTrue(result)\n",
      "AssertionError: False is not true\n",
      "\n",
      "----------------------------------------------------------------------\n",
      "Ran 3 tests in 0.014s\n",
      "\n",
      "FAILED (failures=2)\n"
     ]
    },
    {
     "data": {
      "text/plain": [
       "<unittest.main.TestProgram at 0x14655868770>"
      ]
     },
     "execution_count": 25,
     "metadata": {},
     "output_type": "execute_result"
    }
   ],
   "source": [
    "import unittest\n",
    "from unittest.mock import MagicMock\n",
    "\n",
    "class TestEmployeeManager(unittest.TestCase):\n",
    "    def setUp(self):\n",
    "        # Mock storage to avoid real file I/O\n",
    "        self.mock_storage = MagicMock()\n",
    "        self.mock_storage.load.return_value = []\n",
    "        self.manager = EmployeeManager(storage=self.mock_storage)\n",
    "\n",
    "    def test_add_employee(self):\n",
    "        emp = self.manager.add_employee(\"Sunil\", \"Dev\", \"Engineer\", 50000, 2000, 3000)\n",
    "        self.assertEqual(emp.name, \"Sunil\")\n",
    "        self.assertEqual(emp.department, \"Dev\")\n",
    "        self.assertEqual(emp.net_salary, 51000.0)\n",
    "        self.assertIn(emp, self.manager.employees)\n",
    "        self.mock_storage.save.assert_called_once()\n",
    "\n",
    "    def test_delete_existing_employee(self):\n",
    "        emp = self.manager.add_employee(\"Anil\", \"Design\", \"Designer\", 60000, 3000, 4000)\n",
    "        result = self.manager.delete_employee(emp.id)\n",
    "        self.assertTrue(result)\n",
    "        self.assertNotIn(emp, self.manager.employees)\n",
    "\n",
    "    def test_delete_nonexistent_employee(self):\n",
    "        result = self.manager.delete_employee(\"9999\")\n",
    "        self.assertFalse(result)\n",
    "\n",
    "# Run tests\n",
    "unittest.main(argv=[''], exit=False, verbosity=2)"
   ]
  },
  {
   "cell_type": "code",
   "execution_count": 31,
   "id": "385c6d2a-b205-4e7e-a962-7f622596db9d",
   "metadata": {},
   "outputs": [
    {
     "name": "stderr",
     "output_type": "stream",
     "text": [
      "test_add_employee (__main__.TestEmployeeManager.test_add_employee) ... ok\n",
      "test_delete_existing_employee (__main__.TestEmployeeManager.test_delete_existing_employee) ... ok\n",
      "test_delete_nonexistent_employee (__main__.TestEmployeeManager.test_delete_nonexistent_employee) ... ok\n",
      "\n",
      "----------------------------------------------------------------------\n",
      "Ran 3 tests in 0.011s\n",
      "\n",
      "OK\n"
     ]
    }
   ],
   "source": [
    "import unittest\n",
    "from unittest.mock import MagicMock\n",
    "  # Replace `your_module` with actual module name\n",
    "\n",
    "class TestEmployeeManager(unittest.TestCase):\n",
    "    def setUp(self):\n",
    "        # Set up mock storage to avoid real file I/O\n",
    "        self.mock_storage = MagicMock()\n",
    "        self.mock_storage.load_data.return_value = []  # Initial empty employee list\n",
    "        self.mock_storage.save_data = MagicMock()      # Mock save_data method\n",
    "        self.manager = EmployeeManager(storage=self.mock_storage)\n",
    "\n",
    "    def test_add_employee(self):\n",
    "        emp = self.manager.add_employee(\"Sunil\", \"Dev\", \"Engineer\", 50000, 2000, 3000)\n",
    "\n",
    "        self.assertEqual(emp.name, \"Sunil\")\n",
    "        self.assertEqual(emp.department, \"Dev\")\n",
    "        self.assertEqual(emp.net_salary, 51000.0)\n",
    "        self.assertIn(emp, self.manager.employees)\n",
    "\n",
    "        # Check if save_data was called with the updated list\n",
    "        self.mock_storage.save_data.assert_called_once_with(self.manager.employees)\n",
    "\n",
    "    def test_delete_existing_employee(self):\n",
    "        # First add an employee\n",
    "        emp = self.manager.add_employee(\"Anil\", \"Design\", \"Designer\", 60000, 3000, 4000)\n",
    "        self.mock_storage.save_data.reset_mock()  # Reset call count after add\n",
    "\n",
    "        result = self.manager.delete_employee(emp.id)\n",
    "        self.assertTrue(result)\n",
    "        self.assertNotIn(emp, self.manager.employees)\n",
    "\n",
    "        # Ensure save_data was called again\n",
    "        self.mock_storage.save_data.assert_called_once_with(self.manager.employees)\n",
    "\n",
    "    def test_delete_nonexistent_employee(self):\n",
    "        result = self.manager.delete_employee(\"9999\")  # ID that doesn't exist\n",
    "        self.assertFalse(result)\n",
    "\n",
    "        # Should still call save_data with unchanged list\n",
    "        self.mock_storage.save_data.assert_called_once_with(self.manager.employees)\n",
    "\n",
    "if __name__ == \"__main__\":\n",
    "    unittest.main(argv=['first-arg-is-ignored'], exit=False, verbosity=2)\n"
   ]
  },
  {
   "cell_type": "code",
   "execution_count": 28,
   "id": "a3d2de0d-8d75-4115-9927-7844b7d7cf19",
   "metadata": {},
   "outputs": [
    {
     "data": {
      "text/plain": [
       "unittest.case.TestCase"
      ]
     },
     "execution_count": 28,
     "metadata": {},
     "output_type": "execute_result"
    }
   ],
   "source": []
  },
  {
   "cell_type": "code",
   "execution_count": 32,
   "id": "ee1363a1-eddf-4acc-b42a-4e71b782ae25",
   "metadata": {},
   "outputs": [
    {
     "name": "stderr",
     "output_type": "stream",
     "text": [
      "test_add_employee (__main__.TestEmployeeManager.test_add_employee) ... ok\n",
      "test_delete_existing_employee (__main__.TestEmployeeManager.test_delete_existing_employee) ... ok\n",
      "test_delete_nonexistent_employee (__main__.TestEmployeeManager.test_delete_nonexistent_employee) ... ok\n",
      "test_load_data_file_not_exists (__main__.TestStorage.test_load_data_file_not_exists) ... ERROR\n",
      "test_load_data_returns_empty_list (__main__.TestStorage.test_load_data_returns_empty_list) ... ERROR\n",
      "test_save_data_writes_json (__main__.TestStorage.test_save_data_writes_json) ... ERROR\n",
      "\n",
      "======================================================================\n",
      "ERROR: test_load_data_file_not_exists (__main__.TestStorage.test_load_data_file_not_exists)\n",
      "----------------------------------------------------------------------\n",
      "Traceback (most recent call last):\n",
      "  File \"C:\\Users\\292593\\AppData\\Local\\Temp\\ipykernel_41308\\1299533099.py\", line 10, in setUp\n",
      "    self.storage = Storage(filename=self.test_filename)\n",
      "                   ^^^^^^^^^^^^^^^^^^^^^^^^^^^^^^^^^^^^\n",
      "TypeError: Storage.__init__() got an unexpected keyword argument 'filename'\n",
      "\n",
      "======================================================================\n",
      "ERROR: test_load_data_returns_empty_list (__main__.TestStorage.test_load_data_returns_empty_list)\n",
      "----------------------------------------------------------------------\n",
      "Traceback (most recent call last):\n",
      "  File \"C:\\Users\\292593\\AppData\\Local\\Temp\\ipykernel_41308\\1299533099.py\", line 10, in setUp\n",
      "    self.storage = Storage(filename=self.test_filename)\n",
      "                   ^^^^^^^^^^^^^^^^^^^^^^^^^^^^^^^^^^^^\n",
      "TypeError: Storage.__init__() got an unexpected keyword argument 'filename'\n",
      "\n",
      "======================================================================\n",
      "ERROR: test_save_data_writes_json (__main__.TestStorage.test_save_data_writes_json)\n",
      "----------------------------------------------------------------------\n",
      "Traceback (most recent call last):\n",
      "  File \"C:\\Users\\292593\\AppData\\Local\\Temp\\ipykernel_41308\\1299533099.py\", line 10, in setUp\n",
      "    self.storage = Storage(filename=self.test_filename)\n",
      "                   ^^^^^^^^^^^^^^^^^^^^^^^^^^^^^^^^^^^^\n",
      "TypeError: Storage.__init__() got an unexpected keyword argument 'filename'\n",
      "\n",
      "----------------------------------------------------------------------\n",
      "Ran 6 tests in 0.016s\n",
      "\n",
      "FAILED (errors=3)\n"
     ]
    }
   ],
   "source": [
    "import unittest\n",
    "from unittest.mock import mock_open, patch\n",
    "import json\n",
    "# from your_module_name import Storage  # Replace with actual module name\n",
    "\n",
    "class TestStorage(unittest.TestCase):\n",
    "\n",
    "    def setUp(self):\n",
    "        self.test_filename = \"test_employees.json\"\n",
    "        self.storage = Storage(filename=self.test_filename)\n",
    "\n",
    "    @patch(\"builtins.open\", new_callable=mock_open, read_data='[]')\n",
    "    @patch(\"os.path.exists\", return_value=True)\n",
    "    def test_load_data_returns_empty_list(self, mock_exists, mock_file):\n",
    "        data = self.storage.load_data()\n",
    "        self.assertEqual(data, [])\n",
    "        mock_file.assert_called_once_with(self.test_filename, 'r')\n",
    "\n",
    "    @patch(\"builtins.open\", new_callable=mock_open)\n",
    "    def test_save_data_writes_json(self, mock_file):\n",
    "        sample_data = [{\"name\": \"Sunil\", \"department\": \"Dev\"}]\n",
    "        self.storage.save_data(sample_data)\n",
    "\n",
    "        mock_file.assert_called_once_with(self.test_filename, 'w')\n",
    "\n",
    "        # Check if json.dump was called with correct data\n",
    "        handle = mock_file()\n",
    "        written_data = ''.join(call.args[0] for call in handle.write.call_args_list)\n",
    "        self.assertEqual(json.loads(written_data), sample_data)\n",
    "\n",
    "    @patch(\"os.path.exists\", return_value=False)\n",
    "    def test_load_data_file_not_exists(self, mock_exists):\n",
    "        data = self.storage.load_data()\n",
    "        self.assertEqual(data, [])\n",
    "\n",
    "if __name__ == \"__main__\":\n",
    "    unittest.main(argv=['first-arg-is-ignored'], exit=False, verbosity=2)\n"
   ]
  },
  {
   "cell_type": "code",
   "execution_count": 35,
   "id": "5b2f2404-ea38-47ca-b009-b2abbcecbab2",
   "metadata": {},
   "outputs": [
    {
     "name": "stderr",
     "output_type": "stream",
     "text": [
      "test_add_employee (__main__.TestEmployeeManager.test_add_employee) ... ok\n",
      "test_delete_existing_employee (__main__.TestEmployeeManager.test_delete_existing_employee) ... ok\n",
      "test_delete_nonexistent_employee (__main__.TestEmployeeManager.test_delete_nonexistent_employee) ... ok\n",
      "test_load_data_file_not_exists (__main__.TestStorage.test_load_data_file_not_exists) ... FAIL\n",
      "test_load_data_returns_empty_list (__main__.TestStorage.test_load_data_returns_empty_list) ... FAIL\n",
      "test_save_data_writes_pickle (__main__.TestStorage.test_save_data_writes_pickle) ... FAIL\n",
      "\n",
      "======================================================================\n",
      "FAIL: test_load_data_file_not_exists (__main__.TestStorage.test_load_data_file_not_exists)\n",
      "----------------------------------------------------------------------\n",
      "Traceback (most recent call last):\n",
      "  File \"C:\\ProgramData\\anaconda3\\Lib\\unittest\\mock.py\", line 1390, in patched\n",
      "    return func(*newargs, **newkeywargs)\n",
      "           ^^^^^^^^^^^^^^^^^^^^^^^^^^^^^\n",
      "  File \"C:\\Users\\292593\\AppData\\Local\\Temp\\ipykernel_41308\\4131159094.py\", line 35, in test_load_data_file_not_exists\n",
      "    self.assertEqual(data, [])\n",
      "AssertionError: Lists differ: [{'name': 'Sunil', 'department': 'Dev'}] != []\n",
      "\n",
      "First list contains 1 additional elements.\n",
      "First extra element 0:\n",
      "{'name': 'Sunil', 'department': 'Dev'}\n",
      "\n",
      "- [{'department': 'Dev', 'name': 'Sunil'}]\n",
      "+ []\n",
      "\n",
      "======================================================================\n",
      "FAIL: test_load_data_returns_empty_list (__main__.TestStorage.test_load_data_returns_empty_list)\n",
      "----------------------------------------------------------------------\n",
      "Traceback (most recent call last):\n",
      "  File \"C:\\ProgramData\\anaconda3\\Lib\\unittest\\mock.py\", line 1390, in patched\n",
      "    return func(*newargs, **newkeywargs)\n",
      "           ^^^^^^^^^^^^^^^^^^^^^^^^^^^^^\n",
      "  File \"C:\\Users\\292593\\AppData\\Local\\Temp\\ipykernel_41308\\4131159094.py\", line 16, in test_load_data_returns_empty_list\n",
      "    self.assertEqual(data, [])\n",
      "AssertionError: Lists differ: [{'name': 'Sunil', 'department': 'Dev'}] != []\n",
      "\n",
      "First list contains 1 additional elements.\n",
      "First extra element 0:\n",
      "{'name': 'Sunil', 'department': 'Dev'}\n",
      "\n",
      "- [{'department': 'Dev', 'name': 'Sunil'}]\n",
      "+ []\n",
      "\n",
      "======================================================================\n",
      "FAIL: test_save_data_writes_pickle (__main__.TestStorage.test_save_data_writes_pickle)\n",
      "----------------------------------------------------------------------\n",
      "Traceback (most recent call last):\n",
      "  File \"C:\\ProgramData\\anaconda3\\Lib\\unittest\\mock.py\", line 1390, in patched\n",
      "    return func(*newargs, **newkeywargs)\n",
      "           ^^^^^^^^^^^^^^^^^^^^^^^^^^^^^\n",
      "  File \"C:\\Users\\292593\\AppData\\Local\\Temp\\ipykernel_41308\\4131159094.py\", line 25, in test_save_data_writes_pickle\n",
      "    mock_file.assert_called_once_with(self.storage.filename, 'wb')\n",
      "  File \"C:\\ProgramData\\anaconda3\\Lib\\unittest\\mock.py\", line 955, in assert_called_once_with\n",
      "    raise AssertionError(msg)\n",
      "AssertionError: Expected 'open' to be called once. Called 0 times.\n",
      "\n",
      "----------------------------------------------------------------------\n",
      "Ran 6 tests in 0.030s\n",
      "\n",
      "FAILED (failures=3)\n"
     ]
    }
   ],
   "source": [
    "import unittest\n",
    "from unittest.mock import mock_open, patch\n",
    "import pickle\n",
    "import os\n",
    "#from your_module_name import Storage  # Replace with actual module name\n",
    "\n",
    "class TestStorage(unittest.TestCase):\n",
    "\n",
    "    def setUp(self):\n",
    "        self.storage = Storage()\n",
    "\n",
    "    @patch(\"builtins.open\", new_callable=mock_open, read_data=pickle.dumps([]))  # Mock loading empty list with pickle\n",
    "    @patch(\"os.path.exists\", return_value=True)\n",
    "    def test_load_data_returns_empty_list(self, mock_exists, mock_file):\n",
    "        data = self.storage.load_data()\n",
    "        self.assertEqual(data, [])\n",
    "        mock_file.assert_called_once_with(self.storage.filename, 'rb')  # Verifying file is opened with correct filename\n",
    "\n",
    "    @patch(\"builtins.open\", new_callable=mock_open)  # Mock the file opening and writing\n",
    "    def test_save_data_writes_pickle(self, mock_file):\n",
    "        sample_data = [{\"name\": \"Sunil\", \"department\": \"Dev\"}]\n",
    "        self.storage.save_data(sample_data)\n",
    "\n",
    "        # Verifying that file was opened with correct filename and write mode\n",
    "        mock_file.assert_called_once_with(self.storage.filename, 'wb')\n",
    "\n",
    "        # Verifying that data was written correctly using pickle\n",
    "        handle = mock_file()\n",
    "        written_data = handle.write.call_args[0][0]\n",
    "        self.assertEqual(pickle.loads(written_data), sample_data)  # Verifying that written data is correctly pickled\n",
    "\n",
    "    @patch(\"os.path.exists\", return_value=False)\n",
    "    def test_load_data_file_not_exists(self, mock_exists):\n",
    "        data = self.storage.load_data()\n",
    "        self.assertEqual(data, [])\n",
    "\n",
    "if __name__ == \"__main__\":\n",
    "    unittest.main(argv=['first-arg-is-ignored'], exit=False, verbosity=2)\n",
    "\n"
   ]
  },
  {
   "cell_type": "code",
   "execution_count": 42,
   "id": "6b3061a3-d705-4980-a535-f4076f1f0b88",
   "metadata": {},
   "outputs": [
    {
     "name": "stderr",
     "output_type": "stream",
     "text": [
      "test_add_employee (__main__.TestEmployeeManager.test_add_employee) ... ok\n",
      "test_delete_existing_employee (__main__.TestEmployeeManager.test_delete_existing_employee) ... ok\n",
      "test_delete_nonexistent_employee (__main__.TestEmployeeManager.test_delete_nonexistent_employee) ... ok\n",
      "test_save_and_load_data (__main__.TestStorage.test_save_and_load_data) ... ok\n",
      "\n",
      "----------------------------------------------------------------------\n",
      "Ran 4 tests in 0.016s\n",
      "\n",
      "OK\n"
     ]
    }
   ],
   "source": [
    "import unittest\n",
    "#from storage import Storage\n",
    "\n",
    "class TestStorage(unittest.TestCase):\n",
    "    \n",
    "    def setUp(self):\n",
    "        self.storage = Storage()\n",
    "\n",
    "    def test_save_and_load_data(self):\n",
    "        data = {\"key\": \"value\"}\n",
    "        self.storage.save_data(data)\n",
    "        loaded_data = self.storage.load_data()\n",
    "        self.assertEqual(data, loaded_data)\n",
    "\n",
    "if __name__ == \"__main__\":\n",
    "    unittest.main(argv=['first-arg-is-ignored'], exit=False, verbosity=2)\n"
   ]
  },
  {
   "cell_type": "code",
   "execution_count": 43,
   "id": "d5e826ed-6a26-451c-9628-ba8fd0405dd5",
   "metadata": {},
   "outputs": [
    {
     "name": "stdout",
     "output_type": "stream",
     "text": [
      "Hello, World!\n"
     ]
    }
   ],
   "source": [
    "from unittest.mock import Mock\n",
    "\n",
    "# Create a mock object\n",
    "mock_obj = Mock()\n",
    "\n",
    "# Set a return value for a method\n",
    "mock_obj.some_method.return_value = \"Hello, World!\"\n",
    "\n",
    "# Call the method\n",
    "result = mock_obj.some_method()\n",
    "\n",
    "# Check the result\n",
    "print(result)  # Output: Hello, World!\n"
   ]
  },
  {
   "cell_type": "code",
   "execution_count": 44,
   "id": "f737a4c9-371f-49d3-ba39-301ab1fd0cd1",
   "metadata": {},
   "outputs": [
    {
     "name": "stdout",
     "output_type": "stream",
     "text": [
      "Calling function: greet\n",
      "Arguments: ('Sanju',), Keyword Arguments: {'mood': 'awesome'}\n",
      "Hello Sanju, you seem awesome!\n",
      "Function executed!\n"
     ]
    }
   ],
   "source": [
    "def log_function(func):\n",
    "    def wrapper(*args, **kwargs):\n",
    "        print(f\"Calling function: {func.__name__}\")\n",
    "        print(f\"Arguments: {args}, Keyword Arguments: {kwargs}\")\n",
    "        result = func(*args, **kwargs)\n",
    "        print(\"Function executed!\")\n",
    "        return result\n",
    "    return wrapper\n",
    "\n",
    "@log_function\n",
    "def greet(name, mood=\"happy\"):\n",
    "    print(f\"Hello {name}, you seem {mood}!\")\n",
    "\n",
    "greet(\"Sanju\", mood=\"awesome\")\n"
   ]
  },
  {
   "cell_type": "code",
   "execution_count": null,
   "id": "cb49b429-0feb-467a-a71f-88d3fc4f3b59",
   "metadata": {},
   "outputs": [],
   "source": []
  }
 ],
 "metadata": {
  "kernelspec": {
   "display_name": "Python 3 (ipykernel)",
   "language": "python",
   "name": "python3"
  },
  "language_info": {
   "codemirror_mode": {
    "name": "ipython",
    "version": 3
   },
   "file_extension": ".py",
   "mimetype": "text/x-python",
   "name": "python",
   "nbconvert_exporter": "python",
   "pygments_lexer": "ipython3",
   "version": "3.12.4"
  }
 },
 "nbformat": 4,
 "nbformat_minor": 5
}
