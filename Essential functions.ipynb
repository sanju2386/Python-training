{
 "cells": [
  {
   "cell_type": "markdown",
   "id": "e1748ba3-9d8e-4f10-9d28-dec963c75496",
   "metadata": {},
   "source": [
    "# get span"
   ]
  },
  {
   "cell_type": "code",
   "execution_count": 1,
   "id": "3bf6ff34-76cb-4c13-8d1d-29e413c2e7c9",
   "metadata": {},
   "outputs": [],
   "source": [
    "def getspan(s, r):\n",
    "\n",
    "    count = 0\n",
    "\n",
    "    spans = []\n",
    "\n",
    "    start = 0\n",
    "\n",
    "    while True:\n",
    "\n",
    "        start = s.find(r, start)\n",
    "\n",
    "        if start == -1:\n",
    "\n",
    "            break\n",
    "\n",
    "        end = start + len(r)\n",
    "\n",
    "        spans.append((start, end))\n",
    "\n",
    "        count += 1\n",
    "\n",
    "        start += 1  # Move to the next character to find subsequent occurrences\n",
    "\n",
    "    return count, spans\n",
    " "
   ]
  },
  {
   "cell_type": "code",
   "execution_count": 2,
   "id": "aea2afc7-d4a2-4ec6-a0f1-97fd36ac29f6",
   "metadata": {},
   "outputs": [
    {
     "name": "stdout",
     "output_type": "stream",
     "text": [
      "Number of occurrences of 'ss' in 'mississippi': 2\n",
      "Spans of 'ss' in 'mississippi': [(2, 4), (5, 7)]\n",
      "(2,[(2, 4), (5, 7)]\n"
     ]
    }
   ],
   "source": [
    "s = 'mississippi'\n",
    "\n",
    "r = 'ss'\n",
    " \n",
    "\n",
    "\n",
    "count, spans = getspan(s, r)\n",
    "\n",
    "print(f\"Number of occurrences of '{r}' in '{s}': {count}\")\n",
    "\n",
    "print(f\"Spans of '{r}' in '{s}': {spans}\")\n",
    "\n",
    "print(f\"({count},{spans}\")"
   ]
  },
  {
   "cell_type": "raw",
   "id": "fe8cb465-ddae-4a59-b1c3-abee0c941b08",
   "metadata": {},
   "source": [
    "def reverse_string(a):\n",
    "    reversed=a[::-1]\n",
    "    return reversed"
   ]
  },
  {
   "cell_type": "code",
   "execution_count": 4,
   "id": "7f98ded4-6c9c-4953-9363-44dd43aeed09",
   "metadata": {},
   "outputs": [],
   "source": [
    "def reverse_string(a):\n",
    "    if not isinstance(a, str):\n",
    "        a = str(a)  # Convert non-string inputs to string\n",
    "    return ''.join(reversed(a))"
   ]
  },
  {
   "cell_type": "raw",
   "id": "cab5e223-27e9-4979-8f1c-7b5c7a2f4390",
   "metadata": {},
   "source": [
    "def reverseWords(s):\n",
    "    return ' '.join(word[::-1] for word in s.split())\n",
    "\n",
    "print(reverseWords(\"  hello   world  \"))  # Output: \"olleh dlrow\"\n"
   ]
  },
  {
   "cell_type": "code",
   "execution_count": 5,
   "id": "3d2da868-3743-4bdc-a1e7-21a6bb721212",
   "metadata": {},
   "outputs": [],
   "source": [
    "import string\n",
    "\n",
    "def remove_punctuation(word: str) -> str:\n",
    "    return word.translate(str.maketrans('', '', string.punctuation))\n",
    "\n"
   ]
  },
  {
   "cell_type": "code",
   "execution_count": 6,
   "id": "b46f9f3b-b2ef-408a-9123-fd60945ca1a4",
   "metadata": {},
   "outputs": [
    {
     "name": "stdout",
     "output_type": "stream",
     "text": [
      "hello\n",
      "its\n",
      "Python DevOps\n"
     ]
    }
   ],
   "source": [
    "# Example Usage\n",
    "print(remove_punctuation(\"hello!\"))        # Output: hello\n",
    "print(remove_punctuation(\"it's\"))          # Output: its\n",
    "print(remove_punctuation(\"Python, DevOps.\"))  # "
   ]
  },
  {
   "cell_type": "code",
   "execution_count": 7,
   "id": "86427f37-f5c1-48df-8767-d6cd39504b49",
   "metadata": {},
   "outputs": [
    {
     "name": "stdout",
     "output_type": "stream",
     "text": [
      "LEArn PythOn wIth GFG\n"
     ]
    }
   ],
   "source": [
    "t = str.maketrans(\"aeiou\", \"AEIOU\")\n",
    "\n",
    "# Translating a string\n",
    "res = \"Learn Python with GFG\".translate(t)\n",
    "\n",
    "print(res)  "
   ]
  },
  {
   "cell_type": "code",
   "execution_count": 8,
   "id": "0c5f9dda-b618-4bb9-85c4-7c15783f53be",
   "metadata": {},
   "outputs": [
    {
     "name": "stdout",
     "output_type": "stream",
     "text": [
      "HeLLO wOrLd\n",
      "1ppl2\n",
      "Please provide valid string inputs.\n"
     ]
    }
   ],
   "source": [
    "def translate(s, a, r):\n",
    "    # Check if all inputs are strings\n",
    "    if isinstance(s, str) and isinstance(a, str) and isinstance(r, str):\n",
    "        # Create a translation table\n",
    "        t = str.maketrans(a, r)\n",
    "        # Apply the translation table\n",
    "        res = s.translate(t)\n",
    "        return res\n",
    "    else:\n",
    "        return \"Please provide valid string inputs.\"\n",
    "\n",
    "# Example Usage\n",
    "print(translate(\"hello world\", \"hlo\", \"HLO\"))  # Output: \"HeLLO wOrLd\"\n",
    "print(translate(\"apple\", \"aeiou\", \"12345\"))  # Output: \"1ppl2\"\n",
    "print(translate(123, \"a\", \"b\"))  # Output: \"Please provide valid string inputs.\"\n",
    "\n"
   ]
  },
  {
   "cell_type": "code",
   "execution_count": 9,
   "id": "c8e1c958-e484-4fbc-b5ef-b5fed06b07e8",
   "metadata": {},
   "outputs": [
    {
     "name": "stdout",
     "output_type": "stream",
     "text": [
      "2\n",
      "5\n",
      "4\n"
     ]
    }
   ],
   "source": [
    "def count_words(s):\n",
    "    return len(s.split())\n",
    "\n",
    "# Example Usage:\n",
    "print(count_words(\"Hello world!\"))  # Output: 2\n",
    "print(count_words(\"This is a simple sentence.\"))  # Output: 5\n",
    "print(count_words(\"   Extra spaces  won't  matter!  \"))  # Output: 5\n"
   ]
  },
  {
   "cell_type": "code",
   "execution_count": 10,
   "id": "80a2db80-8478-4802-90e0-078d9aa38230",
   "metadata": {},
   "outputs": [
    {
     "name": "stdout",
     "output_type": "stream",
     "text": [
      "{'h': 1, 'e': 1, 'l': 2, 'o': 1}\n"
     ]
    }
   ],
   "source": [
    "def characterMap(s):\n",
    "    char_map = {}\n",
    "    for char in s:\n",
    "        char_map[char] = char_map.get(char, 0) + 1\n",
    "    return char_map\n",
    "\n",
    "# Example Usage:\n",
    "print(characterMap(\"hello\"))  \n",
    "# Output: {'h': 1, 'e': 1, 'l': 2, 'o': 1}\n"
   ]
  },
  {
   "cell_type": "code",
   "execution_count": 11,
   "id": "344f6520-ffed-47b9-a4cb-71b2a4332708",
   "metadata": {},
   "outputs": [
    {
     "name": "stdout",
     "output_type": "stream",
     "text": [
      "{'a': 97, 'b': 98, 'c': 99}\n"
     ]
    }
   ],
   "source": [
    "def characterMap(s):\n",
    "    return {char: ord(char) for char in s}\n",
    "\n",
    "# Example Usage:\n",
    "print(characterMap(\"abc\"))  \n",
    "# Output: {'a': 97, 'b': 98, 'c': 99}\n"
   ]
  },
  {
   "cell_type": "code",
   "execution_count": 12,
   "id": "06b4a278-2808-48c8-8261-df07e478db40",
   "metadata": {},
   "outputs": [
    {
     "name": "stdout",
     "output_type": "stream",
     "text": [
      "Hello World\n",
      "Python Is Awesome\n",
      "123Abc Test\n"
     ]
    }
   ],
   "source": [
    "def makeTitle(s):\n",
    "    return s.title()\n",
    "\n",
    "# Example Usage:\n",
    "print(makeTitle(\"hello world\"))  # Output: \"Hello World\"\n",
    "print(makeTitle(\"python is awesome\"))  # Output: \"Python Is Awesome\"\n",
    "print(makeTitle(\"123abc test\"))  # Output: \"123Abc Test\"\n"
   ]
  },
  {
   "cell_type": "code",
   "execution_count": 13,
   "id": "922f4a17-a5b6-422d-ae68-df7a5a1193a6",
   "metadata": {},
   "outputs": [
    {
     "name": "stdout",
     "output_type": "stream",
     "text": [
      "Hello world\n",
      "Python is awesome!\n",
      "Extra spaces\n"
     ]
    }
   ],
   "source": [
    "def normalizeSpaces(s):\n",
    "    return ' '.join(s.split())\n",
    "\n",
    "# Example Usage:\n",
    "print(normalizeSpaces(\"  Hello   world  \"))  # Output: \"Hello world\"\n",
    "print(normalizeSpaces(\"Python    is    awesome!\"))  # Output: \"Python is awesome!\"\n",
    "print(normalizeSpaces(\"   Extra   spaces  \"))  # Output: \"Extra spaces\"\n"
   ]
  },
  {
   "cell_type": "code",
   "execution_count": null,
   "id": "d7cc67f6-994a-402d-8b21-33d98fb91a39",
   "metadata": {},
   "outputs": [],
   "source": []
  }
 ],
 "metadata": {
  "kernelspec": {
   "display_name": "Python 3 (ipykernel)",
   "language": "python",
   "name": "python3"
  },
  "language_info": {
   "codemirror_mode": {
    "name": "ipython",
    "version": 3
   },
   "file_extension": ".py",
   "mimetype": "text/x-python",
   "name": "python",
   "nbconvert_exporter": "python",
   "pygments_lexer": "ipython3",
   "version": "3.12.4"
  }
 },
 "nbformat": 4,
 "nbformat_minor": 5
}
