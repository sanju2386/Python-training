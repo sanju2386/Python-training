{
 "cells": [
  {
   "cell_type": "markdown",
   "id": "fdfeb3a9-cb11-4964-80d2-cc90277c18a4",
   "metadata": {},
   "source": [
    "### 29.1 Built-in Decorators: @classmethod, @staticmethod and @property"
   ]
  },
  {
   "cell_type": "markdown",
   "id": "17285130-32b2-4065-af77-25e05147798a",
   "metadata": {},
   "source": [
    "Create a Python class called Rectangle to represent a rectangle. The class should allow the following:\n",
    "\n",
    "Use @property to calculate and return the area of the rectangle.\n",
    "\n",
    "Use @classmethod to create a Rectangle from a string in the format \"width,height\".\n",
    "\n",
    "Use @staticmethod to check if two rectangles are equal in area."
   ]
  },
  {
   "cell_type": "code",
   "execution_count": 4,
   "id": "f401c1aa-e554-40e7-a75c-e09251ce2cc5",
   "metadata": {},
   "outputs": [],
   "source": [
    "class Rectangle:\n",
    "\n",
    "    def __init__(self, width, height):\n",
    "        self.width = width\n",
    "        self.height = height\n",
    "\n",
    "    def area(self):\n",
    "        return self.width * self.height\n",
    "\n",
    "    def from_string(cls, rect_str):\n",
    "        width, height = map(float, rect_str.split(\",\"))\n",
    "        return Rectangle(width, height)\n",
    "\n",
    "    from_string = classmethod(from_string)\n",
    "\n",
    "    def is_equal(rect1, rect2):\n",
    "        return rect1.area() == rect2.area()\n",
    "\n",
    "    is_equal = staticmethod(is_equal)"
   ]
  },
  {
   "cell_type": "code",
   "execution_count": 8,
   "id": "b9f4b81e-b2db-4a94-9fd1-5d79b8f6a1be",
   "metadata": {},
   "outputs": [],
   "source": [
    "r1 = Rectangle(10, 5)\n",
    "r2 = Rectangle.from_string('5,10')"
   ]
  },
  {
   "cell_type": "code",
   "execution_count": 10,
   "id": "abd8a9d6-10a9-49d2-95da-7b86f1165ba0",
   "metadata": {},
   "outputs": [
    {
     "data": {
      "text/plain": [
       "50"
      ]
     },
     "execution_count": 10,
     "metadata": {},
     "output_type": "execute_result"
    }
   ],
   "source": [
    "r1.area()"
   ]
  },
  {
   "cell_type": "code",
   "execution_count": 18,
   "id": "e792a73b-f9a5-49f5-88e5-62970ce33d33",
   "metadata": {},
   "outputs": [
    {
     "data": {
      "text/plain": [
       "50.0"
      ]
     },
     "execution_count": 18,
     "metadata": {},
     "output_type": "execute_result"
    }
   ],
   "source": [
    "r2.area()"
   ]
  },
  {
   "cell_type": "code",
   "execution_count": 14,
   "id": "37558373-3ada-4d17-a89c-5add43781109",
   "metadata": {},
   "outputs": [
    {
     "data": {
      "text/plain": [
       "True"
      ]
     },
     "execution_count": 14,
     "metadata": {},
     "output_type": "execute_result"
    }
   ],
   "source": [
    "Rectangle.is_equal(r1, r2)"
   ]
  },
  {
   "cell_type": "markdown",
   "id": "862e4d3d-6709-4b58-88f3-826cfe084792",
   "metadata": {},
   "source": [
    "##### Using the decorators"
   ]
  },
  {
   "cell_type": "code",
   "execution_count": 21,
   "id": "e5f48003-5433-408b-8d17-ec867e21481b",
   "metadata": {},
   "outputs": [],
   "source": [
    "class Rectangle:\n",
    "\n",
    "    def __init__(self, width, height):\n",
    "        self.width = width\n",
    "        self.height = height\n",
    "\n",
    "    @property\n",
    "    def area(self):\n",
    "        return self.width * self.height\n",
    "\n",
    "    @classmethod\n",
    "    def from_string(cls, rect_str):\n",
    "        width, height = map(float, rect_str.split(\",\"))\n",
    "        return Rectangle(width, height)\n",
    "\n",
    "    # from_string = classmethod(from_string)\n",
    "\n",
    "    @staticmethod\n",
    "    def is_equal(rect1, rect2):\n",
    "        return rect1.area == rect2.area\n",
    "\n",
    "    # is_equal = staticmethod(is_equal)"
   ]
  },
  {
   "cell_type": "code",
   "execution_count": 23,
   "id": "26148fa5-c244-4cd0-b573-5623004ab254",
   "metadata": {},
   "outputs": [],
   "source": [
    "r1 = Rectangle(10, 5)\n",
    "r2 = Rectangle.from_string('5,10')"
   ]
  },
  {
   "cell_type": "code",
   "execution_count": 25,
   "id": "81e1ea24-3138-4189-8282-7e117672297c",
   "metadata": {},
   "outputs": [
    {
     "data": {
      "text/plain": [
       "(50, 50.0)"
      ]
     },
     "execution_count": 25,
     "metadata": {},
     "output_type": "execute_result"
    }
   ],
   "source": [
    "r1.area, r2.area"
   ]
  },
  {
   "cell_type": "markdown",
   "id": "fc23549f-6947-45e5-a509-c6d7b71fbdc9",
   "metadata": {},
   "source": [
    "### 29.2 The @wraps decorator for preserving metadata"
   ]
  },
  {
   "cell_type": "markdown",
   "id": "71bdfec8-8bf3-482a-8327-cdad2e9bb41a",
   "metadata": {},
   "source": [
    "##### It is present in the module called functools. It preserves the original functions metadata"
   ]
  },
  {
   "cell_type": "code",
   "execution_count": 45,
   "id": "619487e4-dfad-427f-bb8e-ceb3c122d11d",
   "metadata": {},
   "outputs": [],
   "source": [
    "def log_function(func):\n",
    "\n",
    "    def wrapper(*args, **kargs):\n",
    "        print(f\"Calling -> {func.__name__} with args -> {args}, {kargs}\")\n",
    "        return func(*args, *kargs)\n",
    "\n",
    "    return wrapper"
   ]
  },
  {
   "cell_type": "code",
   "execution_count": 47,
   "id": "a2bb5bfe-843f-4401-8d9a-4ba6787639aa",
   "metadata": {},
   "outputs": [],
   "source": [
    "@log_function\n",
    "def greet(name):\n",
    "    \"\"\"This function greets a person\"\"\"\n",
    "    print(f\"Hello, {name}\")"
   ]
  },
  {
   "cell_type": "code",
   "execution_count": 49,
   "id": "c4b9eb3c-cc9c-44d6-9dda-2857c79c59ff",
   "metadata": {},
   "outputs": [
    {
     "name": "stdout",
     "output_type": "stream",
     "text": [
      "Calling -> greet with args -> ('Purushotham',), {}\n",
      "Hello, Purushotham\n"
     ]
    }
   ],
   "source": [
    "greet('Purushotham')"
   ]
  },
  {
   "cell_type": "code",
   "execution_count": 51,
   "id": "36eaaad4-daad-486d-ac39-e54afe921d1e",
   "metadata": {},
   "outputs": [
    {
     "name": "stdout",
     "output_type": "stream",
     "text": [
      "wrapper\n"
     ]
    }
   ],
   "source": [
    "print(greet.__name__)"
   ]
  },
  {
   "cell_type": "code",
   "execution_count": 53,
   "id": "eaf532d6-c8ef-49ba-9773-be88ef68b2d6",
   "metadata": {},
   "outputs": [
    {
     "name": "stdout",
     "output_type": "stream",
     "text": [
      "None\n"
     ]
    }
   ],
   "source": [
    "print(greet.__doc__)"
   ]
  },
  {
   "cell_type": "markdown",
   "id": "72a993d8-65ad-41cf-bbc7-8637de985606",
   "metadata": {},
   "source": [
    "##### Let's redo with wraps()"
   ]
  },
  {
   "cell_type": "code",
   "execution_count": 56,
   "id": "6a0a47d4-99ad-453c-a7e2-dd696a11987a",
   "metadata": {},
   "outputs": [],
   "source": [
    "from functools import wraps"
   ]
  },
  {
   "cell_type": "code",
   "execution_count": 64,
   "id": "f94a3a81-7b32-40d5-b33c-bc62d29519c6",
   "metadata": {},
   "outputs": [],
   "source": [
    "def log_function(func):\n",
    "\n",
    "    @wraps(func)\n",
    "    def wrapper(*args, **kargs):\n",
    "        print(f\"Calling -> {func.__name__} with args -> {args}, {kargs}\")\n",
    "        return func(*args, *kargs)\n",
    "\n",
    "    return wrapper"
   ]
  },
  {
   "cell_type": "code",
   "execution_count": 66,
   "id": "7c32e90c-0ca0-4caa-8010-eac7b720dd66",
   "metadata": {},
   "outputs": [],
   "source": [
    "@log_function\n",
    "def greet(name):\n",
    "    \"\"\"This function greets a person\"\"\"\n",
    "    print(f\"Hello, {name}\")"
   ]
  },
  {
   "cell_type": "code",
   "execution_count": 68,
   "id": "2ea710a9-a318-44d6-8928-a8e081011a46",
   "metadata": {},
   "outputs": [
    {
     "name": "stdout",
     "output_type": "stream",
     "text": [
      "Calling -> greet with args -> ('Purushotham',), {}\n",
      "Hello, Purushotham\n"
     ]
    }
   ],
   "source": [
    "greet(\"Purushotham\")"
   ]
  },
  {
   "cell_type": "code",
   "execution_count": 70,
   "id": "ba1460f4-cb96-42d6-b22e-bdc23fb74f86",
   "metadata": {},
   "outputs": [
    {
     "name": "stdout",
     "output_type": "stream",
     "text": [
      "greet\n"
     ]
    }
   ],
   "source": [
    "print(greet.__name__)"
   ]
  },
  {
   "cell_type": "code",
   "execution_count": 72,
   "id": "264e9867-5afc-4aa2-b2a1-364b39cda51d",
   "metadata": {},
   "outputs": [
    {
     "name": "stdout",
     "output_type": "stream",
     "text": [
      "This function greets a person\n"
     ]
    }
   ],
   "source": [
    "print(greet.__doc__)"
   ]
  },
  {
   "cell_type": "code",
   "execution_count": null,
   "id": "1c1943e3-dbce-4c2a-b1ee-42abd467de91",
   "metadata": {},
   "outputs": [],
   "source": []
  }
 ],
 "metadata": {
  "kernelspec": {
   "display_name": "Python 3 (ipykernel)",
   "language": "python",
   "name": "python3"
  },
  "language_info": {
   "codemirror_mode": {
    "name": "ipython",
    "version": 3
   },
   "file_extension": ".py",
   "mimetype": "text/x-python",
   "name": "python",
   "nbconvert_exporter": "python",
   "pygments_lexer": "ipython3",
   "version": "3.12.7"
  }
 },
 "nbformat": 4,
 "nbformat_minor": 5
}
