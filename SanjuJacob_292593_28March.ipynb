{
 "cells": [
  {
   "cell_type": "markdown",
   "id": "3bcb054c-f0e3-4cac-be61-5863b534122c",
   "metadata": {},
   "source": [
    "### 16.1 Defining a class in python"
   ]
  },
  {
   "cell_type": "code",
   "execution_count": 37,
   "id": "ee1865ed-9ccc-433e-9cfe-3767e5e46838",
   "metadata": {},
   "outputs": [],
   "source": [
    "class student:\n",
    "\n",
    "    # constructor and instance variable intialization\n",
    "    def __init__(self, sname, sage, sgrade):\n",
    "        self.name = sname\n",
    "        self.age  = sage\n",
    "        self.grade = sgrade\n",
    "        self.marks = {}\n",
    "\n",
    "    # class methods\n",
    "    def set_marks(self, subj, marks):\n",
    "        self.marks[subj] = marks\n",
    "\n",
    "    def average(self):\n",
    "        self.average = sum(self.marks.values())/len(self.marks.values())\n",
    "        return self.average\n",
    "\n",
    "    def print_report(self):\n",
    "        print(f\"\\nSELF -> {self}\")\n",
    "        print(\"------------------------------------\")\n",
    "        print(f\"NAME           | {self.name}\")\n",
    "        print(f\"AGE            | {self.age}\")\n",
    "        print(f\"GRADE          | {self.grade}\")\n",
    "        print(\"------------------------------------\")\n",
    "        for k, v in self.marks.items():\n",
    "            print(str(k).rjust(10), \"  |\", str(v).ljust(5) )\n",
    "        print(\"------------------------------------\")\n",
    "        print(\"AVERAGE        | \", self.average())"
   ]
  },
  {
   "cell_type": "markdown",
   "id": "e5f7abd7-f209-4e50-a888-eb9a78a7f506",
   "metadata": {},
   "source": [
    "All functions you write in a class should have the first argument -> self\n",
    "All instance variables should have the prefix self.\n",
    "Whatever information is passed at the time of creation of object is picked up by the constructor if specified"
   ]
  },
  {
   "cell_type": "code",
   "execution_count": 38,
   "id": "81f54096-1ee9-4b5e-8dec-1b8ae6cb28c1",
   "metadata": {},
   "outputs": [],
   "source": [
    "s1 = student(\"Anil\", 12, \"7\")\n",
    "s2 = student(\"Sunil\", 12, \"7\")"
   ]
  },
  {
   "cell_type": "code",
   "execution_count": 39,
   "id": "e2e1892b-d8cb-4aac-b98f-698a7f5844e6",
   "metadata": {},
   "outputs": [
    {
     "data": {
      "text/plain": [
       "<__main__.student at 0x1f998419dd0>"
      ]
     },
     "execution_count": 39,
     "metadata": {},
     "output_type": "execute_result"
    }
   ],
   "source": [
    "s1"
   ]
  },
  {
   "cell_type": "code",
   "execution_count": 40,
   "id": "058bfe24-3118-4e66-93c7-15d8cafdf179",
   "metadata": {},
   "outputs": [
    {
     "data": {
      "text/plain": [
       "<__main__.student at 0x1f9983da110>"
      ]
     },
     "execution_count": 40,
     "metadata": {},
     "output_type": "execute_result"
    }
   ],
   "source": [
    "s2"
   ]
  },
  {
   "cell_type": "code",
   "execution_count": 41,
   "id": "3a3d2d1b-71cd-482b-9be6-b9271656b5c3",
   "metadata": {},
   "outputs": [],
   "source": [
    "s1.set_marks(\"physics\", 78)\n",
    "s1.set_marks(\"chemistry\", 88)"
   ]
  },
  {
   "cell_type": "code",
   "execution_count": 42,
   "id": "a6756b85-11e9-4ec5-89cb-73e392c9fbf2",
   "metadata": {},
   "outputs": [],
   "source": [
    "s2.set_marks(\"physics\", 98)\n",
    "s2.set_marks(\"chemistry\", 68)"
   ]
  },
  {
   "cell_type": "code",
   "execution_count": 43,
   "id": "9c717b18-ef00-4473-95ca-cdbd1da07ad7",
   "metadata": {},
   "outputs": [
    {
     "name": "stdout",
     "output_type": "stream",
     "text": [
      "\n",
      "SELF -> <__main__.student object at 0x000001F998419DD0>\n",
      "------------------------------------\n",
      "NAME           | Anil\n",
      "AGE            | 12\n",
      "GRADE          | 7\n",
      "------------------------------------\n",
      "   physics   | 78   \n",
      " chemistry   | 88   \n",
      "------------------------------------\n",
      "AVERAGE        |  83.0\n"
     ]
    }
   ],
   "source": [
    "s1.print_report()"
   ]
  },
  {
   "cell_type": "code",
   "execution_count": 44,
   "id": "9e111c67-8791-46c4-b3e9-4728bc6442f4",
   "metadata": {},
   "outputs": [
    {
     "name": "stdout",
     "output_type": "stream",
     "text": [
      "\n",
      "SELF -> <__main__.student object at 0x000001F9983DA110>\n",
      "------------------------------------\n",
      "NAME           | Sunil\n",
      "AGE            | 12\n",
      "GRADE          | 7\n",
      "------------------------------------\n",
      "   physics   | 98   \n",
      " chemistry   | 68   \n",
      "------------------------------------\n",
      "AVERAGE        |  83.0\n"
     ]
    }
   ],
   "source": [
    "s2.print_report()"
   ]
  },
  {
   "cell_type": "markdown",
   "id": "0267470b-7992-4d75-a0b1-f738ec931c0a",
   "metadata": {},
   "source": [
    "### 16.2 Exercise"
   ]
  },
  {
   "cell_type": "markdown",
   "id": "3812a943-ef0e-40bd-b86d-0ca6d0a8c73f",
   "metadata": {},
   "source": [
    "Create a employee class with the following features:\n",
    "name, age, company, gross_salary, tax_rate, net_salary\n",
    "Implement methods to: print information, calculate net_salary based on tax rate, set the gross salary, set the tax rate\n"
   ]
  },
  {
   "cell_type": "code",
   "execution_count": 6,
   "id": "7a149c78-6518-4f6f-9a18-0847f84e23eb",
   "metadata": {},
   "outputs": [],
   "source": [
    "class Employee:\n",
    "    def __init__(self, name, age, company, gross_salary, tax_rate):\n",
    "        self.name = name\n",
    "        self.age = age\n",
    "        self.company = company\n",
    "        self.gross_salary = gross_salary\n",
    "        self.tax_rate = tax_rate\n",
    "        self.net_salary = self.calculate_net_salary()\n",
    "\n",
    "    def calculate_net_salary(self):\n",
    "        #\"\"\"Calculates net salary based on tax rate.\"\"\"\n",
    "        net = self.gross_salary * (1 - self.tax_rate / 100)\n",
    "        return net\n",
    "\n",
    "    def set_gross_salary(self, new_salary):\n",
    "        #\"\"\"Updates gross salary and recalculates net salary.\"\"\"\n",
    "        self.gross_salary = new_salary\n",
    "        self.net_salary = self.calculate_net_salary()\n",
    "\n",
    "    def set_tax_rate(self, new_tax_rate):\n",
    "       # \"\"\"Updates tax rate and recalculates net salary.\"\"\"\n",
    "        self.tax_rate = new_tax_rate\n",
    "        self.net_salary = self.calculate_net_salary()\n",
    "\n",
    "    def print_info(self):\n",
    "        print(f\"Name: {self.name}\")\n",
    "        print(f\"Age: {self.age}\")\n",
    "        print(f\"Company: {self.company}\")\n",
    "        print(f\"Gross Salary: {self.gross_salary}\")\n",
    "        print(f\"Tax Rate: {self.tax_rate}%\")\n",
    "        print(f\"Net Salary: {self.net_salary}\")\n",
    "\n",
    "    \n",
    "\n",
    "\n"
   ]
  },
  {
   "cell_type": "code",
   "execution_count": 7,
   "id": "f684dc92-2874-4236-917c-24282f80a7f1",
   "metadata": {},
   "outputs": [
    {
     "name": "stdout",
     "output_type": "stream",
     "text": [
      "Name: Alice Johnson\n",
      "Age: 28\n",
      "Company: Google\n",
      "Gross Salary: 7000\n",
      "Tax Rate: 22%\n",
      "Net Salary: 5460.0\n"
     ]
    }
   ],
   "source": [
    "emp1 = Employee(\"Alice Johnson\", 28, \"Google\", 7000, 22)\n",
    "emp1.print_info()\n"
   ]
  },
  {
   "cell_type": "code",
   "execution_count": null,
   "id": "f76b8fd8-4dd2-4b33-987d-2e1577f7c860",
   "metadata": {},
   "outputs": [],
   "source": []
  }
 ],
 "metadata": {
  "kernelspec": {
   "display_name": "Python 3 (ipykernel)",
   "language": "python",
   "name": "python3"
  },
  "language_info": {
   "codemirror_mode": {
    "name": "ipython",
    "version": 3
   },
   "file_extension": ".py",
   "mimetype": "text/x-python",
   "name": "python",
   "nbconvert_exporter": "python",
   "pygments_lexer": "ipython3",
   "version": "3.12.4"
  }
 },
 "nbformat": 4,
 "nbformat_minor": 5
}
