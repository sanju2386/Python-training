{
 "cells": [
  {
   "cell_type": "code",
   "execution_count": 1,
   "id": "ec5acb87-c01c-4db7-9e75-e96152c67bcd",
   "metadata": {},
   "outputs": [],
   "source": [
    "def modifystring(s):\n",
    "    return ' ' .join(list(s.upper()))"
   ]
  },
  {
   "cell_type": "code",
   "execution_count": 2,
   "id": "4d29efbb-6143-4acf-9340-00f78829532f",
   "metadata": {},
   "outputs": [
    {
     "data": {
      "text/plain": [
       "'A P P L E S'"
      ]
     },
     "execution_count": 2,
     "metadata": {},
     "output_type": "execute_result"
    }
   ],
   "source": [
    "modifystring(\"Apples\")"
   ]
  },
  {
   "cell_type": "raw",
   "id": "1030c479-2266-4376-910c-0ffe368d777d",
   "metadata": {},
   "source": [
    "Decorators enable to change functionality without changing actual code of function, this is acheived by changing input provide to this functions ."
   ]
  },
  {
   "cell_type": "code",
   "execution_count": 3,
   "id": "bd2a6744-06ae-41e2-acf8-b3c06a4b45f3",
   "metadata": {},
   "outputs": [],
   "source": [
    "import random"
   ]
  },
  {
   "cell_type": "code",
   "execution_count": 4,
   "id": "d3b295c2-8ad6-4383-b186-4cc81c347754",
   "metadata": {},
   "outputs": [
    {
     "data": {
      "text/plain": [
       "'e s p p l A'"
      ]
     },
     "execution_count": 4,
     "metadata": {},
     "output_type": "execute_result"
    }
   ],
   "source": [
    "s=list(\"Apples\")\n",
    "random.shuffle(s)\n",
    "s= ' '.join(s)\n",
    "s"
   ]
  },
  {
   "cell_type": "code",
   "execution_count": 5,
   "id": "1600ca30-cb91-41f4-9508-a6a7c54b38ac",
   "metadata": {},
   "outputs": [
    {
     "data": {
      "text/plain": [
       "'E   S   P   P   L   A'"
      ]
     },
     "execution_count": 5,
     "metadata": {},
     "output_type": "execute_result"
    }
   ],
   "source": [
    "modifystring(s)"
   ]
  },
  {
   "cell_type": "markdown",
   "id": "183d49fe-239d-496c-9508-34285e64dd67",
   "metadata": {},
   "source": [
    "# Built-in Decorators: @classmethod, @staticmethod and @property"
   ]
  },
  {
   "cell_type": "raw",
   "id": "60dd8857-fa54-4e0b-a3f0-3b762d481ff3",
   "metadata": {},
   "source": [
    "Create a Python class called Rectangle to represent a rectangle. The class should allow the following:\n",
    "\n",
    "Use @property to calculate and return the area of the rectangle.\n",
    "\n",
    "Use @classmethod to create a Rectangle from a string in the format \"width,height\".\n",
    "\n",
    "Use @staticmethod to check if two rectangles are equal in area."
   ]
  },
  {
   "cell_type": "code",
   "execution_count": 3,
   "id": "ea22d730-890c-47cf-bc70-879945751241",
   "metadata": {},
   "outputs": [],
   "source": [
    "class Rectangle:\n",
    "\n",
    "    def __init__(self, width, height):\n",
    "        self.width = width\n",
    "        self.height = height\n",
    "\n",
    "    def area(self):\n",
    "        return self.width * self.height\n",
    "\n",
    "    def from_string(cls, rect_str):\n",
    "        width, height = map(float, rect_str.split(\",\"))\n",
    "        return Rectangle(width, height)\n",
    "\n",
    "    from_string = classmethod(from_string)\n",
    "\n",
    "    def is_equal(rect1, rect2):\n",
    "        return rect1.area() == rect2.area()\n",
    "\n",
    "    is_equal = staticmethod(is_equal)"
   ]
  },
  {
   "cell_type": "code",
   "execution_count": 4,
   "id": "8f14f987-4f7d-4aeb-af0f-68c351c5fef8",
   "metadata": {},
   "outputs": [],
   "source": [
    "r1 = Rectangle(10, 5)\n",
    "r2 = Rectangle.from_string('5,10')"
   ]
  },
  {
   "cell_type": "code",
   "execution_count": 5,
   "id": "11d56b99-7374-4001-bf16-3aca3731b4e8",
   "metadata": {},
   "outputs": [
    {
     "data": {
      "text/plain": [
       "50"
      ]
     },
     "execution_count": 5,
     "metadata": {},
     "output_type": "execute_result"
    }
   ],
   "source": [
    "r1.area()"
   ]
  },
  {
   "cell_type": "code",
   "execution_count": 6,
   "id": "bde70a68-b704-4804-9f33-32fc6d039a93",
   "metadata": {},
   "outputs": [
    {
     "data": {
      "text/plain": [
       "50.0"
      ]
     },
     "execution_count": 6,
     "metadata": {},
     "output_type": "execute_result"
    }
   ],
   "source": [
    "r2.area()"
   ]
  },
  {
   "cell_type": "code",
   "execution_count": null,
   "id": "4eecfc27-2581-4293-8fe8-c677d190eae4",
   "metadata": {},
   "outputs": [],
   "source": []
  },
  {
   "cell_type": "code",
   "execution_count": null,
   "id": "cb9eff03-61e6-4031-80b6-fd2554c8413e",
   "metadata": {},
   "outputs": [],
   "source": []
  },
  {
   "cell_type": "code",
   "execution_count": null,
   "id": "ec0dbbda-772c-4d59-b296-68fb0d31d93a",
   "metadata": {},
   "outputs": [],
   "source": []
  },
  {
   "cell_type": "code",
   "execution_count": null,
   "id": "46cddf9e-6aec-4c31-b789-9165b3cdd398",
   "metadata": {},
   "outputs": [],
   "source": []
  },
  {
   "cell_type": "code",
   "execution_count": null,
   "id": "829e7c49-a3b9-474f-9e39-bd42676e56c2",
   "metadata": {},
   "outputs": [],
   "source": []
  },
  {
   "cell_type": "code",
   "execution_count": null,
   "id": "cf7574e6-ced7-45cd-b0e2-fa3979191e8c",
   "metadata": {},
   "outputs": [],
   "source": []
  },
  {
   "cell_type": "code",
   "execution_count": null,
   "id": "fca4b9f4-0715-41f3-848a-a949acbfe76c",
   "metadata": {},
   "outputs": [],
   "source": []
  },
  {
   "cell_type": "code",
   "execution_count": null,
   "id": "fcdfbf48-f660-413d-b51f-4f339960efe6",
   "metadata": {},
   "outputs": [],
   "source": []
  },
  {
   "cell_type": "code",
   "execution_count": null,
   "id": "d32fc4be-b7d0-41eb-bf2d-592b59559cf0",
   "metadata": {},
   "outputs": [],
   "source": []
  },
  {
   "cell_type": "code",
   "execution_count": null,
   "id": "ac234f6c-5ec4-4251-8c43-56261c035364",
   "metadata": {},
   "outputs": [],
   "source": []
  },
  {
   "cell_type": "code",
   "execution_count": null,
   "id": "6881bb37-e04a-41c6-bd03-f3036376a207",
   "metadata": {},
   "outputs": [],
   "source": []
  },
  {
   "cell_type": "code",
   "execution_count": null,
   "id": "03dd9339-0e63-48ba-9c7a-e9f220fb4835",
   "metadata": {},
   "outputs": [],
   "source": []
  },
  {
   "cell_type": "code",
   "execution_count": null,
   "id": "969ef361-1683-4f44-b457-e8065e285637",
   "metadata": {},
   "outputs": [],
   "source": []
  },
  {
   "cell_type": "code",
   "execution_count": null,
   "id": "19124614-2792-4cb8-8fe2-e0e5b5029289",
   "metadata": {},
   "outputs": [],
   "source": []
  },
  {
   "cell_type": "code",
   "execution_count": null,
   "id": "f1efd737-89e4-40dc-8019-8a133ce16637",
   "metadata": {},
   "outputs": [],
   "source": []
  },
  {
   "cell_type": "code",
   "execution_count": null,
   "id": "761f5ff7-c406-470c-96c8-6e7d5c62ff66",
   "metadata": {},
   "outputs": [],
   "source": []
  },
  {
   "cell_type": "code",
   "execution_count": null,
   "id": "0a71ebb2-97d0-48be-a779-823404be70d6",
   "metadata": {},
   "outputs": [],
   "source": []
  },
  {
   "cell_type": "code",
   "execution_count": null,
   "id": "5ffd2794-6812-4a5b-b0ca-a56c6f5c2b82",
   "metadata": {},
   "outputs": [],
   "source": []
  },
  {
   "cell_type": "code",
   "execution_count": null,
   "id": "af50b482-d50d-4b1e-9d34-9b7022a9dc2a",
   "metadata": {},
   "outputs": [],
   "source": []
  },
  {
   "cell_type": "code",
   "execution_count": null,
   "id": "f20699d8-fdd6-4c48-af7c-9c5215dbe58e",
   "metadata": {},
   "outputs": [],
   "source": []
  },
  {
   "cell_type": "code",
   "execution_count": null,
   "id": "57d36cf4-5e84-4c46-b0ba-40cd20d489dc",
   "metadata": {},
   "outputs": [],
   "source": []
  },
  {
   "cell_type": "code",
   "execution_count": null,
   "id": "a7c1ef8b-2bd2-474a-a997-2dc3f88ffe9e",
   "metadata": {},
   "outputs": [],
   "source": []
  },
  {
   "cell_type": "code",
   "execution_count": null,
   "id": "b88fafd9-5ca3-41c3-81d7-34825364d675",
   "metadata": {},
   "outputs": [],
   "source": []
  },
  {
   "cell_type": "code",
   "execution_count": null,
   "id": "eff3830f-ec00-414c-9f73-fbd46561e2dd",
   "metadata": {},
   "outputs": [],
   "source": []
  },
  {
   "cell_type": "code",
   "execution_count": null,
   "id": "06dc4045-7830-4cc5-aecb-721e1b8baa5b",
   "metadata": {},
   "outputs": [],
   "source": []
  },
  {
   "cell_type": "code",
   "execution_count": null,
   "id": "79cc44dc-979b-42eb-9af1-21a0b4922544",
   "metadata": {},
   "outputs": [],
   "source": []
  },
  {
   "cell_type": "code",
   "execution_count": null,
   "id": "8b88b594-eb83-4324-bbc1-f5f0c7435b80",
   "metadata": {},
   "outputs": [],
   "source": []
  },
  {
   "cell_type": "code",
   "execution_count": null,
   "id": "0fa5c67f-69de-46da-b2e5-4cf3059a1521",
   "metadata": {},
   "outputs": [],
   "source": []
  },
  {
   "cell_type": "code",
   "execution_count": null,
   "id": "28f821e2-b9e5-40ee-bc78-86634f938eb9",
   "metadata": {},
   "outputs": [],
   "source": []
  },
  {
   "cell_type": "code",
   "execution_count": null,
   "id": "b15082fb-eda2-4999-bbdb-b6946f304f1c",
   "metadata": {},
   "outputs": [],
   "source": []
  },
  {
   "cell_type": "markdown",
   "id": "eef9f1a7-04d7-496a-ac18-ab9a8c3aa964",
   "metadata": {},
   "source": [
    "# lab session I 11:30-12:15"
   ]
  },
  {
   "cell_type": "raw",
   "id": "79e89110-47a0-43c5-95f5-947ba74696cc",
   "metadata": {},
   "source": [
    "Session 1 [45]\n",
    "---------------------------------------------------------------------------------------------------------\n",
    "\n",
    "Problem Statement #1:\n",
    "--------------------------------------------------------\n",
    "\n",
    "Write a decorator called @log_function that prints the name of the \n",
    "function being called and its arguments before executing it.\n",
    "\n",
    "@log_function\n",
    "def greet(name):\n",
    "    print(f\"Hello, {name}!\")\n",
    "\n",
    "greet(\"Alice\") \n",
    "\n",
    "# Output: \n",
    "# Calling function: greet \n",
    "# Arguments: 'Alice'\n",
    "# Hello, Alice. How are you today?\n",
    "\n",
    "Problem Statement #2:\n",
    "--------------------------------------------------------\n",
    "\n",
    "Write a decorator @double_result that doubles the result returned by any function.\n",
    "\n",
    "Example:\n",
    "\n",
    "@double_result\n",
    "def add(x, y):\n",
    "    return x + y\n",
    "\n",
    "print(add(3, 4))  # Output: 14\n",
    "\n",
    "Problem Statement #3:\n",
    "--------------------------------------------------------\n",
    "\n",
    "Write a decorator @timer that prints how long a function takes to execute.\n",
    "\n",
    "import time\n",
    "\n",
    "@timer\n",
    "def slow_function():\n",
    "    time.sleep(1)\n",
    "    print(\"Done!\")\n",
    "\n",
    "slow_function() # 1 seconds\n",
    "\n",
    "\n",
    "Problem Statement #4:\n",
    "--------------------------------------------------------\n",
    "\n",
    "Write a decorator @requires_admin that allows access to a function only \n",
    "if the user is an admin.\n",
    "\n",
    "Example:\n",
    "\n",
    "@requires_admin\n",
    "def delete_data(user_role):\n",
    "    print(\"Data deleted.\")\n",
    "\n",
    "delete_data(\"admin\")      # Allowed\n",
    "delete_data(\"guest\")      # Denied\n",
    "\n",
    "Session 2 [60]\n",
    "---------------------------------------------------------------------------------------------------------\n",
    "\n",
    "Problem Statement #1:\n",
    "--------------------------------------------------------\n",
    "\n",
    "Create a Python class called Circle that represents a circle. The class should allow the following:\n",
    "\n",
    "Use @property to return the circumference of the circle using the formula 2 * π * radius.\n",
    "\n",
    "Use @classmethod to create a Circle instance from a diameter.\n",
    "\n",
    "Use @staticmethod to check if a given value is a valid radius (i.e., a positive number).\n",
    "\n",
    "Problem Statement #2\n",
    "--------------------------------------------------------\n",
    "\n",
    "Create a class called BankAccount to represent a user’s bank account. \n",
    "The class should allow the following:\n",
    "\n",
    "Use @property to return the current balance with a message like \"Your balance is ₹5000\".\n",
    "\n",
    "Use @classmethod to create a BankAccount from a dictionary containing account details like:\n",
    "{\"name\": \"Alice\", \"balance\": 10000}\n",
    "\n",
    "Use @staticmethod to check if a given withdrawal amount is valid, i.e., \n",
    "it must be a positive number and less than or equal to the current balance.\n",
    "\n"
   ]
  },
  {
   "cell_type": "raw",
   "id": "356c3055-fc44-423c-991b-26e8c64dc16d",
   "metadata": {},
   "source": [
    "Problem Statement #1:\n",
    "--------------------------------------------------------\n",
    "\n",
    "Write a decorator called @log_function that prints the name of the \n",
    "function being called and its arguments before executing it.\n",
    "\n",
    "@log_function\n",
    "def greet(name):\n",
    "    print(f\"Hello, {name}!\")\n",
    "\n",
    "greet(\"Alice\") \n",
    "\n",
    "# Output: \n",
    "# Calling function: greet \n",
    "# Arguments: 'Alice'\n",
    "# Hello, Alice. How are you today?\n"
   ]
  },
  {
   "cell_type": "code",
   "execution_count": 1,
   "id": "359430f3-377d-4e84-a3e8-d8c947e84420",
   "metadata": {},
   "outputs": [],
   "source": [
    "def log_function(functionobject):\n",
    "    def enhancer(arg):\n",
    "        arg=\"Hello  \"+arg+\" How are you today\"\n",
    "        print( functionobject.__name__)\n",
    "        print(arg)\n",
    "        return functionobject(arg)\n",
    "\n",
    "    return enhancer\n",
    "\n"
   ]
  },
  {
   "cell_type": "code",
   "execution_count": 2,
   "id": "c06315f3-2124-42b5-9692-3e7d131a17d8",
   "metadata": {},
   "outputs": [],
   "source": [
    "@log_function\n",
    "def greet(name):\n",
    "    print(name)"
   ]
  },
  {
   "cell_type": "code",
   "execution_count": 3,
   "id": "63721ab5-af7d-4c73-a750-164f24b00ab2",
   "metadata": {},
   "outputs": [
    {
     "name": "stdout",
     "output_type": "stream",
     "text": [
      "greet\n",
      "Hello  Sanju How are you today\n",
      "Hello  Sanju How are you today\n"
     ]
    }
   ],
   "source": [
    "a = greet(\"Sanju\")\n",
    "a"
   ]
  },
  {
   "cell_type": "code",
   "execution_count": 4,
   "id": "4575a094-8f85-43dc-ac48-418e45062ccc",
   "metadata": {},
   "outputs": [
    {
     "name": "stdout",
     "output_type": "stream",
     "text": [
      "<function log_function.<locals>.enhancer at 0x0000015A5620D940>\n"
     ]
    }
   ],
   "source": [
    "greet_func = greet\n",
    "print(greet_func) "
   ]
  },
  {
   "cell_type": "markdown",
   "id": "7a1b225c-c3d2-49c2-b613-a4c195fc165f",
   "metadata": {},
   "source": [
    "# Q2"
   ]
  },
  {
   "cell_type": "raw",
   "id": "ffa19daa-6b85-4a3c-8422-2a52767dbeb6",
   "metadata": {},
   "source": [
    "Problem Statement #2:\n",
    "--------------------------------------------------------\n",
    "\n",
    "Write a decorator @double_result that doubles the result returned by any function.\n",
    "\n",
    "Example:\n",
    "\n",
    "@double_result\n",
    "def add(x, y):\n",
    "    return x + y\n",
    "\n",
    "print(add(3, 4))  # Output: 14\n"
   ]
  },
  {
   "cell_type": "code",
   "execution_count": 58,
   "id": "16d4f14a-e90c-49f3-836c-dbad6b24706b",
   "metadata": {},
   "outputs": [],
   "source": [
    " def double_result(func):\n",
    "     def wrap(*args, **kwargs):\n",
    "         result = func(*args, **kwargs)\n",
    "         print(f\"Function name: {func.__name__}\")\n",
    "         return 2*result\n",
    "         \n",
    "\n",
    "     return wrap\n",
    "         \n",
    "         "
   ]
  },
  {
   "cell_type": "code",
   "execution_count": 59,
   "id": "fa101b51-60e8-459d-a86f-aca13476c5aa",
   "metadata": {},
   "outputs": [],
   "source": [
    "@double_result\n",
    "def add(x,y):\n",
    "    return x+y"
   ]
  },
  {
   "cell_type": "code",
   "execution_count": 73,
   "id": "5eabf582-7b55-4e00-a7a7-5e15afe0fe9f",
   "metadata": {},
   "outputs": [
    {
     "name": "stdout",
     "output_type": "stream",
     "text": [
      "Function name: add\n"
     ]
    },
    {
     "data": {
      "text/plain": [
       "14"
      ]
     },
     "execution_count": 73,
     "metadata": {},
     "output_type": "execute_result"
    }
   ],
   "source": [
    "a1=add(3,4)\n",
    "a1"
   ]
  },
  {
   "cell_type": "code",
   "execution_count": 7,
   "id": "1ba64e1f-0b35-446d-a048-b3e363dd4e28",
   "metadata": {},
   "outputs": [
    {
     "name": "stdout",
     "output_type": "stream",
     "text": [
      "<function greet at 0x00000225BEE40360>\n",
      "greet\n",
      "greet\n",
      "Hello  Sanju How are you today\n",
      "Hello  Sanju How are you today\n"
     ]
    }
   ],
   "source": [
    "from functools import wraps\n",
    "\n",
    "def log_function(functionobject):\n",
    "    @wraps(functionobject)  # Copies metadata from original function\n",
    "    def enhancer(arg):\n",
    "        arg = \"Hello  \" + arg + \" How are you today\"\n",
    "        print(functionobject.__name__)\n",
    "        print(arg)\n",
    "        return functionobject(arg)  # Call the original function\n",
    "    return enhancer\n",
    "\n",
    "@log_function\n",
    "def greet(name):\n",
    "    print(name)\n",
    "\n",
    "# Testing\n",
    "greet_func = greet\n",
    "print(greet_func)          # Should show it's the enhancer function\n",
    "print(greet_func.__name__) # Should print 'greet'\n",
    "greet_func(\"Sanju\")        # Run the decorated function\n"
   ]
  },
  {
   "cell_type": "code",
   "execution_count": null,
   "id": "9177d4b8-b67e-4f0e-8506-c1cd8bf7e71a",
   "metadata": {},
   "outputs": [],
   "source": []
  },
  {
   "cell_type": "code",
   "execution_count": null,
   "id": "534174db-d07b-48b7-99a8-adf89287ae5a",
   "metadata": {},
   "outputs": [],
   "source": []
  },
  {
   "cell_type": "code",
   "execution_count": null,
   "id": "4eb457be-debc-43a6-a359-07d70ff8dffd",
   "metadata": {},
   "outputs": [],
   "source": []
  },
  {
   "cell_type": "code",
   "execution_count": null,
   "id": "ff702f82-ba52-4da2-8206-5754a31da5fb",
   "metadata": {},
   "outputs": [],
   "source": []
  },
  {
   "cell_type": "code",
   "execution_count": null,
   "id": "0d614d9d-11ac-4bb2-9cbc-a539cab49237",
   "metadata": {},
   "outputs": [],
   "source": []
  },
  {
   "cell_type": "markdown",
   "id": "e61b4d7c-b443-45d5-bd76-89b6d4a8206c",
   "metadata": {},
   "source": [
    "# Q3"
   ]
  },
  {
   "cell_type": "raw",
   "id": "b522c6e9-0707-47c1-9a5c-954a6692f72b",
   "metadata": {},
   "source": [
    "Problem Statement #3:\n",
    "--------------------------------------------------------\n",
    "\n",
    "Write a decorator @timer that prints how long a function takes to execute.\n",
    "\n",
    "import time\n",
    "\n",
    "@timer\n",
    "def slow_function():\n",
    "    time.sleep(1)\n",
    "    print(\"Done!\")\n",
    "\n",
    "slow_function() # 1 seconds\n",
    "\n"
   ]
  },
  {
   "cell_type": "raw",
   "id": "8f097a1e-b43f-4aa5-af65-2efc332e6c20",
   "metadata": {},
   "source": [
    "import time\n",
    "\n",
    "start = time.time()\n",
    "end = time.time()"
   ]
  },
  {
   "cell_type": "code",
   "execution_count": 66,
   "id": "783a1d71-f846-48f9-b918-edc10271cdbd",
   "metadata": {},
   "outputs": [],
   "source": [
    "import time\n",
    "\n",
    "def timer(func):\n",
    "    def wrapper(*args, **kwargs):\n",
    "        start = time.time()\n",
    "        result = func(*args, **kwargs)\n",
    "        end = time.time()\n",
    "        duration = end - start\n",
    "        #print(f\"Function '{func.__name__}' took {duration:.4f} seconds\")\n",
    "        print(\"Function name : {} took {} seconds\".format(func.__name__,duration))\n",
    "        return result\n",
    "    return wrapper"
   ]
  },
  {
   "cell_type": "code",
   "execution_count": 70,
   "id": "b538eb3e-5e27-4fd9-9609-9e71d6bfcdb3",
   "metadata": {},
   "outputs": [
    {
     "ename": "TypeError",
     "evalue": "slow_function() missing 1 required positional argument: 'arg'",
     "output_type": "error",
     "traceback": [
      "\u001b[1;31m---------------------------------------------------------------------------\u001b[0m",
      "\u001b[1;31mTypeError\u001b[0m                                 Traceback (most recent call last)",
      "Cell \u001b[1;32mIn[70], line 6\u001b[0m\n\u001b[0;32m      3\u001b[0m     time\u001b[38;5;241m.\u001b[39msleep(arg)\n\u001b[0;32m      4\u001b[0m     \u001b[38;5;28mprint\u001b[39m(\u001b[38;5;124m\"\u001b[39m\u001b[38;5;124mDone!\u001b[39m\u001b[38;5;124m\"\u001b[39m)\n\u001b[1;32m----> 6\u001b[0m slow_function()\n",
      "Cell \u001b[1;32mIn[66], line 6\u001b[0m, in \u001b[0;36mtimer.<locals>.wrapper\u001b[1;34m(*args, **kwargs)\u001b[0m\n\u001b[0;32m      4\u001b[0m \u001b[38;5;28;01mdef\u001b[39;00m \u001b[38;5;21mwrapper\u001b[39m(\u001b[38;5;241m*\u001b[39margs, \u001b[38;5;241m*\u001b[39m\u001b[38;5;241m*\u001b[39mkwargs):\n\u001b[0;32m      5\u001b[0m     start \u001b[38;5;241m=\u001b[39m time\u001b[38;5;241m.\u001b[39mtime()\n\u001b[1;32m----> 6\u001b[0m     result \u001b[38;5;241m=\u001b[39m func(\u001b[38;5;241m*\u001b[39margs, \u001b[38;5;241m*\u001b[39m\u001b[38;5;241m*\u001b[39mkwargs)\n\u001b[0;32m      7\u001b[0m     end \u001b[38;5;241m=\u001b[39m time\u001b[38;5;241m.\u001b[39mtime()\n\u001b[0;32m      8\u001b[0m     duration \u001b[38;5;241m=\u001b[39m end \u001b[38;5;241m-\u001b[39m start\n",
      "\u001b[1;31mTypeError\u001b[0m: slow_function() missing 1 required positional argument: 'arg'"
     ]
    }
   ],
   "source": [
    "@timer\n",
    "def slow_function(arg):\n",
    "    time.sleep(arg)\n",
    "    print(\"Done!\")\n",
    "\n",
    "slow_function()"
   ]
  },
  {
   "cell_type": "code",
   "execution_count": 71,
   "id": "d09e2ddc-51da-477d-ba73-73580269365d",
   "metadata": {},
   "outputs": [
    {
     "name": "stdout",
     "output_type": "stream",
     "text": [
      "Done!\n",
      "Function name : slow_function took 3.0006015300750732 seconds\n"
     ]
    }
   ],
   "source": [
    "a3= slow_function(3)\n",
    "a3"
   ]
  },
  {
   "cell_type": "code",
   "execution_count": 74,
   "id": "13597db5-2198-48af-808a-adeea943e45c",
   "metadata": {},
   "outputs": [],
   "source": [
    "a3"
   ]
  },
  {
   "cell_type": "markdown",
   "id": "39639311-1c1f-4ca4-b0bd-cac408f0da30",
   "metadata": {},
   "source": [
    "# Q4 "
   ]
  },
  {
   "cell_type": "raw",
   "id": "f8ebbb6a-2397-41e7-8126-4d16d2cf80fb",
   "metadata": {},
   "source": [
    "Write a decorator @requires_admin that allows access to a function only \n",
    "if the user is an admin.\n",
    "\n",
    "Example:\n",
    "\n",
    "@requires_admin\n",
    "def delete_data(user_role):\n",
    "    print(\"Data deleted.\")\n",
    "\n",
    "delete_data(\"admin\")      # Allowed\n",
    "delete_data(\"guest\")      # Denied\n"
   ]
  },
  {
   "cell_type": "code",
   "execution_count": null,
   "id": "bd2bd8ae-cc44-41fa-8a08-b93c5786c568",
   "metadata": {},
   "outputs": [],
   "source": []
  },
  {
   "cell_type": "code",
   "execution_count": null,
   "id": "0467c4fd-31c6-4e60-a0ae-78f9616061e6",
   "metadata": {},
   "outputs": [],
   "source": []
  },
  {
   "cell_type": "code",
   "execution_count": null,
   "id": "4ebdb95d-dd97-4643-9add-a1baeb40245e",
   "metadata": {},
   "outputs": [],
   "source": []
  },
  {
   "cell_type": "markdown",
   "id": "d8e2a171-4b40-4875-8a5d-370a443ad440",
   "metadata": {},
   "source": [
    "# Retry decorator\n",
    "    "
   ]
  },
  {
   "cell_type": "code",
   "execution_count": 88,
   "id": "b9ed4243-ddba-4715-832e-fc2e4501475e",
   "metadata": {},
   "outputs": [],
   "source": [
    "def retry():\n",
    "    def decorator(func):\n",
    "        \n",
    "        def wrapper(*args,**kwargs):\n",
    "            for i in range(1,n+1):\n",
    "                try:\n",
    "                    print(\"Attempt {}.....format(i)\")\n",
    "                    return func(*args,**kwargs)\n",
    "    \n",
    "                except Exception as e:\n",
    "                    print(\"Failed due to {}\".format(e))\n",
    "            else:\n",
    "                print(\"All retries has failed\")\n",
    "                \n",
    "            return wrapper\n",
    "\n",
    "    return decorator\n",
    "\n",
    "    \n",
    "                      \n",
    "                               \n",
    "            \n",
    "            "
   ]
  },
  {
   "cell_type": "code",
   "execution_count": 92,
   "id": "a8074976-cd8c-4fe6-aafe-02899399d42d",
   "metadata": {},
   "outputs": [
    {
     "ename": "TypeError",
     "evalue": "retry() got an unexpected keyword argument 'n'",
     "output_type": "error",
     "traceback": [
      "\u001b[1;31m---------------------------------------------------------------------------\u001b[0m",
      "\u001b[1;31mTypeError\u001b[0m                                 Traceback (most recent call last)",
      "Cell \u001b[1;32mIn[92], line 1\u001b[0m\n\u001b[1;32m----> 1\u001b[0m \u001b[38;5;129m@retry\u001b[39m(n\u001b[38;5;241m=\u001b[39m\u001b[38;5;241m5\u001b[39m)\n\u001b[0;32m      2\u001b[0m \u001b[38;5;28;01mdef\u001b[39;00m \u001b[38;5;21msomefunction\u001b[39m():\n\u001b[0;32m      3\u001b[0m     \u001b[38;5;28;01mif\u001b[39;00m random\u001b[38;5;241m.\u001b[39mrandom()\u001b[38;5;241m>\u001b[39m\u001b[38;5;241m0.7\u001b[39m:\n\u001b[0;32m      4\u001b[0m         \u001b[38;5;28;01mraise\u001b[39;00m \u001b[38;5;167;01mValueError\u001b[39;00m(\u001b[38;5;124m\"\u001b[39m\u001b[38;5;124mRansom value failure occured\u001b[39m\u001b[38;5;124m\"\u001b[39m)\n",
      "\u001b[1;31mTypeError\u001b[0m: retry() got an unexpected keyword argument 'n'"
     ]
    }
   ],
   "source": [
    "@retry(n=5)\n",
    "def somefunction():\n",
    "    if random.random()>0.7:\n",
    "        raise ValueError(\"Ransom value failure occured\")\n",
    "    print(\"Program executed\")"
   ]
  },
  {
   "cell_type": "code",
   "execution_count": 91,
   "id": "d9d0721f-f0af-46d6-ac75-bfc1c3efbb82",
   "metadata": {},
   "outputs": [
    {
     "name": "stdout",
     "output_type": "stream",
     "text": [
      "Attempt 1...\n",
      "Program executed successfully\n"
     ]
    }
   ],
   "source": [
    "somefunction()"
   ]
  },
  {
   "cell_type": "raw",
   "id": "01c090bd-364a-429a-9e72-0ba00bd61f97",
   "metadata": {},
   "source": [
    "import random\n",
    "\n",
    "def retry(n=3):  # Accept retry count\n",
    "    def decorator(func):\n",
    "        def wrapper(*args, **kwargs):\n",
    "            for i in range(1, n + 1):\n",
    "                try:\n",
    "                    print(\"Attempt {}...\".format(i))\n",
    "                    return func(*args, **kwargs)\n",
    "                except Exception as e:\n",
    "                    print(\"Failed due to: {}\".format(e))\n",
    "            else:\n",
    "                print(\"All retries have failed.\")\n",
    "        return wrapper\n",
    "    return decorator\n",
    "\n",
    "@retry(n=5)\n",
    "def somefunction():\n",
    "    if random.random() > 0.7:\n",
    "        raise ValueError(\"Random value failure occurred\")\n",
    "    print(\"Program executed successfully\")\n",
    "\n",
    "# Run the function\n",
    "somefunction()\n"
   ]
  },
  {
   "cell_type": "code",
   "execution_count": 96,
   "id": "9f14b2c7-8edb-4452-a607-e7f1078c90a4",
   "metadata": {},
   "outputs": [
    {
     "name": "stdout",
     "output_type": "stream",
     "text": [
      "Attempt 1...\n",
      "Failed due to: somefunction() takes 0 positional arguments but 1 was given\n",
      "Attempt 2...\n",
      "Failed due to: somefunction() takes 0 positional arguments but 1 was given\n",
      "Attempt 3...\n",
      "Failed due to: somefunction() takes 0 positional arguments but 1 was given\n",
      "All retries have failed.\n"
     ]
    }
   ],
   "source": [
    "import random\n",
    "\n",
    "def retry(n=3):  # <-- Accept retry attempts\n",
    "    def decorator(func):\n",
    "        def wrapper(*args, **kwargs):\n",
    "            for i in range(1, n + 1):\n",
    "                try:\n",
    "                    print(\"Attempt {}...\".format(i))\n",
    "                    return func(*args, **kwargs)\n",
    "                except Exception as e:\n",
    "                    print(\"Failed due to: {}\".format(e))\n",
    "            else:\n",
    "                print(\"All retries have failed.\")\n",
    "        return wrapper\n",
    "    return decorator\n",
    "\n",
    "@retry()\n",
    "def somefunction():\n",
    "    if random.random() > 0.7:\n",
    "        raise ValueError(\"Random value failure occurred\")\n",
    "    print(\"Program executed successfully\")\n",
    "\n",
    "# Run it\n",
    "somefunction(7)\n"
   ]
  },
  {
   "cell_type": "markdown",
   "id": "f21bd52f-2369-4076-b959-cfac95e4185e",
   "metadata": {},
   "source": [
    "# lab Session2"
   ]
  },
  {
   "cell_type": "raw",
   "id": "7382615b-c33d-472b-ba95-d21839f286e4",
   "metadata": {},
   "source": [
    "Problem Statement #1:\n",
    "--------------------------------------------------------\n",
    "\n",
    "Create a Python class called Circle that represents a circle. The class should allow the following:\n",
    "\n",
    "Use @property to return the circumference of the circle using the formula 2 * π * radius.\n",
    "\n",
    "Use @classmethod to create a Circle instance from a diameter.\n",
    "\n",
    "Use @staticmethod to check if a given value is a valid radius (i.e., a positive number).\n",
    "\n",
    "Problem Statement #2\n",
    "--------------------------------------------------------\n",
    "\n",
    "Create a class called BankAccount to represent a user’s bank account. \n",
    "The class should allow the following:\n",
    "\n",
    "Use @property to return the current balance with a message like \"Your balance is ₹5000\".\n",
    "\n",
    "Use @classmethod to create a BankAccount from a dictionary containing account details like:\n",
    "{\"name\": \"Alice\", \"balance\": 10000}\n",
    "\n",
    "Use @staticmethod to check if a given withdrawal amount is valid, i.e., \n",
    "it must be a positive number and less than or equal to the current balance.\n",
    "\n"
   ]
  },
  {
   "cell_type": "raw",
   "id": "d5632576-77d7-4166-9e20-acc2bbd4cf17",
   "metadata": {},
   "source": [
    "Problem Statement #1:\n",
    "--------------------------------------------------------\n",
    "\n",
    "Create a Python class called Circle that represents a circle. The class should allow the following:\n",
    "\n",
    "Use @property to return the circumference of the circle using the formula 2 * π * radius.\n",
    "\n",
    "Use @classmethod to create a Circle instance from a diameter.\n",
    "\n",
    "Use @staticmethod to check if a given value is a valid radius (i.e., a positive number).\n"
   ]
  },
  {
   "cell_type": "code",
   "execution_count": 107,
   "id": "d8bfdb7e-ccee-4634-89ac-f84d26b3e38c",
   "metadata": {},
   "outputs": [],
   "source": [
    "class circle():\n",
    "\n",
    "    def __init__(self, radius):\n",
    "        self.radius=radius\n",
    "\n",
    "    @property\n",
    "    def circumference(self):\n",
    "        return 2*3.14*self.radius\n",
    "        \n",
    "    @classmethod \n",
    "    def from_diameter(cls,diameter):\n",
    "        radius=diameter/2\n",
    "        return cls(radius)\n",
    "\n",
    " \n",
    "    @staticmethod\n",
    "    def is_valid(radius):\n",
    "        if not isinstance(radius, (int, float)):\n",
    "            raise TypeError(\"Radius must be a number (int or float).\")\n",
    "        if radius <= 0:\n",
    "            raise ValueError(\"Radius must be a positive number.\")\n",
    "        return True\n",
    "\n",
    "\n",
    "        \n",
    "    \n",
    "        \n"
   ]
  },
  {
   "cell_type": "code",
   "execution_count": 109,
   "id": "e7fb5da7-4c8f-4a5c-b62d-6fe1ef8c8f14",
   "metadata": {},
   "outputs": [
    {
     "name": "stdout",
     "output_type": "stream",
     "text": [
      "Radius: 5\n",
      "Circumference: 31.40\n",
      "Radius from diameter: 5.0\n",
      "Circumference: 31.40\n",
      "True\n"
     ]
    },
    {
     "ename": "ValueError",
     "evalue": "Radius must be a positive number.",
     "output_type": "error",
     "traceback": [
      "\u001b[1;31m---------------------------------------------------------------------------\u001b[0m",
      "\u001b[1;31mValueError\u001b[0m                                Traceback (most recent call last)",
      "Cell \u001b[1;32mIn[109], line 13\u001b[0m\n\u001b[0;32m     11\u001b[0m \u001b[38;5;66;03m# Test static method\u001b[39;00m\n\u001b[0;32m     12\u001b[0m \u001b[38;5;28mprint\u001b[39m(circle\u001b[38;5;241m.\u001b[39mis_valid(\u001b[38;5;241m7\u001b[39m))      \u001b[38;5;66;03m# True\u001b[39;00m\n\u001b[1;32m---> 13\u001b[0m \u001b[38;5;28mprint\u001b[39m(circle\u001b[38;5;241m.\u001b[39mis_valid(\u001b[38;5;241m-\u001b[39m\u001b[38;5;241m2\u001b[39m))     \u001b[38;5;66;03m# False\u001b[39;00m\n\u001b[0;32m     14\u001b[0m \u001b[38;5;28mprint\u001b[39m(circle\u001b[38;5;241m.\u001b[39mis_valid(\u001b[38;5;124m\"\u001b[39m\u001b[38;5;124mabc\u001b[39m\u001b[38;5;124m\"\u001b[39m))\n",
      "Cell \u001b[1;32mIn[107], line 21\u001b[0m, in \u001b[0;36mcircle.is_valid\u001b[1;34m(radius)\u001b[0m\n\u001b[0;32m     19\u001b[0m     \u001b[38;5;28;01mraise\u001b[39;00m \u001b[38;5;167;01mTypeError\u001b[39;00m(\u001b[38;5;124m\"\u001b[39m\u001b[38;5;124mRadius must be a number (int or float).\u001b[39m\u001b[38;5;124m\"\u001b[39m)\n\u001b[0;32m     20\u001b[0m \u001b[38;5;28;01mif\u001b[39;00m radius \u001b[38;5;241m<\u001b[39m\u001b[38;5;241m=\u001b[39m \u001b[38;5;241m0\u001b[39m:\n\u001b[1;32m---> 21\u001b[0m     \u001b[38;5;28;01mraise\u001b[39;00m \u001b[38;5;167;01mValueError\u001b[39;00m(\u001b[38;5;124m\"\u001b[39m\u001b[38;5;124mRadius must be a positive number.\u001b[39m\u001b[38;5;124m\"\u001b[39m)\n\u001b[0;32m     22\u001b[0m \u001b[38;5;28;01mreturn\u001b[39;00m \u001b[38;5;28;01mTrue\u001b[39;00m\n",
      "\u001b[1;31mValueError\u001b[0m: Radius must be a positive number."
     ]
    }
   ],
   "source": [
    "# Create a Circle from radius directly\n",
    "c1 = circle(5)\n",
    "print(f\"Radius: {c1.radius}\")  # 5\n",
    "print(f\"Circumference: {c1.circumference:.2f}\")  # 2 * π * 5 = 31.42\n",
    "\n",
    "# Create a Circle using the class method from diameter\n",
    "c2 = circle.from_diameter(10)\n",
    "print(f\"Radius from diameter: {c2.radius}\")  # 5.0\n",
    "print(f\"Circumference: {c2.circumference:.2f}\")  # 2 * π * 5 = 31.42\n",
    "\n",
    "# Test static method\n",
    "print(circle.is_valid(7))      # True\n",
    "print(circle.is_valid(-2))     # False\n",
    "print(circle.is_valid(\"abc\"))  # False\n"
   ]
  },
  {
   "cell_type": "code",
   "execution_count": 110,
   "id": "e4bfe041-3a8f-4b61-be62-ce02f7fd1dc0",
   "metadata": {},
   "outputs": [
    {
     "name": "stdout",
     "output_type": "stream",
     "text": [
      "True\n",
      "Caught error for -2: Radius must be a positive number.\n",
      "Caught error for 'abc': Radius must be a number (int or float).\n"
     ]
    }
   ],
   "source": [
    "print(circle.is_valid(7))  # ✅\n",
    "\n",
    "try:\n",
    "    print(circle.is_valid(-2))  # ❌ Raises ValueError\n",
    "except Exception as e:\n",
    "    print(\"Caught error for -2:\", e)\n",
    "\n",
    "try:\n",
    "    print(circle.is_valid(\"abc\"))  # ❌ Raises TypeError\n",
    "except Exception as e:\n",
    "    print(\"Caught error for 'abc':\", e)\n"
   ]
  },
  {
   "cell_type": "markdown",
   "id": "83dd584f-7197-40e5-b386-720b7ff0edb9",
   "metadata": {},
   "source": [
    "# Q2"
   ]
  },
  {
   "cell_type": "raw",
   "id": "4908a330-2ea7-44ab-a550-353e940f9302",
   "metadata": {},
   "source": [
    "\n",
    "Problem Statement #2\n",
    "--------------------------------------------------------\n",
    "\n",
    "Create a class called BankAccount to represent a user’s bank account. \n",
    "The class should allow the following:\n",
    "\n",
    "Use @property to return the current balance with a message like \"Your balance is ₹5000\".\n",
    "\n",
    "Use @classmethod to create a BankAccount from a dictionary containing account details like:\n",
    "{\"name\": \"Alice\", \"balance\": 10000}\n",
    "\n",
    "Use @staticmethod to check if a given withdrawal amount is valid, i.e., \n",
    "it must be a positive number and less than or equal to the current balance.\n",
    "\n"
   ]
  },
  {
   "cell_type": "code",
   "execution_count": 111,
   "id": "40a09b64-8758-4bbd-8920-949fd78996e8",
   "metadata": {},
   "outputs": [],
   "source": [
    "class BankAccount:\n",
    "    def __init__(self, name, balance):\n",
    "        self.name = name\n",
    "        self._balance = balance  # Using _balance to indicate it's internal\n",
    "\n",
    "    @property\n",
    "    def balance(self):\n",
    "        return f\"Your balance is ₹{self._balance}\"\n",
    "\n",
    "    @classmethod\n",
    "    def from_dict(cls, account_info):\n",
    "        name = account_info.get(\"name\")\n",
    "        balance = account_info.get(\"balance\", 0)\n",
    "        return cls(name, balance)\n",
    "\n",
    "    @staticmethod\n",
    "    def is_valid_withdrawal(amount, current_balance):\n",
    "        if not isinstance(amount, (int, float)):\n",
    "            raise TypeError(\"Amount must be a number.\")\n",
    "        if amount <= 0:\n",
    "            raise ValueError(\"Amount must be greater than 0.\")\n",
    "        if amount > current_balance:\n",
    "            raise ValueError(\"Amount exceeds current balance.\")\n",
    "        return True\n"
   ]
  },
  {
   "cell_type": "code",
   "execution_count": 113,
   "id": "b4219fb2-e0fb-4de6-a230-4ccad756c386",
   "metadata": {},
   "outputs": [
    {
     "name": "stdout",
     "output_type": "stream",
     "text": [
      "Your balance is ₹10000\n",
      "Valid withdrawal? True\n",
      "Error: Amount exceeds current balance.\n",
      "Error: Amount must be greater than 0.\n",
      "Error: Amount must be a number.\n"
     ]
    }
   ],
   "source": [
    "# Create a bank account using from_dict classmethod\n",
    "account_data = {\"name\": \"Alice\", \"balance\": 10000}\n",
    "account = BankAccount.from_dict(account_data)\n",
    "\n",
    "# 1. Check the balance using @property\n",
    "print(account.balance)  # Expected Output: Your balance is ₹10000\n",
    "\n",
    "# 2. Try a valid withdrawal\n",
    "try:\n",
    "    is_valid = BankAccount.is_valid_withdrawal(5000, account._balance)\n",
    "    print(\"Valid withdrawal?\", is_valid)  # Expected Output: True\n",
    "except Exception as e:\n",
    "    print(\"Error:\", e)\n",
    "\n",
    "# 3. Try an invalid withdrawal (greater than balance)\n",
    "try:\n",
    "    BankAccount.is_valid_withdrawal(15000, account._balance)\n",
    "except Exception as e:\n",
    "    print(\"Error:\", e)  # Expected Output: ValueError\n",
    "\n",
    "# 4. Try a negative withdrawal\n",
    "try:\n",
    "    BankAccount.is_valid_withdrawal(-100, account._balance)\n",
    "except Exception as e:\n",
    "    print(\"Error:\", e)  # Expected Output: ValueError\n",
    "\n",
    "# 5. Try a non-numeric withdrawal\n",
    "try:\n",
    "    BankAccount.is_valid_withdrawal(\"five thousand\", account._balance)\n",
    "except Exception as e:\n",
    "    print(\"Error:\", e)  # Expected Output: TypeError\n"
   ]
  },
  {
   "cell_type": "code",
   "execution_count": 114,
   "id": "521187ef-863b-4774-b0fc-9ddaf4071c0d",
   "metadata": {},
   "outputs": [
    {
     "name": "stdout",
     "output_type": "stream",
     "text": [
      "Alice\n",
      "Your balance is ₹10000\n"
     ]
    }
   ],
   "source": [
    "# Create a dictionary of user data\n",
    "account_data = {\"name\": \"Alice\", \"balance\": 10000}\n",
    "\n",
    "# Use the classmethod to create a new BankAccount instance\n",
    "acc = BankAccount.from_dict(account_data)\n",
    "\n",
    "# Print to verify\n",
    "print(acc.name)        # Output: Alice\n",
    "print(acc.balance)     # Output: Your balance is ₹10000\n"
   ]
  },
  {
   "cell_type": "code",
   "execution_count": null,
   "id": "7aa78e6e-b7a0-4222-b6cf-4e455edb637d",
   "metadata": {},
   "outputs": [],
   "source": []
  }
 ],
 "metadata": {
  "kernelspec": {
   "display_name": "Python 3 (ipykernel)",
   "language": "python",
   "name": "python3"
  },
  "language_info": {
   "codemirror_mode": {
    "name": "ipython",
    "version": 3
   },
   "file_extension": ".py",
   "mimetype": "text/x-python",
   "name": "python",
   "nbconvert_exporter": "python",
   "pygments_lexer": "ipython3",
   "version": "3.12.4"
  }
 },
 "nbformat": 4,
 "nbformat_minor": 5
}
