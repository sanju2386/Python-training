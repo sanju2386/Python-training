{
 "cells": [
  {
   "cell_type": "markdown",
   "id": "f393cda5-17c5-463c-b8e1-22a35b51fc5a",
   "metadata": {},
   "source": [
    "# list, tuples, Dictionary"
   ]
  },
  {
   "cell_type": "markdown",
   "id": "191845fc-a00f-427d-8035-cb9528d73adb",
   "metadata": {},
   "source": [
    "# list"
   ]
  },
  {
   "cell_type": "code",
   "execution_count": 1,
   "id": "922509ae-2b77-4b01-b07c-91e86ea01cde",
   "metadata": {},
   "outputs": [],
   "source": [
    "l=[1,2,3,4,'red','blue',['cat','dog'],int,bin,oct]\n"
   ]
  },
  {
   "cell_type": "code",
   "execution_count": 2,
   "id": "605c5c48-b115-4b1e-b649-d2381472db61",
   "metadata": {},
   "outputs": [
    {
     "data": {
      "text/plain": [
       "list"
      ]
     },
     "execution_count": 2,
     "metadata": {},
     "output_type": "execute_result"
    }
   ],
   "source": [
    "type(l)"
   ]
  },
  {
   "cell_type": "markdown",
   "id": "8f9337a6-32f0-4c6b-a7c6-145e0301f9ac",
   "metadata": {},
   "source": [
    "# Mutablity"
   ]
  },
  {
   "cell_type": "code",
   "execution_count": 3,
   "id": "9a726ae8-f113-4271-8dc3-57c8b27db7d4",
   "metadata": {},
   "outputs": [
    {
     "data": {
      "text/plain": [
       "3"
      ]
     },
     "execution_count": 3,
     "metadata": {},
     "output_type": "execute_result"
    }
   ],
   "source": [
    "l[2]"
   ]
  },
  {
   "cell_type": "code",
   "execution_count": 8,
   "id": "12d76172-cae0-4483-a09a-116ff1b63645",
   "metadata": {},
   "outputs": [
    {
     "data": {
      "text/plain": [
       "[1,\n",
       " 2,\n",
       " 3.14,\n",
       " 4,\n",
       " 'red',\n",
       " 'blue',\n",
       " ['cat', 'dog'],\n",
       " int,\n",
       " <function bin(number, /)>,\n",
       " <function oct(number, /)>]"
      ]
     },
     "execution_count": 8,
     "metadata": {},
     "output_type": "execute_result"
    }
   ],
   "source": [
    "l[2]=3.14\n",
    "l"
   ]
  },
  {
   "cell_type": "code",
   "execution_count": 7,
   "id": "9bbf3604-6e45-4904-88fd-8778ba33cf38",
   "metadata": {},
   "outputs": [
    {
     "name": "stdout",
     "output_type": "stream",
     "text": [
      "[1, 2, 3.14, 4, 'red', 'blue', ['cat', 'dog'], <class 'int'>, <built-in function bin>, <built-in function oct>]\n"
     ]
    }
   ],
   "source": [
    "print(l)"
   ]
  },
  {
   "cell_type": "markdown",
   "id": "15c9ec60-f13c-47ef-8fc2-1d7ef024d335",
   "metadata": {},
   "source": [
    "# Subscripting"
   ]
  },
  {
   "cell_type": "code",
   "execution_count": 9,
   "id": "9d304d7d-960f-49c2-8338-193f079085cc",
   "metadata": {},
   "outputs": [
    {
     "data": {
      "text/plain": [
       "2"
      ]
     },
     "execution_count": 9,
     "metadata": {},
     "output_type": "execute_result"
    }
   ],
   "source": [
    "l[1]"
   ]
  },
  {
   "cell_type": "code",
   "execution_count": 10,
   "id": "80e90ef9-d580-42eb-a103-aecc6d47fabd",
   "metadata": {},
   "outputs": [
    {
     "data": {
      "text/plain": [
       "<function oct(number, /)>"
      ]
     },
     "execution_count": 10,
     "metadata": {},
     "output_type": "execute_result"
    }
   ],
   "source": [
    "l[-1]"
   ]
  },
  {
   "cell_type": "code",
   "execution_count": 11,
   "id": "83d52b7d-0857-4f22-b031-e16f60b758e4",
   "metadata": {},
   "outputs": [
    {
     "data": {
      "text/plain": [
       "[2, 4]"
      ]
     },
     "execution_count": 11,
     "metadata": {},
     "output_type": "execute_result"
    }
   ],
   "source": [
    "l[1:4:2]"
   ]
  },
  {
   "cell_type": "code",
   "execution_count": 12,
   "id": "03daa9c0-be31-4c08-82c3-6567b9ffe8fa",
   "metadata": {},
   "outputs": [
    {
     "data": {
      "text/plain": [
       "[2, 3.14, 4]"
      ]
     },
     "execution_count": 12,
     "metadata": {},
     "output_type": "execute_result"
    }
   ],
   "source": [
    "l[1:4]"
   ]
  },
  {
   "cell_type": "code",
   "execution_count": 13,
   "id": "616a5a9e-4361-445f-b385-6d7d6d65f3e9",
   "metadata": {},
   "outputs": [
    {
     "data": {
      "text/plain": [
       "[<function oct(number, /)>,\n",
       " <function bin(number, /)>,\n",
       " int,\n",
       " ['cat', 'dog'],\n",
       " 'blue',\n",
       " 'red',\n",
       " 4,\n",
       " 3.14,\n",
       " 2,\n",
       " 1]"
      ]
     },
     "execution_count": 13,
     "metadata": {},
     "output_type": "execute_result"
    }
   ],
   "source": [
    "l[::-1]"
   ]
  },
  {
   "cell_type": "markdown",
   "id": "6bbafee4-ab4a-4747-adca-5b72f8e20a3a",
   "metadata": {},
   "source": [
    "# operations in list"
   ]
  },
  {
   "cell_type": "code",
   "execution_count": 14,
   "id": "0900697b-3be1-4062-b7ed-a497b5c8284d",
   "metadata": {},
   "outputs": [
    {
     "data": {
      "text/plain": [
       "[1, 2, 3, 4, 5, 6]"
      ]
     },
     "execution_count": 14,
     "metadata": {},
     "output_type": "execute_result"
    }
   ],
   "source": [
    "[1,2,3] + [4,5,6]"
   ]
  },
  {
   "cell_type": "code",
   "execution_count": 15,
   "id": "c229b09b-e0b5-4fe4-8c8e-03a16c5fb238",
   "metadata": {},
   "outputs": [
    {
     "data": {
      "text/plain": [
       "[1, 2, 3, 1, 2, 3, 1, 2, 3]"
      ]
     },
     "execution_count": 15,
     "metadata": {},
     "output_type": "execute_result"
    }
   ],
   "source": [
    "[1,2,3]*3"
   ]
  },
  {
   "cell_type": "code",
   "execution_count": 17,
   "id": "6c13fdec-5c70-4651-a222-89b6e9da120c",
   "metadata": {},
   "outputs": [
    {
     "data": {
      "text/plain": [
       "True"
      ]
     },
     "execution_count": 17,
     "metadata": {},
     "output_type": "execute_result"
    }
   ],
   "source": [
    "'blue' in l"
   ]
  },
  {
   "cell_type": "code",
   "execution_count": 20,
   "id": "f4e0c458-b9a5-4004-9387-8e8d89caff48",
   "metadata": {},
   "outputs": [
    {
     "data": {
      "text/plain": [
       "True"
      ]
     },
     "execution_count": 20,
     "metadata": {},
     "output_type": "execute_result"
    }
   ],
   "source": [
    "isinstance(l,list)"
   ]
  },
  {
   "cell_type": "markdown",
   "id": "44709d69-262c-4ba2-845c-17f3ccd9fb69",
   "metadata": {},
   "source": [
    "# Adding elemnts to list "
   ]
  },
  {
   "cell_type": "code",
   "execution_count": 22,
   "id": "a0482826-8a63-43ec-8221-c341f03dad62",
   "metadata": {},
   "outputs": [],
   "source": [
    "l1=['red','green' ,'blue']\n"
   ]
  },
  {
   "cell_type": "code",
   "execution_count": 23,
   "id": "5882a179-7dc6-4d76-a312-ca802ba729a9",
   "metadata": {},
   "outputs": [
    {
     "data": {
      "text/plain": [
       "['red', 'green', 'blue', 'yellow']"
      ]
     },
     "execution_count": 23,
     "metadata": {},
     "output_type": "execute_result"
    }
   ],
   "source": [
    "l1.append('yellow')\n",
    "l1"
   ]
  },
  {
   "cell_type": "code",
   "execution_count": 29,
   "id": "3b02ae90-9d4a-436d-83fa-ad39c0f81df7",
   "metadata": {},
   "outputs": [
    {
     "name": "stdout",
     "output_type": "stream",
     "text": [
      "2\n"
     ]
    }
   ],
   "source": [
    "l1.append('orange')\n",
    "l1\n",
    "print(l1.index('green'))"
   ]
  },
  {
   "cell_type": "code",
   "execution_count": 25,
   "id": "1cfa89fd-38c8-449e-9ddf-953693a6e6df",
   "metadata": {},
   "outputs": [
    {
     "data": {
      "text/plain": [
       "['red', 'golden', 'green', 'blue', 'yellow', 'orange']"
      ]
     },
     "execution_count": 25,
     "metadata": {},
     "output_type": "execute_result"
    }
   ],
   "source": [
    "l1.insert(1,\"golden\")\n",
    "l1"
   ]
  },
  {
   "cell_type": "code",
   "execution_count": 26,
   "id": "78ec7d33-e9d0-423f-b510-7a4ba3cd64d4",
   "metadata": {},
   "outputs": [
    {
     "data": {
      "text/plain": [
       "['white', 'grey', 'black']"
      ]
     },
     "execution_count": 26,
     "metadata": {},
     "output_type": "execute_result"
    }
   ],
   "source": [
    "l2=[\"white\",\"grey\",\"black\"]\n",
    "l2"
   ]
  },
  {
   "cell_type": "code",
   "execution_count": 28,
   "id": "78fc1608-5080-481b-8cfc-c5918593ce60",
   "metadata": {},
   "outputs": [
    {
     "data": {
      "text/plain": [
       "['red',\n",
       " 'golden',\n",
       " 'green',\n",
       " 'blue',\n",
       " 'yellow',\n",
       " 'orange',\n",
       " 'white',\n",
       " 'grey',\n",
       " 'black',\n",
       " 'white',\n",
       " 'grey',\n",
       " 'black']"
      ]
     },
     "execution_count": 28,
     "metadata": {},
     "output_type": "execute_result"
    }
   ],
   "source": [
    "l1.extend(l2)\n",
    "l1"
   ]
  },
  {
   "cell_type": "code",
   "execution_count": 30,
   "id": "61c1b30d-ab02-416a-ad5b-c885dbb60ef7",
   "metadata": {},
   "outputs": [
    {
     "data": {
      "text/plain": [
       "['white', 'grey', 'black']"
      ]
     },
     "execution_count": 30,
     "metadata": {},
     "output_type": "execute_result"
    }
   ],
   "source": [
    "l2"
   ]
  },
  {
   "cell_type": "code",
   "execution_count": 32,
   "id": "f89dc9ae-c4c7-460e-adab-d3c244bddc1a",
   "metadata": {},
   "outputs": [
    {
     "data": {
      "text/plain": [
       "['white', 'grey', 'black', 'violet', 'violet']"
      ]
     },
     "execution_count": 32,
     "metadata": {},
     "output_type": "execute_result"
    }
   ],
   "source": [
    "l2.insert(4,\"violet\")\n",
    "l2"
   ]
  },
  {
   "cell_type": "code",
   "execution_count": 33,
   "id": "f19e0bfa-b0d1-4c34-bbe7-973189ba80b3",
   "metadata": {},
   "outputs": [
    {
     "data": {
      "text/plain": [
       "['white', 'grey', 'black', 'violet', 'violet', 'brown']"
      ]
     },
     "execution_count": 33,
     "metadata": {},
     "output_type": "execute_result"
    }
   ],
   "source": [
    "l2.insert(5,\"brown\")\n",
    "l2"
   ]
  },
  {
   "cell_type": "code",
   "execution_count": 34,
   "id": "6082f29f-771b-48e5-8ca7-9cd8166bac1f",
   "metadata": {},
   "outputs": [],
   "source": [
    "l2.remove(\"violet\")"
   ]
  },
  {
   "cell_type": "code",
   "execution_count": 35,
   "id": "e31d7817-05ca-4717-8c03-aef828aa3131",
   "metadata": {},
   "outputs": [
    {
     "data": {
      "text/plain": [
       "['white', 'grey', 'black', 'violet', 'brown']"
      ]
     },
     "execution_count": 35,
     "metadata": {},
     "output_type": "execute_result"
    }
   ],
   "source": [
    "l2"
   ]
  },
  {
   "cell_type": "code",
   "execution_count": 36,
   "id": "b747cec8-92cc-4911-a621-7fab26dbceed",
   "metadata": {},
   "outputs": [
    {
     "data": {
      "text/plain": [
       "['white', 'grey', 'black', 'violet', 'brown']"
      ]
     },
     "execution_count": 36,
     "metadata": {},
     "output_type": "execute_result"
    }
   ],
   "source": [
    "l2"
   ]
  },
  {
   "cell_type": "code",
   "execution_count": 37,
   "id": "5c4cb973-0bcb-40cc-a31f-cee9b74b71d8",
   "metadata": {},
   "outputs": [
    {
     "data": {
      "text/plain": [
       "['white', 'grey', 'black', 'brown']"
      ]
     },
     "execution_count": 37,
     "metadata": {},
     "output_type": "execute_result"
    }
   ],
   "source": [
    "l2.remove(\"violet\")\n",
    "l2"
   ]
  },
  {
   "cell_type": "code",
   "execution_count": 38,
   "id": "b42913a4-c4d5-45d4-ada0-0d1bf42e2246",
   "metadata": {},
   "outputs": [
    {
     "data": {
      "text/plain": [
       "['white', 'grey', 'black', 'brown', 'violet']"
      ]
     },
     "execution_count": 38,
     "metadata": {},
     "output_type": "execute_result"
    }
   ],
   "source": [
    "l2.insert(4,\"violet\")\n",
    "l2"
   ]
  },
  {
   "cell_type": "markdown",
   "id": "854d03de-3f2c-4e5a-a39d-65edb25b8a79",
   "metadata": {},
   "source": [
    "# modifying elements of list "
   ]
  },
  {
   "cell_type": "code",
   "execution_count": 39,
   "id": "9ac044dd-8093-45cc-8bef-4863d094a03e",
   "metadata": {},
   "outputs": [
    {
     "data": {
      "text/plain": [
       "[1,\n",
       " 2,\n",
       " 3.14,\n",
       " 4,\n",
       " 'red',\n",
       " 'blue',\n",
       " ['cat', 'dog'],\n",
       " int,\n",
       " <function bin(number, /)>,\n",
       " <function oct(number, /)>]"
      ]
     },
     "execution_count": 39,
     "metadata": {},
     "output_type": "execute_result"
    }
   ],
   "source": [
    "l"
   ]
  },
  {
   "cell_type": "code",
   "execution_count": 40,
   "id": "09812411-68dd-44a0-bae6-98bbad200899",
   "metadata": {},
   "outputs": [
    {
     "data": {
      "text/plain": [
       "['red',\n",
       " 'golden',\n",
       " 'green',\n",
       " 'blue',\n",
       " 'yellow',\n",
       " 'orange',\n",
       " 'white',\n",
       " 'grey',\n",
       " 'black',\n",
       " 'white',\n",
       " 'grey',\n",
       " 'black',\n",
       " 'orange']"
      ]
     },
     "execution_count": 40,
     "metadata": {},
     "output_type": "execute_result"
    }
   ],
   "source": [
    "l1"
   ]
  },
  {
   "cell_type": "code",
   "execution_count": 41,
   "id": "d53953ff-8c3f-45f4-a16e-fb57eee95784",
   "metadata": {},
   "outputs": [
    {
     "data": {
      "text/plain": [
       "['red',\n",
       " 'golden',\n",
       " 'green',\n",
       " 'blue',\n",
       " 'aqua',\n",
       " 'orange',\n",
       " 'white',\n",
       " 'grey',\n",
       " 'black',\n",
       " 'white',\n",
       " 'grey',\n",
       " 'black',\n",
       " 'orange']"
      ]
     },
     "execution_count": 41,
     "metadata": {},
     "output_type": "execute_result"
    }
   ],
   "source": [
    "l1[4] ='aqua'\n",
    "l1"
   ]
  },
  {
   "cell_type": "code",
   "execution_count": 42,
   "id": "9ae965dd-84e4-42b2-9b76-1f76919a08fb",
   "metadata": {},
   "outputs": [
    {
     "data": {
      "text/plain": [
       "['white', 'grey', 'black', 'brown', 'violet']"
      ]
     },
     "execution_count": 42,
     "metadata": {},
     "output_type": "execute_result"
    }
   ],
   "source": [
    "l2"
   ]
  },
  {
   "cell_type": "code",
   "execution_count": 43,
   "id": "555faa59-e64d-4b22-8c0b-007bdd0fda82",
   "metadata": {},
   "outputs": [
    {
     "data": {
      "text/plain": [
       "['red',\n",
       " 'golden',\n",
       " 'green',\n",
       " 'blue',\n",
       " ['white', 'grey', 'black', 'brown', 'violet'],\n",
       " 'orange',\n",
       " 'white',\n",
       " 'grey',\n",
       " 'black',\n",
       " 'white',\n",
       " 'grey',\n",
       " 'black',\n",
       " 'orange']"
      ]
     },
     "execution_count": 43,
     "metadata": {},
     "output_type": "execute_result"
    }
   ],
   "source": [
    "l1[4]=l2\n",
    "l1"
   ]
  },
  {
   "cell_type": "code",
   "execution_count": 45,
   "id": "50e3a9b4-e530-4811-9c66-03b9eb95e72c",
   "metadata": {},
   "outputs": [
    {
     "data": {
      "text/plain": [
       "['red',\n",
       " 'golden',\n",
       " 'green',\n",
       " 'blue',\n",
       " ['white', 'golden', 'black', 'golden', 'violet'],\n",
       " 'orange',\n",
       " 'white',\n",
       " 'grey',\n",
       " 'black',\n",
       " 'white',\n",
       " 'grey',\n",
       " 'black',\n",
       " 'orange']"
      ]
     },
     "execution_count": 45,
     "metadata": {},
     "output_type": "execute_result"
    }
   ],
   "source": [
    "l1[4][1]='golden'\n",
    "l1"
   ]
  },
  {
   "cell_type": "code",
   "execution_count": 46,
   "id": "1952ce24-aa27-4e63-a838-a78bc553add1",
   "metadata": {},
   "outputs": [
    {
     "data": {
      "text/plain": [
       "['red',\n",
       " 'golden',\n",
       " 'green',\n",
       " 'blue',\n",
       " ['white', 'golden', 'black', 'brown', 'violet'],\n",
       " 'orange',\n",
       " 'white',\n",
       " 'grey',\n",
       " 'black',\n",
       " 'white',\n",
       " 'grey',\n",
       " 'black',\n",
       " 'orange']"
      ]
     },
     "execution_count": 46,
     "metadata": {},
     "output_type": "execute_result"
    }
   ],
   "source": [
    "l1[4][3]='brown'\n",
    "l1"
   ]
  },
  {
   "cell_type": "code",
   "execution_count": 47,
   "id": "34e5ba6a-6af6-45c6-bbbd-d2f922c79f57",
   "metadata": {},
   "outputs": [
    {
     "data": {
      "text/plain": [
       "['red',\n",
       " 'golden',\n",
       " 'green',\n",
       " 'blue',\n",
       " ['white', 'golden', 'black', 'brown', 'violet'],\n",
       " 'orange',\n",
       " 'white',\n",
       " 'grey',\n",
       " 'black',\n",
       " 'white',\n",
       " 'grey',\n",
       " 'black',\n",
       " 'orange']"
      ]
     },
     "execution_count": 47,
     "metadata": {},
     "output_type": "execute_result"
    }
   ],
   "source": [
    "l1"
   ]
  },
  {
   "cell_type": "code",
   "execution_count": 48,
   "id": "ac2790a1-9fc4-48bb-a259-0a904d1a2ee9",
   "metadata": {},
   "outputs": [
    {
     "data": {
      "text/plain": [
       "['red',\n",
       " 'p',\n",
       " 'i',\n",
       " 'n',\n",
       " 'k',\n",
       " ['white', 'golden', 'black', 'brown', 'violet'],\n",
       " 'orange',\n",
       " 'white',\n",
       " 'grey',\n",
       " 'black',\n",
       " 'white',\n",
       " 'grey',\n",
       " 'black',\n",
       " 'orange']"
      ]
     },
     "execution_count": 48,
     "metadata": {},
     "output_type": "execute_result"
    }
   ],
   "source": [
    "l1[1:4]='pink'\n",
    "l1"
   ]
  },
  {
   "cell_type": "markdown",
   "id": "674a9313-1f0d-4b8e-b4c3-adb8b3d67ee2",
   "metadata": {},
   "source": [
    "# Remove elements from list"
   ]
  },
  {
   "cell_type": "code",
   "execution_count": 49,
   "id": "588ea51a-547f-4261-9aeb-ba23d5839c6c",
   "metadata": {},
   "outputs": [
    {
     "data": {
      "text/plain": [
       "['white', 'golden', 'black', 'brown', 'violet']"
      ]
     },
     "execution_count": 49,
     "metadata": {},
     "output_type": "execute_result"
    }
   ],
   "source": [
    "l2"
   ]
  },
  {
   "cell_type": "code",
   "execution_count": 50,
   "id": "aa2f1abf-453e-4867-bb7c-13115643c829",
   "metadata": {},
   "outputs": [
    {
     "data": {
      "text/plain": [
       "'violet'"
      ]
     },
     "execution_count": 50,
     "metadata": {},
     "output_type": "execute_result"
    }
   ],
   "source": [
    "l2.pop()"
   ]
  },
  {
   "cell_type": "code",
   "execution_count": 51,
   "id": "17e88efb-28e8-4cd8-9e5b-647a050c28e6",
   "metadata": {},
   "outputs": [
    {
     "data": {
      "text/plain": [
       "['white', 'golden', 'black', 'brown']"
      ]
     },
     "execution_count": 51,
     "metadata": {},
     "output_type": "execute_result"
    }
   ],
   "source": [
    "l2"
   ]
  },
  {
   "cell_type": "code",
   "execution_count": 52,
   "id": "86321614-5440-4031-819e-f3efeeba997c",
   "metadata": {},
   "outputs": [
    {
     "data": {
      "text/plain": [
       "'black'"
      ]
     },
     "execution_count": 52,
     "metadata": {},
     "output_type": "execute_result"
    }
   ],
   "source": [
    "l2.pop(-2)"
   ]
  },
  {
   "cell_type": "code",
   "execution_count": 53,
   "id": "2539b1ee-58a6-447b-a78b-e65a34c1c0bc",
   "metadata": {},
   "outputs": [
    {
     "data": {
      "text/plain": [
       "['red',\n",
       " 'p',\n",
       " 'i',\n",
       " 'n',\n",
       " 'k',\n",
       " ['white', 'golden', 'brown'],\n",
       " 'orange',\n",
       " 'white',\n",
       " 'grey',\n",
       " 'black',\n",
       " 'white',\n",
       " 'grey',\n",
       " 'black',\n",
       " 'orange']"
      ]
     },
     "execution_count": 53,
     "metadata": {},
     "output_type": "execute_result"
    }
   ],
   "source": [
    "l1"
   ]
  },
  {
   "cell_type": "code",
   "execution_count": 56,
   "id": "17ac943a-0540-499d-a847-12ac4618f221",
   "metadata": {},
   "outputs": [
    {
     "data": {
      "text/plain": [
       "['red',\n",
       " 'p',\n",
       " 'i',\n",
       " 'n',\n",
       " 'k',\n",
       " ['white', 'golden', 'brown'],\n",
       " 'orange',\n",
       " 'white',\n",
       " 'black',\n",
       " 'white',\n",
       " 'black',\n",
       " 'orange']"
      ]
     },
     "execution_count": 56,
     "metadata": {},
     "output_type": "execute_result"
    }
   ],
   "source": [
    "l1.remove('grey')\n",
    "l1"
   ]
  },
  {
   "cell_type": "code",
   "execution_count": 57,
   "id": "1aec95d2-3b2f-4e33-88f0-d1182d88f479",
   "metadata": {},
   "outputs": [
    {
     "data": {
      "text/plain": [
       "['red',\n",
       " 'p',\n",
       " 'i',\n",
       " 'n',\n",
       " 'k',\n",
       " ['white', 'golden', 'brown'],\n",
       " 'orange',\n",
       " 'white',\n",
       " 'black',\n",
       " 'white',\n",
       " 'black',\n",
       " 'orange']"
      ]
     },
     "execution_count": 57,
     "metadata": {},
     "output_type": "execute_result"
    }
   ],
   "source": [
    "l1"
   ]
  },
  {
   "cell_type": "code",
   "execution_count": 58,
   "id": "2c304298-b903-4614-a9d5-3acfe759f676",
   "metadata": {},
   "outputs": [],
   "source": [
    "l1.append('black')"
   ]
  },
  {
   "cell_type": "code",
   "execution_count": 59,
   "id": "fe7599e5-0e92-4cf3-b059-abb6ad54d030",
   "metadata": {},
   "outputs": [
    {
     "data": {
      "text/plain": [
       "['red',\n",
       " 'p',\n",
       " 'i',\n",
       " 'n',\n",
       " 'k',\n",
       " ['white', 'golden', 'brown'],\n",
       " 'orange',\n",
       " 'white',\n",
       " 'black',\n",
       " 'white',\n",
       " 'black',\n",
       " 'orange',\n",
       " 'black']"
      ]
     },
     "execution_count": 59,
     "metadata": {},
     "output_type": "execute_result"
    }
   ],
   "source": [
    "l1"
   ]
  },
  {
   "cell_type": "code",
   "execution_count": 62,
   "id": "da8f3ac3-2eb6-4920-90cd-5fccbcf611c4",
   "metadata": {},
   "outputs": [],
   "source": [
    "l1.remove(\"black\")"
   ]
  },
  {
   "cell_type": "code",
   "execution_count": 63,
   "id": "dc04c8b4-3849-4a03-b151-74f042953e31",
   "metadata": {},
   "outputs": [
    {
     "data": {
      "text/plain": [
       "['red',\n",
       " 'p',\n",
       " 'i',\n",
       " 'n',\n",
       " 'k',\n",
       " ['white', 'golden', 'brown'],\n",
       " 'orange',\n",
       " 'white',\n",
       " 'white',\n",
       " 'orange',\n",
       " 'black']"
      ]
     },
     "execution_count": 63,
     "metadata": {},
     "output_type": "execute_result"
    }
   ],
   "source": [
    "l1"
   ]
  },
  {
   "cell_type": "markdown",
   "id": "5bf5f834-2786-4d40-8e68-a6fd53200298",
   "metadata": {},
   "source": [
    "# Finding Elements in list "
   ]
  },
  {
   "cell_type": "code",
   "execution_count": 64,
   "id": "2f4bfce7-1b40-446e-9b63-b766fe95e989",
   "metadata": {},
   "outputs": [
    {
     "data": {
      "text/plain": [
       "['red',\n",
       " 'p',\n",
       " 'i',\n",
       " 'n',\n",
       " 'k',\n",
       " ['white', 'golden', 'brown'],\n",
       " 'orange',\n",
       " 'white',\n",
       " 'white',\n",
       " 'orange',\n",
       " 'black']"
      ]
     },
     "execution_count": 64,
     "metadata": {},
     "output_type": "execute_result"
    }
   ],
   "source": [
    "l1\n"
   ]
  },
  {
   "cell_type": "code",
   "execution_count": 65,
   "id": "683e9bbc-cae4-467e-9226-6c3607ccb77e",
   "metadata": {},
   "outputs": [
    {
     "data": {
      "text/plain": [
       "7"
      ]
     },
     "execution_count": 65,
     "metadata": {},
     "output_type": "execute_result"
    }
   ],
   "source": [
    "l1.index('white')"
   ]
  },
  {
   "cell_type": "code",
   "execution_count": 67,
   "id": "dad8999c-0b3d-4d9d-873b-2c099a209235",
   "metadata": {},
   "outputs": [
    {
     "data": {
      "text/plain": [
       "True"
      ]
     },
     "execution_count": 67,
     "metadata": {},
     "output_type": "execute_result"
    }
   ],
   "source": [
    "'white' in l1"
   ]
  },
  {
   "cell_type": "code",
   "execution_count": 68,
   "id": "9bd5ff41-b3ab-437d-99af-13848f2f9f9d",
   "metadata": {},
   "outputs": [
    {
     "ename": "ValueError",
     "evalue": "'green' is not in list",
     "output_type": "error",
     "traceback": [
      "\u001b[1;31m---------------------------------------------------------------------------\u001b[0m",
      "\u001b[1;31mValueError\u001b[0m                                Traceback (most recent call last)",
      "Cell \u001b[1;32mIn[68], line 1\u001b[0m\n\u001b[1;32m----> 1\u001b[0m l1\u001b[38;5;241m.\u001b[39mindex(\u001b[38;5;124m\"\u001b[39m\u001b[38;5;124mgreen\u001b[39m\u001b[38;5;124m\"\u001b[39m)\n",
      "\u001b[1;31mValueError\u001b[0m: 'green' is not in list"
     ]
    }
   ],
   "source": [
    "l1.index(\"green\")"
   ]
  },
  {
   "cell_type": "markdown",
   "id": "3b2620e4-08c5-4669-bc6d-319202646138",
   "metadata": {},
   "source": [
    "# Rearranging elements in a list "
   ]
  },
  {
   "cell_type": "markdown",
   "id": "227c247d-212a-46a8-85cc-43766040a2b9",
   "metadata": {},
   "source": [
    "Reversing and sorting"
   ]
  },
  {
   "cell_type": "code",
   "execution_count": 69,
   "id": "d632809e-4c2d-47cf-b2de-12ae2c6a1e80",
   "metadata": {},
   "outputs": [
    {
     "data": {
      "text/plain": [
       "<list_reverseiterator at 0x1787156edd0>"
      ]
     },
     "execution_count": 69,
     "metadata": {},
     "output_type": "execute_result"
    }
   ],
   "source": [
    "reversed(l1)"
   ]
  },
  {
   "cell_type": "code",
   "execution_count": 70,
   "id": "c0aa7a38-e15a-41b0-ab20-01ae77366d35",
   "metadata": {},
   "outputs": [
    {
     "data": {
      "text/plain": [
       "['red',\n",
       " 'p',\n",
       " 'i',\n",
       " 'n',\n",
       " 'k',\n",
       " ['white', 'golden', 'brown'],\n",
       " 'orange',\n",
       " 'white',\n",
       " 'white',\n",
       " 'orange',\n",
       " 'black']"
      ]
     },
     "execution_count": 70,
     "metadata": {},
     "output_type": "execute_result"
    }
   ],
   "source": [
    "l1"
   ]
  },
  {
   "cell_type": "code",
   "execution_count": 71,
   "id": "359f9f52-ee95-4dae-abfc-7177e44e4bca",
   "metadata": {},
   "outputs": [
    {
     "name": "stdout",
     "output_type": "stream",
     "text": [
      "<list_reverseiterator object at 0x00000178715645B0>\n"
     ]
    }
   ],
   "source": [
    "print(reversed(l1))"
   ]
  },
  {
   "cell_type": "code",
   "execution_count": 72,
   "id": "6596d241-b83d-4580-9297-f6fa0655bdba",
   "metadata": {},
   "outputs": [
    {
     "data": {
      "text/plain": [
       "['black',\n",
       " 'orange',\n",
       " 'white',\n",
       " 'white',\n",
       " 'orange',\n",
       " ['white', 'golden', 'brown'],\n",
       " 'k',\n",
       " 'n',\n",
       " 'i',\n",
       " 'p',\n",
       " 'red']"
      ]
     },
     "execution_count": 72,
     "metadata": {},
     "output_type": "execute_result"
    }
   ],
   "source": [
    "list(reversed(l1))"
   ]
  },
  {
   "cell_type": "code",
   "execution_count": 74,
   "id": "b23a1313-d35f-4aca-9824-bfec6d4410d4",
   "metadata": {},
   "outputs": [
    {
     "ename": "TypeError",
     "evalue": "'<' not supported between instances of 'list' and 'str'",
     "output_type": "error",
     "traceback": [
      "\u001b[1;31m---------------------------------------------------------------------------\u001b[0m",
      "\u001b[1;31mTypeError\u001b[0m                                 Traceback (most recent call last)",
      "Cell \u001b[1;32mIn[74], line 1\u001b[0m\n\u001b[1;32m----> 1\u001b[0m \u001b[38;5;28msorted\u001b[39m(l1,reverse \u001b[38;5;241m=\u001b[39m\u001b[38;5;28;01mTrue\u001b[39;00m)\n",
      "\u001b[1;31mTypeError\u001b[0m: '<' not supported between instances of 'list' and 'str'"
     ]
    }
   ],
   "source": [
    "sorted(l1,reverse =True)"
   ]
  },
  {
   "cell_type": "code",
   "execution_count": 75,
   "id": "feff43f4-6a04-484a-89f0-d1bd4485bdb5",
   "metadata": {},
   "outputs": [
    {
     "ename": "NameError",
     "evalue": "name 'sort' is not defined",
     "output_type": "error",
     "traceback": [
      "\u001b[1;31m---------------------------------------------------------------------------\u001b[0m",
      "\u001b[1;31mNameError\u001b[0m                                 Traceback (most recent call last)",
      "Cell \u001b[1;32mIn[75], line 1\u001b[0m\n\u001b[1;32m----> 1\u001b[0m sort(l1)\n",
      "\u001b[1;31mNameError\u001b[0m: name 'sort' is not defined"
     ]
    }
   ],
   "source": [
    "sort(l1)"
   ]
  },
  {
   "cell_type": "code",
   "execution_count": 76,
   "id": "5936bb7d-a965-4a9a-9a1f-101b7755b60d",
   "metadata": {},
   "outputs": [
    {
     "ename": "TypeError",
     "evalue": "'<' not supported between instances of 'list' and 'str'",
     "output_type": "error",
     "traceback": [
      "\u001b[1;31m---------------------------------------------------------------------------\u001b[0m",
      "\u001b[1;31mTypeError\u001b[0m                                 Traceback (most recent call last)",
      "Cell \u001b[1;32mIn[76], line 1\u001b[0m\n\u001b[1;32m----> 1\u001b[0m l1\u001b[38;5;241m.\u001b[39msort()\n",
      "\u001b[1;31mTypeError\u001b[0m: '<' not supported between instances of 'list' and 'str'"
     ]
    }
   ],
   "source": [
    "l1.sort()"
   ]
  },
  {
   "cell_type": "code",
   "execution_count": 77,
   "id": "40f0230c-2807-4f84-85f0-6ffb335d4a57",
   "metadata": {},
   "outputs": [
    {
     "data": {
      "text/plain": [
       "[1,\n",
       " 2,\n",
       " 3.14,\n",
       " 4,\n",
       " 'red',\n",
       " 'blue',\n",
       " ['cat', 'dog'],\n",
       " int,\n",
       " <function bin(number, /)>,\n",
       " <function oct(number, /)>]"
      ]
     },
     "execution_count": 77,
     "metadata": {},
     "output_type": "execute_result"
    }
   ],
   "source": [
    "l"
   ]
  },
  {
   "cell_type": "code",
   "execution_count": 79,
   "id": "66093250-4bdb-48d5-9865-d3f2775e482f",
   "metadata": {},
   "outputs": [],
   "source": [
    "l3=l[1:5]\n"
   ]
  },
  {
   "cell_type": "code",
   "execution_count": 80,
   "id": "08ef095d-f766-4018-8a01-6d1acb06092c",
   "metadata": {},
   "outputs": [
    {
     "data": {
      "text/plain": [
       "[2, 3.14, 4, 'red']"
      ]
     },
     "execution_count": 80,
     "metadata": {},
     "output_type": "execute_result"
    }
   ],
   "source": [
    "l3"
   ]
  },
  {
   "cell_type": "code",
   "execution_count": 81,
   "id": "8cc451d5-2d86-481f-ab35-962773acf98d",
   "metadata": {},
   "outputs": [
    {
     "data": {
      "text/plain": [
       "'red'"
      ]
     },
     "execution_count": 81,
     "metadata": {},
     "output_type": "execute_result"
    }
   ],
   "source": [
    "l3.pop()"
   ]
  },
  {
   "cell_type": "code",
   "execution_count": 82,
   "id": "a30d66fd-f1e0-45a3-a582-b2eacc5759db",
   "metadata": {},
   "outputs": [
    {
     "data": {
      "text/plain": [
       "[2, 3.14, 4]"
      ]
     },
     "execution_count": 82,
     "metadata": {},
     "output_type": "execute_result"
    }
   ],
   "source": [
    "l3"
   ]
  },
  {
   "cell_type": "code",
   "execution_count": 83,
   "id": "e4351eec-43d6-4403-8d8c-94483e67eaa7",
   "metadata": {},
   "outputs": [],
   "source": [
    "l3.sort()"
   ]
  },
  {
   "cell_type": "code",
   "execution_count": 84,
   "id": "c7af504e-8e53-4979-914f-947839e9af14",
   "metadata": {},
   "outputs": [
    {
     "data": {
      "text/plain": [
       "[2, 3.14, 4]"
      ]
     },
     "execution_count": 84,
     "metadata": {},
     "output_type": "execute_result"
    }
   ],
   "source": [
    "l3"
   ]
  },
  {
   "cell_type": "code",
   "execution_count": 85,
   "id": "cbb5733e-a50e-44b8-b461-dd4bf1808e83",
   "metadata": {},
   "outputs": [
    {
     "data": {
      "text/plain": [
       "[4, 3.14, 2]"
      ]
     },
     "execution_count": 85,
     "metadata": {},
     "output_type": "execute_result"
    }
   ],
   "source": [
    "sorted(l3,reverse =True)"
   ]
  },
  {
   "cell_type": "code",
   "execution_count": 88,
   "id": "0bd08e78-c3ee-4318-a9eb-140714b8812f",
   "metadata": {},
   "outputs": [
    {
     "data": {
      "text/plain": [
       "[2, 3.14, 4]"
      ]
     },
     "execution_count": 88,
     "metadata": {},
     "output_type": "execute_result"
    }
   ],
   "source": [
    "l3.reverse()\n",
    "l3"
   ]
  },
  {
   "cell_type": "code",
   "execution_count": 89,
   "id": "981abd92-a31f-4e26-8a06-81acb7ec6661",
   "metadata": {},
   "outputs": [
    {
     "data": {
      "text/plain": [
       "[2, 3.14, 4]"
      ]
     },
     "execution_count": 89,
     "metadata": {},
     "output_type": "execute_result"
    }
   ],
   "source": [
    "l3"
   ]
  },
  {
   "cell_type": "code",
   "execution_count": 90,
   "id": "bfacff47-66db-46db-95e6-d7a7f61b2d40",
   "metadata": {},
   "outputs": [
    {
     "data": {
      "text/plain": [
       "[4, 3.14, 2]"
      ]
     },
     "execution_count": 90,
     "metadata": {},
     "output_type": "execute_result"
    }
   ],
   "source": [
    "l3.reverse()\n",
    "l3"
   ]
  },
  {
   "cell_type": "code",
   "execution_count": null,
   "id": "a79e9488-7847-4c55-bb77-dd153ca65155",
   "metadata": {},
   "outputs": [],
   "source": []
  },
  {
   "cell_type": "markdown",
   "id": "7a4025c8-4c71-4a25-8a69-6e20a4ed666a",
   "metadata": {},
   "source": [
    "# Iteration on a list"
   ]
  },
  {
   "cell_type": "code",
   "execution_count": 95,
   "id": "acbd82f3-f02a-4aac-82d8-b64bc14ac1d1",
   "metadata": {},
   "outputs": [
    {
     "name": "stdout",
     "output_type": "stream",
     "text": [
      "WHITE   GOLDEN   BROWN   "
     ]
    }
   ],
   "source": [
    "for i in l2:\n",
    "    print(i.swapcase(),end=\"   \")"
   ]
  },
  {
   "cell_type": "code",
   "execution_count": 93,
   "id": "c9a77856-d168-409c-bf5b-6cf6de0df4d2",
   "metadata": {},
   "outputs": [
    {
     "data": {
      "text/plain": [
       "['white', 'golden', 'brown']"
      ]
     },
     "execution_count": 93,
     "metadata": {},
     "output_type": "execute_result"
    }
   ],
   "source": [
    "l2"
   ]
  },
  {
   "cell_type": "code",
   "execution_count": null,
   "id": "e8d6a837-e72c-4a14-b1e8-1337034482b1",
   "metadata": {},
   "outputs": [],
   "source": []
  },
  {
   "cell_type": "markdown",
   "id": "e50900a8-d986-4018-a3be-0171f68cc804",
   "metadata": {},
   "source": [
    "# Tuple"
   ]
  },
  {
   "cell_type": "code",
   "execution_count": 96,
   "id": "da5ada89-b2ad-4d12-9cdb-f283ea0dc4ab",
   "metadata": {},
   "outputs": [],
   "source": [
    "t=('gold', 'silver','ivory')"
   ]
  },
  {
   "cell_type": "code",
   "execution_count": 97,
   "id": "26cee67a-5f2d-42c6-b652-4df1deb99c0d",
   "metadata": {},
   "outputs": [
    {
     "data": {
      "text/plain": [
       "'silver'"
      ]
     },
     "execution_count": 97,
     "metadata": {},
     "output_type": "execute_result"
    }
   ],
   "source": [
    "t[1]"
   ]
  },
  {
   "cell_type": "code",
   "execution_count": 98,
   "id": "aeb8fe5d-f944-4106-97c6-73e06f9a8dac",
   "metadata": {},
   "outputs": [
    {
     "ename": "TypeError",
     "evalue": "'tuple' object does not support item assignment",
     "output_type": "error",
     "traceback": [
      "\u001b[1;31m---------------------------------------------------------------------------\u001b[0m",
      "\u001b[1;31mTypeError\u001b[0m                                 Traceback (most recent call last)",
      "Cell \u001b[1;32mIn[98], line 1\u001b[0m\n\u001b[1;32m----> 1\u001b[0m t[\u001b[38;5;241m1\u001b[39m]\u001b[38;5;241m=\u001b[39m\u001b[38;5;124m'\u001b[39m\u001b[38;5;124mgoldy\u001b[39m\u001b[38;5;124m'\u001b[39m\n",
      "\u001b[1;31mTypeError\u001b[0m: 'tuple' object does not support item assignment"
     ]
    }
   ],
   "source": [
    "t[1]='goldy'"
   ]
  },
  {
   "cell_type": "code",
   "execution_count": 100,
   "id": "1eb6b94e-b9fc-421b-8880-6932edd9a7d3",
   "metadata": {},
   "outputs": [
    {
     "ename": "AttributeError",
     "evalue": "'tuple' object has no attribute 'append'",
     "output_type": "error",
     "traceback": [
      "\u001b[1;31m---------------------------------------------------------------------------\u001b[0m",
      "\u001b[1;31mAttributeError\u001b[0m                            Traceback (most recent call last)",
      "Cell \u001b[1;32mIn[100], line 1\u001b[0m\n\u001b[1;32m----> 1\u001b[0m t\u001b[38;5;241m.\u001b[39mappend(\u001b[38;5;124m'\u001b[39m\u001b[38;5;124mbrown\u001b[39m\u001b[38;5;124m'\u001b[39m)\n",
      "\u001b[1;31mAttributeError\u001b[0m: 'tuple' object has no attribute 'append'"
     ]
    }
   ],
   "source": [
    "t.append('brown')"
   ]
  },
  {
   "cell_type": "code",
   "execution_count": 101,
   "id": "5ad654b0-4fb9-4f3f-9a2a-f7067af1fb01",
   "metadata": {},
   "outputs": [],
   "source": [
    "a=list(t)"
   ]
  },
  {
   "cell_type": "code",
   "execution_count": 102,
   "id": "1edbbaf5-166c-4150-98ee-21068a526c2b",
   "metadata": {},
   "outputs": [],
   "source": [
    "a.append('brown')"
   ]
  },
  {
   "cell_type": "code",
   "execution_count": 103,
   "id": "62dda9ad-3146-4291-bbdb-60b6ab14fc9f",
   "metadata": {},
   "outputs": [
    {
     "data": {
      "text/plain": [
       "['gold', 'silver', 'ivory', 'brown']"
      ]
     },
     "execution_count": 103,
     "metadata": {},
     "output_type": "execute_result"
    }
   ],
   "source": [
    "a"
   ]
  },
  {
   "cell_type": "code",
   "execution_count": 105,
   "id": "fd94194b-cb8e-448b-8443-e6361e351f43",
   "metadata": {},
   "outputs": [],
   "source": [
    "t=tuple(a)\n"
   ]
  },
  {
   "cell_type": "code",
   "execution_count": 106,
   "id": "95e68448-b099-47ac-a081-7700c846eb1e",
   "metadata": {},
   "outputs": [
    {
     "data": {
      "text/plain": [
       "('gold', 'silver', 'ivory', 'brown')"
      ]
     },
     "execution_count": 106,
     "metadata": {},
     "output_type": "execute_result"
    }
   ],
   "source": [
    "t"
   ]
  },
  {
   "cell_type": "markdown",
   "id": "4931961e-a279-4861-9bb9-43a3a78e435e",
   "metadata": {},
   "source": [
    "Packing and unpacking"
   ]
  },
  {
   "cell_type": "markdown",
   "id": "f2702c06-ad0e-44ba-a2ca-b9db77a60261",
   "metadata": {},
   "source": [
    "Unpacking"
   ]
  },
  {
   "cell_type": "raw",
   "id": "dbd539b0-1499-4cae-94b0-d1c249936f1f",
   "metadata": {},
   "source": [
    "works on list and tuples"
   ]
  },
  {
   "cell_type": "code",
   "execution_count": 107,
   "id": "0515ede8-b2c3-4a29-adcb-8e1a2c2aa754",
   "metadata": {},
   "outputs": [
    {
     "data": {
      "text/plain": [
       "('gold', 'silver', 'ivory', 'brown')"
      ]
     },
     "execution_count": 107,
     "metadata": {},
     "output_type": "execute_result"
    }
   ],
   "source": [
    "t"
   ]
  },
  {
   "cell_type": "code",
   "execution_count": 108,
   "id": "f3267aa1-4157-4c59-8062-955d92853436",
   "metadata": {},
   "outputs": [],
   "source": [
    "t1=('red','blue','green')"
   ]
  },
  {
   "cell_type": "code",
   "execution_count": 109,
   "id": "4b453327-3f1f-467d-8469-676614ac5665",
   "metadata": {},
   "outputs": [
    {
     "name": "stdout",
     "output_type": "stream",
     "text": [
      "red green blue\n"
     ]
    }
   ],
   "source": [
    "r,b,g=t1\n",
    "print(r,g,b)"
   ]
  },
  {
   "cell_type": "code",
   "execution_count": 114,
   "id": "af83e12d-ac48-4907-aaa9-af2433848d50",
   "metadata": {},
   "outputs": [
    {
     "data": {
      "text/plain": [
       "('gold', 'silver', 'ivory', 'brown')"
      ]
     },
     "execution_count": 114,
     "metadata": {},
     "output_type": "execute_result"
    }
   ],
   "source": [
    "t"
   ]
  },
  {
   "cell_type": "code",
   "execution_count": 115,
   "id": "4db27e62-e8a1-472c-bc43-ef55337c019f",
   "metadata": {},
   "outputs": [
    {
     "ename": "ValueError",
     "evalue": "too many values to unpack (expected 3)",
     "output_type": "error",
     "traceback": [
      "\u001b[1;31m---------------------------------------------------------------------------\u001b[0m",
      "\u001b[1;31mValueError\u001b[0m                                Traceback (most recent call last)",
      "Cell \u001b[1;32mIn[115], line 1\u001b[0m\n\u001b[1;32m----> 1\u001b[0m r1,g1,x\u001b[38;5;241m=\u001b[39mt\n",
      "\u001b[1;31mValueError\u001b[0m: too many values to unpack (expected 3)"
     ]
    }
   ],
   "source": [
    "r1,g1,x=t"
   ]
  },
  {
   "cell_type": "code",
   "execution_count": 112,
   "id": "a6bed421-507d-4a5e-b262-0736a6b78932",
   "metadata": {},
   "outputs": [],
   "source": [
    "r1,g1,*x=t"
   ]
  },
  {
   "cell_type": "code",
   "execution_count": 113,
   "id": "95a65e10-be99-4af1-a0b7-76aa6f54f663",
   "metadata": {},
   "outputs": [
    {
     "name": "stdout",
     "output_type": "stream",
     "text": [
      "gold silver ['ivory', 'brown']\n"
     ]
    }
   ],
   "source": [
    "print(r1,g1,x)"
   ]
  },
  {
   "cell_type": "code",
   "execution_count": null,
   "id": "1f704537-b48a-4239-83ed-8e292243f686",
   "metadata": {},
   "outputs": [],
   "source": []
  },
  {
   "cell_type": "code",
   "execution_count": null,
   "id": "a61beb8e-432f-4524-813f-32565cb81330",
   "metadata": {},
   "outputs": [],
   "source": []
  },
  {
   "cell_type": "markdown",
   "id": "4665848c-6e80-438e-8e91-21cf71a88640",
   "metadata": {},
   "source": [
    "# Session Assignment:11:35 AM -11:55 AM"
   ]
  },
  {
   "cell_type": "raw",
   "id": "32282097-3b4c-4dfc-adee-6760dcb0d90f",
   "metadata": {},
   "source": [
    "Session #1: [45]\n",
    "-------------------------------------------------------------------------------------------------------------------\n",
    "basket = [\"Apple\", \"Banana\", \"Cherry\", \"Mango\"]  \n",
    "Task: Insert \"Grapes\" between \"Banana\" and \"Cherry\".  \n",
    "\n",
    "data = [10, 20, [30, 40, 50], 60, 70]  \n",
    "Task: Change 40 to 45 inside the nested list.  \n",
    "\n",
    "nums = [3, 6, 9, 12, 15, 18, 21]  \n",
    "Task: Extract [9, 12, 15] and reverse it.  \n",
    "\n",
    "numbers = [5, 3, 8, 5, 10, 5, 12, 5]  \n",
    "Task: Remove all occurrences of 5 from numbers.  \n",
    "\n",
    "list1 = [8, 3, 1, 7]  \n",
    "list2 = [4, 9, 2, 6]  \n",
    "Task: Merge list1 and list2, then sort the combined list.  \n",
    "\n",
    "colors = (\"Red\", \"Green\", \"Blue\", \"Yellow\")  \n",
    "Task: Convert colors to a list, change \"Green\" to \"Cyan\", and convert it back to a tuple.  \n",
    "\n",
    "names = [\"Alice\", \"Bob\", \"Charlie\", \"David\", \"Eve\"]  \n",
    "Task: Find the index of \"Charlie\".  \n",
    "\n",
    "nums_tuple = (4, 2, 4, 6, 4, 8, 4, 10)  \n",
    "Task: Count how many times 4 appears in nums_tuple.  \n",
    "\n",
    "values = [10, 20, 30, 40, 50]  \n",
    "Task: Swap the first and last elements.  \n",
    "\n",
    "values = []\n",
    "Task: Generate a list of squares for numbers from 1 to 10.  \n",
    "\n",
    "my_tuple = (1, 2, 3, 4, 5)  \n",
    "Task: Reverse my_tuple without converting it to a list.  \n",
    "\n",
    "data = [23, 45, 67, 12, 89, 34]  \n",
    "Task: Find the maximum and minimum values in data.  \n",
    "\n",
    "nums = [10, 20, 30, 40, 50, 60, 70]  \n",
    "Task: Extract every second element from nums.  \n",
    "\n",
    "nested_list = [[1, 2, 3], [4, 5, 6], [7, 8, 9]]  \n",
    "Task: Convert nested_list into a single flat list.  \n",
    "\n",
    "list_a = [1, 2, 3, 4, 5, 6]  \n",
    "list_b = [4, 5, 6, 7, 8, 9]  \n",
    "Task: Find common elements between list_a and list_b.  \n",
    "\n",
    "scores = [78, 55, 92, 30, 88, 62]  \n",
    "Task: Sort scores in descending order.  \n",
    "\n",
    "my_tuple = (1, 2, 3)  \n",
    "Task: Repeat my_tuple three times and store the result.  \n",
    "\n",
    "numbers = [1, 2, 2, 3, 4, 4, 5, 6, 6]  \n",
    "Task: Remove duplicates while keeping the order.  \n",
    "\n",
    "words = [\"Hello\", \"World\", \"Python\", \"Programming\"]  \n",
    "Task: Insert \"Amazing\" at index 2.  \n",
    "\n",
    "pairs = [(\"a\", 1), (\"b\", 2), (\"c\", 3)]  \n",
    "Task: Convert pairs into a dictionary.  \n"
   ]
  },
  {
   "cell_type": "code",
   "execution_count": null,
   "id": "24d23b02-2f5e-4e8e-b302-d65f327dce91",
   "metadata": {},
   "outputs": [],
   "source": []
  },
  {
   "cell_type": "raw",
   "id": "f2a88571-c94e-4258-b4fc-030a036196ce",
   "metadata": {},
   "source": [
    "basket = [\"Apple\", \"Banana\", \"Cherry\", \"Mango\"]  \n",
    "Task: Insert \"Grapes\" between \"Banana\" and \"Cherry\".  "
   ]
  },
  {
   "cell_type": "code",
   "execution_count": 116,
   "id": "609f2c3b-f387-4dce-a404-b668de9c3f6c",
   "metadata": {},
   "outputs": [
    {
     "data": {
      "text/plain": [
       "['Apple', 'Banana', 'grapes', 'Cherry', 'Mango']"
      ]
     },
     "execution_count": 116,
     "metadata": {},
     "output_type": "execute_result"
    }
   ],
   "source": [
    "basket = [\"Apple\", \"Banana\", \"Cherry\", \"Mango\"]\n",
    "basket.insert(2,'grapes')\n",
    "basket"
   ]
  },
  {
   "cell_type": "raw",
   "id": "3233c81b-090b-4b51-8d94-f366cd6e1bd5",
   "metadata": {},
   "source": [
    "\n",
    "data = [10, 20, [30, 40, 50], 60, 70]  \n",
    "Task: Change 40 to 45 inside the nested list.  \n"
   ]
  },
  {
   "cell_type": "code",
   "execution_count": 118,
   "id": "e3f9de67-879e-4cfc-897c-530e80d3cfea",
   "metadata": {},
   "outputs": [
    {
     "data": {
      "text/plain": [
       "[10, 20, [30, 45, 50], 60, 70]"
      ]
     },
     "execution_count": 118,
     "metadata": {},
     "output_type": "execute_result"
    }
   ],
   "source": [
    "data = [10, 20, [30, 40, 50], 60, 70]  \n",
    "data[2][1]=45\n",
    "data"
   ]
  },
  {
   "cell_type": "raw",
   "id": "21d5cd8f-e648-45b2-8cc7-51614e983dda",
   "metadata": {},
   "source": [
    "nums = [3, 6, 9, 12, 15, 18, 21]  \n",
    "Task: Extract [9, 12, 15] and reverse it.  "
   ]
  },
  {
   "cell_type": "code",
   "execution_count": 129,
   "id": "58e52ea6-a81b-4d2c-965f-de90c08adcb0",
   "metadata": {},
   "outputs": [
    {
     "data": {
      "text/plain": [
       "[9, 12, 15]"
      ]
     },
     "execution_count": 129,
     "metadata": {},
     "output_type": "execute_result"
    }
   ],
   "source": [
    "nums = [3, 6, 9, 12, 15, 18, 21]\n",
    "temp1=nums[2:5]\n",
    "temp1"
   ]
  },
  {
   "cell_type": "code",
   "execution_count": 130,
   "id": "9d6d2592-e67f-4bc6-8c94-9f68cd71a06b",
   "metadata": {},
   "outputs": [
    {
     "data": {
      "text/plain": [
       "[15, 12, 9]"
      ]
     },
     "execution_count": 130,
     "metadata": {},
     "output_type": "execute_result"
    }
   ],
   "source": [
    "temp1[::-1]"
   ]
  },
  {
   "cell_type": "code",
   "execution_count": 133,
   "id": "5338f9e5-c455-4af8-8115-98711aaa4bc1",
   "metadata": {},
   "outputs": [
    {
     "name": "stdout",
     "output_type": "stream",
     "text": [
      "[15, 12, 9]\n"
     ]
    }
   ],
   "source": [
    "temp1.reverse()\n",
    "print(temp1)"
   ]
  },
  {
   "cell_type": "code",
   "execution_count": null,
   "id": "0c774761-bfaf-455b-98fc-8d596485431a",
   "metadata": {},
   "outputs": [],
   "source": []
  },
  {
   "cell_type": "raw",
   "id": "0ee11de4-07c4-4ed0-8a1c-2baca9821db4",
   "metadata": {},
   "source": [
    "numbers = [5, 3, 8, 5, 10, 5, 12, 5]  \n",
    "Task: Remove all occurrences of 5 from numbers."
   ]
  },
  {
   "cell_type": "code",
   "execution_count": 136,
   "id": "b07043ec-38aa-4137-b84e-9a6eed7d4591",
   "metadata": {},
   "outputs": [
    {
     "data": {
      "text/plain": [
       "4"
      ]
     },
     "execution_count": 136,
     "metadata": {},
     "output_type": "execute_result"
    }
   ],
   "source": [
    "numbers = [5, 3, 8, 5, 10, 5, 12, 5]  \n",
    "numbers.count(5)"
   ]
  },
  {
   "cell_type": "code",
   "execution_count": 138,
   "id": "9bf3592c-d68d-415f-8350-6e5577541b6c",
   "metadata": {},
   "outputs": [
    {
     "name": "stdout",
     "output_type": "stream",
     "text": [
      "[3, 8, 10, 12]\n"
     ]
    }
   ],
   "source": [
    "for i in range(4):\n",
    "    numbers.remove(5)\n",
    "print(numbers)    "
   ]
  },
  {
   "cell_type": "raw",
   "id": "fdd2281e-c4fd-4cd5-bbe6-e078429a87ce",
   "metadata": {},
   "source": [
    "list1 = [8, 3, 1, 7]  \n",
    "list2 = [4, 9, 2, 6]  \n",
    "Task: Merge list1 and list2, then sort the combined list.  "
   ]
  },
  {
   "cell_type": "code",
   "execution_count": 139,
   "id": "ebb20f54-f0eb-492c-8324-d8d5987e688e",
   "metadata": {},
   "outputs": [
    {
     "data": {
      "text/plain": [
       "[8, 3, 1, 7, 4, 9, 2, 6]"
      ]
     },
     "execution_count": 139,
     "metadata": {},
     "output_type": "execute_result"
    }
   ],
   "source": [
    "list1 = [8, 3, 1, 7]  \n",
    "list2 = [4, 9, 2, 6]  \n",
    "list3=list1+list2\n",
    "list3"
   ]
  },
  {
   "cell_type": "code",
   "execution_count": 144,
   "id": "292dbe1d-7cb8-4bad-8151-a81c987b615f",
   "metadata": {},
   "outputs": [
    {
     "name": "stdout",
     "output_type": "stream",
     "text": [
      "[1, 2, 3, 4, 6, 7, 8, 9]\n"
     ]
    }
   ],
   "source": [
    "list3.sort()\n",
    "print(list3)"
   ]
  },
  {
   "cell_type": "code",
   "execution_count": null,
   "id": "a02d7f71-2b59-43d9-9eff-3932abd2e729",
   "metadata": {},
   "outputs": [],
   "source": []
  },
  {
   "cell_type": "raw",
   "id": "6b2d6798-59d4-467e-9d67-2264e86882b3",
   "metadata": {},
   "source": [
    "colors = (\"Red\", \"Green\", \"Blue\", \"Yellow\")  \n",
    "Task: Convert colors to a list, change \"Green\" to \"Cyan\", and convert it back to a tuple.  "
   ]
  },
  {
   "cell_type": "code",
   "execution_count": 148,
   "id": "3fc3d4f5-4d3e-4ede-887e-c75925863cc9",
   "metadata": {},
   "outputs": [
    {
     "name": "stdout",
     "output_type": "stream",
     "text": [
      "('Red', 'Cyan', 'Blue', 'Yellow')\n"
     ]
    }
   ],
   "source": [
    "colors = (\"Red\", \"Green\", \"Blue\", \"Yellow\")\n",
    "list4=list(colors)\n",
    "list4[1]='Cyan'\n",
    "colors= tuple(list4)\n",
    "print(colors)"
   ]
  },
  {
   "cell_type": "raw",
   "id": "4d6950b6-104f-4e76-ba1a-3dd6be3c26d6",
   "metadata": {},
   "source": [
    "names = [\"Alice\", \"Bob\", \"Charlie\", \"David\", \"Eve\"]  \n",
    "Task: Find the index of \"Charlie\".  \n"
   ]
  },
  {
   "cell_type": "code",
   "execution_count": 152,
   "id": "2a8ecec0-2028-44a8-94ff-3e73ea8c9d79",
   "metadata": {},
   "outputs": [
    {
     "name": "stdout",
     "output_type": "stream",
     "text": [
      "the index of Charlie is 2 \n"
     ]
    }
   ],
   "source": [
    "names = [\"Alice\", \"Bob\", \"Charlie\", \"David\", \"Eve\"] \n",
    "print(\"the index of Charlie is {} \".format(names.index('Charlie')))"
   ]
  },
  {
   "cell_type": "raw",
   "id": "bcd3ce50-b42d-4554-be44-29ad17f4d8fb",
   "metadata": {},
   "source": [
    "nums_tuple = (4, 2, 4, 6, 4, 8, 4, 10)  \n",
    "Task: Count how many times 4 appears in nums_tuple.  "
   ]
  },
  {
   "cell_type": "code",
   "execution_count": 189,
   "id": "bf10e6b2-1c7f-4e9f-a3d2-7cca843f1ec6",
   "metadata": {},
   "outputs": [
    {
     "name": "stdout",
     "output_type": "stream",
     "text": [
      "Element '4' appears 4 times\n"
     ]
    }
   ],
   "source": [
    "nums_tuple = (4, 2, 4, 6, 4, 8, 4, 10) \n",
    "print(\"\"\"Element '4' appears {} times\"\"\".format(nums_tuple.count(4)))"
   ]
  },
  {
   "cell_type": "raw",
   "id": "e3dec41f-02d8-40cf-88d6-adbca0702a86",
   "metadata": {},
   "source": [
    "values = [10, 20, 30, 40, 50]  \n",
    "Task: Swap the first and last elements.  "
   ]
  },
  {
   "cell_type": "code",
   "execution_count": 156,
   "id": "f6fda5a4-c236-43d5-b86c-c03ac98b8728",
   "metadata": {},
   "outputs": [
    {
     "data": {
      "text/plain": [
       "[50, 20, 30, 40, 10]"
      ]
     },
     "execution_count": 156,
     "metadata": {},
     "output_type": "execute_result"
    }
   ],
   "source": [
    "values = [10, 20, 30, 40, 50]  \n",
    "a2=values[-1]\n",
    "values[-1]=values[0]\n",
    "values[0]=a2\n",
    "values"
   ]
  },
  {
   "cell_type": "markdown",
   "id": "b7716ad3-9af9-493a-baa0-38e96d68c879",
   "metadata": {},
   "source": [
    "values = []\n",
    "Task: Generate a list of squares for numbers from 1 to 10.  "
   ]
  },
  {
   "cell_type": "code",
   "execution_count": 192,
   "id": "c2551b7b-7130-407e-bb1e-429c23114497",
   "metadata": {},
   "outputs": [
    {
     "data": {
      "text/plain": [
       "[1, 4, 9, 16, 25, 36, 49, 64, 81, 100]"
      ]
     },
     "execution_count": 192,
     "metadata": {},
     "output_type": "execute_result"
    }
   ],
   "source": [
    "l5=[]\n",
    "for i1 in range(1,11):\n",
    "    l5.append(i1**2)\n",
    "l5    "
   ]
  },
  {
   "cell_type": "raw",
   "id": "a4b4c240-7baa-4a0a-a4a0-13aec674aa67",
   "metadata": {},
   "source": [
    "my_tuple = (1, 2, 3, 4, 5)  \n",
    "Task: Reverse my_tuple without converting it to a list.  "
   ]
  },
  {
   "cell_type": "code",
   "execution_count": 193,
   "id": "83438dd5-3b1c-41e1-a59d-f62772584958",
   "metadata": {},
   "outputs": [
    {
     "ename": "AttributeError",
     "evalue": "'tuple' object has no attribute 'reverse'",
     "output_type": "error",
     "traceback": [
      "\u001b[1;31m---------------------------------------------------------------------------\u001b[0m",
      "\u001b[1;31mAttributeError\u001b[0m                            Traceback (most recent call last)",
      "Cell \u001b[1;32mIn[193], line 1\u001b[0m\n\u001b[1;32m----> 1\u001b[0m my_tuple \u001b[38;5;241m=\u001b[39m (\u001b[38;5;241m1\u001b[39m, \u001b[38;5;241m2\u001b[39m, \u001b[38;5;241m3\u001b[39m, \u001b[38;5;241m4\u001b[39m, \u001b[38;5;241m5\u001b[39m)\u001b[38;5;241m.\u001b[39mreverse()\n",
      "\u001b[1;31mAttributeError\u001b[0m: 'tuple' object has no attribute 'reverse'"
     ]
    }
   ],
   "source": [
    "my_tuple = (1, 2, 3, 4, 5).reverse()"
   ]
  },
  {
   "cell_type": "code",
   "execution_count": 158,
   "id": "58c119a9-ce7b-4798-9cd1-d487963c6dfe",
   "metadata": {},
   "outputs": [
    {
     "data": {
      "text/plain": [
       "(5, 4, 3, 2, 1)"
      ]
     },
     "execution_count": 158,
     "metadata": {},
     "output_type": "execute_result"
    }
   ],
   "source": [
    "my_tuple = (1, 2, 3, 4, 5)  \n",
    "reverse_tuple=my_tuple[::-1]\n",
    "reverse_tuple"
   ]
  },
  {
   "cell_type": "raw",
   "id": "be988f33-6b94-4b18-8ad7-33094c7f903d",
   "metadata": {},
   "source": [
    "data = [23, 45, 67, 12, 89, 34]  \n",
    "Task: Find the maximum and minimum values in data.  \n",
    "\n",
    "\n"
   ]
  },
  {
   "cell_type": "code",
   "execution_count": 163,
   "id": "92294d64-2bde-4242-a9a3-2f65d6ef1afc",
   "metadata": {},
   "outputs": [
    {
     "name": "stdout",
     "output_type": "stream",
     "text": [
      "[12, 23, 34, 45, 67, 89]\n",
      "Max of data is 89 ,while min of Data is 12\n"
     ]
    }
   ],
   "source": [
    "data = [23, 45, 67, 12, 89, 34] \n",
    "data.sort()\n",
    "print(data)\n",
    "print(\"Max of data is {0} ,while min of Data is {1}\".format(data[-1],data[0]))"
   ]
  },
  {
   "cell_type": "raw",
   "id": "999c874e-9634-4994-8cfc-f5ed3a919cbc",
   "metadata": {},
   "source": [
    "nums = [10, 20, 30, 40, 50, 60, 70]  \n",
    "Task: Extract every second element from nums."
   ]
  },
  {
   "cell_type": "code",
   "execution_count": 168,
   "id": "7da4351b-1027-4034-9746-1adce5d66232",
   "metadata": {},
   "outputs": [
    {
     "name": "stdout",
     "output_type": "stream",
     "text": [
      "[10, 30, 50, 70]\n"
     ]
    }
   ],
   "source": [
    "nums = [10, 20, 30, 40, 50, 60, 70]\n",
    "\n",
    "\n",
    "result = nums[0::2]  \n",
    "\n",
    "print(result)\n"
   ]
  },
  {
   "cell_type": "raw",
   "id": "d69704b3-288d-43da-85a1-5064900c760c",
   "metadata": {},
   "source": [
    "nested_list = [[1, 2, 3], [4, 5, 6], [7, 8, 9]]  \n",
    "Task: Convert nested_list into a single flat list.  "
   ]
  },
  {
   "cell_type": "code",
   "execution_count": 173,
   "id": "5ab0018b-3066-4a18-9d48-15819ea73730",
   "metadata": {},
   "outputs": [
    {
     "name": "stdout",
     "output_type": "stream",
     "text": [
      "[1, 2, 3] [4, 5, 6] [7, 8, 9] \n",
      " [[1, 2, 3], [4, 5, 6], [7, 8, 9]]\n"
     ]
    }
   ],
   "source": [
    "nested_list = [[1, 2, 3], [4, 5, 6], [7, 8, 9]]\n",
    "x,y,z=nested_list\n",
    "print(x,y,z,\"\\n\",nested_list)"
   ]
  },
  {
   "cell_type": "code",
   "execution_count": 174,
   "id": "ec983741-f7c5-445b-9dfe-b694d337afcd",
   "metadata": {},
   "outputs": [
    {
     "name": "stdout",
     "output_type": "stream",
     "text": [
      "[1, 2, 3, 4, 5, 6, 7, 8, 9]\n"
     ]
    }
   ],
   "source": [
    "flat_list = [item for sublist in nested_list for item in sublist]\n",
    "print(flat_list)"
   ]
  },
  {
   "cell_type": "code",
   "execution_count": 175,
   "id": "2d4f955a-0a43-403f-b5f7-5fffbc21af76",
   "metadata": {},
   "outputs": [
    {
     "name": "stdout",
     "output_type": "stream",
     "text": [
      "[1, 2, 3, 4, 5, 6, 7, 8, 9]\n"
     ]
    }
   ],
   "source": [
    "list_flat=[]\n",
    "nested_list = [[1, 2, 3], [4, 5, 6], [7, 8, 9]]\n",
    "for i in nested_list:\n",
    "    for j in i:\n",
    "        list_flat.append(j)\n",
    "print(list_flat)        "
   ]
  },
  {
   "cell_type": "raw",
   "id": "4b1527e4-bc68-4767-8726-ad7f83b3c940",
   "metadata": {},
   "source": [
    "list_a = [1, 2, 3, 4, 5, 6]  \n",
    "list_b = [4, 5, 6, 7, 8, 9]  \n",
    "Task: Find common elements between list_a and list_b.  "
   ]
  },
  {
   "cell_type": "code",
   "execution_count": 176,
   "id": "75df9667-8f48-4bac-a4dc-ce5c6c193e82",
   "metadata": {},
   "outputs": [
    {
     "name": "stdout",
     "output_type": "stream",
     "text": [
      "[4, 5, 6]\n"
     ]
    }
   ],
   "source": [
    "list_a = [1, 2, 3, 4, 5, 6]  \n",
    "list_b = [4, 5, 6, 7, 8, 9]  \n",
    "list_c=[]\n",
    "for i in list_a:\n",
    "    if i in list_b:\n",
    "        list_c.append(i)\n",
    "print(list_c)        "
   ]
  },
  {
   "cell_type": "raw",
   "id": "191aa94e-6159-4114-adc4-6a7310bbcbdc",
   "metadata": {},
   "source": [
    "scores = [78, 55, 92, 30, 88, 62]  \n",
    "Task: Sort scores in descending order.  "
   ]
  },
  {
   "cell_type": "code",
   "execution_count": 178,
   "id": "89508d69-43e4-4336-96d8-e021c37e12ed",
   "metadata": {},
   "outputs": [
    {
     "data": {
      "text/plain": [
       "[92, 88, 78, 62, 55, 30]"
      ]
     },
     "execution_count": 178,
     "metadata": {},
     "output_type": "execute_result"
    }
   ],
   "source": [
    "scores = [78, 55, 92, 30, 88, 62]  \n",
    "scores.sort()\n",
    "desc_score=scores[::-1]\n",
    "desc_score"
   ]
  },
  {
   "cell_type": "raw",
   "id": "7d64996b-9dd8-44a5-9ac0-ee3f2ad9bc83",
   "metadata": {},
   "source": [
    "my_tuple = (1, 2, 3)  \n",
    "Task: Repeat my_tuple three times and store the result.  "
   ]
  },
  {
   "cell_type": "code",
   "execution_count": 183,
   "id": "dc68acd1-3960-440b-a007-fff0f1f6dcff",
   "metadata": {},
   "outputs": [
    {
     "name": "stdout",
     "output_type": "stream",
     "text": [
      "[1, 2, 3, 1, 2, 3, 1, 2, 3]\n",
      "(1, 2, 3, 1, 2, 3, 1, 2, 3) \n",
      " <class 'tuple'>\n"
     ]
    }
   ],
   "source": [
    "my_tuple = (1, 2, 3)  \n",
    "list_t=list(my_tuple)\n",
    "final_list=list_t*3\n",
    "print(final_list)\n",
    "my_tuple_l=tuple(final_list)\n",
    "print(my_tuple_l,\"\\n\",type(my_tuple_l))"
   ]
  },
  {
   "cell_type": "raw",
   "id": "b9bad604-6b8c-49d0-ab43-08b789354422",
   "metadata": {},
   "source": [
    "numbers = [1, 2, 2, 3, 4, 4, 5, 6, 6]  \n",
    "Task: Remove duplicates while keeping the order.  "
   ]
  },
  {
   "cell_type": "code",
   "execution_count": 185,
   "id": "17e20e6c-7623-4946-adbf-7363ca4f7687",
   "metadata": {},
   "outputs": [
    {
     "name": "stdout",
     "output_type": "stream",
     "text": [
      "[1, 2, 3, 4, 5, 6] \n",
      " <class 'list'>\n"
     ]
    }
   ],
   "source": [
    "numbers = [1, 2, 2, 3, 4, 4, 5, 6, 6]\n",
    "set1=set(numbers)\n",
    "number_final=list(set1)\n",
    "print(number_final,\"\\n\",type(number_final))\n",
    "          "
   ]
  },
  {
   "cell_type": "code",
   "execution_count": null,
   "id": "96faf4ea-6f7b-46ae-bb6d-2365d82c0348",
   "metadata": {},
   "outputs": [],
   "source": [
    "numbers1 = [1, 2, 2, 3, 4, 4, 5, 6, 6]\n",
    "number2\n",
    "for i in number1:\n",
    "    if"
   ]
  },
  {
   "cell_type": "raw",
   "id": "9dbe3e3c-9119-4855-8fc0-8de62e790b0b",
   "metadata": {},
   "source": [
    "words = [\"Hello\", \"World\", \"Python\", \"Programming\"]  \n",
    "Task: Insert \"Amazing\" at index 2.  "
   ]
  },
  {
   "cell_type": "code",
   "execution_count": 186,
   "id": "5454b149-d48a-44d1-a019-6b2a697c6ac2",
   "metadata": {},
   "outputs": [
    {
     "data": {
      "text/plain": [
       "['Hello', 'World', 'Amazing', 'Python', 'Programming']"
      ]
     },
     "execution_count": 186,
     "metadata": {},
     "output_type": "execute_result"
    }
   ],
   "source": [
    "words = [\"Hello\", \"World\", \"Python\", \"Programming\"] \n",
    "words.insert(2,\"Amazing\")\n",
    "words"
   ]
  },
  {
   "cell_type": "raw",
   "id": "3b501cff-470a-4932-8ad2-31510b6ca73d",
   "metadata": {},
   "source": [
    "pairs = [(\"a\", 1), (\"b\", 2), (\"c\", 3)]  \n",
    "Task: Convert pairs into a dictionary.  "
   ]
  },
  {
   "cell_type": "code",
   "execution_count": 188,
   "id": "be3ea0d0-e232-44b9-b01b-9249936b3657",
   "metadata": {},
   "outputs": [
    {
     "name": "stdout",
     "output_type": "stream",
     "text": [
      "('a', 1) ('b', 2) ('c', 3)\n",
      "{'a': 1, 'b': 2, 'c': 3}\n"
     ]
    }
   ],
   "source": [
    "pairs = [(\"a\", 1), (\"b\", 2), (\"c\", 3)] \n",
    "x1,y1,z1=pairs\n",
    "x2=list(x1)\n",
    "y2=list(y1)\n",
    "z2=list(z1)\n",
    "d1={x2[0]:x2[1],\n",
    "    y2[0]:y2[1],\n",
    "    z2[0]:z2[1]\n",
    "   }\n",
    "print(x1,y1,z1)\n",
    "print(d1)"
   ]
  },
  {
   "cell_type": "markdown",
   "id": "b0662989-6f89-4dd7-9298-8161fdfc705e",
   "metadata": {},
   "source": [
    "# Built in functions for list and tuple"
   ]
  },
  {
   "cell_type": "code",
   "execution_count": 194,
   "id": "0fd810ff-4e91-4e96-a4ed-6a8b868ff492",
   "metadata": {},
   "outputs": [
    {
     "data": {
      "text/plain": [
       "21"
      ]
     },
     "execution_count": 194,
     "metadata": {},
     "output_type": "execute_result"
    }
   ],
   "source": [
    "l=[1,2,3,4,5,6]\n",
    "sum(l)\n"
   ]
  },
  {
   "cell_type": "code",
   "execution_count": 195,
   "id": "3e1d33ce-5b0d-47cf-8d6d-49b2252c32fb",
   "metadata": {},
   "outputs": [
    {
     "data": {
      "text/plain": [
       "6"
      ]
     },
     "execution_count": 195,
     "metadata": {},
     "output_type": "execute_result"
    }
   ],
   "source": [
    "max(l)"
   ]
  },
  {
   "cell_type": "code",
   "execution_count": 196,
   "id": "8bf0c072-b135-416a-ac50-ffb17f5921da",
   "metadata": {},
   "outputs": [
    {
     "data": {
      "text/plain": [
       "1"
      ]
     },
     "execution_count": 196,
     "metadata": {},
     "output_type": "execute_result"
    }
   ],
   "source": [
    "min(l)"
   ]
  },
  {
   "cell_type": "code",
   "execution_count": 197,
   "id": "12536085-5e87-44b6-a3d6-83ae9f99a525",
   "metadata": {},
   "outputs": [
    {
     "data": {
      "text/plain": [
       "True"
      ]
     },
     "execution_count": 197,
     "metadata": {},
     "output_type": "execute_result"
    }
   ],
   "source": [
    "any(l)"
   ]
  },
  {
   "cell_type": "raw",
   "id": "3f798f1b-a395-48b1-8cec-28bc334302b0",
   "metadata": {},
   "source": [
    "any() check for atleast non zero value"
   ]
  },
  {
   "cell_type": "code",
   "execution_count": 198,
   "id": "0a3f54f8-cf12-4494-a0f4-70a5be2d645e",
   "metadata": {},
   "outputs": [
    {
     "data": {
      "text/plain": [
       "True"
      ]
     },
     "execution_count": 198,
     "metadata": {},
     "output_type": "execute_result"
    }
   ],
   "source": [
    "all(l)"
   ]
  },
  {
   "cell_type": "raw",
   "id": "3c07a2e4-e52b-4fc7-b4b7-5c37d8b18bcf",
   "metadata": {},
   "source": [
    "all()  check if all elemnts are non zero values"
   ]
  },
  {
   "cell_type": "code",
   "execution_count": 200,
   "id": "7e392a2f-1038-45f7-9ba5-43106be47e0e",
   "metadata": {},
   "outputs": [],
   "source": [
    "l1=[-1,-2,0,1,2]\n"
   ]
  },
  {
   "cell_type": "code",
   "execution_count": 201,
   "id": "94b5bc1b-ab30-455c-9e6a-32958cb35b9a",
   "metadata": {},
   "outputs": [
    {
     "data": {
      "text/plain": [
       "True"
      ]
     },
     "execution_count": 201,
     "metadata": {},
     "output_type": "execute_result"
    }
   ],
   "source": [
    "any(l1)"
   ]
  },
  {
   "cell_type": "code",
   "execution_count": 202,
   "id": "3a70504f-4c0c-4f3c-a8aa-97cff83fa5e2",
   "metadata": {},
   "outputs": [
    {
     "data": {
      "text/plain": [
       "False"
      ]
     },
     "execution_count": 202,
     "metadata": {},
     "output_type": "execute_result"
    }
   ],
   "source": [
    "all(l1)"
   ]
  },
  {
   "cell_type": "code",
   "execution_count": 206,
   "id": "6383d76e-5f9c-4b37-9b7f-5824ea4ff708",
   "metadata": {},
   "outputs": [
    {
     "ename": "NameError",
     "evalue": "name 'desc' is not defined",
     "output_type": "error",
     "traceback": [
      "\u001b[1;31m---------------------------------------------------------------------------\u001b[0m",
      "\u001b[1;31mNameError\u001b[0m                                 Traceback (most recent call last)",
      "Cell \u001b[1;32mIn[206], line 1\u001b[0m\n\u001b[1;32m----> 1\u001b[0m desc(\u001b[38;5;28menumerate\u001b[39m())\n",
      "\u001b[1;31mNameError\u001b[0m: name 'desc' is not defined"
     ]
    }
   ],
   "source": [
    "desc(enumerate())"
   ]
  },
  {
   "cell_type": "code",
   "execution_count": 208,
   "id": "afdc065e-8d8c-4417-9586-5e1c664ad1b4",
   "metadata": {},
   "outputs": [
    {
     "name": "stdout",
     "output_type": "stream",
     "text": [
      "<enumerate object at 0x00000178720CB060>\n"
     ]
    }
   ],
   "source": [
    "l1=[-1,-2,0,1,2]\n",
    "print(enumerate(l1))"
   ]
  },
  {
   "cell_type": "code",
   "execution_count": 209,
   "id": "45cba219-ba5a-44f3-be32-e775d963617c",
   "metadata": {},
   "outputs": [
    {
     "name": "stdout",
     "output_type": "stream",
     "text": [
      "[(0, -1), (1, -2), (2, 0), (3, 1), (4, 2)]\n"
     ]
    }
   ],
   "source": [
    "print(list(enumerate(l1)))\n"
   ]
  },
  {
   "cell_type": "code",
   "execution_count": 210,
   "id": "76bb3150-a209-4395-8915-a80fd6ba00d7",
   "metadata": {},
   "outputs": [
    {
     "data": {
      "text/plain": [
       "{0: -1, 1: -2, 2: 0, 3: 1, 4: 2}"
      ]
     },
     "execution_count": 210,
     "metadata": {},
     "output_type": "execute_result"
    }
   ],
   "source": [
    "d2=dict(enumerate(l1))\n",
    "d2"
   ]
  },
  {
   "cell_type": "code",
   "execution_count": 212,
   "id": "ef409fce-a8ce-421f-a168-baee3db8e4f4",
   "metadata": {},
   "outputs": [],
   "source": [
    "s='apples'\n",
    "l=['red','green','blue']\n"
   ]
  },
  {
   "cell_type": "code",
   "execution_count": 231,
   "id": "16e54fa4-f1e5-4833-820a-ba9624884996",
   "metadata": {},
   "outputs": [
    {
     "name": "stdout",
     "output_type": "stream",
     "text": [
      "a Asc key value of a :  97 \n",
      "\n",
      "p Asc key value of p :  112 \n",
      "\n",
      "p Asc key value of p :  112 \n",
      "\n",
      "l Asc key value of l :  108 \n",
      "\n",
      "e Asc key value of e :  101 \n",
      "\n",
      "s Asc key value of s :  115 \n",
      "\n"
     ]
    }
   ],
   "source": [
    "s='apples'\n",
    "\n",
    "for c in s:\n",
    "    print(c,\"Asc key value of\", c,\": \",ord(c),'\\n')\n"
   ]
  },
  {
   "cell_type": "raw",
   "id": "ae5335f9-22ac-4d52-839b-c47b3c38cbec",
   "metadata": {},
   "source": [
    "Loop control statements"
   ]
  },
  {
   "cell_type": "code",
   "execution_count": null,
   "id": "c587f027-f8c1-4cbf-a03e-2b569e7b569e",
   "metadata": {},
   "outputs": [],
   "source": []
  },
  {
   "cell_type": "code",
   "execution_count": null,
   "id": "d78c9e0a-94f1-4f3a-b88f-924e7f1e4b92",
   "metadata": {},
   "outputs": [],
   "source": []
  },
  {
   "cell_type": "code",
   "execution_count": null,
   "id": "ab32b4bd-98f1-4370-8e81-d3362ff313bd",
   "metadata": {},
   "outputs": [],
   "source": []
  },
  {
   "cell_type": "code",
   "execution_count": null,
   "id": "9e1cef2c-5d71-4476-ad92-804451d70d90",
   "metadata": {},
   "outputs": [],
   "source": []
  },
  {
   "cell_type": "markdown",
   "id": "ead5e01e-f720-440d-8181-8054cad3234f",
   "metadata": {},
   "source": [
    "# Loops"
   ]
  },
  {
   "cell_type": "code",
   "execution_count": null,
   "id": "e29f867c-77b1-4258-9663-6db23f92ccbc",
   "metadata": {},
   "outputs": [],
   "source": []
  },
  {
   "cell_type": "code",
   "execution_count": null,
   "id": "3aa339b4-92e3-4871-a3f9-51f0eeb5da2b",
   "metadata": {},
   "outputs": [],
   "source": []
  },
  {
   "cell_type": "markdown",
   "id": "af21659f-0fb4-4e91-b558-9e97322778fa",
   "metadata": {},
   "source": [
    "# Session Excercise 2:30 pm - 3:10 pm "
   ]
  },
  {
   "cell_type": "raw",
   "id": "316e791d-472e-4512-a3bc-7d2ec75404ab",
   "metadata": {},
   "source": [
    "Session #2 [30 - 40]\n",
    "-------------------------------------------------------------------------------------------------------------------\n",
    "\n",
    "Q1:\n",
    "nums = [1, 2, 3, 4, 5]  \n",
    "Task: Use a for loop to calculate the sum of all elements in nums.  \n",
    "Q2:\n",
    "count = 5  \n",
    "Task: Use a while loop to print numbers from count down to 1.  \n",
    "Q3:\n",
    "fruits = [\"Apple\", \"Banana\", \"Cherry\", \"Mango\"]  \n",
    "Task: Use a for loop to print each fruit in uppercase.  \n",
    "Q4:\n",
    "num = 1  \n",
    "Task: Use a while loop to print squares of numbers from 1 to 10.  \n",
    "Q5:\n",
    "values = [2, 4, 6, 8, 10]  \n",
    "Task: Use a for loop to create a new list containing cubes of values.  \n",
    "Q6:\n",
    "sentence = \"Python is fun\"  \n",
    "Task: Use a for loop to count how many times 'o' appears in sentence.  \n",
    "Q7:\n",
    "num = 10  \n",
    "Task: Use a while loop to print even numbers from 10 to 2 in reverse order.  \n",
    "Q8:\n",
    "matrix = [[1, 2], [3, 4], [5, 6]]  \n",
    "Task: Use nested for loops to print all elements in matrix.  \n",
    "Q9:\n",
    "num = 7  \n",
    "Task: Use a while loop to find the factorial of num.  \n",
    "Q10:\n",
    "numbers = [3, 9, 12, 18, 21, 25]  \n",
    "Task: Use a for loop to print only the numbers divisible by 3.  \n"
   ]
  },
  {
   "cell_type": "raw",
   "id": "bd8008ce-1b6a-4adb-8eba-b5b24c183bfa",
   "metadata": {},
   "source": [
    "Q1:nums = [1, 2, 3, 4, 5]  \n",
    "Task: Use a for loop to calculate the sum of all elements in nums. "
   ]
  },
  {
   "cell_type": "code",
   "execution_count": 235,
   "id": "38874064-d0cb-4344-9353-0cf0eeb67f8b",
   "metadata": {},
   "outputs": [
    {
     "name": "stdout",
     "output_type": "stream",
     "text": [
      "Sum of elements is 15\n"
     ]
    }
   ],
   "source": [
    "nums = [1, 2, 3, 4, 5]\n",
    "sum=0\n",
    "for i in nums:\n",
    "    sum+=i\n",
    "print(\"Sum of elements is {}\".format(sum))    "
   ]
  },
  {
   "cell_type": "raw",
   "id": "45eb5a5e-be1e-4c33-8eee-1e39745f398c",
   "metadata": {},
   "source": [
    "Q2:\n",
    "count = 5  \n",
    "Task: Use a while loop to print numbers from count down to 1.  \n"
   ]
  },
  {
   "cell_type": "code",
   "execution_count": 241,
   "id": "73ec2f1f-346b-459c-83ac-6acdeb6769a1",
   "metadata": {},
   "outputs": [
    {
     "name": "stdout",
     "output_type": "stream",
     "text": [
      "5\n",
      "4\n",
      "3\n",
      "2\n",
      "1\n"
     ]
    }
   ],
   "source": [
    "j=5\n",
    "while j>0:\n",
    "    print(j)\n",
    "    j=j-1\n",
    "    \n",
    "    "
   ]
  },
  {
   "cell_type": "raw",
   "id": "0cde1103-4195-4eed-a56c-914534ffc86b",
   "metadata": {},
   "source": [
    "Q3:\n",
    "fruits = [\"Apple\", \"Banana\", \"Cherry\", \"Mango\"]  \n",
    "Task: Use a for loop to print each fruit in uppercase.  "
   ]
  },
  {
   "cell_type": "code",
   "execution_count": 244,
   "id": "8eb4f64d-eb08-428e-a5b8-255be80c1490",
   "metadata": {},
   "outputs": [
    {
     "data": {
      "text/plain": [
       "['APPLE', 'BANANA', 'CHERRY', 'MANGO']"
      ]
     },
     "execution_count": 244,
     "metadata": {},
     "output_type": "execute_result"
    }
   ],
   "source": [
    "fruits = [\"Apple\", \"Banana\", \"Cherry\", \"Mango\"]  \n",
    "fruit=[]\n",
    "for i in fruits:\n",
    "    fruit.append(i.upper())\n",
    "fruit    "
   ]
  },
  {
   "cell_type": "raw",
   "id": "4993c0eb-de9f-4d7e-8bae-4b93a75ec252",
   "metadata": {},
   "source": [
    "Q4:\n",
    "num = 1  \n",
    "Task: Use a while loop to print squares of numbers from 1 to 10.  "
   ]
  },
  {
   "cell_type": "code",
   "execution_count": 271,
   "id": "6b062008-ab0b-40b8-895d-1ec3a178eb55",
   "metadata": {},
   "outputs": [
    {
     "name": "stdout",
     "output_type": "stream",
     "text": [
      "Square of 1 is 1\n",
      "Square of 2 is 4\n",
      "Square of 3 is 9\n",
      "Square of 4 is 16\n",
      "Square of 5 is 25\n",
      "Square of 6 is 36\n",
      "Square of 7 is 49\n",
      "Square of 8 is 64\n",
      "Square of 9 is 81\n",
      "Square of 10 is 100\n"
     ]
    }
   ],
   "source": [
    "num = 1  # Start from 1\n",
    "\n",
    "while num <= 10:  # Loop until num reaches 10\n",
    "    print(f\"Square of {num} is {num ** 2}\")  # Print the square of num\n",
    "    num += 1  # Increment num by 1\n"
   ]
  },
  {
   "cell_type": "code",
   "execution_count": 270,
   "id": "6092e896-bbfa-4f55-9e2c-be62e65c3daa",
   "metadata": {},
   "outputs": [],
   "source": [
    "num=1\n",
    "while i<=10:\n",
    "    \n",
    "    print(i**2)\n",
    "    i=i+1\n",
    "    "
   ]
  },
  {
   "cell_type": "raw",
   "id": "f740b683-8a7f-42b5-a85f-6c7eb9be3419",
   "metadata": {},
   "source": [
    "Q5:\n",
    "values = [2, 4, 6, 8, 10]  \n",
    "Task: Use a for loop to create a new list containing cubes of values.  "
   ]
  },
  {
   "cell_type": "code",
   "execution_count": 246,
   "id": "b7ce9096-ad5b-4eae-89f9-a84a52d72f37",
   "metadata": {},
   "outputs": [
    {
     "data": {
      "text/plain": [
       "[8, 64, 216, 512, 1000]"
      ]
     },
     "execution_count": 246,
     "metadata": {},
     "output_type": "execute_result"
    }
   ],
   "source": [
    "values = [2, 4, 6, 8, 10]  \n",
    "new_list=[]\n",
    "for i in values:\n",
    "    new_list.append(i**3)\n",
    "new_list    "
   ]
  },
  {
   "cell_type": "raw",
   "id": "022eb909-061f-4bb2-b940-42897a5993a8",
   "metadata": {},
   "source": [
    "Q6:\n",
    "sentence = \"Python is fun\"  \n",
    "Task: Use a for loop to count how many times 'o' appears in sentence.  "
   ]
  },
  {
   "cell_type": "code",
   "execution_count": 251,
   "id": "f71e937b-19b7-43b0-baa3-ede16bc0e0b8",
   "metadata": {},
   "outputs": [
    {
     "data": {
      "text/plain": [
       "1"
      ]
     },
     "execution_count": 251,
     "metadata": {},
     "output_type": "execute_result"
    }
   ],
   "source": [
    "sentence = \"Python is fun\"\n",
    "count=0\n",
    "for i in sentence:\n",
    "    if i ==\"o\":\n",
    "        count=count+1\n",
    "    \n",
    "count"
   ]
  },
  {
   "cell_type": "raw",
   "id": "8b35f610-294b-47c8-af40-d1753152954d",
   "metadata": {},
   "source": [
    "Q7:\n",
    "num = 10  \n",
    "Task: Use a while loop to print even numbers from 10 to 2 in reverse order.  \n"
   ]
  },
  {
   "cell_type": "code",
   "execution_count": 253,
   "id": "06d0deb4-a547-48a2-878c-5a7fd3fecd32",
   "metadata": {},
   "outputs": [
    {
     "name": "stdout",
     "output_type": "stream",
     "text": [
      "10\n",
      "8\n",
      "6\n",
      "4\n",
      "2\n"
     ]
    }
   ],
   "source": [
    "num=10\n",
    "while num >1:\n",
    "    if num%2==0:\n",
    "        print(num)\n",
    "        num=num-2"
   ]
  },
  {
   "cell_type": "raw",
   "id": "2b996997-1bf8-4dfa-9bb1-818644cd181c",
   "metadata": {},
   "source": [
    "Q8:\n",
    "matrix = [[1, 2], [3, 4], [5, 6]]  \n",
    "Task: Use nested for loops to print all elements in matrix.  "
   ]
  },
  {
   "cell_type": "code",
   "execution_count": null,
   "id": "dbdba392-6da3-419a-8411-d6864af1dc60",
   "metadata": {},
   "outputs": [],
   "source": []
  },
  {
   "cell_type": "code",
   "execution_count": 261,
   "id": "77ba9d7b-b150-4278-a92c-fb9097bf7fe5",
   "metadata": {},
   "outputs": [
    {
     "name": "stdout",
     "output_type": "stream",
     "text": [
      "1 2 \n",
      "3 4 \n",
      "5 6 \n"
     ]
    }
   ],
   "source": [
    "matrix = [[1, 2], [3, 4], [5, 6]]\n",
    "\n",
    "for row in matrix:  # Loop through each row\n",
    "    for element in row:  # Loop through each element in the row\n",
    "        print(element, end=\" \")  # Print elements on the same line\n",
    "    print()  # Move to a new line after each row\n"
   ]
  },
  {
   "cell_type": "raw",
   "id": "538125da-442d-485f-800d-bd4f8fdf39de",
   "metadata": {},
   "source": [
    "Q9\n",
    "num = 7  \n",
    "Task: Use a while loop to find the factorial of num.  \n"
   ]
  },
  {
   "cell_type": "code",
   "execution_count": 262,
   "id": "16d7fbb0-b2e3-46d5-a6e1-70a0511c281e",
   "metadata": {},
   "outputs": [
    {
     "name": "stdout",
     "output_type": "stream",
     "text": [
      "factorial of num is 5040 \n"
     ]
    }
   ],
   "source": [
    "num=7\n",
    "factor=1\n",
    "while num>1:\n",
    "    factor=factor*num\n",
    "    num=num-1\n",
    "print(\"factorial of num is {} \".format(factor) )"
   ]
  },
  {
   "cell_type": "raw",
   "id": "bfd03b63-bec8-48cc-94e8-731ee7ec2d06",
   "metadata": {},
   "source": [
    "Q10:\n",
    "numbers = [3, 9, 12, 18, 21, 25]  \n",
    "Task: Use a for loop to print only the numbers divisible by 3.  \n"
   ]
  },
  {
   "cell_type": "code",
   "execution_count": 266,
   "id": "f1d3a93d-3329-4c9f-b644-21d09b8ce005",
   "metadata": {},
   "outputs": [
    {
     "name": "stdout",
     "output_type": "stream",
     "text": [
      "3 \n",
      "\n",
      "9 \n",
      "\n",
      "12 \n",
      "\n",
      "18 \n",
      "\n",
      "21 \n",
      "\n"
     ]
    }
   ],
   "source": [
    "numbers = [3, 9, 12, 18, 21, 25] \n",
    "\n",
    "for i in numbers:\n",
    "    if i%3==0:\n",
    "        print(i,\"\\n\")\n"
   ]
  },
  {
   "cell_type": "code",
   "execution_count": null,
   "id": "00ce0008-ebb2-490a-9dbe-1f3d266ab74a",
   "metadata": {},
   "outputs": [],
   "source": []
  },
  {
   "cell_type": "markdown",
   "id": "77f4f98f-f110-4230-b0bd-61e033ae5a75",
   "metadata": {},
   "source": [
    "# Sets"
   ]
  },
  {
   "cell_type": "code",
   "execution_count": 272,
   "id": "1ef69d2d-da54-4afe-b557-158c19339f9f",
   "metadata": {},
   "outputs": [],
   "source": [
    "s='mississippi'"
   ]
  },
  {
   "cell_type": "code",
   "execution_count": 273,
   "id": "9534cb3b-90e9-465e-8a2b-6b8fce375525",
   "metadata": {},
   "outputs": [
    {
     "data": {
      "text/plain": [
       "['m', 'i', 's', 's', 'i', 's', 's', 'i', 'p', 'p', 'i']"
      ]
     },
     "execution_count": 273,
     "metadata": {},
     "output_type": "execute_result"
    }
   ],
   "source": [
    "list(s)"
   ]
  },
  {
   "cell_type": "code",
   "execution_count": 274,
   "id": "4804f4b7-4c54-4390-b7c2-9b6b53d2815d",
   "metadata": {},
   "outputs": [
    {
     "data": {
      "text/plain": [
       "{'i', 'm', 'p', 's'}"
      ]
     },
     "execution_count": 274,
     "metadata": {},
     "output_type": "execute_result"
    }
   ],
   "source": [
    "set(s)"
   ]
  },
  {
   "cell_type": "raw",
   "id": "dd5a3598-3ffc-4ff1-9e17-9b0cd48d01d7",
   "metadata": {},
   "source": [
    "Here order is not preserved , Reason it is unordered bcoz datastructure behind set"
   ]
  },
  {
   "cell_type": "raw",
   "id": "da133349-ba88-4631-9ecc-8734288a29bd",
   "metadata": {},
   "source": [
    "# operations on set"
   ]
  },
  {
   "cell_type": "code",
   "execution_count": 275,
   "id": "3d36923e-02d7-493e-b15e-65c8b462cbab",
   "metadata": {},
   "outputs": [
    {
     "data": {
      "text/plain": [
       "{'a', 'b', 'c', 'd', 'e', 'f', 'g'}"
      ]
     },
     "execution_count": 275,
     "metadata": {},
     "output_type": "execute_result"
    }
   ],
   "source": [
    "s1=set(\"abcdefg\")\n",
    "s1"
   ]
  },
  {
   "cell_type": "code",
   "execution_count": 276,
   "id": "77f14c83-1aef-4b28-9948-5f3f0bedfbde",
   "metadata": {},
   "outputs": [
    {
     "data": {
      "text/plain": [
       "{'e', 'f', 'g', 'h', 'i', 'j'}"
      ]
     },
     "execution_count": 276,
     "metadata": {},
     "output_type": "execute_result"
    }
   ],
   "source": [
    "s2=set(\"efghij\")\n",
    "s2"
   ]
  },
  {
   "cell_type": "code",
   "execution_count": 278,
   "id": "ee1ebb62-31b5-43da-b0ad-b11ded7f58ba",
   "metadata": {},
   "outputs": [
    {
     "data": {
      "text/plain": [
       "{'a', 'b', 'c', 'd', 'e', 'f', 'g', 'h', 'i', 'j'}"
      ]
     },
     "execution_count": 278,
     "metadata": {},
     "output_type": "execute_result"
    }
   ],
   "source": [
    "s1|s2"
   ]
  },
  {
   "cell_type": "code",
   "execution_count": 277,
   "id": "bdb54bf3-fddb-478d-910d-5fe8370081bb",
   "metadata": {},
   "outputs": [
    {
     "data": {
      "text/plain": [
       "{'a', 'b', 'c', 'd', 'h', 'i', 'j'}"
      ]
     },
     "execution_count": 277,
     "metadata": {},
     "output_type": "execute_result"
    }
   ],
   "source": [
    "s1^s2"
   ]
  },
  {
   "cell_type": "code",
   "execution_count": 279,
   "id": "d77bb816-41e9-400c-919f-86c0d79a5d45",
   "metadata": {},
   "outputs": [
    {
     "data": {
      "text/plain": [
       "{'a', 'b', 'c', 'd', 'e', 'f', 'g', 'y', 'z'}"
      ]
     },
     "execution_count": 279,
     "metadata": {},
     "output_type": "execute_result"
    }
   ],
   "source": [
    "s1.update({'y','z'})\n",
    "s1"
   ]
  },
  {
   "cell_type": "code",
   "execution_count": 280,
   "id": "b9c3c968-6f52-4105-b32c-2ed25d83030e",
   "metadata": {},
   "outputs": [
    {
     "data": {
      "text/plain": [
       "{'a', 'b', 'c', 'd', 'e', 'f', 'g', 'h', 'i', 'j', 'y', 'z'}"
      ]
     },
     "execution_count": 280,
     "metadata": {},
     "output_type": "execute_result"
    }
   ],
   "source": [
    "s1.union(s2)"
   ]
  },
  {
   "cell_type": "code",
   "execution_count": 282,
   "id": "0967fcca-baae-4568-8c28-8489cee06b6d",
   "metadata": {},
   "outputs": [
    {
     "data": {
      "text/plain": [
       "{'e', 'f', 'g'}"
      ]
     },
     "execution_count": 282,
     "metadata": {},
     "output_type": "execute_result"
    }
   ],
   "source": [
    "s1.intersection(s2)"
   ]
  },
  {
   "cell_type": "code",
   "execution_count": 284,
   "id": "5d4bd59d-ae59-49d0-ad4c-761e9648edb2",
   "metadata": {},
   "outputs": [],
   "source": [
    "s3={\"a\",\"b\"}"
   ]
  },
  {
   "cell_type": "code",
   "execution_count": 285,
   "id": "a05fbb0e-1c9a-467e-a67f-dbf7e9c8948f",
   "metadata": {},
   "outputs": [
    {
     "data": {
      "text/plain": [
       "True"
      ]
     },
     "execution_count": 285,
     "metadata": {},
     "output_type": "execute_result"
    }
   ],
   "source": [
    "s1.issuperset(s3)"
   ]
  },
  {
   "cell_type": "code",
   "execution_count": 287,
   "id": "abbde0d0-2d94-494a-b3ab-9e4607c368bf",
   "metadata": {},
   "outputs": [
    {
     "data": {
      "text/plain": [
       "False"
      ]
     },
     "execution_count": 287,
     "metadata": {},
     "output_type": "execute_result"
    }
   ],
   "source": [
    "s1.issubset(s3)"
   ]
  },
  {
   "cell_type": "code",
   "execution_count": 288,
   "id": "a0594839-bc3b-47fa-84ed-f07765a7b90f",
   "metadata": {},
   "outputs": [
    {
     "ename": "TypeError",
     "evalue": "unhashable type: 'set'",
     "output_type": "error",
     "traceback": [
      "\u001b[1;31m---------------------------------------------------------------------------\u001b[0m",
      "\u001b[1;31mTypeError\u001b[0m                                 Traceback (most recent call last)",
      "Cell \u001b[1;32mIn[288], line 1\u001b[0m\n\u001b[1;32m----> 1\u001b[0m s1\u001b[38;5;241m.\u001b[39madd({\u001b[38;5;124m'\u001b[39m\u001b[38;5;124ma\u001b[39m\u001b[38;5;124m'\u001b[39m,\u001b[38;5;124m'\u001b[39m\u001b[38;5;124mb\u001b[39m\u001b[38;5;124m'\u001b[39m})\n",
      "\u001b[1;31mTypeError\u001b[0m: unhashable type: 'set'"
     ]
    }
   ],
   "source": [
    "s1.add({'a','b'})"
   ]
  },
  {
   "cell_type": "code",
   "execution_count": 289,
   "id": "3630b7d3-51b7-4335-9f2d-b8821fa7818d",
   "metadata": {},
   "outputs": [
    {
     "ename": "TypeError",
     "evalue": "unhashable type: 'list'",
     "output_type": "error",
     "traceback": [
      "\u001b[1;31m---------------------------------------------------------------------------\u001b[0m",
      "\u001b[1;31mTypeError\u001b[0m                                 Traceback (most recent call last)",
      "Cell \u001b[1;32mIn[289], line 1\u001b[0m\n\u001b[1;32m----> 1\u001b[0m s1\u001b[38;5;241m.\u001b[39madd([\u001b[38;5;124m'\u001b[39m\u001b[38;5;124ma\u001b[39m\u001b[38;5;124m'\u001b[39m,\u001b[38;5;124m'\u001b[39m\u001b[38;5;124mb\u001b[39m\u001b[38;5;124m'\u001b[39m])\n",
      "\u001b[1;31mTypeError\u001b[0m: unhashable type: 'list'"
     ]
    }
   ],
   "source": [
    "s1.add(['a','b'])"
   ]
  },
  {
   "cell_type": "code",
   "execution_count": 291,
   "id": "63203463-6afb-4242-ba4f-15e5e5934130",
   "metadata": {},
   "outputs": [
    {
     "ename": "TypeError",
     "evalue": "unhashable type: 'list'",
     "output_type": "error",
     "traceback": [
      "\u001b[1;31m---------------------------------------------------------------------------\u001b[0m",
      "\u001b[1;31mTypeError\u001b[0m                                 Traceback (most recent call last)",
      "Cell \u001b[1;32mIn[291], line 2\u001b[0m\n\u001b[0;32m      1\u001b[0m l4\u001b[38;5;241m=\u001b[39m[\u001b[38;5;124m'\u001b[39m\u001b[38;5;124ma\u001b[39m\u001b[38;5;124m'\u001b[39m,\u001b[38;5;124m'\u001b[39m\u001b[38;5;124mb\u001b[39m\u001b[38;5;124m'\u001b[39m,[\u001b[38;5;124m'\u001b[39m\u001b[38;5;124mc\u001b[39m\u001b[38;5;124m'\u001b[39m,\u001b[38;5;124m'\u001b[39m\u001b[38;5;124md\u001b[39m\u001b[38;5;124m'\u001b[39m]]\n\u001b[1;32m----> 2\u001b[0m s4\u001b[38;5;241m=\u001b[39m\u001b[38;5;28mset\u001b[39m(l4)\n",
      "\u001b[1;31mTypeError\u001b[0m: unhashable type: 'list'"
     ]
    }
   ],
   "source": [
    "l4=['a','b',['c','d']]\n",
    "s4=set(l4)"
   ]
  },
  {
   "cell_type": "markdown",
   "id": "4bf4caaa-0b5a-4b60-8581-b921cf0d5f17",
   "metadata": {},
   "source": [
    "# Dictionary"
   ]
  },
  {
   "cell_type": "code",
   "execution_count": 292,
   "id": "66aa084f-87eb-4738-9e91-be1fcd39b85f",
   "metadata": {},
   "outputs": [],
   "source": [
    "rec=[\"Anil\",\"35\",\"UST Global\",\"Banglore\" \"1000\"]\n"
   ]
  },
  {
   "cell_type": "code",
   "execution_count": 293,
   "id": "49227dd7-1d8e-497d-9454-fba83898cf3b",
   "metadata": {},
   "outputs": [],
   "source": [
    "rec_new=[\"Anil\",\"10/03/1990\",\"89077543\",\"UST Global\",\"Banglore\" \"1000\"]"
   ]
  },
  {
   "cell_type": "code",
   "execution_count": 294,
   "id": "08d4374e-18e7-441a-95c7-ffaad26c3cd8",
   "metadata": {},
   "outputs": [],
   "source": [
    "d={\"name\":\"Anil\",\"Age\":\"35\",\"Company\":\"UST Global\",\"Location\":\"Banglore\",\"Salary\": \"100000\"}"
   ]
  },
  {
   "cell_type": "code",
   "execution_count": 295,
   "id": "95402f5d-855a-4e8a-b193-ce70f08ce7a0",
   "metadata": {},
   "outputs": [
    {
     "data": {
      "text/plain": [
       "{'name': 'Anil',\n",
       " 'Age': '35',\n",
       " 'Company': 'UST Global',\n",
       " 'Location': 'Banglore',\n",
       " 'Salary': '100000'}"
      ]
     },
     "execution_count": 295,
     "metadata": {},
     "output_type": "execute_result"
    }
   ],
   "source": [
    "d"
   ]
  },
  {
   "cell_type": "code",
   "execution_count": 296,
   "id": "dde24dee-cdbb-4106-8b8e-591a915009e9",
   "metadata": {},
   "outputs": [],
   "source": [
    "d['phone']=\"89077543\""
   ]
  },
  {
   "cell_type": "code",
   "execution_count": 297,
   "id": "1e712bd1-c1cb-4ba2-a358-829e494fb9be",
   "metadata": {},
   "outputs": [
    {
     "data": {
      "text/plain": [
       "{'name': 'Anil',\n",
       " 'Age': '35',\n",
       " 'Company': 'UST Global',\n",
       " 'Location': 'Banglore',\n",
       " 'Salary': '100000',\n",
       " 'phone': '89077543'}"
      ]
     },
     "execution_count": 297,
     "metadata": {},
     "output_type": "execute_result"
    }
   ],
   "source": [
    "d"
   ]
  },
  {
   "cell_type": "code",
   "execution_count": 298,
   "id": "382003cc-205b-4ee5-9009-ff6fe01f7b4a",
   "metadata": {},
   "outputs": [
    {
     "data": {
      "text/plain": [
       "'35'"
      ]
     },
     "execution_count": 298,
     "metadata": {},
     "output_type": "execute_result"
    }
   ],
   "source": [
    "d.pop(\"Age\")# removing elemnts in dictioinary"
   ]
  },
  {
   "cell_type": "code",
   "execution_count": 299,
   "id": "d3da26c9-b193-41f6-a2de-a08e67d3df13",
   "metadata": {},
   "outputs": [
    {
     "data": {
      "text/plain": [
       "{'name': 'Anil',\n",
       " 'Company': 'UST Global',\n",
       " 'Location': 'Banglore',\n",
       " 'Salary': '100000',\n",
       " 'phone': '89077543'}"
      ]
     },
     "execution_count": 299,
     "metadata": {},
     "output_type": "execute_result"
    }
   ],
   "source": [
    "d"
   ]
  },
  {
   "cell_type": "code",
   "execution_count": 300,
   "id": "bfc43c0e-b033-4b0f-95ce-1eddf059d394",
   "metadata": {},
   "outputs": [],
   "source": [
    "d['age']=35"
   ]
  },
  {
   "cell_type": "code",
   "execution_count": 301,
   "id": "c4371ea8-d1be-47a9-918d-1796d39e5fc3",
   "metadata": {},
   "outputs": [
    {
     "data": {
      "text/plain": [
       "{'name': 'Anil',\n",
       " 'Company': 'UST Global',\n",
       " 'Location': 'Banglore',\n",
       " 'Salary': '100000',\n",
       " 'phone': '89077543',\n",
       " 'age': 35}"
      ]
     },
     "execution_count": 301,
     "metadata": {},
     "output_type": "execute_result"
    }
   ],
   "source": [
    "d"
   ]
  },
  {
   "cell_type": "code",
   "execution_count": 302,
   "id": "1b47e649-4926-4eb3-b812-cdded6e50bbf",
   "metadata": {},
   "outputs": [
    {
     "data": {
      "text/plain": [
       "dict_values(['Anil', 'UST Global', 'Banglore', '100000', '89077543', 35])"
      ]
     },
     "execution_count": 302,
     "metadata": {},
     "output_type": "execute_result"
    }
   ],
   "source": [
    "d.values()"
   ]
  },
  {
   "cell_type": "code",
   "execution_count": 304,
   "id": "5dd99f59-67de-43c4-b63e-b7008f83b42a",
   "metadata": {},
   "outputs": [
    {
     "data": {
      "text/plain": [
       "dict_keys(['name', 'Company', 'Location', 'Salary', 'phone', 'age'])"
      ]
     },
     "execution_count": 304,
     "metadata": {},
     "output_type": "execute_result"
    }
   ],
   "source": [
    "d.keys()"
   ]
  },
  {
   "cell_type": "code",
   "execution_count": 305,
   "id": "1278fdd1-69d1-496b-98c9-fb51f35c3327",
   "metadata": {},
   "outputs": [
    {
     "data": {
      "text/plain": [
       "dict_items([('name', 'Anil'), ('Company', 'UST Global'), ('Location', 'Banglore'), ('Salary', '100000'), ('phone', '89077543'), ('age', 35)])"
      ]
     },
     "execution_count": 305,
     "metadata": {},
     "output_type": "execute_result"
    }
   ],
   "source": [
    "d.items()"
   ]
  },
  {
   "cell_type": "code",
   "execution_count": 306,
   "id": "9436ef1c-943c-471a-8950-509587b47928",
   "metadata": {},
   "outputs": [
    {
     "data": {
      "text/plain": [
       "{0: 'red', 1: 'green', 2: 'blue'}"
      ]
     },
     "execution_count": 306,
     "metadata": {},
     "output_type": "execute_result"
    }
   ],
   "source": [
    "l=[\"red\",\"green\",\"blue\"]\n",
    "dict(enumerate(l))"
   ]
  },
  {
   "cell_type": "code",
   "execution_count": 309,
   "id": "a6f92c83-c53c-4796-8125-ad4365ae489a",
   "metadata": {},
   "outputs": [
    {
     "data": {
      "text/plain": [
       "{'a': 'red', 'b': 'green', 'c': 'blue'}"
      ]
     },
     "execution_count": 309,
     "metadata": {},
     "output_type": "execute_result"
    }
   ],
   "source": [
    "n=['a','b','c']\n",
    "dict(zip(n,l))"
   ]
  },
  {
   "cell_type": "raw",
   "id": "372abd01-06dc-4ecb-993a-7b9898b387fc",
   "metadata": {},
   "source": [
    "Calculate the characther histogram of a string"
   ]
  },
  {
   "cell_type": "code",
   "execution_count": 312,
   "id": "0ca2af0a-8c80-476e-b1a8-71541a9ded97",
   "metadata": {},
   "outputs": [
    {
     "data": {
      "text/plain": [
       "{'m': 1, 'i': 4, 's': 4, 'p': 2}"
      ]
     },
     "execution_count": 312,
     "metadata": {},
     "output_type": "execute_result"
    }
   ],
   "source": [
    "s='mississippi'\n",
    "ch={}\n",
    "for c in s.lower():\n",
    "    if c in ch.keys():\n",
    "        ch[c]=ch[c]+1\n",
    "    else:\n",
    "        ch[c]=1\n",
    "ch        \n",
    "\n"
   ]
  },
  {
   "cell_type": "code",
   "execution_count": 316,
   "id": "8ca90ff2-3eff-4292-9e29-9632008de466",
   "metadata": {},
   "outputs": [
    {
     "data": {
      "text/plain": [
       "['Mahesh', 'Lakith']"
      ]
     },
     "execution_count": 316,
     "metadata": {},
     "output_type": "execute_result"
    }
   ],
   "source": [
    "a = ['Mahesh', 'Lakith', 25, 26] \n",
    "for\n",
    "c=a[:2:]\n",
    "# d1.keys=a[:1]\n",
    "# d.values=a[:-2:-1]\n",
    "c"
   ]
  },
  {
   "cell_type": "code",
   "execution_count": 322,
   "id": "b87966fe-9d01-4755-a678-c5bb0855190d",
   "metadata": {},
   "outputs": [
    {
     "data": {
      "text/plain": [
       "{'Mahesh': 25, 'Lakith': 26}"
      ]
     },
     "execution_count": 322,
     "metadata": {},
     "output_type": "execute_result"
    }
   ],
   "source": [
    "a = ['Mahesh', 'Lakith', 25, 26]\n",
    "j=0\n",
    "for i in a:\n",
    "    if isinstance(i, str):\n",
    "        j=j+1\n",
    "x=a[:j:]\n",
    "y=a[j::]\n",
    "dict(zip(x,y))\n",
    "   "
   ]
  },
  {
   "cell_type": "code",
   "execution_count": 323,
   "id": "2aa7f891-79f8-448d-92b1-d67c1276afbf",
   "metadata": {},
   "outputs": [
    {
     "data": {
      "text/plain": [
       "{'name': 'Anil',\n",
       " 'Company': 'UST Global',\n",
       " 'Location': 'Banglore',\n",
       " 'Salary': '100000',\n",
       " 'phone': '89077543',\n",
       " 'age': 35}"
      ]
     },
     "execution_count": 323,
     "metadata": {},
     "output_type": "execute_result"
    }
   ],
   "source": [
    "d"
   ]
  },
  {
   "cell_type": "code",
   "execution_count": 324,
   "id": "336d7417-c3ae-4163-ae62-a81bc99c362e",
   "metadata": {},
   "outputs": [
    {
     "data": {
      "text/plain": [
       "{'a': 1, 'b': 2, 'c': 3}"
      ]
     },
     "execution_count": 324,
     "metadata": {},
     "output_type": "execute_result"
    }
   ],
   "source": [
    "d1"
   ]
  },
  {
   "cell_type": "code",
   "execution_count": 327,
   "id": "f1351f96-bc70-4123-af7b-39b8a0487f38",
   "metadata": {},
   "outputs": [
    {
     "data": {
      "text/plain": [
       "{'Anil': 'name',\n",
       " 'UST Global': 'Company',\n",
       " 'Banglore': 'Location',\n",
       " '100000': 'Salary',\n",
       " '89077543': 'phone',\n",
       " 35: 'age'}"
      ]
     },
     "execution_count": 327,
     "metadata": {},
     "output_type": "execute_result"
    }
   ],
   "source": [
    "d2={}\n",
    "for i,j in d.items():\n",
    "    d2[j]=i\n",
    "d2    "
   ]
  },
  {
   "cell_type": "code",
   "execution_count": null,
   "id": "b40a2bdc-e7f3-4a6d-b460-4a8d1d42d7ba",
   "metadata": {},
   "outputs": [],
   "source": []
  },
  {
   "cell_type": "raw",
   "id": "d447fc47-714c-48a9-972e-909f49841739",
   "metadata": {},
   "source": [
    "Session #3 [40]\n",
    "-------------------------------------------------------------------------------------------------------------------\n",
    "\n",
    "1. Count Word Frequency in a Sentence  \n",
    "Task: Given a sentence, count the occurrences of each word using a dictionary.  \n",
    "Example:  \n",
    "sentence = \"apple banana apple orange banana apple\"  \n",
    "Output: {'apple': 3, 'banana': 2, 'orange': 1}  \n",
    "\n",
    "2. Find Unique Elements in Two Lists Using Sets  \n",
    "Task: Given two lists, find the elements that are unique to each list using sets.  \n",
    "Example:  \n",
    "list1 = {1, 2, 3, 4}  \n",
    "list2 = {3, 4, 5, 6}  \n",
    "Output: Unique in list1: {1, 2}, Unique in list2: {5, 6}  \n",
    "\n",
    "3. Merge Two Dictionaries  \n",
    "Task: Merge two dictionaries and sum the values of common keys.  \n",
    "Example:  \n",
    "dict1 = {'a': 10, 'b': 20}  4. Find the Intersection of Two Sets  \n",
    "Task: Given two sets, find the common elements.  \n",
    "Example:  \n",
    "set1 = {1, 2, 3, 4}  \n",
    "set2 = {3, 4, 5, 6}  \n",
    "Output: {3, 4}  \n",
    "dict2 = {'b': 30, 'c': 40}  \n",
    "Output: {'a': 10, 'b': 50, 'c': 40}  \n",
    "\n",
    "\n",
    "\n",
    "5. Find the Most Frequent Element in a List  \n",
    "Task: Given a list, find the element that appears the most times.  \n",
    "Example:  \n",
    "numbers = [1, 3, 2, 3, 4, 3, 5, 2, 1, 3]  \n",
    "Output: Most frequent: 3 (appears 4 times)  \n",
    "\n",
    "6. Remove Duplicates from a List Using Sets  \n",
    "Task: Remove duplicates from a list while maintaining order.  \n",
    "Example:  \n",
    "lst = [1, 2, 2, 3, 4, 4, 5, 6, 6, 6]  \n",
    "Output: [1, 2, 3, 4, 5, 6]  \n",
    "\n",
    "7. Find Students Who Enrolled in Both Courses  \n",
    "Task: Given two sets of students, find those who are enrolled in both courses.  \n",
    "Example:  \n",
    "course_A = {\"Alice\", \"Bob\", \"Charlie\"}  \n",
    "course_B = {\"Bob\", \"David\", \"Charlie\"}  \n",
    "Output: {\"Bob\", \"Charlie\"}  \n",
    "\n",
    "8. Find the Union of Multiple Sets  \n",
    "Task: Find the union of three sets.  \n",
    "Example:  \n",
    "set1 = {1, 2, 3}  \n",
    "set2 = {3, 4, 5}  \n",
    "set3 = {5, 6, 7}  \n",
    "Output: {1, 2, 3, 4, 5, 6, 7}  \n",
    "\n",
    "9. Reverse a Dictionary (Keys Become Values, Values Become Keys)  \n",
    "Task: Swap keys and values in a dictionary.  \n",
    "Example:  \n",
    "original_dict = {'a': 1, 'b': 2, 'c': 3}  \n",
    "Output: {1: 'a', 2: 'b', 3: 'c'}  \n",
    "\n",
    "10. Check If Two Words Are Anagrams Using Dictionaries  \n",
    "Task: Given two words, check if they are anagrams (i.e., contain the same letters with the same frequency).  \n",
    "Example:  \n",
    "word1 = \"listen\"  \n",
    "word2 = \"silent\"  \n",
    "Output: True (They are anagrams)  \n"
   ]
  },
  {
   "cell_type": "raw",
   "id": "66b1b7f8-590c-4196-86aa-049d6b00378c",
   "metadata": {},
   "source": [
    "1. Count Word Frequency in a Sentence  \n",
    "Task: Given a sentence, count the occurrences of each word using a dictionary.  \n",
    "Example:  \n",
    "sentence = \"apple banana apple orange banana apple\"  \n",
    "Output: {'apple': 3, 'banana': 2, 'orange': 1}  "
   ]
  },
  {
   "cell_type": "code",
   "execution_count": 328,
   "id": "faa7ca72-f1e0-4857-923f-216391dc6a11",
   "metadata": {},
   "outputs": [
    {
     "name": "stdout",
     "output_type": "stream",
     "text": [
      "{'apple': 3, 'banana': 2, 'orange': 1}\n"
     ]
    }
   ],
   "source": [
    "sentence = \"apple banana apple orange banana apple\"\n",
    "word_count = {}\n",
    "\n",
    "for word in sentence.split():  # Split sentence into words\n",
    "    word_count[word] = word_count.get(word, 0) + 1  # Increase count\n",
    "\n",
    "print(word_count)\n",
    "\n",
    "    \n",
    "    "
   ]
  },
  {
   "cell_type": "raw",
   "id": "3dbbb7ed-7ec2-494c-a4ae-fd0cdaba45ac",
   "metadata": {},
   "source": [
    "2. Find Unique Elements in Two Lists Using Sets  \n",
    "Task: Given two lists, find the elements that are unique to each list using sets.  \n",
    "Example:  \n",
    "list1 = {1, 2, 3, 4}  \n",
    "list2 = {3, 4, 5, 6}  \n",
    "Output: Unique in list1: {1, 2}, Unique in list2: {5, 6}  "
   ]
  },
  {
   "cell_type": "code",
   "execution_count": 332,
   "id": "21a5fa83-df94-4847-bd99-64461b8b6ecc",
   "metadata": {},
   "outputs": [
    {
     "name": "stdout",
     "output_type": "stream",
     "text": [
      "Unique elements in l1 is {1, 2} and Unique elements in l1 is {5, 6} \n"
     ]
    }
   ],
   "source": [
    "l1={1,2,3,4}\n",
    "l2={3,4,5,6}\n",
    "unique_l1=l1-l2\n",
    "unique_l2=l2-l1\n",
    "print(\"Unique elements in l1 is {0} and Unique elements in l1 is {1} \".format(unique_l1,unique_l2))"
   ]
  },
  {
   "cell_type": "raw",
   "id": "7fecf44c-335a-4112-9a47-3fe585910919",
   "metadata": {},
   "source": [
    "3. Merge Two Dictionaries  \n",
    "Task: Merge two dictionaries and sum the values of common keys.  \n",
    "Example:  \n",
    "dict1 = {'a': 10, 'b': 20}  \n",
    "dict2 = {'b': 30, 'c': 40}  \n",
    "Output: {'a': 10, 'b': 50, 'c': 40}  "
   ]
  },
  {
   "cell_type": "code",
   "execution_count": 360,
   "id": "e92c98be-3b6c-4c47-9528-dbd0a988dd5f",
   "metadata": {},
   "outputs": [
    {
     "data": {
      "text/plain": [
       "{'a': 10, 'b': 50, 'c': 40}"
      ]
     },
     "execution_count": 360,
     "metadata": {},
     "output_type": "execute_result"
    }
   ],
   "source": [
    "dict1 = {'a': 10, 'b': 20}  \n",
    "dict2 = {'b': 30, 'c': 40} \n",
    "c_dict = {}\n",
    "for i in dict1.keys():\n",
    "    if i in dict2:\n",
    "        c_dict[i] = dict1[i] + dict2[i]\n",
    "    else:\n",
    "        c_dict[i] = dict1[i]\n",
    "\n",
    "for i in dict2.keys():\n",
    "    if i not in dict1:\n",
    "        c_dict[i] = dict2[i]\n",
    "\n",
    "c_dict"
   ]
  },
  {
   "cell_type": "code",
   "execution_count": 354,
   "id": "d0f45423-2c07-416b-9677-521a979fc693",
   "metadata": {},
   "outputs": [
    {
     "name": "stdout",
     "output_type": "stream",
     "text": [
      "{'a': 10, 'b': 30, 'c': 40}\n",
      "{'b': 50, 'a': 10, 'c': 40}\n"
     ]
    }
   ],
   "source": [
    "dict1 = {'a': 10, 'b': 20}  \n",
    "dict2 = {'b': 30, 'c': 40}\n",
    "l1=list(dict1.keys())\n",
    "l2=list(dict2.keys())\n",
    "# l3=l1+l2\n",
    "# s1=set(l1)\n",
    "# s2=set(l2)\n",
    "# s3=s1 | s2\n",
    "dict1 = {'a': 10, 'b': 20}\n",
    "dict2 = {'b': 30, 'c': 40}\n",
    "\n",
    "dict3 = dict1 | dict2  # ✅ Creates a new merged dictionary\n",
    "print(dict3)\n",
    "\n",
    "dict1 = {'a': 10, 'b': 20}\n",
    "dict2 = {'b': 30, 'c': 40}\n",
    "\n",
    "dict3 = {key: dict1.get(key, 0) + dict2.get(key, 0) for key in set(dict1) | set(dict2)}\n",
    "\n",
    "print(dict3)\n",
    "\n",
    "\n",
    "# dict3=dict1|dict2\n",
    "# print(dict3)"
   ]
  },
  {
   "cell_type": "code",
   "execution_count": 345,
   "id": "8c1ac396-a95a-4a63-82dd-1699987b7918",
   "metadata": {},
   "outputs": [
    {
     "data": {
      "text/plain": [
       "['a', 'b']"
      ]
     },
     "execution_count": 345,
     "metadata": {},
     "output_type": "execute_result"
    }
   ],
   "source": [
    "list(dict1.keys())"
   ]
  },
  {
   "cell_type": "code",
   "execution_count": 343,
   "id": "1163e539-94eb-458d-85de-279e90f3804d",
   "metadata": {},
   "outputs": [
    {
     "data": {
      "text/plain": [
       "dict_keys(['b', 'c'])"
      ]
     },
     "execution_count": 343,
     "metadata": {},
     "output_type": "execute_result"
    }
   ],
   "source": [
    "dict2.keys()\n"
   ]
  },
  {
   "cell_type": "raw",
   "id": "82d35c69-3760-4480-a43c-51fb86c2cacf",
   "metadata": {},
   "source": [
    "4. Find the Intersection of Two Sets  \n",
    "Task: Given two sets, find the common elements.  \n",
    "Example:  \n",
    "set1 = {1, 2, 3, 4}  \n",
    "set2 = {3, 4, 5, 6}  \n",
    "Output: {3, 4}  "
   ]
  },
  {
   "cell_type": "code",
   "execution_count": 355,
   "id": "c3e921f7-3aa6-4b45-97a4-4aa864ccd8e6",
   "metadata": {},
   "outputs": [
    {
     "name": "stdout",
     "output_type": "stream",
     "text": [
      "{3, 4}\n",
      "{3, 4}\n"
     ]
    }
   ],
   "source": [
    "set1 = {1, 2, 3, 4}\n",
    "set2 = {3, 4, 5, 6}\n",
    "\n",
    "# Method 1: Using & operator\n",
    "intersection1 = set1 & set2  \n",
    "\n",
    "# Method 2: Using intersection() method\n",
    "intersection2 = set1.intersection(set2)  \n",
    "\n",
    "print(intersection1)  # Output: {3, 4}\n",
    "print(intersection2)  # Output: {3, 4}\n"
   ]
  },
  {
   "cell_type": "raw",
   "id": "671466e7-23d7-4560-baab-413cabe56563",
   "metadata": {},
   "source": [
    "5. Find the Most Frequent Element in a List  \n",
    "Task: Given a list, find the element that appears the most times.  \n",
    "Example:  \n",
    "numbers = [1, 3, 2, 3, 4, 3, 5, 2, 1, 3]  \n",
    "Output: Most frequent: 3 (appears 4 times)  "
   ]
  },
  {
   "cell_type": "code",
   "execution_count": 359,
   "id": "bf1cabab-5b54-42c0-bc47-f98d5d564abf",
   "metadata": {},
   "outputs": [
    {
     "name": "stdout",
     "output_type": "stream",
     "text": [
      "[1, 2, 3, 4, 5]\n",
      "{1: 1, 2: 1, 3: 1, 4: 1, 5: 1}\n"
     ]
    }
   ],
   "source": [
    "numbers = [1, 3, 2, 3, 4, 3, 5, 2, 1, 3]\n",
    "\n",
    "unique_numbers =list( set(numbers))  # ✅ Convert list to set\n",
    "print(unique_numbers)\n",
    "d={}\n",
    "c=0\n",
    "\n",
    "for i in unique_numbers:\n",
    "    if i in unique_numbers:\n",
    "        d[i]=c+1\n",
    "        \n",
    "print(d)    \n",
    "    \n",
    "\n"
   ]
  },
  {
   "cell_type": "code",
   "execution_count": null,
   "id": "0be93bc9-da02-4ac4-a063-c3f435599530",
   "metadata": {},
   "outputs": [],
   "source": []
  },
  {
   "cell_type": "code",
   "execution_count": null,
   "id": "ddd9deb7-0ed6-4d51-a6d0-ac3644cdff52",
   "metadata": {},
   "outputs": [],
   "source": []
  }
 ],
 "metadata": {
  "kernelspec": {
   "display_name": "Python 3 (ipykernel)",
   "language": "python",
   "name": "python3"
  },
  "language_info": {
   "codemirror_mode": {
    "name": "ipython",
    "version": 3
   },
   "file_extension": ".py",
   "mimetype": "text/x-python",
   "name": "python",
   "nbconvert_exporter": "python",
   "pygments_lexer": "ipython3",
   "version": "3.12.4"
  }
 },
 "nbformat": 4,
 "nbformat_minor": 5
}
