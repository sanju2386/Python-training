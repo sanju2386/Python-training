{
 "cells": [
  {
   "cell_type": "code",
   "execution_count": 1,
   "id": "2758cbb6-6574-4898-8c3a-d47c20444119",
   "metadata": {},
   "outputs": [
    {
     "name": "stdout",
     "output_type": "stream",
     "text": [
      "The Zen of Python, by Tim Peters\n",
      "\n",
      "Beautiful is better than ugly.\n",
      "Explicit is better than implicit.\n",
      "Simple is better than complex.\n",
      "Complex is better than complicated.\n",
      "Flat is better than nested.\n",
      "Sparse is better than dense.\n",
      "Readability counts.\n",
      "Special cases aren't special enough to break the rules.\n",
      "Although practicality beats purity.\n",
      "Errors should never pass silently.\n",
      "Unless explicitly silenced.\n",
      "In the face of ambiguity, refuse the temptation to guess.\n",
      "There should be one-- and preferably only one --obvious way to do it.\n",
      "Although that way may not be obvious at first unless you're Dutch.\n",
      "Now is better than never.\n",
      "Although never is often better than *right* now.\n",
      "If the implementation is hard to explain, it's a bad idea.\n",
      "If the implementation is easy to explain, it may be a good idea.\n",
      "Namespaces are one honking great idea -- let's do more of those!\n"
     ]
    }
   ],
   "source": [
    "import this "
   ]
  },
  {
   "cell_type": "raw",
   "id": "be654a0d-3e15-4308-8159-f68d7559183a",
   "metadata": {},
   "source": [
    "The Zen of Python is a set of guiding principles for writing Pythonic code, created by Tim Peters. It's like a philosophy that helps Python developers write clean, readable, and efficient code. Let's break it down:\n",
    "\n",
    "Beautiful is better than ugly.:Code should be aesthetically pleasing and well-structured, making it easier to understand and maintain.\n",
    "Explicit is better than implicit.:Code should be clear about what it does rather than relying on hidden or implicit behaviors.\n",
    "Simple is better than complex.:If something can be done in a straightforward way, that approach should be preferred.\n",
    "\n",
    "Complex is better than complicated.:Some problems require complexity, but unnecessary complications should be avoided.\n",
    "\n",
    "Flat is better than nested.:Avoid deep nesting of loops or conditionals; keep the structure of code as simple as possible.\n",
    "Sparse is better than dense.\n",
    "\n",
    "Spacing and formatting matter.: Cluttered code is harder to read and debug.\n",
    "\n",
    "Readability counts.:Code is read more often than it is written. Prioritize readability over clever tricks.\n",
    "\n",
    "Special cases aren't special enough to break the rules.:Consistency in code is important; don't introduce exceptions unless absolutely necessary.\n",
    "\n",
    "Although practicality beats purity.:While following best practices is good, sometimes practical solutions take precedence over rigid adherence to rules.\n",
    "\n",
    "Errors should never pass silently.:Errors should be caught and handled explicitly rather than ignored.\n",
    "\n",
    "Unless explicitly silenced.:If you do need to suppress an error, do it intentionally and clearly.\n",
    "\n",
    "In the face of ambiguity, refuse the temptation to guess.:Code should be clear and unambiguous. If something is unclear, rethink the approach.\n",
    "There should be one-- and preferably only one --obvious way to do it.\n",
    "\n",
    "Python promotes a single, clear way to accomplish a task, making code more consistent.\n",
    "Although that way may not be obvious at first unless you're Dutch.\n",
    "\n",
    "A playful reference to Guido van Rossum, Python’s Dutch creator. Sometimes, the best approach may not be immediately obvious.\n",
    "Now is better than never.\n",
    "\n",
    "It’s better to take action and solve problems rather than waiting indefinitely.\n",
    "Although never is often better than right now.\n",
    "\n",
    "Rushing into a solution without thinking it through can lead to bad decisions.\n",
    "If the implementation is hard to explain, it's a bad idea.\n",
    "\n",
    "Good code should be intuitive and easy to understand.\n",
    "If the implementation is easy to explain, it may be a good idea.\n",
    "\n",
    "If you can explain your solution simply, it's likely well-designed.\n",
    "Namespaces are one honking great idea -- let's do more of those!\n",
    "\n",
    "Namespaces help organize code, preventing conflicts and making it more maintainable."
   ]
  },
  {
   "cell_type": "code",
   "execution_count": 1,
   "id": "1fdb0487-ee1d-49ec-8208-e2fc2c8d64b8",
   "metadata": {},
   "outputs": [],
   "source": [
    "x=\"a\""
   ]
  },
  {
   "cell_type": "code",
   "execution_count": 2,
   "id": "fd94e4b1-1b23-4ca7-b080-6a6c77b67f0f",
   "metadata": {},
   "outputs": [
    {
     "data": {
      "text/plain": [
       "str"
      ]
     },
     "execution_count": 2,
     "metadata": {},
     "output_type": "execute_result"
    }
   ],
   "source": [
    "type(x)"
   ]
  },
  {
   "cell_type": "code",
   "execution_count": 3,
   "id": "bcec0193-9c6b-43b0-8b66-f9a960675ed3",
   "metadata": {},
   "outputs": [],
   "source": [
    "b=2"
   ]
  },
  {
   "cell_type": "code",
   "execution_count": 4,
   "id": "406c6a04-a388-4558-96ab-3db5d627866f",
   "metadata": {},
   "outputs": [
    {
     "data": {
      "text/plain": [
       "int"
      ]
     },
     "execution_count": 4,
     "metadata": {},
     "output_type": "execute_result"
    }
   ],
   "source": [
    "type(b)"
   ]
  },
  {
   "cell_type": "code",
   "execution_count": 6,
   "id": "bf18bf22-9a4e-4b63-a033-2e1983c5bff2",
   "metadata": {},
   "outputs": [],
   "source": [
    "s1=[1,2,3,4,[\"a\",'v','g','e'],6,7]"
   ]
  },
  {
   "cell_type": "code",
   "execution_count": 7,
   "id": "0b890245-765c-445e-857a-02dda5f27026",
   "metadata": {},
   "outputs": [
    {
     "data": {
      "text/plain": [
       "list"
      ]
     },
     "execution_count": 7,
     "metadata": {},
     "output_type": "execute_result"
    }
   ],
   "source": [
    "type(s1)\n"
   ]
  },
  {
   "cell_type": "code",
   "execution_count": 10,
   "id": "2d0561b3-7556-47a4-b53f-4bd5b5caf839",
   "metadata": {},
   "outputs": [],
   "source": [
    "s2={1,1,1,2,3,3,3}"
   ]
  },
  {
   "cell_type": "code",
   "execution_count": 11,
   "id": "d6cbd795-3c6b-411d-a11e-711f896fb9bf",
   "metadata": {},
   "outputs": [
    {
     "data": {
      "text/plain": [
       "3"
      ]
     },
     "execution_count": 11,
     "metadata": {},
     "output_type": "execute_result"
    }
   ],
   "source": [
    "len(s2)"
   ]
  },
  {
   "cell_type": "code",
   "execution_count": 12,
   "id": "d1627bbc-b543-45e1-a29c-a89af988f05d",
   "metadata": {},
   "outputs": [
    {
     "data": {
      "text/plain": [
       "False"
      ]
     },
     "execution_count": 12,
     "metadata": {},
     "output_type": "execute_result"
    }
   ],
   "source": [
    "[1,2]==[2,1]"
   ]
  },
  {
   "cell_type": "raw",
   "id": "61985e45-609e-49cc-b03d-0982b6661933",
   "metadata": {},
   "source": [
    "order matters in list"
   ]
  },
  {
   "cell_type": "code",
   "execution_count": 14,
   "id": "c7fe9be9-ac7b-419b-9bf5-fb69e52cc618",
   "metadata": {},
   "outputs": [
    {
     "data": {
      "text/plain": [
       "True"
      ]
     },
     "execution_count": 14,
     "metadata": {},
     "output_type": "execute_result"
    }
   ],
   "source": [
    "{1,2,2,3}=={3,3,2,1}"
   ]
  },
  {
   "cell_type": "raw",
   "id": "3b0f6064-0295-4907-ab1c-5f201ff8c530",
   "metadata": {},
   "source": [
    "order is not important in set"
   ]
  },
  {
   "cell_type": "markdown",
   "id": "07f3a2c4-a822-480e-8bf5-29098c037a4b",
   "metadata": {},
   "source": [
    "Order matters in tuper ,can't add or append in tuple"
   ]
  },
  {
   "cell_type": "code",
   "execution_count": 15,
   "id": "49aae652-5281-4c37-a530-fa39e2d14970",
   "metadata": {},
   "outputs": [
    {
     "data": {
      "text/plain": [
       "False"
      ]
     },
     "execution_count": 15,
     "metadata": {},
     "output_type": "execute_result"
    }
   ],
   "source": [
    "(1,2)==(2,1)"
   ]
  },
  {
   "cell_type": "markdown",
   "id": "a0e44808-1802-4fb9-8dbc-ff2b02737319",
   "metadata": {},
   "source": [
    "Order matters in tuper ,can't add or append in tuple"
   ]
  },
  {
   "cell_type": "markdown",
   "id": "24ca9db1-ff99-4aac-b9af-8996215366a8",
   "metadata": {},
   "source": [
    "With tuples pythons know you don't  values don't changes so memory required by tuples are less, used for x,y coordinates"
   ]
  },
  {
   "cell_type": "code",
   "execution_count": null,
   "id": "c5df4fe3-f27e-40b7-9892-acb8091e08c0",
   "metadata": {},
   "outputs": [],
   "source": []
  },
  {
   "cell_type": "markdown",
   "id": "62e21335-9348-4a70-bfb6-789c777a6181",
   "metadata": {},
   "source": [
    "Dictionary"
   ]
  },
  {
   "cell_type": "code",
   "execution_count": null,
   "id": "92cc75be-5b1f-4500-87c5-c4a075ec9dfe",
   "metadata": {},
   "outputs": [],
   "source": []
  },
  {
   "cell_type": "code",
   "execution_count": null,
   "id": "99cdcf22-8b2b-45c4-9b47-60e700f9e305",
   "metadata": {},
   "outputs": [],
   "source": []
  },
  {
   "cell_type": "markdown",
   "id": "e4d55d72-c1df-4ff7-9d38-486137d4ae29",
   "metadata": {},
   "source": [
    "Arthimetic operators "
   ]
  },
  {
   "cell_type": "code",
   "execution_count": 16,
   "id": "82736d2e-737d-4c90-8c49-e61a2c8d9175",
   "metadata": {},
   "outputs": [
    {
     "name": "stdout",
     "output_type": "stream",
     "text": [
      "Addition (10 + 3) = 13\n",
      "Subtraction (10 - 3) = 7\n",
      "Multiplication (10 * 3) = 30\n",
      "Division (10 / 3) = 3.3333333333333335\n",
      "Floor Division (10 // 3) = 3\n",
      "Modulus (10 % 3) = 1\n",
      "Exponentiation (10 ** 3) = 1000\n"
     ]
    }
   ],
   "source": [
    "# List of Arithmetic Operators in Python\n",
    "\n",
    "# Define two numbers\n",
    "a = 10\n",
    "b = 3\n",
    "\n",
    "# Addition\n",
    "add = a + b\n",
    "print(f\"Addition ({a} + {b}) = {add}\")\n",
    "\n",
    "# Subtraction\n",
    "sub = a - b\n",
    "print(f\"Subtraction ({a} - {b}) = {sub}\")\n",
    "\n",
    "# Multiplication\n",
    "mul = a * b\n",
    "print(f\"Multiplication ({a} * {b}) = {mul}\")\n",
    "\n",
    "# Division (returns float)\n",
    "div = a / b\n",
    "print(f\"Division ({a} / {b}) = {div}\")\n",
    "\n",
    "# Floor Division (returns integer)\n",
    "floor_div = a // b\n",
    "print(f\"Floor Division ({a} // {b}) = {floor_div}\")\n",
    "\n",
    "# Modulus (remainder)\n",
    "mod = a % b\n",
    "print(f\"Modulus ({a} % {b}) = {mod}\")\n",
    "\n",
    "# Exponentiation (Power)\n",
    "exp = a ** b\n",
    "print(f\"Exponentiation ({a} ** {b}) = {exp}\")\n"
   ]
  },
  {
   "cell_type": "code",
   "execution_count": null,
   "id": "d5f8edd6-8edf-4303-98d3-2f6951aacd50",
   "metadata": {},
   "outputs": [],
   "source": []
  },
  {
   "cell_type": "markdown",
   "id": "7449daca-f0b5-433c-8006-310a0b3d5e1e",
   "metadata": {},
   "source": [
    "Control flow"
   ]
  },
  {
   "cell_type": "code",
   "execution_count": 19,
   "id": "eb23ad90-2979-4875-81b1-52a3eada8aab",
   "metadata": {},
   "outputs": [
    {
     "name": "stdout",
     "output_type": "stream",
     "text": [
      "The number is exactly 10\n",
      "\n",
      "For Loop Example:\n",
      "I like apple\n",
      "I like banana\n",
      "I like cherry\n",
      "\n",
      "For Loop with range:\n",
      "Number: 1\n",
      "Number: 2\n",
      "Number: 3\n",
      "Number: 4\n",
      "Number: 5\n",
      "\n",
      "While Loop Example:\n",
      "Count is 0\n",
      "Count is 1\n",
      "Count is 2\n",
      "Count is 3\n",
      "Count is 4\n",
      "\n",
      "Looping Done!\n"
     ]
    }
   ],
   "source": [
    "# Control Flow in Python\n",
    "\n",
    "# IF-ELIF-ELSE Example\n",
    "num = 10\n",
    "\n",
    "if num > 10:\n",
    "    print(\"The number is greater than 10\")\n",
    "elif num == 10:\n",
    "    print(\"The number is exactly 10\")\n",
    "else:\n",
    "    print(\"The number is less than 10\")\n",
    "\n",
    "# FOR LOOP Example (Loop through a list)\n",
    "fruits = [\"apple\", \"banana\", \"cherry\"]\n",
    "print(\"\\nFor Loop Example:\")\n",
    "for fruit in fruits:\n",
    "    print(f\"I like {fruit}\")\n",
    "\n",
    "# Using range in a for loop\n",
    "print(\"\\nFor Loop with range:\")\n",
    "for i in range(1, 6):  # Loops from 1 to 5\n",
    "    print(f\"Number: {i}\")\n",
    "\n",
    "# WHILE LOOP Example (Loop until condition is met)\n",
    "print(\"\\nWhile Loop Example:\")\n",
    "count = 0\n",
    "while count < 5:\n",
    "    print(f\"Count is {count}\")\n",
    "    count += 1  # Increment count\n",
    "\n",
    "print(\"\\nLooping Done!\")\n"
   ]
  },
  {
   "cell_type": "raw",
   "id": "cb7dffdc-7601-4ad8-9d39-d965f5e6f975",
   "metadata": {},
   "source": [
    "Explanation:\n",
    "if checks a condition.\n",
    "elif (else if) checks another condition if the first is false.\n",
    "else runs if none of the previous conditions are met.\n",
    "for loop iterates over a sequence (like a list or range).\n",
    "while loop runs until a condition becomes False."
   ]
  },
  {
   "cell_type": "code",
   "execution_count": 20,
   "id": "087d15d1-2145-43c6-97f3-34dae59508b3",
   "metadata": {},
   "outputs": [
    {
     "name": "stdout",
     "output_type": "stream",
     "text": [
      "Hello\n",
      "World\n"
     ]
    }
   ],
   "source": [
    "print(\"Hello\\nWorld\")\n"
   ]
  },
  {
   "cell_type": "code",
   "execution_count": null,
   "id": "ff95a0cc-076f-4327-8dab-fa6d6603268f",
   "metadata": {},
   "outputs": [],
   "source": []
  },
  {
   "cell_type": "code",
   "execution_count": null,
   "id": "2cee4f2d-0a4b-435d-a290-b0423044f7ca",
   "metadata": {},
   "outputs": [],
   "source": []
  },
  {
   "cell_type": "markdown",
   "id": "f31c8cb1-5e5e-4908-b83e-49146acc8335",
   "metadata": {},
   "source": [
    "Functions"
   ]
  },
  {
   "cell_type": "code",
   "execution_count": 2,
   "id": "efca1c52-4ef7-4ff6-b0f1-257a341c60cf",
   "metadata": {},
   "outputs": [],
   "source": [
    "def add(a,b):\n",
    "    result=a+b\n",
    "    return result"
   ]
  },
  {
   "cell_type": "code",
   "execution_count": 3,
   "id": "15ef7c4f-43ec-46de-a8a5-c043b559a2b7",
   "metadata": {},
   "outputs": [],
   "source": [
    "v=add(2,7)"
   ]
  },
  {
   "cell_type": "code",
   "execution_count": 4,
   "id": "f0afa693-2d12-4d97-b6ea-4426fad29a81",
   "metadata": {},
   "outputs": [
    {
     "name": "stdout",
     "output_type": "stream",
     "text": [
      "9\n"
     ]
    }
   ],
   "source": [
    "print(v)"
   ]
  },
  {
   "cell_type": "markdown",
   "id": "ec9b9481-1525-4160-a0c3-a3877aa2e526",
   "metadata": {},
   "source": [
    "Factorial "
   ]
  },
  {
   "cell_type": "code",
   "execution_count": 1,
   "id": "730ac84d-b85c-47d1-9bac-4f2483f9dce6",
   "metadata": {},
   "outputs": [],
   "source": [
    "def factorial(num):\n",
    "    # Your code goes here.\n",
    "    if not isinstance(num, int) or num < 0:\n",
    "        return None\n",
    "    \n",
    "    elif num ==0 :\n",
    "        return 1\n",
    "    else :\n",
    "        result = 1\n",
    "        for  i in range(1,num +1):\n",
    "            result= result * i\n",
    "        return result\n"
   ]
  },
  {
   "cell_type": "code",
   "execution_count": 4,
   "id": "6b284c4c-6925-4d53-b6f2-8032416e0ce7",
   "metadata": {},
   "outputs": [],
   "source": [
    "def fact(num):\n",
    "    if type(num) != int :\n",
    "        return None \n",
    "    elif num ==0 :\n",
    "        return 1\n",
    "    else :\n",
    "        result = 1\n",
    "        for  i in range(1,num +1):\n",
    "            result= result * i\n",
    "        return result\n",
    "\n",
    "    \n",
    "    "
   ]
  },
  {
   "cell_type": "code",
   "execution_count": 5,
   "id": "14a9ddd2-84a4-4862-8011-7830c54c24f1",
   "metadata": {},
   "outputs": [
    {
     "name": "stdout",
     "output_type": "stream",
     "text": [
      "10\n"
     ]
    }
   ],
   "source": [
    "print(int(\"A\", 16))  # Output: 10 (A in hexadecimal is 10 in decimal)\n"
   ]
  },
  {
   "cell_type": "code",
   "execution_count": 7,
   "id": "da0a0cf4-374e-44f5-a11c-16e89a4ed2bf",
   "metadata": {},
   "outputs": [],
   "source": [
    "from decimal import Decimal ,getcontext"
   ]
  },
  {
   "cell_type": "code",
   "execution_count": 8,
   "id": "ce601ac2-a11b-464c-992d-0eefcd1a9bfd",
   "metadata": {},
   "outputs": [
    {
     "data": {
      "text/plain": [
       "Context(prec=28, rounding=ROUND_HALF_EVEN, Emin=-999999, Emax=999999, capitals=1, clamp=0, flags=[], traps=[InvalidOperation, DivisionByZero, Overflow])"
      ]
     },
     "execution_count": 8,
     "metadata": {},
     "output_type": "execute_result"
    }
   ],
   "source": [
    "getcontext()"
   ]
  },
  {
   "cell_type": "code",
   "execution_count": null,
   "id": "85627e16-af2e-43fa-a769-601cfe5b05b4",
   "metadata": {},
   "outputs": [],
   "source": []
  },
  {
   "cell_type": "code",
   "execution_count": null,
   "id": "2e93de34-83cc-4f53-8875-8b4fc4b9e3e7",
   "metadata": {},
   "outputs": [],
   "source": []
  },
  {
   "cell_type": "markdown",
   "id": "bd6f0af9-4568-45e6-a7d0-b55250983c7d",
   "metadata": {},
   "source": [
    "Boolean"
   ]
  },
  {
   "cell_type": "markdown",
   "id": "2fec8b0d-a26f-44c8-9499-e02a705d0142",
   "metadata": {},
   "source": [
    "Boolean casting"
   ]
  },
  {
   "cell_type": "code",
   "execution_count": 9,
   "id": "ab286b3a-43b4-4818-8a97-2da248ebc232",
   "metadata": {},
   "outputs": [
    {
     "data": {
      "text/plain": [
       "True"
      ]
     },
     "execution_count": 9,
     "metadata": {},
     "output_type": "execute_result"
    }
   ],
   "source": [
    "bool(1)"
   ]
  },
  {
   "cell_type": "code",
   "execution_count": 10,
   "id": "4c4ec31f-3896-4ef4-9d83-03e5953bf44c",
   "metadata": {},
   "outputs": [
    {
     "data": {
      "text/plain": [
       "False"
      ]
     },
     "execution_count": 10,
     "metadata": {},
     "output_type": "execute_result"
    }
   ],
   "source": [
    "bool(0)"
   ]
  },
  {
   "cell_type": "code",
   "execution_count": 11,
   "id": "39f25bc3-6e27-49ff-bbc6-8a7f57a72cfe",
   "metadata": {},
   "outputs": [
    {
     "data": {
      "text/plain": [
       "bool"
      ]
     },
     "execution_count": 11,
     "metadata": {},
     "output_type": "execute_result"
    }
   ],
   "source": [
    "bool"
   ]
  },
  {
   "cell_type": "code",
   "execution_count": 12,
   "id": "93a3b7d0-5bc3-409e-a5aa-d81fb66350f8",
   "metadata": {},
   "outputs": [
    {
     "data": {
      "text/plain": [
       "True"
      ]
     },
     "execution_count": 12,
     "metadata": {},
     "output_type": "execute_result"
    }
   ],
   "source": [
    "bool(2)"
   ]
  },
  {
   "cell_type": "code",
   "execution_count": 13,
   "id": "f598c5d4-e47c-4961-988a-b3e8029ad5c6",
   "metadata": {},
   "outputs": [
    {
     "data": {
      "text/plain": [
       "True"
      ]
     },
     "execution_count": 13,
     "metadata": {},
     "output_type": "execute_result"
    }
   ],
   "source": [
    "bool(3)"
   ]
  },
  {
   "cell_type": "code",
   "execution_count": 14,
   "id": "7f3c59fe-b4fd-4414-b729-d9706a242e3d",
   "metadata": {},
   "outputs": [
    {
     "data": {
      "text/plain": [
       "True"
      ]
     },
     "execution_count": 14,
     "metadata": {},
     "output_type": "execute_result"
    }
   ],
   "source": [
    "bool(\"A\")\n"
   ]
  },
  {
   "cell_type": "code",
   "execution_count": null,
   "id": "66830b81-9672-476a-82d4-19965e595a8c",
   "metadata": {},
   "outputs": [],
   "source": []
  },
  {
   "cell_type": "code",
   "execution_count": null,
   "id": "aeb1da35-ebfa-4850-a1ce-2ed38c125fa6",
   "metadata": {},
   "outputs": [],
   "source": []
  },
  {
   "cell_type": "markdown",
   "id": "5cd7419b-9847-404f-86f8-569d54dd4d2e",
   "metadata": {},
   "source": [
    "Strings"
   ]
  },
  {
   "cell_type": "code",
   "execution_count": 15,
   "id": "c846f910-84bf-4874-8651-466207d51633",
   "metadata": {},
   "outputs": [],
   "source": [
    "name = \" My name is Sanju\""
   ]
  },
  {
   "cell_type": "code",
   "execution_count": 16,
   "id": "eb3905a2-9c39-48e0-9608-a5945be06c75",
   "metadata": {},
   "outputs": [
    {
     "data": {
      "text/plain": [
       "' M'"
      ]
     },
     "execution_count": 16,
     "metadata": {},
     "output_type": "execute_result"
    }
   ],
   "source": [
    "name[0:2]"
   ]
  },
  {
   "cell_type": "code",
   "execution_count": 17,
   "id": "348a920c-e773-49a4-905c-55c437e3bf8b",
   "metadata": {},
   "outputs": [
    {
     "data": {
      "text/plain": [
       "' asj'"
      ]
     },
     "execution_count": 17,
     "metadata": {},
     "output_type": "execute_result"
    }
   ],
   "source": [
    "name[0::5]\n"
   ]
  },
  {
   "cell_type": "code",
   "execution_count": 18,
   "id": "db850dba-3ff6-47af-90fd-2e7aaff02968",
   "metadata": {},
   "outputs": [
    {
     "data": {
      "text/plain": [
       "'M'"
      ]
     },
     "execution_count": 18,
     "metadata": {},
     "output_type": "execute_result"
    }
   ],
   "source": [
    "name[1:2:5]\n"
   ]
  },
  {
   "cell_type": "code",
   "execution_count": 19,
   "id": "b6d09382-c497-42b0-b246-4e6c2d19839b",
   "metadata": {},
   "outputs": [
    {
     "data": {
      "text/plain": [
       "'M '"
      ]
     },
     "execution_count": 19,
     "metadata": {},
     "output_type": "execute_result"
    }
   ],
   "source": [
    "name[1:5:2]"
   ]
  },
  {
   "cell_type": "code",
   "execution_count": 20,
   "id": "a6a4bb78-ab46-426f-9c69-db9491603bb8",
   "metadata": {},
   "outputs": [
    {
     "data": {
      "text/plain": [
       "17"
      ]
     },
     "execution_count": 20,
     "metadata": {},
     "output_type": "execute_result"
    }
   ],
   "source": [
    "len(name)"
   ]
  },
  {
   "cell_type": "code",
   "execution_count": 21,
   "id": "4ce13f26-b3f6-44ae-8f3b-7149f8b4a4e6",
   "metadata": {},
   "outputs": [
    {
     "data": {
      "text/plain": [
       "'M aei'"
      ]
     },
     "execution_count": 21,
     "metadata": {},
     "output_type": "execute_result"
    }
   ],
   "source": [
    "name[1:10:2]"
   ]
  },
  {
   "cell_type": "code",
   "execution_count": 24,
   "id": "0fe5a3db-3494-4c3d-a1cb-a3fed8ed14e2",
   "metadata": {},
   "outputs": [],
   "source": [
    "import math"
   ]
  },
  {
   "cell_type": "code",
   "execution_count": 28,
   "id": "7c222420-508d-42c4-88ca-c6b7ca4a9cbc",
   "metadata": {},
   "outputs": [
    {
     "data": {
      "text/plain": [
       "'pi has value : 3.14159 '"
      ]
     },
     "execution_count": 28,
     "metadata": {},
     "output_type": "execute_result"
    }
   ],
   "source": [
    "\"pi has value : {} \" .format(round(math.pi,5))"
   ]
  },
  {
   "cell_type": "code",
   "execution_count": null,
   "id": "755aea0b-d8bf-4cb4-8a65-fdd2dff135e8",
   "metadata": {},
   "outputs": [],
   "source": []
  },
  {
   "cell_type": "code",
   "execution_count": null,
   "id": "ddd1d722-8378-45af-b356-d1e044d40014",
   "metadata": {},
   "outputs": [],
   "source": []
  },
  {
   "cell_type": "code",
   "execution_count": 29,
   "id": "c06c3c49-2547-47e5-9309-5c24b61abbe6",
   "metadata": {},
   "outputs": [
    {
     "name": "stdout",
     "output_type": "stream",
     "text": [
      "b'Hello'\n",
      "<class 'bytes'>\n"
     ]
    }
   ],
   "source": [
    "byte_data = b\"Hello\"  \n",
    "print(byte_data)  # Output: b'Hello'\n",
    "print(type(byte_data))  # Output: <class 'bytes'>\n"
   ]
  },
  {
   "cell_type": "code",
   "execution_count": 31,
   "id": "8eea3829-c30f-4a69-8afa-130a1afee6f4",
   "metadata": {},
   "outputs": [
    {
     "name": "stdout",
     "output_type": "stream",
     "text": [
      "bytearray(b'hi')\n"
     ]
    }
   ],
   "source": [
    "b = bytearray(\"hi\", \"utf-8\")  # ✅ Correct\n",
    "print(b)  # Output: bytearray(b'hi')\n",
    "\n"
   ]
  },
  {
   "cell_type": "code",
   "execution_count": 32,
   "id": "14cbdf12-6c73-494d-a982-6b4c18c9b38a",
   "metadata": {},
   "outputs": [
    {
     "name": "stdout",
     "output_type": "stream",
     "text": [
      "bytearray(b'hi')\n"
     ]
    }
   ],
   "source": [
    "b = bytearray(\"hi\".encode(\"utf-8\"))  # ✅ Another correct way\n",
    "print(b)  # Output: bytearray(b'hi')\n"
   ]
  },
  {
   "cell_type": "code",
   "execution_count": null,
   "id": "3e0ea504-be35-4dde-93b4-5f4f62795481",
   "metadata": {},
   "outputs": [],
   "source": []
  },
  {
   "cell_type": "code",
   "execution_count": 33,
   "id": "72a56792-5c3e-431b-bfb2-d5ead82838dd",
   "metadata": {},
   "outputs": [],
   "source": [
    "l1=[1,2,3,4]"
   ]
  },
  {
   "cell_type": "code",
   "execution_count": 34,
   "id": "3219e96e-c751-4a52-8a24-6d6c01a936ad",
   "metadata": {},
   "outputs": [
    {
     "data": {
      "text/plain": [
       "[1, 2, 3]"
      ]
     },
     "execution_count": 34,
     "metadata": {},
     "output_type": "execute_result"
    }
   ],
   "source": [
    "l1[0:3]"
   ]
  },
  {
   "cell_type": "code",
   "execution_count": 35,
   "id": "e5ff95cc-48fb-479d-90e5-832410b1550d",
   "metadata": {},
   "outputs": [
    {
     "data": {
      "text/plain": [
       "4"
      ]
     },
     "execution_count": 35,
     "metadata": {},
     "output_type": "execute_result"
    }
   ],
   "source": [
    "len(l1)"
   ]
  },
  {
   "cell_type": "code",
   "execution_count": 39,
   "id": "7b88bcad-1329-43d6-b3b0-5b200581503a",
   "metadata": {},
   "outputs": [],
   "source": [
    "l2=list(range(100))"
   ]
  },
  {
   "cell_type": "code",
   "execution_count": 40,
   "id": "9c93c89a-dc0b-413d-872c-24eb81179a89",
   "metadata": {},
   "outputs": [
    {
     "data": {
      "text/plain": [
       "[0, 5, 10, 15, 20, 25, 30, 35, 40, 45, 50, 55, 60, 65, 70, 75, 80, 85, 90, 95]"
      ]
     },
     "execution_count": 40,
     "metadata": {},
     "output_type": "execute_result"
    }
   ],
   "source": [
    "l2[::5]"
   ]
  },
  {
   "cell_type": "code",
   "execution_count": 41,
   "id": "59997097-cdc3-4754-bbfd-62be6f8af24c",
   "metadata": {},
   "outputs": [],
   "source": [
    "l1.insert(3,\"hi\")"
   ]
  },
  {
   "cell_type": "code",
   "execution_count": 42,
   "id": "cf7d515e-f2be-43c1-877a-2c260125fe5c",
   "metadata": {},
   "outputs": [
    {
     "data": {
      "text/plain": [
       "[1, 2, 3, 'hi', 4]"
      ]
     },
     "execution_count": 42,
     "metadata": {},
     "output_type": "execute_result"
    }
   ],
   "source": [
    "l1"
   ]
  },
  {
   "cell_type": "code",
   "execution_count": 43,
   "id": "26481145-a29f-4492-b4e7-580ca3da9004",
   "metadata": {},
   "outputs": [
    {
     "data": {
      "text/plain": [
       "3"
      ]
     },
     "execution_count": 43,
     "metadata": {},
     "output_type": "execute_result"
    }
   ],
   "source": [
    "l1.pop(2)"
   ]
  },
  {
   "cell_type": "code",
   "execution_count": 44,
   "id": "b46aab49-7054-4e3c-8f51-4aaedfc4c3b1",
   "metadata": {},
   "outputs": [
    {
     "data": {
      "text/plain": [
       "[1, 2, 'hi', 4]"
      ]
     },
     "execution_count": 44,
     "metadata": {},
     "output_type": "execute_result"
    }
   ],
   "source": [
    "l1"
   ]
  },
  {
   "cell_type": "code",
   "execution_count": 46,
   "id": "09aa4c10-3038-4234-a00d-f571ec9fe112",
   "metadata": {},
   "outputs": [],
   "source": [
    "l1.insert(2,3)"
   ]
  },
  {
   "cell_type": "code",
   "execution_count": 47,
   "id": "4d1a2bc0-c676-4854-b7b7-a1c5c6ca5fc1",
   "metadata": {},
   "outputs": [
    {
     "data": {
      "text/plain": [
       "[1, 2, 3, 'hi', 4]"
      ]
     },
     "execution_count": 47,
     "metadata": {},
     "output_type": "execute_result"
    }
   ],
   "source": [
    "l1"
   ]
  },
  {
   "cell_type": "code",
   "execution_count": 48,
   "id": "e4bfedf9-8fae-4665-82cb-181a5f20f6bb",
   "metadata": {},
   "outputs": [
    {
     "data": {
      "text/plain": [
       "4"
      ]
     },
     "execution_count": 48,
     "metadata": {},
     "output_type": "execute_result"
    }
   ],
   "source": [
    "l1.pop()"
   ]
  },
  {
   "cell_type": "code",
   "execution_count": 49,
   "id": "527e91ef-128c-4367-a30e-2f9cb4e55ddc",
   "metadata": {},
   "outputs": [
    {
     "data": {
      "text/plain": [
       "[1, 2, 3, 'hi']"
      ]
     },
     "execution_count": 49,
     "metadata": {},
     "output_type": "execute_result"
    }
   ],
   "source": [
    "l1"
   ]
  },
  {
   "cell_type": "markdown",
   "id": "ac6eb90f-3054-4c29-bb36-1bbeb6c73e54",
   "metadata": {},
   "source": [
    "if not mentioned pop will take last element "
   ]
  },
  {
   "cell_type": "code",
   "execution_count": null,
   "id": "99d8cf38-dec4-4812-aef3-3492a5069a24",
   "metadata": {},
   "outputs": [],
   "source": []
  },
  {
   "cell_type": "code",
   "execution_count": null,
   "id": "b6741d28-51ed-4dde-af80-a80347e31814",
   "metadata": {},
   "outputs": [],
   "source": []
  },
  {
   "cell_type": "markdown",
   "id": "1d0c4be4-3631-445a-83c7-c970a4e5ade6",
   "metadata": {},
   "source": [
    "SET"
   ]
  },
  {
   "cell_type": "code",
   "execution_count": 52,
   "id": "743f7a61-3eae-460d-959f-dcb5c6df6ea9",
   "metadata": {},
   "outputs": [],
   "source": [
    "s1=set([\"a\",\"b\",\"c\"])"
   ]
  },
  {
   "cell_type": "code",
   "execution_count": 53,
   "id": "1604ce12-0325-4f89-8db3-b1a902388865",
   "metadata": {},
   "outputs": [
    {
     "data": {
      "text/plain": [
       "{'a', 'b', 'c'}"
      ]
     },
     "execution_count": 53,
     "metadata": {},
     "output_type": "execute_result"
    }
   ],
   "source": [
    "s1"
   ]
  },
  {
   "cell_type": "code",
   "execution_count": 54,
   "id": "90817328-731b-4546-a97c-1b08d6d4c6b5",
   "metadata": {},
   "outputs": [],
   "source": [
    "s1.discard(\"a\")"
   ]
  },
  {
   "cell_type": "code",
   "execution_count": 55,
   "id": "1a4da5a1-2b1f-4e94-8616-579ee244a6fb",
   "metadata": {},
   "outputs": [
    {
     "data": {
      "text/plain": [
       "{'b', 'c'}"
      ]
     },
     "execution_count": 55,
     "metadata": {},
     "output_type": "execute_result"
    }
   ],
   "source": [
    "s1"
   ]
  },
  {
   "cell_type": "code",
   "execution_count": 56,
   "id": "9e77894a-80e9-46ee-83f9-8f69e78b5cf6",
   "metadata": {},
   "outputs": [],
   "source": [
    "t1=1,2.4"
   ]
  },
  {
   "cell_type": "code",
   "execution_count": 57,
   "id": "31221e75-d5b4-47c8-bb25-a4d1fe1546b9",
   "metadata": {},
   "outputs": [
    {
     "data": {
      "text/plain": [
       "tuple"
      ]
     },
     "execution_count": 57,
     "metadata": {},
     "output_type": "execute_result"
    }
   ],
   "source": [
    "type(t1)"
   ]
  },
  {
   "cell_type": "code",
   "execution_count": 59,
   "id": "8cc99597-dd9f-4d48-b38f-29a0cdcca82b",
   "metadata": {},
   "outputs": [
    {
     "name": "stdout",
     "output_type": "stream",
     "text": [
      "type is <class 'tuple'>\n"
     ]
    }
   ],
   "source": [
    "print(\"type is {}\".format(type(t1)))"
   ]
  },
  {
   "cell_type": "code",
   "execution_count": 60,
   "id": "6ebdccc5-3dbd-4602-b3d9-b071515b994d",
   "metadata": {},
   "outputs": [
    {
     "name": "stdout",
     "output_type": "stream",
     "text": [
      "type is tuple\n"
     ]
    }
   ],
   "source": [
    "print(\"type is {}\".format(type(t1).__name__))"
   ]
  },
  {
   "cell_type": "code",
   "execution_count": null,
   "id": "71d0a5d4-fced-448f-b527-8805c8b288e6",
   "metadata": {},
   "outputs": [],
   "source": []
  },
  {
   "cell_type": "code",
   "execution_count": null,
   "id": "ea32eeb9-220e-468b-8399-83eebe73f8a1",
   "metadata": {},
   "outputs": [],
   "source": []
  },
  {
   "cell_type": "markdown",
   "id": "c66bd4f3-5406-4715-ad0e-6b5c96721ad6",
   "metadata": {},
   "source": [
    "Dictinaries"
   ]
  },
  {
   "cell_type": "code",
   "execution_count": 66,
   "id": "41281304-f045-48a5-be64-eedd7765819d",
   "metadata": {},
   "outputs": [],
   "source": [
    "a1= { \"a\" : \"ant\",\n",
    "      \"b\" :\"bull\",\n",
    "      \"c\" :\"cat\",\n",
    "}"
   ]
  },
  {
   "cell_type": "code",
   "execution_count": 69,
   "id": "59f931d4-4f7d-467d-8209-e136f8f703b7",
   "metadata": {},
   "outputs": [],
   "source": [
    "a1['d'] = \"dog\""
   ]
  },
  {
   "cell_type": "code",
   "execution_count": 70,
   "id": "6df055b9-8119-4813-8dc7-b3a49fbccc96",
   "metadata": {},
   "outputs": [
    {
     "data": {
      "text/plain": [
       "{'a': 'ant', 'b': 'bull', 'c': 'cat', 'd': 'dog'}"
      ]
     },
     "execution_count": 70,
     "metadata": {},
     "output_type": "execute_result"
    }
   ],
   "source": [
    "a1"
   ]
  },
  {
   "cell_type": "code",
   "execution_count": 71,
   "id": "c0f578e8-a8e3-45b6-b475-7676c5e73b4f",
   "metadata": {},
   "outputs": [],
   "source": [
    "a1[\"a\"]=\"antelop\""
   ]
  },
  {
   "cell_type": "code",
   "execution_count": 72,
   "id": "b3e14d00-6681-415f-acf7-c340a36c778d",
   "metadata": {},
   "outputs": [
    {
     "data": {
      "text/plain": [
       "{'a': 'antelop', 'b': 'bull', 'c': 'cat', 'd': 'dog'}"
      ]
     },
     "execution_count": 72,
     "metadata": {},
     "output_type": "execute_result"
    }
   ],
   "source": [
    "a1"
   ]
  },
  {
   "cell_type": "code",
   "execution_count": 75,
   "id": "754c6b12-2d2e-466a-a212-498266169b1f",
   "metadata": {},
   "outputs": [
    {
     "data": {
      "text/plain": [
       "['antelop', 'bull', 'cat', 'dog']"
      ]
     },
     "execution_count": 75,
     "metadata": {},
     "output_type": "execute_result"
    }
   ],
   "source": [
    "list(a1.values())"
   ]
  },
  {
   "cell_type": "code",
   "execution_count": 78,
   "id": "770cbd01-c376-49cf-b99f-89f849808cdb",
   "metadata": {},
   "outputs": [
    {
     "data": {
      "text/plain": [
       "['a', 'b', 'c', 'd']"
      ]
     },
     "execution_count": 78,
     "metadata": {},
     "output_type": "execute_result"
    }
   ],
   "source": [
    "list(a1.keys())"
   ]
  },
  {
   "cell_type": "code",
   "execution_count": 80,
   "id": "77bb9ebf-1f82-4fbe-8b51-73a2286d8ac8",
   "metadata": {},
   "outputs": [
    {
     "data": {
      "text/plain": [
       "'cat'"
      ]
     },
     "execution_count": 80,
     "metadata": {},
     "output_type": "execute_result"
    }
   ],
   "source": [
    "a1.get('c')"
   ]
  },
  {
   "cell_type": "code",
   "execution_count": 81,
   "id": "830a87a6-90c6-46c6-b7aa-40185b51568a",
   "metadata": {},
   "outputs": [
    {
     "name": "stdout",
     "output_type": "stream",
     "text": [
      "Sanju\n",
      "None\n",
      "Not Found\n"
     ]
    }
   ],
   "source": [
    "my_dict = {\"name\": \"Sanju\", \"age\": 25}\n",
    "\n",
    "# Using .get()\n",
    "print(my_dict.get(\"name\"))  # Output: Sanju\n",
    "\n",
    "# Key not found (Returns None instead of an error)\n",
    "print(my_dict.get(\"city\"))  # Output: None\n",
    "\n",
    "# Providing a default value\n",
    "print(my_dict.get(\"city\", \"Not Found\"))  # Output: Not Found\n"
   ]
  },
  {
   "cell_type": "code",
   "execution_count": null,
   "id": "d5d6dcf9-cf00-428c-be3b-be78614e66e2",
   "metadata": {},
   "outputs": [],
   "source": []
  },
  {
   "cell_type": "code",
   "execution_count": null,
   "id": "6ddea48d-f75a-447e-be46-848f147a52b9",
   "metadata": {},
   "outputs": [],
   "source": []
  },
  {
   "cell_type": "code",
   "execution_count": null,
   "id": "82aa32c7-4e64-4e78-814e-117f4f87bf7f",
   "metadata": {},
   "outputs": [],
   "source": []
  },
  {
   "cell_type": "markdown",
   "id": "bc60bf48-cc3e-429c-b699-90d3b0cde7d5",
   "metadata": {},
   "source": [
    "Defualt Dict"
   ]
  },
  {
   "cell_type": "markdown",
   "id": "f226dd0a-b74e-465c-9387-87557324c51a",
   "metadata": {},
   "source": [
    "What is defaultdict in Python?\n",
    "defaultdict is a special type of dictionary (dict) from the collections module that provides a default value for missing keys instead of raising a KeyError.\n",
    "\n",
    "It is useful when working with counts, grouping, or missing values."
   ]
  },
  {
   "cell_type": "markdown",
   "id": "eed26366-373a-4066-ae3c-2adfd21d859c",
   "metadata": {},
   "source": [
    "Normal Dict raises error "
   ]
  },
  {
   "cell_type": "code",
   "execution_count": 82,
   "id": "e87544ec-f75d-46d9-9bf4-2bcdf8fcf107",
   "metadata": {},
   "outputs": [
    {
     "ename": "KeyError",
     "evalue": "'missing_key'",
     "output_type": "error",
     "traceback": [
      "\u001b[1;31m---------------------------------------------------------------------------\u001b[0m",
      "\u001b[1;31mKeyError\u001b[0m                                  Traceback (most recent call last)",
      "Cell \u001b[1;32mIn[82], line 2\u001b[0m\n\u001b[0;32m      1\u001b[0m my_dict \u001b[38;5;241m=\u001b[39m {}\n\u001b[1;32m----> 2\u001b[0m \u001b[38;5;28mprint\u001b[39m(my_dict[\u001b[38;5;124m\"\u001b[39m\u001b[38;5;124mmissing_key\u001b[39m\u001b[38;5;124m\"\u001b[39m])\n",
      "\u001b[1;31mKeyError\u001b[0m: 'missing_key'"
     ]
    }
   ],
   "source": [
    "my_dict = {}\n",
    "print(my_dict[\"missing_key\"])  # ❌ KeyError: 'missing_key'\n"
   ]
  },
  {
   "cell_type": "markdown",
   "id": "29d6478e-0e0a-4a0d-95df-c56606e26dfe",
   "metadata": {},
   "source": [
    "Using defaultdict"
   ]
  },
  {
   "cell_type": "code",
   "execution_count": 83,
   "id": "ef6d5d0a-fdfd-4df2-b172-6a09f811ac5b",
   "metadata": {},
   "outputs": [
    {
     "name": "stdout",
     "output_type": "stream",
     "text": [
      "0\n"
     ]
    }
   ],
   "source": [
    "from collections import defaultdict\n",
    "\n",
    "my_dict = defaultdict(int)  # Default type is `int` (0)\n",
    "print(my_dict[\"missing_key\"])  # Output: 0 (Instead of KeyError)\n"
   ]
  },
  {
   "cell_type": "markdown",
   "id": "a885939c-6be0-4f4f-8897-3e1e62e5fd60",
   "metadata": {},
   "source": [
    "Common Use Cases of defaultdict"
   ]
  },
  {
   "cell_type": "markdown",
   "id": "c524d300-915c-4801-9793-0aec9ee4db5f",
   "metadata": {},
   "source": [
    "Example 1: Counting Occurrences (Word Frequency)"
   ]
  },
  {
   "cell_type": "code",
   "execution_count": null,
   "id": "86ad5490-7f7e-441a-9033-6b4f82669715",
   "metadata": {},
   "outputs": [],
   "source": []
  },
  {
   "cell_type": "code",
   "execution_count": null,
   "id": "b394eccc-98db-4690-9504-9ad80b85ab61",
   "metadata": {},
   "outputs": [],
   "source": []
  },
  {
   "cell_type": "code",
   "execution_count": 84,
   "id": "82754ecd-0506-48b4-91e8-7c5dd0caacd6",
   "metadata": {},
   "outputs": [
    {
     "name": "stdout",
     "output_type": "stream",
     "text": [
      "defaultdict(<class 'int'>, {'apple': 2, 'banana': 3, 'orange': 1})\n"
     ]
    }
   ],
   "source": [
    "from collections import defaultdict\n",
    "\n",
    "word_count = defaultdict(int)\n",
    "\n",
    "words = [\"apple\", \"banana\", \"apple\", \"orange\", \"banana\", \"banana\"]\n",
    "\n",
    "for word in words:\n",
    "    word_count[word] += 1  # No need to check if key exists!\n",
    "\n",
    "print(word_count)  \n",
    "# Output: {'apple': 2, 'banana': 3, 'orange': 1}\n"
   ]
  },
  {
   "cell_type": "code",
   "execution_count": 2,
   "id": "487a3f32-95fc-4f52-b6a2-bab7846cdda5",
   "metadata": {},
   "outputs": [
    {
     "name": "stdout",
     "output_type": "stream",
     "text": [
      "defaultdict(<class 'int'>, {'c': 1, 'o': 2, 'm': 1, 'p': 1, 'r': 1, 'e': 2, 'h': 1, 'n': 2, 's': 1, 'i': 1})\n"
     ]
    }
   ],
   "source": [
    "from collections import defaultdict\n",
    "words=\"comprehension\"\n",
    "word_count = defaultdict(int)\n",
    "for word in words:\n",
    "    word_count[word] += 1  # No need to check if key exists!\n",
    "\n",
    "print(word_count) "
   ]
  },
  {
   "cell_type": "code",
   "execution_count": 3,
   "id": "0a5d07c2-4465-43ed-93bb-8bd7f3020ae7",
   "metadata": {},
   "outputs": [
    {
     "name": "stdout",
     "output_type": "stream",
     "text": [
      "{'c': 1, 'o': 2, 'm': 1, 'p': 1, 'r': 1, 'e': 2, 'h': 1, 'n': 2, 's': 1, 'i': 1}\n"
     ]
    }
   ],
   "source": [
    "from collections import defaultdict\n",
    "words=\"comprehension\"\n",
    "word_count = defaultdict(int)\n",
    "for word in words:\n",
    "    word_count[word] += 1  # No need to check if key exists!\n",
    "\n",
    "print(dict(word_count)) "
   ]
  },
  {
   "cell_type": "code",
   "execution_count": null,
   "id": "4241eafa-8afd-4223-a245-1c126455b02d",
   "metadata": {},
   "outputs": [],
   "source": []
  },
  {
   "cell_type": "markdown",
   "id": "0ee80c50-e91c-4ecb-9f6c-ae6773954e62",
   "metadata": {},
   "source": [
    " Example 2: Grouping Items in a List"
   ]
  },
  {
   "cell_type": "code",
   "execution_count": 85,
   "id": "f12f4600-1e83-42c1-b677-398f519feaf7",
   "metadata": {},
   "outputs": [
    {
     "name": "stdout",
     "output_type": "stream",
     "text": [
      "defaultdict(<class 'list'>, {'fruit': ['apple', 'banana'], 'veg': ['carrot']})\n"
     ]
    }
   ],
   "source": [
    "from collections import defaultdict\n",
    "\n",
    "groups = defaultdict(list)\n",
    "\n",
    "data = [(\"fruit\", \"apple\"), (\"fruit\", \"banana\"), (\"veg\", \"carrot\")]\n",
    "\n",
    "for category, item in data:\n",
    "    groups[category].append(item)  # `list` ensures missing keys default to `[]`\n",
    "\n",
    "print(groups)\n",
    "# Output: {'fruit': ['apple', 'banana'], 'veg': ['carrot']}\n"
   ]
  },
  {
   "cell_type": "code",
   "execution_count": null,
   "id": "391a1ca4-0187-40e4-879a-e78bc9f519c6",
   "metadata": {},
   "outputs": [],
   "source": []
  },
  {
   "cell_type": "markdown",
   "id": "3a4766d0-85bb-48d7-adb3-7a1c3779cc56",
   "metadata": {},
   "source": [
    " Example 3: Default Value as str"
   ]
  },
  {
   "cell_type": "code",
   "execution_count": 86,
   "id": "0bb647ea-7293-49ec-8c72-2a5be7177467",
   "metadata": {},
   "outputs": [
    {
     "name": "stdout",
     "output_type": "stream",
     "text": [
      "\n"
     ]
    }
   ],
   "source": [
    "from collections import defaultdict\n",
    "\n",
    "default_str = defaultdict(str)  # Default value is an empty string\n",
    "print(default_str[\"name\"])  # Output: ''\n"
   ]
  },
  {
   "cell_type": "raw",
   "id": "8198e646-1e7a-4a63-86f8-cf361418d5f2",
   "metadata": {},
   "source": [
    "How to Choose defaultdict vs. Normal dict?\n",
    "Use Case\tBest Choice\n",
    "Handling missing keys\t✅ defaultdict\n",
    "Counting occurrences\t✅ defaultdict(int)\n",
    "Grouping items in lists\t✅ defaultdict(list)\n",
    "Manually checking keys\t❌ Normal dict"
   ]
  },
  {
   "cell_type": "code",
   "execution_count": null,
   "id": "986c099d-e40a-4513-a623-9c46c189c2f2",
   "metadata": {},
   "outputs": [],
   "source": []
  },
  {
   "cell_type": "code",
   "execution_count": null,
   "id": "f6063815-3fd0-4b48-9399-66c20e3d0ecd",
   "metadata": {},
   "outputs": [],
   "source": []
  },
  {
   "cell_type": "raw",
   "id": "365d713f-2102-405d-9b98-9eefdc389276",
   "metadata": {},
   "source": [
    "List comprehension"
   ]
  },
  {
   "cell_type": "raw",
   "id": "88fb2fd0-ea18-4659-aad7-597f28feeccf",
   "metadata": {},
   "source": [
    "new_list = [expression for item in iterable]\n"
   ]
  },
  {
   "cell_type": "code",
   "execution_count": 87,
   "id": "b1c6662f-eaf6-49a4-9897-355c586db5a4",
   "metadata": {},
   "outputs": [
    {
     "name": "stdout",
     "output_type": "stream",
     "text": [
      "[1, 4, 9, 16, 25]\n"
     ]
    }
   ],
   "source": [
    "numbers = [1, 2, 3, 4, 5]\n",
    "squared = [num ** 2 for num in numbers]\n",
    "print(squared)  \n",
    "# Output: [1, 4, 9, 16, 25]\n"
   ]
  },
  {
   "cell_type": "code",
   "execution_count": null,
   "id": "fb379639-ef2b-49d2-803c-99aea37332b6",
   "metadata": {},
   "outputs": [],
   "source": []
  },
  {
   "cell_type": "markdown",
   "id": "684c96d7-0623-4555-b636-c5db0232a809",
   "metadata": {},
   "source": [
    "Example: Get Even Numbers from a List"
   ]
  },
  {
   "cell_type": "code",
   "execution_count": 88,
   "id": "427fc3ac-5a9c-4bb9-b4d3-1c47f6974df1",
   "metadata": {},
   "outputs": [
    {
     "name": "stdout",
     "output_type": "stream",
     "text": [
      "[2, 4, 6]\n"
     ]
    }
   ],
   "source": [
    "numbers = [1, 2, 3, 4, 5, 6]\n",
    "evens = [num for num in numbers if num % 2 == 0]\n",
    "print(evens)  \n",
    "# Output: [2, 4, 6]\n"
   ]
  },
  {
   "cell_type": "code",
   "execution_count": null,
   "id": "0e0b3172-30a7-42db-9b47-2e3f0461cd8b",
   "metadata": {},
   "outputs": [],
   "source": []
  },
  {
   "cell_type": "markdown",
   "id": "7a55dcfc-69ff-43dc-bc4f-7d357255c4a7",
   "metadata": {},
   "source": [
    "Adding if-else in List Comprehension"
   ]
  },
  {
   "cell_type": "code",
   "execution_count": 89,
   "id": "1d3af819-1329-41ad-971e-76513aba627e",
   "metadata": {},
   "outputs": [
    {
     "name": "stdout",
     "output_type": "stream",
     "text": [
      "['Odd', 'Even', 'Odd', 'Even', 'Odd']\n"
     ]
    }
   ],
   "source": [
    "numbers = [1, 2, 3, 4, 5]\n",
    "labels = [\"Even\" if num % 2 == 0 else \"Odd\" for num in numbers]\n",
    "print(labels)  \n",
    "# Output: ['Odd', 'Even', 'Odd', 'Even', 'Odd']\n"
   ]
  },
  {
   "cell_type": "code",
   "execution_count": null,
   "id": "86abf3cf-d0f1-4838-aa9b-cdf552b65a1a",
   "metadata": {},
   "outputs": [],
   "source": []
  },
  {
   "cell_type": "markdown",
   "id": "253531c5-4422-4d57-88f8-690c2135776d",
   "metadata": {},
   "source": [
    "Nested Loops in List Comprehension"
   ]
  },
  {
   "cell_type": "code",
   "execution_count": 90,
   "id": "02b1e29b-e5bb-4782-b806-e680ee128068",
   "metadata": {},
   "outputs": [
    {
     "name": "stdout",
     "output_type": "stream",
     "text": [
      "[(1, 'a'), (1, 'b'), (2, 'a'), (2, 'b')]\n"
     ]
    }
   ],
   "source": [
    "list1 = [1, 2]\n",
    "list2 = [\"a\", \"b\"]\n",
    "\n",
    "pairs = [(x, y) for x in list1 for y in list2]\n",
    "print(pairs)  \n",
    "# Output: [(1, 'a'), (1, 'b'), (2, 'a'), (2, 'b')]\n"
   ]
  },
  {
   "cell_type": "code",
   "execution_count": null,
   "id": "9f959217-fd50-4da8-9e4d-4c869b358c64",
   "metadata": {},
   "outputs": [],
   "source": []
  },
  {
   "cell_type": "markdown",
   "id": "0ed72140-5098-458a-8a92-43584a84c72a",
   "metadata": {},
   "source": [
    "List Comprehension with range()"
   ]
  },
  {
   "cell_type": "code",
   "execution_count": 91,
   "id": "c6b10481-02f5-41d2-b7ae-ee4a6469b477",
   "metadata": {},
   "outputs": [
    {
     "name": "stdout",
     "output_type": "stream",
     "text": [
      "[1, 4, 9, 16, 25, 36, 49, 64, 81, 100]\n"
     ]
    }
   ],
   "source": [
    "squares = [x ** 2 for x in range(1, 11)]\n",
    "print(squares)  \n",
    "# Output: [1, 4, 9, 16, 25, 36, 49, 64, 81, 100]\n"
   ]
  },
  {
   "cell_type": "raw",
   "id": "8ef7afe1-fb2a-4a53-a907-d1e0cb0a6ef0",
   "metadata": {},
   "source": [
    " List Comprehension with Strings\n",
    "You can process characters in a string using list comprehension.\n",
    "\n",
    "Example: Convert a String to a List of Characters"
   ]
  },
  {
   "cell_type": "code",
   "execution_count": 92,
   "id": "68e56475-74b8-481a-9c4b-31c5409e8d62",
   "metadata": {},
   "outputs": [
    {
     "name": "stdout",
     "output_type": "stream",
     "text": [
      "['H', 'E', 'L', 'L', 'O']\n"
     ]
    }
   ],
   "source": [
    "text = \"hello\"\n",
    "char_list = [char.upper() for char in text]\n",
    "print(char_list)  \n",
    "# Output: ['H', 'E', 'L', 'L', 'O']\n"
   ]
  },
  {
   "cell_type": "code",
   "execution_count": null,
   "id": "1f8fcfdd-b6c0-4b4f-9d4b-e755018e9acf",
   "metadata": {},
   "outputs": [],
   "source": [
    "Nested Listed comprehension"
   ]
  },
  {
   "cell_type": "markdown",
   "id": "b3d7f36c-a38c-45cd-9a44-d5275f14eca2",
   "metadata": {},
   "source": [
    "Basic Syntax of Nested List Comprehension\n",
    "python\n",
    "\n"
   ]
  },
  {
   "cell_type": "raw",
   "id": "1eb72050-840b-470b-b70c-285461e3fcbb",
   "metadata": {},
   "source": [
    "[expression for sublist in outer_list for item in sublist]\n"
   ]
  },
  {
   "cell_type": "raw",
   "id": "4089a5b4-1498-45d9-a923-861d384a7252",
   "metadata": {},
   "source": [
    "outer_list → The main list (contains sublists).\n",
    "sublist → Each inner list inside outer_list.\n",
    "item → The individual elements inside sublist.\n"
   ]
  },
  {
   "cell_type": "markdown",
   "id": "58f670c4-1687-4f73-9e38-119cfeba0056",
   "metadata": {},
   "source": [
    "Flattening a 2D List (Matrix)"
   ]
  },
  {
   "cell_type": "code",
   "execution_count": 93,
   "id": "9ed4edc3-3244-4d2f-8859-fc9dbe178739",
   "metadata": {},
   "outputs": [
    {
     "name": "stdout",
     "output_type": "stream",
     "text": [
      "[1, 2, 3, 4, 5, 6, 7, 8, 9]\n"
     ]
    }
   ],
   "source": [
    "matrix = [[1, 2, 3], [4, 5, 6], [7, 8, 9]]\n",
    "\n",
    "flattened = [num for row in matrix for num in row]\n",
    "print(flattened)\n",
    "# Output: [1, 2, 3, 4, 5, 6, 7, 8, 9]\n"
   ]
  },
  {
   "cell_type": "code",
   "execution_count": 94,
   "id": "10657017-3d25-4a51-b2fb-5e3b72d0ebc1",
   "metadata": {},
   "outputs": [
    {
     "name": "stdout",
     "output_type": "stream",
     "text": [
      "[1, 2, 3, 4, 5, 6, 7, 8, 9]\n"
     ]
    }
   ],
   "source": [
    "matrix = [[1, 2, 3], [4, 5, 6], [7, 8, 9]]\n",
    "\n",
    "flattened = [num for row in matrix for num in row]\n",
    "print(flattened)\n",
    "# Output: [1, 2, 3, 4, 5, 6, 7, 8, 9]\n"
   ]
  },
  {
   "cell_type": "code",
   "execution_count": 99,
   "id": "902cdfe5-d1e9-464c-b009-a0ca752e0496",
   "metadata": {},
   "outputs": [
    {
     "name": "stdout",
     "output_type": "stream",
     "text": [
      "now it  is: [1, 2, 3]\n",
      "num is  1 \n",
      "\n",
      "num is  2 \n",
      "\n",
      "num is  3 \n",
      "\n",
      "now it  is: [4, 5, 6]\n",
      "num is  4 \n",
      "\n",
      "num is  5 \n",
      "\n",
      "num is  6 \n",
      "\n",
      "now it  is: [7, 8, 9]\n",
      "num is  7 \n",
      "\n",
      "num is  8 \n",
      "\n",
      "num is  9 \n",
      "\n"
     ]
    }
   ],
   "source": [
    "flattened = []\n",
    "for row in matrix:  \n",
    "    print( \"now it  is:\", row)\n",
    "    for num in row:      # Loops through each number in the inner list\n",
    "       print(\"num is \",num, \"\\n\")  # Adds the number to the new list\n"
   ]
  },
  {
   "cell_type": "markdown",
   "id": "9f3fa26c-f740-4bbb-83c3-ed2d797a91b8",
   "metadata": {},
   "source": [
    "Nested List Comprehension with Conditions"
   ]
  },
  {
   "cell_type": "code",
   "execution_count": 101,
   "id": "d4dd6c73-38eb-4150-8e4e-bd0e3839ef65",
   "metadata": {},
   "outputs": [
    {
     "name": "stdout",
     "output_type": "stream",
     "text": [
      "[2, 4, 6, 8]\n"
     ]
    }
   ],
   "source": [
    "matrix = [[1, 2, 3], [4, 5, 6], [7, 8, 9]]\n",
    "\n",
    "even_numbers = [num for row in matrix for num in row if num % 2 == 0]\n",
    "print(even_numbers)\n",
    "# Output: [2, 4, 6, 8]\n"
   ]
  },
  {
   "cell_type": "markdown",
   "id": "6b131ca3-2e4b-4753-a5bc-65118aed4252",
   "metadata": {},
   "source": [
    "Creating a 2D List (List of Lists) Using Nested List Comprehension"
   ]
  },
  {
   "cell_type": "code",
   "execution_count": 102,
   "id": "4d52b634-5dff-467b-8e7e-02554d7347d0",
   "metadata": {},
   "outputs": [
    {
     "name": "stdout",
     "output_type": "stream",
     "text": [
      "[[1, 2, 3], [2, 4, 6], [3, 6, 9]]\n"
     ]
    }
   ],
   "source": [
    "table = [[i * j for j in range(1, 4)] for i in range(1, 4)]\n",
    "print(table)\n",
    "# Output: [[1, 2, 3], [2, 4, 6], [3, 6, 9]]"
   ]
  },
  {
   "cell_type": "markdown",
   "id": "dcebbed4-fdbe-41f0-bf2f-4df8ff049495",
   "metadata": {},
   "source": [
    " Nested List Comprehension with if-else"
   ]
  },
  {
   "cell_type": "code",
   "execution_count": 103,
   "id": "78de4a32-67f1-4982-897a-03f061df7c59",
   "metadata": {},
   "outputs": [
    {
     "name": "stdout",
     "output_type": "stream",
     "text": [
      "[['Odd', 'Even', 'Odd'], ['Even', 'Odd', 'Even']]\n"
     ]
    }
   ],
   "source": [
    "matrix = [[1, 2, 3], [4, 5, 6]]\n",
    "\n",
    "labeled_matrix = [[\"Even\" if num % 2 == 0 else \"Odd\" for num in row] for row in matrix]\n",
    "print(labeled_matrix)\n",
    "# Output: [['Odd', 'Even', 'Odd'], ['Even', 'Odd', 'Even']]\n"
   ]
  },
  {
   "cell_type": "markdown",
   "id": "52e85a2f-2e60-4dc8-a5ea-f2ddcc8901cb",
   "metadata": {},
   "source": [
    " Nested List Comprehension with Multiple Conditions"
   ]
  },
  {
   "cell_type": "code",
   "execution_count": 104,
   "id": "2b86f4f8-512c-42ee-a3e2-67577d05e306",
   "metadata": {},
   "outputs": [
    {
     "name": "stdout",
     "output_type": "stream",
     "text": [
      "[[1, 4, 3], [8, 5, 12]]\n"
     ]
    }
   ],
   "source": [
    "matrix = [[1, 2, 3], [4, 5, 6]]\n",
    "\n",
    "modified_matrix = [[num * 2 if num % 2 == 0 else num for num in row] for row in matrix]\n",
    "print(modified_matrix)\n",
    "# Output: [[1, 4, 3], [8, 5, 12]]\n"
   ]
  },
  {
   "cell_type": "code",
   "execution_count": null,
   "id": "415d507d-f1f7-4bad-8baa-af1b27d22cd6",
   "metadata": {},
   "outputs": [],
   "source": [
    "matrix = [[1, 2, 3], [4, 5, 6]]\n",
    "\n",
    "modified_matrix = [[num * 2 if num % 2 == 0 else num for num in row] for row in matrix]\n",
    "print(modified_matrix)\n",
    "# Output: [[1, 4, 3], [8, 5, 12]]\n"
   ]
  },
  {
   "cell_type": "code",
   "execution_count": null,
   "id": "5d1e726f-7551-4e13-8b61-03b4ce719bd9",
   "metadata": {},
   "outputs": [],
   "source": []
  },
  {
   "cell_type": "raw",
   "id": "1d67fada-f10f-467c-bf5a-bd124c94dd09",
   "metadata": {},
   "source": [
    "🔥 Summary\n",
    "Feature\tTraditional for Loop\tList Comprehension\n",
    "Readability\t❌ More lines\t✅ Concise\n",
    "Performance\t❌ Slower (append calls)\t✅ Faster (optimized)\n",
    "Use if Filtering\t✅ Supported\t✅ Supported\n",
    "Use if-else\t✅ Supported\t✅ Supported\n",
    "Nested Loops\t✅ Supported\t✅ Supported\n"
   ]
  },
  {
   "cell_type": "code",
   "execution_count": null,
   "id": "a485a002-bccd-4505-8647-2d8b46d3920d",
   "metadata": {},
   "outputs": [],
   "source": []
  },
  {
   "cell_type": "code",
   "execution_count": null,
   "id": "feb3acd1-6ccf-4bbe-8952-8353e6eb46b7",
   "metadata": {},
   "outputs": [],
   "source": []
  },
  {
   "cell_type": "markdown",
   "id": "f8376a1c-8430-4cec-ae37-59dcce856998",
   "metadata": {},
   "source": [
    "Dictionary Comprehensions "
   ]
  },
  {
   "cell_type": "raw",
   "id": "cb5619a2-18bc-45f8-9124-0b08093c7d96",
   "metadata": {},
   "source": [
    "Basic Syntax of Dictionary Comprehension\n",
    "\n",
    "{key_expression: value_expression for item in iterable}\n",
    "key_expression → Defines the key.\n",
    "value_expression → Defines the value.\n",
    "iterable → The data source (list, tuple, range, etc.)."
   ]
  },
  {
   "cell_type": "markdown",
   "id": "60395b55-fbd4-4157-b423-d536aad27e8c",
   "metadata": {},
   "source": [
    "Example: Creating a Dictionary from a List"
   ]
  },
  {
   "cell_type": "code",
   "execution_count": 105,
   "id": "d8a2f146-fc25-41cb-87b5-0b0b93b79c85",
   "metadata": {},
   "outputs": [
    {
     "name": "stdout",
     "output_type": "stream",
     "text": [
      "{1: 1, 2: 4, 3: 9, 4: 16, 5: 25}\n"
     ]
    }
   ],
   "source": [
    "numbers = [1, 2, 3, 4, 5]\n",
    "\n",
    "squares = {num: num ** 2 for num in numbers}\n",
    "print(squares)\n",
    "# Output: {1: 1, 2: 4, 3: 9, 4: 16, 5: 25}\n"
   ]
  },
  {
   "cell_type": "markdown",
   "id": "6ca21d6e-c118-42ce-868b-4f80e6eaebe6",
   "metadata": {},
   "source": [
    " Dictionary Comprehension with range()"
   ]
  },
  {
   "cell_type": "code",
   "execution_count": 107,
   "id": "78ddbd4a-830a-4156-ad03-0aa634b8a343",
   "metadata": {},
   "outputs": [
    {
     "name": "stdout",
     "output_type": "stream",
     "text": [
      "{1: 1, 2: 8, 3: 27, 4: 64, 5: 125}\n"
     ]
    }
   ],
   "source": [
    "cubes = {num: num ** 3 for num in range(1, 6)}\n",
    "print(cubes)\n",
    "# Output: {1: 1, 2: 8, 3: 27, 4: 64, 5: 125}\n"
   ]
  },
  {
   "cell_type": "markdown",
   "id": "ddad16fd-e8af-42a5-843e-d2b8eecf1f99",
   "metadata": {},
   "source": [
    "Dictionary Comprehension with if-else Condition"
   ]
  },
  {
   "cell_type": "code",
   "execution_count": 108,
   "id": "bc1357ad-72f5-4f9d-bb0a-bdd37eac1af8",
   "metadata": {},
   "outputs": [
    {
     "name": "stdout",
     "output_type": "stream",
     "text": [
      "{1: 'Odd', 2: 'Even', 3: 'Odd', 4: 'Even', 5: 'Odd'}\n"
     ]
    }
   ],
   "source": [
    "numbers = [1, 2, 3, 4, 5]\n",
    "\n",
    "labels = {num: \"Even\" if num % 2 == 0 else \"Odd\" for num in numbers}\n",
    "print(labels)\n",
    "# Output: {1: 'Odd', 2: 'Even', 3: 'Odd', 4: 'Even', 5: 'Odd'}\n"
   ]
  },
  {
   "cell_type": "markdown",
   "id": "b0d1056f-012a-4aa3-934e-63361a04c71a",
   "metadata": {},
   "source": [
    "Dictionary Comprehension from an Existing Dictionary"
   ]
  },
  {
   "cell_type": "code",
   "execution_count": 109,
   "id": "071fa938-6eae-4800-b114-e6be606c685a",
   "metadata": {},
   "outputs": [
    {
     "name": "stdout",
     "output_type": "stream",
     "text": [
      "{'apple': 90.0, 'banana': 36.0, 'cherry': 67.5}\n"
     ]
    }
   ],
   "source": [
    "prices = {\"apple\": 100, \"banana\": 40, \"cherry\": 75}\n",
    "\n",
    "discounted = {fruit: price * 0.9 for fruit, price in prices.items()}\n",
    "print(discounted)\n",
    "# Output: {'apple': 90.0, 'banana': 36.0, 'cherry': 67.5}\n"
   ]
  },
  {
   "cell_type": "markdown",
   "id": "0d844dc6-0326-4384-af3c-37ff013e7999",
   "metadata": {},
   "source": [
    "Swapping Keys and Values in a Dictionary"
   ]
  },
  {
   "cell_type": "code",
   "execution_count": 112,
   "id": "dcdb5111-31ae-4a59-89b0-58bb72bdecce",
   "metadata": {},
   "outputs": [
    {
     "name": "stdout",
     "output_type": "stream",
     "text": [
      "{1: 'a', 2: 'b', 3: 'c'}\n"
     ]
    }
   ],
   "source": [
    "original = {\"a\": 1, \"b\": 2, \"c\": 3}\n",
    "\n",
    "swapped = {value: key for key, value in original.items()}\n",
    "print(swapped)\n",
    "# Output: {1: 'a', 2: 'b', 3: 'c'}\n"
   ]
  },
  {
   "cell_type": "markdown",
   "id": "7ec01b78-0336-44dd-9bdd-853454855074",
   "metadata": {},
   "source": [
    " Nested Dictionary Comprehension"
   ]
  },
  {
   "cell_type": "code",
   "execution_count": 113,
   "id": "eefb841a-946f-4e3a-bf13-99819de33fd0",
   "metadata": {},
   "outputs": [
    {
     "name": "stdout",
     "output_type": "stream",
     "text": [
      "{1: {1: 1, 2: 2, 3: 3, 4: 4, 5: 5}, 2: {1: 2, 2: 4, 3: 6, 4: 8, 5: 10}, 3: {1: 3, 2: 6, 3: 9, 4: 12, 5: 15}, 4: {1: 4, 2: 8, 3: 12, 4: 16, 5: 20}, 5: {1: 5, 2: 10, 3: 15, 4: 20, 5: 25}}\n"
     ]
    }
   ],
   "source": [
    "table = {i: {j: i * j for j in range(1, 6)} for i in range(1, 6)}\n",
    "print(table)\n"
   ]
  },
  {
   "cell_type": "code",
   "execution_count": null,
   "id": "95984568-b077-4d73-8d76-ee9c5d69b333",
   "metadata": {},
   "outputs": [],
   "source": []
  },
  {
   "cell_type": "code",
   "execution_count": 114,
   "id": "c7f5b0e7-43ee-4665-8526-1710e66d250b",
   "metadata": {},
   "outputs": [
    {
     "name": "stdout",
     "output_type": "stream",
     "text": [
      "True\n",
      "False\n",
      "True\n",
      "False\n"
     ]
    }
   ],
   "source": [
    "import math\n",
    "\n",
    "def is_prime(n):\n",
    "    if n < 2:  \n",
    "        return False  # Numbers less than 2 are not prime\n",
    "    if n == 2:  \n",
    "        return True  # 2 is the only even prime number\n",
    "    if n % 2 == 0:  \n",
    "        return False  # Any other even number is not prime\n",
    "\n",
    "    # Check divisibility from 3 to √n, skipping even numbers\n",
    "    for i in range(3, int(math.sqrt(n)) + 1, 2):\n",
    "        if n % i == 0:\n",
    "            return False  # Found a divisor, not prime\n",
    "\n",
    "    return True  # No divisors found, it's prime\n",
    "\n",
    "# Example Usage\n",
    "print(is_prime(29))  # Output: True\n",
    "print(is_prime(10))  # Output: False\n",
    "print(is_prime(2))   # Output: True\n",
    "print(is_prime(1))   # Output: False\n"
   ]
  },
  {
   "cell_type": "code",
   "execution_count": null,
   "id": "69520a8b-7cae-441c-b889-df96d7c2f72a",
   "metadata": {},
   "outputs": [],
   "source": []
  },
  {
   "cell_type": "raw",
   "id": "8e52841c-60b0-4d11-96e6-1f300c2312b8",
   "metadata": {},
   "source": [
    "1️⃣ Math & Numeric Functions\n",
    "Function\tDescription\tExample\n",
    "abs(x)\tReturns absolute value\tabs(-5) → 5\n",
    "round(x, n)\tRounds a number to n decimal places\tround(3.14159, 2) → 3.14\n",
    "pow(x, y)\tReturns x raised to the power y (x^y)\tpow(2, 3) → 8\n",
    "sum(iterable)\tAdds all elements in an iterable\tsum([1, 2, 3]) → 6\n",
    "min(iterable)\tReturns smallest element\tmin([3, 1, 4]) → 1\n",
    "max(iterable)\tReturns largest element\tmax([3, 1, 4]) → 4\n",
    "\n",
    "\n",
    "2️⃣ Type Conversion Functions\n",
    "Function\tDescription\tExample\n",
    "int(x)\tConverts to integer\tint(\"10\") → 10\n",
    "float(x)\tConverts to float\tfloat(\"3.14\") → 3.14\n",
    "str(x)\tConverts to string\tstr(123) → \"123\"\n",
    "list(iterable)\tConverts to list\tlist(\"abc\") → ['a', 'b', 'c']\n",
    "tuple(iterable)\tConverts to tuple\ttuple([1, 2, 3]) → (1, 2, 3)\n",
    "dict(iterable)\tConverts to dictionary\tdict([('a', 1), ('b', 2)]) → {'a': 1, 'b': 2}\n",
    "\n",
    "\n",
    "3️⃣ String Functions\n",
    "Function\tDescription\tExample\n",
    "len(s)\tReturns length of string\tlen(\"hello\") → 5\n",
    "ord(c)\tReturns ASCII value of character\tord('A') → 65\n",
    "chr(x)\tReturns character from ASCII\tchr(65) → 'A'\n",
    "str.upper()\tConverts to uppercase\t\"hello\".upper() → \"HELLO\"\n",
    "str.lower()\tConverts to lowercase\t\"HELLO\".lower() → \"hello\"\n",
    "str.strip()\tRemoves spaces from both ends\t\" hello \".strip() → \"hello\"\n",
    "str.replace(a, b)\tReplaces substring a with b\t\"hello\".replace(\"h\", \"y\") → \"yello\"\n",
    "str.split(delim)\tSplits string into a list\t\"a,b,c\".split(\",\") → ['a', 'b', 'c']\n",
    "\n",
    "\n",
    "4️⃣ List & Iterable Functions\n",
    "Function\tDescription\tExample\n",
    "len(iterable)\tReturns number of elements\tlen([1,2,3]) → 3\n",
    "sorted(iterable)\tReturns sorted list\tsorted([3, 1, 2]) → [1, 2, 3]\n",
    "reversed(iterable)\tReturns reversed iterator\tlist(reversed([1,2,3])) → [3,2,1]\n",
    "enumerate(iterable)\tReturns index-value pairs\tlist(enumerate(\"abc\")) → [(0, 'a'), (1, 'b'), (2, 'c')]\n",
    "zip(iter1, iter2)\tCombines iterables into tuples\tlist(zip([1,2], ['a','b'])) → [(1, 'a'), (2, 'b')]\n",
    "map(func, iterable)\tApplies function to each item\tlist(map(str.upper, ['a', 'b'])) → ['A', 'B']\n",
    "filter(func, iterable)\tFilters elements based on function\tlist(filter(lambda x: x > 2, [1,2,3,4])) → [3,4]\n",
    "\n",
    "5️⃣ Input & Output Functions\n",
    "Function\tDescription\tExample\n",
    "print(x)\tDisplays output\tprint(\"Hello\") → Hello\n",
    "input(prompt)\tTakes user input as a string\tname = input(\"Enter name: \")\n",
    "open(file, mode)\tOpens a file\tf = open(\"file.txt\", \"r\")\n",
    "help(obj)\tShows documentation of an object\thelp(len)\n",
    "\n",
    "\n",
    "6️⃣ Object & Attribute Functions\n",
    "Function\tDescription\tExample\n",
    "type(x)\tReturns type of object\ttype(10) → <class 'int'>\n",
    "isinstance(x, type)\tChecks if x is of a type\tisinstance(10, int) → True\n",
    "dir(obj)\tLists attributes/methods of object\tdir(str)\n",
    "id(x)\tReturns memory address of object\tid(10)"
   ]
  },
  {
   "cell_type": "code",
   "execution_count": null,
   "id": "80674cb3-8f72-41f0-866d-1a538b6d80fe",
   "metadata": {},
   "outputs": [],
   "source": []
  },
  {
   "cell_type": "code",
   "execution_count": null,
   "id": "a9915d5a-6738-4e85-a1be-d6dc88961912",
   "metadata": {},
   "outputs": [],
   "source": []
  },
  {
   "cell_type": "code",
   "execution_count": 121,
   "id": "233011f4-6092-4a6a-a1dd-f598ff7ee252",
   "metadata": {},
   "outputs": [
    {
     "name": "stdout",
     "output_type": "stream",
     "text": [
      "error : division by zero\n"
     ]
    }
   ],
   "source": [
    "try :\n",
    "    1/0\n",
    "except Exception as e:  \n",
    "    print(\"error : {}\".format(e))"
   ]
  },
  {
   "cell_type": "code",
   "execution_count": 1,
   "id": "f3423679-bf45-41d5-83e6-11e53a03d9e1",
   "metadata": {},
   "outputs": [
    {
     "name": "stdout",
     "output_type": "stream",
     "text": [
      "Defaulting to user installation because normal site-packages is not writeable\n",
      "Requirement already satisfied: numpy in c:\\programdata\\anaconda3\\lib\\site-packages (1.26.4)\n",
      "Could not fetch URL https://pypi.org/simple/pip/: There was a problem confirming the ssl certificate: HTTPSConnectionPool(host='pypi.org', port=443): Max retries exceeded with url: /simple/pip/ (Caused by SSLError(SSLCertVerificationError(1, '[SSL: CERTIFICATE_VERIFY_FAILED] certificate verify failed: unable to get local issuer certificate (_ssl.c:1000)'))) - skipping\n",
      "Note: you may need to restart the kernel to use updated packages.\n"
     ]
    }
   ],
   "source": [
    "pip install numpy"
   ]
  },
  {
   "cell_type": "code",
   "execution_count": 1,
   "id": "09f27ecc-81ee-4a68-81e7-985107024be8",
   "metadata": {},
   "outputs": [
    {
     "name": "stdout",
     "output_type": "stream",
     "text": [
      "C:\\ProgramData\\anaconda3\\python.exe\n"
     ]
    }
   ],
   "source": [
    "import sys\n",
    "print(sys.executable)\n"
   ]
  },
  {
   "cell_type": "code",
   "execution_count": 2,
   "id": "28e26d11-94cf-4c18-9e2f-123530534c85",
   "metadata": {},
   "outputs": [],
   "source": [
    "import pickle "
   ]
  },
  {
   "cell_type": "code",
   "execution_count": null,
   "id": "e1136f97-edfd-4fd3-b971-70f9dfee8c40",
   "metadata": {},
   "outputs": [],
   "source": []
  }
 ],
 "metadata": {
  "kernelspec": {
   "display_name": "Python 3 (ipykernel)",
   "language": "python",
   "name": "python3"
  },
  "language_info": {
   "codemirror_mode": {
    "name": "ipython",
    "version": 3
   },
   "file_extension": ".py",
   "mimetype": "text/x-python",
   "name": "python",
   "nbconvert_exporter": "python",
   "pygments_lexer": "ipython3",
   "version": "3.12.4"
  }
 },
 "nbformat": 4,
 "nbformat_minor": 5
}
