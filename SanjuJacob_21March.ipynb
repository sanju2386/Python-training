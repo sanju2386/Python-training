{
 "cells": [
  {
   "cell_type": "code",
   "execution_count": 9,
   "id": "ba8115e4-e1c8-4dcd-8f87-471498a7bd11",
   "metadata": {},
   "outputs": [
    {
     "ename": "SyntaxError",
     "evalue": "unmatched ')' (2846235477.py, line 17)",
     "output_type": "error",
     "traceback": [
      "\u001b[1;36m  Cell \u001b[1;32mIn[9], line 17\u001b[1;36m\u001b[0m\n\u001b[1;33m    user_input=input())\u001b[0m\n\u001b[1;37m                      ^\u001b[0m\n\u001b[1;31mSyntaxError\u001b[0m\u001b[1;31m:\u001b[0m unmatched ')'\n"
     ]
    }
   ],
   "source": [
    "'''\n",
    "Programe seperate the prime number from user input\n",
    "Note:User input valiadation\n",
    "Authored by:Sanju Jacob\n",
    "\n",
    "'''\n",
    "\n",
    "# input\n",
    "print(\"This app seperates prime numbers from user input\")\n",
    "print(\"-\"*80)\n",
    "\n",
    "input_numbers=[]\n",
    "print(\"Enter your inputs: (press! to quit )\")\n",
    "n=[]\n",
    "while True :\n",
    "    # Get input\n",
    "    user_input=input())\n",
    "    \n",
    "    if (user_input =='!'):\n",
    "        break\n",
    "    if (user_input.isdigit()):\n",
    "        input_numbers.append(user_input)\n",
    "\n",
    "# process\n",
    "primes=[]\n",
    "for num in input_numbers:\n",
    "\n",
    "    # check if the number is prime number and add to prime number container\n",
    "    for i in range(2,num):\n",
    "        if (num%i==0):\n",
    "            break\n",
    "        else:\n",
    "            primes.append(i)\n",
    "            \n"
   ]
  },
  {
   "cell_type": "markdown",
   "id": "04d01cae-9608-419a-b2fe-cfed72b26371",
   "metadata": {},
   "source": [
    "## "
   ]
  },
  {
   "cell_type": "code",
   "execution_count": 55,
   "id": "dc117364-c0a7-4071-a2f2-da7830604c0f",
   "metadata": {},
   "outputs": [
    {
     "name": "stdout",
     "output_type": "stream",
     "text": [
      "This app separates prime numbers from user input\n",
      "--------------------------------------------------------------------------------\n",
      "Enter your inputs: (press ! to quit)\n"
     ]
    },
    {
     "name": "stdin",
     "output_type": "stream",
     "text": [
      " 2\n",
      " 5\n",
      " 7\n",
      " 9\n",
      " 3\n",
      " 37\n",
      " 13\n",
      " !\n"
     ]
    },
    {
     "name": "stdout",
     "output_type": "stream",
     "text": [
      "[2, 5, 7, 9, 3, 37, 13]\n",
      "Prime Numbers: [2, 5, 7]\n"
     ]
    }
   ],
   "source": [
    "'''\n",
    "Program to separate prime numbers from user input\n",
    "Note: User input validation\n",
    "Authored by: Sanju Jacob\n",
    "'''\n",
    "\n",
    "# Input\n",
    "print(\"This app separates prime numbers from user input\")\n",
    "print(\"-\" * 80)\n",
    "\n",
    "input_numbers = []\n",
    "print(\"Enter your inputs: (press ! to quit)\")\n",
    "\n",
    "while True:\n",
    "    # Get input\n",
    "    user_input = input().strip()  # ✅ Remove extra spaces\n",
    "\n",
    "    if user_input == \"!\":  # ✅ Quit condition\n",
    "        break\n",
    "\n",
    "    if user_input.isdigit():  # ✅ Check if it's a valid positive number\n",
    "        input_numbers.append(int(user_input))  # ✅ Convert to integer\n",
    "\n",
    "# Process: Find prime numbers\n",
    "primes = []\n",
    "for num in input_numbers:\n",
    "    if num % i==0 :\n",
    "        break\n",
    "    else: \n",
    "        # ✅ Executes only if the loop didn't break (i.e., number is prime)\n",
    "        primes.append(num)\n",
    "        \n",
    "\n",
    "# Output\n",
    "print(input_numbers)\n",
    "print(\"Prime Numbers:\", primes)\n"
   ]
  },
  {
   "cell_type": "code",
   "execution_count": null,
   "id": "5b74930d-5064-49e4-b90e-b613f9b8f0a9",
   "metadata": {},
   "outputs": [],
   "source": []
  },
  {
   "cell_type": "code",
   "execution_count": null,
   "id": "05e22e4e-ccd5-4360-91ef-6a628a0e7caa",
   "metadata": {},
   "outputs": [],
   "source": []
  },
  {
   "cell_type": "code",
   "execution_count": 51,
   "id": "1d090f0f-8f9a-444b-9e6b-f1e9a26f3687",
   "metadata": {},
   "outputs": [
    {
     "name": "stdout",
     "output_type": "stream",
     "text": [
      "This app separates prime numbers from user input\n",
      "--------------------------------------------------------------------------------\n",
      "Enter your inputs: (press ! to quit)\n"
     ]
    },
    {
     "name": "stdin",
     "output_type": "stream",
     "text": [
      " 23\n",
      " 2\n",
      " 7\n",
      " 8\n",
      " 9\n",
      " !\n"
     ]
    }
   ],
   "source": [
    "'''\n",
    "Program to separate prime numbers from user input\n",
    "Note: User input validation\n",
    "Authored by: Sanju Jacob\n",
    "'''\n",
    "\n",
    "# Input\n",
    "print(\"This app separates prime numbers from user input\")\n",
    "print(\"-\" * 80)\n",
    "\n",
    "input_numbers = []\n",
    "print(\"Enter your inputs: (press ! to quit)\")\n",
    "\n",
    "while True:\n",
    "    # Get input\n",
    "    user_input = input().strip()  # ✅ Remove extra spaces\n",
    "\n",
    "    if user_input == \"!\":  # ✅ Quit condition\n",
    "        break\n",
    "\n",
    "    if user_input.isdigit():  # ✅ Check if it's a valid positive number\n",
    "        input_numbers.append(int(user_input))  # ✅ Convert to integer\n",
    "\n",
    "# Check if input list is empty\n"
   ]
  },
  {
   "cell_type": "code",
   "execution_count": 61,
   "id": "0b581b34-ec8b-487d-b298-75b473296d30",
   "metadata": {},
   "outputs": [
    {
     "name": "stdin",
     "output_type": "stream",
     "text": [
      " 11\n"
     ]
    },
    {
     "name": "stdout",
     "output_type": "stream",
     "text": [
      "2\n",
      "3\n"
     ]
    }
   ],
   "source": [
    "num=int(input())\n",
    "\n",
    "\n",
    "for i in range(2, int(num ** 0.5) + 1):\n",
    "    print(i)"
   ]
  },
  {
   "cell_type": "code",
   "execution_count": 5,
   "id": "c6872749-bc7d-481c-a7b1-de675bf0d8a2",
   "metadata": {},
   "outputs": [
    {
     "name": "stdout",
     "output_type": "stream",
     "text": [
      "This app separates prime numbers from user input\n",
      "--------------------------------------------------------------------------------\n",
      "Enter your inputs: (press ! to quit)\n"
     ]
    },
    {
     "name": "stdin",
     "output_type": "stream",
     "text": [
      " 3\n",
      " 4\n",
      " 5\n",
      " 8\n",
      " 9\n",
      " 12\n",
      " 13\n",
      " 15\n",
      " 16\n",
      " 39\n",
      " 57\n",
      " 63\n",
      " !\n"
     ]
    },
    {
     "name": "stdout",
     "output_type": "stream",
     "text": [
      "\n",
      "All Input Numbers: [3, 4, 5, 8, 9, 12, 13, 15, 16, 39, 57, 63]\n",
      "Prime Numbers: [3, 5, 13]\n"
     ]
    }
   ],
   "source": [
    "'''\n",
    "Program to separate prime numbers from user input\n",
    "Note: User input validation\n",
    "Authored by: Sanju Jacob\n",
    "'''\n",
    "\n",
    "# Input\n",
    "print(\"This app separates prime numbers from user input\")\n",
    "print(\"-\" * 80)\n",
    "\n",
    "input_numbers = []\n",
    "print(\"Enter your inputs: (press ! to quit)\")\n",
    "\n",
    "while True:\n",
    "    # Get input\n",
    "    user_input = input().strip()  # ✅ Remove extra spaces\n",
    "\n",
    "    if user_input == \"!\":  # ✅ Quit condition\n",
    "        break\n",
    "\n",
    "    if user_input.isdigit():  # ✅ Check if it's a valid positive number\n",
    "        input_numbers.append(int(user_input))  # ✅ Convert to integer\n",
    "\n",
    "# Function to check if a number is prime\n",
    "def is_prime(n):\n",
    "    if n < 2:\n",
    "        return False  # 0 and 1 are not prime\n",
    "    for i in range(2, n):  # Check from 2 to n-1\n",
    "        if n % i == 0:\n",
    "            return False  # Found a divisor, not prime\n",
    "    return True  # No divisors found, it's prime\n",
    "\n",
    "\n",
    "# Process: Find prime numbers\n",
    "primes = [num for num in input_numbers if is_prime(num)]\n",
    "\n",
    "# Output\n",
    "print(\"\\nAll Input Numbers:\", input_numbers)\n",
    "print(\"Prime Numbers:\", primes)\n"
   ]
  },
  {
   "cell_type": "code",
   "execution_count": 4,
   "id": "3bd7a0ef-5be9-4dba-a966-2db20cd49552",
   "metadata": {},
   "outputs": [
    {
     "name": "stdin",
     "output_type": "stream",
     "text": [
      " 20\n"
     ]
    },
    {
     "name": "stdout",
     "output_type": "stream",
     "text": [
      "2\n",
      "3\n",
      "4\n"
     ]
    }
   ],
   "source": [
    "n=int(input())\n",
    "for i2 in  range(2, int(n ** 0.5) + 1):\n",
    "    print(i2)\n",
    "    "
   ]
  },
  {
   "cell_type": "code",
   "execution_count": null,
   "id": "6a7d7790-af62-446b-a8a0-afb2318d855c",
   "metadata": {},
   "outputs": [],
   "source": []
  },
  {
   "cell_type": "markdown",
   "id": "9528e81e-945b-4a6f-922a-8ddb07d002c9",
   "metadata": {},
   "source": [
    "# Function in Python"
   ]
  },
  {
   "cell_type": "raw",
   "id": "6fb5945d-8f7f-4aac-9957-211435e7b946",
   "metadata": {},
   "source": [
    "def <function name>(<input values>):\n",
    "        return <output value>"
   ]
  },
  {
   "cell_type": "code",
   "execution_count": 26,
   "id": "3dbdc165-5b10-4fd1-a03a-ddaed181c28d",
   "metadata": {},
   "outputs": [],
   "source": [
    "def check_prime(n):\n",
    "    prime=True\n",
    "    for i in range(2,n):\n",
    "        if n % i==0:\n",
    "            prime=False\n",
    "            break\n",
    "    return prime\n",
    "    "
   ]
  },
  {
   "cell_type": "code",
   "execution_count": 27,
   "id": "5990a74c-52ff-48d8-ac1f-aa8030ebf72d",
   "metadata": {},
   "outputs": [
    {
     "data": {
      "text/plain": [
       "False"
      ]
     },
     "execution_count": 27,
     "metadata": {},
     "output_type": "execute_result"
    }
   ],
   "source": [
    "check_prime(9)"
   ]
  },
  {
   "cell_type": "markdown",
   "id": "fb78e54d-e774-4b3e-b560-8d4aae4dc36e",
   "metadata": {},
   "source": [
    "# lambda function"
   ]
  },
  {
   "cell_type": "code",
   "execution_count": 28,
   "id": "20f6e749-689a-4c24-b1fe-428797ef3ce4",
   "metadata": {},
   "outputs": [],
   "source": [
    "f=lambda a,b:a+b"
   ]
  },
  {
   "cell_type": "code",
   "execution_count": 29,
   "id": "14e5474d-4dc8-4779-b530-0e5dcac5212a",
   "metadata": {},
   "outputs": [
    {
     "data": {
      "text/plain": [
       "9"
      ]
     },
     "execution_count": 29,
     "metadata": {},
     "output_type": "execute_result"
    }
   ],
   "source": [
    "f(2,7)"
   ]
  },
  {
   "cell_type": "code",
   "execution_count": 31,
   "id": "c9b72f38-a3f6-4ae8-bb4a-858ec0fc4de6",
   "metadata": {},
   "outputs": [
    {
     "data": {
      "text/plain": [
       "'ab'"
      ]
     },
     "execution_count": 31,
     "metadata": {},
     "output_type": "execute_result"
    }
   ],
   "source": [
    "f('a','b')"
   ]
  },
  {
   "cell_type": "code",
   "execution_count": 32,
   "id": "a60e23f8-fff9-4683-97d9-8ea39e18fe67",
   "metadata": {},
   "outputs": [
    {
     "data": {
      "text/plain": [
       "[1, 2, 3, 4, 5, 6]"
      ]
     },
     "execution_count": 32,
     "metadata": {},
     "output_type": "execute_result"
    }
   ],
   "source": [
    "f([1,2,3],[4,5,6])"
   ]
  },
  {
   "cell_type": "markdown",
   "id": "95b75159-4e3e-4b23-b7bf-724d40b62b3b",
   "metadata": {},
   "source": [
    "# Map function"
   ]
  },
  {
   "cell_type": "code",
   "execution_count": 33,
   "id": "8a115982-186a-42a0-abcd-0f030ee007f4",
   "metadata": {},
   "outputs": [],
   "source": [
    "T=[12,34,56,78,100]"
   ]
  },
  {
   "cell_type": "code",
   "execution_count": null,
   "id": "988517e5-7622-40d7-bcc3-0ac394874f34",
   "metadata": {},
   "outputs": [],
   "source": []
  },
  {
   "cell_type": "code",
   "execution_count": 38,
   "id": "d4eede24-8c18-4957-ba6a-051bcbfd1ee2",
   "metadata": {},
   "outputs": [],
   "source": [
    "T=[12,34,56,78,100]\n",
    "f1=map(lambda t:t*1.8+32 ,T)"
   ]
  },
  {
   "cell_type": "code",
   "execution_count": 39,
   "id": "805ecddc-8169-41c7-a964-a34f5e23f8b0",
   "metadata": {},
   "outputs": [
    {
     "data": {
      "text/plain": [
       "<map at 0x19741119ab0>"
      ]
     },
     "execution_count": 39,
     "metadata": {},
     "output_type": "execute_result"
    }
   ],
   "source": [
    "f1"
   ]
  },
  {
   "cell_type": "code",
   "execution_count": 40,
   "id": "f9ca4a50-6177-44c7-832a-22b020037ae6",
   "metadata": {},
   "outputs": [
    {
     "data": {
      "text/plain": [
       "[53.6, 93.2, 132.8, 172.4, 212.0]"
      ]
     },
     "execution_count": 40,
     "metadata": {},
     "output_type": "execute_result"
    }
   ],
   "source": [
    "list(f1)"
   ]
  },
  {
   "cell_type": "code",
   "execution_count": null,
   "id": "26243e36-153c-4eee-ab80-e30c04d00398",
   "metadata": {},
   "outputs": [],
   "source": []
  },
  {
   "cell_type": "code",
   "execution_count": null,
   "id": "54d22129-0091-4dbb-a5c7-a0830cc39ad8",
   "metadata": {},
   "outputs": [],
   "source": []
  },
  {
   "cell_type": "markdown",
   "id": "c8e0deac-8d56-4c0f-987f-b49ae0e443db",
   "metadata": {},
   "source": [
    "# zip function"
   ]
  },
  {
   "cell_type": "raw",
   "id": "88721fbd-f474-4fcc-80e7-e46479d168f2",
   "metadata": {},
   "source": [
    "# zip function : is a generator"
   ]
  },
  {
   "cell_type": "code",
   "execution_count": 45,
   "id": "349c37d7-2066-4bdf-b9cf-b97952faf17f",
   "metadata": {},
   "outputs": [
    {
     "name": "stdout",
     "output_type": "stream",
     "text": [
      "<zip object at 0x00000197411E0F00>\n"
     ]
    }
   ],
   "source": [
    "a=['red','green','blue']\n",
    "b=[1,2,3]\n",
    "z=zip(b,a)\n",
    "print(z)"
   ]
  },
  {
   "cell_type": "code",
   "execution_count": 46,
   "id": "8afbc727-fe1c-4ff1-a6fe-85a5cedc44d0",
   "metadata": {},
   "outputs": [
    {
     "data": {
      "text/plain": [
       "{1: 'red', 2: 'green', 3: 'blue'}"
      ]
     },
     "execution_count": 46,
     "metadata": {},
     "output_type": "execute_result"
    }
   ],
   "source": [
    "dict(z)"
   ]
  },
  {
   "cell_type": "markdown",
   "id": "7837855b-2d5e-4835-9720-30867eb79cf9",
   "metadata": {},
   "source": [
    "# sort function with keys"
   ]
  },
  {
   "cell_type": "code",
   "execution_count": 47,
   "id": "04d073f0-e200-465a-91df-f3bde7e08fcd",
   "metadata": {},
   "outputs": [],
   "source": [
    "l= [('apples' ,25),('cherries' ,5), ('banna' ,34)]\n",
    "l.sort()"
   ]
  },
  {
   "cell_type": "code",
   "execution_count": 48,
   "id": "ffcb9e3e-71a8-4463-aa40-b0af56da94ff",
   "metadata": {},
   "outputs": [
    {
     "data": {
      "text/plain": [
       "[('apples', 25), ('banna', 34), ('cherries', 5)]"
      ]
     },
     "execution_count": 48,
     "metadata": {},
     "output_type": "execute_result"
    }
   ],
   "source": [
    "l"
   ]
  },
  {
   "cell_type": "code",
   "execution_count": 49,
   "id": "075dc810-f344-48b4-8025-4b41b8b4aa09",
   "metadata": {},
   "outputs": [],
   "source": [
    "l.sort(key=lambda e:e[1])"
   ]
  },
  {
   "cell_type": "code",
   "execution_count": 50,
   "id": "ed747f71-b442-4db1-97b3-9695da241bd4",
   "metadata": {},
   "outputs": [
    {
     "data": {
      "text/plain": [
       "[('cherries', 5), ('apples', 25), ('banna', 34)]"
      ]
     },
     "execution_count": 50,
     "metadata": {},
     "output_type": "execute_result"
    }
   ],
   "source": [
    "l"
   ]
  },
  {
   "cell_type": "code",
   "execution_count": null,
   "id": "cd33e7b4-e930-41ec-86da-5aea735478a0",
   "metadata": {},
   "outputs": [],
   "source": []
  },
  {
   "cell_type": "markdown",
   "id": "3cf2b05d-65d1-44b5-b977-c34f0a0c217f",
   "metadata": {},
   "source": [
    "# lab session 11:55 am-12:25 pm"
   ]
  },
  {
   "cell_type": "raw",
   "id": "314031a7-d95c-44c7-a172-e2762664d5b2",
   "metadata": {},
   "source": [
    "Session 1: [30]\n",
    "-----------------------------------------------------------------------------------------\n",
    "\n",
    "Write a function to return the sum of individual digits \n",
    "Example: sum_individual(123) -> 6\n",
    "\n",
    "Create a list of squares of numbers between 1 and 10\n",
    "Use map()\n",
    "\n",
    "List all three digit numbers between 100 and 1000 whose sum of individual digits \n",
    "equate to 11. Use filter()\n",
    "\n",
    "Given L = [\"red\", \"green\", \"blue\", \"yellow\"]\n",
    "Sort the list in descending order with respect to the last charecter of the element\n",
    "output -> ['yellow', 'green', 'blue', 'red']"
   ]
  },
  {
   "cell_type": "markdown",
   "id": "69c398e9-5a43-4fca-8697-0f695d53249b",
   "metadata": {},
   "source": [
    "# Q1"
   ]
  },
  {
   "cell_type": "raw",
   "id": "d2850aab-320b-43db-ac48-e6e55bfece2b",
   "metadata": {},
   "source": [
    "Write a function to return the sum of individual digits \n",
    "Example: sum_individual(123) -> 6"
   ]
  },
  {
   "cell_type": "code",
   "execution_count": 62,
   "id": "aaddda3b-0564-4e76-aae5-22144895664e",
   "metadata": {},
   "outputs": [
    {
     "data": {
      "text/plain": [
       "2"
      ]
     },
     "execution_count": 62,
     "metadata": {},
     "output_type": "execute_result"
    }
   ],
   "source": [
    "23//10\n"
   ]
  },
  {
   "cell_type": "code",
   "execution_count": 69,
   "id": "7cee6dc8-050a-4319-b8e0-713dc7313bf2",
   "metadata": {},
   "outputs": [],
   "source": [
    "def sum_digits(n):\n",
    "    total=0\n",
    "    while n>0:\n",
    "        total+=n%10 #Extract last digit\n",
    "        n//=10 # Remove last digit\n",
    "        \n",
    "    return total\n",
    "         \n",
    "    \n",
    "    \n",
    "    "
   ]
  },
  {
   "cell_type": "code",
   "execution_count": 70,
   "id": "b8c05b58-09dc-4b8f-b20c-a4df6d73b352",
   "metadata": {},
   "outputs": [
    {
     "data": {
      "text/plain": [
       "5"
      ]
     },
     "execution_count": 70,
     "metadata": {},
     "output_type": "execute_result"
    }
   ],
   "source": [
    "f=sum_digits(23)\n",
    "f"
   ]
  },
  {
   "cell_type": "markdown",
   "id": "535addab-fee8-47c9-8d6d-32d442c9bff2",
   "metadata": {},
   "source": [
    "# Q2"
   ]
  },
  {
   "cell_type": "raw",
   "id": "f93c05b2-4856-42e1-95ef-e78fb6fb1448",
   "metadata": {},
   "source": [
    "Create a list of squares of numbers between 1 and 10\n",
    "Use map()"
   ]
  },
  {
   "cell_type": "code",
   "execution_count": 72,
   "id": "c512b9fd-4b9f-4eca-aaf6-207a84abe7f3",
   "metadata": {},
   "outputs": [
    {
     "data": {
      "text/plain": [
       "[1, 4, 9, 16, 25, 36, 49, 64, 81, 100]"
      ]
     },
     "execution_count": 72,
     "metadata": {},
     "output_type": "execute_result"
    }
   ],
   "source": [
    "f2=map(lambda n:n**2 ,range(1,11))\n",
    "list(f2)"
   ]
  },
  {
   "cell_type": "markdown",
   "id": "e21de85d-de0f-4ba2-abdc-f5468e30949e",
   "metadata": {},
   "source": [
    "# Q3"
   ]
  },
  {
   "cell_type": "raw",
   "id": "1dc0373e-3321-4c05-a3e5-bede48fcb8ea",
   "metadata": {},
   "source": [
    "List all three digit numbers between 100 and 1000 whose sum of individual digits \n",
    "equate to 11. Use filter()"
   ]
  },
  {
   "cell_type": "code",
   "execution_count": 80,
   "id": "a9d33b53-45a1-4821-89b0-4ab0c8083c47",
   "metadata": {},
   "outputs": [],
   "source": [
    "def sum_11(n):\n",
    "    total=0\n",
    "    temp=n\n",
    "    while temp>0:\n",
    "        total+=temp%10 #Extract last digit\n",
    "        temp//=10 # Rem\n",
    "    if total==11:\n",
    "        return n"
   ]
  },
  {
   "cell_type": "code",
   "execution_count": 81,
   "id": "8e387a57-5fe7-4c1b-ad06-a65a5fec0141",
   "metadata": {},
   "outputs": [
    {
     "name": "stdout",
     "output_type": "stream",
     "text": [
      "1\n"
     ]
    }
   ],
   "source": [
    "print(sum2(100))"
   ]
  },
  {
   "cell_type": "code",
   "execution_count": 82,
   "id": "20b7662f-9616-43a9-822e-b928cfb2f08b",
   "metadata": {},
   "outputs": [
    {
     "name": "stdout",
     "output_type": "stream",
     "text": [
      "None\n"
     ]
    }
   ],
   "source": [
    "print(sum_11(110))"
   ]
  },
  {
   "cell_type": "code",
   "execution_count": 83,
   "id": "e6c24fa0-b4fa-4ed1-90e5-92f55e471676",
   "metadata": {},
   "outputs": [
    {
     "name": "stdout",
     "output_type": "stream",
     "text": [
      "29\n",
      "38\n",
      "None\n"
     ]
    }
   ],
   "source": [
    "def sum_11(n):\n",
    "    total = 0\n",
    "    temp = n  # Store original number\n",
    "\n",
    "    while temp > 0:\n",
    "        total += temp % 10  # Extract last digit\n",
    "        temp //= 10  # Remove last digit\n",
    "\n",
    "    if total == 11:\n",
    "        return n  # Return original number\n",
    "\n",
    "# Example Usage\n",
    "print(sum_11(29))  # Output: 29 (2 + 9 = 11)\n",
    "print(sum_11(38))  # Output: 38 (3 + 8 = 11)\n",
    "print(sum_11(123)) # Output: None (1 + 2 + 3 ≠ 11)\n"
   ]
  },
  {
   "cell_type": "code",
   "execution_count": 86,
   "id": "bdfbb3bf-0082-458f-a380-7f487eb1a988",
   "metadata": {},
   "outputs": [
    {
     "name": "stdout",
     "output_type": "stream",
     "text": [
      "[119, 128, 137, 146, 155, 164, 173, 182, 191, 209, 218, 227, 236, 245, 254, 263, 272, 281, 290, 308, 317, 326, 335, 344, 353, 362, 371, 380, 407, 416, 425, 434, 443, 452, 461, 470, 506, 515, 524, 533, 542, 551, 560, 605, 614, 623, 632, 641, 650, 704, 713, 722, 731, 740, 803, 812, 821, 830, 902, 911, 920] \n",
      "\n"
     ]
    }
   ],
   "source": [
    "sol=filter(sum_11,range(100,1000))\n",
    "print(list(sol),\"\\n\")"
   ]
  },
  {
   "cell_type": "markdown",
   "id": "6b0eb962-555d-4cb5-924a-441d930208a1",
   "metadata": {},
   "source": [
    "# Q4"
   ]
  },
  {
   "cell_type": "raw",
   "id": "f0a9f6cd-ae70-4865-a7ab-cf57d8afdd6c",
   "metadata": {},
   "source": [
    "Given L = [\"red\", \"green\", \"blue\", \"yellow\"]\n",
    "Sort the list in descending order with respect to the last charecter of the element\n",
    "output -> ['yellow', 'green', 'blue', 'red']"
   ]
  },
  {
   "cell_type": "code",
   "execution_count": 90,
   "id": "200965f9-37c3-47f8-98b0-6b8d0d9076e0",
   "metadata": {},
   "outputs": [
    {
     "name": "stdout",
     "output_type": "stream",
     "text": [
      "['yellow', 'green', 'blue', 'red']\n"
     ]
    }
   ],
   "source": [
    "L = [\"red\", \"green\", \"blue\", \"yellow\"]\n",
    "\n",
    "L.sort(key=lambda e: e[-1], reverse=True)  # ✅ Sort by last character in descending order\n",
    "\n",
    "print(L)  # Output: ['yellow', 'green', 'blue', 'red']\n"
   ]
  },
  {
   "cell_type": "code",
   "execution_count": 91,
   "id": "74c4bd1e-ac2c-47e3-bc41-f8be5d97e9b5",
   "metadata": {},
   "outputs": [],
   "source": [
    "l= [('apples' ,25),('cherries' ,5), ('banna' ,34)]\n",
    "\n"
   ]
  },
  {
   "cell_type": "code",
   "execution_count": 94,
   "id": "37be350c-600a-4c5c-98c9-ae19374b10fd",
   "metadata": {},
   "outputs": [
    {
     "data": {
      "text/plain": [
       "[('banna', 34), ('cherries', 5), ('apples', 25)]"
      ]
     },
     "execution_count": 94,
     "metadata": {},
     "output_type": "execute_result"
    }
   ],
   "source": [
    "l.sort(key=lambda a:a[0][1])\n",
    "l"
   ]
  },
  {
   "cell_type": "code",
   "execution_count": 100,
   "id": "aaeb4a3d-a59c-409f-8040-3c29d6eab564",
   "metadata": {},
   "outputs": [],
   "source": [
    "l2= [[1,1,3],[1,2,5],[2,3,4]]\n",
    "l2.sort(key=lambda i:i[1],reverse=True)"
   ]
  },
  {
   "cell_type": "code",
   "execution_count": 101,
   "id": "8a9de491-e7b4-4056-bae2-7058a621239d",
   "metadata": {},
   "outputs": [
    {
     "data": {
      "text/plain": [
       "[[2, 3, 4], [1, 2, 5], [1, 1, 3]]"
      ]
     },
     "execution_count": 101,
     "metadata": {},
     "output_type": "execute_result"
    }
   ],
   "source": [
    "l2"
   ]
  },
  {
   "cell_type": "code",
   "execution_count": null,
   "id": "3b269045-6abd-478f-b8d0-20d367b563f9",
   "metadata": {},
   "outputs": [],
   "source": []
  },
  {
   "cell_type": "markdown",
   "id": "5a2de869-ab85-4ab8-b1de-00adbbb17fd4",
   "metadata": {},
   "source": [
    "# Comprehensions"
   ]
  },
  {
   "cell_type": "code",
   "execution_count": 103,
   "id": "ed14d071-5540-4f75-a75b-ff928fe090c0",
   "metadata": {},
   "outputs": [
    {
     "data": {
      "text/plain": [
       "[3, 6, 9, 12, 15, 18]"
      ]
     },
     "execution_count": 103,
     "metadata": {},
     "output_type": "execute_result"
    }
   ],
   "source": [
    "n=list(n for n in range(1,20) if n % 3== 0)\n",
    "n"
   ]
  },
  {
   "cell_type": "code",
   "execution_count": 104,
   "id": "adc6c27f-c02b-43a8-b456-0ca1d2e4a85d",
   "metadata": {},
   "outputs": [
    {
     "data": {
      "text/plain": [
       "[2, 4, 6, 8, 10, 12, 14, 16, 18]"
      ]
     },
     "execution_count": 104,
     "metadata": {},
     "output_type": "execute_result"
    }
   ],
   "source": [
    "n2=list(n for n in range(1,20) if n % 2== 0)\n",
    "n2"
   ]
  },
  {
   "cell_type": "code",
   "execution_count": 106,
   "id": "f373e539-92f7-46f9-832e-c70a49d2392e",
   "metadata": {},
   "outputs": [
    {
     "data": {
      "text/plain": [
       "[4, 81, 169]"
      ]
     },
     "execution_count": 106,
     "metadata": {},
     "output_type": "execute_result"
    }
   ],
   "source": [
    "n3=[n**2 for n in range(20) if n in [2, 9, 13]]\n",
    "n3"
   ]
  },
  {
   "cell_type": "code",
   "execution_count": 107,
   "id": "35a9be34-7830-41ce-8502-fac399b5fee7",
   "metadata": {},
   "outputs": [
    {
     "data": {
      "text/plain": [
       "[(2, 4, 8), (5, 25, 125), (7, 49, 343), (9, 81, 729)]"
      ]
     },
     "execution_count": 107,
     "metadata": {},
     "output_type": "execute_result"
    }
   ],
   "source": [
    "n4=[(n, n**2, n**3) for n in [2, 5, 7, 9]]\n",
    "n4"
   ]
  },
  {
   "cell_type": "code",
   "execution_count": 110,
   "id": "3e272b08-06b3-4bb0-9bca-fdf3c5eb28c7",
   "metadata": {},
   "outputs": [
    {
     "data": {
      "text/plain": [
       "['red', 'green', 'blue', 'yellow']"
      ]
     },
     "execution_count": 110,
     "metadata": {},
     "output_type": "execute_result"
    }
   ],
   "source": [
    "L = [\"red\", \"green\", \"blue\", \"yellow\"]\n",
    "L"
   ]
  },
  {
   "cell_type": "code",
   "execution_count": 111,
   "id": "78e93da9-fc8d-472f-9e99-82972cdbbbc4",
   "metadata": {},
   "outputs": [
    {
     "data": {
      "text/plain": [
       "{'red': 3, 'green': 5, 'blue': 4, 'yellow': 6}"
      ]
     },
     "execution_count": 111,
     "metadata": {},
     "output_type": "execute_result"
    }
   ],
   "source": [
    "d1={s:len(s) for s in L}\n",
    "d1"
   ]
  },
  {
   "cell_type": "code",
   "execution_count": 112,
   "id": "a3e5d6c4-a725-44e7-bcc8-3e60ba9311d0",
   "metadata": {},
   "outputs": [],
   "source": [
    "N = [1, 2, 3, 4, 5, 6]"
   ]
  },
  {
   "cell_type": "code",
   "execution_count": 114,
   "id": "1727779f-cccb-402a-ae07-37f9658f7872",
   "metadata": {},
   "outputs": [
    {
     "data": {
      "text/plain": [
       "[4, 25]"
      ]
     },
     "execution_count": 114,
     "metadata": {},
     "output_type": "execute_result"
    }
   ],
   "source": [
    "N = [1, 2, 3, 4, 5, 6]\n",
    "l3=[x**2 for x in N if x in [2, 5]]\n",
    "l3"
   ]
  },
  {
   "cell_type": "code",
   "execution_count": null,
   "id": "5a768e28-6f27-4ee9-92e1-de1268ad7cea",
   "metadata": {},
   "outputs": [],
   "source": [
    "[x**2 if x in [2, 5] else x for x in N]"
   ]
  },
  {
   "cell_type": "code",
   "execution_count": null,
   "id": "76d7fbd6-c31c-4110-89b7-ee946e69f97e",
   "metadata": {},
   "outputs": [],
   "source": [
    "[x**2 if x % 2 == 0 else x for x in N]"
   ]
  },
  {
   "cell_type": "code",
   "execution_count": 117,
   "id": "0ed33923-554c-492a-aeaf-10593528b3af",
   "metadata": {},
   "outputs": [
    {
     "data": {
      "text/plain": [
       "[(2, 9), (3, 8), (4, 7), (5, 6), (6, 5), (7, 4), (8, 3), (9, 2)]"
      ]
     },
     "execution_count": 117,
     "metadata": {},
     "output_type": "execute_result"
    }
   ],
   "source": [
    "l5=[(x, y) for x in range(10) for y in range(10) if x + y == 11]\n",
    "l5"
   ]
  },
  {
   "cell_type": "code",
   "execution_count": null,
   "id": "e9ff8faf-707e-4c2a-a84d-7cac1f192a26",
   "metadata": {},
   "outputs": [],
   "source": []
  },
  {
   "cell_type": "code",
   "execution_count": null,
   "id": "f74e30f4-6b2f-4cb3-91fb-bca6a48cfc2a",
   "metadata": {},
   "outputs": [],
   "source": [
    "d = {'red': 3, 'green': 5, 'blue': 4, 'yellow': 6}"
   ]
  },
  {
   "cell_type": "code",
   "execution_count": null,
   "id": "d1e71eab-a768-40b3-a5ad-f8e4d99e3e87",
   "metadata": {},
   "outputs": [],
   "source": []
  },
  {
   "cell_type": "code",
   "execution_count": 115,
   "id": "21609923-fd58-4522-9816-4331c74236f0",
   "metadata": {},
   "outputs": [
    {
     "data": {
      "text/plain": [
       "{3: 'red', 5: 'green', 4: 'blue', 6: 'yellow'}"
      ]
     },
     "execution_count": 115,
     "metadata": {},
     "output_type": "execute_result"
    }
   ],
   "source": [
    "d = {'red': 3, 'green': 5, 'blue': 4, 'yellow': 6}\n",
    "d4={v:k for k,v in d.items()}\n",
    "d4"
   ]
  },
  {
   "cell_type": "code",
   "execution_count": null,
   "id": "28eb6907-ed51-4178-90b1-563021e7d3f2",
   "metadata": {},
   "outputs": [],
   "source": []
  },
  {
   "cell_type": "code",
   "execution_count": null,
   "id": "2b03a64c-eba2-48e6-aa10-de1aa818b160",
   "metadata": {},
   "outputs": [],
   "source": []
  },
  {
   "cell_type": "markdown",
   "id": "25602e71-da40-4744-9c81-47354947d805",
   "metadata": {},
   "source": [
    " # Lab session 2:30 pm -3:05 pm "
   ]
  },
  {
   "cell_type": "raw",
   "id": "7ca7fc9d-9f0f-4969-9474-416e45d245f7",
   "metadata": {},
   "source": [
    "1. Given a list of numbers, create a new list containing the squares of only the even numbers.\n",
    "2. Given a list of words, create a dictionary where the keys are words and the values are their lengths.\n",
    "   words = [\"apple\", \"banana\", \"cherry\", \"date\", \"elderberry\"]\n",
    "3. Given a list of tuples with names and ages, create a dictionary of names with ages only if age is greater than 18.\n",
    "   [(\"Alice\", 25), (\"Bob\", 17), (\"Charlie\", 19), (\"David\", 16)]\n",
    "4. Flatten a 2D list into a 1D list using a list comprehension.\n",
    "    matrix = [[1, 2, 3], [4, 5, 6], [7, 8, 9]]\n",
    "5. Given a string, create a dictionary where the keys are characters and values are their frequencies.\n",
    "    text = \"comprehension\"\n",
    "\n",
    "6. What is the time required to find all the prime numbers between a given range\n",
    "   Example: a -> 3\n",
    "            b -> 10\n",
    "            Output: 3, 5, 7\n",
    "            Time: 0.0002 seconds\n",
    "\n",
    "7. Come up with an algorithm to flatten a list and implement it in python:\n",
    "   Example: [1, 2, 3, [4, 5, [6, 7]], 8]\n",
    "            Output: [1, 2, 3, 4, 5, 6, 7, 8]"
   ]
  },
  {
   "cell_type": "markdown",
   "id": "5332ee99-f122-460a-9ccc-48ebe1e58995",
   "metadata": {},
   "source": [
    "# Q1"
   ]
  },
  {
   "cell_type": "raw",
   "id": "2a6f627c-841c-4045-bacf-ca3324349fe6",
   "metadata": {},
   "source": [
    "Given a list of numbers, create a new list containing the squares of only the even numbers."
   ]
  },
  {
   "cell_type": "code",
   "execution_count": 122,
   "id": "e6468c68-c7e4-4895-8a06-3be573fa12fe",
   "metadata": {},
   "outputs": [
    {
     "data": {
      "text/plain": [
       "[2, 4, 6, 8, 10, 12, 14, 16, 18]"
      ]
     },
     "execution_count": 122,
     "metadata": {},
     "output_type": "execute_result"
    }
   ],
   "source": [
    "l1=[n for n in range(1,20) if n % 2== 0]\n",
    "l1"
   ]
  },
  {
   "cell_type": "markdown",
   "id": "73fcc078-b537-4a68-975c-dafc959ca331",
   "metadata": {},
   "source": [
    "# Q2"
   ]
  },
  {
   "cell_type": "raw",
   "id": "9f364391-01e9-483f-b160-7d9cec2877dd",
   "metadata": {},
   "source": [
    "given a list of words, create a dictionary where the keys are words and the values are their lengths.\n",
    "   words = [\"apple\", \"banana\", \"cherry\", \"date\", \"elderberry\"]"
   ]
  },
  {
   "cell_type": "code",
   "execution_count": 124,
   "id": "06080556-126a-4159-b5be-c824dffc01d9",
   "metadata": {},
   "outputs": [
    {
     "data": {
      "text/plain": [
       "{'apple': 5, 'banana': 6, 'cherry': 6, 'date': 4, 'elderberry': 10}"
      ]
     },
     "execution_count": 124,
     "metadata": {},
     "output_type": "execute_result"
    }
   ],
   "source": [
    "words = [\"apple\", \"banana\", \"cherry\", \"date\", \"elderberry\"]\n",
    "d1 = {word: len(word) for word in words}\n",
    "d1"
   ]
  },
  {
   "cell_type": "markdown",
   "id": "64375f40-b007-4bd4-96aa-552cca13129b",
   "metadata": {},
   "source": [
    "# Q3"
   ]
  },
  {
   "cell_type": "raw",
   "id": "24a45f23-ad6e-484b-8242-c5ea4f9b49c7",
   "metadata": {},
   "source": [
    "Given a list of tuples with names and ages, create a dictionary of names with ages only if age is greater than 18.\n",
    "   [(\"Alice\", 25), (\"Bob\", 17), (\"Charlie\", 19), (\"David\", 16)]"
   ]
  },
  {
   "cell_type": "code",
   "execution_count": 125,
   "id": "99e70f33-cf31-41b0-9a04-18e21d2b6108",
   "metadata": {},
   "outputs": [
    {
     "data": {
      "text/plain": [
       "{'Alice': 25, 'Charlie': 19}"
      ]
     },
     "execution_count": 125,
     "metadata": {},
     "output_type": "execute_result"
    }
   ],
   "source": [
    "w=[(\"Alice\", 25), (\"Bob\", 17), (\"Charlie\", 19), (\"David\", 16)]\n",
    "f1= (lambda i:i[1]>18)\n",
    "d2={name: age for name, age in w if f1((name, age))}\n",
    "d2"
   ]
  },
  {
   "cell_type": "markdown",
   "id": "568b089b-fc2c-44cc-ac0c-1294e22d457a",
   "metadata": {},
   "source": [
    "# Q4"
   ]
  },
  {
   "cell_type": "raw",
   "id": "115e6677-ae7b-46ce-a21e-4bd03ad2b707",
   "metadata": {},
   "source": [
    "Flatten a 2D list into a 1D list using a list comprehension.\n",
    "    matrix = [[1, 2, 3], [4, 5, 6], [7, 8, 9]]\n",
    "\n"
   ]
  },
  {
   "cell_type": "code",
   "execution_count": 126,
   "id": "b64f9814-d815-430e-bdc6-a4c09a524069",
   "metadata": {},
   "outputs": [
    {
     "name": "stdout",
     "output_type": "stream",
     "text": [
      "[1, 2, 3, 4, 5, 6, 7, 8, 9]\n"
     ]
    }
   ],
   "source": [
    "matrix = [[1, 2, 3], [4, 5, 6], [7, 8, 9]]\n",
    "\n",
    "flattened = [num for row in matrix for num in row]  # ✅ Flattening 2D list\n",
    "\n",
    "print(flattened)\n"
   ]
  },
  {
   "cell_type": "markdown",
   "id": "5e0b20e3-a178-40dc-a30c-40ba563ad752",
   "metadata": {},
   "source": [
    "# Q5"
   ]
  },
  {
   "cell_type": "markdown",
   "id": "8571ec56-ffd6-4da8-b403-acae0ee681fe",
   "metadata": {},
   "source": [
    "5. Given a string, create a dictionary where the keys are characters and values are their frequencies.\n",
    "    text = \"comprehension\""
   ]
  },
  {
   "cell_type": "code",
   "execution_count": 127,
   "id": "9d1a2bcc-cda2-4ec1-884a-5e58c1fdf9c4",
   "metadata": {},
   "outputs": [
    {
     "name": "stdout",
     "output_type": "stream",
     "text": [
      "{'o': 2, 'c': 1, 's': 1, 'i': 1, 'n': 2, 'p': 1, 'r': 1, 'm': 1, 'e': 2, 'h': 1}\n"
     ]
    }
   ],
   "source": [
    "text = \"comprehension\"\n",
    "\n",
    "char_freq = {char: text.count(char) for char in set(text)}  # ✅ Count occurrences\n",
    "\n",
    "print(char_freq)\n"
   ]
  },
  {
   "cell_type": "code",
   "execution_count": 132,
   "id": "d3d86453-a967-401d-b0e5-d604bab92042",
   "metadata": {},
   "outputs": [
    {
     "name": "stdout",
     "output_type": "stream",
     "text": [
      "{'o': 2, 'c': 1, 's': 1, 'i': 1, 'n': 2, 'p': 1, 'r': 1, 'm': 1, 'e': 2, 'h': 1}\n"
     ]
    }
   ],
   "source": [
    "text = \"comprehension\"\n",
    "\n",
    "char_freq = {char: text.count(char) for char in set(text)}  # ✅ Uses set to avoid duplicate keys\n",
    "\n",
    "print(char_freq)\n"
   ]
  },
  {
   "cell_type": "code",
   "execution_count": 133,
   "id": "5d615764-ebf2-4906-a477-305eba11edf8",
   "metadata": {},
   "outputs": [
    {
     "name": "stdout",
     "output_type": "stream",
     "text": [
      "{'c': 1, 'o': 2, 'm': 1, 'p': 1, 'r': 1, 'e': 2, 'h': 1, 'n': 2, 's': 1, 'i': 1}\n"
     ]
    }
   ],
   "source": [
    "from collections import Counter\n",
    "\n",
    "char_freq = {char: count for char, count in Counter(text).items()}\n",
    "\n",
    "print(char_freq)\n"
   ]
  },
  {
   "cell_type": "code",
   "execution_count": 130,
   "id": "b6241d55-fa7a-44d4-9bc5-f0b8ffeaf537",
   "metadata": {},
   "outputs": [
    {
     "name": "stdout",
     "output_type": "stream",
     "text": [
      "{'c': 1, 'o': 2, 'm': 1, 'p': 1, 'r': 1, 'e': 2, 'h': 1, 'n': 2, 's': 1, 'i': 1}\n"
     ]
    }
   ],
   "source": [
    "from collections import Counter\n",
    "\n",
    "text = \"comprehension\"\n",
    "\n",
    "# ✅ Lambda to count character frequencies while maintaining order\n",
    "char_freq = lambda s: {char: s.count(char) for char in s if char.isalpha()}\n",
    "\n",
    "print(char_freq(text))\n"
   ]
  },
  {
   "cell_type": "code",
   "execution_count": 131,
   "id": "fee1a168-fb34-43c9-80be-3dc4a3e3e548",
   "metadata": {},
   "outputs": [
    {
     "name": "stdout",
     "output_type": "stream",
     "text": [
      "{'c': 1, 'o': 2, 'm': 1, 'p': 1, 'r': 1, 'e': 2, 'h': 1, 'n': 2, 's': 1, 'i': 1}\n"
     ]
    }
   ],
   "source": [
    "from collections import Counter\n",
    "\n",
    "text = \"comprehension\"\n",
    "\n",
    "# ✅ Lambda function using Counter to maintain order\n",
    "char_freq = lambda s: dict(Counter(s))\n",
    "\n",
    "print(char_freq(text))\n"
   ]
  },
  {
   "cell_type": "code",
   "execution_count": null,
   "id": "fabfd52d-0fbb-4f33-980b-e6af5aedb381",
   "metadata": {},
   "outputs": [],
   "source": []
  },
  {
   "cell_type": "markdown",
   "id": "47689996-b76e-4707-8578-8d4ccad0ba2f",
   "metadata": {},
   "source": [
    "# Q7"
   ]
  },
  {
   "cell_type": "raw",
   "id": "ab0412d2-d7d5-40e4-8b39-f75a6d4ccae8",
   "metadata": {},
   "source": [
    "7. Come up with an algorithm to flatten a list and implement it in python:\n",
    "   Example: [1, 2, 3, [4, 5, [6, 7]], 8]\n",
    "            Output: [1, 2, 3, 4, 5, 6, 7, 8]"
   ]
  },
  {
   "cell_type": "code",
   "execution_count": 129,
   "id": "91efba52-bd88-43f9-8eda-63c55a60b231",
   "metadata": {},
   "outputs": [
    {
     "name": "stdout",
     "output_type": "stream",
     "text": [
      "[1, 2, 3, 4, 5, 6, 7, 8]\n"
     ]
    }
   ],
   "source": [
    "def flatten_list(nested_list):\n",
    "    flat_list = []\n",
    "    \n",
    "    for item in nested_list:\n",
    "        if isinstance(item, list):  # ✅ Check if the item is a list\n",
    "            flat_list.extend(flatten_list(item))  # ✅ Recursively flatten\n",
    "        else:\n",
    "            flat_list.append(item)  # ✅ Append non-list elements directly\n",
    "            \n",
    "    return flat_list\n",
    "\n",
    "# Example Usage\n",
    "nested_list = [1, 2, 3, [4, 5, [6, 7]], 8]\n",
    "print(flatten_list(nested_list))\n"
   ]
  },
  {
   "cell_type": "code",
   "execution_count": 134,
   "id": "17805384-ab95-4a07-950b-cff7c7bb30ec",
   "metadata": {},
   "outputs": [
    {
     "name": "stdout",
     "output_type": "stream",
     "text": [
      "[1, 2, 3, 4, 5, 6, 7, 8]\n"
     ]
    }
   ],
   "source": [
    "def flatten(lst):\n",
    "    return [item for sublist in lst for item in (flatten(sublist) if isinstance(sublist, list) else [sublist])]\n",
    "\n",
    "# Example\n",
    "nested_list = [1, 2, 3, [4, 5, [6, 7]], 8]\n",
    "print(flatten(nested_list))  # ✅ Output: [1, 2, 3, 4, 5, 6, 7, 8]\n"
   ]
  },
  {
   "cell_type": "code",
   "execution_count": 135,
   "id": "2457421b-f111-44c7-8ade-a41df260e102",
   "metadata": {},
   "outputs": [],
   "source": [
    "s=[1, 2, 3, [4, 5, [6, 7]], 8]"
   ]
  },
  {
   "cell_type": "code",
   "execution_count": 136,
   "id": "b103369e-046c-4370-9210-36141b940e3e",
   "metadata": {},
   "outputs": [
    {
     "data": {
      "text/plain": [
       "[8, [4, 5, [6, 7]], 3, 2, 1]"
      ]
     },
     "execution_count": 136,
     "metadata": {},
     "output_type": "execute_result"
    }
   ],
   "source": [
    "t=s[::-1]\n",
    "t"
   ]
  },
  {
   "cell_type": "code",
   "execution_count": 137,
   "id": "c8671f96-dd3d-42fb-8718-fcc9940638af",
   "metadata": {},
   "outputs": [],
   "source": [
    "\n",
    "x=t.pop()\n",
    "x"
   ]
  },
  {
   "cell_type": "code",
   "execution_count": 138,
   "id": "69d1344d-7fd7-45b0-a9c0-2b81ebf49fa4",
   "metadata": {},
   "outputs": [
    {
     "data": {
      "text/plain": [
       "1"
      ]
     },
     "execution_count": 138,
     "metadata": {},
     "output_type": "execute_result"
    }
   ],
   "source": [
    "x"
   ]
  },
  {
   "cell_type": "code",
   "execution_count": 139,
   "id": "824178b6-6523-4ed0-a6f7-b25ad7f9a9fa",
   "metadata": {},
   "outputs": [],
   "source": [
    "x=t.pop()"
   ]
  },
  {
   "cell_type": "code",
   "execution_count": 140,
   "id": "fa905056-9c3f-4be4-9b8d-3ccfbc5821a8",
   "metadata": {},
   "outputs": [
    {
     "data": {
      "text/plain": [
       "2"
      ]
     },
     "execution_count": 140,
     "metadata": {},
     "output_type": "execute_result"
    }
   ],
   "source": [
    "x"
   ]
  },
  {
   "cell_type": "code",
   "execution_count": null,
   "id": "e574538a-bf70-49d8-80a8-50ca1d8df72d",
   "metadata": {},
   "outputs": [],
   "source": []
  },
  {
   "cell_type": "code",
   "execution_count": 141,
   "id": "389ee41a-cec0-4912-a0e5-e8eedeb4940d",
   "metadata": {},
   "outputs": [],
   "source": [
    "from operator import itemgetter"
   ]
  },
  {
   "cell_type": "code",
   "execution_count": 142,
   "id": "a9dd096b-a7ee-4d56-b77f-08c7bffff91a",
   "metadata": {},
   "outputs": [
    {
     "data": {
      "text/plain": [
       "'p'"
      ]
     },
     "execution_count": 142,
     "metadata": {},
     "output_type": "execute_result"
    }
   ],
   "source": [
    "itemgetter(1)('apples')"
   ]
  },
  {
   "cell_type": "code",
   "execution_count": 143,
   "id": "a4ae64f5-5dbc-4af1-922c-476677d79f7e",
   "metadata": {},
   "outputs": [
    {
     "data": {
      "text/plain": [
       "'green'"
      ]
     },
     "execution_count": 143,
     "metadata": {},
     "output_type": "execute_result"
    }
   ],
   "source": [
    "itemgetter(1)([\"red\", \"green\", \"blue\"])"
   ]
  },
  {
   "cell_type": "code",
   "execution_count": 144,
   "id": "49543036-5a79-46de-b08d-0a01b06b3a38",
   "metadata": {},
   "outputs": [],
   "source": [
    "L.sort(key=itemgetter(1))"
   ]
  },
  {
   "cell_type": "code",
   "execution_count": null,
   "id": "11150bb9-6377-4a4e-a48d-94f4622f1d5c",
   "metadata": {},
   "outputs": [],
   "source": []
  },
  {
   "cell_type": "code",
   "execution_count": null,
   "id": "2673820c-4d0b-4f2f-a3b3-b965d99b6b33",
   "metadata": {},
   "outputs": [],
   "source": []
  },
  {
   "cell_type": "code",
   "execution_count": 145,
   "id": "95ed00b3-9d96-4ca4-b9c7-cc87111019bc",
   "metadata": {},
   "outputs": [],
   "source": [
    "from datetime import datetime"
   ]
  },
  {
   "cell_type": "code",
   "execution_count": 153,
   "id": "a9382a49-e415-4cba-87d2-853a8f209982",
   "metadata": {},
   "outputs": [
    {
     "data": {
      "text/plain": [
       "datetime.datetime(2025, 3, 21, 16, 4, 29, 731364)"
      ]
     },
     "execution_count": 153,
     "metadata": {},
     "output_type": "execute_result"
    }
   ],
   "source": [
    "# Getting the current date and time\n",
    "t = datetime.now()\n",
    "t"
   ]
  },
  {
   "cell_type": "code",
   "execution_count": 154,
   "id": "c0b4bb0f-a825-4f55-a65f-39373a860e6c",
   "metadata": {},
   "outputs": [
    {
     "name": "stdout",
     "output_type": "stream",
     "text": [
      "2025 3 21 16 4 29\n"
     ]
    }
   ],
   "source": [
    "print(t.year, t.month, t.day, t.hour, t.minute, t.second)"
   ]
  },
  {
   "cell_type": "code",
   "execution_count": 155,
   "id": "12b247c6-a124-4f29-80d5-53aa031bc7b6",
   "metadata": {},
   "outputs": [
    {
     "name": "stdout",
     "output_type": "stream",
     "text": [
      "Friday, 21 March 2025, 04:04 PM\n"
     ]
    }
   ],
   "source": [
    "# \"Thursday, 20 May 2020, 9:53 AM\"\n",
    "f = \"%A, %d %B %Y, %I:%M %p\"\n",
    "print(t.strftime(f))"
   ]
  },
  {
   "cell_type": "code",
   "execution_count": 158,
   "id": "c5f90d63-4f2b-48f5-b748-6868bbe439c9",
   "metadata": {},
   "outputs": [],
   "source": [
    "t1 = datetime.now()\n"
   ]
  },
  {
   "cell_type": "code",
   "execution_count": 159,
   "id": "881906e9-22df-43e7-81de-dba84cd73249",
   "metadata": {},
   "outputs": [
    {
     "data": {
      "text/plain": [
       "datetime.timedelta(seconds=152, microseconds=388509)"
      ]
     },
     "execution_count": 159,
     "metadata": {},
     "output_type": "execute_result"
    }
   ],
   "source": [
    "t1-t"
   ]
  },
  {
   "cell_type": "markdown",
   "id": "b65f5c3f-2d2d-44ea-858c-f80b98560343",
   "metadata": {},
   "source": [
    "# Q6"
   ]
  },
  {
   "cell_type": "raw",
   "id": "6f043a51-fcba-47fd-b7da-d28db2749e8a",
   "metadata": {},
   "source": [
    "What is the time required to find all the prime numbers between a given range\n",
    "   Example: a -> 3\n",
    "            b -> 10\n",
    "            Output: 3, 5, 7\n",
    "            Time: 0.0002 seconds"
   ]
  },
  {
   "cell_type": "code",
   "execution_count": 161,
   "id": "89fb5ca5-c71c-4dca-bff2-2d8bec04c66f",
   "metadata": {},
   "outputs": [],
   "source": [
    "t2=datetime.now()"
   ]
  },
  {
   "cell_type": "code",
   "execution_count": 169,
   "id": "a5967841-a752-428f-bae0-8a570ca9431a",
   "metadata": {},
   "outputs": [
    {
     "name": "stdin",
     "output_type": "stream",
     "text": [
      "Enter min range:  1\n",
      "Enter max range:  10000\n"
     ]
    },
    {
     "name": "stdout",
     "output_type": "stream",
     "text": [
      "Time required for processing this program 0:00:03.749505\n"
     ]
    }
   ],
   "source": [
    "t3=datetime.now()\n",
    "a = int(input(\"Enter min range: \"))\n",
    "b = int(input(\"Enter max range: \"))\n",
    "\n",
    "prime = []\n",
    "\n",
    "for j in range(a, b + 1):  # Iterate over numbers in the range\n",
    "    if j < 2:\n",
    "        continue  # Skip numbers less than 2 (not prime)\n",
    "\n",
    "    is_prime = True  # Assume number is prime\n",
    "    for i in range(2, int(j ** 0.5) + 1):  # Check divisibility up to √j\n",
    "        if j % i == 0:\n",
    "            is_prime = False  # If divisible, it's NOT prime\n",
    "            break  # Exit inner loop, no need to check further\n",
    "\n",
    "    if is_prime:  # If still prime, add to list\n",
    "        prime.append(j)\n",
    "\n",
    "#print(\"Prime Numbers:\", prime)\n",
    "\n",
    "#print(prime)\n",
    "\n",
    "t4=datetime.now()\n",
    "print(\"Time required for processing this program {}\".format(t4-t3))\n",
    "\n",
    "        \n",
    "        \n",
    "    "
   ]
  },
  {
   "cell_type": "code",
   "execution_count": null,
   "id": "369e5b9d-1f76-425f-883d-1b3bc7c30a8d",
   "metadata": {},
   "outputs": [],
   "source": []
  },
  {
   "cell_type": "code",
   "execution_count": 172,
   "id": "119a691a-71fc-4789-a76c-098d387e9179",
   "metadata": {},
   "outputs": [],
   "source": [
    "from itertools import permutations, combinations"
   ]
  },
  {
   "cell_type": "markdown",
   "id": "45290d3d-4a4f-432b-8503-0b5a2b6840f1",
   "metadata": {},
   "source": [
    "# itertools Module"
   ]
  },
  {
   "cell_type": "code",
   "execution_count": 173,
   "id": "bb4d9538-60fd-49a1-b983-25cfd1c0b501",
   "metadata": {},
   "outputs": [],
   "source": [
    "s = \"ABCD\""
   ]
  },
  {
   "cell_type": "code",
   "execution_count": 174,
   "id": "5aa97f9d-650a-4e08-ae29-9c1dc040d807",
   "metadata": {},
   "outputs": [
    {
     "data": {
      "text/plain": [
       "[('A', 'B', 'C', 'D'),\n",
       " ('A', 'B', 'D', 'C'),\n",
       " ('A', 'C', 'B', 'D'),\n",
       " ('A', 'C', 'D', 'B'),\n",
       " ('A', 'D', 'B', 'C'),\n",
       " ('A', 'D', 'C', 'B'),\n",
       " ('B', 'A', 'C', 'D'),\n",
       " ('B', 'A', 'D', 'C'),\n",
       " ('B', 'C', 'A', 'D'),\n",
       " ('B', 'C', 'D', 'A'),\n",
       " ('B', 'D', 'A', 'C'),\n",
       " ('B', 'D', 'C', 'A'),\n",
       " ('C', 'A', 'B', 'D'),\n",
       " ('C', 'A', 'D', 'B'),\n",
       " ('C', 'B', 'A', 'D'),\n",
       " ('C', 'B', 'D', 'A'),\n",
       " ('C', 'D', 'A', 'B'),\n",
       " ('C', 'D', 'B', 'A'),\n",
       " ('D', 'A', 'B', 'C'),\n",
       " ('D', 'A', 'C', 'B'),\n",
       " ('D', 'B', 'A', 'C'),\n",
       " ('D', 'B', 'C', 'A'),\n",
       " ('D', 'C', 'A', 'B'),\n",
       " ('D', 'C', 'B', 'A')]"
      ]
     },
     "execution_count": 174,
     "metadata": {},
     "output_type": "execute_result"
    }
   ],
   "source": [
    "p = permutations(s)\n",
    "list(p)"
   ]
  },
  {
   "cell_type": "code",
   "execution_count": 175,
   "id": "6b651c8c-f576-42c6-b3cd-d13c5fafbc65",
   "metadata": {},
   "outputs": [
    {
     "data": {
      "text/plain": [
       "[('A', 'B', 'C', 'D')]"
      ]
     },
     "execution_count": 175,
     "metadata": {},
     "output_type": "execute_result"
    }
   ],
   "source": [
    "c = combinations(s, 4)\n",
    "list(c)"
   ]
  },
  {
   "cell_type": "code",
   "execution_count": 176,
   "id": "eb54c432-0112-4ce7-b8d7-e661b2d6c80e",
   "metadata": {},
   "outputs": [
    {
     "data": {
      "text/plain": [
       "[('A', 'B', 'C'), ('A', 'B', 'D'), ('A', 'C', 'D'), ('B', 'C', 'D')]"
      ]
     },
     "execution_count": 176,
     "metadata": {},
     "output_type": "execute_result"
    }
   ],
   "source": [
    "list(combinations(s, 3))"
   ]
  },
  {
   "cell_type": "code",
   "execution_count": null,
   "id": "4521aad6-0417-4b36-8697-cd0079c3da8a",
   "metadata": {},
   "outputs": [],
   "source": []
  },
  {
   "cell_type": "markdown",
   "id": "de4b51b7-1225-42e8-bed9-f06c0a4ed47a",
   "metadata": {},
   "source": [
    "# collections Module"
   ]
  },
  {
   "cell_type": "code",
   "execution_count": 177,
   "id": "ef607efd-ac41-4560-b300-cea086139f89",
   "metadata": {},
   "outputs": [
    {
     "data": {
      "text/plain": [
       "['m', 'i', 's', 's', 'i', 's', 's', 'i', 'p', 'p', 'i']"
      ]
     },
     "execution_count": 177,
     "metadata": {},
     "output_type": "execute_result"
    }
   ],
   "source": [
    "s = \"mississippi\"\n",
    "L = list(s)\n",
    "L"
   ]
  },
  {
   "cell_type": "code",
   "execution_count": 178,
   "id": "3f13c30e-a59e-469b-9f9e-7825301a2fe5",
   "metadata": {},
   "outputs": [
    {
     "data": {
      "text/plain": [
       "{'m': 1, 'i': 4, 's': 4, 'p': 2}"
      ]
     },
     "execution_count": 178,
     "metadata": {},
     "output_type": "execute_result"
    }
   ],
   "source": [
    "CH = {}\n",
    "for c in L:\n",
    "    if(c in CH.keys()):\n",
    "        CH[c] = CH[c] + 1\n",
    "    else:\n",
    "        CH[c] = 1\n",
    "CH"
   ]
  },
  {
   "cell_type": "code",
   "execution_count": 179,
   "id": "b0a13b84-095e-43e3-b8f6-a0d15b95b725",
   "metadata": {},
   "outputs": [
    {
     "data": {
      "text/plain": [
       "Counter({'i': 4, 's': 4, 'p': 2, 'm': 1})"
      ]
     },
     "execution_count": 179,
     "metadata": {},
     "output_type": "execute_result"
    }
   ],
   "source": [
    "from collections import Counter\n",
    "t = Counter(L)\n",
    "t"
   ]
  },
  {
   "cell_type": "code",
   "execution_count": null,
   "id": "e26423e6-90d4-44cd-a285-91c3fdab6b63",
   "metadata": {},
   "outputs": [],
   "source": []
  },
  {
   "cell_type": "markdown",
   "id": "e1297e32-aeb9-4d97-bd79-fce631b051a8",
   "metadata": {},
   "source": [
    "# Working with Filesystems"
   ]
  },
  {
   "cell_type": "code",
   "execution_count": 25,
   "id": "6a85aa8f-d84c-4b29-a258-15552083d5e6",
   "metadata": {},
   "outputs": [],
   "source": [
    "import os\n",
    "import os.path\n",
    "import shutil"
   ]
  },
  {
   "cell_type": "code",
   "execution_count": 31,
   "id": "16883573-2975-4ee6-b1c7-1ec1fef84710",
   "metadata": {},
   "outputs": [],
   "source": [
    "path2=r\"C:\\Users\\292593\\Desktop\\master\\python_training_excercisefilebackup\\python-training\""
   ]
  },
  {
   "cell_type": "code",
   "execution_count": null,
   "id": "daefa6b6-9642-467b-9360-c221dcdc5f58",
   "metadata": {},
   "outputs": [],
   "source": [
    "path3=r\"C:\\Users\\292593\\Desktop\\master\\python training\""
   ]
  },
  {
   "cell_type": "code",
   "execution_count": 26,
   "id": "35332031-1f10-41d4-baf4-c58a68291b16",
   "metadata": {},
   "outputs": [],
   "source": [
    "path = r\"./mydir\""
   ]
  },
  {
   "cell_type": "code",
   "execution_count": 32,
   "id": "990ae186-dd07-4f81-b12a-e53380a69c6b",
   "metadata": {},
   "outputs": [
    {
     "data": {
      "text/plain": [
       "'C:\\\\Users\\\\292593\\\\Desktop\\\\master\\\\python training'"
      ]
     },
     "execution_count": 32,
     "metadata": {},
     "output_type": "execute_result"
    }
   ],
   "source": [
    "os.getcwd()"
   ]
  },
  {
   "cell_type": "code",
   "execution_count": 35,
   "id": "3241f125-3719-46aa-afe9-54b3ec333e65",
   "metadata": {},
   "outputs": [],
   "source": [
    "os.chdir(path2)"
   ]
  },
  {
   "cell_type": "code",
   "execution_count": 36,
   "id": "e644313e-cb0e-4045-b019-5ef9a57fedda",
   "metadata": {},
   "outputs": [
    {
     "data": {
      "text/plain": [
       "'C:\\\\Users\\\\292593\\\\Desktop\\\\master\\\\python_training_excercisefilebackup\\\\python-training'"
      ]
     },
     "execution_count": 36,
     "metadata": {},
     "output_type": "execute_result"
    }
   ],
   "source": [
    "os.getcwd()"
   ]
  },
  {
   "cell_type": "code",
   "execution_count": 37,
   "id": "dba13d58-2e1d-4344-bd9d-b6b5102f4079",
   "metadata": {},
   "outputs": [
    {
     "data": {
      "text/plain": [
       "['.git']"
      ]
     },
     "execution_count": 37,
     "metadata": {},
     "output_type": "execute_result"
    }
   ],
   "source": [
    "os.listdir()"
   ]
  },
  {
   "cell_type": "code",
   "execution_count": 186,
   "id": "02a75cad-ecb5-463a-80e4-c4092936c67c",
   "metadata": {},
   "outputs": [
    {
     "data": {
      "text/plain": [
       "('data1', '.txt')"
      ]
     },
     "execution_count": 186,
     "metadata": {},
     "output_type": "execute_result"
    }
   ],
   "source": [
    "f = 'data1.txt'\n",
    "os.path.splitext(f)"
   ]
  },
  {
   "cell_type": "code",
   "execution_count": 187,
   "id": "886395b7-12fb-4b4a-8547-58dc9d489094",
   "metadata": {},
   "outputs": [
    {
     "data": {
      "text/plain": [
       "'txt'"
      ]
     },
     "execution_count": 187,
     "metadata": {},
     "output_type": "execute_result"
    }
   ],
   "source": [
    "os.path.splitext(f)[1][1:]"
   ]
  },
  {
   "cell_type": "code",
   "execution_count": 24,
   "id": "63a8ff2c-85bf-4531-ba8a-1772bd472750",
   "metadata": {},
   "outputs": [
    {
     "ename": "NameError",
     "evalue": "name 'os' is not defined",
     "output_type": "error",
     "traceback": [
      "\u001b[1;31m---------------------------------------------------------------------------\u001b[0m",
      "\u001b[1;31mNameError\u001b[0m                                 Traceback (most recent call last)",
      "Cell \u001b[1;32mIn[24], line 2\u001b[0m\n\u001b[0;32m      1\u001b[0m exts \u001b[38;5;241m=\u001b[39m []\n\u001b[1;32m----> 2\u001b[0m \u001b[38;5;28;01mfor\u001b[39;00m file \u001b[38;5;129;01min\u001b[39;00m os\u001b[38;5;241m.\u001b[39mlistdir():\n\u001b[0;32m      3\u001b[0m     ext \u001b[38;5;241m=\u001b[39m os\u001b[38;5;241m.\u001b[39mpath\u001b[38;5;241m.\u001b[39msplitext(file)[\u001b[38;5;241m1\u001b[39m][\u001b[38;5;241m1\u001b[39m:]\n\u001b[0;32m      4\u001b[0m     exts\u001b[38;5;241m.\u001b[39mappend(ext)\n",
      "\u001b[1;31mNameError\u001b[0m: name 'os' is not defined"
     ]
    }
   ],
   "source": [
    "exts = []\n",
    "for file in os.listdir():\n",
    "    ext = os.path.splitext(file)[1][1:]\n",
    "    exts.append(ext)\n",
    "exts"
   ]
  },
  {
   "cell_type": "code",
   "execution_count": 189,
   "id": "24575e6e-7525-4598-8946-fd4fb637ab98",
   "metadata": {},
   "outputs": [
    {
     "data": {
      "text/plain": [
       "{'', 'docx', 'ipynb', 'py'}"
      ]
     },
     "execution_count": 189,
     "metadata": {},
     "output_type": "execute_result"
    }
   ],
   "source": [
    "exts = set(exts)\n",
    "exts"
   ]
  },
  {
   "cell_type": "code",
   "execution_count": 190,
   "id": "24298352-a9ef-418c-b9ec-bfbeae270ed1",
   "metadata": {},
   "outputs": [
    {
     "ename": "FileNotFoundError",
     "evalue": "[WinError 3] The system cannot find the path specified: ''",
     "output_type": "error",
     "traceback": [
      "\u001b[1;31m---------------------------------------------------------------------------\u001b[0m",
      "\u001b[1;31mFileNotFoundError\u001b[0m                         Traceback (most recent call last)",
      "Cell \u001b[1;32mIn[190], line 2\u001b[0m\n\u001b[0;32m      1\u001b[0m \u001b[38;5;28;01mfor\u001b[39;00m ext \u001b[38;5;129;01min\u001b[39;00m exts:\n\u001b[1;32m----> 2\u001b[0m     os\u001b[38;5;241m.\u001b[39mmkdir(ext)\n",
      "\u001b[1;31mFileNotFoundError\u001b[0m: [WinError 3] The system cannot find the path specified: ''"
     ]
    }
   ],
   "source": [
    "for ext in exts:\n",
    "    os.mkdir(ext)"
   ]
  },
  {
   "cell_type": "code",
   "execution_count": null,
   "id": "8331bae0-6671-41ca-a849-abf6aca215cd",
   "metadata": {},
   "outputs": [],
   "source": []
  },
  {
   "cell_type": "code",
   "execution_count": 191,
   "id": "8866f521-08c5-45c6-a2dd-6a05d9b032e7",
   "metadata": {},
   "outputs": [
    {
     "ename": "FileNotFoundError",
     "evalue": "[WinError 3] The system cannot find the path specified",
     "output_type": "error",
     "traceback": [
      "\u001b[1;31m---------------------------------------------------------------------------\u001b[0m",
      "\u001b[1;31mFileNotFoundError\u001b[0m                         Traceback (most recent call last)",
      "File \u001b[1;32mC:\\ProgramData\\anaconda3\\Lib\\shutil.py:847\u001b[0m, in \u001b[0;36mmove\u001b[1;34m(src, dst, copy_function)\u001b[0m\n\u001b[0;32m    846\u001b[0m \u001b[38;5;28;01mtry\u001b[39;00m:\n\u001b[1;32m--> 847\u001b[0m     os\u001b[38;5;241m.\u001b[39mrename(src, real_dst)\n\u001b[0;32m    848\u001b[0m \u001b[38;5;28;01mexcept\u001b[39;00m \u001b[38;5;167;01mOSError\u001b[39;00m:\n",
      "\u001b[1;31mFileNotFoundError\u001b[0m: [WinError 3] The system cannot find the path specified: '09-nb-comprehensions-and-built-in-modules-part-1.ipynb' -> 'ipynb\\\\09-nb-comprehensions-and-built-in-modules-part-1.ipynb'",
      "\nDuring handling of the above exception, another exception occurred:\n",
      "\u001b[1;31mFileNotFoundError\u001b[0m                         Traceback (most recent call last)",
      "Cell \u001b[1;32mIn[191], line 6\u001b[0m\n\u001b[0;32m      4\u001b[0m dest \u001b[38;5;241m=\u001b[39m os\u001b[38;5;241m.\u001b[39mpath\u001b[38;5;241m.\u001b[39msplitext(item)[\u001b[38;5;241m1\u001b[39m][\u001b[38;5;241m1\u001b[39m:] \u001b[38;5;66;03m#ext\u001b[39;00m\n\u001b[0;32m      5\u001b[0m finaldest \u001b[38;5;241m=\u001b[39m os\u001b[38;5;241m.\u001b[39mpath\u001b[38;5;241m.\u001b[39mjoin(dest, item) \u001b[38;5;66;03m#xlsx/data.xlsx\u001b[39;00m\n\u001b[1;32m----> 6\u001b[0m shutil\u001b[38;5;241m.\u001b[39mmove(src, finaldest)\n",
      "File \u001b[1;32mC:\\ProgramData\\anaconda3\\Lib\\shutil.py:867\u001b[0m, in \u001b[0;36mmove\u001b[1;34m(src, dst, copy_function)\u001b[0m\n\u001b[0;32m    865\u001b[0m         rmtree(src)\n\u001b[0;32m    866\u001b[0m     \u001b[38;5;28;01melse\u001b[39;00m:\n\u001b[1;32m--> 867\u001b[0m         copy_function(src, real_dst)\n\u001b[0;32m    868\u001b[0m         os\u001b[38;5;241m.\u001b[39munlink(src)\n\u001b[0;32m    869\u001b[0m \u001b[38;5;28;01mreturn\u001b[39;00m real_dst\n",
      "File \u001b[1;32mC:\\ProgramData\\anaconda3\\Lib\\shutil.py:460\u001b[0m, in \u001b[0;36mcopy2\u001b[1;34m(src, dst, follow_symlinks)\u001b[0m\n\u001b[0;32m    458\u001b[0m     flags \u001b[38;5;241m|\u001b[39m\u001b[38;5;241m=\u001b[39m _winapi\u001b[38;5;241m.\u001b[39mCOPY_FILE_COPY_SYMLINK\n\u001b[0;32m    459\u001b[0m \u001b[38;5;28;01mtry\u001b[39;00m:\n\u001b[1;32m--> 460\u001b[0m     _winapi\u001b[38;5;241m.\u001b[39mCopyFile2(src_, dst_, flags)\n\u001b[0;32m    461\u001b[0m     \u001b[38;5;28;01mreturn\u001b[39;00m dst\n\u001b[0;32m    462\u001b[0m \u001b[38;5;28;01mexcept\u001b[39;00m \u001b[38;5;167;01mOSError\u001b[39;00m \u001b[38;5;28;01mas\u001b[39;00m exc:\n",
      "\u001b[1;31mFileNotFoundError\u001b[0m: [WinError 3] The system cannot find the path specified"
     ]
    }
   ],
   "source": [
    "for item in os.listdir():\n",
    "    if os.path.isfile(item):\n",
    "        src = item\n",
    "        dest = os.path.splitext(item)[1][1:] #ext\n",
    "        finaldest = os.path.join(dest, item) #xlsx/data.xlsx\n",
    "        shutil.move(src, finaldest)"
   ]
  },
  {
   "cell_type": "code",
   "execution_count": null,
   "id": "4b76f8aa-4a97-4521-92e8-264cda2f1af4",
   "metadata": {},
   "outputs": [],
   "source": []
  },
  {
   "cell_type": "markdown",
   "id": "ce0c5120-8b82-4d3e-b9ef-d03dc500354a",
   "metadata": {},
   "source": [
    "# Executing System Commands"
   ]
  },
  {
   "cell_type": "code",
   "execution_count": 192,
   "id": "565668d7-3ed0-4418-b37c-dca9e2ef676a",
   "metadata": {},
   "outputs": [],
   "source": [
    "import subprocess"
   ]
  },
  {
   "cell_type": "code",
   "execution_count": 193,
   "id": "fc3725a0-d6f5-4892-a989-16bca171d557",
   "metadata": {},
   "outputs": [
    {
     "data": {
      "text/plain": [
       "0"
      ]
     },
     "execution_count": 193,
     "metadata": {},
     "output_type": "execute_result"
    }
   ],
   "source": [
    "subprocess.call(\"dir\", shell=True)"
   ]
  },
  {
   "cell_type": "code",
   "execution_count": 194,
   "id": "e1911c42-6c37-4d03-b798-06ce0b5290a4",
   "metadata": {},
   "outputs": [],
   "source": [
    "content = subprocess.check_output(\"dir\", shell=True)"
   ]
  },
  {
   "cell_type": "code",
   "execution_count": 195,
   "id": "886c28c6-e85e-4a7b-8131-45ded243809b",
   "metadata": {},
   "outputs": [
    {
     "name": "stdout",
     "output_type": "stream",
     "text": [
      "b' Volume in drive C has no label.\\r\\n Volume Serial Number is 788E-BD91\\r\\n\\r\\n Directory of C:\\\\Users\\\\292593\\\\Desktop\\\\master\\\\python training\\r\\n\\r\\n21-03-2025  17:01    <DIR>          .\\r\\n19-03-2025  10:08    <DIR>          ..\\r\\n21-03-2025  12:58    <DIR>          .ipynb_checkpoints\\r\\n21-03-2025  13:00            11,182 09-nb-comprehensions-and-built-in-modules-part-1.ipynb\\r\\n20-03-2025  17:40           107,391 292593_SanjuJacob_20March.ipynb\\r\\n17-03-2025  17:41    <DIR>          demo_folder\\r\\n19-03-2025  10:56    <DIR>          Git_repo\\r\\n10-03-2025  21:56                11 import this.py\\r\\n19-03-2025  10:40    <DIR>          mindmap_flashcard\\r\\n20-03-2025  06:02            23,023 Python_strings_complete.docx\\r\\n20-03-2025  05:29            48,148 Python_training19March.ipynb\\r\\n21-03-2025  17:01            52,375 SanjuJacob_21March.ipynb\\r\\n20-03-2025  05:25            47,800 Sanju_excersefile_19March.ipynb\\r\\n13-03-2025  13:34                22 test.py\\r\\n17-03-2025  17:08                56 test2.py\\r\\n14-03-2025  11:11            17,749 Understanding Classes.docx\\r\\n10-03-2025  21:58             1,978 Untitled.ipynb\\r\\n17-03-2025  09:12               617 Untitled1.ipynb\\r\\n20-03-2025  09:05                72 Untitled2.ipynb\\r\\n21-03-2025  09:02               617 Untitled3.ipynb\\r\\n17-03-2025  09:11               617 UST_Python_training.ipynb\\r\\n19-03-2025  11:56             8,791 UST_Python_training_03_19.ipynb\\r\\n19-03-2025  10:22            66,173 zen of python.ipynb\\r\\n              17 File(s)        386,622 bytes\\r\\n               6 Dir(s)  149,373,669,376 bytes free\\r\\n'\n"
     ]
    }
   ],
   "source": [
    "print(content)"
   ]
  },
  {
   "cell_type": "code",
   "execution_count": 196,
   "id": "e96f7919-37a5-4b70-be0e-2de3a2a68357",
   "metadata": {},
   "outputs": [
    {
     "data": {
      "text/plain": [
       "bytes"
      ]
     },
     "execution_count": 196,
     "metadata": {},
     "output_type": "execute_result"
    }
   ],
   "source": [
    "type(content)"
   ]
  },
  {
   "cell_type": "code",
   "execution_count": 197,
   "id": "4178e249-bac0-4f85-b693-f491b531fff0",
   "metadata": {},
   "outputs": [],
   "source": [
    "content = content.decode()"
   ]
  },
  {
   "cell_type": "code",
   "execution_count": 198,
   "id": "363b33fb-e165-4f5a-a126-d170553d86d8",
   "metadata": {},
   "outputs": [
    {
     "name": "stdout",
     "output_type": "stream",
     "text": [
      " Volume in drive C has no label.\n",
      " Volume Serial Number is 788E-BD91\n",
      "\n",
      " Directory of C:\\Users\\292593\\Desktop\\master\\python training\n",
      "\n",
      "21-03-2025  17:01    <DIR>          .\n",
      "19-03-2025  10:08    <DIR>          ..\n",
      "21-03-2025  12:58    <DIR>          .ipynb_checkpoints\n",
      "21-03-2025  13:00            11,182 09-nb-comprehensions-and-built-in-modules-part-1.ipynb\n",
      "20-03-2025  17:40           107,391 292593_SanjuJacob_20March.ipynb\n",
      "17-03-2025  17:41    <DIR>          demo_folder\n",
      "19-03-2025  10:56    <DIR>          Git_repo\n",
      "10-03-2025  21:56                11 import this.py\n",
      "19-03-2025  10:40    <DIR>          mindmap_flashcard\n",
      "20-03-2025  06:02            23,023 Python_strings_complete.docx\n",
      "20-03-2025  05:29            48,148 Python_training19March.ipynb\n",
      "21-03-2025  17:01            52,375 SanjuJacob_21March.ipynb\n",
      "20-03-2025  05:25            47,800 Sanju_excersefile_19March.ipynb\n",
      "13-03-2025  13:34                22 test.py\n",
      "17-03-2025  17:08                56 test2.py\n",
      "14-03-2025  11:11            17,749 Understanding Classes.docx\n",
      "10-03-2025  21:58             1,978 Untitled.ipynb\n",
      "17-03-2025  09:12               617 Untitled1.ipynb\n",
      "20-03-2025  09:05                72 Untitled2.ipynb\n",
      "21-03-2025  09:02               617 Untitled3.ipynb\n",
      "17-03-2025  09:11               617 UST_Python_training.ipynb\n",
      "19-03-2025  11:56             8,791 UST_Python_training_03_19.ipynb\n",
      "19-03-2025  10:22            66,173 zen of python.ipynb\n",
      "              17 File(s)        386,622 bytes\n",
      "               6 Dir(s)  149,373,669,376 bytes free\n",
      "\n"
     ]
    }
   ],
   "source": [
    "print(content)"
   ]
  },
  {
   "cell_type": "code",
   "execution_count": 199,
   "id": "22669da7-f70f-42dd-b272-7f3a1ddc83f7",
   "metadata": {},
   "outputs": [
    {
     "data": {
      "text/plain": [
       "str"
      ]
     },
     "execution_count": 199,
     "metadata": {},
     "output_type": "execute_result"
    }
   ],
   "source": [
    "type(content)"
   ]
  },
  {
   "cell_type": "code",
   "execution_count": 14,
   "id": "b414c5d1-ce1c-4126-901c-bab8d7c72b45",
   "metadata": {},
   "outputs": [],
   "source": [
    "def prime2(n):\n",
    "    if n < 2:\n",
    "        return\"Number is not prime\"  # 0 and 1 are not prime\n",
    "    for i in range(2, n):  # Check from 2 to n-1\n",
    "        if n % i == 0:\n",
    "            return \"Number is not prime\" # Found a divisor, notaime\n",
    "    return \"Number is a prime number\" # No divisors found, it's prime\n"
   ]
  },
  {
   "cell_type": "code",
   "execution_count": 15,
   "id": "c8a8aaa3-9f15-46ac-9711-10c01fbe4b40",
   "metadata": {},
   "outputs": [
    {
     "name": "stdout",
     "output_type": "stream",
     "text": [
      "Number is a prime number\n"
     ]
    }
   ],
   "source": [
    "print(prime2(23))"
   ]
  },
  {
   "cell_type": "code",
   "execution_count": 17,
   "id": "3bc4e457-6813-4ef7-ac60-737307607407",
   "metadata": {},
   "outputs": [
    {
     "name": "stdout",
     "output_type": "stream",
     "text": [
      "Hello!\n",
      "None\n"
     ]
    }
   ],
   "source": [
    "def greet():\n",
    "    print(\"Hello!\")\n",
    "\n",
    "print(greet())  # Output: Hello! \\n None\n"
   ]
  },
  {
   "cell_type": "code",
   "execution_count": 23,
   "id": "6a404bd0-c76d-42ea-8df5-865fcf3a9e1d",
   "metadata": {},
   "outputs": [
    {
     "name": "stdout",
     "output_type": "stream",
     "text": [
      "{'__name__': '__main__', '__doc__': '\\nProgram to separate prime numbers from user input\\nNote: User input validation\\nAuthored by: Sanju Jacob\\n', '__package__': None, '__loader__': None, '__spec__': None, '__builtin__': <module 'builtins' (built-in)>, '__builtins__': <module 'builtins' (built-in)>, '_ih': ['', '\\'\\'\\'\\nProgram to separate prime numbers from user input\\nNote: User input validation\\nAuthored by: Sanju Jacob\\n\\'\\'\\'\\n\\n# Input\\nprint(\"This app separates prime numbers from user input\")\\nprint(\"-\" * 80)\\n\\ninput_numbers = []\\nprint(\"Enter your inputs: (press ! to quit)\")\\n\\nwhile True:\\n    # Get input\\n    user_input = input().strip()  # ✅ Remove extra spaces\\n\\n    if user_input == \"!\":  # ✅ Quit condition\\n        break\\n\\n    if user_input.isdigit():  # ✅ Check if it\\'s a valid positive number\\n        input_numbers.append(int(user_input))  # ✅ Convert to integer\\n\\n# Function to check if a number is prime\\ndef is_prime(n):\\n    if n < 2:  # ✅ 0 and 1 are not prime\\n        return False\\n    for i in range(2, int(n ** 0.5) + 1):  # ✅ Check divisibility up to sqrt(n)\\n        if n % i == 0:\\n            return False\\n    return True\\n\\n# Process: Find prime numbers\\nprimes = [num for num in input_numbers if is_prime(num)]\\n\\n# Output\\nprint(\"\\\\nAll Input Numbers:\", input_numbers)\\nprint(\"Prime Numbers:\", primes)', 'for i2 in  range(2, int(n ** 0.5) + 1):\\n    print(i2)\\n    ', 'n=int(input())\\nfor i2 in  range(2, int(n ** 0.5) + 1):\\n    print(i2)\\n    ', 'n=int(input())\\nfor i2 in  range(2, int(n ** 0.5) + 1):\\n    print(i2)\\n    ', '\\'\\'\\'\\nProgram to separate prime numbers from user input\\nNote: User input validation\\nAuthored by: Sanju Jacob\\n\\'\\'\\'\\n\\n# Input\\nprint(\"This app separates prime numbers from user input\")\\nprint(\"-\" * 80)\\n\\ninput_numbers = []\\nprint(\"Enter your inputs: (press ! to quit)\")\\n\\nwhile True:\\n    # Get input\\n    user_input = input().strip()  # ✅ Remove extra spaces\\n\\n    if user_input == \"!\":  # ✅ Quit condition\\n        break\\n\\n    if user_input.isdigit():  # ✅ Check if it\\'s a valid positive number\\n        input_numbers.append(int(user_input))  # ✅ Convert to integer\\n\\n# Function to check if a number is prime\\ndef is_prime(n):\\n    if n < 2:\\n        return False  # 0 and 1 are not prime\\n    for i in range(2, n):  # Check from 2 to n-1\\n        if n % i == 0:\\n            return False  # Found a divisor, not prime\\n    return True  # No divisors found, it\\'s prime\\n\\n\\n# Process: Find prime numbers\\nprimes = [num for num in input_numbers if is_prime(num)]\\n\\n# Output\\nprint(\"\\\\nAll Input Numbers:\", input_numbers)\\nprint(\"Prime Numbers:\", primes)', \"def prime2(n):\\n    if n < 2:\\n        return False  # 0 and 1 are not prime\\n    for i in range(2, n):  # Check from 2 to n-1\\n        if n % i == 0:\\n            return False  # Found a divisor, not prime\\n    return True  # No divisors found, it's prime\", 'print(prime(23))', 'print(prime2(23))', 'def prime2(n):\\n    if n < 2:\\n        print(\"Number is not prime\")  # 0 and 1 are not prime\\n    for i in range(2, n):  # Check from 2 to n-1\\n        if n % i == 0:\\n            print(\"Number is not prime\") # Found a divisor, notaime\\n   number  print(\"Number is a prime number\") # No divisors found, it\\'s prime', 'def prime2(n):\\n    if n < 2:\\n        print(\"Number is not prime\")  # 0 and 1 are not prime\\n    for i in range(2, n):  # Check from 2 to n-1\\n        if n % i == 0:\\n            print(\"Number is not prime\") # Found a divisor, notaime\\n    print(\"Number is a prime number\") # No divisors found, it\\'s prime', 'print(prime2(23))', 'def prime2(n):\\n    if n < 2:\\n        return\"Number is not prime\")  # 0 and 1 are not prime\\n    for i in range(2, n):  # Check from 2 to n-1\\n        if n % i == 0:\\n            return \"Number is not prime\" # Found a divisor, notaime\\n    return \"Number is a prime number\" # No divisors found, it\\'s prime', 'def prime2(n):\\n    if n < 2:\\n        return\"Number is not prime\"  # 0 and 1 are not prime\\n    for i in range(2, n):  # Check from 2 to n-1\\n        if n % i == 0:\\n            return \"Number is not prime\" # Found a divisor, notaime\\n    return \"Number is a prime number\" # No divisors found, it\\'s prime', 'print(prime2(23))', 'def greet():\\n    return \"Hello!\"\\n\\nprint(greet())  # Output: Hello!', 'def greet():\\n    print(\"Hello!\")\\n\\nprint(greet())  # Output: Hello! \\\\n None', 'print(local())', \"get_ipython().run_line_magic('whos', '')\", 'global()', 'globals()', 'print(globals())', 'print(locals())'], '_oh': {21: {...}}, '_dh': [WindowsPath('C:/Users/292593/Desktop/master/python training')], 'In': ['', '\\'\\'\\'\\nProgram to separate prime numbers from user input\\nNote: User input validation\\nAuthored by: Sanju Jacob\\n\\'\\'\\'\\n\\n# Input\\nprint(\"This app separates prime numbers from user input\")\\nprint(\"-\" * 80)\\n\\ninput_numbers = []\\nprint(\"Enter your inputs: (press ! to quit)\")\\n\\nwhile True:\\n    # Get input\\n    user_input = input().strip()  # ✅ Remove extra spaces\\n\\n    if user_input == \"!\":  # ✅ Quit condition\\n        break\\n\\n    if user_input.isdigit():  # ✅ Check if it\\'s a valid positive number\\n        input_numbers.append(int(user_input))  # ✅ Convert to integer\\n\\n# Function to check if a number is prime\\ndef is_prime(n):\\n    if n < 2:  # ✅ 0 and 1 are not prime\\n        return False\\n    for i in range(2, int(n ** 0.5) + 1):  # ✅ Check divisibility up to sqrt(n)\\n        if n % i == 0:\\n            return False\\n    return True\\n\\n# Process: Find prime numbers\\nprimes = [num for num in input_numbers if is_prime(num)]\\n\\n# Output\\nprint(\"\\\\nAll Input Numbers:\", input_numbers)\\nprint(\"Prime Numbers:\", primes)', 'for i2 in  range(2, int(n ** 0.5) + 1):\\n    print(i2)\\n    ', 'n=int(input())\\nfor i2 in  range(2, int(n ** 0.5) + 1):\\n    print(i2)\\n    ', 'n=int(input())\\nfor i2 in  range(2, int(n ** 0.5) + 1):\\n    print(i2)\\n    ', '\\'\\'\\'\\nProgram to separate prime numbers from user input\\nNote: User input validation\\nAuthored by: Sanju Jacob\\n\\'\\'\\'\\n\\n# Input\\nprint(\"This app separates prime numbers from user input\")\\nprint(\"-\" * 80)\\n\\ninput_numbers = []\\nprint(\"Enter your inputs: (press ! to quit)\")\\n\\nwhile True:\\n    # Get input\\n    user_input = input().strip()  # ✅ Remove extra spaces\\n\\n    if user_input == \"!\":  # ✅ Quit condition\\n        break\\n\\n    if user_input.isdigit():  # ✅ Check if it\\'s a valid positive number\\n        input_numbers.append(int(user_input))  # ✅ Convert to integer\\n\\n# Function to check if a number is prime\\ndef is_prime(n):\\n    if n < 2:\\n        return False  # 0 and 1 are not prime\\n    for i in range(2, n):  # Check from 2 to n-1\\n        if n % i == 0:\\n            return False  # Found a divisor, not prime\\n    return True  # No divisors found, it\\'s prime\\n\\n\\n# Process: Find prime numbers\\nprimes = [num for num in input_numbers if is_prime(num)]\\n\\n# Output\\nprint(\"\\\\nAll Input Numbers:\", input_numbers)\\nprint(\"Prime Numbers:\", primes)', \"def prime2(n):\\n    if n < 2:\\n        return False  # 0 and 1 are not prime\\n    for i in range(2, n):  # Check from 2 to n-1\\n        if n % i == 0:\\n            return False  # Found a divisor, not prime\\n    return True  # No divisors found, it's prime\", 'print(prime(23))', 'print(prime2(23))', 'def prime2(n):\\n    if n < 2:\\n        print(\"Number is not prime\")  # 0 and 1 are not prime\\n    for i in range(2, n):  # Check from 2 to n-1\\n        if n % i == 0:\\n            print(\"Number is not prime\") # Found a divisor, notaime\\n   number  print(\"Number is a prime number\") # No divisors found, it\\'s prime', 'def prime2(n):\\n    if n < 2:\\n        print(\"Number is not prime\")  # 0 and 1 are not prime\\n    for i in range(2, n):  # Check from 2 to n-1\\n        if n % i == 0:\\n            print(\"Number is not prime\") # Found a divisor, notaime\\n    print(\"Number is a prime number\") # No divisors found, it\\'s prime', 'print(prime2(23))', 'def prime2(n):\\n    if n < 2:\\n        return\"Number is not prime\")  # 0 and 1 are not prime\\n    for i in range(2, n):  # Check from 2 to n-1\\n        if n % i == 0:\\n            return \"Number is not prime\" # Found a divisor, notaime\\n    return \"Number is a prime number\" # No divisors found, it\\'s prime', 'def prime2(n):\\n    if n < 2:\\n        return\"Number is not prime\"  # 0 and 1 are not prime\\n    for i in range(2, n):  # Check from 2 to n-1\\n        if n % i == 0:\\n            return \"Number is not prime\" # Found a divisor, notaime\\n    return \"Number is a prime number\" # No divisors found, it\\'s prime', 'print(prime2(23))', 'def greet():\\n    return \"Hello!\"\\n\\nprint(greet())  # Output: Hello!', 'def greet():\\n    print(\"Hello!\")\\n\\nprint(greet())  # Output: Hello! \\\\n None', 'print(local())', \"get_ipython().run_line_magic('whos', '')\", 'global()', 'globals()', 'print(globals())', 'print(locals())'], 'Out': {21: {...}}, 'get_ipython': <bound method InteractiveShell.get_ipython of <ipykernel.zmqshell.ZMQInteractiveShell object at 0x000001FE49F5CE90>>, 'exit': <IPython.core.autocall.ZMQExitAutocall object at 0x000001FE49FA8E60>, 'quit': <IPython.core.autocall.ZMQExitAutocall object at 0x000001FE49FA8E60>, 'open': <function open at 0x000001FE47BAF6A0>, '_': {...}, '__': '', '___': '', '__session__': 'C:\\\\Users\\\\292593\\\\Desktop\\\\master\\\\python training\\\\SanjuJacob_21March.ipynb', '_i': 'print(globals())', '_ii': 'globals()', '_iii': 'global()', '_i1': '\\'\\'\\'\\nProgram to separate prime numbers from user input\\nNote: User input validation\\nAuthored by: Sanju Jacob\\n\\'\\'\\'\\n\\n# Input\\nprint(\"This app separates prime numbers from user input\")\\nprint(\"-\" * 80)\\n\\ninput_numbers = []\\nprint(\"Enter your inputs: (press ! to quit)\")\\n\\nwhile True:\\n    # Get input\\n    user_input = input().strip()  # ✅ Remove extra spaces\\n\\n    if user_input == \"!\":  # ✅ Quit condition\\n        break\\n\\n    if user_input.isdigit():  # ✅ Check if it\\'s a valid positive number\\n        input_numbers.append(int(user_input))  # ✅ Convert to integer\\n\\n# Function to check if a number is prime\\ndef is_prime(n):\\n    if n < 2:  # ✅ 0 and 1 are not prime\\n        return False\\n    for i in range(2, int(n ** 0.5) + 1):  # ✅ Check divisibility up to sqrt(n)\\n        if n % i == 0:\\n            return False\\n    return True\\n\\n# Process: Find prime numbers\\nprimes = [num for num in input_numbers if is_prime(num)]\\n\\n# Output\\nprint(\"\\\\nAll Input Numbers:\", input_numbers)\\nprint(\"Prime Numbers:\", primes)', 'input_numbers': [3, 4, 5, 8, 9, 12, 13, 15, 16, 39, 57, 63], 'user_input': '!', 'is_prime': <function is_prime at 0x000001FE49FAF2E0>, 'primes': [3, 5, 13], '_i2': 'for i2 in  range(2, int(n ** 0.5) + 1):\\n    print(i2)\\n    ', '_i3': 'n=int(input())\\nfor i2 in  range(2, int(n ** 0.5) + 1):\\n    print(i2)\\n    ', 'n': 20, 'i2': 4, '_i4': 'n=int(input())\\nfor i2 in  range(2, int(n ** 0.5) + 1):\\n    print(i2)\\n    ', '_i5': '\\'\\'\\'\\nProgram to separate prime numbers from user input\\nNote: User input validation\\nAuthored by: Sanju Jacob\\n\\'\\'\\'\\n\\n# Input\\nprint(\"This app separates prime numbers from user input\")\\nprint(\"-\" * 80)\\n\\ninput_numbers = []\\nprint(\"Enter your inputs: (press ! to quit)\")\\n\\nwhile True:\\n    # Get input\\n    user_input = input().strip()  # ✅ Remove extra spaces\\n\\n    if user_input == \"!\":  # ✅ Quit condition\\n        break\\n\\n    if user_input.isdigit():  # ✅ Check if it\\'s a valid positive number\\n        input_numbers.append(int(user_input))  # ✅ Convert to integer\\n\\n# Function to check if a number is prime\\ndef is_prime(n):\\n    if n < 2:\\n        return False  # 0 and 1 are not prime\\n    for i in range(2, n):  # Check from 2 to n-1\\n        if n % i == 0:\\n            return False  # Found a divisor, not prime\\n    return True  # No divisors found, it\\'s prime\\n\\n\\n# Process: Find prime numbers\\nprimes = [num for num in input_numbers if is_prime(num)]\\n\\n# Output\\nprint(\"\\\\nAll Input Numbers:\", input_numbers)\\nprint(\"Prime Numbers:\", primes)', '_i6': \"def prime2(n):\\n    if n < 2:\\n        return False  # 0 and 1 are not prime\\n    for i in range(2, n):  # Check from 2 to n-1\\n        if n % i == 0:\\n            return False  # Found a divisor, not prime\\n    return True  # No divisors found, it's prime\", 'prime2': <function prime2 at 0x000001FE4A0FB740>, '_i7': 'print(prime(23))', '_i8': 'print(prime2(23))', '_i9': 'def prime2(n):\\n    if n < 2:\\n        print(\"Number is not prime\")  # 0 and 1 are not prime\\n    for i in range(2, n):  # Check from 2 to n-1\\n        if n % i == 0:\\n            print(\"Number is not prime\") # Found a divisor, notaime\\n   number  print(\"Number is a prime number\") # No divisors found, it\\'s prime', '_i11': 'def prime2(n):\\n    if n < 2:\\n        print(\"Number is not prime\")  # 0 and 1 are not prime\\n    for i in range(2, n):  # Check from 2 to n-1\\n        if n % i == 0:\\n            print(\"Number is not prime\") # Found a divisor, notaime\\n    print(\"Number is a prime number\") # No divisors found, it\\'s prime', '_i12': 'print(prime2(23))', '_i13': 'def prime2(n):\\n    if n < 2:\\n        return\"Number is not prime\")  # 0 and 1 are not prime\\n    for i in range(2, n):  # Check from 2 to n-1\\n        if n % i == 0:\\n            return \"Number is not prime\" # Found a divisor, notaime\\n    return \"Number is a prime number\" # No divisors found, it\\'s prime', '_i14': 'def prime2(n):\\n    if n < 2:\\n        return\"Number is not prime\"  # 0 and 1 are not prime\\n    for i in range(2, n):  # Check from 2 to n-1\\n        if n % i == 0:\\n            return \"Number is not prime\" # Found a divisor, notaime\\n    return \"Number is a prime number\" # No divisors found, it\\'s prime', '_i15': 'print(prime2(23))', '_i16': 'def greet():\\n    return \"Hello!\"\\n\\nprint(greet())  # Output: Hello!', 'greet': <function greet at 0x000001FE4A0FBA60>, '_i17': 'def greet():\\n    print(\"Hello!\")\\n\\nprint(greet())  # Output: Hello! \\\\n None', '_i18': 'print(local())', '_i19': '%whos', '_i20': 'global()', '_i21': 'globals()', '_21': {...}, '_i22': 'print(globals())', '_i23': 'print(locals())'}\n"
     ]
    }
   ],
   "source": [
    "print(locals())"
   ]
  },
  {
   "cell_type": "code",
   "execution_count": 19,
   "id": "a872381e-c7b1-4f08-8366-11b97f98b42e",
   "metadata": {},
   "outputs": [
    {
     "name": "stdout",
     "output_type": "stream",
     "text": [
      "Variable        Type        Data/Info\n",
      "-------------------------------------\n",
      "greet           function    <function greet at 0x000001FE4A0FBA60>\n",
      "i2              int         4\n",
      "input_numbers   list        n=12\n",
      "is_prime        function    <function is_prime at 0x000001FE49FAF2E0>\n",
      "n               int         20\n",
      "prime2          function    <function prime2 at 0x000001FE4A0FB740>\n",
      "primes          list        n=3\n",
      "user_input      str         !\n"
     ]
    }
   ],
   "source": [
    "%whos\n"
   ]
  },
  {
   "cell_type": "code",
   "execution_count": 22,
   "id": "722c6ef2-1cf3-4090-bfc1-94a28d4465e1",
   "metadata": {},
   "outputs": [
    {
     "name": "stdout",
     "output_type": "stream",
     "text": [
      "{'__name__': '__main__', '__doc__': '\\nProgram to separate prime numbers from user input\\nNote: User input validation\\nAuthored by: Sanju Jacob\\n', '__package__': None, '__loader__': None, '__spec__': None, '__builtin__': <module 'builtins' (built-in)>, '__builtins__': <module 'builtins' (built-in)>, '_ih': ['', '\\'\\'\\'\\nProgram to separate prime numbers from user input\\nNote: User input validation\\nAuthored by: Sanju Jacob\\n\\'\\'\\'\\n\\n# Input\\nprint(\"This app separates prime numbers from user input\")\\nprint(\"-\" * 80)\\n\\ninput_numbers = []\\nprint(\"Enter your inputs: (press ! to quit)\")\\n\\nwhile True:\\n    # Get input\\n    user_input = input().strip()  # ✅ Remove extra spaces\\n\\n    if user_input == \"!\":  # ✅ Quit condition\\n        break\\n\\n    if user_input.isdigit():  # ✅ Check if it\\'s a valid positive number\\n        input_numbers.append(int(user_input))  # ✅ Convert to integer\\n\\n# Function to check if a number is prime\\ndef is_prime(n):\\n    if n < 2:  # ✅ 0 and 1 are not prime\\n        return False\\n    for i in range(2, int(n ** 0.5) + 1):  # ✅ Check divisibility up to sqrt(n)\\n        if n % i == 0:\\n            return False\\n    return True\\n\\n# Process: Find prime numbers\\nprimes = [num for num in input_numbers if is_prime(num)]\\n\\n# Output\\nprint(\"\\\\nAll Input Numbers:\", input_numbers)\\nprint(\"Prime Numbers:\", primes)', 'for i2 in  range(2, int(n ** 0.5) + 1):\\n    print(i2)\\n    ', 'n=int(input())\\nfor i2 in  range(2, int(n ** 0.5) + 1):\\n    print(i2)\\n    ', 'n=int(input())\\nfor i2 in  range(2, int(n ** 0.5) + 1):\\n    print(i2)\\n    ', '\\'\\'\\'\\nProgram to separate prime numbers from user input\\nNote: User input validation\\nAuthored by: Sanju Jacob\\n\\'\\'\\'\\n\\n# Input\\nprint(\"This app separates prime numbers from user input\")\\nprint(\"-\" * 80)\\n\\ninput_numbers = []\\nprint(\"Enter your inputs: (press ! to quit)\")\\n\\nwhile True:\\n    # Get input\\n    user_input = input().strip()  # ✅ Remove extra spaces\\n\\n    if user_input == \"!\":  # ✅ Quit condition\\n        break\\n\\n    if user_input.isdigit():  # ✅ Check if it\\'s a valid positive number\\n        input_numbers.append(int(user_input))  # ✅ Convert to integer\\n\\n# Function to check if a number is prime\\ndef is_prime(n):\\n    if n < 2:\\n        return False  # 0 and 1 are not prime\\n    for i in range(2, n):  # Check from 2 to n-1\\n        if n % i == 0:\\n            return False  # Found a divisor, not prime\\n    return True  # No divisors found, it\\'s prime\\n\\n\\n# Process: Find prime numbers\\nprimes = [num for num in input_numbers if is_prime(num)]\\n\\n# Output\\nprint(\"\\\\nAll Input Numbers:\", input_numbers)\\nprint(\"Prime Numbers:\", primes)', \"def prime2(n):\\n    if n < 2:\\n        return False  # 0 and 1 are not prime\\n    for i in range(2, n):  # Check from 2 to n-1\\n        if n % i == 0:\\n            return False  # Found a divisor, not prime\\n    return True  # No divisors found, it's prime\", 'print(prime(23))', 'print(prime2(23))', 'def prime2(n):\\n    if n < 2:\\n        print(\"Number is not prime\")  # 0 and 1 are not prime\\n    for i in range(2, n):  # Check from 2 to n-1\\n        if n % i == 0:\\n            print(\"Number is not prime\") # Found a divisor, notaime\\n   number  print(\"Number is a prime number\") # No divisors found, it\\'s prime', 'def prime2(n):\\n    if n < 2:\\n        print(\"Number is not prime\")  # 0 and 1 are not prime\\n    for i in range(2, n):  # Check from 2 to n-1\\n        if n % i == 0:\\n            print(\"Number is not prime\") # Found a divisor, notaime\\n    print(\"Number is a prime number\") # No divisors found, it\\'s prime', 'print(prime2(23))', 'def prime2(n):\\n    if n < 2:\\n        return\"Number is not prime\")  # 0 and 1 are not prime\\n    for i in range(2, n):  # Check from 2 to n-1\\n        if n % i == 0:\\n            return \"Number is not prime\" # Found a divisor, notaime\\n    return \"Number is a prime number\" # No divisors found, it\\'s prime', 'def prime2(n):\\n    if n < 2:\\n        return\"Number is not prime\"  # 0 and 1 are not prime\\n    for i in range(2, n):  # Check from 2 to n-1\\n        if n % i == 0:\\n            return \"Number is not prime\" # Found a divisor, notaime\\n    return \"Number is a prime number\" # No divisors found, it\\'s prime', 'print(prime2(23))', 'def greet():\\n    return \"Hello!\"\\n\\nprint(greet())  # Output: Hello!', 'def greet():\\n    print(\"Hello!\")\\n\\nprint(greet())  # Output: Hello! \\\\n None', 'print(local())', \"get_ipython().run_line_magic('whos', '')\", 'global()', 'globals()', 'print(globals())'], '_oh': {21: {...}}, '_dh': [WindowsPath('C:/Users/292593/Desktop/master/python training')], 'In': ['', '\\'\\'\\'\\nProgram to separate prime numbers from user input\\nNote: User input validation\\nAuthored by: Sanju Jacob\\n\\'\\'\\'\\n\\n# Input\\nprint(\"This app separates prime numbers from user input\")\\nprint(\"-\" * 80)\\n\\ninput_numbers = []\\nprint(\"Enter your inputs: (press ! to quit)\")\\n\\nwhile True:\\n    # Get input\\n    user_input = input().strip()  # ✅ Remove extra spaces\\n\\n    if user_input == \"!\":  # ✅ Quit condition\\n        break\\n\\n    if user_input.isdigit():  # ✅ Check if it\\'s a valid positive number\\n        input_numbers.append(int(user_input))  # ✅ Convert to integer\\n\\n# Function to check if a number is prime\\ndef is_prime(n):\\n    if n < 2:  # ✅ 0 and 1 are not prime\\n        return False\\n    for i in range(2, int(n ** 0.5) + 1):  # ✅ Check divisibility up to sqrt(n)\\n        if n % i == 0:\\n            return False\\n    return True\\n\\n# Process: Find prime numbers\\nprimes = [num for num in input_numbers if is_prime(num)]\\n\\n# Output\\nprint(\"\\\\nAll Input Numbers:\", input_numbers)\\nprint(\"Prime Numbers:\", primes)', 'for i2 in  range(2, int(n ** 0.5) + 1):\\n    print(i2)\\n    ', 'n=int(input())\\nfor i2 in  range(2, int(n ** 0.5) + 1):\\n    print(i2)\\n    ', 'n=int(input())\\nfor i2 in  range(2, int(n ** 0.5) + 1):\\n    print(i2)\\n    ', '\\'\\'\\'\\nProgram to separate prime numbers from user input\\nNote: User input validation\\nAuthored by: Sanju Jacob\\n\\'\\'\\'\\n\\n# Input\\nprint(\"This app separates prime numbers from user input\")\\nprint(\"-\" * 80)\\n\\ninput_numbers = []\\nprint(\"Enter your inputs: (press ! to quit)\")\\n\\nwhile True:\\n    # Get input\\n    user_input = input().strip()  # ✅ Remove extra spaces\\n\\n    if user_input == \"!\":  # ✅ Quit condition\\n        break\\n\\n    if user_input.isdigit():  # ✅ Check if it\\'s a valid positive number\\n        input_numbers.append(int(user_input))  # ✅ Convert to integer\\n\\n# Function to check if a number is prime\\ndef is_prime(n):\\n    if n < 2:\\n        return False  # 0 and 1 are not prime\\n    for i in range(2, n):  # Check from 2 to n-1\\n        if n % i == 0:\\n            return False  # Found a divisor, not prime\\n    return True  # No divisors found, it\\'s prime\\n\\n\\n# Process: Find prime numbers\\nprimes = [num for num in input_numbers if is_prime(num)]\\n\\n# Output\\nprint(\"\\\\nAll Input Numbers:\", input_numbers)\\nprint(\"Prime Numbers:\", primes)', \"def prime2(n):\\n    if n < 2:\\n        return False  # 0 and 1 are not prime\\n    for i in range(2, n):  # Check from 2 to n-1\\n        if n % i == 0:\\n            return False  # Found a divisor, not prime\\n    return True  # No divisors found, it's prime\", 'print(prime(23))', 'print(prime2(23))', 'def prime2(n):\\n    if n < 2:\\n        print(\"Number is not prime\")  # 0 and 1 are not prime\\n    for i in range(2, n):  # Check from 2 to n-1\\n        if n % i == 0:\\n            print(\"Number is not prime\") # Found a divisor, notaime\\n   number  print(\"Number is a prime number\") # No divisors found, it\\'s prime', 'def prime2(n):\\n    if n < 2:\\n        print(\"Number is not prime\")  # 0 and 1 are not prime\\n    for i in range(2, n):  # Check from 2 to n-1\\n        if n % i == 0:\\n            print(\"Number is not prime\") # Found a divisor, notaime\\n    print(\"Number is a prime number\") # No divisors found, it\\'s prime', 'print(prime2(23))', 'def prime2(n):\\n    if n < 2:\\n        return\"Number is not prime\")  # 0 and 1 are not prime\\n    for i in range(2, n):  # Check from 2 to n-1\\n        if n % i == 0:\\n            return \"Number is not prime\" # Found a divisor, notaime\\n    return \"Number is a prime number\" # No divisors found, it\\'s prime', 'def prime2(n):\\n    if n < 2:\\n        return\"Number is not prime\"  # 0 and 1 are not prime\\n    for i in range(2, n):  # Check from 2 to n-1\\n        if n % i == 0:\\n            return \"Number is not prime\" # Found a divisor, notaime\\n    return \"Number is a prime number\" # No divisors found, it\\'s prime', 'print(prime2(23))', 'def greet():\\n    return \"Hello!\"\\n\\nprint(greet())  # Output: Hello!', 'def greet():\\n    print(\"Hello!\")\\n\\nprint(greet())  # Output: Hello! \\\\n None', 'print(local())', \"get_ipython().run_line_magic('whos', '')\", 'global()', 'globals()', 'print(globals())'], 'Out': {21: {...}}, 'get_ipython': <bound method InteractiveShell.get_ipython of <ipykernel.zmqshell.ZMQInteractiveShell object at 0x000001FE49F5CE90>>, 'exit': <IPython.core.autocall.ZMQExitAutocall object at 0x000001FE49FA8E60>, 'quit': <IPython.core.autocall.ZMQExitAutocall object at 0x000001FE49FA8E60>, 'open': <function open at 0x000001FE47BAF6A0>, '_': {...}, '__': '', '___': '', '__session__': 'C:\\\\Users\\\\292593\\\\Desktop\\\\master\\\\python training\\\\SanjuJacob_21March.ipynb', '_i': 'globals()', '_ii': 'global()', '_iii': '%whos', '_i1': '\\'\\'\\'\\nProgram to separate prime numbers from user input\\nNote: User input validation\\nAuthored by: Sanju Jacob\\n\\'\\'\\'\\n\\n# Input\\nprint(\"This app separates prime numbers from user input\")\\nprint(\"-\" * 80)\\n\\ninput_numbers = []\\nprint(\"Enter your inputs: (press ! to quit)\")\\n\\nwhile True:\\n    # Get input\\n    user_input = input().strip()  # ✅ Remove extra spaces\\n\\n    if user_input == \"!\":  # ✅ Quit condition\\n        break\\n\\n    if user_input.isdigit():  # ✅ Check if it\\'s a valid positive number\\n        input_numbers.append(int(user_input))  # ✅ Convert to integer\\n\\n# Function to check if a number is prime\\ndef is_prime(n):\\n    if n < 2:  # ✅ 0 and 1 are not prime\\n        return False\\n    for i in range(2, int(n ** 0.5) + 1):  # ✅ Check divisibility up to sqrt(n)\\n        if n % i == 0:\\n            return False\\n    return True\\n\\n# Process: Find prime numbers\\nprimes = [num for num in input_numbers if is_prime(num)]\\n\\n# Output\\nprint(\"\\\\nAll Input Numbers:\", input_numbers)\\nprint(\"Prime Numbers:\", primes)', 'input_numbers': [3, 4, 5, 8, 9, 12, 13, 15, 16, 39, 57, 63], 'user_input': '!', 'is_prime': <function is_prime at 0x000001FE49FAF2E0>, 'primes': [3, 5, 13], '_i2': 'for i2 in  range(2, int(n ** 0.5) + 1):\\n    print(i2)\\n    ', '_i3': 'n=int(input())\\nfor i2 in  range(2, int(n ** 0.5) + 1):\\n    print(i2)\\n    ', 'n': 20, 'i2': 4, '_i4': 'n=int(input())\\nfor i2 in  range(2, int(n ** 0.5) + 1):\\n    print(i2)\\n    ', '_i5': '\\'\\'\\'\\nProgram to separate prime numbers from user input\\nNote: User input validation\\nAuthored by: Sanju Jacob\\n\\'\\'\\'\\n\\n# Input\\nprint(\"This app separates prime numbers from user input\")\\nprint(\"-\" * 80)\\n\\ninput_numbers = []\\nprint(\"Enter your inputs: (press ! to quit)\")\\n\\nwhile True:\\n    # Get input\\n    user_input = input().strip()  # ✅ Remove extra spaces\\n\\n    if user_input == \"!\":  # ✅ Quit condition\\n        break\\n\\n    if user_input.isdigit():  # ✅ Check if it\\'s a valid positive number\\n        input_numbers.append(int(user_input))  # ✅ Convert to integer\\n\\n# Function to check if a number is prime\\ndef is_prime(n):\\n    if n < 2:\\n        return False  # 0 and 1 are not prime\\n    for i in range(2, n):  # Check from 2 to n-1\\n        if n % i == 0:\\n            return False  # Found a divisor, not prime\\n    return True  # No divisors found, it\\'s prime\\n\\n\\n# Process: Find prime numbers\\nprimes = [num for num in input_numbers if is_prime(num)]\\n\\n# Output\\nprint(\"\\\\nAll Input Numbers:\", input_numbers)\\nprint(\"Prime Numbers:\", primes)', '_i6': \"def prime2(n):\\n    if n < 2:\\n        return False  # 0 and 1 are not prime\\n    for i in range(2, n):  # Check from 2 to n-1\\n        if n % i == 0:\\n            return False  # Found a divisor, not prime\\n    return True  # No divisors found, it's prime\", 'prime2': <function prime2 at 0x000001FE4A0FB740>, '_i7': 'print(prime(23))', '_i8': 'print(prime2(23))', '_i9': 'def prime2(n):\\n    if n < 2:\\n        print(\"Number is not prime\")  # 0 and 1 are not prime\\n    for i in range(2, n):  # Check from 2 to n-1\\n        if n % i == 0:\\n            print(\"Number is not prime\") # Found a divisor, notaime\\n   number  print(\"Number is a prime number\") # No divisors found, it\\'s prime', '_i11': 'def prime2(n):\\n    if n < 2:\\n        print(\"Number is not prime\")  # 0 and 1 are not prime\\n    for i in range(2, n):  # Check from 2 to n-1\\n        if n % i == 0:\\n            print(\"Number is not prime\") # Found a divisor, notaime\\n    print(\"Number is a prime number\") # No divisors found, it\\'s prime', '_i12': 'print(prime2(23))', '_i13': 'def prime2(n):\\n    if n < 2:\\n        return\"Number is not prime\")  # 0 and 1 are not prime\\n    for i in range(2, n):  # Check from 2 to n-1\\n        if n % i == 0:\\n            return \"Number is not prime\" # Found a divisor, notaime\\n    return \"Number is a prime number\" # No divisors found, it\\'s prime', '_i14': 'def prime2(n):\\n    if n < 2:\\n        return\"Number is not prime\"  # 0 and 1 are not prime\\n    for i in range(2, n):  # Check from 2 to n-1\\n        if n % i == 0:\\n            return \"Number is not prime\" # Found a divisor, notaime\\n    return \"Number is a prime number\" # No divisors found, it\\'s prime', '_i15': 'print(prime2(23))', '_i16': 'def greet():\\n    return \"Hello!\"\\n\\nprint(greet())  # Output: Hello!', 'greet': <function greet at 0x000001FE4A0FBA60>, '_i17': 'def greet():\\n    print(\"Hello!\")\\n\\nprint(greet())  # Output: Hello! \\\\n None', '_i18': 'print(local())', '_i19': '%whos', '_i20': 'global()', '_i21': 'globals()', '_21': {...}, '_i22': 'print(globals())'}\n"
     ]
    }
   ],
   "source": [
    "print(globals())"
   ]
  },
  {
   "cell_type": "code",
   "execution_count": 38,
   "id": "e834ca2f-ab36-4efb-81e2-cdfab4e5d181",
   "metadata": {},
   "outputs": [
    {
     "name": "stdout",
     "output_type": "stream",
     "text": [
      "Copied: 09-nb-comprehensions-and-built-in-modules-part-1.ipynb -> C:\\Users\\292593\\Desktop\\master\\python_training_excercisefilebackup\\python-training\\09-nb-comprehensions-and-built-in-modules-part-1.ipynb\n",
      "Copied: 292593_SanjuJacob_20March.ipynb -> C:\\Users\\292593\\Desktop\\master\\python_training_excercisefilebackup\\python-training\\292593_SanjuJacob_20March.ipynb\n",
      "Copied: Python_training19March.ipynb -> C:\\Users\\292593\\Desktop\\master\\python_training_excercisefilebackup\\python-training\\Python_training19March.ipynb\n",
      "Copied: SanjuJacob_21March.ipynb -> C:\\Users\\292593\\Desktop\\master\\python_training_excercisefilebackup\\python-training\\SanjuJacob_21March.ipynb\n",
      "Copied: Sanju_excersefile_19March.ipynb -> C:\\Users\\292593\\Desktop\\master\\python_training_excercisefilebackup\\python-training\\Sanju_excersefile_19March.ipynb\n",
      "Copied: Untitled.ipynb -> C:\\Users\\292593\\Desktop\\master\\python_training_excercisefilebackup\\python-training\\Untitled.ipynb\n",
      "Copied: Untitled1.ipynb -> C:\\Users\\292593\\Desktop\\master\\python_training_excercisefilebackup\\python-training\\Untitled1.ipynb\n",
      "Copied: Untitled2.ipynb -> C:\\Users\\292593\\Desktop\\master\\python_training_excercisefilebackup\\python-training\\Untitled2.ipynb\n",
      "Copied: Untitled3.ipynb -> C:\\Users\\292593\\Desktop\\master\\python_training_excercisefilebackup\\python-training\\Untitled3.ipynb\n",
      "Copied: UST_Python_training.ipynb -> C:\\Users\\292593\\Desktop\\master\\python_training_excercisefilebackup\\python-training\\UST_Python_training.ipynb\n",
      "Copied: UST_Python_training_03_19.ipynb -> C:\\Users\\292593\\Desktop\\master\\python_training_excercisefilebackup\\python-training\\UST_Python_training_03_19.ipynb\n",
      "Copied: zen of python.ipynb -> C:\\Users\\292593\\Desktop\\master\\python_training_excercisefilebackup\\python-training\\zen of python.ipynb\n",
      "✅ All .ipynb files copied successfully!\n"
     ]
    }
   ],
   "source": [
    "'''\n",
    "Here is use case copy .ipny files / jupyter note books and copy said files  to a path specified and\n",
    "'''\n",
    "# importing neccessary liberaries\n",
    "import os\n",
    "import shutil\n",
    "\n",
    "# Source and destination paths\n",
    "path3 = r\"C:\\Users\\292593\\Desktop\\master\\python training\"\n",
    "path2 = r\"C:\\Users\\292593\\Desktop\\master\\python_training_excercisefilebackup\\python-training\"\n",
    "\n",
    "# Ensure destination directory exists\n",
    "os.makedirs(path2, exist_ok=True)\n",
    "\n",
    "# Loop through files in the source directory\n",
    "for file_name in os.listdir(path3):\n",
    "    if file_name.endswith(\".ipynb\"):  # ✅ Only copy Jupyter Notebook files\n",
    "        source = os.path.join(path3, file_name)\n",
    "        destination = os.path.join(path2, file_name)\n",
    "        shutil.copy2(source, destination)  # ✅ Copy file with metadata (timestamp, etc.)\n",
    "        print(f\"Copied: {file_name} -> {destination}\")\n",
    "\n",
    "print(\"✅ All .ipynb files copied successfully!\")\n"
   ]
  },
  {
   "cell_type": "code",
   "execution_count": null,
   "id": "4d7cdcca-956a-4d3f-9002-5527631f6856",
   "metadata": {},
   "outputs": [],
   "source": []
  }
 ],
 "metadata": {
  "kernelspec": {
   "display_name": "Python 3 (ipykernel)",
   "language": "python",
   "name": "python3"
  },
  "language_info": {
   "codemirror_mode": {
    "name": "ipython",
    "version": 3
   },
   "file_extension": ".py",
   "mimetype": "text/x-python",
   "name": "python",
   "nbconvert_exporter": "python",
   "pygments_lexer": "ipython3",
   "version": "3.12.4"
  }
 },
 "nbformat": 4,
 "nbformat_minor": 5
}
