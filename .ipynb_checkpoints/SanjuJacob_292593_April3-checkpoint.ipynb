{
 "cells": [
  {
   "cell_type": "markdown",
   "id": "ce7d5ef5-f701-49b9-8d56-c085f3a3d29c",
   "metadata": {},
   "source": [
    "# Case Study "
   ]
  },
  {
   "cell_type": "raw",
   "id": "d38522d3-7e3f-4655-ac99-1cadaa69b468",
   "metadata": {},
   "source": [
    "# opening file and reading content"
   ]
  },
  {
   "cell_type": "code",
   "execution_count": 1,
   "id": "683b6067-c888-4404-ace0-e914369f2e55",
   "metadata": {},
   "outputs": [],
   "source": [
    "path=r\"C:\\Users\\292593\\Desktop\\master\\python training\\Git_repo\\excercise\\ust-python-2025\\case-studies\\day-12-case-student-report\\students.csv\""
   ]
  },
  {
   "cell_type": "code",
   "execution_count": 2,
   "id": "90ce1345-3b23-40ec-8a49-06b528e6cd2c",
   "metadata": {},
   "outputs": [],
   "source": [
    "import os"
   ]
  },
  {
   "cell_type": "code",
   "execution_count": 31,
   "id": "a32aee78-82ec-4936-b101-1b9d0a56b7ff",
   "metadata": {},
   "outputs": [],
   "source": [
    "f=open(path)\n",
    "content = f.readlines()\n",
    "f.close()"
   ]
  },
  {
   "cell_type": "code",
   "execution_count": 32,
   "id": "3b0f7700-0f05-4cf1-a88a-77aec0354254",
   "metadata": {},
   "outputs": [
    {
     "data": {
      "text/plain": [
       "['name,age,regid,phy,chem,math,bio,avg,rank\\n',\n",
       " 'Vijay,14,HPE001,99,98,97,96,0,0\\n',\n",
       " 'Aryan,14,HPE002,98,91,93,96,0,0\\n',\n",
       " 'Muni,14,HPE003,97,98,97,94,0,0\\n',\n",
       " 'Abhi,14,HPE004,96,93,97,95,0,0\\n',\n",
       " 'Hemanth,14,HPE005,94,91,93,96,0,0\\n',\n",
       " 'Grace,14,HPE006,94,95,96,97,0,0\\n',\n",
       " 'Ankita,14,CAP007,99,99,99,99,0,0\\n',\n",
       " 'John,14,HPE008,96,93,97,95,0,0\\n',\n",
       " 'Chris,14,HPE009,94,91,93,96,0,0\\n',\n",
       " 'Grace,14,ORA006,94,95,96,97,0,0\\n',\n",
       " 'Ankita,14,INF007,99,99,99,99,0,0\\n']"
      ]
     },
     "execution_count": 32,
     "metadata": {},
     "output_type": "execute_result"
    }
   ],
   "source": [
    "content"
   ]
  },
  {
   "cell_type": "code",
   "execution_count": 5,
   "id": "9b936b96-981f-4d0f-b717-3921c42a5507",
   "metadata": {},
   "outputs": [
    {
     "data": {
      "text/plain": [
       "['name,age,regid,phy,chem,math,bio,avg,rank\\n',\n",
       " 'Vijay,14,HPE001,99,98,97,96,0,0\\n',\n",
       " 'Aryan,14,HPE002,98,91,93,96,0,0\\n',\n",
       " 'Muni,14,HPE003,97,98,97,94,0,0\\n',\n",
       " 'Abhi,14,HPE004,96,93,97,95,0,0\\n',\n",
       " 'Hemanth,14,HPE005,94,91,93,96,0,0\\n',\n",
       " 'Grace,14,HPE006,94,95,96,97,0,0\\n',\n",
       " 'Ankita,14,CAP007,99,99,99,99,0,0\\n',\n",
       " 'John,14,HPE008,96,93,97,95,0,0\\n',\n",
       " 'Chris,14,HPE009,94,91,93,96,0,0\\n',\n",
       " 'Grace,14,ORA006,94,95,96,97,0,0\\n',\n",
       " 'Ankita,14,INF007,99,99,99,99,0,0\\n']"
      ]
     },
     "execution_count": 5,
     "metadata": {},
     "output_type": "execute_result"
    }
   ],
   "source": [
    "content\n"
   ]
  },
  {
   "cell_type": "code",
   "execution_count": 6,
   "id": "7c92743a-f7d9-41ce-879a-bf28d6d5b81f",
   "metadata": {},
   "outputs": [
    {
     "data": {
      "text/plain": [
       "list"
      ]
     },
     "execution_count": 6,
     "metadata": {},
     "output_type": "execute_result"
    }
   ],
   "source": [
    "type(content)"
   ]
  },
  {
   "cell_type": "code",
   "execution_count": 7,
   "id": "6ea77cbb-c241-47ad-a614-584e8450b3fd",
   "metadata": {},
   "outputs": [],
   "source": [
    "c=[item.strip(\"\\n\") for item in content]"
   ]
  },
  {
   "cell_type": "code",
   "execution_count": 8,
   "id": "b7a0fb7b-c71d-40ac-837f-4cb6a964ba60",
   "metadata": {},
   "outputs": [
    {
     "data": {
      "text/plain": [
       "['name,age,regid,phy,chem,math,bio,avg,rank',\n",
       " 'Vijay,14,HPE001,99,98,97,96,0,0',\n",
       " 'Aryan,14,HPE002,98,91,93,96,0,0',\n",
       " 'Muni,14,HPE003,97,98,97,94,0,0',\n",
       " 'Abhi,14,HPE004,96,93,97,95,0,0',\n",
       " 'Hemanth,14,HPE005,94,91,93,96,0,0',\n",
       " 'Grace,14,HPE006,94,95,96,97,0,0',\n",
       " 'Ankita,14,CAP007,99,99,99,99,0,0',\n",
       " 'John,14,HPE008,96,93,97,95,0,0',\n",
       " 'Chris,14,HPE009,94,91,93,96,0,0',\n",
       " 'Grace,14,ORA006,94,95,96,97,0,0',\n",
       " 'Ankita,14,INF007,99,99,99,99,0,0']"
      ]
     },
     "execution_count": 8,
     "metadata": {},
     "output_type": "execute_result"
    }
   ],
   "source": [
    "c"
   ]
  },
  {
   "cell_type": "code",
   "execution_count": 33,
   "id": "dfa7ab8f-a0f8-4cbc-953e-43e641924e76",
   "metadata": {},
   "outputs": [],
   "source": [
    "nested_data = [row.split(\",\") for row in c]"
   ]
  },
  {
   "cell_type": "code",
   "execution_count": 34,
   "id": "cf226f25-4943-4d42-a5b0-5253e88f9d22",
   "metadata": {},
   "outputs": [
    {
     "data": {
      "text/plain": [
       "[['name', 'age', 'regid', 'phy', 'chem', 'math', 'bio', 'avg', 'rank'],\n",
       " ['Vijay', '14', 'HPE001', '99', '98', '97', '96', '0', '0'],\n",
       " ['Aryan', '14', 'HPE002', '98', '91', '93', '96', '0', '0'],\n",
       " ['Muni', '14', 'HPE003', '97', '98', '97', '94', '0', '0'],\n",
       " ['Abhi', '14', 'HPE004', '96', '93', '97', '95', '0', '0'],\n",
       " ['Hemanth', '14', 'HPE005', '94', '91', '93', '96', '0', '0'],\n",
       " ['Grace', '14', 'HPE006', '94', '95', '96', '97', '0', '0'],\n",
       " ['Ankita', '14', 'CAP007', '99', '99', '99', '99', '0', '0'],\n",
       " ['John', '14', 'HPE008', '96', '93', '97', '95', '0', '0'],\n",
       " ['Chris', '14', 'HPE009', '94', '91', '93', '96', '0', '0'],\n",
       " ['Grace', '14', 'ORA006', '94', '95', '96', '97', '0', '0'],\n",
       " ['Ankita', '14', 'INF007', '99', '99', '99', '99', '0', '0']]"
      ]
     },
     "execution_count": 34,
     "metadata": {},
     "output_type": "execute_result"
    }
   ],
   "source": [
    "nested_data"
   ]
  },
  {
   "cell_type": "code",
   "execution_count": 35,
   "id": "6e038b32-f441-4ad7-aa2f-81980563cce0",
   "metadata": {},
   "outputs": [],
   "source": [
    "a1=nested_data[0]"
   ]
  },
  {
   "cell_type": "code",
   "execution_count": 36,
   "id": "787dffb6-f659-4da5-bbde-ca47adac0d32",
   "metadata": {},
   "outputs": [
    {
     "data": {
      "text/plain": [
       "['name', 'age', 'regid', 'phy', 'chem', 'math', 'bio', 'avg', 'rank']"
      ]
     },
     "execution_count": 36,
     "metadata": {},
     "output_type": "execute_result"
    }
   ],
   "source": [
    "a1"
   ]
  },
  {
   "cell_type": "code",
   "execution_count": 37,
   "id": "03cbcf6f-2356-478b-bfbf-4dc0cee4ed71",
   "metadata": {},
   "outputs": [],
   "source": [
    "b1=nested_data[1::]"
   ]
  },
  {
   "cell_type": "code",
   "execution_count": 38,
   "id": "b2cf7145-d093-4d87-9524-a1578cc33842",
   "metadata": {},
   "outputs": [
    {
     "data": {
      "text/plain": [
       "[['Vijay', '14', 'HPE001', '99', '98', '97', '96', '0', '0'],\n",
       " ['Aryan', '14', 'HPE002', '98', '91', '93', '96', '0', '0'],\n",
       " ['Muni', '14', 'HPE003', '97', '98', '97', '94', '0', '0'],\n",
       " ['Abhi', '14', 'HPE004', '96', '93', '97', '95', '0', '0'],\n",
       " ['Hemanth', '14', 'HPE005', '94', '91', '93', '96', '0', '0'],\n",
       " ['Grace', '14', 'HPE006', '94', '95', '96', '97', '0', '0'],\n",
       " ['Ankita', '14', 'CAP007', '99', '99', '99', '99', '0', '0'],\n",
       " ['John', '14', 'HPE008', '96', '93', '97', '95', '0', '0'],\n",
       " ['Chris', '14', 'HPE009', '94', '91', '93', '96', '0', '0'],\n",
       " ['Grace', '14', 'ORA006', '94', '95', '96', '97', '0', '0'],\n",
       " ['Ankita', '14', 'INF007', '99', '99', '99', '99', '0', '0']]"
      ]
     },
     "execution_count": 38,
     "metadata": {},
     "output_type": "execute_result"
    }
   ],
   "source": [
    "b1"
   ]
  },
  {
   "cell_type": "code",
   "execution_count": 15,
   "id": "77a7276f-b20b-413f-8b52-c6833ec435f4",
   "metadata": {},
   "outputs": [],
   "source": [
    "d1=dict(zip(a1,b1))"
   ]
  },
  {
   "cell_type": "code",
   "execution_count": 16,
   "id": "206339c2-b2d0-4ae0-91de-bb7f4154ee51",
   "metadata": {},
   "outputs": [
    {
     "data": {
      "text/plain": [
       "{'name': ['Vijay', '14', 'HPE001', '99', '98', '97', '96', '0', '0'],\n",
       " 'age': ['Aryan', '14', 'HPE002', '98', '91', '93', '96', '0', '0'],\n",
       " 'regid': ['Muni', '14', 'HPE003', '97', '98', '97', '94', '0', '0'],\n",
       " 'phy': ['Abhi', '14', 'HPE004', '96', '93', '97', '95', '0', '0'],\n",
       " 'chem': ['Hemanth', '14', 'HPE005', '94', '91', '93', '96', '0', '0'],\n",
       " 'math': ['Grace', '14', 'HPE006', '94', '95', '96', '97', '0', '0'],\n",
       " 'bio': ['Ankita', '14', 'CAP007', '99', '99', '99', '99', '0', '0'],\n",
       " 'avg': ['John', '14', 'HPE008', '96', '93', '97', '95', '0', '0'],\n",
       " 'rank': ['Chris', '14', 'HPE009', '94', '91', '93', '96', '0', '0']}"
      ]
     },
     "execution_count": 16,
     "metadata": {},
     "output_type": "execute_result"
    }
   ],
   "source": [
    "d1"
   ]
  },
  {
   "cell_type": "code",
   "execution_count": 17,
   "id": "8442ec58-7b64-4622-b3e6-876dd5b17278",
   "metadata": {},
   "outputs": [],
   "source": [
    "d=nested_data"
   ]
  },
  {
   "cell_type": "code",
   "execution_count": 18,
   "id": "3c5e3bb1-aa45-4080-841c-a99f0aec7a75",
   "metadata": {},
   "outputs": [
    {
     "data": {
      "text/plain": [
       "[['name', 'age', 'regid', 'phy', 'chem', 'math', 'bio', 'avg', 'rank'],\n",
       " ['Vijay', '14', 'HPE001', '99', '98', '97', '96', '0', '0'],\n",
       " ['Aryan', '14', 'HPE002', '98', '91', '93', '96', '0', '0'],\n",
       " ['Muni', '14', 'HPE003', '97', '98', '97', '94', '0', '0'],\n",
       " ['Abhi', '14', 'HPE004', '96', '93', '97', '95', '0', '0'],\n",
       " ['Hemanth', '14', 'HPE005', '94', '91', '93', '96', '0', '0'],\n",
       " ['Grace', '14', 'HPE006', '94', '95', '96', '97', '0', '0'],\n",
       " ['Ankita', '14', 'CAP007', '99', '99', '99', '99', '0', '0'],\n",
       " ['John', '14', 'HPE008', '96', '93', '97', '95', '0', '0'],\n",
       " ['Chris', '14', 'HPE009', '94', '91', '93', '96', '0', '0'],\n",
       " ['Grace', '14', 'ORA006', '94', '95', '96', '97', '0', '0'],\n",
       " ['Ankita', '14', 'INF007', '99', '99', '99', '99', '0', '0']]"
      ]
     },
     "execution_count": 18,
     "metadata": {},
     "output_type": "execute_result"
    }
   ],
   "source": [
    "d"
   ]
  },
  {
   "cell_type": "code",
   "execution_count": 19,
   "id": "8c087421-397a-4b4b-8b1c-10b032fbfef1",
   "metadata": {},
   "outputs": [],
   "source": [
    "keys=d[0]"
   ]
  },
  {
   "cell_type": "code",
   "execution_count": 20,
   "id": "e5944925-5c24-422c-9458-fa3db84930ae",
   "metadata": {},
   "outputs": [
    {
     "data": {
      "text/plain": [
       "['name', 'age', 'regid', 'phy', 'chem', 'math', 'bio', 'avg', 'rank']"
      ]
     },
     "execution_count": 20,
     "metadata": {},
     "output_type": "execute_result"
    }
   ],
   "source": [
    "keys"
   ]
  },
  {
   "cell_type": "code",
   "execution_count": null,
   "id": "91cd719f-5a53-4022-a548-5809b132f6df",
   "metadata": {},
   "outputs": [],
   "source": []
  },
  {
   "cell_type": "code",
   "execution_count": 21,
   "id": "42a265f8-54c0-463e-8b31-4ca3a721b97e",
   "metadata": {},
   "outputs": [],
   "source": [
    "d2 = [dict(zip(keys, row)) for row in d[1:]]"
   ]
  },
  {
   "cell_type": "code",
   "execution_count": 22,
   "id": "8b335c05-1f8d-477e-b2a9-a18a2bb353bd",
   "metadata": {},
   "outputs": [
    {
     "data": {
      "text/plain": [
       "[{'name': 'Vijay',\n",
       "  'age': '14',\n",
       "  'regid': 'HPE001',\n",
       "  'phy': '99',\n",
       "  'chem': '98',\n",
       "  'math': '97',\n",
       "  'bio': '96',\n",
       "  'avg': '0',\n",
       "  'rank': '0'},\n",
       " {'name': 'Aryan',\n",
       "  'age': '14',\n",
       "  'regid': 'HPE002',\n",
       "  'phy': '98',\n",
       "  'chem': '91',\n",
       "  'math': '93',\n",
       "  'bio': '96',\n",
       "  'avg': '0',\n",
       "  'rank': '0'},\n",
       " {'name': 'Muni',\n",
       "  'age': '14',\n",
       "  'regid': 'HPE003',\n",
       "  'phy': '97',\n",
       "  'chem': '98',\n",
       "  'math': '97',\n",
       "  'bio': '94',\n",
       "  'avg': '0',\n",
       "  'rank': '0'},\n",
       " {'name': 'Abhi',\n",
       "  'age': '14',\n",
       "  'regid': 'HPE004',\n",
       "  'phy': '96',\n",
       "  'chem': '93',\n",
       "  'math': '97',\n",
       "  'bio': '95',\n",
       "  'avg': '0',\n",
       "  'rank': '0'},\n",
       " {'name': 'Hemanth',\n",
       "  'age': '14',\n",
       "  'regid': 'HPE005',\n",
       "  'phy': '94',\n",
       "  'chem': '91',\n",
       "  'math': '93',\n",
       "  'bio': '96',\n",
       "  'avg': '0',\n",
       "  'rank': '0'},\n",
       " {'name': 'Grace',\n",
       "  'age': '14',\n",
       "  'regid': 'HPE006',\n",
       "  'phy': '94',\n",
       "  'chem': '95',\n",
       "  'math': '96',\n",
       "  'bio': '97',\n",
       "  'avg': '0',\n",
       "  'rank': '0'},\n",
       " {'name': 'Ankita',\n",
       "  'age': '14',\n",
       "  'regid': 'CAP007',\n",
       "  'phy': '99',\n",
       "  'chem': '99',\n",
       "  'math': '99',\n",
       "  'bio': '99',\n",
       "  'avg': '0',\n",
       "  'rank': '0'},\n",
       " {'name': 'John',\n",
       "  'age': '14',\n",
       "  'regid': 'HPE008',\n",
       "  'phy': '96',\n",
       "  'chem': '93',\n",
       "  'math': '97',\n",
       "  'bio': '95',\n",
       "  'avg': '0',\n",
       "  'rank': '0'},\n",
       " {'name': 'Chris',\n",
       "  'age': '14',\n",
       "  'regid': 'HPE009',\n",
       "  'phy': '94',\n",
       "  'chem': '91',\n",
       "  'math': '93',\n",
       "  'bio': '96',\n",
       "  'avg': '0',\n",
       "  'rank': '0'},\n",
       " {'name': 'Grace',\n",
       "  'age': '14',\n",
       "  'regid': 'ORA006',\n",
       "  'phy': '94',\n",
       "  'chem': '95',\n",
       "  'math': '96',\n",
       "  'bio': '97',\n",
       "  'avg': '0',\n",
       "  'rank': '0'},\n",
       " {'name': 'Ankita',\n",
       "  'age': '14',\n",
       "  'regid': 'INF007',\n",
       "  'phy': '99',\n",
       "  'chem': '99',\n",
       "  'math': '99',\n",
       "  'bio': '99',\n",
       "  'avg': '0',\n",
       "  'rank': '0'}]"
      ]
     },
     "execution_count": 22,
     "metadata": {},
     "output_type": "execute_result"
    }
   ],
   "source": [
    "d2"
   ]
  },
  {
   "cell_type": "code",
   "execution_count": 29,
   "id": "d1d00ae1-c1fd-4bbc-a1aa-7512911a262a",
   "metadata": {},
   "outputs": [
    {
     "ename": "AttributeError",
     "evalue": "'list' object has no attribute 'split'",
     "output_type": "error",
     "traceback": [
      "\u001b[1;31m---------------------------------------------------------------------------\u001b[0m",
      "\u001b[1;31mAttributeError\u001b[0m                            Traceback (most recent call last)",
      "Cell \u001b[1;32mIn[29], line 4\u001b[0m\n\u001b[0;32m      1\u001b[0m class_dict \u001b[38;5;241m=\u001b[39m {}\n\u001b[0;32m      3\u001b[0m \u001b[38;5;66;03m# Extract keys (column names)\u001b[39;00m\n\u001b[1;32m----> 4\u001b[0m columns \u001b[38;5;241m=\u001b[39m [item\u001b[38;5;241m.\u001b[39mstrip() \u001b[38;5;28;01mfor\u001b[39;00m item \u001b[38;5;129;01min\u001b[39;00m d[\u001b[38;5;241m0\u001b[39m]\u001b[38;5;241m.\u001b[39msplit(\u001b[38;5;124m'\u001b[39m\u001b[38;5;124m,\u001b[39m\u001b[38;5;124m'\u001b[39m)]  \n\u001b[0;32m      6\u001b[0m \u001b[38;5;66;03m# Iterate through student data\u001b[39;00m\n\u001b[0;32m      7\u001b[0m \u001b[38;5;28;01mfor\u001b[39;00m dataitem \u001b[38;5;129;01min\u001b[39;00m d[\u001b[38;5;241m1\u001b[39m:]:\n",
      "\u001b[1;31mAttributeError\u001b[0m: 'list' object has no attribute 'split'"
     ]
    }
   ],
   "source": [
    "class_dict = {}\n",
    "\n",
    "# Extract keys (column names)\n",
    "columns = [item.strip() for item in d[0].split(',')]  \n",
    "\n",
    "# Iterate through student data\n",
    "for dataitem in d[1:]:\n",
    "    values = [item.strip() for item in dataitem.split(',')]  # Extract values\n",
    "    student_dict = dict(zip(columns, values))  # Map column names to values\n",
    "    class_dict[student_dict['regid']] = student_dict  # Use 'regid' as dictionary key\n",
    "\n",
    "# Print the final dictionary\n",
    "import pprint\n",
    "pprint.pprint(class_dict)\n"
   ]
  },
  {
   "cell_type": "code",
   "execution_count": 30,
   "id": "eabb9217-2dc2-4c03-9740-bc7d83f54ee1",
   "metadata": {},
   "outputs": [
    {
     "name": "stdout",
     "output_type": "stream",
     "text": [
      "{'HPE001': {'name': 'Vijay', 'age': '14', 'regid': 'HPE001', 'phy': '99', 'chem': '98', 'math': '97', 'bio': '96', 'avg': '0', 'rank': '0'}, 'HPE002': {'name': 'Aryan', 'age': '14', 'regid': 'HPE002', 'phy': '98', 'chem': '91', 'math': '93', 'bio': '96', 'avg': '0', 'rank': '0'}, 'HPE003': {'name': 'Muni', 'age': '14', 'regid': 'HPE003', 'phy': '97', 'chem': '98', 'math': '97', 'bio': '94', 'avg': '0', 'rank': '0'}, 'HPE004': {'name': 'Abhi', 'age': '14', 'regid': 'HPE004', 'phy': '96', 'chem': '93', 'math': '97', 'bio': '95', 'avg': '0', 'rank': '0'}, 'HPE005': {'name': 'Hemanth', 'age': '14', 'regid': 'HPE005', 'phy': '94', 'chem': '91', 'math': '93', 'bio': '96', 'avg': '0', 'rank': '0'}, 'HPE006': {'name': 'Grace', 'age': '14', 'regid': 'HPE006', 'phy': '94', 'chem': '95', 'math': '96', 'bio': '97', 'avg': '0', 'rank': '0'}, 'CAP007': {'name': 'Ankita', 'age': '14', 'regid': 'CAP007', 'phy': '99', 'chem': '99', 'math': '99', 'bio': '99', 'avg': '0', 'rank': '0'}, 'HPE008': {'name': 'John', 'age': '14', 'regid': 'HPE008', 'phy': '96', 'chem': '93', 'math': '97', 'bio': '95', 'avg': '0', 'rank': '0'}, 'HPE009': {'name': 'Chris', 'age': '14', 'regid': 'HPE009', 'phy': '94', 'chem': '91', 'math': '93', 'bio': '96', 'avg': '0', 'rank': '0'}, 'ORA006': {'name': 'Grace', 'age': '14', 'regid': 'ORA006', 'phy': '94', 'chem': '95', 'math': '96', 'bio': '97', 'avg': '0', 'rank': '0'}, 'INF007': {'name': 'Ankita', 'age': '14', 'regid': 'INF007', 'phy': '99', 'chem': '99', 'math': '99', 'bio': '99', 'avg': '0', 'rank': '0'}}\n"
     ]
    }
   ],
   "source": [
    "class_dict = {}\n",
    "\n",
    "# Extract keys (column names) directly\n",
    "columns = d[0]  # No need to split, d[0] is already a list\n",
    "\n",
    "# Iterate through student data\n",
    "for dataitem in d[1:]:\n",
    "    student_dict = dict(zip(columns, dataitem))  # Map column names to values\n",
    "    class_dict[student_dict['regid']] = student_dict  # Use 'regid' as dictionary key\n",
    "\n",
    "# Print the final dictionary\n",
    "\n",
    "print(class_dict)\n"
   ]
  },
  {
   "cell_type": "code",
   "execution_count": 25,
   "id": "5c43c436-848d-41c6-9a7a-45f2603244da",
   "metadata": {},
   "outputs": [
    {
     "name": "stdout",
     "output_type": "stream",
     "text": [
      "{'CAP007': {'age': '14',\n",
      "            'avg': 99.0,\n",
      "            'bio': '99',\n",
      "            'chem': '99',\n",
      "            'math': '99',\n",
      "            'name': 'Ankita',\n",
      "            'phy': '99',\n",
      "            'rank': 1,\n",
      "            'regid': 'CAP007',\n",
      "            'total': 396},\n",
      " 'HPE001': {'age': '14',\n",
      "            'avg': 97.5,\n",
      "            'bio': '96',\n",
      "            'chem': '98',\n",
      "            'math': '97',\n",
      "            'name': 'Vijay',\n",
      "            'phy': '99',\n",
      "            'rank': 3,\n",
      "            'regid': 'HPE001',\n",
      "            'total': 390},\n",
      " 'HPE002': {'age': '14',\n",
      "            'avg': 94.5,\n",
      "            'bio': '96',\n",
      "            'chem': '91',\n",
      "            'math': '93',\n",
      "            'name': 'Aryan',\n",
      "            'phy': '98',\n",
      "            'rank': 9,\n",
      "            'regid': 'HPE002',\n",
      "            'total': 378},\n",
      " 'HPE003': {'age': '14',\n",
      "            'avg': 96.5,\n",
      "            'bio': '94',\n",
      "            'chem': '98',\n",
      "            'math': '97',\n",
      "            'name': 'Muni',\n",
      "            'phy': '97',\n",
      "            'rank': 4,\n",
      "            'regid': 'HPE003',\n",
      "            'total': 386},\n",
      " 'HPE004': {'age': '14',\n",
      "            'avg': 95.25,\n",
      "            'bio': '95',\n",
      "            'chem': '93',\n",
      "            'math': '97',\n",
      "            'name': 'Abhi',\n",
      "            'phy': '96',\n",
      "            'rank': 7,\n",
      "            'regid': 'HPE004',\n",
      "            'total': 381},\n",
      " 'HPE005': {'age': '14',\n",
      "            'avg': 93.5,\n",
      "            'bio': '96',\n",
      "            'chem': '91',\n",
      "            'math': '93',\n",
      "            'name': 'Hemanth',\n",
      "            'phy': '94',\n",
      "            'rank': 10,\n",
      "            'regid': 'HPE005',\n",
      "            'total': 374},\n",
      " 'HPE006': {'age': '14',\n",
      "            'avg': 95.5,\n",
      "            'bio': '97',\n",
      "            'chem': '95',\n",
      "            'math': '96',\n",
      "            'name': 'Grace',\n",
      "            'phy': '94',\n",
      "            'rank': 5,\n",
      "            'regid': 'HPE006',\n",
      "            'total': 382},\n",
      " 'HPE008': {'age': '14',\n",
      "            'avg': 95.25,\n",
      "            'bio': '95',\n",
      "            'chem': '93',\n",
      "            'math': '97',\n",
      "            'name': 'John',\n",
      "            'phy': '96',\n",
      "            'rank': 7,\n",
      "            'regid': 'HPE008',\n",
      "            'total': 381},\n",
      " 'HPE009': {'age': '14',\n",
      "            'avg': 93.5,\n",
      "            'bio': '96',\n",
      "            'chem': '91',\n",
      "            'math': '93',\n",
      "            'name': 'Chris',\n",
      "            'phy': '94',\n",
      "            'rank': 10,\n",
      "            'regid': 'HPE009',\n",
      "            'total': 374},\n",
      " 'INF007': {'age': '14',\n",
      "            'avg': 99.0,\n",
      "            'bio': '99',\n",
      "            'chem': '99',\n",
      "            'math': '99',\n",
      "            'name': 'Ankita',\n",
      "            'phy': '99',\n",
      "            'rank': 1,\n",
      "            'regid': 'INF007',\n",
      "            'total': 396},\n",
      " 'ORA006': {'age': '14',\n",
      "            'avg': 95.5,\n",
      "            'bio': '97',\n",
      "            'chem': '95',\n",
      "            'math': '96',\n",
      "            'name': 'Grace',\n",
      "            'phy': '94',\n",
      "            'rank': 5,\n",
      "            'regid': 'ORA006',\n",
      "            'total': 382}}\n"
     ]
    }
   ],
   "source": []
  },
  {
   "cell_type": "code",
   "execution_count": 26,
   "id": "efa400fb-356b-4c62-929e-6428f611197e",
   "metadata": {},
   "outputs": [
    {
     "name": "stdout",
     "output_type": "stream",
     "text": [
      "{'HPE001': {'name': 'Vijay', 'age': '14', 'regid': 'HPE001', 'phy': '99', 'chem': '98', 'math': '97', 'bio': '96', 'avg': 97.5, 'rank': 3, 'total': 390}, 'HPE002': {'name': 'Aryan', 'age': '14', 'regid': 'HPE002', 'phy': '98', 'chem': '91', 'math': '93', 'bio': '96', 'avg': 94.5, 'rank': 9, 'total': 378}, 'HPE003': {'name': 'Muni', 'age': '14', 'regid': 'HPE003', 'phy': '97', 'chem': '98', 'math': '97', 'bio': '94', 'avg': 96.5, 'rank': 4, 'total': 386}, 'HPE004': {'name': 'Abhi', 'age': '14', 'regid': 'HPE004', 'phy': '96', 'chem': '93', 'math': '97', 'bio': '95', 'avg': 95.25, 'rank': 7, 'total': 381}, 'HPE005': {'name': 'Hemanth', 'age': '14', 'regid': 'HPE005', 'phy': '94', 'chem': '91', 'math': '93', 'bio': '96', 'avg': 93.5, 'rank': 10, 'total': 374}, 'HPE006': {'name': 'Grace', 'age': '14', 'regid': 'HPE006', 'phy': '94', 'chem': '95', 'math': '96', 'bio': '97', 'avg': 95.5, 'rank': 5, 'total': 382}, 'CAP007': {'name': 'Ankita', 'age': '14', 'regid': 'CAP007', 'phy': '99', 'chem': '99', 'math': '99', 'bio': '99', 'avg': 99.0, 'rank': 1, 'total': 396}, 'HPE008': {'name': 'John', 'age': '14', 'regid': 'HPE008', 'phy': '96', 'chem': '93', 'math': '97', 'bio': '95', 'avg': 95.25, 'rank': 7, 'total': 381}, 'HPE009': {'name': 'Chris', 'age': '14', 'regid': 'HPE009', 'phy': '94', 'chem': '91', 'math': '93', 'bio': '96', 'avg': 93.5, 'rank': 10, 'total': 374}, 'ORA006': {'name': 'Grace', 'age': '14', 'regid': 'ORA006', 'phy': '94', 'chem': '95', 'math': '96', 'bio': '97', 'avg': 95.5, 'rank': 5, 'total': 382}, 'INF007': {'name': 'Ankita', 'age': '14', 'regid': 'INF007', 'phy': '99', 'chem': '99', 'math': '99', 'bio': '99', 'avg': 99.0, 'rank': 1, 'total': 396}}\n"
     ]
    }
   ],
   "source": [
    "print(class_dict)"
   ]
  },
  {
   "cell_type": "code",
   "execution_count": null,
   "id": "0dc2a6dd-9958-4e09-accd-de058b5b3e63",
   "metadata": {},
   "outputs": [],
   "source": [
    "import pprint\n",
    "pprint.pprint(class_dict)"
   ]
  },
  {
   "cell_type": "code",
   "execution_count": 27,
   "id": "45917443-49ad-4161-b7b6-caf6984f9bcd",
   "metadata": {},
   "outputs": [
    {
     "data": {
      "text/plain": [
       "{'HPE001': {'name': 'Vijay',\n",
       "  'age': '14',\n",
       "  'regid': 'HPE001',\n",
       "  'phy': '99',\n",
       "  'chem': '98',\n",
       "  'math': '97',\n",
       "  'bio': '96',\n",
       "  'avg': 97.5,\n",
       "  'rank': 3,\n",
       "  'total': 390},\n",
       " 'HPE002': {'name': 'Aryan',\n",
       "  'age': '14',\n",
       "  'regid': 'HPE002',\n",
       "  'phy': '98',\n",
       "  'chem': '91',\n",
       "  'math': '93',\n",
       "  'bio': '96',\n",
       "  'avg': 94.5,\n",
       "  'rank': 9,\n",
       "  'total': 378},\n",
       " 'HPE003': {'name': 'Muni',\n",
       "  'age': '14',\n",
       "  'regid': 'HPE003',\n",
       "  'phy': '97',\n",
       "  'chem': '98',\n",
       "  'math': '97',\n",
       "  'bio': '94',\n",
       "  'avg': 96.5,\n",
       "  'rank': 4,\n",
       "  'total': 386},\n",
       " 'HPE004': {'name': 'Abhi',\n",
       "  'age': '14',\n",
       "  'regid': 'HPE004',\n",
       "  'phy': '96',\n",
       "  'chem': '93',\n",
       "  'math': '97',\n",
       "  'bio': '95',\n",
       "  'avg': 95.25,\n",
       "  'rank': 7,\n",
       "  'total': 381},\n",
       " 'HPE005': {'name': 'Hemanth',\n",
       "  'age': '14',\n",
       "  'regid': 'HPE005',\n",
       "  'phy': '94',\n",
       "  'chem': '91',\n",
       "  'math': '93',\n",
       "  'bio': '96',\n",
       "  'avg': 93.5,\n",
       "  'rank': 10,\n",
       "  'total': 374},\n",
       " 'HPE006': {'name': 'Grace',\n",
       "  'age': '14',\n",
       "  'regid': 'HPE006',\n",
       "  'phy': '94',\n",
       "  'chem': '95',\n",
       "  'math': '96',\n",
       "  'bio': '97',\n",
       "  'avg': 95.5,\n",
       "  'rank': 5,\n",
       "  'total': 382},\n",
       " 'CAP007': {'name': 'Ankita',\n",
       "  'age': '14',\n",
       "  'regid': 'CAP007',\n",
       "  'phy': '99',\n",
       "  'chem': '99',\n",
       "  'math': '99',\n",
       "  'bio': '99',\n",
       "  'avg': 99.0,\n",
       "  'rank': 1,\n",
       "  'total': 396},\n",
       " 'HPE008': {'name': 'John',\n",
       "  'age': '14',\n",
       "  'regid': 'HPE008',\n",
       "  'phy': '96',\n",
       "  'chem': '93',\n",
       "  'math': '97',\n",
       "  'bio': '95',\n",
       "  'avg': 95.25,\n",
       "  'rank': 7,\n",
       "  'total': 381},\n",
       " 'HPE009': {'name': 'Chris',\n",
       "  'age': '14',\n",
       "  'regid': 'HPE009',\n",
       "  'phy': '94',\n",
       "  'chem': '91',\n",
       "  'math': '93',\n",
       "  'bio': '96',\n",
       "  'avg': 93.5,\n",
       "  'rank': 10,\n",
       "  'total': 374},\n",
       " 'ORA006': {'name': 'Grace',\n",
       "  'age': '14',\n",
       "  'regid': 'ORA006',\n",
       "  'phy': '94',\n",
       "  'chem': '95',\n",
       "  'math': '96',\n",
       "  'bio': '97',\n",
       "  'avg': 95.5,\n",
       "  'rank': 5,\n",
       "  'total': 382},\n",
       " 'INF007': {'name': 'Ankita',\n",
       "  'age': '14',\n",
       "  'regid': 'INF007',\n",
       "  'phy': '99',\n",
       "  'chem': '99',\n",
       "  'math': '99',\n",
       "  'bio': '99',\n",
       "  'avg': 99.0,\n",
       "  'rank': 1,\n",
       "  'total': 396}}"
      ]
     },
     "execution_count": 27,
     "metadata": {},
     "output_type": "execute_result"
    }
   ],
   "source": [
    "class_dict"
   ]
  },
  {
   "cell_type": "code",
   "execution_count": 28,
   "id": "43befa93-8d10-4050-a339-dcb7b09e00fe",
   "metadata": {},
   "outputs": [
    {
     "data": {
      "text/plain": [
       "{'name': 'Ankita',\n",
       " 'age': '14',\n",
       " 'regid': 'INF007',\n",
       " 'phy': '99',\n",
       " 'chem': '99',\n",
       " 'math': '99',\n",
       " 'bio': '99',\n",
       " 'avg': 99.0,\n",
       " 'rank': 1,\n",
       " 'total': 396}"
      ]
     },
     "execution_count": 28,
     "metadata": {},
     "output_type": "execute_result"
    }
   ],
   "source": [
    "student_dict"
   ]
  },
  {
   "cell_type": "raw",
   "id": "405c8c7c-a487-4218-93d0-ae311a38a44d",
   "metadata": {},
   "source": [
    "import pprint\n",
    "\n",
    "f=open(path)\n",
    "content = f.readlines()\n",
    "f.close()\n",
    "c=[item.strip(\"\\n\") for item in content]\n",
    "\n",
    "# Step 1: Create a dictionary (class_dict) using 'regid' as key.\n",
    "class_dict = {}\n",
    "columns = d[0]  # The first row contains the column headers\n",
    "c=[item.strip(\"\\n\") for item in content]\n",
    "nested_data = [row.split(\",\") for row in c]\n",
    "\n",
    "for row in d[1:]:\n",
    "    student_dict = dict(zip(columns, row))\n",
    "    class_dict[student_dict['regid']] = student_dict\n",
    "\n",
    "# Step 2: Calculate total and average marks for each student.\n",
    "for regid, student in class_dict.items():\n",
    "    # Sum the marks for the subjects: 'phy', 'chem', 'math', 'bio'\n",
    "    total_marks = sum(int(student[sub]) for sub in ['phy', 'chem', 'math', 'bio'])\n",
    "    avg_marks = total_marks / 4  # Compute the average\n",
    "\n",
    "    # Add total and average to the student's dictionary\n",
    "    student['total'] = total_marks\n",
    "    student['avg'] = round(avg_marks, 2)\n",
    "\n",
    "# Step 3: Sort students by total marks in descending order and assign ranks.\n",
    "sorted_students = sorted(class_dict.items(), key=lambda x: x[1]['total'], reverse=True)\n",
    "rank = 1\n",
    "prev_total = None\n",
    "\n",
    "for index, (regid, student) in enumerate(sorted_students, start=1):\n",
    "    # If current student's total marks are different, update the rank.\n",
    "    if student['total'] != prev_total:\n",
    "        rank = index\n",
    "    student['rank'] = rank\n",
    "    prev_total = student['total']\n",
    "\n",
    "# Step 4: Print the final dictionary with total, average, and rank.\n",
    "pprint.pprint(class_dict)\n"
   ]
  },
  {
   "cell_type": "code",
   "execution_count": 39,
   "id": "044f5e2f-d535-452d-8822-1dde2679d684",
   "metadata": {},
   "outputs": [
    {
     "name": "stdout",
     "output_type": "stream",
     "text": [
      "{'CAP007': {'age': '14',\n",
      "            'avg': 99.0,\n",
      "            'bio': '99',\n",
      "            'chem': '99',\n",
      "            'math': '99',\n",
      "            'name': 'Ankita',\n",
      "            'phy': '99',\n",
      "            'rank': 1,\n",
      "            'regid': 'CAP007',\n",
      "            'total': 396},\n",
      " 'HPE001': {'age': '14',\n",
      "            'avg': 97.5,\n",
      "            'bio': '96',\n",
      "            'chem': '98',\n",
      "            'math': '97',\n",
      "            'name': 'Vijay',\n",
      "            'phy': '99',\n",
      "            'rank': 3,\n",
      "            'regid': 'HPE001',\n",
      "            'total': 390},\n",
      " 'HPE002': {'age': '14',\n",
      "            'avg': 94.5,\n",
      "            'bio': '96',\n",
      "            'chem': '91',\n",
      "            'math': '93',\n",
      "            'name': 'Aryan',\n",
      "            'phy': '98',\n",
      "            'rank': 9,\n",
      "            'regid': 'HPE002',\n",
      "            'total': 378},\n",
      " 'HPE003': {'age': '14',\n",
      "            'avg': 96.5,\n",
      "            'bio': '94',\n",
      "            'chem': '98',\n",
      "            'math': '97',\n",
      "            'name': 'Muni',\n",
      "            'phy': '97',\n",
      "            'rank': 4,\n",
      "            'regid': 'HPE003',\n",
      "            'total': 386},\n",
      " 'HPE004': {'age': '14',\n",
      "            'avg': 95.25,\n",
      "            'bio': '95',\n",
      "            'chem': '93',\n",
      "            'math': '97',\n",
      "            'name': 'Abhi',\n",
      "            'phy': '96',\n",
      "            'rank': 7,\n",
      "            'regid': 'HPE004',\n",
      "            'total': 381},\n",
      " 'HPE005': {'age': '14',\n",
      "            'avg': 93.5,\n",
      "            'bio': '96',\n",
      "            'chem': '91',\n",
      "            'math': '93',\n",
      "            'name': 'Hemanth',\n",
      "            'phy': '94',\n",
      "            'rank': 10,\n",
      "            'regid': 'HPE005',\n",
      "            'total': 374},\n",
      " 'HPE006': {'age': '14',\n",
      "            'avg': 95.5,\n",
      "            'bio': '97',\n",
      "            'chem': '95',\n",
      "            'math': '96',\n",
      "            'name': 'Grace',\n",
      "            'phy': '94',\n",
      "            'rank': 5,\n",
      "            'regid': 'HPE006',\n",
      "            'total': 382},\n",
      " 'HPE008': {'age': '14',\n",
      "            'avg': 95.25,\n",
      "            'bio': '95',\n",
      "            'chem': '93',\n",
      "            'math': '97',\n",
      "            'name': 'John',\n",
      "            'phy': '96',\n",
      "            'rank': 7,\n",
      "            'regid': 'HPE008',\n",
      "            'total': 381},\n",
      " 'HPE009': {'age': '14',\n",
      "            'avg': 93.5,\n",
      "            'bio': '96',\n",
      "            'chem': '91',\n",
      "            'math': '93',\n",
      "            'name': 'Chris',\n",
      "            'phy': '94',\n",
      "            'rank': 10,\n",
      "            'regid': 'HPE009',\n",
      "            'total': 374},\n",
      " 'INF007': {'age': '14',\n",
      "            'avg': 99.0,\n",
      "            'bio': '99',\n",
      "            'chem': '99',\n",
      "            'math': '99',\n",
      "            'name': 'Ankita',\n",
      "            'phy': '99',\n",
      "            'rank': 1,\n",
      "            'regid': 'INF007',\n",
      "            'total': 396},\n",
      " 'ORA006': {'age': '14',\n",
      "            'avg': 95.5,\n",
      "            'bio': '97',\n",
      "            'chem': '95',\n",
      "            'math': '96',\n",
      "            'name': 'Grace',\n",
      "            'phy': '94',\n",
      "            'rank': 5,\n",
      "            'regid': 'ORA006',\n",
      "            'total': 382}}\n"
     ]
    }
   ],
   "source": [
    "import pprint\n",
    "\n",
    "# Open the file (assuming 'path' is defined)\n",
    "with open(path, 'r') as f:\n",
    "    content = f.readlines()\n",
    "\n",
    "# Remove newline characters and create a list of strings\n",
    "lines = [line.strip(\"\\n\") for line in content]\n",
    "\n",
    "# Convert each line into a list of values by splitting on commas\n",
    "nested_data = [line.split(\",\") for line in lines]\n",
    "\n",
    "# Step 1: Create a dictionary (class_dict) using 'regid' as key.\n",
    "class_dict = {}\n",
    "columns = nested_data[0]  # The first row contains the column headers\n",
    "\n",
    "# Use the remaining rows to create student dictionaries\n",
    "for row in nested_data[1:]:\n",
    "    student_dict = dict(zip(columns, row))\n",
    "    class_dict[student_dict['regid']] = student_dict\n",
    "\n",
    "# Step 2: Calculate total and average marks for each student.\n",
    "for regid, student in class_dict.items():\n",
    "    # Sum the marks for the subjects: 'phy', 'chem', 'math', 'bio'\n",
    "    total_marks = sum(int(student[sub]) for sub in ['phy', 'chem', 'math', 'bio'])\n",
    "    avg_marks = total_marks / 4  # Compute the average\n",
    "\n",
    "    # Add total and average to the student's dictionary\n",
    "    student['total'] = total_marks\n",
    "    student['avg'] = round(avg_marks, 2)\n",
    "\n",
    "# Step 3: Sort students by total marks in descending order and assign ranks.\n",
    "sorted_students = sorted(class_dict.items(), key=lambda x: x[1]['total'], reverse=True)\n",
    "rank = 1\n",
    "prev_total = None\n",
    "\n",
    "for index, (regid, student) in enumerate(sorted_students, start=1):\n",
    "    # If the current student's total marks differ from the previous, update the rank.\n",
    "    if student['total'] != prev_total:\n",
    "        rank = index\n",
    "    student['rank'] = rank\n",
    "    prev_total = student['total']\n",
    "\n",
    "# Step 4: Print the final dictionary with total, average, and rank.\n",
    "pprint.pprint(class_dict)\n"
   ]
  },
  {
   "cell_type": "raw",
   "id": "ece5d661-e08a-4236-a1f8-27cb2e6a1c4c",
   "metadata": {},
   "source": [
    "for regid, student_data in class_dict.items():\n",
    "    print(f\"Reg ID: {regid}\")\n",
    "    for key, value in student_data.items():\n",
    "        print(f\"   {key}: {value}\")\n",
    "Output:\n",
    "yaml\n",
    "Copy\n",
    "Edit\n",
    "Reg ID: HPE001\n",
    "   name: Vijay\n",
    "   total: 390\n",
    "   rank: 3\n",
    "Reg ID: HPE002\n",
    "   name: Aryan\n",
    "   total: 378\n",
    "   rank: 9\n",
    "Reg ID: HPE003\n",
    "   name: Muni\n",
    "   total: 386\n",
    "   rank: 4\n",
    "2. Using items() to Access Keys and Values\n",
    "If you need to get both keys and values, you can use:\n",
    "\n",
    "python\n",
    "Copy\n",
    "Edit\n",
    "for regid, student in class_dict.items():\n",
    "    print(f\"Student {student['name']} has total marks: {student['total']} and rank: {student['rank']}\")\n",
    "Output:\n",
    "yaml\n",
    "Copy\n",
    "Edit\n",
    "Student Vijay has total marks: 390 and rank: 3\n",
    "Student Aryan has total marks: 378 and rank: 9\n",
    "Student Muni has total marks: 386 and rank: 4\n",
    "3. Accessing Only Specific Keys in Nested Dictionary\n",
    "If you want to iterate only over selected keys inside the nested dictionary, use:\n",
    "\n",
    "python\n",
    "Copy\n",
    "Edit\n",
    "for regid, student in class_dict.items():\n",
    "    print(f\"Reg ID: {regid} - Total Marks: {student.get('total', 'N/A')}\")\n",
    "This ensures that even if the key 'total' is missing, it won't throw an error.\n",
    "\n",
    "4. Iterating Through Nested Dictionary and Modifying Values\n",
    "You can also update the nested dictionary while iterating:\n",
    "\n",
    "python\n",
    "Copy\n",
    "Edit\n",
    "for regid, student in class_dict.items():\n",
    "    student['status'] = 'Passed' if student['total'] >= 380 else 'Failed'\n",
    "\n",
    "pprint.pprint(class_dict)\n",
    "This will add a \"status\" field for each student.\n",
    "\n",
    "Would you like to extract or manipulate any specific data from your nested dictionary? 🚀\n",
    "\n",
    "\n",
    "\n",
    "\n",
    "\n",
    "\n",
    "\n",
    "\n"
   ]
  },
  {
   "cell_type": "code",
   "execution_count": 43,
   "id": "fb695df6-d3de-4280-af65-a5324390dfbe",
   "metadata": {},
   "outputs": [
    {
     "name": "stdout",
     "output_type": "stream",
     "text": [
      "Reg ID: HPE001\n",
      "'   name: Vijay'\n",
      "'   age: 14'\n",
      "'   regid: HPE001'\n",
      "'   phy: 99'\n",
      "'   chem: 98'\n",
      "'   math: 97'\n",
      "'   bio: 96'\n",
      "'   avg: 97.5'\n",
      "'   rank: 3'\n",
      "'   total: 390'\n",
      "Reg ID: HPE002\n",
      "'   name: Aryan'\n",
      "'   age: 14'\n",
      "'   regid: HPE002'\n",
      "'   phy: 98'\n",
      "'   chem: 91'\n",
      "'   math: 93'\n",
      "'   bio: 96'\n",
      "'   avg: 94.5'\n",
      "'   rank: 9'\n",
      "'   total: 378'\n",
      "Reg ID: HPE003\n",
      "'   name: Muni'\n",
      "'   age: 14'\n",
      "'   regid: HPE003'\n",
      "'   phy: 97'\n",
      "'   chem: 98'\n",
      "'   math: 97'\n",
      "'   bio: 94'\n",
      "'   avg: 96.5'\n",
      "'   rank: 4'\n",
      "'   total: 386'\n",
      "Reg ID: HPE004\n",
      "'   name: Abhi'\n",
      "'   age: 14'\n",
      "'   regid: HPE004'\n",
      "'   phy: 96'\n",
      "'   chem: 93'\n",
      "'   math: 97'\n",
      "'   bio: 95'\n",
      "'   avg: 95.25'\n",
      "'   rank: 7'\n",
      "'   total: 381'\n",
      "Reg ID: HPE005\n",
      "'   name: Hemanth'\n",
      "'   age: 14'\n",
      "'   regid: HPE005'\n",
      "'   phy: 94'\n",
      "'   chem: 91'\n",
      "'   math: 93'\n",
      "'   bio: 96'\n",
      "'   avg: 93.5'\n",
      "'   rank: 10'\n",
      "'   total: 374'\n",
      "Reg ID: HPE006\n",
      "'   name: Grace'\n",
      "'   age: 14'\n",
      "'   regid: HPE006'\n",
      "'   phy: 94'\n",
      "'   chem: 95'\n",
      "'   math: 96'\n",
      "'   bio: 97'\n",
      "'   avg: 95.5'\n",
      "'   rank: 5'\n",
      "'   total: 382'\n",
      "Reg ID: CAP007\n",
      "'   name: Ankita'\n",
      "'   age: 14'\n",
      "'   regid: CAP007'\n",
      "'   phy: 99'\n",
      "'   chem: 99'\n",
      "'   math: 99'\n",
      "'   bio: 99'\n",
      "'   avg: 99.0'\n",
      "'   rank: 1'\n",
      "'   total: 396'\n",
      "Reg ID: HPE008\n",
      "'   name: John'\n",
      "'   age: 14'\n",
      "'   regid: HPE008'\n",
      "'   phy: 96'\n",
      "'   chem: 93'\n",
      "'   math: 97'\n",
      "'   bio: 95'\n",
      "'   avg: 95.25'\n",
      "'   rank: 7'\n",
      "'   total: 381'\n",
      "Reg ID: HPE009\n",
      "'   name: Chris'\n",
      "'   age: 14'\n",
      "'   regid: HPE009'\n",
      "'   phy: 94'\n",
      "'   chem: 91'\n",
      "'   math: 93'\n",
      "'   bio: 96'\n",
      "'   avg: 93.5'\n",
      "'   rank: 10'\n",
      "'   total: 374'\n",
      "Reg ID: ORA006\n",
      "'   name: Grace'\n",
      "'   age: 14'\n",
      "'   regid: ORA006'\n",
      "'   phy: 94'\n",
      "'   chem: 95'\n",
      "'   math: 96'\n",
      "'   bio: 97'\n",
      "'   avg: 95.5'\n",
      "'   rank: 5'\n",
      "'   total: 382'\n",
      "Reg ID: INF007\n",
      "'   name: Ankita'\n",
      "'   age: 14'\n",
      "'   regid: INF007'\n",
      "'   phy: 99'\n",
      "'   chem: 99'\n",
      "'   math: 99'\n",
      "'   bio: 99'\n",
      "'   avg: 99.0'\n",
      "'   rank: 1'\n",
      "'   total: 396'\n"
     ]
    }
   ],
   "source": [
    "import pprint\n",
    "for regid, student_data in class_dict.items():\n",
    "    print(f\"Reg ID: {regid}\")\n",
    "    for key, value in student_data.items():\n",
    "       pprint.pprint(f\"   {key}: {value}\")\n",
    "\n",
    "\n",
    "\n",
    "\n",
    "\n",
    "\n",
    "\n",
    "\n"
   ]
  },
  {
   "cell_type": "code",
   "execution_count": 45,
   "id": "18a9bf05-3e70-4bdc-9f58-5191edc5ad15",
   "metadata": {},
   "outputs": [
    {
     "name": "stdout",
     "output_type": "stream",
     "text": [
      "{'name': 'Vijay', 'age': '14', 'regid': 'HPE001', 'phy': '99', 'chem': '98', 'math': '97', 'bio': '96', 'avg': 97.5, 'rank': 3, 'total': 390}\n",
      "{'name': 'Aryan', 'age': '14', 'regid': 'HPE002', 'phy': '98', 'chem': '91', 'math': '93', 'bio': '96', 'avg': 94.5, 'rank': 9, 'total': 378}\n",
      "{'name': 'Muni', 'age': '14', 'regid': 'HPE003', 'phy': '97', 'chem': '98', 'math': '97', 'bio': '94', 'avg': 96.5, 'rank': 4, 'total': 386}\n",
      "{'name': 'Abhi', 'age': '14', 'regid': 'HPE004', 'phy': '96', 'chem': '93', 'math': '97', 'bio': '95', 'avg': 95.25, 'rank': 7, 'total': 381}\n",
      "{'name': 'Hemanth', 'age': '14', 'regid': 'HPE005', 'phy': '94', 'chem': '91', 'math': '93', 'bio': '96', 'avg': 93.5, 'rank': 10, 'total': 374}\n",
      "{'name': 'Grace', 'age': '14', 'regid': 'HPE006', 'phy': '94', 'chem': '95', 'math': '96', 'bio': '97', 'avg': 95.5, 'rank': 5, 'total': 382}\n",
      "{'name': 'Ankita', 'age': '14', 'regid': 'CAP007', 'phy': '99', 'chem': '99', 'math': '99', 'bio': '99', 'avg': 99.0, 'rank': 1, 'total': 396}\n",
      "{'name': 'John', 'age': '14', 'regid': 'HPE008', 'phy': '96', 'chem': '93', 'math': '97', 'bio': '95', 'avg': 95.25, 'rank': 7, 'total': 381}\n",
      "{'name': 'Chris', 'age': '14', 'regid': 'HPE009', 'phy': '94', 'chem': '91', 'math': '93', 'bio': '96', 'avg': 93.5, 'rank': 10, 'total': 374}\n",
      "{'name': 'Grace', 'age': '14', 'regid': 'ORA006', 'phy': '94', 'chem': '95', 'math': '96', 'bio': '97', 'avg': 95.5, 'rank': 5, 'total': 382}\n",
      "{'name': 'Ankita', 'age': '14', 'regid': 'INF007', 'phy': '99', 'chem': '99', 'math': '99', 'bio': '99', 'avg': 99.0, 'rank': 1, 'total': 396}\n"
     ]
    }
   ],
   "source": [
    "for regid, student_data in class_dict.items():\n",
    "    print(student_data)"
   ]
  },
  {
   "cell_type": "code",
   "execution_count": 48,
   "id": "e6cf38c9-8e66-457c-bf08-fe57983774ea",
   "metadata": {},
   "outputs": [
    {
     "name": "stdout",
     "output_type": "stream",
     "text": [
      "{'name': 'Vijay', 'age': '14', 'regid': 'HPE001', 'phy': '99', 'chem': '98', 'math': '97', 'bio': '96', 'avg': 97.5, 'rank': 3, 'total': 390}\n",
      "{'name': 'Aryan', 'age': '14', 'regid': 'HPE002', 'phy': '98', 'chem': '91', 'math': '93', 'bio': '96', 'avg': 94.5, 'rank': 9, 'total': 378}\n",
      "{'name': 'Muni', 'age': '14', 'regid': 'HPE003', 'phy': '97', 'chem': '98', 'math': '97', 'bio': '94', 'avg': 96.5, 'rank': 4, 'total': 386}\n",
      "{'name': 'Abhi', 'age': '14', 'regid': 'HPE004', 'phy': '96', 'chem': '93', 'math': '97', 'bio': '95', 'avg': 95.25, 'rank': 7, 'total': 381}\n",
      "{'name': 'Hemanth', 'age': '14', 'regid': 'HPE005', 'phy': '94', 'chem': '91', 'math': '93', 'bio': '96', 'avg': 93.5, 'rank': 10, 'total': 374}\n",
      "{'name': 'Grace', 'age': '14', 'regid': 'HPE006', 'phy': '94', 'chem': '95', 'math': '96', 'bio': '97', 'avg': 95.5, 'rank': 5, 'total': 382}\n",
      "{'name': 'Ankita', 'age': '14', 'regid': 'CAP007', 'phy': '99', 'chem': '99', 'math': '99', 'bio': '99', 'avg': 99.0, 'rank': 1, 'total': 396}\n",
      "{'name': 'John', 'age': '14', 'regid': 'HPE008', 'phy': '96', 'chem': '93', 'math': '97', 'bio': '95', 'avg': 95.25, 'rank': 7, 'total': 381}\n",
      "{'name': 'Chris', 'age': '14', 'regid': 'HPE009', 'phy': '94', 'chem': '91', 'math': '93', 'bio': '96', 'avg': 93.5, 'rank': 10, 'total': 374}\n",
      "{'name': 'Grace', 'age': '14', 'regid': 'ORA006', 'phy': '94', 'chem': '95', 'math': '96', 'bio': '97', 'avg': 95.5, 'rank': 5, 'total': 382}\n",
      "{'name': 'Ankita', 'age': '14', 'regid': 'INF007', 'phy': '99', 'chem': '99', 'math': '99', 'bio': '99', 'avg': 99.0, 'rank': 1, 'total': 396}\n"
     ]
    }
   ],
   "source": [
    "sub=[\"phy\",\"chem\",\"math\",\"bio\"]\n",
    "for i in  class_dict.values():\n",
    "    print(i)"
   ]
  },
  {
   "cell_type": "code",
   "execution_count": 55,
   "id": "44c7cef2-76e7-46ef-b812-25d50dab7b50",
   "metadata": {},
   "outputs": [
    {
     "name": "stdout",
     "output_type": "stream",
     "text": [
      "Total Marks for Chris: 374\n",
      "Total Marks for Chris: 374\n",
      "Total Marks for Chris: 374\n",
      "Total Marks for Chris: 374\n",
      "Total Marks for Chris: 374\n",
      "Total Marks for Chris: 374\n",
      "Total Marks for Chris: 374\n",
      "Total Marks for Chris: 374\n",
      "Total Marks for Chris: 374\n",
      "Total Marks for Chris: 374\n",
      "Total Marks for Chris: 374\n"
     ]
    }
   ],
   "source": [
    "j=0\n",
    "sub=[\"phy\",\"chem\",\"math\",\"bio\"]\n",
    "for i in  class_dict.values():\n",
    "    total_marks = sum(int(student[subj]) for subj in sub) \n",
    "    print(f\"Total Marks for {student['name']}: {total_marks}\")\n",
    "     "
   ]
  },
  {
   "cell_type": "code",
   "execution_count": 52,
   "id": "9d14f9df-49ef-4dc8-949b-240cfe71fb33",
   "metadata": {},
   "outputs": [],
   "source": [
    "import pprint\n",
    "\n",
    "# Open the file (assuming 'path' is defined)\n",
    "with open(path, 'r') as f:\n",
    "    content = f.readlines()\n",
    "\n",
    "# Remove newline characters and create a list of strings\n",
    "lines = [line.strip(\"\\n\") for line in content]\n",
    "\n",
    "# Convert each line into a list of values by splitting on commas\n",
    "nested_data = [line.split(\",\") for line in lines]\n",
    "\n",
    "# Step 1: Create a dictionary (class_dict) using 'regid' as key.\n",
    "class_dict = {}\n",
    "columns = nested_data[0]  # The first row contains the column headers\n",
    "\n",
    "# Use the remaining rows to create student dictionaries\n",
    "for row in nested_data[1:]:\n",
    "    student_dict = dict(zip(columns, row))\n",
    "    class_dict[student_dict['regid']] = student_dict\n",
    "\n",
    "sub=[\"phy\",\"chem\",\"math\",\"bio\"]\n",
    "for i in  class_dict.values():\n",
    "    total_marks = sum(int(student[subj]) for subj in sub) \n",
    "    print(f\"Total Marks for {student['name']}: {total_marks}\")\n"
   ]
  },
  {
   "cell_type": "code",
   "execution_count": null,
   "id": "6795cd84-7714-4824-9bc5-1dc10fc2e377",
   "metadata": {},
   "outputs": [],
   "source": []
  }
 ],
 "metadata": {
  "kernelspec": {
   "display_name": "Python 3 (ipykernel)",
   "language": "python",
   "name": "python3"
  },
  "language_info": {
   "codemirror_mode": {
    "name": "ipython",
    "version": 3
   },
   "file_extension": ".py",
   "mimetype": "text/x-python",
   "name": "python",
   "nbconvert_exporter": "python",
   "pygments_lexer": "ipython3",
   "version": "3.12.4"
  }
 },
 "nbformat": 4,
 "nbformat_minor": 5
}
