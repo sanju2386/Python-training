{
 "cells": [
  {
   "cell_type": "markdown",
   "id": "6e84acea-febd-427a-aede-ffb5ba131c5f",
   "metadata": {},
   "source": [
    "# creating an iterator"
   ]
  },
  {
   "cell_type": "raw",
   "id": "97823422-8242-4029-ac8a-1ec1f8d2e580",
   "metadata": {},
   "source": [
    "Create an iterator to generate some natural numbers"
   ]
  },
  {
   "cell_type": "code",
   "execution_count": 5,
   "id": "94bd1e96-2013-46c2-8bb9-6a9a2d05c126",
   "metadata": {},
   "outputs": [],
   "source": [
    "class Number:\n",
    "\n",
    "    # constructor\n",
    "    def __init__(self,minimum,maximum):\n",
    "        self.maxlimit=maximum\n",
    "        self.start=minimum\n",
    "        self.a=0\n",
    "\n",
    "    \n",
    "    # neede for print\n",
    "    def __str__(self):\n",
    "        return f\"My numbers {self.start} {self.maxlimit}\"\n",
    "        \n",
    "        \n",
    "    # custom reprensentation of the objects\n",
    "    def __repr__(self):\n",
    "        return f\"My class\\nCreated iterable object\"\n",
    "        \n",
    "    # iter(), it is returning an object ,not vakue after doing some internal changes\n",
    "    def __iter__(self):\n",
    "        self.a=self.start\n",
    "        return self\n",
    "\n",
    "    \n",
    "    # for loop -> Next\n",
    "    def __next__(self):\n",
    "        if self.a<=self.maxlimit:\n",
    "            x=self.a\n",
    "            self.a+=1\n",
    "            return x\n",
    "        else:\n",
    "            raise StopIteration # when all element arecopletely exhausted ,then system raises stop iteration exepmtion to stop iteration.\n",
    "        \n",
    "\n",
    "        "
   ]
  },
  {
   "cell_type": "code",
   "execution_count": 6,
   "id": "d0d1b43f-bb35-49c2-ab5e-35348b6d9845",
   "metadata": {},
   "outputs": [],
   "source": [
    "m=Number(1,10)"
   ]
  },
  {
   "cell_type": "code",
   "execution_count": 7,
   "id": "eeb033e2-389c-4792-8887-866124d4b3f7",
   "metadata": {},
   "outputs": [
    {
     "data": {
      "text/plain": [
       "My class\n",
       "Created iterable object"
      ]
     },
     "execution_count": 7,
     "metadata": {},
     "output_type": "execute_result"
    }
   ],
   "source": [
    "m # see output representation is given as my class and Created iterable iterable object"
   ]
  },
  {
   "cell_type": "code",
   "execution_count": 8,
   "id": "c5e417e2-b32c-49c1-99dd-37f98e234d9d",
   "metadata": {},
   "outputs": [
    {
     "name": "stdout",
     "output_type": "stream",
     "text": [
      "1\n",
      "2\n",
      "3\n",
      "4\n",
      "5\n",
      "6\n",
      "7\n",
      "8\n",
      "9\n",
      "10\n"
     ]
    }
   ],
   "source": [
    "for i in m :\n",
    "    print(i)# here m is the iterable object "
   ]
  },
  {
   "cell_type": "code",
   "execution_count": 10,
   "id": "499301f8-63a4-4dbd-93f8-133d16f8d1c9",
   "metadata": {},
   "outputs": [],
   "source": [
    "class WeeklyAttendance:\n",
    "\n",
    "    def __init__(self,attendence_data):\n",
    "        self.attendence=attendence_data\n",
    "        self.index=0\n",
    "\n",
    "    def __iter__(self): # It takes elements in object\n",
    "        return self\n",
    "\n",
    "    def __next__(self):\n",
    "        if(self.index<self.attendence[self.index]):\n",
    "            week=self.attendence_data[self.index]\n",
    "            self.index += 1\n",
    "            return week\n",
    "        else:\n",
    "            raise StopIteration"
   ]
  },
  {
   "cell_type": "code",
   "execution_count": 12,
   "id": "3f5d8e0a-eab9-4cf2-a5fb-55f7370228bd",
   "metadata": {},
   "outputs": [],
   "source": [
    "weekly_data=[\n",
    "    [\"Alice\",\"Bob\",\"Charlie\"],\n",
    "    [\"Alice\",\"Bob\"],\n",
    "    [\"Eve\",\"Frank\",\"Alice\"]\n",
    "]"
   ]
  },
  {
   "cell_type": "markdown",
   "id": "790f9b80-d7ca-4aa4-a127-9503cda3d5f3",
   "metadata": {},
   "source": [
    "# Abstract class"
   ]
  },
  {
   "cell_type": "raw",
   "id": "c89212cd-66ce-49b8-a6f2-4911d809b5c8",
   "metadata": {},
   "source": [
    "Abstract class are blue prints for derving other classes .it is class where othere classes dervided\n",
    "They can't intatiated directely \n",
    "Abractmenthod[methods with no implementations], creation of abract menthod will enforce implementations of function in derived class.\n",
    "We can use Python abc model \n",
    "\n",
    "from abc import ABC\n",
    "class "
   ]
  },
  {
   "cell_type": "code",
   "execution_count": 13,
   "id": "00d8bed4-9492-41de-b5e0-ec4d1c867bcf",
   "metadata": {},
   "outputs": [],
   "source": [
    "from abc import ABC"
   ]
  },
  {
   "cell_type": "code",
   "execution_count": 21,
   "id": "9d16561c-5374-4a96-aee9-de9bef1caf07",
   "metadata": {},
   "outputs": [
    {
     "ename": "NameError",
     "evalue": "name 'abstract' is not defined",
     "output_type": "error",
     "traceback": [
      "\u001b[1;31m---------------------------------------------------------------------------\u001b[0m",
      "\u001b[1;31mNameError\u001b[0m                                 Traceback (most recent call last)",
      "Cell \u001b[1;32mIn[21], line 1\u001b[0m\n\u001b[1;32m----> 1\u001b[0m \u001b[38;5;28;01mclass\u001b[39;00m \u001b[38;5;21;01mShape\u001b[39;00m(ABC):\n\u001b[0;32m      3\u001b[0m     \u001b[38;5;129m@abstract\u001b[39m\n\u001b[0;32m      4\u001b[0m     \u001b[38;5;28;01mdef\u001b[39;00m \u001b[38;5;21marea\u001b[39m(\u001b[38;5;28mself\u001b[39m):\n\u001b[0;32m      5\u001b[0m         \u001b[38;5;28;01mpass\u001b[39;00m\n",
      "Cell \u001b[1;32mIn[21], line 3\u001b[0m, in \u001b[0;36mShape\u001b[1;34m()\u001b[0m\n\u001b[0;32m      1\u001b[0m \u001b[38;5;28;01mclass\u001b[39;00m \u001b[38;5;21;01mShape\u001b[39;00m(ABC):\n\u001b[1;32m----> 3\u001b[0m     \u001b[38;5;129m@abstract\u001b[39m\n\u001b[0;32m      4\u001b[0m     \u001b[38;5;28;01mdef\u001b[39;00m \u001b[38;5;21marea\u001b[39m(\u001b[38;5;28mself\u001b[39m):\n\u001b[0;32m      5\u001b[0m         \u001b[38;5;28;01mpass\u001b[39;00m\n",
      "\u001b[1;31mNameError\u001b[0m: name 'abstract' is not defined"
     ]
    }
   ],
   "source": [
    "class Shape(ABC):\n",
    "\n",
    "    @abstract\n",
    "    def area(self):\n",
    "        pass\n",
    "        "
   ]
  },
  {
   "cell_type": "code",
   "execution_count": 19,
   "id": "594f48c9-1f8b-41c8-a985-d950b677c9e3",
   "metadata": {},
   "outputs": [],
   "source": [
    "class Circle(ABC):\n",
    "    def __init__(self,radius):\n",
    "        self.radius=radius\n",
    "\n",
    "    def area (self):\n",
    "        return 3.14*self.radius"
   ]
  },
  {
   "cell_type": "code",
   "execution_count": 20,
   "id": "44f4ef2a-8d64-40e6-be5d-ad7d372f780f",
   "metadata": {},
   "outputs": [
    {
     "ename": "NameError",
     "evalue": "name 'Triangle' is not defined",
     "output_type": "error",
     "traceback": [
      "\u001b[1;31m---------------------------------------------------------------------------\u001b[0m",
      "\u001b[1;31mNameError\u001b[0m                                 Traceback (most recent call last)",
      "Cell \u001b[1;32mIn[20], line 1\u001b[0m\n\u001b[1;32m----> 1\u001b[0m t\u001b[38;5;241m=\u001b[39mTriangle(\u001b[38;5;241m1\u001b[39m,\u001b[38;5;241m2\u001b[39m,\u001b[38;5;241m3\u001b[39m)\n",
      "\u001b[1;31mNameError\u001b[0m: name 'Triangle' is not defined"
     ]
    }
   ],
   "source": [
    "t=Triangle(1,2,3)"
   ]
  },
  {
   "cell_type": "code",
   "execution_count": null,
   "id": "0bf0a8bd-2c5c-495e-a9dc-aa4f5ee9849d",
   "metadata": {},
   "outputs": [],
   "source": []
  },
  {
   "cell_type": "markdown",
   "id": "8d1fa52e-5e8c-436d-bb2b-ed9d7794fcd0",
   "metadata": {},
   "source": [
    "# Metaclass"
   ]
  },
  {
   "cell_type": "code",
   "execution_count": null,
   "id": "ff939ef2-dccc-4f7d-9c53-eb57b2285acc",
   "metadata": {},
   "outputs": [],
   "source": [
    "class MyMeta(type):\n",
    "\n",
    "    def __new__(cls,name,bases,dct) :   # new always take class , class name, dictionary, bases\n",
    "        dct['class_id']= name.upper()\n",
    "        return super().__new__(cls,name,bases,dct) # inherenting attributes even before Meta class is created\n"
   ]
  }
 ],
 "metadata": {
  "kernelspec": {
   "display_name": "Python 3 (ipykernel)",
   "language": "python",
   "name": "python3"
  },
  "language_info": {
   "codemirror_mode": {
    "name": "ipython",
    "version": 3
   },
   "file_extension": ".py",
   "mimetype": "text/x-python",
   "name": "python",
   "nbconvert_exporter": "python",
   "pygments_lexer": "ipython3",
   "version": "3.12.4"
  }
 },
 "nbformat": 4,
 "nbformat_minor": 5
}
