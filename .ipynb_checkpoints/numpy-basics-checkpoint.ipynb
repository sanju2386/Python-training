{
 "cells": [
  {
   "cell_type": "markdown",
   "id": "07777fb8-3396-4ecb-8bb1-0d918a547ae1",
   "metadata": {},
   "source": [
    "### Why Numpy?"
   ]
  },
  {
   "cell_type": "code",
   "execution_count": 2,
   "id": "febd4391-9b52-4a70-a3d1-9e7b31d83c1f",
   "metadata": {},
   "outputs": [
    {
     "name": "stdout",
     "output_type": "stream",
     "text": [
      "[Python] Size of each element of list in bytes:  48\n",
      "[Python] Size of the whole list in bytes:  48000\n",
      "[NumPy] Size of each element of the Numpy array in bytes:  4\n",
      "[NumPy] Size of the whole Numpy array in bytes:  4000\n"
     ]
    }
   ],
   "source": [
    "# importing numpy package\n",
    "import numpy as np\n",
    "  \n",
    "# importing system module\n",
    "import sys\n",
    "  \n",
    "# declaring a list of 1000 elements \n",
    "S= range(1000)\n",
    "  \n",
    "# printing size of each element of the list\n",
    "print(\"[Python] Size of each element of list in bytes: \",sys.getsizeof(S))\n",
    "  \n",
    "# printing size of the whole list\n",
    "print(\"[Python] Size of the whole list in bytes: \",sys.getsizeof(S)*len(S))\n",
    "  \n",
    "# declaring a Numpy array of 1000 elements \n",
    "D= np.arange(1000)\n",
    "  \n",
    "# printing size of each element of the Numpy array\n",
    "print(\"[NumPy] Size of each element of the Numpy array in bytes: \",D.itemsize)\n",
    "  \n",
    "# printing size of the whole Numpy array\n",
    "print(\"[NumPy] Size of the whole Numpy array in bytes: \",D.size*D.itemsize)"
   ]
  },
  {
   "cell_type": "code",
   "execution_count": 4,
   "id": "a224f659-e5e4-4833-b65a-7e6bf67660e3",
   "metadata": {},
   "outputs": [
    {
     "name": "stdout",
     "output_type": "stream",
     "text": [
      "Time taken by Lists to perform multiplication: 0.28583645820617676 seconds\n",
      "Time taken by NumPy Arrays to perform multiplication: 0.007300376892089844 seconds\n"
     ]
    }
   ],
   "source": [
    "# importing required packages\n",
    "import numpy\n",
    "import time\n",
    "   \n",
    "# size of arrays and lists\n",
    "size = 1000000  \n",
    "   \n",
    "# declaring lists\n",
    "list1 = range(size)\n",
    "list2 = range(size)\n",
    "   \n",
    "# declaring arrays\n",
    "array1 = numpy.arange(size)  \n",
    "array2 = numpy.arange(size)\n",
    "   \n",
    "# capturing time before the multiplication of Python lists\n",
    "initialTime = time.time()\n",
    "  \n",
    "# multiplying  elements of both the lists and stored in another list\n",
    "resultantList = [(a * b) for a, b in zip(list1, list2)]\n",
    "   \n",
    "# calculating execution time\n",
    "print(\"Time taken by Lists to perform multiplication:\", \n",
    "      (time.time() - initialTime),\n",
    "      \"seconds\")\n",
    "   \n",
    "# capturing time before the multiplication of Numpy arrays\n",
    "initialTime = time.time()\n",
    "  \n",
    "# multiplying  elements of both the Numpy arrays and stored in another Numpy array \n",
    "resultantArray = array1 * array2\n",
    "   \n",
    "# calculating execution time \n",
    "print(\"Time taken by NumPy Arrays to perform multiplication:\",\n",
    "      (time.time() - initialTime),\n",
    "      \"seconds\")"
   ]
  },
  {
   "cell_type": "markdown",
   "id": "fc77b666-8159-4808-b1e4-99bbbab3f076",
   "metadata": {},
   "source": [
    "http://jakevdp.github.io/images/array_vs_list.png"
   ]
  },
  {
   "cell_type": "markdown",
   "id": "de05c76d-90dd-409a-b8f9-e136e4c69165",
   "metadata": {},
   "source": [
    "### Numpy Array"
   ]
  },
  {
   "cell_type": "code",
   "execution_count": 6,
   "id": "dd67b5b1-ec0f-4bfb-9b7c-7305271c1bbc",
   "metadata": {},
   "outputs": [],
   "source": [
    "import numpy as np"
   ]
  },
  {
   "cell_type": "code",
   "execution_count": 8,
   "id": "6fef13a1-3d9e-4600-bdab-399525f1eae5",
   "metadata": {},
   "outputs": [],
   "source": [
    "a = np.array([1, 2, 3, 4, 5, 6])"
   ]
  },
  {
   "cell_type": "code",
   "execution_count": 10,
   "id": "31fb6e83-d049-4376-905c-8a1acce7f9da",
   "metadata": {},
   "outputs": [
    {
     "data": {
      "text/plain": [
       "numpy.ndarray"
      ]
     },
     "execution_count": 10,
     "metadata": {},
     "output_type": "execute_result"
    }
   ],
   "source": [
    "type(a)"
   ]
  },
  {
   "cell_type": "code",
   "execution_count": 12,
   "id": "6a5e930f-280a-4e0d-8e87-39c5d772cc54",
   "metadata": {},
   "outputs": [
    {
     "data": {
      "text/plain": [
       "1"
      ]
     },
     "execution_count": 12,
     "metadata": {},
     "output_type": "execute_result"
    }
   ],
   "source": [
    "a[0]"
   ]
  },
  {
   "cell_type": "code",
   "execution_count": 14,
   "id": "3022853c-d79a-4f10-b576-be9d5afe2c1c",
   "metadata": {},
   "outputs": [],
   "source": [
    "a[0] = 56"
   ]
  },
  {
   "cell_type": "code",
   "execution_count": 16,
   "id": "198d2c41-4f2d-4675-b6b4-646390f181af",
   "metadata": {},
   "outputs": [
    {
     "data": {
      "text/plain": [
       "array([56,  2,  3,  4,  5,  6])"
      ]
     },
     "execution_count": 16,
     "metadata": {},
     "output_type": "execute_result"
    }
   ],
   "source": [
    "a"
   ]
  },
  {
   "cell_type": "markdown",
   "id": "ad2f6ea9-7b5c-48f5-b731-1d36809f49af",
   "metadata": {},
   "source": [
    "##### Attributes"
   ]
  },
  {
   "cell_type": "code",
   "execution_count": 18,
   "id": "6a26e2d3-673d-4a2c-8059-94c7021d52cc",
   "metadata": {},
   "outputs": [
    {
     "data": {
      "text/plain": [
       "1"
      ]
     },
     "execution_count": 18,
     "metadata": {},
     "output_type": "execute_result"
    }
   ],
   "source": [
    "a.ndim"
   ]
  },
  {
   "cell_type": "code",
   "execution_count": 20,
   "id": "9f93e14a-43d9-404c-a38c-33ed28e39c10",
   "metadata": {},
   "outputs": [],
   "source": [
    "b = np.array([[1, 2], [3, 4], [5, 6]])"
   ]
  },
  {
   "cell_type": "code",
   "execution_count": 22,
   "id": "17ca444b-d097-422c-a8a1-3cd5d1cfdc0b",
   "metadata": {},
   "outputs": [
    {
     "data": {
      "text/plain": [
       "2"
      ]
     },
     "execution_count": 22,
     "metadata": {},
     "output_type": "execute_result"
    }
   ],
   "source": [
    "b.ndim"
   ]
  },
  {
   "cell_type": "code",
   "execution_count": 24,
   "id": "8c5e2eec-934d-4e53-9d9b-5321146873e5",
   "metadata": {},
   "outputs": [
    {
     "data": {
      "text/plain": [
       "(3, 2)"
      ]
     },
     "execution_count": 24,
     "metadata": {},
     "output_type": "execute_result"
    }
   ],
   "source": [
    "b.shape"
   ]
  },
  {
   "cell_type": "code",
   "execution_count": 26,
   "id": "31ddbff8-5a80-493d-8fa5-7145998a2173",
   "metadata": {},
   "outputs": [
    {
     "data": {
      "text/plain": [
       "6"
      ]
     },
     "execution_count": 26,
     "metadata": {},
     "output_type": "execute_result"
    }
   ],
   "source": [
    "b.size"
   ]
  },
  {
   "cell_type": "code",
   "execution_count": 28,
   "id": "6c4692ab-0c89-4067-a122-780b097cf5c4",
   "metadata": {},
   "outputs": [
    {
     "data": {
      "text/plain": [
       "dtype('int32')"
      ]
     },
     "execution_count": 28,
     "metadata": {},
     "output_type": "execute_result"
    }
   ],
   "source": [
    "a.dtype"
   ]
  },
  {
   "cell_type": "markdown",
   "id": "69981a45-2fd4-4cc1-909a-1ee0d753fdbb",
   "metadata": {},
   "source": [
    "#### Basic Arrays"
   ]
  },
  {
   "cell_type": "code",
   "execution_count": 30,
   "id": "c8a2c844-94cd-468d-8b73-6ecdad16755f",
   "metadata": {},
   "outputs": [
    {
     "data": {
      "text/plain": [
       "array([0., 0.])"
      ]
     },
     "execution_count": 30,
     "metadata": {},
     "output_type": "execute_result"
    }
   ],
   "source": [
    "np.zeros(2)"
   ]
  },
  {
   "cell_type": "code",
   "execution_count": 32,
   "id": "d788708d-38a3-4e2b-b5f0-6e6f11cd5824",
   "metadata": {},
   "outputs": [
    {
     "data": {
      "text/plain": [
       "array([[1., 1., 1.],\n",
       "       [1., 1., 1.]])"
      ]
     },
     "execution_count": 32,
     "metadata": {},
     "output_type": "execute_result"
    }
   ],
   "source": [
    "np.ones((2,3))"
   ]
  },
  {
   "cell_type": "code",
   "execution_count": 34,
   "id": "a9e776df-86e7-46ba-a810-fd7bd51447ca",
   "metadata": {},
   "outputs": [
    {
     "data": {
      "text/plain": [
       "array([6.23042070e-307, 4.67296746e-307, 1.69121096e-306, 1.33511562e-306])"
      ]
     },
     "execution_count": 34,
     "metadata": {},
     "output_type": "execute_result"
    }
   ],
   "source": [
    "np.empty(4)"
   ]
  },
  {
   "cell_type": "code",
   "execution_count": 36,
   "id": "9f4f9864-85f0-450f-a731-85b89aa78a29",
   "metadata": {},
   "outputs": [
    {
     "data": {
      "text/plain": [
       "array([0, 1, 2, 3, 4, 5, 6, 7, 8, 9])"
      ]
     },
     "execution_count": 36,
     "metadata": {},
     "output_type": "execute_result"
    }
   ],
   "source": [
    "np.arange(10)"
   ]
  },
  {
   "cell_type": "code",
   "execution_count": 38,
   "id": "8cff93c3-7bc0-47e2-806c-6654cf5323e0",
   "metadata": {},
   "outputs": [
    {
     "data": {
      "text/plain": [
       "array([ 0.        ,  0.52631579,  1.05263158,  1.57894737,  2.10526316,\n",
       "        2.63157895,  3.15789474,  3.68421053,  4.21052632,  4.73684211,\n",
       "        5.26315789,  5.78947368,  6.31578947,  6.84210526,  7.36842105,\n",
       "        7.89473684,  8.42105263,  8.94736842,  9.47368421, 10.        ])"
      ]
     },
     "execution_count": 38,
     "metadata": {},
     "output_type": "execute_result"
    }
   ],
   "source": [
    "np.linspace(0, 10, num=20)"
   ]
  },
  {
   "cell_type": "markdown",
   "id": "c51e7d0c-bbd5-4068-ab3a-169a87930703",
   "metadata": {},
   "source": [
    "#### Operations on the numpy array"
   ]
  },
  {
   "cell_type": "code",
   "execution_count": 40,
   "id": "e45dec9f-4ea5-4f03-a603-024d5d6dfc3c",
   "metadata": {},
   "outputs": [],
   "source": [
    "s = np.array([3, 4, 5, 1, 7, 5, 9, 6])"
   ]
  },
  {
   "cell_type": "code",
   "execution_count": 42,
   "id": "d23b9961-c56c-4d18-8a3e-9d8ba8ea7acf",
   "metadata": {},
   "outputs": [
    {
     "data": {
      "text/plain": [
       "array([1, 3, 4, 5, 5, 6, 7, 9])"
      ]
     },
     "execution_count": 42,
     "metadata": {},
     "output_type": "execute_result"
    }
   ],
   "source": [
    "np.sort(s)"
   ]
  },
  {
   "cell_type": "code",
   "execution_count": 44,
   "id": "6fac408f-e977-46e6-a19d-4038e6cf2d29",
   "metadata": {},
   "outputs": [],
   "source": [
    "s1 = np.array([10, 20, 30])"
   ]
  },
  {
   "cell_type": "code",
   "execution_count": 46,
   "id": "d27be85f-6761-43ab-91ee-c73c9b198e08",
   "metadata": {},
   "outputs": [
    {
     "data": {
      "text/plain": [
       "array([ 3,  4,  5,  1,  7,  5,  9,  6, 10, 20, 30])"
      ]
     },
     "execution_count": 46,
     "metadata": {},
     "output_type": "execute_result"
    }
   ],
   "source": [
    "np.concatenate((s, s1))"
   ]
  },
  {
   "cell_type": "code",
   "execution_count": 52,
   "id": "4582840c-c938-4388-a74b-08048a06f71c",
   "metadata": {},
   "outputs": [
    {
     "data": {
      "text/plain": [
       "array([3, 4, 5, 1, 7, 5, 9, 6])"
      ]
     },
     "execution_count": 52,
     "metadata": {},
     "output_type": "execute_result"
    }
   ],
   "source": [
    "s"
   ]
  },
  {
   "cell_type": "code",
   "execution_count": 50,
   "id": "6dec29af-0340-4373-874f-d6188ce426ac",
   "metadata": {},
   "outputs": [
    {
     "data": {
      "text/plain": [
       "(8,)"
      ]
     },
     "execution_count": 50,
     "metadata": {},
     "output_type": "execute_result"
    }
   ],
   "source": [
    "s.shape"
   ]
  },
  {
   "cell_type": "code",
   "execution_count": 64,
   "id": "364d7714-84e4-4585-94c5-15679923a5de",
   "metadata": {},
   "outputs": [
    {
     "data": {
      "text/plain": [
       "array([[3, 4, 5, 1, 7, 5, 9, 6]])"
      ]
     },
     "execution_count": 64,
     "metadata": {},
     "output_type": "execute_result"
    }
   ],
   "source": [
    "s.reshape(1, 8)"
   ]
  },
  {
   "cell_type": "markdown",
   "id": "bd218e4f-7200-4df1-aac0-257c7836ca34",
   "metadata": {},
   "source": [
    "#### Broadcasting"
   ]
  },
  {
   "cell_type": "code",
   "execution_count": 66,
   "id": "d4f10055-9838-4731-ac42-adee13c13f9d",
   "metadata": {},
   "outputs": [
    {
     "data": {
      "text/plain": [
       "array([3, 4, 5, 1, 7, 5, 9, 6])"
      ]
     },
     "execution_count": 66,
     "metadata": {},
     "output_type": "execute_result"
    }
   ],
   "source": [
    "s"
   ]
  },
  {
   "cell_type": "code",
   "execution_count": 68,
   "id": "528e5639-2e19-440c-967a-c6d838c62372",
   "metadata": {},
   "outputs": [
    {
     "data": {
      "text/plain": [
       "[10, 20, 30, 10, 20, 30, 10, 20, 30]"
      ]
     },
     "execution_count": 68,
     "metadata": {},
     "output_type": "execute_result"
    }
   ],
   "source": [
    "p = [10, 20, 30]\n",
    "p * 3"
   ]
  },
  {
   "cell_type": "code",
   "execution_count": 70,
   "id": "bbb05d8e-71dc-4e95-8114-b8d751b78ec1",
   "metadata": {},
   "outputs": [
    {
     "data": {
      "text/plain": [
       "array([ 9, 12, 15,  3, 21, 15, 27, 18])"
      ]
     },
     "execution_count": 70,
     "metadata": {},
     "output_type": "execute_result"
    }
   ],
   "source": [
    "s * 3"
   ]
  },
  {
   "cell_type": "code",
   "execution_count": null,
   "id": "8dbd5958-a28a-42b0-8311-f9a457501b55",
   "metadata": {},
   "outputs": [],
   "source": [
    "p * p"
   ]
  },
  {
   "cell_type": "code",
   "execution_count": 72,
   "id": "ab656cb8-e862-497c-bb68-9dead7a4eb84",
   "metadata": {},
   "outputs": [
    {
     "data": {
      "text/plain": [
       "array([ 9, 16, 25,  1, 49, 25, 81, 36])"
      ]
     },
     "execution_count": 72,
     "metadata": {},
     "output_type": "execute_result"
    }
   ],
   "source": [
    "s * s"
   ]
  },
  {
   "cell_type": "code",
   "execution_count": 74,
   "id": "e873485f-8b21-440c-8387-690c47c0ec9e",
   "metadata": {},
   "outputs": [],
   "source": [
    "d = np.array([1, 2, 3])"
   ]
  },
  {
   "cell_type": "code",
   "execution_count": 76,
   "id": "e76e1f64-81a8-45d9-80a5-183f21514767",
   "metadata": {},
   "outputs": [
    {
     "data": {
      "text/plain": [
       "array([1, 4, 9])"
      ]
     },
     "execution_count": 76,
     "metadata": {},
     "output_type": "execute_result"
    }
   ],
   "source": [
    "d * d"
   ]
  },
  {
   "cell_type": "code",
   "execution_count": 78,
   "id": "23f68ad9-f937-40cb-a89b-cd6c32489c46",
   "metadata": {},
   "outputs": [
    {
     "data": {
      "text/plain": [
       "1"
      ]
     },
     "execution_count": 78,
     "metadata": {},
     "output_type": "execute_result"
    }
   ],
   "source": [
    "s.min()"
   ]
  },
  {
   "cell_type": "code",
   "execution_count": 80,
   "id": "a42b0d9a-5483-4037-8874-55f10375b0c8",
   "metadata": {},
   "outputs": [
    {
     "data": {
      "text/plain": [
       "9"
      ]
     },
     "execution_count": 80,
     "metadata": {},
     "output_type": "execute_result"
    }
   ],
   "source": [
    "s.max()"
   ]
  },
  {
   "cell_type": "code",
   "execution_count": 82,
   "id": "30029b33-ccfa-4f36-a33b-ad057bd88994",
   "metadata": {},
   "outputs": [
    {
     "data": {
      "text/plain": [
       "array([1, 3, 4, 5, 6, 7, 9])"
      ]
     },
     "execution_count": 82,
     "metadata": {},
     "output_type": "execute_result"
    }
   ],
   "source": [
    "np.unique(s)"
   ]
  },
  {
   "cell_type": "code",
   "execution_count": 84,
   "id": "294d2d70-ad74-4196-97a7-a2f3bf251a04",
   "metadata": {},
   "outputs": [],
   "source": [
    "rng = np.random.default_rng()"
   ]
  },
  {
   "cell_type": "code",
   "execution_count": 90,
   "id": "ea180af1-4c6b-4ee9-941b-df9e0a20f124",
   "metadata": {},
   "outputs": [
    {
     "data": {
      "text/plain": [
       "0.6240470137354251"
      ]
     },
     "execution_count": 90,
     "metadata": {},
     "output_type": "execute_result"
    }
   ],
   "source": [
    "rng.random() "
   ]
  },
  {
   "cell_type": "code",
   "execution_count": 92,
   "id": "f37abd8c-3dee-40ef-9a33-ac23faff4790",
   "metadata": {},
   "outputs": [
    {
     "data": {
      "text/plain": [
       "array([ 0.19913839, -1.13532348,  0.58769403,  0.20567107, -0.050248  ,\n",
       "        0.05370757, -1.85109048,  1.55006706, -0.07846791,  0.82462634,\n",
       "       -0.23124152,  0.01865628,  0.79545546, -0.50581047, -0.86410145,\n",
       "        0.74969931,  0.01401556,  1.06064544, -1.22047982,  0.54533551,\n",
       "        2.09969455, -0.08527609, -0.73076304, -0.08922133, -0.6601516 ,\n",
       "       -0.66244994, -0.69026683,  1.94506972,  0.44091411,  0.3521098 ])"
      ]
     },
     "execution_count": 92,
     "metadata": {},
     "output_type": "execute_result"
    }
   ],
   "source": [
    "rng.standard_normal(30) "
   ]
  },
  {
   "cell_type": "code",
   "execution_count": null,
   "id": "bab14c13-20aa-45d8-b769-f9cba77be858",
   "metadata": {},
   "outputs": [],
   "source": [
    "rng.integers(low=0, high=100, size=10)"
   ]
  },
  {
   "cell_type": "code",
   "execution_count": 94,
   "id": "699ae1c6-a37a-40fb-97b2-830955c981fa",
   "metadata": {},
   "outputs": [
    {
     "ename": "ValueError",
     "evalue": "operands could not be broadcast together with shapes (8,) (3,) ",
     "output_type": "error",
     "traceback": [
      "\u001b[1;31m---------------------------------------------------------------------------\u001b[0m",
      "\u001b[1;31mValueError\u001b[0m                                Traceback (most recent call last)",
      "Cell \u001b[1;32mIn[94], line 1\u001b[0m\n\u001b[1;32m----> 1\u001b[0m s \u001b[38;5;241m*\u001b[39m d\n",
      "\u001b[1;31mValueError\u001b[0m: operands could not be broadcast together with shapes (8,) (3,) "
     ]
    }
   ],
   "source": [
    "s * d"
   ]
  },
  {
   "cell_type": "code",
   "execution_count": null,
   "id": "10a7e9a9-061d-470f-b98e-ca680e6361b6",
   "metadata": {},
   "outputs": [],
   "source": []
  }
 ],
 "metadata": {
  "kernelspec": {
   "display_name": "Python 3 (ipykernel)",
   "language": "python",
   "name": "python3"
  },
  "language_info": {
   "codemirror_mode": {
    "name": "ipython",
    "version": 3
   },
   "file_extension": ".py",
   "mimetype": "text/x-python",
   "name": "python",
   "nbconvert_exporter": "python",
   "pygments_lexer": "ipython3",
   "version": "3.12.7"
  }
 },
 "nbformat": 4,
 "nbformat_minor": 5
}
