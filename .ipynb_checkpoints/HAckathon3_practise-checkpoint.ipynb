{
 "cells": [
  {
   "cell_type": "raw",
   "id": "159c7fc7-5fbb-4677-8520-f9048ab48e32",
   "metadata": {},
   "source": [
    "employees:\n",
    "\n",
    "import random\n",
    "\n",
    "class Employee:\n",
    "    used_ids = set()  # A class-level set to track used IDs\n",
    "\n",
    "    def __init__(self, name, department, designation, gross_salary, tax, bonus):\n",
    "        self.id = self.generate_unique_id()\n",
    "        self.name = name\n",
    "        self.department = department\n",
    "        self.designation = designation\n",
    "        self.gross_salary = gross_salary\n",
    "        self.tax = tax\n",
    "        self.bonus = bonus\n",
    "        self.net_salary = self.calculate_net_salary()\n",
    "\n",
    "    @classmethod\n",
    "    def generate_unique_id(cls):\n",
    "        \"\"\"Generate a unique ID for an employee.\"\"\"\n",
    "        while True:\n",
    "            new_id = random.randint(1000, 9999)\n",
    "            if new_id not in cls.used_ids:\n",
    "                cls.used_ids.add(new_id)\n",
    "                return str(new_id)\n",
    "\n",
    "    def calculate_net_salary(self):\n",
    "        \"\"\"Calculate net salary based on gross salary, tax, and bonus.\"\"\"\n",
    "        return self.gross_salary - self.tax + self.bonus\n",
    "\n",
    "    def __str__(self):\n",
    "        \"\"\"String representation of an employee.\"\"\"\n",
    "        return f\"ID: {self.id}, Name: {self.name}, Department: {self.department}, Designation: {self.designation}, Gross Salary: {self.gross_salary}, Tax: {self.tax}, Bonus: {self.bonus}, Net Salary: {self.net_salary}\"\n",
    "\n",
    "    def to_dict(self):\n",
    "        \"\"\"Convert the Employee object to a dictionary for Pickle storage.\"\"\"\n",
    "        return {\n",
    "            \"id\": self.id,\n",
    "            \"name\": self.name,\n",
    "            \"department\": self.department,\n",
    "            \"designation\": self.designation,\n",
    "            \"gross_salary\": self.gross_salary,\n",
    "            \"tax\": self.tax,\n",
    "            \"bonus\": self.bonus,\n",
    "            \"net_salary\": self.net_salary\n",
    "        }\n",
    "\n",
    "    @classmethod\n",
    "    def from_dict(cls, data):\n",
    "        #\"\"\"Convert a dictionary back to an Employee object.\"\"\"\n",
    "        emp = cls(data['name'], data['department'], data['designation'], data['gross_salary'], data['tax'], data['bonus'])\n",
    "        emp.id = data['id']\n",
    "        emp.net_salary = data['net_salary']\n",
    "        return emp\n"
   ]
  },
  {
   "cell_type": "code",
   "execution_count": 1,
   "id": "9e846995-d4e0-4153-bba4-2fbf673be3ed",
   "metadata": {},
   "outputs": [],
   "source": [
    "import random\n",
    "\n",
    "class Employee:\n",
    "    used_ids = set()  # A class-level set to track used IDs\n",
    "\n",
    "    def __init__(self, name, department, designation, gross_salary, tax, bonus):\n",
    "        self.id = self.generate_unique_id()\n",
    "        self.name = name\n",
    "        self.department = department\n",
    "        self.designation = designation\n",
    "        self.gross_salary = gross_salary\n",
    "        self.tax = tax\n",
    "        self.bonus = bonus\n",
    "        self.net_salary = self.calculate_net_salary()\n",
    "\n",
    "    @classmethod\n",
    "    def generate_unique_id(cls):\n",
    "        \"\"\"Generate a unique ID for an employee.\"\"\"\n",
    "        while True:\n",
    "            new_id = random.randint(1000, 9999)\n",
    "            if new_id not in cls.used_ids:\n",
    "                cls.used_ids.add(new_id)\n",
    "                return str(new_id)\n",
    "\n",
    "    def calculate_net_salary(self):\n",
    "        \"\"\"Calculate net salary based on gross salary, tax, and bonus.\"\"\"\n",
    "        return self.gross_salary - self.tax + self.bonus\n",
    "\n",
    "    def __str__(self):\n",
    "        \"\"\"String representation of an employee.\"\"\"\n",
    "        return f\"ID: {self.id}, Name: {self.name}, Department: {self.department}, Designation: {self.designation}, Gross Salary: {self.gross_salary}, Tax: {self.tax}, Bonus: {self.bonus}, Net Salary: {self.net_salary}\""
   ]
  },
  {
   "cell_type": "code",
   "execution_count": 2,
   "id": "ba7a8db4-420b-4141-83bb-0629b14a49a3",
   "metadata": {},
   "outputs": [],
   "source": [
    "s=Employee(\"Anil\",\"Design\",\"Designer\",45000,200,7000)"
   ]
  },
  {
   "cell_type": "code",
   "execution_count": 3,
   "id": "d16f84eb-14a6-4940-8026-1bad3864faef",
   "metadata": {},
   "outputs": [
    {
     "data": {
      "text/plain": [
       "<__main__.Employee at 0x14655565280>"
      ]
     },
     "execution_count": 3,
     "metadata": {},
     "output_type": "execute_result"
    }
   ],
   "source": [
    "s"
   ]
  },
  {
   "cell_type": "code",
   "execution_count": 4,
   "id": "b3d99194-f416-4829-8a28-768c15e0041b",
   "metadata": {},
   "outputs": [
    {
     "data": {
      "text/plain": [
       "<bound method Employee.__str__ of <__main__.Employee object at 0x0000014655565280>>"
      ]
     },
     "execution_count": 4,
     "metadata": {},
     "output_type": "execute_result"
    }
   ],
   "source": [
    "s.__str__"
   ]
  },
  {
   "cell_type": "code",
   "execution_count": 5,
   "id": "e141020a-9995-4967-a0b1-f74ce2f0e253",
   "metadata": {},
   "outputs": [
    {
     "name": "stdout",
     "output_type": "stream",
     "text": [
      "ID: 9260, Name: Anil, Department: Design, Designation: Designer, Gross Salary: 45000, Tax: 200, Bonus: 7000, Net Salary: 51800\n"
     ]
    }
   ],
   "source": [
    "print(s)"
   ]
  },
  {
   "cell_type": "code",
   "execution_count": 6,
   "id": "4cd9b649-b844-4d34-99d9-86e9488df350",
   "metadata": {},
   "outputs": [],
   "source": [
    "s2=Employee(\"Anil\",\"Design\",\"Designer\",47000,200,7000)"
   ]
  },
  {
   "cell_type": "code",
   "execution_count": 7,
   "id": "2abc933e-f0bf-4519-b128-826f53855bae",
   "metadata": {},
   "outputs": [
    {
     "name": "stdout",
     "output_type": "stream",
     "text": [
      "ID: 2924, Name: Anil, Department: Design, Designation: Designer, Gross Salary: 47000, Tax: 200, Bonus: 7000, Net Salary: 53800\n"
     ]
    }
   ],
   "source": [
    "print(s2)"
   ]
  },
  {
   "cell_type": "code",
   "execution_count": 8,
   "id": "6c97a6b9-36d5-4e9d-bbd1-f63d6a048a7e",
   "metadata": {},
   "outputs": [],
   "source": [
    "import os\n",
    "import pickle"
   ]
  },
  {
   "cell_type": "code",
   "execution_count": 13,
   "id": "d0578091-6a44-4a01-a95a-e0b0ac2dcf76",
   "metadata": {},
   "outputs": [],
   "source": [
    "class EmployeeManager:\n",
    "    def __init__(self):\n",
    "        self.filename = r\"C:\\Users\\292593\\Desktop\\master\\python training\\python_code_submit\\Python-training\\employee_data.pkl\"\n",
    "        self.employees = self.load_data()\n",
    "\n",
    "    def add_employee(self, name, dept, desig, gross, tax, bonus):\n",
    "        emp = Employee(name, dept, desig, gross, tax, bonus)\n",
    "        self.employees.append(emp)\n",
    "        self.save_data()\n",
    "        return emp\n",
    "\n",
    "    def save_data(self):\n",
    "        directory = os.path.dirname(self.filename)\n",
    "        if directory and not os.path.exists(directory):  # Check if directory is not empty\n",
    "            os.makedirs(directory, exist_ok=True)\n",
    "\n",
    "        with open(self.filename, \"wb\") as f:\n",
    "            pickle.dump(self.employees, f)\n",
    "\n",
    "    def load_data(self):\n",
    "        try:\n",
    "            with open(self.filename, \"rb\") as f:\n",
    "                return pickle.load(f)\n",
    "        except (FileNotFoundError, EOFError):\n",
    "            return []\n",
    "        except pickle.UnpicklingError:\n",
    "            print(\"Error unpickling file. Data might be corrupted.\")\n",
    "            return []\n",
    "\n",
    "    def view_employees(self):\n",
    "        return self.employees  # No need to convert\n",
    "\n",
    "    def search_employee_by_id(self, emp_id):\n",
    "        for emp in self.employees:\n",
    "            if emp.id == emp_id:\n",
    "                return emp\n",
    "        return None\n",
    "\n",
    "    def delete_employee(self, emp_id):\n",
    "        original_len = len(self.employees)\n",
    "        self.employees = [emp for emp in self.employees if emp.id != emp_id]\n",
    "        self.save_data()\n",
    "        return len(self.employees) < original_len\n"
   ]
  },
  {
   "cell_type": "code",
   "execution_count": 14,
   "id": "42164370-75d9-4222-8fb0-8f5babcb02f4",
   "metadata": {},
   "outputs": [],
   "source": [
    "import os\n",
    "import pickle\n",
    "\n",
    "class Storage:\n",
    "    def __init__(self):\n",
    "        self.filename = r\"C:\\Users\\292593\\Desktop\\master\\python training\\Hackatons\\Friday_4th\\292593_SanjuJacob_UST\\Hackaton_11_April\\Hackaton3_v2\\storage_data.pkl\"\n",
    "\n",
    "    def save_data(self, data):\n",
    "        directory = os.path.dirname(self.filename)\n",
    "        if not os.path.exists(directory):\n",
    "            os.makedirs(directory, exist_ok=True)\n",
    "\n",
    "        with open(self.filename, \"wb\") as f:\n",
    "            pickle.dump(data, f)\n",
    "\n",
    "    def load_data(self):\n",
    "        try:\n",
    "            with open(self.filename, \"rb\") as f:\n",
    "                return pickle.load(f)\n",
    "        except (FileNotFoundError, EOFError):\n",
    "            return []\n",
    "        except pickle.UnpicklingError:\n",
    "            print(\"Error unpickling file. Data might be corrupted.\")\n",
    "            return []\n"
   ]
  },
  {
   "cell_type": "code",
   "execution_count": 16,
   "id": "3e425abe-cc0e-44d4-ae49-94ff7650102b",
   "metadata": {},
   "outputs": [
    {
     "name": "stdout",
     "output_type": "stream",
     "text": [
      "Employee Management System\n",
      "1. Add Employee\n",
      "2. View All Employees\n",
      "3. Search by ID\n",
      "4. Delete Employee\n",
      "5. Exit\n"
     ]
    },
    {
     "name": "stdin",
     "output_type": "stream",
     "text": [
      "Enter choice:  1\n",
      "Enter name:  Anil\n",
      "Enter department:  Design\n",
      "Enter designation:  Ui_UX Designer\n",
      "Enter gross salary:  87000\n",
      "Enter tax:  5000\n",
      "Enter bonus:  10000\n"
     ]
    },
    {
     "name": "stdout",
     "output_type": "stream",
     "text": [
      "Employee Anil added successfully with ID 3686.\n",
      "Employee Management System\n",
      "1. Add Employee\n",
      "2. View All Employees\n",
      "3. Search by ID\n",
      "4. Delete Employee\n",
      "5. Exit\n"
     ]
    },
    {
     "name": "stdin",
     "output_type": "stream",
     "text": [
      "Enter choice:  2\n"
     ]
    },
    {
     "name": "stdout",
     "output_type": "stream",
     "text": [
      "ID: 3686, Name: Anil, Dept: Design, Designation: Ui_UX Designer, Gross Salary: 87000.0, Tax: 5000.0, Bonus: 10000.0, Net Salary: 92000.0\n",
      "Employee Management System\n",
      "1. Add Employee\n",
      "2. View All Employees\n",
      "3. Search by ID\n",
      "4. Delete Employee\n",
      "5. Exit\n"
     ]
    },
    {
     "name": "stdin",
     "output_type": "stream",
     "text": [
      "Enter choice:  5\n"
     ]
    },
    {
     "name": "stdout",
     "output_type": "stream",
     "text": [
      "Exiting the program.\n"
     ]
    }
   ],
   "source": [
    "\n",
    "\n",
    "def main():\n",
    "    manager = EmployeeManager()\n",
    "\n",
    "    while True:\n",
    "        print(\"Employee Management System\")\n",
    "        print(\"1. Add Employee\")\n",
    "        print(\"2. View All Employees\")\n",
    "        print(\"3. Search by ID\")\n",
    "        print(\"4. Delete Employee\")\n",
    "        print(\"5. Exit\")\n",
    "\n",
    "        choice = int(input(\"Enter choice: \"))\n",
    "\n",
    "        if choice == 1:\n",
    "            name = input(\"Enter name: \")\n",
    "            dept = input(\"Enter department: \")\n",
    "            desig = input(\"Enter designation: \")\n",
    "            gross = float(input(\"Enter gross salary: \"))\n",
    "            tax = float(input(\"Enter tax: \"))\n",
    "            bonus = float(input(\"Enter bonus: \"))\n",
    "            emp = manager.add_employee(name, dept, desig, gross, tax, bonus)\n",
    "            print(f\"Employee {emp.name} added successfully with ID {emp.id}.\")\n",
    "\n",
    "        elif choice == 2:\n",
    "            employees = manager.view_employees()\n",
    "            if employees:\n",
    "                for emp in employees:\n",
    "                    print(f\"ID: {emp.id}, Name: {emp.name}, Dept: {emp.department}, \"\n",
    "                          f\"Designation: {emp.designation}, Gross Salary: {emp.gross_salary}, \"\n",
    "                          f\"Tax: {emp.tax}, Bonus: {emp.bonus}, Net Salary: {emp.net_salary}\")\n",
    "            else:\n",
    "                print(\"No employees found.\")\n",
    "\n",
    "        elif choice == 3:\n",
    "            emp_id = input(\"Enter employee ID to search: \")\n",
    "            employee = manager.search_employee_by_id(emp_id)\n",
    "            if employee:\n",
    "                print(f\"Employee found: {employee}\")\n",
    "            else:\n",
    "                print(\"Employee not found.\")\n",
    "\n",
    "        elif choice == 4:\n",
    "            emp_id = input(\"Enter employee ID to delete: \")\n",
    "            if manager.delete_employee(emp_id):\n",
    "                print(f\"Employee with ID {emp_id} deleted.\")\n",
    "            else:\n",
    "                print(\"Employee not found.\")\n",
    "\n",
    "        elif choice == 5:\n",
    "            print(\"Exiting the program.\")\n",
    "            break\n",
    "\n",
    "        else:\n",
    "            print(\"Invalid choice. Please try again.\")\n",
    "\n",
    "if __name__ == \"__main__\":\n",
    "    main()"
   ]
  },
  {
   "cell_type": "code",
   "execution_count": 17,
   "id": "4ab49116-cbbb-4ae9-a8e9-1ef9e933d40e",
   "metadata": {},
   "outputs": [
    {
     "name": "stdout",
     "output_type": "stream",
     "text": [
      "Employee Management System\n",
      "1. Add Employee\n",
      "2. View All Employees\n",
      "3. Search by ID\n",
      "4. Delete Employee\n",
      "5. Exit\n"
     ]
    },
    {
     "name": "stdin",
     "output_type": "stream",
     "text": [
      "Enter choice:  1\n",
      "Enter name:  Sunil\n",
      "Enter department:  Developer2\n",
      "Enter designation:  Developer\n",
      "Enter gross salary:  50000\n",
      "Enter tax:  2000\n",
      "Enter bonus:  6000\n"
     ]
    },
    {
     "name": "stdout",
     "output_type": "stream",
     "text": [
      "Employee Sunil added successfully with ID 5688.\n",
      "Employee Management System\n",
      "1. Add Employee\n",
      "2. View All Employees\n",
      "3. Search by ID\n",
      "4. Delete Employee\n",
      "5. Exit\n"
     ]
    },
    {
     "name": "stdin",
     "output_type": "stream",
     "text": [
      "Enter choice:  2\n"
     ]
    },
    {
     "name": "stdout",
     "output_type": "stream",
     "text": [
      "ID: 3686, Name: Anil, Dept: Design, Designation: Ui_UX Designer, Gross Salary: 87000.0, Tax: 5000.0, Bonus: 10000.0, Net Salary: 92000.0\n",
      "ID: 5688, Name: Sunil, Dept: Developer2, Designation: Developer, Gross Salary: 50000.0, Tax: 2000.0, Bonus: 6000.0, Net Salary: 54000.0\n",
      "Employee Management System\n",
      "1. Add Employee\n",
      "2. View All Employees\n",
      "3. Search by ID\n",
      "4. Delete Employee\n",
      "5. Exit\n"
     ]
    },
    {
     "name": "stdin",
     "output_type": "stream",
     "text": [
      "Enter choice:  3\n",
      "Enter employee ID to search:  5688\n"
     ]
    },
    {
     "name": "stdout",
     "output_type": "stream",
     "text": [
      "Employee found: ID: 5688, Name: Sunil, Department: Developer2, Designation: Developer, Gross Salary: 50000.0, Tax: 2000.0, Bonus: 6000.0, Net Salary: 54000.0\n",
      "Employee Management System\n",
      "1. Add Employee\n",
      "2. View All Employees\n",
      "3. Search by ID\n",
      "4. Delete Employee\n",
      "5. Exit\n"
     ]
    },
    {
     "name": "stdin",
     "output_type": "stream",
     "text": [
      "Enter choice:  4\n",
      "Enter employee ID to delete:  5688\n"
     ]
    },
    {
     "ename": "TypeError",
     "evalue": "'Employee' object is not subscriptable",
     "output_type": "error",
     "traceback": [
      "\u001b[1;31m---------------------------------------------------------------------------\u001b[0m",
      "\u001b[1;31mTypeError\u001b[0m                                 Traceback (most recent call last)",
      "Cell \u001b[1;32mIn[17], line 1\u001b[0m\n\u001b[1;32m----> 1\u001b[0m main()\n",
      "Cell \u001b[1;32mIn[16], line 44\u001b[0m, in \u001b[0;36mmain\u001b[1;34m()\u001b[0m\n\u001b[0;32m     42\u001b[0m \u001b[38;5;28;01melif\u001b[39;00m choice \u001b[38;5;241m==\u001b[39m \u001b[38;5;241m4\u001b[39m:\n\u001b[0;32m     43\u001b[0m     emp_id \u001b[38;5;241m=\u001b[39m \u001b[38;5;28minput\u001b[39m(\u001b[38;5;124m\"\u001b[39m\u001b[38;5;124mEnter employee ID to delete: \u001b[39m\u001b[38;5;124m\"\u001b[39m)\n\u001b[1;32m---> 44\u001b[0m     \u001b[38;5;28;01mif\u001b[39;00m manager\u001b[38;5;241m.\u001b[39mdelete_employee(emp_id):\n\u001b[0;32m     45\u001b[0m         \u001b[38;5;28mprint\u001b[39m(\u001b[38;5;124mf\u001b[39m\u001b[38;5;124m\"\u001b[39m\u001b[38;5;124mEmployee with ID \u001b[39m\u001b[38;5;132;01m{\u001b[39;00memp_id\u001b[38;5;132;01m}\u001b[39;00m\u001b[38;5;124m deleted.\u001b[39m\u001b[38;5;124m\"\u001b[39m)\n\u001b[0;32m     46\u001b[0m     \u001b[38;5;28;01melse\u001b[39;00m:\n",
      "Cell \u001b[1;32mIn[13], line 41\u001b[0m, in \u001b[0;36mEmployeeManager.delete_employee\u001b[1;34m(self, emp_id)\u001b[0m\n\u001b[0;32m     39\u001b[0m \u001b[38;5;28;01mdef\u001b[39;00m \u001b[38;5;21mdelete_employee\u001b[39m(\u001b[38;5;28mself\u001b[39m, emp_id):\n\u001b[0;32m     40\u001b[0m     original_len \u001b[38;5;241m=\u001b[39m \u001b[38;5;28mlen\u001b[39m(\u001b[38;5;28mself\u001b[39m\u001b[38;5;241m.\u001b[39memployees)\n\u001b[1;32m---> 41\u001b[0m     \u001b[38;5;28mself\u001b[39m\u001b[38;5;241m.\u001b[39memployees \u001b[38;5;241m=\u001b[39m [emp \u001b[38;5;28;01mfor\u001b[39;00m emp \u001b[38;5;129;01min\u001b[39;00m \u001b[38;5;28mself\u001b[39m\u001b[38;5;241m.\u001b[39memployees \u001b[38;5;28;01mif\u001b[39;00m emp[\u001b[38;5;124m\"\u001b[39m\u001b[38;5;124mid\u001b[39m\u001b[38;5;124m\"\u001b[39m] \u001b[38;5;241m!=\u001b[39m emp_id]\n\u001b[0;32m     42\u001b[0m     \u001b[38;5;28mself\u001b[39m\u001b[38;5;241m.\u001b[39msave_data()\n\u001b[0;32m     43\u001b[0m     \u001b[38;5;28;01mreturn\u001b[39;00m \u001b[38;5;28mlen\u001b[39m(\u001b[38;5;28mself\u001b[39m\u001b[38;5;241m.\u001b[39memployees) \u001b[38;5;241m<\u001b[39m original_len\n",
      "\u001b[1;31mTypeError\u001b[0m: 'Employee' object is not subscriptable"
     ]
    }
   ],
   "source": [
    "main()"
   ]
  },
  {
   "cell_type": "code",
   "execution_count": null,
   "id": "5eb5d2c6-c747-40c6-8824-52559dda3322",
   "metadata": {},
   "outputs": [],
   "source": []
  }
 ],
 "metadata": {
  "kernelspec": {
   "display_name": "Python 3 (ipykernel)",
   "language": "python",
   "name": "python3"
  },
  "language_info": {
   "codemirror_mode": {
    "name": "ipython",
    "version": 3
   },
   "file_extension": ".py",
   "mimetype": "text/x-python",
   "name": "python",
   "nbconvert_exporter": "python",
   "pygments_lexer": "ipython3",
   "version": "3.12.4"
  }
 },
 "nbformat": 4,
 "nbformat_minor": 5
}
