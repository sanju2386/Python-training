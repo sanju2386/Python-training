{
 "cells": [
  {
   "cell_type": "raw",
   "id": "8977e5bd-3fa3-40f0-9777-7e63da626a3e",
   "metadata": {},
   "source": [
    "Create a metaclass called AutoInit that automatically injects an __init__ method into \n",
    "any class that:\n",
    "\n",
    "Defines a class-level list called init_fields, e.g., [\"name\", \"salary\"].\n",
    "\n",
    "If the __init__ method already exists, the metaclass should not override it.\n",
    "\n",
    "The injected __init__ should assign values to those fields as instance attributes.\n",
    "\n",
    "Raise an error if the init_fields list is missing or not a list.\n"
   ]
  },
  {
   "cell_type": "code",
   "execution_count": 1,
   "id": "1fcb5165-eeef-4e4f-bb47-56a5d51f8337",
   "metadata": {},
   "outputs": [],
   "source": [
    "class AutoInit(type):\n",
    "    def __new__(cls,name,base,dct):\n",
    "        \n",
    "        return super().__new__(cls,name,base,dct)"
   ]
  },
  {
   "cell_type": "raw",
   "id": "21335d0f-38d1-4010-af4a-3f7e41e33a83",
   "metadata": {},
   "source": [
    "class Autoinit(type):\n",
    "    def __new__(cls,name,bases,dct):\n",
    "\n",
    "        # check for iniit field\n",
    "        init_field=None\n",
    "        if init_field is None or not instance(init_field,list):\n",
    "            raise TypeError(f\"Class{name} must define class level list called init_fields\")\n",
    "        \n",
    "        # check if __init__ is defined otherwise inject it \n",
    "        if '__init__' not in dct:\n",
    "            def __init__(self, *args):\n",
    "                for field v\n",
    "\n",
    "\n",
    "\n",
    "        dct\n",
    "        "
   ]
  },
  {
   "cell_type": "code",
   "execution_count": 2,
   "id": "2eebd531-672b-44d8-b2ed-e679b053b368",
   "metadata": {},
   "outputs": [],
   "source": [
    "import time\n",
    "import tracemalloc\n",
    "from functools import cache"
   ]
  },
  {
   "cell_type": "code",
   "execution_count": 3,
   "id": "a3e5ab0e-b231-4d25-95f8-411e1e212bcc",
   "metadata": {},
   "outputs": [],
   "source": [
    "def fib(n):\n",
    "    if n<2:\n",
    "        return n\n",
    "    return fib(n-1)+fib(n-2)"
   ]
  },
  {
   "cell_type": "code",
   "execution_count": 6,
   "id": "84031573-4f61-415d-b259-d4500754c81a",
   "metadata": {},
   "outputs": [],
   "source": [
    "@cache\n",
    "def fib_cach(n):\n",
    "    if n<2:\n",
    "        return n\n",
    "    return fib(n-1)+fib(n-2)"
   ]
  },
  {
   "cell_type": "code",
   "execution_count": 13,
   "id": "f9689df6-36d5-421e-b6b8-1ee7b9ab9747",
   "metadata": {},
   "outputs": [],
   "source": [
    "def execution(func,n):\n",
    "\n",
    "    tracemalloc.start\n",
    "    starttime=time.time()\n",
    "    result=func(n)\n",
    "    endtime=time.time()\n",
    "    current,peak=tracemalloc.get_trace_memory\n",
    "    tracemalloc.stop()\n",
    "    print({func.name})\n",
    "    print(f\"time taken{endtime-starttime} seconds\")\n",
    "    print(f\"Memory used {current}Bytes,Peak: {peak} Bytes\\n\")\n"
   ]
  },
  {
   "cell_type": "code",
   "execution_count": 14,
   "id": "cefb6565-8ba6-4aba-bfee-84e536c6f27a",
   "metadata": {},
   "outputs": [
    {
     "ename": "AttributeError",
     "evalue": "module 'tracemalloc' has no attribute 'get_trace_memory'",
     "output_type": "error",
     "traceback": [
      "\u001b[1;31m---------------------------------------------------------------------------\u001b[0m",
      "\u001b[1;31mAttributeError\u001b[0m                            Traceback (most recent call last)",
      "Cell \u001b[1;32mIn[14], line 2\u001b[0m\n\u001b[0;32m      1\u001b[0m N\u001b[38;5;241m=\u001b[39m\u001b[38;5;241m35\u001b[39m\n\u001b[1;32m----> 2\u001b[0m execution(fib_cach,N)\n",
      "Cell \u001b[1;32mIn[13], line 7\u001b[0m, in \u001b[0;36mexecution\u001b[1;34m(func, n)\u001b[0m\n\u001b[0;32m      5\u001b[0m result\u001b[38;5;241m=\u001b[39mfunc(n)\n\u001b[0;32m      6\u001b[0m endtime\u001b[38;5;241m=\u001b[39mtime\u001b[38;5;241m.\u001b[39mtime()\n\u001b[1;32m----> 7\u001b[0m current,peak\u001b[38;5;241m=\u001b[39mtracemalloc\u001b[38;5;241m.\u001b[39mget_trace_memory\n\u001b[0;32m      8\u001b[0m tracemalloc\u001b[38;5;241m.\u001b[39mstop()\n\u001b[0;32m      9\u001b[0m \u001b[38;5;28mprint\u001b[39m({func\u001b[38;5;241m.\u001b[39mname})\n",
      "\u001b[1;31mAttributeError\u001b[0m: module 'tracemalloc' has no attribute 'get_trace_memory'"
     ]
    }
   ],
   "source": [
    "N=35\n",
    "execution(fib_cach,N)"
   ]
  },
  {
   "cell_type": "code",
   "execution_count": 15,
   "id": "5acbff06-fdde-4c80-878f-8ceda479a697",
   "metadata": {},
   "outputs": [
    {
     "name": "stdout",
     "output_type": "stream",
     "text": [
      "Function: fib_cach\n",
      "Time taken: 0.000000 seconds\n",
      "Memory used: 1880 Bytes, Peak: 2000 Bytes\n",
      "\n"
     ]
    },
    {
     "data": {
      "text/plain": [
       "9227465"
      ]
     },
     "execution_count": 15,
     "metadata": {},
     "output_type": "execute_result"
    }
   ],
   "source": [
    "import time\n",
    "import tracemalloc\n",
    "\n",
    "def execution(func, n):\n",
    "    tracemalloc.start()  # 🔧 missing parentheses to call the function\n",
    "    starttime = time.time()\n",
    "    \n",
    "    result = func(n)\n",
    "    \n",
    "    endtime = time.time()\n",
    "    current, peak = tracemalloc.get_traced_memory()  # 🔧 correct function name\n",
    "    \n",
    "    tracemalloc.stop()\n",
    "    \n",
    "    print(f\"Function: {func.__name__}\")  # 🔧 use __name__ instead of name\n",
    "    print(f\"Time taken: {endtime - starttime:.6f} seconds\")\n",
    "    print(f\"Memory used: {current} Bytes, Peak: {peak} Bytes\\n\")\n",
    "    \n",
    "    return result  # Optional: return the result of the function\n",
    "\n",
    "# Example usage\n",
    "from functools import lru_cache\n",
    "\n",
    "@lru_cache(maxsize=None)\n",
    "def fib_cach(n):\n",
    "    if n <= 1:\n",
    "        return n\n",
    "    return fib_cach(n-1) + fib_cach(n-2)\n",
    "\n",
    "N = 35\n",
    "execution(fib_cach, N)\n"
   ]
  },
  {
   "cell_type": "code",
   "execution_count": 17,
   "id": "969129cb-73bb-4e7b-a0b6-2f5e512475fa",
   "metadata": {},
   "outputs": [
    {
     "name": "stdout",
     "output_type": "stream",
     "text": [
      "Function: fib\n",
      "Time taken: 0.000000 seconds\n",
      "Memory used: 0 Bytes, Peak: 0 Bytes\n",
      "\n"
     ]
    },
    {
     "data": {
      "text/plain": [
       "34"
      ]
     },
     "execution_count": 17,
     "metadata": {},
     "output_type": "execute_result"
    }
   ],
   "source": [
    "N=9\n",
    "execution(fib, N)"
   ]
  },
  {
   "cell_type": "code",
   "execution_count": 18,
   "id": "849a2f53-dba3-46e9-b2b2-063de5aeb737",
   "metadata": {},
   "outputs": [],
   "source": [
    "from functools import total_ordering\n",
    "\n",
    "@total_ordering\n",
    "class Student(object):\n",
    "\n",
    "    def __init__(self, name, marks):\n",
    "        self.name = name\n",
    "        self.marks = marks\n",
    "\n",
    "    def __eq__(self, other):\n",
    "        if not isinstance(other, Student):\n",
    "            return NotImplemented\n",
    "        return self.marks == other.marks\n",
    "\n",
    "    def __lt__(self, other):\n",
    "        if not isinstance(other, Student):\n",
    "            return NotImplemented \n",
    "        return self.marks < other.marks\n",
    "\n",
    "    def __repr__(self):\n",
    "        return f\"{self.name}({self.marks})\""
   ]
  },
  {
   "cell_type": "code",
   "execution_count": 19,
   "id": "a4aaca73-1fbb-4f4b-9551-f3a9bc01e39c",
   "metadata": {},
   "outputs": [],
   "source": [
    "s1 = (\"Anil\", 398)\n",
    "s2 = (\"Sunil\", 407)"
   ]
  },
  {
   "cell_type": "code",
   "execution_count": 20,
   "id": "b33dccda-d415-43ad-9e4a-05aff8aa4e57",
   "metadata": {},
   "outputs": [
    {
     "data": {
      "text/plain": [
       "(('Anil', 398), ('Sunil', 407))"
      ]
     },
     "execution_count": 20,
     "metadata": {},
     "output_type": "execute_result"
    }
   ],
   "source": [
    "s1, s2"
   ]
  },
  {
   "cell_type": "code",
   "execution_count": 21,
   "id": "e6ea6350-3d8b-4118-bfb0-c7e62d346191",
   "metadata": {},
   "outputs": [
    {
     "data": {
      "text/plain": [
       "False"
      ]
     },
     "execution_count": 21,
     "metadata": {},
     "output_type": "execute_result"
    }
   ],
   "source": [
    "s1 == s2 # works, because it is implemented"
   ]
  },
  {
   "cell_type": "code",
   "execution_count": null,
   "id": "d81260c2-5f70-4703-9975-34db62134b60",
   "metadata": {},
   "outputs": [],
   "source": []
  },
  {
   "cell_type": "code",
   "execution_count": null,
   "id": "56818fd0-42b3-4158-81ea-5e6c887e4f61",
   "metadata": {},
   "outputs": [],
   "source": []
  },
  {
   "cell_type": "code",
   "execution_count": null,
   "id": "2310175f-5e40-4a92-b79d-24bb6e4b05e2",
   "metadata": {},
   "outputs": [],
   "source": []
  },
  {
   "cell_type": "code",
   "execution_count": null,
   "id": "c0dfb05c-49b2-4fa5-9072-69cdb81de169",
   "metadata": {},
   "outputs": [],
   "source": []
  },
  {
   "cell_type": "code",
   "execution_count": null,
   "id": "f434ba83-6d25-4cbc-a20c-3d833e8236bc",
   "metadata": {},
   "outputs": [],
   "source": []
  },
  {
   "cell_type": "markdown",
   "id": "cd49255a-e959-4c91-810c-8bbbc1af3ee7",
   "metadata": {},
   "source": [
    "# Lab session I"
   ]
  },
  {
   "cell_type": "raw",
   "id": "c840bfd7-860f-4e60-bd14-36dee0040411",
   "metadata": {},
   "source": [
    "Session 1 [30]\n",
    "-------------------------------------------------------------------------------------------\n",
    "\n",
    "Problem Statement\n",
    "--------------------------------------\n",
    "\n",
    "You are designing a system to rank products based on their ratings (on a scale of 0 to 5). \n",
    "Two products are considered equal if their ratings are equal. A product with a lower rating \n",
    "is considered less than one with a higher rating.\n",
    "\n",
    "Requirements:\n",
    "\n",
    "Implement a class Product with the following:\n",
    "\n",
    "    Attributes: name (str), rating (float)\n",
    "    Define appropriate comparison methods to allow sorting and comparison based on rating.\n",
    "    such as __le__, __gt__\n",
    "    Use @total_ordering to minimize method definitions.\n",
    "\n",
    "You are to:\n",
    "\n",
    "        Implement the class with proper ordering using @total_ordering.\n",
    "        Create a list of products and sort them.\n",
    "        Demonstrate comparisons (==, <, >=, etc.) between different products.\n",
    "\n",
    "\n",
    "class Product:\n",
    "    pass\n",
    "\n",
    "# === SAMPLE TEST CASE ===\n",
    "if __name__ == \"__main__\":\n",
    "    p1 = Product(\"Laptop\", 4.5)\n",
    "    p2 = Product(\"Tablet\", 4.7)\n",
    "    p3 = Product(\"Phone\", 4.5)\n",
    "    p4 = Product(\"Monitor\", 4.2)\n",
    "\n",
    "    print(\"Sorted Products:\", sorted([p1, p2, p3, p4]))\n",
    "    print(\"p1 == p3:\", p1 == p3)\n",
    "    print(\"p1 < p2:\", p1 < p2)\n",
    "    print(\"p2 >= p4:\", p2 >= p4)\n",
    "\n",
    "# Output\n",
    "\n",
    "Sorted Products: [Monitor(4.2), Laptop(4.5), Phone(4.5), Tablet(4.7)]\n",
    "p1 == p3: True\n",
    "p1 < p2: True\n",
    "p2 >= p4: True"
   ]
  },
  {
   "cell_type": "code",
   "execution_count": null,
   "id": "5c50fc61-eee6-4995-8d5d-7985f69c7ee8",
   "metadata": {},
   "outputs": [],
   "source": [
    "from functools import total_ordering\n",
    "\n",
    "@total_ordering\n",
    "class Product(object):\n",
    "\n",
    "    def __init__(self, name,rating):\n",
    "        self.name = name\n",
    "        self.rating = rating\n",
    "\n",
    "    def __eq__(self, other):\n",
    "        if not isinstance(other, Product):\n",
    "            return NotImplemented\n",
    "        return self.rating == other.rating\n",
    "\n",
    "    def __gt__(self, other):\n",
    "        if not isinstance(other, Product):\n",
    "            return NotImplemented \n",
    "        return self.rating > other.rating\n",
    "\n",
    "    # def __le__(self, other):\n",
    "    #     if not isinstance(other, Product):\n",
    "    #         return NotImplemented \n",
    "    #     return self.rating < = other.rating\n",
    "\n",
    "    def __repr__(self):\n",
    "        return f\"{self.name}({self.marks})\"\n",
    "\n"
   ]
  }
 ],
 "metadata": {
  "kernelspec": {
   "display_name": "Python 3 (ipykernel)",
   "language": "python",
   "name": "python3"
  },
  "language_info": {
   "codemirror_mode": {
    "name": "ipython",
    "version": 3
   },
   "file_extension": ".py",
   "mimetype": "text/x-python",
   "name": "python",
   "nbconvert_exporter": "python",
   "pygments_lexer": "ipython3",
   "version": "3.12.4"
  }
 },
 "nbformat": 4,
 "nbformat_minor": 5
}
