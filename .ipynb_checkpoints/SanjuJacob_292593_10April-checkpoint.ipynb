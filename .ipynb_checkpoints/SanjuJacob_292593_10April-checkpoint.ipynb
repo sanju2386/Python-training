{
 "cells": [
  {
   "cell_type": "code",
   "execution_count": null,
   "id": "f71ed96c-b79e-434e-ac1e-20ebe7dc5370",
   "metadata": {},
   "outputs": [],
   "source": []
  }
 ],
 "metadata": {
  "kernelspec": {
   "display_name": "Python 3 (ipykernel)",
   "language": "python",
   "name": "python3"
  },
  "language_info": {
   "codemirror_mode": {
    "name": "ipython",
    "version": 3
   },
   "file_extension": ".py",
   "mimetype": "text/x-python",
   "name": "python",
   "nbconvert_exporter": "python",
   "pygments_lexer": "ipython3",
   "version": "3.12.4"
  }
 },
 "nbformat": 4,
 "nbformat_minor": 5
}
