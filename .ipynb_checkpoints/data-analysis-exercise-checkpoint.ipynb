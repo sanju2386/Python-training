{
 "cells": [
  {
   "cell_type": "code",
   "execution_count": null,
   "id": "318605be",
   "metadata": {},
   "outputs": [],
   "source": [
    "# Distribution of BasePay"
   ]
  },
  {
   "cell_type": "code",
   "execution_count": null,
   "id": "6b79289d",
   "metadata": {},
   "outputs": [],
   "source": [
    "plt.figure(figsize=(10, 6))\n",
    "sns.histplot(df['BasePay'].dropna(), bins=50, kde=True)\n",
    "plt.title('Distribution of BasePay')\n",
    "plt.xlabel('BasePay')\n",
    "plt.ylabel('Frequency')\n",
    "plt.show()\n"
   ]
  },
  {
   "cell_type": "code",
   "execution_count": null,
   "id": "99f9c16a",
   "metadata": {},
   "outputs": [],
   "source": [
    "# Average TotalPay per Year"
   ]
  },
  {
   "cell_type": "code",
   "execution_count": null,
   "id": "1e018509",
   "metadata": {},
   "outputs": [],
   "source": [
    "plt.figure(figsize=(8, 5))\n",
    "sns.barplot(x='Year', y='TotalPay', data=df, estimator='mean')\n",
    "plt.title('Average TotalPay Per Year')\n",
    "plt.ylabel('Average TotalPay')\n",
    "plt.show()\n"
   ]
  },
  {
   "cell_type": "code",
   "execution_count": null,
   "id": "08061a37",
   "metadata": {},
   "outputs": [],
   "source": [
    "# Top 10 Most Common Job Titles"
   ]
  },
  {
   "cell_type": "code",
   "execution_count": null,
   "id": "3460d7aa",
   "metadata": {},
   "outputs": [],
   "source": [
    "top_jobs = df['JobTitle'].value_counts().head(10)\n",
    "top_jobs.plot(kind='barh', figsize=(10, 6), color='skyblue')\n",
    "plt.title('Top 10 Most Common Job Titles')\n",
    "plt.xlabel('Number of Employees')\n",
    "plt.gca().invert_yaxis()\n",
    "plt.show()\n"
   ]
  },
  {
   "cell_type": "code",
   "execution_count": null,
   "id": "e4299355",
   "metadata": {},
   "outputs": [],
   "source": [
    "# Top 10 Highest Paid Employees"
   ]
  },
  {
   "cell_type": "code",
   "execution_count": null,
   "id": "fa8b9770",
   "metadata": {},
   "outputs": [],
   "source": [
    "top_paid = df[['EmployeeName', 'TotalPayBenefits']].sort_values(by='TotalPayBenefits', ascending=False).head(10)\n",
    "plt.figure(figsize=(10, 6))\n",
    "sns.barplot(x='TotalPayBenefits', y='EmployeeName', data=top_paid, palette='viridis')\n",
    "plt.title('Top 10 Highest Paid Employees')\n",
    "plt.xlabel('Total Pay with Benefits')\n",
    "plt.ylabel('Employee Name')\n",
    "plt.show()\n"
   ]
  },
  {
   "cell_type": "code",
   "execution_count": null,
   "id": "6e0a980f",
   "metadata": {},
   "outputs": [],
   "source": [
    "# Boxplot of BasePay by Year"
   ]
  },
  {
   "cell_type": "code",
   "execution_count": null,
   "id": "909c4fde",
   "metadata": {},
   "outputs": [],
   "source": [
    "plt.figure(figsize=(10, 6))\n",
    "sns.boxplot(x='Year', y='BasePay', data=df)\n",
    "plt.title('BasePay Distribution by Year')\n",
    "plt.show()\n"
   ]
  },
  {
   "cell_type": "code",
   "execution_count": null,
   "id": "d639cae2",
   "metadata": {},
   "outputs": [],
   "source": [
    "# Correlation Heatmap"
   ]
  },
  {
   "cell_type": "code",
   "execution_count": null,
   "id": "a10fbac0",
   "metadata": {},
   "outputs": [],
   "source": [
    "plt.figure(figsize=(10, 8))\n",
    "corr = df[['BasePay', 'OvertimePay', 'OtherPay', 'Benefits', 'TotalPay', 'TotalPayBenefits']].corr()\n",
    "sns.heatmap(corr, annot=True, cmap='coolwarm', fmt=\".2f\")\n",
    "plt.title('Correlation Matrix')\n",
    "plt.show()\n"
   ]
  },
  {
   "cell_type": "code",
   "execution_count": null,
   "id": "8357d738",
   "metadata": {},
   "outputs": [],
   "source": [
    "# Trend of Average OvertimePay Over Years"
   ]
  },
  {
   "cell_type": "code",
   "execution_count": null,
   "id": "726895fe",
   "metadata": {},
   "outputs": [],
   "source": [
    "plt.figure(figsize=(8, 5))\n",
    "sns.lineplot(x='Year', y='OvertimePay', data=df, estimator='mean')\n",
    "plt.title('Average OvertimePay Over Years')\n",
    "plt.ylabel('Average OvertimePay')\n",
    "plt.show()\n"
   ]
  },
  {
   "cell_type": "code",
   "execution_count": null,
   "id": "40816466",
   "metadata": {},
   "outputs": [],
   "source": [
    "#  Top 5 Agencies with Most Employees"
   ]
  },
  {
   "cell_type": "code",
   "execution_count": null,
   "id": "bd600f76",
   "metadata": {},
   "outputs": [],
   "source": [
    "top_agencies = df['Agency'].value_counts().head(5)\n",
    "top_agencies.plot(kind='pie', autopct='%1.1f%%', figsize=(7, 7), startangle=140)\n",
    "plt.title('Top 5 Agencies by Number of Employees')\n",
    "plt.ylabel('')\n",
    "plt.show()\n"
   ]
  },
  {
   "cell_type": "code",
   "execution_count": null,
   "id": "2d490621",
   "metadata": {},
   "outputs": [],
   "source": [
    "# Compare TotalPay and TotalPayBenefits for Top 10 Job Titles"
   ]
  },
  {
   "cell_type": "code",
   "execution_count": null,
   "id": "8573f28f",
   "metadata": {},
   "outputs": [],
   "source": [
    "top_titles = df['JobTitle'].value_counts().head(10).index\n",
    "filtered = df[df['JobTitle'].isin(top_titles)]\n",
    "grouped = filtered.groupby('JobTitle')[['TotalPay', 'TotalPayBenefits']].mean().sort_values(by='TotalPayBenefits', ascending=False)\n",
    "\n",
    "grouped.plot(kind='bar', figsize=(12, 6))\n",
    "plt.title('Avg TotalPay vs TotalPayBenefits for Top 10 Job Titles')\n",
    "plt.ylabel('Amount')\n",
    "plt.xticks(rotation=45)\n",
    "plt.show()\n"
   ]
  },
  {
   "cell_type": "code",
   "execution_count": null,
   "id": "14878611",
   "metadata": {},
   "outputs": [],
   "source": [
    "### Violin Plot of TotalPay by Year"
   ]
  },
  {
   "cell_type": "code",
   "execution_count": null,
   "id": "a143020d",
   "metadata": {},
   "outputs": [],
   "source": [
    "plt.figure(figsize=(10, 6))\n",
    "sns.violinplot(x='Year', y='TotalPay', data=df)\n",
    "plt.title('TotalPay Distribution per Year (Violin Plot)')\n",
    "plt.show()\n"
   ]
  },
  {
   "cell_type": "code",
   "execution_count": null,
   "id": "9545f511",
   "metadata": {},
   "outputs": [],
   "source": [
    "# Create a Histogram of OvertimePay"
   ]
  },
  {
   "cell_type": "code",
   "execution_count": null,
   "id": "4d38b64a",
   "metadata": {},
   "outputs": [],
   "source": []
  },
  {
   "cell_type": "code",
   "execution_count": null,
   "id": "fc2b61ac",
   "metadata": {},
   "outputs": [],
   "source": [
    "# Compare Average BasePay Across Years"
   ]
  },
  {
   "cell_type": "code",
   "execution_count": null,
   "id": "a094b2ac",
   "metadata": {},
   "outputs": [],
   "source": []
  },
  {
   "cell_type": "code",
   "execution_count": null,
   "id": "92954b28",
   "metadata": {},
   "outputs": [],
   "source": [
    "# Plot a Boxplot of TotalPay by Year"
   ]
  },
  {
   "cell_type": "code",
   "execution_count": null,
   "id": "6878f96e",
   "metadata": {},
   "outputs": [],
   "source": []
  },
  {
   "cell_type": "code",
   "execution_count": null,
   "id": "3ade8e39",
   "metadata": {},
   "outputs": [],
   "source": [
    "# Job Title Frequency Barplot"
   ]
  },
  {
   "cell_type": "code",
   "execution_count": null,
   "id": "caeae95f",
   "metadata": {},
   "outputs": [],
   "source": []
  },
  {
   "cell_type": "code",
   "execution_count": null,
   "id": "1d03d638",
   "metadata": {},
   "outputs": [],
   "source": [
    "# Correlation Heatmap for Numerical Columns"
   ]
  },
  {
   "cell_type": "code",
   "execution_count": null,
   "id": "fe23baed",
   "metadata": {},
   "outputs": [],
   "source": []
  },
  {
   "cell_type": "code",
   "execution_count": null,
   "id": "73e3ef2c",
   "metadata": {},
   "outputs": [],
   "source": [
    "# Median salary year wise"
   ]
  },
  {
   "cell_type": "code",
   "execution_count": null,
   "id": "fa22ee0f",
   "metadata": {},
   "outputs": [],
   "source": []
  },
  {
   "cell_type": "code",
   "execution_count": null,
   "id": "2729ae49",
   "metadata": {},
   "outputs": [],
   "source": [
    "# Come up with a way to categorise the salaries based on job titles and plot a salary distribution pie chart"
   ]
  },
  {
   "cell_type": "code",
   "execution_count": null,
   "id": "02040b80",
   "metadata": {},
   "outputs": [],
   "source": []
  }
 ],
 "metadata": {
  "language_info": {
   "name": "python"
  }
 },
 "nbformat": 4,
 "nbformat_minor": 5
}
