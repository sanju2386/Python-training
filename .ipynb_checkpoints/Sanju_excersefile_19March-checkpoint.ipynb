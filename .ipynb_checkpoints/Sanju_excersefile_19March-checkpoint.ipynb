{
 "cells": [
  {
   "cell_type": "markdown",
   "id": "129faf48-a51c-422e-aec5-0b29b3bf452e",
   "metadata": {},
   "source": [
    "This just a heading"
   ]
  },
  {
   "cell_type": "markdown",
   "id": "5a639433-ded4-4544-acd2-5375a52ae25a",
   "metadata": {},
   "source": [
    "# We are learnig cell functions like markdown , code , raw"
   ]
  },
  {
   "cell_type": "markdown",
   "id": "4a9a888f-bca6-48b2-9f90-6ff9d454bdfd",
   "metadata": {},
   "source": [
    "# Making a headline bigger using '#'"
   ]
  },
  {
   "cell_type": "code",
   "execution_count": null,
   "id": "00030ed2-54ae-4a34-9aec-33aa4416ea08",
   "metadata": {},
   "outputs": [],
   "source": [
    "#"
   ]
  },
  {
   "cell_type": "code",
   "execution_count": 1,
   "id": "43ea932b-678d-4740-96c3-de54a1a16f4e",
   "metadata": {},
   "outputs": [
    {
     "data": {
      "text/plain": [
       "int"
      ]
     },
     "execution_count": 1,
     "metadata": {},
     "output_type": "execute_result"
    }
   ],
   "source": [
    "type(2)"
   ]
  },
  {
   "cell_type": "code",
   "execution_count": 2,
   "id": "3b86d239-d3a1-47cd-92d6-e0c9a496a898",
   "metadata": {},
   "outputs": [],
   "source": [
    "c=12"
   ]
  },
  {
   "cell_type": "code",
   "execution_count": 3,
   "id": "5924dfee-5ddb-4873-9f1e-fd1d9704622e",
   "metadata": {},
   "outputs": [
    {
     "data": {
      "text/plain": [
       "12"
      ]
     },
     "execution_count": 3,
     "metadata": {},
     "output_type": "execute_result"
    }
   ],
   "source": [
    "c"
   ]
  },
  {
   "cell_type": "code",
   "execution_count": 4,
   "id": "5d79c0ad-f20c-4c07-99b7-4430ae474af9",
   "metadata": {},
   "outputs": [],
   "source": [
    "d=2+3j"
   ]
  },
  {
   "cell_type": "code",
   "execution_count": 5,
   "id": "03887149-b2d7-4926-bef5-d30970bf8202",
   "metadata": {},
   "outputs": [
    {
     "data": {
      "text/plain": [
       "complex"
      ]
     },
     "execution_count": 5,
     "metadata": {},
     "output_type": "execute_result"
    }
   ],
   "source": [
    "type(d)"
   ]
  },
  {
   "cell_type": "code",
   "execution_count": null,
   "id": "cc24425f-210b-4eb1-bc59-c7b65811743c",
   "metadata": {},
   "outputs": [],
   "source": []
  },
  {
   "cell_type": "code",
   "execution_count": null,
   "id": "33002f52-4ab4-4bd8-8727-a7fb89799d5c",
   "metadata": {},
   "outputs": [],
   "source": []
  },
  {
   "cell_type": "code",
   "execution_count": null,
   "id": "3042fab2-e1f3-4714-8d8f-44168a36c0e8",
   "metadata": {},
   "outputs": [],
   "source": []
  },
  {
   "cell_type": "markdown",
   "id": "cc5df95c-c3b8-4127-8e22-d5d5f377b8ec",
   "metadata": {},
   "source": [
    "# Builtin functions "
   ]
  },
  {
   "cell_type": "code",
   "execution_count": 7,
   "id": "b93a210d-445c-45f9-ae2c-bebd9213a387",
   "metadata": {},
   "outputs": [
    {
     "name": "stdin",
     "output_type": "stream",
     "text": [
      "enter a number  2\n"
     ]
    }
   ],
   "source": [
    "a1=input(\"enter a number \") "
   ]
  },
  {
   "cell_type": "code",
   "execution_count": 8,
   "id": "52808093-27e0-4790-b1ef-bf6dfe084e63",
   "metadata": {},
   "outputs": [
    {
     "data": {
      "text/plain": [
       "'2'"
      ]
     },
     "execution_count": 8,
     "metadata": {},
     "output_type": "execute_result"
    }
   ],
   "source": [
    "a1"
   ]
  },
  {
   "cell_type": "code",
   "execution_count": 9,
   "id": "d9967ac4-f898-4ff0-9dea-2043197ffe26",
   "metadata": {},
   "outputs": [
    {
     "data": {
      "text/plain": [
       "str"
      ]
     },
     "execution_count": 9,
     "metadata": {},
     "output_type": "execute_result"
    }
   ],
   "source": [
    "type(a1)"
   ]
  },
  {
   "cell_type": "code",
   "execution_count": null,
   "id": "bebca0e9-6b16-46cb-be9f-28797e97c0e8",
   "metadata": {},
   "outputs": [],
   "source": []
  },
  {
   "cell_type": "code",
   "execution_count": null,
   "id": "39da0084-340c-479c-8d94-db04365b41a4",
   "metadata": {},
   "outputs": [],
   "source": []
  },
  {
   "cell_type": "markdown",
   "id": "3a8ff5c3-e5f8-480d-b86b-0009be0632d2",
   "metadata": {},
   "source": [
    "Exercises (Time:11:20 am -11.40 am)\n",
    "1. Given temperature t in Celcius, write a python expression to convert into farenheit\n",
    "2. Given two points A(x1, y1) and B(x2, y2), calculate the straight line distance between them\n",
    "3. Calculate the area of the triangle with threen given points A(x1, y1), B(x2, y2), C(x3, y3)"
   ]
  },
  {
   "cell_type": "markdown",
   "id": "e45492d5-d815-424b-ae3f-130746e59e0b",
   "metadata": {},
   "source": [
    "# Excercise I"
   ]
  },
  {
   "cell_type": "code",
   "execution_count": 13,
   "id": "002f3b06-62d1-4e0f-be9e-0166a6880c67",
   "metadata": {},
   "outputs": [
    {
     "name": "stdin",
     "output_type": "stream",
     "text": [
      "Enter your temperature in Celsius :  35\n"
     ]
    },
    {
     "name": "stdout",
     "output_type": "stream",
     "text": [
      "Degree in Fahrenheit is :  95.0\n"
     ]
    }
   ],
   "source": [
    "temp_in_celsius=int(input(\"Enter your temperature in Celsius : \"))\n",
    "degree_in_faranheit = ((temp_in_celsius*(9/5))+32)\n",
    "print( \"Degree in Fahrenheit is : \",degree_in_faranheit)\n",
    "\n",
    "                    "
   ]
  },
  {
   "cell_type": "code",
   "execution_count": null,
   "id": "2569ca26-a2aa-47a8-af39-498bc0e88458",
   "metadata": {},
   "outputs": [],
   "source": []
  },
  {
   "cell_type": "markdown",
   "id": "497a1cf3-418e-47e0-a6c6-363f0842d174",
   "metadata": {},
   "source": [
    "# Excercise II"
   ]
  },
  {
   "cell_type": "code",
   "execution_count": 21,
   "id": "4ed1f82a-e071-4e53-88ae-e12ff73c468b",
   "metadata": {},
   "outputs": [
    {
     "name": "stdin",
     "output_type": "stream",
     "text": [
      "Enter x cordinate of point a :  2\n",
      "Enter x cordinate of point a :  1\n",
      "Enter x cordinate of point b :  1\n",
      "Enter x cordinate of point b :  3\n"
     ]
    },
    {
     "name": "stdout",
     "output_type": "stream",
     "text": [
      "2.236\n"
     ]
    }
   ],
   "source": [
    "import math\n",
    "x1=int(input(\"Enter x cordinate of point a : \"))\n",
    "y1=int(input(\"Enter y cordinate of point a : \"))\n",
    "x2=int(input(\"Enter x cordinate of point b : \"))\n",
    "y2=int(input(\"Enter y cordinate of point b : \"))\n",
    "d= (((x2-x1)**2) +((y2-y1)**2))\n",
    "lenght_of_2point=math.sqrt(d)\n",
    "print(round(lenght_of_2point,3))"
   ]
  },
  {
   "cell_type": "code",
   "execution_count": null,
   "id": "3046bd6d-7d1c-4680-9c93-86523a5c83ef",
   "metadata": {},
   "outputs": [],
   "source": []
  },
  {
   "cell_type": "code",
   "execution_count": null,
   "id": "9d422e5d-e1e7-4868-84b3-caff32f79c46",
   "metadata": {},
   "outputs": [],
   "source": []
  },
  {
   "cell_type": "markdown",
   "id": "4614d64c-ff89-4b83-ad57-2cce55feac95",
   "metadata": {},
   "source": [
    "# Excercise III"
   ]
  },
  {
   "cell_type": "code",
   "execution_count": 27,
   "id": "09f2c029-3eed-405a-b8fe-7ffd3bf7465d",
   "metadata": {},
   "outputs": [
    {
     "name": "stdin",
     "output_type": "stream",
     "text": [
      "Enter x cordinate of point a :  1\n",
      "Enter y cordinate of point a :  0\n",
      "Enter x cordinate of point b :  2\n",
      "Enter y cordinate of point b :  1\n",
      "Enter x cordinate of point c :  3\n",
      "Enter y cordinate of point c :  4\n"
     ]
    },
    {
     "name": "stdout",
     "output_type": "stream",
     "text": [
      "Area of the traingle 7.0\n"
     ]
    }
   ],
   "source": [
    "x1=int(input(\"Enter x cordinate of point a : \"))\n",
    "y1=int(input(\"Enter y cordinate of point a : \"))\n",
    "x2=int(input(\"Enter x cordinate of point b : \"))\n",
    "y2=int(input(\"Enter y cordinate of point b : \"))\n",
    "x3=int(input(\"Enter x cordinate of point c : \"))\n",
    "y3=int(input(\"Enter y cordinate of point c : \"))\n",
    "area=(0.5*abs((x1*(y3-y2)+x2*(y3-y1)+x3*(y2-y1))))\n",
    "triangle_area= abs(area)\n",
    "print(\"Area of the traingle\" ,triangle_area)\n",
    "\n"
   ]
  },
  {
   "cell_type": "code",
   "execution_count": null,
   "id": "af911d93-aab7-4b6f-a91c-4ba688d5bf9c",
   "metadata": {},
   "outputs": [],
   "source": []
  },
  {
   "cell_type": "markdown",
   "id": "bd6db45d-9e63-402a-affc-bc9eeb9f06b2",
   "metadata": {},
   "source": [
    "# 12.10 pm"
   ]
  },
  {
   "cell_type": "markdown",
   "id": "948178d0-afa3-4336-ba61-2412b1f4b7fd",
   "metadata": {},
   "source": [
    "1. Write a program to calculate the height of a building given the \n",
    "   distance of the measuring instrument from the building and angle formed \n",
    "   at the observer when the highest point is seen [15]\n",
    "2. Given three points in space A, B and C, determine if the points make a isoceles\n",
    "   triangle, or right angled triangle or both [15]\n",
    "3. Design a simple calculator which has the following functionality:\n",
    "   add, sub, mul, div, mod, sqrt, log [15]"
   ]
  },
  {
   "cell_type": "markdown",
   "id": "6eec6c24-f4a7-403b-8350-d30405ff5a61",
   "metadata": {},
   "source": [
    "# Excercise I : Determine Height of the building"
   ]
  },
  {
   "cell_type": "code",
   "execution_count": 4,
   "id": "5de627f2-b140-406a-ba37-21e2068fd808",
   "metadata": {},
   "outputs": [
    {
     "name": "stdin",
     "output_type": "stream",
     "text": [
      "Enter you measurement in foot :   500\n",
      "Enter your angle :  45\n"
     ]
    },
    {
     "name": "stdout",
     "output_type": "stream",
     "text": [
      "Height of build in meter is : 152.4\n"
     ]
    }
   ],
   "source": [
    "import math\n",
    "distance_foot= float(input(\"Enter you measurement in foot :  \"))\n",
    "d_in_mtr = distance_foot * 0.3048\n",
    "angle=int(input(\"Enter your angle : \"))\n",
    "radiance=math.radians(angle)\n",
    "height = d_in_mtr*math.tan(radiance)\n",
    "print(\"Height of build in meter is :\" ,round(height,3) )"
   ]
  },
  {
   "cell_type": "markdown",
   "id": "8d524d43-cb43-48ab-be01-c4b15dd32334",
   "metadata": {},
   "source": [
    "# Excercise II: Check triangle is iscocels or right angled or both from 3 coordinates "
   ]
  },
  {
   "cell_type": "code",
   "execution_count": 3,
   "id": "491702ed-3ddf-4edc-9b44-8fc0c2524222",
   "metadata": {},
   "outputs": [
    {
     "name": "stdin",
     "output_type": "stream",
     "text": [
      "Enter x1 y1 x2 y2 x3 y3 separated by spaces:  0 0 3 1 2 1\n"
     ]
    },
    {
     "name": "stdout",
     "output_type": "stream",
     "text": [
      "The triangle is neither isosceles nor right-angled.\n"
     ]
    }
   ],
   "source": [
    "import math\n",
    "    # input\n",
    "\n",
    "# x1=int(input(\"Enter x ordinate for first point : \"))\n",
    "# y1=int(input(\"Enter y ordinate for first point : \"))\n",
    "# x2=int(input(\"Enter x cordinate for second point : \"))\n",
    "# y2=int(input(\"Enter y cordinate for second point : \"))\n",
    "# x3=int(input(\"Enter x cordinate for third point : \"))\n",
    "# y3=int(input(\"Enter y ordinate for third point : \"))\n",
    "\n",
    "coords = list(map(int, input(\"Enter x1 y1 x2 y2 x3 y3 separated by spaces: \").split()))\n",
    "\n",
    "# Assigning values\n",
    "x1, y1, x2, y2, x3, y3 = coords\n",
    "# process\n",
    "# A=(x1,y1) , B=(x2,y2) , C=(x3,y3)\n",
    "AB=math.sqrt((x2-x1)**2 +(y2-y1)**2)\n",
    "BC=math.sqrt((x3-x2)**2 +(y3-y2)**2)\n",
    "CA=math.sqrt((x1-x3)**2 +(y1-y3)**2)\n",
    "\n",
    "# Check if the triangle is isosceles\n",
    "is_isosceles = AB == BC or BC == CA or CA == AB\n",
    "\n",
    "is_right_angled = (\n",
    "    round(AB ** 2, 5) == round(BC ** 2 + CA ** 2, 5) or\n",
    "    round(BC ** 2, 5) == round(AB ** 2 + CA ** 2, 5) or\n",
    "    round(CA ** 2, 5) == round(AB ** 2 + BC ** 2, 5)\n",
    ")\n",
    "\n",
    "# Output results\n",
    "if is_isosceles and is_right_angled:\n",
    "    print(\"The triangle is both isosceles and right-angled.\")\n",
    "elif is_isosceles:\n",
    "    print(\"The triangle is isosceles.\")\n",
    "elif is_right_angled:\n",
    "    print(\"The triangle is right-angled.\")\n",
    "else:\n",
    "    print(\"The triangle is neither isosceles nor right-angled.\")"
   ]
  },
  {
   "cell_type": "code",
   "execution_count": null,
   "id": "93b9574c-d795-43e2-8bfe-6a7592636960",
   "metadata": {},
   "outputs": [],
   "source": []
  },
  {
   "cell_type": "code",
   "execution_count": null,
   "id": "21585f91-9300-400b-85d5-59fa9dfad6f1",
   "metadata": {},
   "outputs": [],
   "source": []
  },
  {
   "cell_type": "markdown",
   "id": "86fb1042-7c41-439c-a8d7-396b334da75f",
   "metadata": {},
   "source": [
    "# ExceciseIII: Calculator"
   ]
  },
  {
   "cell_type": "code",
   "execution_count": 20,
   "id": "12f84ce3-a66a-43d4-91b6-60de9d28c586",
   "metadata": {},
   "outputs": [
    {
     "name": "stdout",
     "output_type": "stream",
     "text": [
      "Following opperations in this calculator \n",
      " for addition:add \n",
      " for subtraction choose:sub \n",
      " for multiplication chose :mul \n",
      " for division choose :div \n",
      " for modulus operation choose :mod \n",
      " and finally for log operation choose :log\n",
      " for square root choose:sqrt\n",
      "  \n"
     ]
    },
    {
     "name": "stdin",
     "output_type": "stream",
     "text": [
      "Enter desire operation :  sqrt\n",
      "Enter your first number : 49\n",
      "Enter your Second number : 25\n"
     ]
    },
    {
     "name": "stdout",
     "output_type": "stream",
     "text": [
      "the result is :  7.0\n"
     ]
    }
   ],
   "source": [
    "print(\"Following opperations in this calculator \\n for addition:add \\n for subtraction choose:sub \\n for multiplication chose :mul \\n for division choose :div \\n for modulus operation choose :mod \\n and finally for log operation choose :log\\n for square root choose:sqrt\\n  \")\n",
    "choice= input(\"Enter your  desire operation : \")\n",
    "\n",
    "num1=float(input(\"Enter your postive first number :\"))\n",
    "num2=float(input(\"Enter your positive Second number :\"))\n",
    "if choice==\"add\":\n",
    "           \n",
    "           print(\"the result is : \" ,num1+num2)\n",
    "elif choice ==\"sub\" :\n",
    "           print(\"the result is : \" , abs(num1-num2))\n",
    "elif choice ==\"div\" :\n",
    "           print(\"the result is : \" ,num1/num2)\n",
    "elif choice ==\"mod\" :\n",
    "           print(\"the result is : \" ,num1%num2)\n",
    "elif choice ==\"log\" :\n",
    "           print(\"the result is : \" ,log(num1))\n",
    "elif choice ==\"sqrt\" :\n",
    "           print(\"the result is : \" ,math.sqrt(num1))\n",
    "\n",
    "else:\n",
    "    print(\"Bad selection\")\n",
    "\n",
    "\n",
    "\n",
    "\n",
    "\n",
    "           \n",
    "\n"
   ]
  },
  {
   "cell_type": "code",
   "execution_count": null,
   "id": "9da76f29-cfd7-4a37-b8d6-05652f8b8fc5",
   "metadata": {},
   "outputs": [],
   "source": []
  },
  {
   "cell_type": "code",
   "execution_count": null,
   "id": "762d52a0-1bc3-46e0-b239-3b85fe219a32",
   "metadata": {},
   "outputs": [],
   "source": []
  },
  {
   "cell_type": "markdown",
   "id": "f4137372-8f9f-440c-9d3a-47fb86a22fc9",
   "metadata": {},
   "source": [
    "# Strings"
   ]
  },
  {
   "cell_type": "code",
   "execution_count": 25,
   "id": "ad159c1e-0fb1-4add-b8f1-59e0bd506e5a",
   "metadata": {},
   "outputs": [],
   "source": [
    "s=\"computer\"\n"
   ]
  },
  {
   "cell_type": "code",
   "execution_count": 26,
   "id": "84d1498c-60e4-4fa9-9ff1-712272732e2b",
   "metadata": {},
   "outputs": [
    {
     "data": {
      "text/plain": [
       "8"
      ]
     },
     "execution_count": 26,
     "metadata": {},
     "output_type": "execute_result"
    }
   ],
   "source": [
    "len(s)"
   ]
  },
  {
   "cell_type": "code",
   "execution_count": 27,
   "id": "0e40c73f-3eb0-4811-b7e6-4c0c58396625",
   "metadata": {},
   "outputs": [
    {
     "data": {
      "text/plain": [
       "'compu'"
      ]
     },
     "execution_count": 27,
     "metadata": {},
     "output_type": "execute_result"
    }
   ],
   "source": [
    "s[:5]"
   ]
  },
  {
   "cell_type": "code",
   "execution_count": 28,
   "id": "28753745-9714-4ed7-95d4-4b460e4ef89d",
   "metadata": {},
   "outputs": [
    {
     "data": {
      "text/plain": [
       "'cmue'"
      ]
     },
     "execution_count": 28,
     "metadata": {},
     "output_type": "execute_result"
    }
   ],
   "source": [
    "s[0:8:2]"
   ]
  },
  {
   "cell_type": "code",
   "execution_count": 29,
   "id": "c3e7c472-5e85-4823-811f-b1205fc5e9f8",
   "metadata": {},
   "outputs": [
    {
     "data": {
      "text/plain": [
       "'cpe'"
      ]
     },
     "execution_count": 29,
     "metadata": {},
     "output_type": "execute_result"
    }
   ],
   "source": [
    "s[::3]"
   ]
  },
  {
   "cell_type": "code",
   "execution_count": 30,
   "id": "3447d232-851a-4c33-8a67-5d9bb4fc550a",
   "metadata": {},
   "outputs": [
    {
     "data": {
      "text/plain": [
       "'retupmoc'"
      ]
     },
     "execution_count": 30,
     "metadata": {},
     "output_type": "execute_result"
    }
   ],
   "source": [
    "s[::-1]"
   ]
  },
  {
   "cell_type": "markdown",
   "id": "b03789b2-0437-437c-b3d5-75695e7ed5ed",
   "metadata": {},
   "source": [
    "# Operators in string"
   ]
  },
  {
   "cell_type": "code",
   "execution_count": 31,
   "id": "ad25a199-c654-48f9-818a-8ac6b98ee02b",
   "metadata": {},
   "outputs": [
    {
     "ename": "SyntaxError",
     "evalue": "unterminated string literal (detected at line 1) (3535102799.py, line 1)",
     "output_type": "error",
     "traceback": [
      "\u001b[1;36m  Cell \u001b[1;32mIn[31], line 1\u001b[1;36m\u001b[0m\n\u001b[1;33m    \"San\u001b[0m\n\u001b[1;37m    ^\u001b[0m\n\u001b[1;31mSyntaxError\u001b[0m\u001b[1;31m:\u001b[0m unterminated string literal (detected at line 1)\n"
     ]
    }
   ],
   "source": [
    "\"San"
   ]
  },
  {
   "cell_type": "code",
   "execution_count": null,
   "id": "50b420b8-22b8-44c3-9c2c-ae4afb859451",
   "metadata": {},
   "outputs": [],
   "source": []
  },
  {
   "cell_type": "code",
   "execution_count": null,
   "id": "114842d0-d8aa-45da-8275-069ea6b7afa1",
   "metadata": {},
   "outputs": [],
   "source": []
  },
  {
   "cell_type": "code",
   "execution_count": null,
   "id": "d923c688-ba8c-4ffc-9a93-5931c5c8caf5",
   "metadata": {},
   "outputs": [],
   "source": []
  },
  {
   "cell_type": "markdown",
   "id": "94e592c9-69f0-4602-9b55-408f020e0f32",
   "metadata": {},
   "source": [
    "#  Working with case of string"
   ]
  },
  {
   "cell_type": "code",
   "execution_count": 33,
   "id": "d1c6b12c-67d3-4d23-a0e0-3757bea05961",
   "metadata": {},
   "outputs": [
    {
     "data": {
      "text/plain": [
       "'COMPUTER'"
      ]
     },
     "execution_count": 33,
     "metadata": {},
     "output_type": "execute_result"
    }
   ],
   "source": [
    "s.upper()"
   ]
  },
  {
   "cell_type": "code",
   "execution_count": 34,
   "id": "b331f1b7-586f-4d86-b169-e36d8b5a53a0",
   "metadata": {},
   "outputs": [
    {
     "data": {
      "text/plain": [
       "'computer'"
      ]
     },
     "execution_count": 34,
     "metadata": {},
     "output_type": "execute_result"
    }
   ],
   "source": [
    "s.lower()"
   ]
  },
  {
   "cell_type": "code",
   "execution_count": 35,
   "id": "9da3ab8a-c9be-4668-a445-87ccd34ae2df",
   "metadata": {},
   "outputs": [
    {
     "data": {
      "text/plain": [
       "'Computer'"
      ]
     },
     "execution_count": 35,
     "metadata": {},
     "output_type": "execute_result"
    }
   ],
   "source": [
    "s.capitalize()"
   ]
  },
  {
   "cell_type": "code",
   "execution_count": 36,
   "id": "7a4008c7-52dc-4852-9f0e-ab4192d79877",
   "metadata": {},
   "outputs": [
    {
     "data": {
      "text/plain": [
       "True"
      ]
     },
     "execution_count": 36,
     "metadata": {},
     "output_type": "execute_result"
    }
   ],
   "source": [
    "\"123\".isdigit()"
   ]
  },
  {
   "cell_type": "code",
   "execution_count": 38,
   "id": "4e81543f-d318-46f3-a433-ce16f1658bda",
   "metadata": {},
   "outputs": [
    {
     "data": {
      "text/plain": [
       "True"
      ]
     },
     "execution_count": 38,
     "metadata": {},
     "output_type": "execute_result"
    }
   ],
   "source": [
    "\"alp\".isalpha()"
   ]
  },
  {
   "cell_type": "code",
   "execution_count": 41,
   "id": "6e3d34cd-069d-431f-922a-c2ceccc4d8af",
   "metadata": {},
   "outputs": [
    {
     "data": {
      "text/plain": [
       "False"
      ]
     },
     "execution_count": 41,
     "metadata": {},
     "output_type": "execute_result"
    }
   ],
   "source": [
    "s.isupper()"
   ]
  },
  {
   "cell_type": "code",
   "execution_count": 42,
   "id": "d919b64c-5411-440c-a503-09bd8fe46f90",
   "metadata": {},
   "outputs": [
    {
     "data": {
      "text/plain": [
       "True"
      ]
     },
     "execution_count": 42,
     "metadata": {},
     "output_type": "execute_result"
    }
   ],
   "source": [
    "s.islower()"
   ]
  },
  {
   "cell_type": "code",
   "execution_count": 43,
   "id": "d1454344-633d-47f0-a3f7-1aad9c952c27",
   "metadata": {},
   "outputs": [
    {
     "data": {
      "text/plain": [
       "False"
      ]
     },
     "execution_count": 43,
     "metadata": {},
     "output_type": "execute_result"
    }
   ],
   "source": [
    "'.'.isspace()"
   ]
  },
  {
   "cell_type": "code",
   "execution_count": 44,
   "id": "2e4fa9bf-f1e8-4315-b162-aad53cedd914",
   "metadata": {},
   "outputs": [
    {
     "data": {
      "text/plain": [
       "False"
      ]
     },
     "execution_count": 44,
     "metadata": {},
     "output_type": "execute_result"
    }
   ],
   "source": [
    "\"This  is a python course\".istitle()"
   ]
  },
  {
   "cell_type": "code",
   "execution_count": 45,
   "id": "004a167f-efc6-4b01-b3fe-3df389b0903f",
   "metadata": {},
   "outputs": [],
   "source": [
    "url='www.google.com'\n"
   ]
  },
  {
   "cell_type": "code",
   "execution_count": 48,
   "id": "799b5cc8-6f96-493a-8215-3501b5836e7b",
   "metadata": {},
   "outputs": [
    {
     "data": {
      "text/plain": [
       "True"
      ]
     },
     "execution_count": 48,
     "metadata": {},
     "output_type": "execute_result"
    }
   ],
   "source": [
    "url.startswith('www')"
   ]
  },
  {
   "cell_type": "code",
   "execution_count": 50,
   "id": "0919bfef-759a-42f8-b1bc-fca9267037a3",
   "metadata": {},
   "outputs": [
    {
     "data": {
      "text/plain": [
       "False"
      ]
     },
     "execution_count": 50,
     "metadata": {},
     "output_type": "execute_result"
    }
   ],
   "source": [
    "url.endswith('org')"
   ]
  },
  {
   "cell_type": "markdown",
   "id": "942e68cb-2fcd-4fd6-a727-cd45264dd8d3",
   "metadata": {},
   "source": [
    "# Finding in a string"
   ]
  },
  {
   "cell_type": "code",
   "execution_count": 58,
   "id": "bc012ef0-fc2d-4858-9d39-f7ff5c0e8819",
   "metadata": {},
   "outputs": [],
   "source": [
    "a=\"Mississippi\""
   ]
  },
  {
   "cell_type": "code",
   "execution_count": 59,
   "id": "2b8e8c1b-9e25-4bd5-9d7a-a0593a66c589",
   "metadata": {},
   "outputs": [
    {
     "data": {
      "text/plain": [
       "4"
      ]
     },
     "execution_count": 59,
     "metadata": {},
     "output_type": "execute_result"
    }
   ],
   "source": [
    "a.count('s')"
   ]
  },
  {
   "cell_type": "code",
   "execution_count": 60,
   "id": "012f57f0-e13c-44a3-9e99-2073043fd531",
   "metadata": {},
   "outputs": [
    {
     "data": {
      "text/plain": [
       "2"
      ]
     },
     "execution_count": 60,
     "metadata": {},
     "output_type": "execute_result"
    }
   ],
   "source": [
    "a.count('ss')"
   ]
  },
  {
   "cell_type": "code",
   "execution_count": 61,
   "id": "8dfd88cc-ab62-4b78-9123-410ff110d99a",
   "metadata": {},
   "outputs": [
    {
     "data": {
      "text/plain": [
       "1"
      ]
     },
     "execution_count": 61,
     "metadata": {},
     "output_type": "execute_result"
    }
   ],
   "source": [
    "a.find(\"iss\")\n"
   ]
  },
  {
   "cell_type": "code",
   "execution_count": 62,
   "id": "0ded8da7-d36d-4b9d-bcc2-e4fe3cd210e6",
   "metadata": {},
   "outputs": [
    {
     "data": {
      "text/plain": [
       "4"
      ]
     },
     "execution_count": 62,
     "metadata": {},
     "output_type": "execute_result"
    }
   ],
   "source": [
    "a.rfind(\"iss\")"
   ]
  },
  {
   "cell_type": "code",
   "execution_count": 67,
   "id": "aa97800c-6b6e-4f84-b257-79d01c2e2889",
   "metadata": {},
   "outputs": [
    {
     "ename": "NameError",
     "evalue": "name 'desc' is not defined",
     "output_type": "error",
     "traceback": [
      "\u001b[1;31m---------------------------------------------------------------------------\u001b[0m",
      "\u001b[1;31mNameError\u001b[0m                                 Traceback (most recent call last)",
      "Cell \u001b[1;32mIn[67], line 1\u001b[0m\n\u001b[1;32m----> 1\u001b[0m desc(a)\n",
      "\u001b[1;31mNameError\u001b[0m: name 'desc' is not defined"
     ]
    }
   ],
   "source": [
    "desc(a)"
   ]
  },
  {
   "cell_type": "code",
   "execution_count": 75,
   "id": "000e1d74-ac12-47d9-8801-9831e2bba029",
   "metadata": {},
   "outputs": [],
   "source": [
    "b= \"   python   \""
   ]
  },
  {
   "cell_type": "code",
   "execution_count": 76,
   "id": "2d57a174-99cb-42bc-afd7-44df07cf656b",
   "metadata": {},
   "outputs": [
    {
     "data": {
      "text/plain": [
       "'python'"
      ]
     },
     "execution_count": 76,
     "metadata": {},
     "output_type": "execute_result"
    }
   ],
   "source": [
    "b1=b.strip()\n",
    "b1"
   ]
  },
  {
   "cell_type": "code",
   "execution_count": 80,
   "id": "5a707298-e814-4103-be8a-62a92471f334",
   "metadata": {},
   "outputs": [
    {
     "data": {
      "text/plain": [
       "'   python'"
      ]
     },
     "execution_count": 80,
     "metadata": {},
     "output_type": "execute_result"
    }
   ],
   "source": [
    "b.rstrip()\n"
   ]
  },
  {
   "cell_type": "code",
   "execution_count": 78,
   "id": "1924a11a-830f-410c-b286-33183f84af35",
   "metadata": {},
   "outputs": [
    {
     "data": {
      "text/plain": [
       "'python   '"
      ]
     },
     "execution_count": 78,
     "metadata": {},
     "output_type": "execute_result"
    }
   ],
   "source": [
    "b.lstrip()"
   ]
  },
  {
   "cell_type": "code",
   "execution_count": 81,
   "id": "d7c21b2d-d321-4c6e-b6d3-7fa4eed06749",
   "metadata": {},
   "outputs": [
    {
     "data": {
      "text/plain": [
       "'   python   '"
      ]
     },
     "execution_count": 81,
     "metadata": {},
     "output_type": "execute_result"
    }
   ],
   "source": [
    "b.ljust(10)"
   ]
  },
  {
   "cell_type": "code",
   "execution_count": 85,
   "id": "5cfb8e5d-d473-4361-8c34-6ab450cbfe2c",
   "metadata": {},
   "outputs": [
    {
     "data": {
      "text/plain": [
       "'   python   '"
      ]
     },
     "execution_count": 85,
     "metadata": {},
     "output_type": "execute_result"
    }
   ],
   "source": [
    "b.rjust(10,'.')"
   ]
  },
  {
   "cell_type": "code",
   "execution_count": 87,
   "id": "cb922fec-954a-4ff9-be34-7c0e1f235898",
   "metadata": {},
   "outputs": [
    {
     "data": {
      "text/plain": [
       "'   python   '"
      ]
     },
     "execution_count": 87,
     "metadata": {},
     "output_type": "execute_result"
    }
   ],
   "source": [
    "b2=b.zfill(10)\n",
    "b2"
   ]
  },
  {
   "cell_type": "code",
   "execution_count": null,
   "id": "8d1fac29-5526-427d-a35f-74f795eb14c1",
   "metadata": {},
   "outputs": [],
   "source": []
  },
  {
   "cell_type": "markdown",
   "id": "a31e2a89-08e6-41bf-bac8-3592222d765e",
   "metadata": {},
   "source": [
    "# Modification with string "
   ]
  },
  {
   "cell_type": "code",
   "execution_count": 88,
   "id": "fa5bf7fc-9924-41db-a3a7-7cb33fe0052d",
   "metadata": {},
   "outputs": [],
   "source": [
    "id = \"anil#ust.com\""
   ]
  },
  {
   "cell_type": "code",
   "execution_count": 90,
   "id": "676b2c9d-ab18-43c6-83d8-5e1aa0c0dc40",
   "metadata": {},
   "outputs": [],
   "source": [
    "newid=id.replace(\"#\" ,\"@\")"
   ]
  },
  {
   "cell_type": "code",
   "execution_count": 91,
   "id": "e9e84b1b-0ce2-4263-99e2-5c90a364186b",
   "metadata": {},
   "outputs": [
    {
     "data": {
      "text/plain": [
       "'anil@ust.com'"
      ]
     },
     "execution_count": 91,
     "metadata": {},
     "output_type": "execute_result"
    }
   ],
   "source": [
    "newid"
   ]
  },
  {
   "cell_type": "code",
   "execution_count": 92,
   "id": "a08ab6e8-1194-4194-84b3-65339af82dae",
   "metadata": {},
   "outputs": [],
   "source": [
    "t= \"mary has little lamb\""
   ]
  },
  {
   "cell_type": "code",
   "execution_count": 93,
   "id": "4058451e-5da3-4d6a-b8d1-81820880354b",
   "metadata": {},
   "outputs": [
    {
     "data": {
      "text/plain": [
       "['m', 'ry h', 's little l', 'mb']"
      ]
     },
     "execution_count": 93,
     "metadata": {},
     "output_type": "execute_result"
    }
   ],
   "source": [
    "t.split(\"a\")"
   ]
  },
  {
   "cell_type": "code",
   "execution_count": 94,
   "id": "48201b1c-3f85-4d32-94d8-acbcc4177440",
   "metadata": {},
   "outputs": [],
   "source": [
    "l=[\"sky\",\"is\",\"blue\"]"
   ]
  },
  {
   "cell_type": "code",
   "execution_count": 95,
   "id": "f78e3d02-6a9a-457b-9771-e6303f894167",
   "metadata": {},
   "outputs": [
    {
     "data": {
      "text/plain": [
       "'sky-is-blue'"
      ]
     },
     "execution_count": 95,
     "metadata": {},
     "output_type": "execute_result"
    }
   ],
   "source": [
    "\"-\".join(l)"
   ]
  },
  {
   "cell_type": "code",
   "execution_count": 96,
   "id": "35c1ba14-e225-478d-851b-6db2c8b2dc21",
   "metadata": {},
   "outputs": [
    {
     "data": {
      "text/plain": [
       "'Mississippi'"
      ]
     },
     "execution_count": 96,
     "metadata": {},
     "output_type": "execute_result"
    }
   ],
   "source": [
    "a"
   ]
  },
  {
   "cell_type": "code",
   "execution_count": 97,
   "id": "4442ae00-1814-4626-b13e-4ba268c4abcb",
   "metadata": {},
   "outputs": [],
   "source": [
    "enc=a.encode('utf-8')"
   ]
  },
  {
   "cell_type": "code",
   "execution_count": 98,
   "id": "43153015-cb6b-4694-a25d-c76b0efee01b",
   "metadata": {},
   "outputs": [
    {
     "data": {
      "text/plain": [
       "b'Mississippi'"
      ]
     },
     "execution_count": 98,
     "metadata": {},
     "output_type": "execute_result"
    }
   ],
   "source": [
    "enc"
   ]
  },
  {
   "cell_type": "code",
   "execution_count": 99,
   "id": "7db80158-c203-45db-b66c-9fcad0b4a345",
   "metadata": {},
   "outputs": [
    {
     "data": {
      "text/plain": [
       "bytes"
      ]
     },
     "execution_count": 99,
     "metadata": {},
     "output_type": "execute_result"
    }
   ],
   "source": [
    "type(enc)"
   ]
  },
  {
   "cell_type": "code",
   "execution_count": 100,
   "id": "52f7a087-e6e2-425f-a739-0398e85567f5",
   "metadata": {},
   "outputs": [],
   "source": [
    "dec=enc.decode()"
   ]
  },
  {
   "cell_type": "code",
   "execution_count": 101,
   "id": "ef7b8c4f-cb79-42af-8ccd-5eff3dfdd7db",
   "metadata": {},
   "outputs": [
    {
     "data": {
      "text/plain": [
       "'Mississippi'"
      ]
     },
     "execution_count": 101,
     "metadata": {},
     "output_type": "execute_result"
    }
   ],
   "source": [
    "dec"
   ]
  },
  {
   "cell_type": "code",
   "execution_count": 102,
   "id": "d277d609-f139-4475-894d-54a111eb123e",
   "metadata": {},
   "outputs": [
    {
     "data": {
      "text/plain": [
       "str"
      ]
     },
     "execution_count": 102,
     "metadata": {},
     "output_type": "execute_result"
    }
   ],
   "source": [
    "type(dec)"
   ]
  },
  {
   "cell_type": "code",
   "execution_count": 103,
   "id": "8bd4e8d9-8f48-46e0-a536-f28f0231a29a",
   "metadata": {},
   "outputs": [
    {
     "data": {
      "text/plain": [
       "65"
      ]
     },
     "execution_count": 103,
     "metadata": {},
     "output_type": "execute_result"
    }
   ],
   "source": [
    "ord(\"A\")"
   ]
  },
  {
   "cell_type": "code",
   "execution_count": 104,
   "id": "77d895c4-4e5c-46ca-82aa-5e0af855ccb2",
   "metadata": {},
   "outputs": [
    {
     "data": {
      "text/plain": [
       "'a'"
      ]
     },
     "execution_count": 104,
     "metadata": {},
     "output_type": "execute_result"
    }
   ],
   "source": [
    "chr(97)"
   ]
  },
  {
   "cell_type": "markdown",
   "id": "c7d60ece-bc8c-4718-9902-a3a9a6cb1687",
   "metadata": {},
   "source": [
    "# Translation and formatting "
   ]
  },
  {
   "cell_type": "code",
   "execution_count": 105,
   "id": "3bad6079-7b87-4bf6-a584-ce0596ed23ba",
   "metadata": {},
   "outputs": [
    {
     "data": {
      "text/plain": [
       "'computer'"
      ]
     },
     "execution_count": 105,
     "metadata": {},
     "output_type": "execute_result"
    }
   ],
   "source": [
    "s"
   ]
  },
  {
   "cell_type": "raw",
   "id": "34799492-003b-47e7-b801-2bd4a99e3a35",
   "metadata": {},
   "source": [
    "for  p translate to ppp and for t translate to ttt"
   ]
  },
  {
   "cell_type": "code",
   "execution_count": 109,
   "id": "f6c47b8c-f5b9-4530-acd8-11d3eb53c3a1",
   "metadata": {},
   "outputs": [],
   "source": [
    "tt=str.maketrans({'p':\"ppp\", 't':\"ttt\" ,'r':\"R\"})"
   ]
  },
  {
   "cell_type": "code",
   "execution_count": 110,
   "id": "ed5b5048-6802-4314-9c85-1498df15442c",
   "metadata": {},
   "outputs": [
    {
     "data": {
      "text/plain": [
       "{112: 'ppp', 116: 'ttt', 114: 'R'}"
      ]
     },
     "execution_count": 110,
     "metadata": {},
     "output_type": "execute_result"
    }
   ],
   "source": [
    "tt"
   ]
  },
  {
   "cell_type": "code",
   "execution_count": 111,
   "id": "079707a9-af87-49bd-a579-6f417456a154",
   "metadata": {},
   "outputs": [
    {
     "data": {
      "text/plain": [
       "'comppputtteR'"
      ]
     },
     "execution_count": 111,
     "metadata": {},
     "output_type": "execute_result"
    }
   ],
   "source": [
    "s.translate(tt)"
   ]
  },
  {
   "cell_type": "code",
   "execution_count": null,
   "id": "40089473-893f-43f5-9836-9965eb8a72c0",
   "metadata": {},
   "outputs": [],
   "source": []
  },
  {
   "cell_type": "code",
   "execution_count": null,
   "id": "0fb920af-a553-4389-9182-293537210d0a",
   "metadata": {},
   "outputs": [],
   "source": []
  },
  {
   "cell_type": "markdown",
   "id": "d04a32dd-a7f1-4b64-aa66-6ddf057395f5",
   "metadata": {},
   "source": [
    "# 4:55 pm Excersise"
   ]
  },
  {
   "cell_type": "raw",
   "id": "bf8cda3d-63e4-4f43-ae9b-d3ae7787d145",
   "metadata": {},
   "source": [
    " Given an IP address string \"192-168-1-1\" correct it "
   ]
  },
  {
   "cell_type": "code",
   "execution_count": 112,
   "id": "3270b67c-81f3-443c-a0b2-c95602f668d7",
   "metadata": {},
   "outputs": [
    {
     "name": "stdout",
     "output_type": "stream",
     "text": [
      "192.168.1.1\n"
     ]
    }
   ],
   "source": [
    "ip = \"192-168-1-1\"\n",
    "corrected_ip = ip.replace(\"-\", \".\")\n",
    "print(corrected_ip)\n"
   ]
  },
  {
   "cell_type": "code",
   "execution_count": 115,
   "id": "2ad33b94-df0b-4646-a7da-d4ab3ac0ac12",
   "metadata": {},
   "outputs": [
    {
     "data": {
      "text/plain": [
       "'HELLO WORLD'"
      ]
     },
     "execution_count": 115,
     "metadata": {},
     "output_type": "execute_result"
    }
   ],
   "source": [
    "a2=\"hello world\"\n",
    "a2.upper()"
   ]
  },
  {
   "cell_type": "code",
   "execution_count": null,
   "id": "7b635a77-47c0-4856-ab3e-51ab0d13dba1",
   "metadata": {},
   "outputs": [],
   "source": []
  },
  {
   "cell_type": "markdown",
   "id": "a8c79fe1-d585-42d7-bc91-f46c5ae3e946",
   "metadata": {},
   "source": [
    "Swap the case of \"PyThOn StRiNgS"
   ]
  },
  {
   "cell_type": "code",
   "execution_count": 117,
   "id": "b48df6e9-911a-4d65-97e3-2e15c344742a",
   "metadata": {},
   "outputs": [
    {
     "data": {
      "text/plain": [
       "'pYtHoN sTrInGs'"
      ]
     },
     "execution_count": 117,
     "metadata": {},
     "output_type": "execute_result"
    }
   ],
   "source": [
    "\"PyThOn StRiNgS\".swapcase()"
   ]
  },
  {
   "cell_type": "markdown",
   "id": "93a2fe01-dfb0-4cd1-8b3b-3686401755e7",
   "metadata": {},
   "source": [
    "Find the length of \"Hello, Python!\"\n"
   ]
  },
  {
   "cell_type": "code",
   "execution_count": 124,
   "id": "699d5859-c416-43db-962f-d6dbafe1b10d",
   "metadata": {},
   "outputs": [
    {
     "name": "stdout",
     "output_type": "stream",
     "text": [
      "length of string : Hello, Python! is 14 \n"
     ]
    }
   ],
   "source": [
    "l1=\"Hello, Python!\"\n",
    "print(\"length of string : {} is {} \".format(l1,len(l1)))"
   ]
  },
  {
   "cell_type": "code",
   "execution_count": null,
   "id": "9e21b53d-8f17-4ff2-8909-211cdb9be9bd",
   "metadata": {},
   "outputs": [],
   "source": []
  },
  {
   "cell_type": "markdown",
   "id": "0f423552-ac19-4285-bafe-c48754a71c68",
   "metadata": {},
   "source": [
    "Count how many times \"e\" appears in \"experience\"\n"
   ]
  },
  {
   "cell_type": "code",
   "execution_count": 128,
   "id": "473f5771-9807-4e9e-83fa-e61142abb595",
   "metadata": {},
   "outputs": [
    {
     "name": "stdout",
     "output_type": "stream",
     "text": [
      "e appears 4 times!\n"
     ]
    }
   ],
   "source": [
    "s = \"experience\"\n",
    "count_e = s.count(\"e\")\n",
    "print(\"e appears {} times!\".format(count_e))\n"
   ]
  },
  {
   "cell_type": "code",
   "execution_count": null,
   "id": "98403f75-6823-48c9-a267-f4a47c8b7507",
   "metadata": {},
   "outputs": [],
   "source": []
  },
  {
   "cell_type": "markdown",
   "id": "7a1ac8a1-0771-4ee6-9c37-e01d88fb17a9",
   "metadata": {},
   "source": [
    "Check if \"Python programming\" starts with \"Py\""
   ]
  },
  {
   "cell_type": "code",
   "execution_count": 129,
   "id": "9e9a8e50-66f6-4900-bf4a-adcbac7900e5",
   "metadata": {},
   "outputs": [
    {
     "name": "stdout",
     "output_type": "stream",
     "text": [
      "True\n"
     ]
    }
   ],
   "source": [
    "s = \"Python programming\"\n",
    "result = s.startswith(\"Py\")\n",
    "print(result)\n"
   ]
  },
  {
   "cell_type": "code",
   "execution_count": null,
   "id": "b19f29b1-62b9-43eb-80dd-b1db0f729597",
   "metadata": {},
   "outputs": [],
   "source": []
  },
  {
   "cell_type": "markdown",
   "id": "4d804a2b-da4f-4092-adfb-6704180d2f8d",
   "metadata": {},
   "source": [
    "Check if \"hello.txt\" ends with \".txt\""
   ]
  },
  {
   "cell_type": "code",
   "execution_count": 130,
   "id": "22ab8194-84c2-4216-8e8c-60f78ae5527b",
   "metadata": {},
   "outputs": [
    {
     "name": "stdout",
     "output_type": "stream",
     "text": [
      "True\n"
     ]
    }
   ],
   "source": [
    "filename = \"hello.txt\"\n",
    "result = filename.endswith(\".txt\")\n",
    "print(result)\n"
   ]
  },
  {
   "cell_type": "code",
   "execution_count": null,
   "id": "c058ad72-d118-47bb-8256-ecd9486b049a",
   "metadata": {},
   "outputs": [],
   "source": []
  },
  {
   "cell_type": "markdown",
   "id": "177d49f9-37f3-4b58-aca1-96f32dd7bae4",
   "metadata": {},
   "source": [
    "Find the index of \"world\" in \"hello world\""
   ]
  },
  {
   "cell_type": "code",
   "execution_count": 132,
   "id": "c2c0fc89-c558-4042-a50e-522cedb7ab9f",
   "metadata": {},
   "outputs": [
    {
     "name": "stdout",
     "output_type": "stream",
     "text": [
      "index of world in 'Hello world' is 6\n"
     ]
    }
   ],
   "source": [
    "s2 = \"hello world\"\n",
    "index = s2.find(\"world\")\n",
    "print(\"index of world in 'Hello world' is {}\".format(index))\n"
   ]
  },
  {
   "cell_type": "code",
   "execution_count": null,
   "id": "900dedd2-514f-4d2c-b99b-867f89c112c7",
   "metadata": {},
   "outputs": [],
   "source": []
  },
  {
   "cell_type": "markdown",
   "id": "7db21c82-2cba-4ccd-b736-8b5a531962a6",
   "metadata": {},
   "source": [
    "Replace \"Python\" with \"Java\" in \"I love Python\""
   ]
  },
  {
   "cell_type": "code",
   "execution_count": 133,
   "id": "e67c3cb8-0084-487b-970c-c998245b8a57",
   "metadata": {},
   "outputs": [
    {
     "name": "stdout",
     "output_type": "stream",
     "text": [
      "I love Java\n"
     ]
    }
   ],
   "source": [
    "s = \"I love Python\"\n",
    "new_s = s.replace(\"Python\", \"Java\")\n",
    "print(new_s)\n"
   ]
  },
  {
   "cell_type": "code",
   "execution_count": null,
   "id": "be03e57b-ab74-403e-8380-ff225ac18463",
   "metadata": {},
   "outputs": [],
   "source": []
  },
  {
   "cell_type": "markdown",
   "id": "2242da0a-3792-4e92-bae2-6b1bad7618c7",
   "metadata": {},
   "source": [
    " Remove leading and trailing spaces from \" Python \""
   ]
  },
  {
   "cell_type": "code",
   "execution_count": 134,
   "id": "aa9f6981-ec0e-4b53-80c2-aafb65206251",
   "metadata": {},
   "outputs": [
    {
     "name": "stdout",
     "output_type": "stream",
     "text": [
      "Python\n"
     ]
    }
   ],
   "source": [
    "s3 = \" Python \"\n",
    "trimmed_s = s3.strip()\n",
    "print(trimmed_s)\n"
   ]
  },
  {
   "cell_type": "code",
   "execution_count": null,
   "id": "ec3f3abf-d4f8-4b45-ab5c-39b53d53e703",
   "metadata": {},
   "outputs": [],
   "source": []
  },
  {
   "cell_type": "markdown",
   "id": "c278b447-29c8-472a-ad91-cac614c0218b",
   "metadata": {},
   "source": [
    "Split \"Learn Python Programming\" into words\n"
   ]
  },
  {
   "cell_type": "code",
   "execution_count": 135,
   "id": "d3d567ce-7874-44ad-a444-ba78f63f8ebd",
   "metadata": {},
   "outputs": [
    {
     "name": "stdout",
     "output_type": "stream",
     "text": [
      "['Learn', 'Python', 'Programming']\n"
     ]
    }
   ],
   "source": [
    "s = \"Learn Python Programming\"\n",
    "words = s.split()\n",
    "print(words)\n"
   ]
  },
  {
   "cell_type": "code",
   "execution_count": null,
   "id": "1bd3adc7-7b87-4c79-b5d3-e6f432864e6b",
   "metadata": {},
   "outputs": [],
   "source": []
  },
  {
   "cell_type": "markdown",
   "id": "29f868a1-ceaf-4db5-a0de-e78071113aa2",
   "metadata": {},
   "source": [
    "Join ['apple', 'banana', 'cherry'] with commas\n"
   ]
  },
  {
   "cell_type": "code",
   "execution_count": 136,
   "id": "8d4378e1-94aa-47f2-87a3-eb9c7d489db2",
   "metadata": {},
   "outputs": [
    {
     "name": "stdout",
     "output_type": "stream",
     "text": [
      "apple,banana,cherry\n"
     ]
    }
   ],
   "source": [
    "fruits = ['apple', 'banana', 'cherry']\n",
    "result = \",\".join(fruits)\n",
    "print(result)\n"
   ]
  },
  {
   "cell_type": "code",
   "execution_count": null,
   "id": "be0a7096-3c00-4f09-850b-8801dc41d09a",
   "metadata": {},
   "outputs": [],
   "source": []
  },
  {
   "cell_type": "markdown",
   "id": "b85be76a-17b5-4957-a6a2-c6247cc3de92",
   "metadata": {},
   "source": [
    "Check if \"Python3\" is alphanumeric\n"
   ]
  },
  {
   "cell_type": "code",
   "execution_count": 137,
   "id": "a5691979-cead-4ff7-bb44-ab72eccf902f",
   "metadata": {},
   "outputs": [
    {
     "name": "stdout",
     "output_type": "stream",
     "text": [
      "True\n"
     ]
    }
   ],
   "source": [
    "s = \"Python3\"\n",
    "result = s.isalnum()\n",
    "print(result)\n"
   ]
  },
  {
   "cell_type": "code",
   "execution_count": null,
   "id": "d62a4151-7212-4eb0-a642-0b3582ae21be",
   "metadata": {},
   "outputs": [],
   "source": []
  },
  {
   "cell_type": "markdown",
   "id": "7e13f648-b345-4e77-b1c5-0cf26be0fc5a",
   "metadata": {},
   "source": [
    "Convert \"5\" to a 3-digit string (\"005\")"
   ]
  },
  {
   "cell_type": "code",
   "execution_count": 138,
   "id": "c3ed144e-7030-4602-a4d3-fc00f027eebf",
   "metadata": {},
   "outputs": [
    {
     "name": "stdout",
     "output_type": "stream",
     "text": [
      "005\n"
     ]
    }
   ],
   "source": [
    "num = \"5\"\n",
    "formatted_num = num.zfill(3)\n",
    "print(formatted_num)\n"
   ]
  },
  {
   "cell_type": "markdown",
   "id": "645f7c8d-b65c-4d13-bff9-743fa7b39fc8",
   "metadata": {},
   "source": [
    "Given name = \"Alice\" and age = 25, format \"Alice is 25 years old.\"\n"
   ]
  },
  {
   "cell_type": "code",
   "execution_count": 141,
   "id": "9dd39111-f9fc-4839-8c35-4fbfc32a5380",
   "metadata": {},
   "outputs": [
    {
     "name": "stdout",
     "output_type": "stream",
     "text": [
      "Alice is 25 years old\n"
     ]
    }
   ],
   "source": [
    "name=\"Alice\"\n",
    "age=25\n",
    "print(\"{0} is {1} years old\".format(name,age))"
   ]
  },
  {
   "cell_type": "markdown",
   "id": "7bcf5579-77cd-4e8c-9796-2f1efebaa4e2",
   "metadata": {},
   "source": []
  },
  {
   "cell_type": "markdown",
   "id": "bba17342-24b0-4d31-902b-7400eea7b068",
   "metadata": {},
   "source": [
    "Check if 'malayalam' is a palindrome\n"
   ]
  },
  {
   "cell_type": "code",
   "execution_count": 145,
   "id": "54402f6e-c3a2-42a2-ac54-6896a438c3c7",
   "metadata": {},
   "outputs": [
    {
     "name": "stdout",
     "output_type": "stream",
     "text": [
      "yes malayalam is pallindrome\n"
     ]
    }
   ],
   "source": [
    "s = \"malayalam\"\n",
    "is_palindrome = s == s[::-1]  \n",
    "if is_palindrome ==True :\n",
    "    print(\"yes {} is pallindrome\".format(s))\n",
    "else:\n",
    "    print(\"no {} is not a pallindrome\".format(s))\n"
   ]
  },
  {
   "cell_type": "code",
   "execution_count": null,
   "id": "eadcea1c-31cc-4bf6-8d5f-2aa90faca5f9",
   "metadata": {},
   "outputs": [],
   "source": []
  },
  {
   "cell_type": "markdown",
   "id": "63885ad9-ba1d-4876-b791-c05ae6236a05",
   "metadata": {},
   "source": [
    "Create a program to accept text from user and count number of vowels "
   ]
  },
  {
   "cell_type": "code",
   "execution_count": 149,
   "id": "54d86e79-176f-4798-9661-1c21d4d1e03b",
   "metadata": {},
   "outputs": [
    {
     "name": "stdin",
     "output_type": "stream",
     "text": [
      "enter your string  umbrella\n"
     ]
    },
    {
     "name": "stdout",
     "output_type": "stream",
     "text": [
      "Vowels count: 4\n"
     ]
    }
   ],
   "source": [
    "vowels =[\"a\",\"e\" ,\"i\" \"o\" ,\"u\"]\n",
    "#input process\n",
    "text=input(\"enter your string \")\n",
    "# process\n",
    "text=text.lower()\n",
    "count=0\n",
    "for i in vowels:\n",
    "    count+=1\n",
    "print(\"Vowels count: {}\".format(count))    \n",
    "    "
   ]
  },
  {
   "cell_type": "code",
   "execution_count": null,
   "id": "409234a4-321c-4a96-acb3-1ab35d4f8aa6",
   "metadata": {},
   "outputs": [],
   "source": []
  },
  {
   "cell_type": "code",
   "execution_count": null,
   "id": "73023b74-4319-4e8c-b363-d85c250f74be",
   "metadata": {},
   "outputs": [],
   "source": []
  }
 ],
 "metadata": {
  "kernelspec": {
   "display_name": "Python 3 (ipykernel)",
   "language": "python",
   "name": "python3"
  },
  "language_info": {
   "codemirror_mode": {
    "name": "ipython",
    "version": 3
   },
   "file_extension": ".py",
   "mimetype": "text/x-python",
   "name": "python",
   "nbconvert_exporter": "python",
   "pygments_lexer": "ipython3",
   "version": "3.12.4"
  }
 },
 "nbformat": 4,
 "nbformat_minor": 5
}
