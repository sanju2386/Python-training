{
 "cells": [
  {
   "cell_type": "markdown",
   "metadata": {},
   "source": [
    "\n",
    "# Ecommerce Purchases Exercise\n",
    "\n",
    "In this Exercise you will be given some Fake Data about some purchases done through Amazon! Just go ahead and follow the directions and try your best to answer the questions and complete the tasks. Feel free to reference the solutions. Most of the tasks can be solved in different ways. For the most part, the questions get progressively harder.\n",
    "\n",
    "Please excuse anything that doesn't make \"Real-World\" sense in the dataframe, all the data is fake and made-up.\n",
    "\n",
    "Also note that all of these questions can be answered with one line of code.\n",
    "____\n",
    "** Import pandas and read in the Ecommerce Purchases csv file and set it to a DataFrame called ecom. **"
   ]
  },
  {
   "cell_type": "code",
   "execution_count": 1,
   "metadata": {},
   "outputs": [],
   "source": [
    "path =r\"C:\\Users\\292593\\Desktop\\master\\python training\\python_code_submit\\Python-training\\Ecommerce Purchases.csv\""
   ]
  },
  {
   "cell_type": "code",
   "execution_count": 2,
   "metadata": {},
   "outputs": [],
   "source": [
    "import pandas as pd"
   ]
  },
  {
   "cell_type": "code",
   "execution_count": 3,
   "metadata": {},
   "outputs": [],
   "source": [
    "ecom= pd.read_csv(path)"
   ]
  },
  {
   "cell_type": "markdown",
   "metadata": {},
   "source": [
    "ecom"
   ]
  },
  {
   "cell_type": "code",
   "execution_count": 4,
   "metadata": {},
   "outputs": [
    {
     "data": {
      "text/html": [
       "<div>\n",
       "<style scoped>\n",
       "    .dataframe tbody tr th:only-of-type {\n",
       "        vertical-align: middle;\n",
       "    }\n",
       "\n",
       "    .dataframe tbody tr th {\n",
       "        vertical-align: top;\n",
       "    }\n",
       "\n",
       "    .dataframe thead th {\n",
       "        text-align: right;\n",
       "    }\n",
       "</style>\n",
       "<table border=\"1\" class=\"dataframe\">\n",
       "  <thead>\n",
       "    <tr style=\"text-align: right;\">\n",
       "      <th></th>\n",
       "      <th>Address</th>\n",
       "      <th>Lot</th>\n",
       "      <th>AM or PM</th>\n",
       "      <th>Browser Info</th>\n",
       "      <th>Company</th>\n",
       "      <th>Credit Card</th>\n",
       "      <th>CC Exp Date</th>\n",
       "      <th>CC Security Code</th>\n",
       "      <th>CC Provider</th>\n",
       "      <th>Email</th>\n",
       "      <th>Job</th>\n",
       "      <th>IP Address</th>\n",
       "      <th>Language</th>\n",
       "      <th>Purchase Price</th>\n",
       "    </tr>\n",
       "  </thead>\n",
       "  <tbody>\n",
       "    <tr>\n",
       "      <th>0</th>\n",
       "      <td>16629 Pace Camp Apt. 448\\r\\nAlexisborough, NE ...</td>\n",
       "      <td>46 in</td>\n",
       "      <td>PM</td>\n",
       "      <td>Opera/9.56.(X11; Linux x86_64; sl-SI) Presto/2...</td>\n",
       "      <td>Martinez-Herman</td>\n",
       "      <td>6011929061123406</td>\n",
       "      <td>02/20</td>\n",
       "      <td>900</td>\n",
       "      <td>JCB 16 digit</td>\n",
       "      <td>pdunlap@yahoo.com</td>\n",
       "      <td>Scientist, product/process development</td>\n",
       "      <td>149.146.147.205</td>\n",
       "      <td>el</td>\n",
       "      <td>98.14</td>\n",
       "    </tr>\n",
       "    <tr>\n",
       "      <th>1</th>\n",
       "      <td>9374 Jasmine Spurs Suite 508\\r\\nSouth John, TN...</td>\n",
       "      <td>28 rn</td>\n",
       "      <td>PM</td>\n",
       "      <td>Opera/8.93.(Windows 98; Win 9x 4.90; en-US) Pr...</td>\n",
       "      <td>Fletcher, Richards and Whitaker</td>\n",
       "      <td>3337758169645356</td>\n",
       "      <td>11/18</td>\n",
       "      <td>561</td>\n",
       "      <td>Mastercard</td>\n",
       "      <td>anthony41@reed.com</td>\n",
       "      <td>Drilling engineer</td>\n",
       "      <td>15.160.41.51</td>\n",
       "      <td>fr</td>\n",
       "      <td>70.73</td>\n",
       "    </tr>\n",
       "    <tr>\n",
       "      <th>2</th>\n",
       "      <td>Unit 0065 Box 5052\\r\\nDPO AP 27450</td>\n",
       "      <td>94 vE</td>\n",
       "      <td>PM</td>\n",
       "      <td>Mozilla/5.0 (compatible; MSIE 9.0; Windows NT ...</td>\n",
       "      <td>Simpson, Williams and Pham</td>\n",
       "      <td>675957666125</td>\n",
       "      <td>08/19</td>\n",
       "      <td>699</td>\n",
       "      <td>JCB 16 digit</td>\n",
       "      <td>amymiller@morales-harrison.com</td>\n",
       "      <td>Customer service manager</td>\n",
       "      <td>132.207.160.22</td>\n",
       "      <td>de</td>\n",
       "      <td>0.95</td>\n",
       "    </tr>\n",
       "    <tr>\n",
       "      <th>3</th>\n",
       "      <td>7780 Julia Fords\\r\\nNew Stacy, WA 45798</td>\n",
       "      <td>36 vm</td>\n",
       "      <td>PM</td>\n",
       "      <td>Mozilla/5.0 (Macintosh; Intel Mac OS X 10_8_0 ...</td>\n",
       "      <td>Williams, Marshall and Buchanan</td>\n",
       "      <td>6011578504430710</td>\n",
       "      <td>02/24</td>\n",
       "      <td>384</td>\n",
       "      <td>Discover</td>\n",
       "      <td>brent16@olson-robinson.info</td>\n",
       "      <td>Drilling engineer</td>\n",
       "      <td>30.250.74.19</td>\n",
       "      <td>es</td>\n",
       "      <td>78.04</td>\n",
       "    </tr>\n",
       "    <tr>\n",
       "      <th>4</th>\n",
       "      <td>23012 Munoz Drive Suite 337\\r\\nNew Cynthia, TX...</td>\n",
       "      <td>20 IE</td>\n",
       "      <td>AM</td>\n",
       "      <td>Opera/9.58.(X11; Linux x86_64; it-IT) Presto/2...</td>\n",
       "      <td>Brown, Watson and Andrews</td>\n",
       "      <td>6011456623207998</td>\n",
       "      <td>10/25</td>\n",
       "      <td>678</td>\n",
       "      <td>Diners Club / Carte Blanche</td>\n",
       "      <td>christopherwright@gmail.com</td>\n",
       "      <td>Fine artist</td>\n",
       "      <td>24.140.33.94</td>\n",
       "      <td>es</td>\n",
       "      <td>77.82</td>\n",
       "    </tr>\n",
       "    <tr>\n",
       "      <th>...</th>\n",
       "      <td>...</td>\n",
       "      <td>...</td>\n",
       "      <td>...</td>\n",
       "      <td>...</td>\n",
       "      <td>...</td>\n",
       "      <td>...</td>\n",
       "      <td>...</td>\n",
       "      <td>...</td>\n",
       "      <td>...</td>\n",
       "      <td>...</td>\n",
       "      <td>...</td>\n",
       "      <td>...</td>\n",
       "      <td>...</td>\n",
       "      <td>...</td>\n",
       "    </tr>\n",
       "    <tr>\n",
       "      <th>9995</th>\n",
       "      <td>966 Castaneda Locks\\r\\nWest Juliafurt, CO 96415</td>\n",
       "      <td>92 XI</td>\n",
       "      <td>PM</td>\n",
       "      <td>Mozilla/5.0 (Windows NT 5.1) AppleWebKit/5352 ...</td>\n",
       "      <td>Randall-Sloan</td>\n",
       "      <td>342945015358701</td>\n",
       "      <td>03/22</td>\n",
       "      <td>838</td>\n",
       "      <td>JCB 15 digit</td>\n",
       "      <td>iscott@wade-garner.com</td>\n",
       "      <td>Printmaker</td>\n",
       "      <td>29.73.197.114</td>\n",
       "      <td>it</td>\n",
       "      <td>82.21</td>\n",
       "    </tr>\n",
       "    <tr>\n",
       "      <th>9996</th>\n",
       "      <td>832 Curtis Dam Suite 785\\r\\nNorth Edwardburgh,...</td>\n",
       "      <td>41 JY</td>\n",
       "      <td>AM</td>\n",
       "      <td>Mozilla/5.0 (compatible; MSIE 9.0; Windows NT ...</td>\n",
       "      <td>Hale, Collins and Wilson</td>\n",
       "      <td>210033169205009</td>\n",
       "      <td>07/25</td>\n",
       "      <td>207</td>\n",
       "      <td>JCB 16 digit</td>\n",
       "      <td>mary85@hotmail.com</td>\n",
       "      <td>Energy engineer</td>\n",
       "      <td>121.133.168.51</td>\n",
       "      <td>pt</td>\n",
       "      <td>25.63</td>\n",
       "    </tr>\n",
       "    <tr>\n",
       "      <th>9997</th>\n",
       "      <td>Unit 4434 Box 6343\\r\\nDPO AE 28026-0283</td>\n",
       "      <td>74 Zh</td>\n",
       "      <td>AM</td>\n",
       "      <td>Mozilla/5.0 (Macintosh; U; Intel Mac OS X 10_7...</td>\n",
       "      <td>Anderson Ltd</td>\n",
       "      <td>6011539787356311</td>\n",
       "      <td>05/21</td>\n",
       "      <td>1</td>\n",
       "      <td>VISA 16 digit</td>\n",
       "      <td>tyler16@gmail.com</td>\n",
       "      <td>Veterinary surgeon</td>\n",
       "      <td>156.210.0.254</td>\n",
       "      <td>el</td>\n",
       "      <td>83.98</td>\n",
       "    </tr>\n",
       "    <tr>\n",
       "      <th>9998</th>\n",
       "      <td>0096 English Rest\\r\\nRoystad, IA 12457</td>\n",
       "      <td>74 cL</td>\n",
       "      <td>PM</td>\n",
       "      <td>Mozilla/5.0 (Macintosh; Intel Mac OS X 10_8_8;...</td>\n",
       "      <td>Cook Inc</td>\n",
       "      <td>180003348082930</td>\n",
       "      <td>11/17</td>\n",
       "      <td>987</td>\n",
       "      <td>American Express</td>\n",
       "      <td>elizabethmoore@reid.net</td>\n",
       "      <td>Local government officer</td>\n",
       "      <td>55.78.26.143</td>\n",
       "      <td>es</td>\n",
       "      <td>38.84</td>\n",
       "    </tr>\n",
       "    <tr>\n",
       "      <th>9999</th>\n",
       "      <td>40674 Barrett Stravenue\\r\\nGrimesville, WI 79682</td>\n",
       "      <td>64 Hr</td>\n",
       "      <td>AM</td>\n",
       "      <td>Mozilla/5.0 (X11; Linux i686; rv:1.9.5.20) Gec...</td>\n",
       "      <td>Greene Inc</td>\n",
       "      <td>4139972901927273</td>\n",
       "      <td>02/19</td>\n",
       "      <td>302</td>\n",
       "      <td>JCB 15 digit</td>\n",
       "      <td>rachelford@vaughn.com</td>\n",
       "      <td>Embryologist, clinical</td>\n",
       "      <td>176.119.198.199</td>\n",
       "      <td>el</td>\n",
       "      <td>67.59</td>\n",
       "    </tr>\n",
       "  </tbody>\n",
       "</table>\n",
       "<p>10000 rows × 14 columns</p>\n",
       "</div>"
      ],
      "text/plain": [
       "                                                Address    Lot AM or PM  \\\n",
       "0     16629 Pace Camp Apt. 448\\r\\nAlexisborough, NE ...  46 in       PM   \n",
       "1     9374 Jasmine Spurs Suite 508\\r\\nSouth John, TN...  28 rn       PM   \n",
       "2                    Unit 0065 Box 5052\\r\\nDPO AP 27450  94 vE       PM   \n",
       "3               7780 Julia Fords\\r\\nNew Stacy, WA 45798  36 vm       PM   \n",
       "4     23012 Munoz Drive Suite 337\\r\\nNew Cynthia, TX...  20 IE       AM   \n",
       "...                                                 ...    ...      ...   \n",
       "9995    966 Castaneda Locks\\r\\nWest Juliafurt, CO 96415  92 XI       PM   \n",
       "9996  832 Curtis Dam Suite 785\\r\\nNorth Edwardburgh,...  41 JY       AM   \n",
       "9997            Unit 4434 Box 6343\\r\\nDPO AE 28026-0283  74 Zh       AM   \n",
       "9998             0096 English Rest\\r\\nRoystad, IA 12457  74 cL       PM   \n",
       "9999   40674 Barrett Stravenue\\r\\nGrimesville, WI 79682  64 Hr       AM   \n",
       "\n",
       "                                           Browser Info  \\\n",
       "0     Opera/9.56.(X11; Linux x86_64; sl-SI) Presto/2...   \n",
       "1     Opera/8.93.(Windows 98; Win 9x 4.90; en-US) Pr...   \n",
       "2     Mozilla/5.0 (compatible; MSIE 9.0; Windows NT ...   \n",
       "3     Mozilla/5.0 (Macintosh; Intel Mac OS X 10_8_0 ...   \n",
       "4     Opera/9.58.(X11; Linux x86_64; it-IT) Presto/2...   \n",
       "...                                                 ...   \n",
       "9995  Mozilla/5.0 (Windows NT 5.1) AppleWebKit/5352 ...   \n",
       "9996  Mozilla/5.0 (compatible; MSIE 9.0; Windows NT ...   \n",
       "9997  Mozilla/5.0 (Macintosh; U; Intel Mac OS X 10_7...   \n",
       "9998  Mozilla/5.0 (Macintosh; Intel Mac OS X 10_8_8;...   \n",
       "9999  Mozilla/5.0 (X11; Linux i686; rv:1.9.5.20) Gec...   \n",
       "\n",
       "                              Company       Credit Card CC Exp Date  \\\n",
       "0                     Martinez-Herman  6011929061123406       02/20   \n",
       "1     Fletcher, Richards and Whitaker  3337758169645356       11/18   \n",
       "2          Simpson, Williams and Pham      675957666125       08/19   \n",
       "3     Williams, Marshall and Buchanan  6011578504430710       02/24   \n",
       "4           Brown, Watson and Andrews  6011456623207998       10/25   \n",
       "...                               ...               ...         ...   \n",
       "9995                    Randall-Sloan   342945015358701       03/22   \n",
       "9996         Hale, Collins and Wilson   210033169205009       07/25   \n",
       "9997                     Anderson Ltd  6011539787356311       05/21   \n",
       "9998                         Cook Inc   180003348082930       11/17   \n",
       "9999                       Greene Inc  4139972901927273       02/19   \n",
       "\n",
       "      CC Security Code                  CC Provider  \\\n",
       "0                  900                 JCB 16 digit   \n",
       "1                  561                   Mastercard   \n",
       "2                  699                 JCB 16 digit   \n",
       "3                  384                     Discover   \n",
       "4                  678  Diners Club / Carte Blanche   \n",
       "...                ...                          ...   \n",
       "9995               838                 JCB 15 digit   \n",
       "9996               207                 JCB 16 digit   \n",
       "9997                 1                VISA 16 digit   \n",
       "9998               987             American Express   \n",
       "9999               302                 JCB 15 digit   \n",
       "\n",
       "                               Email                                     Job  \\\n",
       "0                  pdunlap@yahoo.com  Scientist, product/process development   \n",
       "1                 anthony41@reed.com                       Drilling engineer   \n",
       "2     amymiller@morales-harrison.com                Customer service manager   \n",
       "3        brent16@olson-robinson.info                       Drilling engineer   \n",
       "4        christopherwright@gmail.com                             Fine artist   \n",
       "...                              ...                                     ...   \n",
       "9995          iscott@wade-garner.com                              Printmaker   \n",
       "9996              mary85@hotmail.com                         Energy engineer   \n",
       "9997               tyler16@gmail.com                      Veterinary surgeon   \n",
       "9998         elizabethmoore@reid.net                Local government officer   \n",
       "9999           rachelford@vaughn.com                  Embryologist, clinical   \n",
       "\n",
       "           IP Address Language  Purchase Price  \n",
       "0     149.146.147.205       el           98.14  \n",
       "1        15.160.41.51       fr           70.73  \n",
       "2      132.207.160.22       de            0.95  \n",
       "3        30.250.74.19       es           78.04  \n",
       "4        24.140.33.94       es           77.82  \n",
       "...               ...      ...             ...  \n",
       "9995    29.73.197.114       it           82.21  \n",
       "9996   121.133.168.51       pt           25.63  \n",
       "9997    156.210.0.254       el           83.98  \n",
       "9998     55.78.26.143       es           38.84  \n",
       "9999  176.119.198.199       el           67.59  \n",
       "\n",
       "[10000 rows x 14 columns]"
      ]
     },
     "execution_count": 4,
     "metadata": {},
     "output_type": "execute_result"
    }
   ],
   "source": [
    "ecom"
   ]
  },
  {
   "cell_type": "markdown",
   "metadata": {},
   "source": [
    "**Check the head of the DataFrame.**"
   ]
  },
  {
   "cell_type": "code",
   "execution_count": 5,
   "metadata": {},
   "outputs": [
    {
     "data": {
      "text/html": [
       "<div>\n",
       "<style scoped>\n",
       "    .dataframe tbody tr th:only-of-type {\n",
       "        vertical-align: middle;\n",
       "    }\n",
       "\n",
       "    .dataframe tbody tr th {\n",
       "        vertical-align: top;\n",
       "    }\n",
       "\n",
       "    .dataframe thead th {\n",
       "        text-align: right;\n",
       "    }\n",
       "</style>\n",
       "<table border=\"1\" class=\"dataframe\">\n",
       "  <thead>\n",
       "    <tr style=\"text-align: right;\">\n",
       "      <th></th>\n",
       "      <th>Address</th>\n",
       "      <th>Lot</th>\n",
       "      <th>AM or PM</th>\n",
       "      <th>Browser Info</th>\n",
       "      <th>Company</th>\n",
       "      <th>Credit Card</th>\n",
       "      <th>CC Exp Date</th>\n",
       "      <th>CC Security Code</th>\n",
       "      <th>CC Provider</th>\n",
       "      <th>Email</th>\n",
       "      <th>Job</th>\n",
       "      <th>IP Address</th>\n",
       "      <th>Language</th>\n",
       "      <th>Purchase Price</th>\n",
       "    </tr>\n",
       "  </thead>\n",
       "  <tbody>\n",
       "    <tr>\n",
       "      <th>0</th>\n",
       "      <td>16629 Pace Camp Apt. 448\\r\\nAlexisborough, NE ...</td>\n",
       "      <td>46 in</td>\n",
       "      <td>PM</td>\n",
       "      <td>Opera/9.56.(X11; Linux x86_64; sl-SI) Presto/2...</td>\n",
       "      <td>Martinez-Herman</td>\n",
       "      <td>6011929061123406</td>\n",
       "      <td>02/20</td>\n",
       "      <td>900</td>\n",
       "      <td>JCB 16 digit</td>\n",
       "      <td>pdunlap@yahoo.com</td>\n",
       "      <td>Scientist, product/process development</td>\n",
       "      <td>149.146.147.205</td>\n",
       "      <td>el</td>\n",
       "      <td>98.14</td>\n",
       "    </tr>\n",
       "    <tr>\n",
       "      <th>1</th>\n",
       "      <td>9374 Jasmine Spurs Suite 508\\r\\nSouth John, TN...</td>\n",
       "      <td>28 rn</td>\n",
       "      <td>PM</td>\n",
       "      <td>Opera/8.93.(Windows 98; Win 9x 4.90; en-US) Pr...</td>\n",
       "      <td>Fletcher, Richards and Whitaker</td>\n",
       "      <td>3337758169645356</td>\n",
       "      <td>11/18</td>\n",
       "      <td>561</td>\n",
       "      <td>Mastercard</td>\n",
       "      <td>anthony41@reed.com</td>\n",
       "      <td>Drilling engineer</td>\n",
       "      <td>15.160.41.51</td>\n",
       "      <td>fr</td>\n",
       "      <td>70.73</td>\n",
       "    </tr>\n",
       "    <tr>\n",
       "      <th>2</th>\n",
       "      <td>Unit 0065 Box 5052\\r\\nDPO AP 27450</td>\n",
       "      <td>94 vE</td>\n",
       "      <td>PM</td>\n",
       "      <td>Mozilla/5.0 (compatible; MSIE 9.0; Windows NT ...</td>\n",
       "      <td>Simpson, Williams and Pham</td>\n",
       "      <td>675957666125</td>\n",
       "      <td>08/19</td>\n",
       "      <td>699</td>\n",
       "      <td>JCB 16 digit</td>\n",
       "      <td>amymiller@morales-harrison.com</td>\n",
       "      <td>Customer service manager</td>\n",
       "      <td>132.207.160.22</td>\n",
       "      <td>de</td>\n",
       "      <td>0.95</td>\n",
       "    </tr>\n",
       "    <tr>\n",
       "      <th>3</th>\n",
       "      <td>7780 Julia Fords\\r\\nNew Stacy, WA 45798</td>\n",
       "      <td>36 vm</td>\n",
       "      <td>PM</td>\n",
       "      <td>Mozilla/5.0 (Macintosh; Intel Mac OS X 10_8_0 ...</td>\n",
       "      <td>Williams, Marshall and Buchanan</td>\n",
       "      <td>6011578504430710</td>\n",
       "      <td>02/24</td>\n",
       "      <td>384</td>\n",
       "      <td>Discover</td>\n",
       "      <td>brent16@olson-robinson.info</td>\n",
       "      <td>Drilling engineer</td>\n",
       "      <td>30.250.74.19</td>\n",
       "      <td>es</td>\n",
       "      <td>78.04</td>\n",
       "    </tr>\n",
       "    <tr>\n",
       "      <th>4</th>\n",
       "      <td>23012 Munoz Drive Suite 337\\r\\nNew Cynthia, TX...</td>\n",
       "      <td>20 IE</td>\n",
       "      <td>AM</td>\n",
       "      <td>Opera/9.58.(X11; Linux x86_64; it-IT) Presto/2...</td>\n",
       "      <td>Brown, Watson and Andrews</td>\n",
       "      <td>6011456623207998</td>\n",
       "      <td>10/25</td>\n",
       "      <td>678</td>\n",
       "      <td>Diners Club / Carte Blanche</td>\n",
       "      <td>christopherwright@gmail.com</td>\n",
       "      <td>Fine artist</td>\n",
       "      <td>24.140.33.94</td>\n",
       "      <td>es</td>\n",
       "      <td>77.82</td>\n",
       "    </tr>\n",
       "  </tbody>\n",
       "</table>\n",
       "</div>"
      ],
      "text/plain": [
       "                                             Address    Lot AM or PM  \\\n",
       "0  16629 Pace Camp Apt. 448\\r\\nAlexisborough, NE ...  46 in       PM   \n",
       "1  9374 Jasmine Spurs Suite 508\\r\\nSouth John, TN...  28 rn       PM   \n",
       "2                 Unit 0065 Box 5052\\r\\nDPO AP 27450  94 vE       PM   \n",
       "3            7780 Julia Fords\\r\\nNew Stacy, WA 45798  36 vm       PM   \n",
       "4  23012 Munoz Drive Suite 337\\r\\nNew Cynthia, TX...  20 IE       AM   \n",
       "\n",
       "                                        Browser Info  \\\n",
       "0  Opera/9.56.(X11; Linux x86_64; sl-SI) Presto/2...   \n",
       "1  Opera/8.93.(Windows 98; Win 9x 4.90; en-US) Pr...   \n",
       "2  Mozilla/5.0 (compatible; MSIE 9.0; Windows NT ...   \n",
       "3  Mozilla/5.0 (Macintosh; Intel Mac OS X 10_8_0 ...   \n",
       "4  Opera/9.58.(X11; Linux x86_64; it-IT) Presto/2...   \n",
       "\n",
       "                           Company       Credit Card CC Exp Date  \\\n",
       "0                  Martinez-Herman  6011929061123406       02/20   \n",
       "1  Fletcher, Richards and Whitaker  3337758169645356       11/18   \n",
       "2       Simpson, Williams and Pham      675957666125       08/19   \n",
       "3  Williams, Marshall and Buchanan  6011578504430710       02/24   \n",
       "4        Brown, Watson and Andrews  6011456623207998       10/25   \n",
       "\n",
       "   CC Security Code                  CC Provider  \\\n",
       "0               900                 JCB 16 digit   \n",
       "1               561                   Mastercard   \n",
       "2               699                 JCB 16 digit   \n",
       "3               384                     Discover   \n",
       "4               678  Diners Club / Carte Blanche   \n",
       "\n",
       "                            Email                                     Job  \\\n",
       "0               pdunlap@yahoo.com  Scientist, product/process development   \n",
       "1              anthony41@reed.com                       Drilling engineer   \n",
       "2  amymiller@morales-harrison.com                Customer service manager   \n",
       "3     brent16@olson-robinson.info                       Drilling engineer   \n",
       "4     christopherwright@gmail.com                             Fine artist   \n",
       "\n",
       "        IP Address Language  Purchase Price  \n",
       "0  149.146.147.205       el           98.14  \n",
       "1     15.160.41.51       fr           70.73  \n",
       "2   132.207.160.22       de            0.95  \n",
       "3     30.250.74.19       es           78.04  \n",
       "4     24.140.33.94       es           77.82  "
      ]
     },
     "execution_count": 5,
     "metadata": {},
     "output_type": "execute_result"
    }
   ],
   "source": [
    "ecom.head()"
   ]
  },
  {
   "cell_type": "markdown",
   "metadata": {},
   "source": [
    "** How many rows and columns are there? **"
   ]
  },
  {
   "cell_type": "code",
   "execution_count": 7,
   "metadata": {},
   "outputs": [
    {
     "data": {
      "text/plain": [
       "(10000, 14)"
      ]
     },
     "execution_count": 7,
     "metadata": {},
     "output_type": "execute_result"
    }
   ],
   "source": [
    "ecom.shape"
   ]
  },
  {
   "cell_type": "code",
   "execution_count": 8,
   "metadata": {},
   "outputs": [
    {
     "data": {
      "text/plain": [
       "Index(['Address', 'Lot', 'AM or PM', 'Browser Info', 'Company', 'Credit Card',\n",
       "       'CC Exp Date', 'CC Security Code', 'CC Provider', 'Email', 'Job',\n",
       "       'IP Address', 'Language', 'Purchase Price'],\n",
       "      dtype='object')"
      ]
     },
     "execution_count": 8,
     "metadata": {},
     "output_type": "execute_result"
    }
   ],
   "source": [
    "ecom.columns"
   ]
  },
  {
   "cell_type": "code",
   "execution_count": 21,
   "metadata": {},
   "outputs": [
    {
     "data": {
      "text/plain": [
       "array([98.14, 70.73,  0.95, ..., 67.96, 83.98, 67.59])"
      ]
     },
     "execution_count": 21,
     "metadata": {},
     "output_type": "execute_result"
    }
   ],
   "source": [
    "ecom['Purchase Price'].unique()"
   ]
  },
  {
   "cell_type": "code",
   "execution_count": null,
   "metadata": {},
   "outputs": [],
   "source": []
  },
  {
   "cell_type": "code",
   "execution_count": null,
   "metadata": {},
   "outputs": [],
   "source": []
  },
  {
   "cell_type": "code",
   "execution_count": null,
   "metadata": {},
   "outputs": [],
   "source": []
  },
  {
   "cell_type": "markdown",
   "metadata": {},
   "source": [
    "** What is the average Purchase Price? **"
   ]
  },
  {
   "cell_type": "code",
   "execution_count": 15,
   "metadata": {},
   "outputs": [],
   "source": [
    "avg_price= ecom['Purchase Price'].mean().round(3)"
   ]
  },
  {
   "cell_type": "code",
   "execution_count": 16,
   "metadata": {},
   "outputs": [
    {
     "data": {
      "text/plain": [
       "50.347"
      ]
     },
     "execution_count": 16,
     "metadata": {},
     "output_type": "execute_result"
    }
   ],
   "source": [
    "avg_price"
   ]
  },
  {
   "cell_type": "code",
   "execution_count": 90,
   "metadata": {},
   "outputs": [
    {
     "data": {
      "text/plain": [
       "50.34730200000025"
      ]
     },
     "execution_count": 90,
     "metadata": {},
     "output_type": "execute_result"
    }
   ],
   "source": []
  },
  {
   "cell_type": "markdown",
   "metadata": {},
   "source": [
    "** What were the highest and lowest purchase prices? **"
   ]
  },
  {
   "cell_type": "code",
   "execution_count": null,
   "metadata": {},
   "outputs": [],
   "source": []
  },
  {
   "cell_type": "code",
   "execution_count": null,
   "metadata": {},
   "outputs": [],
   "source": []
  },
  {
   "cell_type": "code",
   "execution_count": 17,
   "metadata": {},
   "outputs": [],
   "source": [
    "price_max=ecom['Purchase Price'].max()"
   ]
  },
  {
   "cell_type": "code",
   "execution_count": 19,
   "metadata": {},
   "outputs": [
    {
     "data": {
      "text/plain": [
       "99.99"
      ]
     },
     "execution_count": 19,
     "metadata": {},
     "output_type": "execute_result"
    }
   ],
   "source": [
    "price_max"
   ]
  },
  {
   "cell_type": "code",
   "execution_count": 26,
   "metadata": {},
   "outputs": [],
   "source": [
    "price_min=ecom['Purchase Price'].min()\n"
   ]
  },
  {
   "cell_type": "code",
   "execution_count": 27,
   "metadata": {},
   "outputs": [
    {
     "data": {
      "text/plain": [
       "0.0"
      ]
     },
     "execution_count": 27,
     "metadata": {},
     "output_type": "execute_result"
    }
   ],
   "source": [
    "price_min"
   ]
  },
  {
   "cell_type": "code",
   "execution_count": 28,
   "metadata": {},
   "outputs": [
    {
     "data": {
      "text/plain": [
       "Index(['Address', 'Lot', 'AM or PM', 'Browser Info', 'Company', 'Credit Card',\n",
       "       'CC Exp Date', 'CC Security Code', 'CC Provider', 'Email', 'Job',\n",
       "       'IP Address', 'Language', 'Purchase Price'],\n",
       "      dtype='object')"
      ]
     },
     "execution_count": 28,
     "metadata": {},
     "output_type": "execute_result"
    }
   ],
   "source": [
    "ecom.columns"
   ]
  },
  {
   "cell_type": "markdown",
   "metadata": {},
   "source": [
    "** How many people have English 'en' as their Language of choice on the website? **"
   ]
  },
  {
   "cell_type": "code",
   "execution_count": 32,
   "metadata": {},
   "outputs": [],
   "source": [
    "eng=ecom[ecom[\"Language\"] =='English']"
   ]
  },
  {
   "cell_type": "code",
   "execution_count": 38,
   "metadata": {},
   "outputs": [
    {
     "data": {
      "text/plain": [
       "Series([], Name: count, dtype: int64)"
      ]
     },
     "execution_count": 38,
     "metadata": {},
     "output_type": "execute_result"
    }
   ],
   "source": [
    "ecom[ecom[\"Language\"] =='English'].value_counts()"
   ]
  },
  {
   "cell_type": "code",
   "execution_count": 40,
   "metadata": {},
   "outputs": [],
   "source": [
    "english_count = ecom[ecom[\"Language\"] == \"English\"]"
   ]
  },
  {
   "cell_type": "code",
   "execution_count": 45,
   "metadata": {},
   "outputs": [
    {
     "data": {
      "text/plain": [
       "Index(['Address', 'Lot', 'AM or PM', 'Browser Info', 'Company', 'Credit Card',\n",
       "       'CC Exp Date', 'CC Security Code', 'CC Provider', 'Email', 'Job',\n",
       "       'IP Address', 'Language', 'Purchase Price'],\n",
       "      dtype='object')"
      ]
     },
     "execution_count": 45,
     "metadata": {},
     "output_type": "execute_result"
    }
   ],
   "source": [
    "ecom.columns"
   ]
  },
  {
   "cell_type": "code",
   "execution_count": 52,
   "metadata": {},
   "outputs": [],
   "source": [
    "eng=ecom[ecom[\"Language\"] == \"en\"][\"Job\"].value_counts()\n"
   ]
  },
  {
   "cell_type": "code",
   "execution_count": 53,
   "metadata": {},
   "outputs": [
    {
     "name": "stdout",
     "output_type": "stream",
     "text": [
      "Job\n",
      "Radio broadcast assistant               8\n",
      "English as a second language teacher    7\n",
      "Sports administrator                    6\n",
      "Forest/woodland manager                 6\n",
      "Designer, furniture                     5\n",
      "                                       ..\n",
      "Aid worker                              1\n",
      "Arts development officer                1\n",
      "Curator                                 1\n",
      "Education officer, environmental        1\n",
      "Lawyer                                  1\n",
      "Name: count, Length: 518, dtype: int64\n"
     ]
    }
   ],
   "source": [
    "print(eng)"
   ]
  },
  {
   "cell_type": "code",
   "execution_count": 51,
   "metadata": {},
   "outputs": [
    {
     "name": "stdout",
     "output_type": "stream",
     "text": [
      "                                              Address    Lot AM or PM  \\\n",
      "11           349 Laurie Parks\\r\\nThomasview, ID 08970  30 kK       PM   \n",
      "12  733 Heather Rest Apt. 670\\r\\nBoltonport, UT 78662  69 DO       AM   \n",
      "22  625 Laura Summit Suite 112\\r\\nShortmouth, AK 9...  45 oa       PM   \n",
      "26      5334 Sheppard Fort\\r\\nNorth Kirsten, ND 71170  40 ND       AM   \n",
      "31                 USNS Alvarado\\r\\nFPO AA 27052-1231  26 Lh       PM   \n",
      "\n",
      "                                         Browser Info  \\\n",
      "11  Mozilla/5.0 (X11; Linux i686; rv:1.9.6.20) Gec...   \n",
      "12  Mozilla/5.0 (Macintosh; Intel Mac OS X 10_5_3 ...   \n",
      "22  Mozilla/5.0 (Windows 95) AppleWebKit/5342 (KHT...   \n",
      "26  Mozilla/5.0 (Macintosh; Intel Mac OS X 10_6_3)...   \n",
      "31  Opera/8.84.(X11; Linux i686; sl-SI) Presto/2.9...   \n",
      "\n",
      "                        Company       Credit Card CC Exp Date  \\\n",
      "11                   Kim-Oliver   869975209012056       06/26   \n",
      "12                 Moore-Martin  5115990487067905       05/26   \n",
      "22                  Burnett Ltd  3158663456056588       07/22   \n",
      "26  Stephens, Johnson and Combs       60488441233       03/19   \n",
      "31              Nicholson Group     4614997834548       03/22   \n",
      "\n",
      "    CC Security Code    CC Provider                      Email  \\\n",
      "11              9717   JCB 15 digit   johnnymiller@coleman.com   \n",
      "12               119  VISA 16 digit          tholt@hotmail.com   \n",
      "22               508       Discover  chambersmichael@gmail.com   \n",
      "26                70  VISA 13 digit           mlogan@gmail.com   \n",
      "31               909     Mastercard       ashley12@hotmail.com   \n",
      "\n",
      "                        Job      IP Address Language  Purchase Price  \n",
      "11  Diagnostic radiographer  128.222.40.234       en           19.26  \n",
      "12       Surveyor, quantity  236.71.234.240       en           39.65  \n",
      "22           Retail manager   65.106.61.141       en           33.62  \n",
      "26        Barrister's clerk  61.197.134.185       en           17.75  \n",
      "31          Sales executive  94.176.142.201       en           94.14  \n"
     ]
    }
   ],
   "source": [
    "print(ecom[ecom[\"Language\"] == \"en\"].head())\n"
   ]
  },
  {
   "cell_type": "code",
   "execution_count": 54,
   "metadata": {},
   "outputs": [
    {
     "data": {
      "text/plain": [
       "Index(['Address', 'Lot', 'AM or PM', 'Browser Info', 'Company', 'Credit Card',\n",
       "       'CC Exp Date', 'CC Security Code', 'CC Provider', 'Email', 'Job',\n",
       "       'IP Address', 'Language', 'Purchase Price'],\n",
       "      dtype='object')"
      ]
     },
     "execution_count": 54,
     "metadata": {},
     "output_type": "execute_result"
    }
   ],
   "source": [
    "ecom.columns"
   ]
  },
  {
   "cell_type": "code",
   "execution_count": 58,
   "metadata": {},
   "outputs": [
    {
     "name": "stdout",
     "output_type": "stream",
     "text": [
      "['Scientist, product/process development' 'Drilling engineer'\n",
      " 'Customer service manager' 'Fine artist' 'Fish farm manager' 'Dancer'\n",
      " 'Event organiser' 'Financial manager' 'Forensic scientist'\n",
      " 'Development worker, community' 'Diagnostic radiographer'\n",
      " 'Surveyor, quantity' 'Accountant, chartered public finance'\n",
      " 'Acupuncturist' 'Retail manager' 'Therapist, art' 'Designer, jewellery'\n",
      " 'Photographer' 'Designer, interior/spatial' 'Public relations officer'\n",
      " 'Presenter, broadcasting' 'Field seismologist' 'Musician'\n",
      " 'Training and development officer' \"Barrister's clerk\" 'Careers adviser'\n",
      " 'Scientist, research (life sciences)' 'Recycling officer'\n",
      " 'Fisheries officer' 'Sales executive' 'Civil Service fast streamer'\n",
      " 'Theatre stage manager' 'Therapist, music' 'Lecturer, further education'\n",
      " 'Animal technologist' 'Psychologist, occupational' 'Music therapist'\n",
      " 'Minerals surveyor' 'Tourist information centre manager' 'Tax inspector'\n",
      " 'Buyer, industrial' 'Purchasing manager' 'Heritage manager'\n",
      " 'Games developer' 'Facilities manager' 'Chemist, analytical'\n",
      " 'Horticulturist, amenity' 'Mechanical engineer'\n",
      " 'Clinical research associate' 'Technical author'\n",
      " 'Radio broadcast assistant' 'Engineer, broadcasting (operations)'\n",
      " 'Clothing/textile technologist' 'Holiday representative'\n",
      " 'Housing manager/officer' 'Teacher, special educational needs'\n",
      " 'Engineer, agricultural' 'Buyer, retail' 'Doctor, general practice'\n",
      " 'Hotel manager' 'Engineer, civil (consulting)' 'General practice doctor'\n",
      " 'Jewellery designer' 'Therapist, speech and language'\n",
      " 'Operational researcher' 'Graphic designer' 'Editorial assistant'\n",
      " 'Financial adviser' 'Paramedic' 'Secretary, company' 'Paediatric nurse'\n",
      " 'Data processing manager' 'Print production planner'\n",
      " 'Engineer, materials' 'Economist' 'Designer, furniture'\n",
      " 'Human resources officer' 'Administrator' 'Teacher, secondary school'\n",
      " 'Video editor' 'Chartered certified accountant'\n",
      " 'Teacher, English as a foreign language' 'Airline pilot' 'Engineer, land'\n",
      " 'Legal secretary' 'Administrator, arts' 'Dealer' 'Town planner'\n",
      " 'Travel agency manager' 'Engineer, water' 'Lecturer, higher education'\n",
      " 'Higher education careers adviser' 'Intelligence analyst'\n",
      " 'Technical sales engineer' 'Dietitian'\n",
      " 'International aid/development worker' 'Learning disability nurse'\n",
      " 'Geneticist, molecular' 'Optometrist' 'Building surveyor'\n",
      " 'Sports therapist' 'Geophysical data processor' 'Multimedia programmer'\n",
      " 'Research scientist (maths)' 'Social worker' 'Camera operator'\n",
      " 'Interpreter' 'Furniture designer' 'Commercial horticulturist' 'Surgeon'\n",
      " 'Psychotherapist, dance movement' 'Information systems manager'\n",
      " 'Music tutor' 'Merchandiser, retail' 'Insurance risk surveyor'\n",
      " 'Armed forces operational officer' 'Homeopath' 'Animal nutritionist'\n",
      " 'Tourism officer' 'Cabin crew' 'Psychiatric nurse'\n",
      " 'Magazine features editor' 'Chartered management accountant'\n",
      " 'Market researcher' 'Mudlogger' 'Textile designer'\n",
      " 'Restaurant manager, fast food' 'Medical laboratory scientific officer'\n",
      " 'Chartered public finance accountant' 'Financial trader'\n",
      " 'Scientist, marine' 'Environmental manager' 'Community education officer'\n",
      " 'Solicitor' 'Psychologist, clinical' 'Occupational therapist'\n",
      " 'Retail merchandiser' 'Mental health nurse' 'Ophthalmologist'\n",
      " 'Insurance underwriter' 'Engineer, aeronautical' 'Chartered accountant'\n",
      " 'Environmental health practitioner' 'Research scientist (life sciences)'\n",
      " 'Wellsite geologist' 'Product designer' 'Armed forces technical officer'\n",
      " 'Television/film/video producer' 'Water quality scientist'\n",
      " 'Furniture conservator/restorer' 'Radio producer'\n",
      " 'Programmer, multimedia' 'Scientist, biomedical'\n",
      " 'Psychologist, sport and exercise' 'Merchant navy officer'\n",
      " 'Designer, television/film set' 'Engineering geologist'\n",
      " 'Health and safety inspector' 'Naval architect' 'Chiropodist'\n",
      " 'Engineer, chemical' 'Scientist, research (medical)' 'Personal assistant'\n",
      " 'Retail banker' 'Advertising account planner' 'Art therapist'\n",
      " 'Forest/woodland manager' 'Research scientist (medical)'\n",
      " 'Scientific laboratory technician' 'Licensed conveyancer'\n",
      " 'Engineer, building services' 'Energy engineer' 'Teacher, music'\n",
      " 'Oncologist' 'Brewing technologist' 'Community arts worker'\n",
      " 'Therapist, drama' 'Water engineer' 'Software engineer' 'Geochemist'\n",
      " 'Designer, industrial/product' 'Nature conservation officer'\n",
      " 'Production designer, theatre/television/film'\n",
      " 'Commercial art gallery manager' 'Exhibition designer'\n",
      " 'Education officer, environmental' 'Runner, broadcasting/film/video'\n",
      " 'Pharmacist, hospital' 'Doctor, hospital' 'Teacher, adult education'\n",
      " 'Sub' 'Podiatrist' 'Air broker' 'Engineer, civil (contracting)'\n",
      " 'Lexicographer' 'Speech and language therapist' 'Catering manager'\n",
      " 'Colour technologist' 'Surveyor, building' 'Agricultural consultant'\n",
      " 'Horticultural therapist' 'Pension scheme manager' 'Theatre manager'\n",
      " 'Producer, radio' 'Scientist, forensic' 'Surveyor, insurance'\n",
      " 'Hospital pharmacist' 'Surveyor, rural practice'\n",
      " 'Industrial/product designer' 'Corporate treasurer' 'Structural engineer'\n",
      " 'Research officer, trade union' 'Pensions consultant'\n",
      " 'Secretary/administrator' 'Firefighter' 'Database administrator'\n",
      " 'Health promotion specialist' 'Operations geologist'\n",
      " 'Regulatory affairs officer' 'Production assistant, radio' 'Press sub'\n",
      " 'Education administrator' 'Biomedical scientist' 'Tour manager' 'Midwife'\n",
      " 'Television floor manager' 'Mining engineer'\n",
      " 'Interior and spatial designer' 'Engineer, energy'\n",
      " 'Publishing rights manager' 'Manufacturing systems engineer'\n",
      " 'Designer, exhibition/display' 'Control and instrumentation engineer'\n",
      " 'Ergonomist' 'Scientist, research (maths)' 'Psychologist, forensic'\n",
      " 'Clinical scientist, histocompatibility and immunogenetics'\n",
      " 'Accommodation manager' 'Administrator, sports'\n",
      " 'Sports development officer' 'Educational psychologist'\n",
      " 'Social research officer, government' 'Quarry manager'\n",
      " 'Medical sales representative' 'Consulting civil engineer'\n",
      " 'Trade union research officer' 'Financial planner' 'Futures trader'\n",
      " 'Medical illustrator' 'Engineer, structural' 'Transport planner'\n",
      " 'Special educational needs teacher' 'Chiropractor' 'Therapist, sports'\n",
      " 'Scientist, research (physical sciences)' 'Site engineer'\n",
      " 'Psychologist, counselling' 'Bonds trader' 'Banker' 'Proofreader'\n",
      " 'Social researcher' 'Analytical chemist' 'Dramatherapist'\n",
      " 'Editor, commissioning' 'Sports administrator'\n",
      " 'Sport and exercise psychologist' 'Garment/textile technologist'\n",
      " 'Engineer, maintenance (IT)' 'Surveyor, building control' 'Media planner'\n",
      " 'Statistician' 'Food technologist' 'Chartered loss adjuster'\n",
      " 'Petroleum engineer' 'Engineer, maintenance' 'Television camera operator'\n",
      " 'Geoscientist' 'Printmaker' 'Artist' 'Hospital doctor' 'Systems analyst'\n",
      " 'Radiographer, therapeutic' 'Freight forwarder' 'Call centre manager'\n",
      " 'Theatre director' 'Occupational psychologist' 'Communications engineer'\n",
      " 'Land/geomatics surveyor' 'Advertising account executive'\n",
      " 'Civil engineer, consulting' 'Medical secretary'\n",
      " 'IT technical support officer' 'Advice worker' 'Visual merchandiser'\n",
      " 'Nurse, mental health' 'Further education lecturer'\n",
      " 'Investment banker, corporate' 'Bookseller' 'Engineer, production'\n",
      " 'Health visitor' 'Archivist' 'Recruitment consultant'\n",
      " 'Conservator, museum/gallery' 'Translator' 'Youth worker'\n",
      " 'Operational investment banker' 'Radiation protection practitioner'\n",
      " 'Research officer, political party' 'Make' 'Horticulturist, commercial'\n",
      " 'Surveyor, hydrographic' 'Engineer, communications' 'Surveyor, minerals'\n",
      " 'Hydrologist' 'Race relations officer' 'Quantity surveyor'\n",
      " 'Geologist, wellsite' 'Museum/gallery conservator' 'Community pharmacist'\n",
      " 'Adult guidance worker' 'Building control surveyor'\n",
      " 'Museum/gallery exhibitions officer' 'Ambulance person'\n",
      " 'Probation officer' 'Orthoptist' 'Charity officer' 'Risk analyst'\n",
      " 'Best boy' 'Arts administrator'\n",
      " 'Lighting technician, broadcasting/film/video' 'Engineer, drilling'\n",
      " 'Engineer, control and instrumentation' 'Medical physicist'\n",
      " 'Dispensing optician' 'Management consultant'\n",
      " 'Commercial/residential surveyor' 'English as a foreign language teacher'\n",
      " 'Engineer, site' 'Automotive engineer' 'Air traffic controller' 'Lawyer'\n",
      " 'Contracting civil engineer' 'Psychotherapist, child'\n",
      " 'Maintenance engineer' 'Science writer' 'Administrator, education'\n",
      " 'Administrator, Civil Service' 'Estate manager/land agent'\n",
      " 'Company secretary' 'Therapist, horticultural' 'Broadcast engineer'\n",
      " 'Sound technician, broadcasting/film/video' 'Private music teacher'\n",
      " 'Engineer, manufacturing' 'Emergency planning/management officer'\n",
      " 'Risk manager' 'IT consultant' 'Geographical information systems officer'\n",
      " 'Equities trader' 'Immigration officer' 'Therapeutic radiographer'\n",
      " 'Curator' 'Child psychotherapist' 'Advertising art director'\n",
      " 'Forensic psychologist' 'Hydrographic surveyor' 'Immunologist'\n",
      " 'Sports coach' 'Haematologist' 'Waste management officer'\n",
      " 'Conservator, furniture' 'Research officer, government'\n",
      " 'Agricultural engineer' 'IT sales professional'\n",
      " 'Armed forces logistics/support/administrative officer'\n",
      " 'Field trials officer' 'Psychotherapist' 'Air cabin crew' 'Psychiatrist'\n",
      " 'Illustrator' 'Marine scientist' 'Multimedia specialist' 'Cytogeneticist'\n",
      " 'Occupational hygienist' 'Charity fundraiser'\n",
      " 'Planning and development surveyor' 'Counselling psychologist'\n",
      " 'Physicist, medical' 'TEFL teacher'\n",
      " 'Research scientist (physical sciences)' 'Fashion designer'\n",
      " 'Engineer, petroleum' 'Tree surgeon' 'Corporate investment banker'\n",
      " 'Public house manager' 'Designer, textile' 'Public librarian'\n",
      " 'Arts development officer' 'Actor' 'Hydrogeologist'\n",
      " 'Production assistant, television' 'Embryologist, clinical'\n",
      " 'Press photographer' 'Marketing executive'\n",
      " 'Television production assistant' 'Early years teacher'\n",
      " 'Landscape architect' 'Librarian, academic' 'Web designer'\n",
      " 'Health service manager' 'Clinical psychologist' 'Exercise physiologist'\n",
      " 'Electrical engineer' 'Psychologist, prison and probation services'\n",
      " 'Journalist, magazine' 'Dance movement psychotherapist' 'Animator'\n",
      " 'Legal executive' 'Plant breeder/geneticist' 'Manufacturing engineer'\n",
      " 'Microbiologist' 'Biochemist, clinical' 'Broadcast presenter'\n",
      " 'Ranger/warden' 'Programme researcher, broadcasting/film/video' 'Dentist'\n",
      " 'Aid worker' 'Publishing copy' 'Environmental education officer'\n",
      " 'Librarian, public' 'Phytotherapist' 'Nurse, adult' 'Programmer, systems'\n",
      " 'Scientist, physiological' 'Secondary school teacher' 'Media buyer'\n",
      " 'Trade mark attorney' 'Editor, film/video' 'Careers information officer'\n",
      " 'Retail buyer' 'Ship broker' 'Lobbyist' 'Location manager'\n",
      " 'Surveyor, mining' 'Systems developer' 'Optician, dispensing'\n",
      " 'Chemical engineer' 'Oceanographer' 'Patent attorney'\n",
      " 'Passenger transport manager' 'Glass blower/designer'\n",
      " 'Psychologist, educational' 'Education officer, museum' 'Patent examiner'\n",
      " 'Logistics and distribution manager' 'Trading standards officer'\n",
      " 'Seismic interpreter' 'Local government officer'\n",
      " 'Clinical cytogeneticist' 'Biomedical engineer'\n",
      " 'Diplomatic Services operational officer' 'Land'\n",
      " 'Surveyor, planning and development' 'Farm manager'\n",
      " 'Claims inspector/assessor' 'Warden/ranger' 'Civil engineer, contracting'\n",
      " 'Clinical molecular geneticist' 'Surveyor, land/geomatics'\n",
      " 'Therapist, nutritional'\n",
      " 'Historic buildings inspector/conservation officer'\n",
      " 'English as a second language teacher' 'Materials engineer'\n",
      " 'Insurance broker' 'Ecologist' 'Production manager' 'Veterinary surgeon'\n",
      " 'Pilot, airline' \"Nurse, children's\" 'Astronomer' 'Architect'\n",
      " 'Conservation officer, nature' 'Personnel officer' 'Network engineer'\n",
      " 'Investment analyst' 'Writer' 'Designer, fashion/clothing'\n",
      " 'Theme park manager' 'Engineer, electrical' 'Art gallery manager'\n",
      " 'Office manager' 'Pharmacologist' 'Meteorologist' 'Estate agent'\n",
      " \"Politician's assistant\" 'Environmental consultant' 'Osteopath'\n",
      " 'Amenity horticulturist' 'Physiological scientist'\n",
      " 'Public relations account executive'\n",
      " 'Senior tax professional/tax inspector' 'Arboriculturist'\n",
      " 'Radiographer, diagnostic' 'Engineer, automotive'\n",
      " 'Editor, magazine features' 'Sales professional, IT'\n",
      " 'Commissioning editor' 'Ceramics designer'\n",
      " 'Scientist, clinical (histocompatibility and immunogenetics)'\n",
      " 'Geologist, engineering' 'Designer, multimedia'\n",
      " 'Engineer, manufacturing systems' 'Clinical embryologist'\n",
      " 'Medical technical officer' 'Teacher, primary school' 'Set designer'\n",
      " 'Producer, television/film/video' 'Education officer, community'\n",
      " 'Conservation officer, historic buildings' 'Insurance account manager'\n",
      " 'Financial controller' 'Film/video editor' 'Museum/gallery curator'\n",
      " 'Accounting technician' 'Stage manager' 'Physiotherapist'\n",
      " 'Sales promotion account executive' 'Horticultural consultant'\n",
      " 'Journalist, broadcasting' 'Health and safety adviser'\n",
      " 'Building services engineer' 'Product/process development scientist'\n",
      " 'Metallurgist' 'Audiological scientist'\n",
      " 'Designer, blown glass/stained glass' 'Tax adviser' 'Industrial buyer'\n",
      " 'Government social research officer'\n",
      " 'Outdoor activities/education manager' 'Solicitor, Scotland'\n",
      " 'Conference centre manager' 'Health physicist' 'Pharmacist, community'\n",
      " 'Applications developer' 'Public affairs consultant' 'Prison officer'\n",
      " 'Production engineer' 'Actuary' 'Museum education officer'\n",
      " 'Fitness centre manager' 'Records manager' 'Journalist, newspaper'\n",
      " 'Computer games developer' 'Toxicologist' 'Counsellor'\n",
      " 'Therapist, occupational' 'Accountant, chartered certified'\n",
      " 'Insurance claims handler' 'Programmer, applications'\n",
      " 'Accountant, chartered management' 'Broadcast journalist'\n",
      " 'Energy manager' 'Barrister' 'Scientist, audiological'\n",
      " 'Designer, graphic' 'Cartographer' 'Community development worker'\n",
      " 'Engineer, mining' 'Special effects artist' 'Gaffer'\n",
      " 'Civil Service administrator'\n",
      " 'Armed forces training and education officer' 'Quality manager'\n",
      " 'Engineer, electronics' 'Development worker, international aid'\n",
      " 'Restaurant manager' 'Architectural technologist' 'Academic librarian'\n",
      " 'Fast food restaurant manager' 'Rural practice surveyor'\n",
      " 'Designer, ceramics/pottery' 'Police officer' 'Soil scientist'\n",
      " 'Technical brewer' 'Administrator, local government'\n",
      " 'Copywriter, advertising' 'Volunteer coordinator' 'Magazine journalist'\n",
      " 'Information officer' 'Copy' 'Advertising copywriter'\n",
      " 'Engineer, biomedical' 'Nurse, learning disability'\n",
      " 'Aeronautical engineer' 'Archaeologist' 'IT trainer'\n",
      " 'Clinical biochemist' 'Administrator, charities/voluntary organisations'\n",
      " 'Pathologist' 'Geophysicist/field seismologist'\n",
      " 'Investment banker, operational' 'Teacher, early years/pre'\n",
      " 'Electronics engineer' 'Exhibitions officer, museum/gallery'\n",
      " 'Nutritional therapist' 'Teaching laboratory technician' 'Herbalist'\n",
      " 'Leisure centre manager' 'Higher education lecturer'\n",
      " 'Newspaper journalist' 'Accountant, chartered' 'Loss adjuster, chartered'\n",
      " 'Surveyor, commercial/residential' 'Warehouse manager'\n",
      " 'Scientist, water quality' 'Primary school teacher'\n",
      " 'Chartered legal executive (England and Wales)'\n",
      " 'Telecommunications researcher' 'Equality and diversity officer'\n",
      " 'Learning mentor' 'Financial risk analyst' 'Engineer, technical sales'\n",
      " 'Adult nurse']\n"
     ]
    }
   ],
   "source": [
    "unique_jobs = ecom[\"Job\"].unique()\n",
    "print(unique_jobs)\n"
   ]
  },
  {
   "cell_type": "code",
   "execution_count": 57,
   "metadata": {},
   "outputs": [
    {
     "data": {
      "text/plain": [
       "<bound method IndexOpsMixin.nunique of 0       Scientist, product/process development\n",
       "1                            Drilling engineer\n",
       "2                     Customer service manager\n",
       "3                            Drilling engineer\n",
       "4                                  Fine artist\n",
       "                         ...                  \n",
       "9995                                Printmaker\n",
       "9996                           Energy engineer\n",
       "9997                        Veterinary surgeon\n",
       "9998                  Local government officer\n",
       "9999                    Embryologist, clinical\n",
       "Name: Job, Length: 10000, dtype: object>"
      ]
     },
     "execution_count": 57,
     "metadata": {},
     "output_type": "execute_result"
    }
   ],
   "source": [
    "ecom[\"Job\"].nunique"
   ]
  },
  {
   "cell_type": "code",
   "execution_count": null,
   "metadata": {},
   "outputs": [],
   "source": [
    "job=ecom[ecom[\"Job\"]==\"Job\"]"
   ]
  },
  {
   "cell_type": "code",
   "execution_count": null,
   "metadata": {},
   "outputs": [],
   "source": [
    "job="
   ]
  },
  {
   "cell_type": "code",
   "execution_count": 66,
   "metadata": {},
   "outputs": [
    {
     "name": "stdout",
     "output_type": "stream",
     "text": [
      "Job\n",
      "Interior and spatial designer    31\n",
      "Lawyer                           30\n",
      "Social researcher                28\n",
      "Purchasing manager               27\n",
      "Designer, jewellery              27\n",
      "                                 ..\n",
      "Prison officer                    7\n",
      "Editor, film/video                6\n",
      "Actuary                           6\n",
      "Information systems manager       5\n",
      "Investment analyst                5\n",
      "Name: count, Length: 623, dtype: int64\n"
     ]
    }
   ],
   "source": [
    "l1 = ecom['Job'].value_counts()\n",
    "print(l1)\n"
   ]
  },
  {
   "cell_type": "markdown",
   "metadata": {},
   "source": [
    "# No of  Lawyers are 30"
   ]
  },
  {
   "cell_type": "code",
   "execution_count": 64,
   "metadata": {},
   "outputs": [
    {
     "data": {
      "text/plain": [
       "<pandas.core.groupby.generic.DataFrameGroupBy object at 0x000001DAF6AED2E0>"
      ]
     },
     "execution_count": 64,
     "metadata": {},
     "output_type": "execute_result"
    }
   ],
   "source": [
    "l1"
   ]
  },
  {
   "cell_type": "code",
   "execution_count": 65,
   "metadata": {},
   "outputs": [
    {
     "name": "stdout",
     "output_type": "stream",
     "text": [
      "<pandas.core.groupby.generic.DataFrameGroupBy object at 0x000001DAF6AED2E0>\n"
     ]
    }
   ],
   "source": [
    "print(l1)"
   ]
  },
  {
   "cell_type": "code",
   "execution_count": 61,
   "metadata": {},
   "outputs": [
    {
     "data": {
      "text/plain": [
       "Address             9310 Bailey Mountain Apt. 832\\r\\nLake Jacqueli...\n",
       "Lot                 67 tQ53 rJ80 jP20 Aa67 Bk61 DY38 gp70 nu63 BG8...\n",
       "AM or PM            PMPMPMAMAMPMAMAMPMAMPMPMPMAMAMPMPMAMAMPMAMAMAM...\n",
       "Browser Info        Mozilla/5.0 (X11; Linux x86_64; rv:1.9.7.20) G...\n",
       "Company             White-HicksMcdonald, Green and JenningsBrewer-...\n",
       "Credit Card                                         58657718478989760\n",
       "CC Exp Date         03/1906/2604/1708/2406/1805/2402/2107/1705/230...\n",
       "CC Security Code                                                31550\n",
       "CC Provider         VoyagerVISA 16 digitJCB 15 digitVISA 16 digitV...\n",
       "Email               francisjohnson@peters-green.comkaren24@hotmail...\n",
       "Job                 LawyerLawyerLawyerLawyerLawyerLawyerLawyerLawy...\n",
       "IP Address          253.78.210.5713.128.34.120245.31.38.181147.0.2...\n",
       "Language            itruelptiteldeitzhesptderuesptzhptderuruitptel...\n",
       "Purchase Price                                                1603.85\n",
       "dtype: object"
      ]
     },
     "execution_count": 61,
     "metadata": {},
     "output_type": "execute_result"
    }
   ],
   "source": [
    "law = ecom [ecom['Job']== \"Lawyer\"].sum()\n",
    "law"
   ]
  },
  {
   "cell_type": "markdown",
   "metadata": {},
   "source": [
    "** How many people have the job title of \"Lawyer\" ? **\n"
   ]
  },
  {
   "cell_type": "markdown",
   "metadata": {},
   "source": [
    " # ** How many people made the purchase during the AM and how many people made the purchase during PM ? **\n",
    "\n",
    "# **(Hint: Check out [value_counts()](http://pandas.pydata.org/pandas-docs/stable/generated/pandas.Series.value_counts.html) ) **"
   ]
  },
  {
   "cell_type": "code",
   "execution_count": 67,
   "metadata": {},
   "outputs": [
    {
     "data": {
      "text/plain": [
       "Index(['Address', 'Lot', 'AM or PM', 'Browser Info', 'Company', 'Credit Card',\n",
       "       'CC Exp Date', 'CC Security Code', 'CC Provider', 'Email', 'Job',\n",
       "       'IP Address', 'Language', 'Purchase Price'],\n",
       "      dtype='object')"
      ]
     },
     "execution_count": 67,
     "metadata": {},
     "output_type": "execute_result"
    }
   ],
   "source": [
    "ecom.columns"
   ]
  },
  {
   "cell_type": "code",
   "execution_count": 68,
   "metadata": {},
   "outputs": [
    {
     "data": {
      "text/plain": [
       "0       PM\n",
       "1       PM\n",
       "2       PM\n",
       "3       PM\n",
       "4       AM\n",
       "        ..\n",
       "9995    PM\n",
       "9996    AM\n",
       "9997    AM\n",
       "9998    PM\n",
       "9999    AM\n",
       "Name: AM or PM, Length: 10000, dtype: object"
      ]
     },
     "execution_count": 68,
     "metadata": {},
     "output_type": "execute_result"
    }
   ],
   "source": [
    "ecom['AM or PM']"
   ]
  },
  {
   "cell_type": "code",
   "execution_count": 70,
   "metadata": {},
   "outputs": [
    {
     "data": {
      "text/plain": [
       "AM or PM\n",
       "PM    5068\n",
       "AM    4932\n",
       "Name: count, dtype: int64"
      ]
     },
     "execution_count": 70,
     "metadata": {},
     "output_type": "execute_result"
    }
   ],
   "source": [
    "ecom['AM or PM'].value_counts()"
   ]
  },
  {
   "cell_type": "code",
   "execution_count": null,
   "metadata": {},
   "outputs": [],
   "source": []
  },
  {
   "cell_type": "code",
   "execution_count": null,
   "metadata": {},
   "outputs": [],
   "source": []
  },
  {
   "cell_type": "code",
   "execution_count": null,
   "metadata": {},
   "outputs": [],
   "source": []
  },
  {
   "cell_type": "markdown",
   "metadata": {},
   "source": [
    "** What are the 5 most common Job Titles? **"
   ]
  },
  {
   "cell_type": "code",
   "execution_count": 76,
   "metadata": {},
   "outputs": [
    {
     "data": {
      "text/plain": [
       "Job\n",
       "Interior and spatial designer    31\n",
       "Lawyer                           30\n",
       "Social researcher                28\n",
       "Purchasing manager               27\n",
       "Designer, jewellery              27\n",
       "Name: count, dtype: int64"
      ]
     },
     "execution_count": 76,
     "metadata": {},
     "output_type": "execute_result"
    }
   ],
   "source": [
    "ecom['Job'].value_counts().head(5)"
   ]
  },
  {
   "cell_type": "markdown",
   "metadata": {},
   "source": [
    "** Someone made a purchase that came from Lot: \"90 WT\" , what was the Purchase Price for this transaction? **"
   ]
  },
  {
   "cell_type": "code",
   "execution_count": 77,
   "metadata": {},
   "outputs": [
    {
     "data": {
      "text/plain": [
       "Index(['Address', 'Lot', 'AM or PM', 'Browser Info', 'Company', 'Credit Card',\n",
       "       'CC Exp Date', 'CC Security Code', 'CC Provider', 'Email', 'Job',\n",
       "       'IP Address', 'Language', 'Purchase Price'],\n",
       "      dtype='object')"
      ]
     },
     "execution_count": 77,
     "metadata": {},
     "output_type": "execute_result"
    }
   ],
   "source": [
    "ecom.columns"
   ]
  },
  {
   "cell_type": "code",
   "execution_count": 84,
   "metadata": {},
   "outputs": [
    {
     "data": {
      "text/plain": [
       "array(['46 in', '28 rn', '94 vE', ..., '74 Zh', '74 cL', '64 Hr'],\n",
       "      dtype=object)"
      ]
     },
     "execution_count": 84,
     "metadata": {},
     "output_type": "execute_result"
    }
   ],
   "source": [
    "ecom['Lot'].unique()"
   ]
  },
  {
   "cell_type": "code",
   "execution_count": 89,
   "metadata": {},
   "outputs": [
    {
     "name": "stdout",
     "output_type": "stream",
     "text": [
      "Lot\n",
      "90 WT    1\n",
      "Name: count, dtype: int64\n"
     ]
    }
   ],
   "source": [
    "df3=ecom[ecom['Lot']== \"90 WT\"]\n",
    "print(df3['Lot'].value_counts())"
   ]
  },
  {
   "cell_type": "code",
   "execution_count": 95,
   "metadata": {},
   "outputs": [
    {
     "data": {
      "text/plain": [
       "Index(['Address', 'Lot', 'AM or PM', 'Browser Info', 'Company', 'Credit Card',\n",
       "       'CC Exp Date', 'CC Security Code', 'CC Provider', 'Email', 'Job',\n",
       "       'IP Address', 'Language', 'Purchase Price'],\n",
       "      dtype='object')"
      ]
     },
     "execution_count": 95,
     "metadata": {},
     "output_type": "execute_result"
    }
   ],
   "source": [
    "ecom.columns"
   ]
  },
  {
   "cell_type": "code",
   "execution_count": null,
   "metadata": {},
   "outputs": [],
   "source": []
  },
  {
   "cell_type": "code",
   "execution_count": null,
   "metadata": {},
   "outputs": [],
   "source": []
  },
  {
   "cell_type": "markdown",
   "metadata": {},
   "source": [
    "** What is the email of the person with the following Credit Card Number: 4926535242672853 **"
   ]
  },
  {
   "cell_type": "code",
   "execution_count": 98,
   "metadata": {},
   "outputs": [
    {
     "data": {
      "text/html": [
       "<div>\n",
       "<style scoped>\n",
       "    .dataframe tbody tr th:only-of-type {\n",
       "        vertical-align: middle;\n",
       "    }\n",
       "\n",
       "    .dataframe tbody tr th {\n",
       "        vertical-align: top;\n",
       "    }\n",
       "\n",
       "    .dataframe thead th {\n",
       "        text-align: right;\n",
       "    }\n",
       "</style>\n",
       "<table border=\"1\" class=\"dataframe\">\n",
       "  <thead>\n",
       "    <tr style=\"text-align: right;\">\n",
       "      <th></th>\n",
       "      <th>Address</th>\n",
       "      <th>Lot</th>\n",
       "      <th>AM or PM</th>\n",
       "      <th>Browser Info</th>\n",
       "      <th>Company</th>\n",
       "      <th>Credit Card</th>\n",
       "      <th>CC Exp Date</th>\n",
       "      <th>CC Security Code</th>\n",
       "      <th>CC Provider</th>\n",
       "      <th>Email</th>\n",
       "      <th>Job</th>\n",
       "      <th>IP Address</th>\n",
       "      <th>Language</th>\n",
       "      <th>Purchase Price</th>\n",
       "    </tr>\n",
       "  </thead>\n",
       "  <tbody>\n",
       "    <tr>\n",
       "      <th>1234</th>\n",
       "      <td>2470 Maria Manors Suite 185\\r\\nJoneshaven, MN ...</td>\n",
       "      <td>82 UX</td>\n",
       "      <td>PM</td>\n",
       "      <td>Mozilla/5.0 (X11; Linux x86_64; rv:1.9.5.20) G...</td>\n",
       "      <td>Cole, King and Bowers</td>\n",
       "      <td>4926535242672853</td>\n",
       "      <td>09/21</td>\n",
       "      <td>188</td>\n",
       "      <td>American Express</td>\n",
       "      <td>bondellen@williams-garza.com</td>\n",
       "      <td>Planning and development surveyor</td>\n",
       "      <td>159.182.3.50</td>\n",
       "      <td>ru</td>\n",
       "      <td>77.88</td>\n",
       "    </tr>\n",
       "  </tbody>\n",
       "</table>\n",
       "</div>"
      ],
      "text/plain": [
       "                                                Address    Lot AM or PM  \\\n",
       "1234  2470 Maria Manors Suite 185\\r\\nJoneshaven, MN ...  82 UX       PM   \n",
       "\n",
       "                                           Browser Info  \\\n",
       "1234  Mozilla/5.0 (X11; Linux x86_64; rv:1.9.5.20) G...   \n",
       "\n",
       "                    Company       Credit Card CC Exp Date  CC Security Code  \\\n",
       "1234  Cole, King and Bowers  4926535242672853       09/21               188   \n",
       "\n",
       "           CC Provider                         Email  \\\n",
       "1234  American Express  bondellen@williams-garza.com   \n",
       "\n",
       "                                    Job    IP Address Language  Purchase Price  \n",
       "1234  Planning and development surveyor  159.182.3.50       ru           77.88  "
      ]
     },
     "execution_count": 98,
     "metadata": {},
     "output_type": "execute_result"
    }
   ],
   "source": [
    "df4=ecom[ecom['Credit Card'] == 4926535242672853 ]\n",
    "df4"
   ]
  },
  {
   "cell_type": "code",
   "execution_count": 97,
   "metadata": {},
   "outputs": [
    {
     "name": "stdout",
     "output_type": "stream",
     "text": [
      "int64\n"
     ]
    }
   ],
   "source": [
    "print(ecom['Credit Card'].dtype)\n"
   ]
  },
  {
   "cell_type": "code",
   "execution_count": 99,
   "metadata": {},
   "outputs": [
    {
     "data": {
      "text/plain": [
       "1234    bondellen@williams-garza.com\n",
       "Name: Email, dtype: object"
      ]
     },
     "execution_count": 99,
     "metadata": {},
     "output_type": "execute_result"
    }
   ],
   "source": [
    "df4[\"Email\"]"
   ]
  },
  {
   "cell_type": "code",
   "execution_count": null,
   "metadata": {},
   "outputs": [],
   "source": []
  },
  {
   "cell_type": "code",
   "execution_count": null,
   "metadata": {},
   "outputs": [],
   "source": []
  },
  {
   "cell_type": "code",
   "execution_count": null,
   "metadata": {},
   "outputs": [],
   "source": []
  },
  {
   "cell_type": "code",
   "execution_count": null,
   "metadata": {},
   "outputs": [],
   "source": []
  },
  {
   "cell_type": "code",
   "execution_count": null,
   "metadata": {},
   "outputs": [],
   "source": []
  },
  {
   "cell_type": "code",
   "execution_count": null,
   "metadata": {},
   "outputs": [],
   "source": []
  },
  {
   "cell_type": "code",
   "execution_count": null,
   "metadata": {},
   "outputs": [],
   "source": []
  },
  {
   "cell_type": "code",
   "execution_count": 100,
   "metadata": {},
   "outputs": [
    {
     "data": {
      "text/plain": [
       "1234    bondellen@williams-garza.com\n",
       "Name: Email, dtype: object"
      ]
     },
     "execution_count": 100,
     "metadata": {},
     "output_type": "execute_result"
    }
   ],
   "source": []
  },
  {
   "cell_type": "markdown",
   "metadata": {},
   "source": [
    "** How many people have American Express as their Credit Card Provider *and* made a purchase above $95 ?**"
   ]
  },
  {
   "cell_type": "code",
   "execution_count": 101,
   "metadata": {},
   "outputs": [
    {
     "data": {
      "text/plain": [
       "Address             39\n",
       "Lot                 39\n",
       "AM or PM            39\n",
       "Browser Info        39\n",
       "Company             39\n",
       "Credit Card         39\n",
       "CC Exp Date         39\n",
       "CC Security Code    39\n",
       "CC Provider         39\n",
       "Email               39\n",
       "Job                 39\n",
       "IP Address          39\n",
       "Language            39\n",
       "Purchase Price      39\n",
       "dtype: int64"
      ]
     },
     "execution_count": 101,
     "metadata": {},
     "output_type": "execute_result"
    }
   ],
   "source": []
  },
  {
   "cell_type": "markdown",
   "metadata": {},
   "source": [
    "** Hard: How many people have a credit card that expires in 2025? **"
   ]
  },
  {
   "cell_type": "code",
   "execution_count": 102,
   "metadata": {},
   "outputs": [
    {
     "data": {
      "text/plain": [
       "1033"
      ]
     },
     "execution_count": 102,
     "metadata": {},
     "output_type": "execute_result"
    }
   ],
   "source": []
  },
  {
   "cell_type": "markdown",
   "metadata": {},
   "source": [
    "** Hard: What are the top 5 most popular email providers/hosts (e.g. gmail.com, yahoo.com, etc...) **"
   ]
  },
  {
   "cell_type": "code",
   "execution_count": 56,
   "metadata": {},
   "outputs": [
    {
     "data": {
      "text/plain": [
       "hotmail.com     1638\n",
       "yahoo.com       1616\n",
       "gmail.com       1605\n",
       "smith.com         42\n",
       "williams.com      37\n",
       "Name: Email, dtype: int64"
      ]
     },
     "execution_count": 56,
     "metadata": {},
     "output_type": "execute_result"
    }
   ],
   "source": []
  },
  {
   "cell_type": "markdown",
   "metadata": {},
   "source": [
    "# Great Job!"
   ]
  }
 ],
 "metadata": {
  "kernelspec": {
   "display_name": "Python 3 (ipykernel)",
   "language": "python",
   "name": "python3"
  },
  "language_info": {
   "codemirror_mode": {
    "name": "ipython",
    "version": 3
   },
   "file_extension": ".py",
   "mimetype": "text/x-python",
   "name": "python",
   "nbconvert_exporter": "python",
   "pygments_lexer": "ipython3",
   "version": "3.12.4"
  }
 },
 "nbformat": 4,
 "nbformat_minor": 4
}
