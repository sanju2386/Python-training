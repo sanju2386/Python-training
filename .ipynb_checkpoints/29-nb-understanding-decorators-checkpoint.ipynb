{
 "cells": [
  {
   "cell_type": "markdown",
   "id": "ac3a30df-8f65-486f-813b-a8408fdb6f8e",
   "metadata": {},
   "source": [
    "### 20.1 How to write a decorator?"
   ]
  },
  {
   "cell_type": "code",
   "execution_count": 3,
   "id": "58354176-455f-4d48-83a0-c797a711ff2a",
   "metadata": {},
   "outputs": [],
   "source": [
    "def modifystring(s):\n",
    "    return ' '.join(list(s.upper()))"
   ]
  },
  {
   "cell_type": "code",
   "execution_count": 5,
   "id": "d5af32f3-7a92-4909-855c-000a432efef3",
   "metadata": {},
   "outputs": [
    {
     "data": {
      "text/plain": [
       "'A P P L E S'"
      ]
     },
     "execution_count": 5,
     "metadata": {},
     "output_type": "execute_result"
    }
   ],
   "source": [
    "modifystring(\"Apples\")"
   ]
  },
  {
   "cell_type": "markdown",
   "id": "28eae57a-fb51-442a-81d5-3fbb188c86a7",
   "metadata": {},
   "source": [
    "##### If we want to add the jumble property to this functionality? -> L E L S P A"
   ]
  },
  {
   "cell_type": "code",
   "execution_count": 11,
   "id": "02f546cc-22ed-4dcd-9d9f-a9d1a4ffc3b5",
   "metadata": {},
   "outputs": [
    {
     "data": {
      "text/plain": [
       "'spAlep'"
      ]
     },
     "execution_count": 11,
     "metadata": {},
     "output_type": "execute_result"
    }
   ],
   "source": [
    "import random\n",
    "s = list('Apples')\n",
    "random.shuffle(s)\n",
    "s = ''.join(s)\n",
    "s"
   ]
  },
  {
   "cell_type": "code",
   "execution_count": 13,
   "id": "026d3bfa-2926-42df-9a19-3942e5e9b5d1",
   "metadata": {},
   "outputs": [
    {
     "data": {
      "text/plain": [
       "'S P A L E P'"
      ]
     },
     "execution_count": 13,
     "metadata": {},
     "output_type": "execute_result"
    }
   ],
   "source": [
    "modifystring(s)"
   ]
  },
  {
   "cell_type": "code",
   "execution_count": 15,
   "id": "f5c9a8c7-90c8-4bdd-8312-a5ca259de422",
   "metadata": {},
   "outputs": [
    {
     "data": {
      "text/plain": [
       "<function __main__.modifystring(s)>"
      ]
     },
     "execution_count": 15,
     "metadata": {},
     "output_type": "execute_result"
    }
   ],
   "source": [
    "modifystring"
   ]
  },
  {
   "cell_type": "markdown",
   "id": "ec453f91-6058-4cc3-8bd5-de580f93f956",
   "metadata": {},
   "source": [
    "##### Returning a function object"
   ]
  },
  {
   "cell_type": "code",
   "execution_count": 17,
   "id": "2974ed11-c745-4ca8-962c-1ae730dc7e7e",
   "metadata": {},
   "outputs": [],
   "source": [
    "def wrapper(f):\n",
    "    return f"
   ]
  },
  {
   "cell_type": "code",
   "execution_count": 19,
   "id": "78f04585-2e87-4526-9852-d999f89ec391",
   "metadata": {},
   "outputs": [],
   "source": [
    "a = wrapper(modifystring)"
   ]
  },
  {
   "cell_type": "code",
   "execution_count": 21,
   "id": "2d74dee0-e581-4216-8175-299869087404",
   "metadata": {},
   "outputs": [
    {
     "data": {
      "text/plain": [
       "<function __main__.modifystring(s)>"
      ]
     },
     "execution_count": 21,
     "metadata": {},
     "output_type": "execute_result"
    }
   ],
   "source": [
    "a"
   ]
  },
  {
   "cell_type": "code",
   "execution_count": 23,
   "id": "fc88ad5f-159f-4cd5-a75f-592d35466451",
   "metadata": {},
   "outputs": [
    {
     "data": {
      "text/plain": [
       "'A P P L E S'"
      ]
     },
     "execution_count": 23,
     "metadata": {},
     "output_type": "execute_result"
    }
   ],
   "source": [
    "a(\"apples\")"
   ]
  },
  {
   "cell_type": "markdown",
   "id": "6b0dc685-737a-4c23-83d4-86d0af7ead06",
   "metadata": {},
   "source": [
    "##### Decorator function"
   ]
  },
  {
   "cell_type": "code",
   "execution_count": 167,
   "id": "5c2e6259-3b37-4919-935f-86c1a0428ba0",
   "metadata": {},
   "outputs": [],
   "source": [
    "def jumble(funcObj): # Receives the function name itself as an argument\n",
    "\n",
    "    def enhancer(arg):\n",
    "        return funcObj(arg)\n",
    "        \n",
    "    return enhancer # Returning a function definition object"
   ]
  },
  {
   "cell_type": "code",
   "execution_count": 31,
   "id": "ac70a865-2a9a-4c9c-b033-4bcbe2f51254",
   "metadata": {},
   "outputs": [],
   "source": [
    "f = jumble(modifystring)"
   ]
  },
  {
   "cell_type": "code",
   "execution_count": 67,
   "id": "2e16d417-d0f9-49a8-9c52-6274bc13bba2",
   "metadata": {},
   "outputs": [
    {
     "data": {
      "text/plain": [
       "<function __main__.jumble.<locals>.enhancer(arg)>"
      ]
     },
     "execution_count": 67,
     "metadata": {},
     "output_type": "execute_result"
    }
   ],
   "source": [
    "f"
   ]
  },
  {
   "cell_type": "code",
   "execution_count": 37,
   "id": "ad1a1519-16bd-47ad-90d8-81dc57489a4b",
   "metadata": {},
   "outputs": [
    {
     "data": {
      "text/plain": [
       "'A P P L E S'"
      ]
     },
     "execution_count": 37,
     "metadata": {},
     "output_type": "execute_result"
    }
   ],
   "source": [
    "f(\"Apples\")"
   ]
  },
  {
   "cell_type": "code",
   "execution_count": 69,
   "id": "4d8b3153-8022-4399-ad9e-2b86f3c08ad2",
   "metadata": {},
   "outputs": [],
   "source": [
    "def jumble(funcObj):\n",
    "\n",
    "    def enhancer(arg):\n",
    "        arg = \"mangoes\"\n",
    "        return funcObj(arg)\n",
    "        \n",
    "    return enhancer"
   ]
  },
  {
   "cell_type": "code",
   "execution_count": 71,
   "id": "8367d198-10c2-4711-b863-41f9dd6fb70d",
   "metadata": {},
   "outputs": [],
   "source": [
    "f = jumble(modifystring)"
   ]
  },
  {
   "cell_type": "code",
   "execution_count": 75,
   "id": "284715b6-63eb-4686-b878-3dfbad97b2a8",
   "metadata": {},
   "outputs": [
    {
     "data": {
      "text/plain": [
       "'M A N G O E S'"
      ]
     },
     "execution_count": 75,
     "metadata": {},
     "output_type": "execute_result"
    }
   ],
   "source": [
    "f(\"cherries\")"
   ]
  },
  {
   "cell_type": "code",
   "execution_count": 77,
   "id": "d5542957-d7ad-4c8c-8d96-c7c749b346c9",
   "metadata": {},
   "outputs": [],
   "source": [
    "def jumble(funcObj):\n",
    "\n",
    "    def enhancer(arg):\n",
    "        temp = list(arg)\n",
    "        random.shuffle(temp)\n",
    "        temp = ''.join(temp)\n",
    "        return temp\n",
    "        \n",
    "    return enhancer"
   ]
  },
  {
   "cell_type": "code",
   "execution_count": 83,
   "id": "d1c1e969-7e56-45d5-bd0b-81a58db72611",
   "metadata": {},
   "outputs": [
    {
     "data": {
      "text/plain": [
       "<function __main__.jumble.<locals>.enhancer(arg)>"
      ]
     },
     "execution_count": 83,
     "metadata": {},
     "output_type": "execute_result"
    }
   ],
   "source": [
    "f = jumble(modifystring) # f get the new modified definition called enhancer()\n",
    "f"
   ]
  },
  {
   "cell_type": "code",
   "execution_count": 81,
   "id": "d1dd2b89-5458-4e32-81ad-640bc99350f9",
   "metadata": {},
   "outputs": [
    {
     "data": {
      "text/plain": [
       "'alsppe'"
      ]
     },
     "execution_count": 81,
     "metadata": {},
     "output_type": "execute_result"
    }
   ],
   "source": [
    "f(\"apples\") # calling f is calling enhancer()"
   ]
  },
  {
   "cell_type": "code",
   "execution_count": 85,
   "id": "ad292950-d49d-4b0d-8c30-e85ededb2bea",
   "metadata": {},
   "outputs": [],
   "source": [
    "def jumble(funcObj):\n",
    "\n",
    "    def enhancer(arg):\n",
    "        temp = list(arg)\n",
    "        random.shuffle(temp)\n",
    "        temp = ''.join(temp)\n",
    "        return funcObj(temp)\n",
    "        \n",
    "    return enhancer"
   ]
  },
  {
   "cell_type": "code",
   "execution_count": 93,
   "id": "0f2b889f-db82-4976-b275-d3e13658186c",
   "metadata": {},
   "outputs": [
    {
     "data": {
      "text/plain": [
       "(function, <function __main__.jumble.<locals>.enhancer(arg)>)"
      ]
     },
     "execution_count": 93,
     "metadata": {},
     "output_type": "execute_result"
    }
   ],
   "source": [
    "f = jumble(modifystring) # f get the new modified definition called enhancer()\n",
    "type(f), f"
   ]
  },
  {
   "cell_type": "code",
   "execution_count": 97,
   "id": "38ea3f44-70ba-4f52-892e-2c7ccf52d8ad",
   "metadata": {},
   "outputs": [
    {
     "data": {
      "text/plain": [
       "'S L A P E P'"
      ]
     },
     "execution_count": 97,
     "metadata": {},
     "output_type": "execute_result"
    }
   ],
   "source": [
    "f(\"apples\") # calling f is calling enhancer()"
   ]
  },
  {
   "cell_type": "markdown",
   "id": "4bcedc34-3813-4672-ba18-99548cd99289",
   "metadata": {},
   "source": [
    "##### The correct way to use decorator"
   ]
  },
  {
   "cell_type": "code",
   "execution_count": 101,
   "id": "02781425-0e81-456e-9866-3d3d9a2a02dc",
   "metadata": {},
   "outputs": [],
   "source": [
    "def jumble(funcObj):  # Decorator\n",
    "\n",
    "    def enhancer(arg):  # Wrapper logic which enhances the existing function, pass to the decorator\n",
    "        temp = list(arg)\n",
    "        random.shuffle(temp)\n",
    "        temp = ''.join(temp)\n",
    "        return funcObj(temp)\n",
    "        \n",
    "    return enhancer"
   ]
  },
  {
   "cell_type": "code",
   "execution_count": 111,
   "id": "0436f981-03ea-490e-b06d-6fcabff0099e",
   "metadata": {},
   "outputs": [],
   "source": [
    "def modifystring(s):\n",
    "    return ' '.join(list(s.upper()))"
   ]
  },
  {
   "cell_type": "code",
   "execution_count": 113,
   "id": "c2d9b656-fde5-4a94-90c5-65b8180183c1",
   "metadata": {},
   "outputs": [
    {
     "data": {
      "text/plain": [
       "'A P P L E S'"
      ]
     },
     "execution_count": 113,
     "metadata": {},
     "output_type": "execute_result"
    }
   ],
   "source": [
    "modifystring(\"apples\")"
   ]
  },
  {
   "cell_type": "code",
   "execution_count": 115,
   "id": "df1a234b-0d47-4538-9b99-7fedfc854d6e",
   "metadata": {},
   "outputs": [
    {
     "data": {
      "text/plain": [
       "<function __main__.modifystring(s)>"
      ]
     },
     "execution_count": 115,
     "metadata": {},
     "output_type": "execute_result"
    }
   ],
   "source": [
    "modifystring"
   ]
  },
  {
   "cell_type": "code",
   "execution_count": null,
   "id": "35d587cf-7518-48f2-a1cd-bd31110126c4",
   "metadata": {},
   "outputs": [],
   "source": []
  },
  {
   "cell_type": "markdown",
   "id": "da365fe9-2844-487c-92ca-6ec6ecf32bc5",
   "metadata": {},
   "source": [
    "##### Decorating"
   ]
  },
  {
   "cell_type": "code",
   "execution_count": 169,
   "id": "e33bd940-0838-46a8-95ab-d9afb2e945be",
   "metadata": {},
   "outputs": [],
   "source": [
    "modifystring = jumble(modifystring) # function enhanced with decorator, use the name of the existing functions itself"
   ]
  },
  {
   "cell_type": "code",
   "execution_count": 119,
   "id": "00d45c64-fd34-4798-af0c-3c487e9caaa6",
   "metadata": {},
   "outputs": [
    {
     "data": {
      "text/plain": [
       "<function __main__.jumble.<locals>.enhancer(arg)>"
      ]
     },
     "execution_count": 119,
     "metadata": {},
     "output_type": "execute_result"
    }
   ],
   "source": [
    "modifystring"
   ]
  },
  {
   "cell_type": "code",
   "execution_count": 121,
   "id": "b8da8505-bddb-4343-be82-0d706a82b32e",
   "metadata": {},
   "outputs": [
    {
     "data": {
      "text/plain": [
       "'S P L E A P'"
      ]
     },
     "execution_count": 121,
     "metadata": {},
     "output_type": "execute_result"
    }
   ],
   "source": [
    "modifystring(\"apples\")"
   ]
  },
  {
   "cell_type": "markdown",
   "id": "5b2c5477-8979-4328-8ab5-7b9a4158b15c",
   "metadata": {},
   "source": [
    "##### Much better syntax for writing a decorator"
   ]
  },
  {
   "cell_type": "code",
   "execution_count": 171,
   "id": "17853a76-3bf0-4f25-99dd-0ba6969b9f01",
   "metadata": {},
   "outputs": [],
   "source": [
    "def jumble(funcObj):  # Decorator\n",
    "\n",
    "    def enhancer(arg):  # Wrapper logic which enhances the existing function, pass to the decorator\n",
    "        temp = list(arg)\n",
    "        random.shuffle(temp)\n",
    "        temp = ''.join(temp)\n",
    "        return funcObj(temp)\n",
    "        \n",
    "    return enhancer\n",
    "\n",
    "@jumble\n",
    "def modifystring(s):\n",
    "    return ' '.join(list(s.upper()))\n",
    "\n",
    "# NOTES: we are not changing the code of modifystring\n",
    "# But, by using @jumble decorator, a new behavious results when modifystring is used"
   ]
  },
  {
   "cell_type": "code",
   "execution_count": 139,
   "id": "8672c0a2-e79b-4b92-85e3-1faa18bc613e",
   "metadata": {},
   "outputs": [
    {
     "data": {
      "text/plain": [
       "'S P L E P A'"
      ]
     },
     "execution_count": 139,
     "metadata": {},
     "output_type": "execute_result"
    }
   ],
   "source": [
    "modifystring(\"apples\")"
   ]
  },
  {
   "cell_type": "code",
   "execution_count": 147,
   "id": "eb25d38b-2e22-4593-b4d8-9d478b31f429",
   "metadata": {},
   "outputs": [
    {
     "data": {
      "text/plain": [
       "'ALESPP'"
      ]
     },
     "execution_count": 147,
     "metadata": {},
     "output_type": "execute_result"
    }
   ],
   "source": [
    "@jumble\n",
    "def supper(s):\n",
    "    return s.upper()\n",
    "\n",
    "supper(\"apples\")"
   ]
  },
  {
   "cell_type": "code",
   "execution_count": 149,
   "id": "70de4ac7-7b1a-4d7b-bb95-b06c20fc0d52",
   "metadata": {},
   "outputs": [
    {
     "data": {
      "text/plain": [
       "'sppela'"
      ]
     },
     "execution_count": 149,
     "metadata": {},
     "output_type": "execute_result"
    }
   ],
   "source": [
    "@jumble\n",
    "def slower(s):\n",
    "    return s.lower()\n",
    "\n",
    "slower(\"APPLES\")"
   ]
  },
  {
   "cell_type": "markdown",
   "id": "7c5ce968-42d7-4fcf-8d97-585b18e3f5bf",
   "metadata": {},
   "source": [
    "### 20.2 Generalized Syntax for writing Decorator"
   ]
  },
  {
   "cell_type": "code",
   "execution_count": 193,
   "id": "c9b8da46-b9bc-40da-bbe6-6f36eca20655",
   "metadata": {},
   "outputs": [],
   "source": [
    "def decorator_function(function_object):\n",
    "\n",
    "    def enhancer_function(*args, **kargs):\n",
    "        # logic\n",
    "        return any_object/function_object(*arg, **kargs)\n",
    "\n",
    "    return enhancer_function"
   ]
  },
  {
   "cell_type": "code",
   "execution_count": 163,
   "id": "1aa2dc21-f0cb-4cc5-8bc1-0c7989abc6f4",
   "metadata": {},
   "outputs": [],
   "source": [
    "@decorator_function\n",
    "def function_def(*args, **kargs):\n",
    "    return"
   ]
  },
  {
   "cell_type": "markdown",
   "id": "23c2cf6b-f015-4ac3-96d2-3fceae3024ca",
   "metadata": {},
   "source": [
    "### 20.3 Exercise"
   ]
  },
  {
   "cell_type": "markdown",
   "id": "aa904f4e-5160-48c4-92e9-a7dbbb7aac00",
   "metadata": {},
   "source": [
    "##### Write a decorator @timer that prints how long a function takes to execute.\n"
   ]
  },
  {
   "cell_type": "code",
   "execution_count": 177,
   "id": "a00df107-9011-4362-96f0-bfa159838724",
   "metadata": {},
   "outputs": [],
   "source": [
    "import time\n",
    "\n",
    "def timing(func):\n",
    "    \n",
    "    def wrapper(*args, **kargs):\n",
    "        start = time.time()\n",
    "        result = func(*args, **kargs)\n",
    "        end = time.time()\n",
    "        print(f\"Function {func.__name__} took {end - start:.4f} seconds to run\")\n",
    "        return result\n",
    "\n",
    "    return wrapper"
   ]
  },
  {
   "cell_type": "code",
   "execution_count": 189,
   "id": "4951ba04-52d2-4258-8f6e-469f7a58b165",
   "metadata": {},
   "outputs": [],
   "source": [
    "@timing\n",
    "def slow_function():\n",
    "    time.sleep(1)\n",
    "    print(\"Done!\")"
   ]
  },
  {
   "cell_type": "code",
   "execution_count": 191,
   "id": "33fc88df-fe15-4a17-9962-d621c2cd8fb3",
   "metadata": {},
   "outputs": [
    {
     "name": "stdout",
     "output_type": "stream",
     "text": [
      "Done!\n",
      "Function slow_function took 1.0008 seconds to run\n"
     ]
    }
   ],
   "source": [
    "slow_function()"
   ]
  },
  {
   "cell_type": "markdown",
   "id": "626bf019-4f15-4920-bd0c-b18760d337b9",
   "metadata": {},
   "source": [
    "### 20.4 Exercise"
   ]
  },
  {
   "cell_type": "markdown",
   "id": "2757583d-fa30-4ee9-b942-d1dbb8487904",
   "metadata": {},
   "source": [
    "##### Write a decorator @requires_admin that allows access to a function only if the user is an admin."
   ]
  },
  {
   "cell_type": "code",
   "execution_count": 291,
   "id": "fc0bf6e8-4b1c-45f2-b7a0-6f521f6e8ab0",
   "metadata": {},
   "outputs": [],
   "source": [
    "def wrapper(*args, **kargs):\n",
    "    print(args, type(kargs))\n",
    "    if dict(kargs)['user_role'] != 'admin':\n",
    "        print('Access Denied. Login as admin')\n",
    "        return None\n",
    "    else:\n",
    "        return ('Access Granted')"
   ]
  },
  {
   "cell_type": "code",
   "execution_count": 293,
   "id": "ffc4ac0c-03b2-473e-8584-66aa3c3c7f15",
   "metadata": {},
   "outputs": [
    {
     "name": "stdout",
     "output_type": "stream",
     "text": [
      "() <class 'dict'>\n",
      "Access Denied. Login as admin\n"
     ]
    }
   ],
   "source": [
    "wrapper(user_role='Admin')"
   ]
  },
  {
   "cell_type": "code",
   "execution_count": 279,
   "id": "35f9994d-3c47-467f-9b2f-ed33cada1450",
   "metadata": {},
   "outputs": [],
   "source": [
    "def requires_admin(func):\n",
    "    \n",
    "    def wrapper(*args, **kargs):\n",
    "        if dict(kargs)['user_role'] != 'admin':\n",
    "            print('Access Denied. Login as admin')\n",
    "            return None\n",
    "        else:\n",
    "            return func(*args, **kargs)\n",
    "\n",
    "    return wrapper"
   ]
  },
  {
   "cell_type": "code",
   "execution_count": null,
   "id": "d73c27d2-11e8-4a9a-8df0-b2aed3940b80",
   "metadata": {},
   "outputs": [],
   "source": []
  },
  {
   "cell_type": "code",
   "execution_count": 282,
   "id": "226688c8-5f78-40f3-9623-db22860a6b37",
   "metadata": {},
   "outputs": [],
   "source": [
    "@requires_admin\n",
    "def delete_data(user_role):\n",
    "    print(\"Data deleted.\")\n"
   ]
  },
  {
   "cell_type": "code",
   "execution_count": 284,
   "id": "b843fab3-cb43-4b3a-8bcc-84c4ebdd4540",
   "metadata": {},
   "outputs": [
    {
     "name": "stdout",
     "output_type": "stream",
     "text": [
      "Data deleted.\n"
     ]
    }
   ],
   "source": [
    "delete_data(user_role=\"admin\")      # Allowed"
   ]
  },
  {
   "cell_type": "code",
   "execution_count": 289,
   "id": "bd55d8c0-6f04-45cb-99f7-e60cd7688808",
   "metadata": {},
   "outputs": [
    {
     "name": "stdout",
     "output_type": "stream",
     "text": [
      "Access Denied. Login as admin\n"
     ]
    }
   ],
   "source": [
    "delete_data(user_role=\"guest\")      # Denied"
   ]
  },
  {
   "cell_type": "markdown",
   "id": "5df6ec4b-1e63-4b76-b86a-380775f527e1",
   "metadata": {},
   "source": [
    "### 20.5 The retry Decorator"
   ]
  },
  {
   "cell_type": "markdown",
   "id": "0b1fd06a-208a-47f9-856f-dfe3b26ec73e",
   "metadata": {},
   "source": [
    "##### Design a decorator that will retry a function N number of times automatically"
   ]
  },
  {
   "cell_type": "code",
   "execution_count": 299,
   "id": "2487cb2b-3372-49da-b9dd-b4ea0b0d50aa",
   "metadata": {},
   "outputs": [],
   "source": [
    "def retry(n):\n",
    "    \n",
    "    def decorator(func):\n",
    "        \n",
    "        def wrapper(*args, **kargs):\n",
    "            for attempt in range(1, n + 1):\n",
    "                try:\n",
    "                    print(f\"Attempt {attempt}...\")\n",
    "                    return func(*args, **kargs)\n",
    "                except Exception as e:\n",
    "                    print(f\"Failed: {e}\")\n",
    "            else:\n",
    "                print(\"All retires failed\")\n",
    "                raise Exception(\"Retries Failed\")\n",
    "                \n",
    "        return wrapper\n",
    "        \n",
    "    return decorator\n",
    "\n",
    "    "
   ]
  },
  {
   "cell_type": "code",
   "execution_count": null,
   "id": "4a171447-3358-4f19-bf71-dc77f7876afb",
   "metadata": {},
   "outputs": [],
   "source": []
  },
  {
   "cell_type": "code",
   "execution_count": null,
   "id": "5af290f5-b381-4932-b230-325fe22deb96",
   "metadata": {},
   "outputs": [],
   "source": []
  },
  {
   "cell_type": "code",
   "execution_count": 301,
   "id": "75b0d4df-9561-4d9b-8fd6-ed60acaa271d",
   "metadata": {},
   "outputs": [],
   "source": [
    "@retry(3)\n",
    "def somefunction():\n",
    "    if random.random() > 0.7:\n",
    "        raise ValueError(\"Random Value Failure Occured!\")\n",
    "    print(\"Function executed successfully\")"
   ]
  },
  {
   "cell_type": "code",
   "execution_count": 307,
   "id": "b5474337-a02b-44fc-99d7-ad64bc98516a",
   "metadata": {},
   "outputs": [
    {
     "name": "stdout",
     "output_type": "stream",
     "text": [
      "Attempt 1...\n",
      "Failed: Random Value Failure Occured!\n",
      "Attempt 2...\n",
      "Function executed successfully\n"
     ]
    }
   ],
   "source": [
    "somefunction()"
   ]
  },
  {
   "cell_type": "code",
   "execution_count": null,
   "id": "fe2dbef2-7e78-4cb6-97b2-5636666b6301",
   "metadata": {},
   "outputs": [],
   "source": []
  }
 ],
 "metadata": {
  "kernelspec": {
   "display_name": "Python 3 (ipykernel)",
   "language": "python",
   "name": "python3"
  },
  "language_info": {
   "codemirror_mode": {
    "name": "ipython",
    "version": 3
   },
   "file_extension": ".py",
   "mimetype": "text/x-python",
   "name": "python",
   "nbconvert_exporter": "python",
   "pygments_lexer": "ipython3",
   "version": "3.12.7"
  }
 },
 "nbformat": 4,
 "nbformat_minor": 5
}
