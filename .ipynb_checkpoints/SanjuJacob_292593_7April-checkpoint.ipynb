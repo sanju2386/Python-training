{
 "cells": [
  {
   "cell_type": "code",
   "execution_count": 1,
   "id": "ec5acb87-c01c-4db7-9e75-e96152c67bcd",
   "metadata": {},
   "outputs": [],
   "source": [
    "def modifystring(s):\n",
    "    return ' ' .join(list(s.upper()))"
   ]
  },
  {
   "cell_type": "code",
   "execution_count": 2,
   "id": "4d29efbb-6143-4acf-9340-00f78829532f",
   "metadata": {},
   "outputs": [
    {
     "data": {
      "text/plain": [
       "'A P P L E S'"
      ]
     },
     "execution_count": 2,
     "metadata": {},
     "output_type": "execute_result"
    }
   ],
   "source": [
    "modifystring(\"Apples\")"
   ]
  },
  {
   "cell_type": "raw",
   "id": "1030c479-2266-4376-910c-0ffe368d777d",
   "metadata": {},
   "source": [
    "Decorators enable to change functionality without changing actual code of function, this is acheived by changing input provide to this functions ."
   ]
  },
  {
   "cell_type": "code",
   "execution_count": 3,
   "id": "bd2a6744-06ae-41e2-acf8-b3c06a4b45f3",
   "metadata": {},
   "outputs": [],
   "source": [
    "import random"
   ]
  },
  {
   "cell_type": "code",
   "execution_count": 4,
   "id": "d3b295c2-8ad6-4383-b186-4cc81c347754",
   "metadata": {},
   "outputs": [
    {
     "data": {
      "text/plain": [
       "'e s p p l A'"
      ]
     },
     "execution_count": 4,
     "metadata": {},
     "output_type": "execute_result"
    }
   ],
   "source": [
    "s=list(\"Apples\")\n",
    "random.shuffle(s)\n",
    "s= ' '.join(s)\n",
    "s"
   ]
  },
  {
   "cell_type": "code",
   "execution_count": 5,
   "id": "1600ca30-cb91-41f4-9508-a6a7c54b38ac",
   "metadata": {},
   "outputs": [
    {
     "data": {
      "text/plain": [
       "'E   S   P   P   L   A'"
      ]
     },
     "execution_count": 5,
     "metadata": {},
     "output_type": "execute_result"
    }
   ],
   "source": [
    "modifystring(s)"
   ]
  },
  {
   "cell_type": "markdown",
   "id": "eef9f1a7-04d7-496a-ac18-ab9a8c3aa964",
   "metadata": {},
   "source": [
    "# lab session I 11:30-12:15"
   ]
  },
  {
   "cell_type": "raw",
   "id": "79e89110-47a0-43c5-95f5-947ba74696cc",
   "metadata": {},
   "source": [
    "Session 1 [45]\n",
    "---------------------------------------------------------------------------------------------------------\n",
    "\n",
    "Problem Statement #1:\n",
    "--------------------------------------------------------\n",
    "\n",
    "Write a decorator called @log_function that prints the name of the \n",
    "function being called and its arguments before executing it.\n",
    "\n",
    "@log_function\n",
    "def greet(name):\n",
    "    print(f\"Hello, {name}!\")\n",
    "\n",
    "greet(\"Alice\") \n",
    "\n",
    "# Output: \n",
    "# Calling function: greet \n",
    "# Arguments: 'Alice'\n",
    "# Hello, Alice. How are you today?\n",
    "\n",
    "Problem Statement #2:\n",
    "--------------------------------------------------------\n",
    "\n",
    "Write a decorator @double_result that doubles the result returned by any function.\n",
    "\n",
    "Example:\n",
    "\n",
    "@double_result\n",
    "def add(x, y):\n",
    "    return x + y\n",
    "\n",
    "print(add(3, 4))  # Output: 14\n",
    "\n",
    "Problem Statement #3:\n",
    "--------------------------------------------------------\n",
    "\n",
    "Write a decorator @timer that prints how long a function takes to execute.\n",
    "\n",
    "import time\n",
    "\n",
    "@timer\n",
    "def slow_function():\n",
    "    time.sleep(1)\n",
    "    print(\"Done!\")\n",
    "\n",
    "slow_function() # 1 seconds\n",
    "\n",
    "\n",
    "Problem Statement #4:\n",
    "--------------------------------------------------------\n",
    "\n",
    "Write a decorator @requires_admin that allows access to a function only \n",
    "if the user is an admin.\n",
    "\n",
    "Example:\n",
    "\n",
    "@requires_admin\n",
    "def delete_data(user_role):\n",
    "    print(\"Data deleted.\")\n",
    "\n",
    "delete_data(\"admin\")      # Allowed\n",
    "delete_data(\"guest\")      # Denied\n",
    "\n",
    "Session 2 [60]\n",
    "---------------------------------------------------------------------------------------------------------\n",
    "\n",
    "Problem Statement #1:\n",
    "--------------------------------------------------------\n",
    "\n",
    "Create a Python class called Circle that represents a circle. The class should allow the following:\n",
    "\n",
    "Use @property to return the circumference of the circle using the formula 2 * π * radius.\n",
    "\n",
    "Use @classmethod to create a Circle instance from a diameter.\n",
    "\n",
    "Use @staticmethod to check if a given value is a valid radius (i.e., a positive number).\n",
    "\n",
    "Problem Statement #2\n",
    "--------------------------------------------------------\n",
    "\n",
    "Create a class called BankAccount to represent a user’s bank account. \n",
    "The class should allow the following:\n",
    "\n",
    "Use @property to return the current balance with a message like \"Your balance is ₹5000\".\n",
    "\n",
    "Use @classmethod to create a BankAccount from a dictionary containing account details like:\n",
    "{\"name\": \"Alice\", \"balance\": 10000}\n",
    "\n",
    "Use @staticmethod to check if a given withdrawal amount is valid, i.e., \n",
    "it must be a positive number and less than or equal to the current balance.\n",
    "\n"
   ]
  },
  {
   "cell_type": "raw",
   "id": "356c3055-fc44-423c-991b-26e8c64dc16d",
   "metadata": {},
   "source": [
    "Problem Statement #1:\n",
    "--------------------------------------------------------\n",
    "\n",
    "Write a decorator called @log_function that prints the name of the \n",
    "function being called and its arguments before executing it.\n",
    "\n",
    "@log_function\n",
    "def greet(name):\n",
    "    print(f\"Hello, {name}!\")\n",
    "\n",
    "greet(\"Alice\") \n",
    "\n",
    "# Output: \n",
    "# Calling function: greet \n",
    "# Arguments: 'Alice'\n",
    "# Hello, Alice. How are you today?\n"
   ]
  },
  {
   "cell_type": "code",
   "execution_count": 62,
   "id": "359430f3-377d-4e84-a3e8-d8c947e84420",
   "metadata": {},
   "outputs": [],
   "source": [
    "def log_function(functionobject):\n",
    "    def enhancer(arg):\n",
    "        arg=\"Hello  \"+arg+\" How are you today\"\n",
    "        print( functionobject.__name__)\n",
    "        print(arg)\n",
    "        return functionobject(arg)\n",
    "\n",
    "    return enhancer\n",
    "\n"
   ]
  },
  {
   "cell_type": "code",
   "execution_count": 63,
   "id": "c06315f3-2124-42b5-9692-3e7d131a17d8",
   "metadata": {},
   "outputs": [],
   "source": [
    "@log_function\n",
    "def greet(name):\n",
    "    print(name)"
   ]
  },
  {
   "cell_type": "code",
   "execution_count": 64,
   "id": "63721ab5-af7d-4c73-a750-164f24b00ab2",
   "metadata": {},
   "outputs": [
    {
     "name": "stdout",
     "output_type": "stream",
     "text": [
      "greet\n",
      "Hello  Sanju How are you today\n",
      "Hello  Sanju How are you today\n"
     ]
    }
   ],
   "source": [
    "a = greet(\"Sanju\")\n",
    "a"
   ]
  },
  {
   "cell_type": "code",
   "execution_count": 65,
   "id": "4575a094-8f85-43dc-ac48-418e45062ccc",
   "metadata": {},
   "outputs": [
    {
     "name": "stdout",
     "output_type": "stream",
     "text": [
      "<function log_function.<locals>.enhancer at 0x000002A016E398A0>\n"
     ]
    }
   ],
   "source": [
    "greet_func = greet\n",
    "print(greet_func) "
   ]
  },
  {
   "cell_type": "markdown",
   "id": "7a1b225c-c3d2-49c2-b613-a4c195fc165f",
   "metadata": {},
   "source": [
    "# Q2"
   ]
  },
  {
   "cell_type": "raw",
   "id": "ffa19daa-6b85-4a3c-8422-2a52767dbeb6",
   "metadata": {},
   "source": [
    "Problem Statement #2:\n",
    "--------------------------------------------------------\n",
    "\n",
    "Write a decorator @double_result that doubles the result returned by any function.\n",
    "\n",
    "Example:\n",
    "\n",
    "@double_result\n",
    "def add(x, y):\n",
    "    return x + y\n",
    "\n",
    "print(add(3, 4))  # Output: 14\n"
   ]
  },
  {
   "cell_type": "code",
   "execution_count": 58,
   "id": "16d4f14a-e90c-49f3-836c-dbad6b24706b",
   "metadata": {},
   "outputs": [],
   "source": [
    " def double_result(func):\n",
    "     def wrap(*args, **kwargs):\n",
    "         result = func(*args, **kwargs)\n",
    "         print(f\"Function name: {func.__name__}\")\n",
    "         return 2*result\n",
    "         \n",
    "\n",
    "     return wrap\n",
    "         \n",
    "         "
   ]
  },
  {
   "cell_type": "code",
   "execution_count": 59,
   "id": "fa101b51-60e8-459d-a86f-aca13476c5aa",
   "metadata": {},
   "outputs": [],
   "source": [
    "@double_result\n",
    "def add(x,y):\n",
    "    return x+y"
   ]
  },
  {
   "cell_type": "code",
   "execution_count": 73,
   "id": "5eabf582-7b55-4e00-a7a7-5e15afe0fe9f",
   "metadata": {},
   "outputs": [
    {
     "name": "stdout",
     "output_type": "stream",
     "text": [
      "Function name: add\n"
     ]
    },
    {
     "data": {
      "text/plain": [
       "14"
      ]
     },
     "execution_count": 73,
     "metadata": {},
     "output_type": "execute_result"
    }
   ],
   "source": [
    "a1=add(3,4)\n",
    "a1"
   ]
  },
  {
   "cell_type": "markdown",
   "id": "e61b4d7c-b443-45d5-bd76-89b6d4a8206c",
   "metadata": {},
   "source": [
    "# Q3"
   ]
  },
  {
   "cell_type": "raw",
   "id": "b522c6e9-0707-47c1-9a5c-954a6692f72b",
   "metadata": {},
   "source": [
    "Problem Statement #3:\n",
    "--------------------------------------------------------\n",
    "\n",
    "Write a decorator @timer that prints how long a function takes to execute.\n",
    "\n",
    "import time\n",
    "\n",
    "@timer\n",
    "def slow_function():\n",
    "    time.sleep(1)\n",
    "    print(\"Done!\")\n",
    "\n",
    "slow_function() # 1 seconds\n",
    "\n"
   ]
  },
  {
   "cell_type": "raw",
   "id": "8f097a1e-b43f-4aa5-af65-2efc332e6c20",
   "metadata": {},
   "source": [
    "import time\n",
    "\n",
    "start = time.time()\n",
    "end = time.time()"
   ]
  },
  {
   "cell_type": "code",
   "execution_count": 66,
   "id": "783a1d71-f846-48f9-b918-edc10271cdbd",
   "metadata": {},
   "outputs": [],
   "source": [
    "import time\n",
    "\n",
    "def timer(func):\n",
    "    def wrapper(*args, **kwargs):\n",
    "        start = time.time()\n",
    "        result = func(*args, **kwargs)\n",
    "        end = time.time()\n",
    "        duration = end - start\n",
    "        #print(f\"Function '{func.__name__}' took {duration:.4f} seconds\")\n",
    "        print(\"Function name : {} took {} seconds\".format(func.__name__,duration))\n",
    "        return result\n",
    "    return wrapper"
   ]
  },
  {
   "cell_type": "code",
   "execution_count": 70,
   "id": "b538eb3e-5e27-4fd9-9609-9e71d6bfcdb3",
   "metadata": {},
   "outputs": [
    {
     "ename": "TypeError",
     "evalue": "slow_function() missing 1 required positional argument: 'arg'",
     "output_type": "error",
     "traceback": [
      "\u001b[1;31m---------------------------------------------------------------------------\u001b[0m",
      "\u001b[1;31mTypeError\u001b[0m                                 Traceback (most recent call last)",
      "Cell \u001b[1;32mIn[70], line 6\u001b[0m\n\u001b[0;32m      3\u001b[0m     time\u001b[38;5;241m.\u001b[39msleep(arg)\n\u001b[0;32m      4\u001b[0m     \u001b[38;5;28mprint\u001b[39m(\u001b[38;5;124m\"\u001b[39m\u001b[38;5;124mDone!\u001b[39m\u001b[38;5;124m\"\u001b[39m)\n\u001b[1;32m----> 6\u001b[0m slow_function()\n",
      "Cell \u001b[1;32mIn[66], line 6\u001b[0m, in \u001b[0;36mtimer.<locals>.wrapper\u001b[1;34m(*args, **kwargs)\u001b[0m\n\u001b[0;32m      4\u001b[0m \u001b[38;5;28;01mdef\u001b[39;00m \u001b[38;5;21mwrapper\u001b[39m(\u001b[38;5;241m*\u001b[39margs, \u001b[38;5;241m*\u001b[39m\u001b[38;5;241m*\u001b[39mkwargs):\n\u001b[0;32m      5\u001b[0m     start \u001b[38;5;241m=\u001b[39m time\u001b[38;5;241m.\u001b[39mtime()\n\u001b[1;32m----> 6\u001b[0m     result \u001b[38;5;241m=\u001b[39m func(\u001b[38;5;241m*\u001b[39margs, \u001b[38;5;241m*\u001b[39m\u001b[38;5;241m*\u001b[39mkwargs)\n\u001b[0;32m      7\u001b[0m     end \u001b[38;5;241m=\u001b[39m time\u001b[38;5;241m.\u001b[39mtime()\n\u001b[0;32m      8\u001b[0m     duration \u001b[38;5;241m=\u001b[39m end \u001b[38;5;241m-\u001b[39m start\n",
      "\u001b[1;31mTypeError\u001b[0m: slow_function() missing 1 required positional argument: 'arg'"
     ]
    }
   ],
   "source": [
    "@timer\n",
    "def slow_function(arg):\n",
    "    time.sleep(arg)\n",
    "    print(\"Done!\")\n",
    "\n",
    "slow_function()"
   ]
  },
  {
   "cell_type": "code",
   "execution_count": 71,
   "id": "d09e2ddc-51da-477d-ba73-73580269365d",
   "metadata": {},
   "outputs": [
    {
     "name": "stdout",
     "output_type": "stream",
     "text": [
      "Done!\n",
      "Function name : slow_function took 3.0006015300750732 seconds\n"
     ]
    }
   ],
   "source": [
    "a3= slow_function(3)\n",
    "a3"
   ]
  },
  {
   "cell_type": "code",
   "execution_count": 74,
   "id": "13597db5-2198-48af-808a-adeea943e45c",
   "metadata": {},
   "outputs": [],
   "source": [
    "a3"
   ]
  },
  {
   "cell_type": "markdown",
   "id": "39639311-1c1f-4ca4-b0bd-cac408f0da30",
   "metadata": {},
   "source": [
    "# Q4 "
   ]
  },
  {
   "cell_type": "raw",
   "id": "f8ebbb6a-2397-41e7-8126-4d16d2cf80fb",
   "metadata": {},
   "source": [
    "Write a decorator @requires_admin that allows access to a function only \n",
    "if the user is an admin.\n",
    "\n",
    "Example:\n",
    "\n",
    "@requires_admin\n",
    "def delete_data(user_role):\n",
    "    print(\"Data deleted.\")\n",
    "\n",
    "delete_data(\"admin\")      # Allowed\n",
    "delete_data(\"guest\")      # Denied\n"
   ]
  },
  {
   "cell_type": "code",
   "execution_count": null,
   "id": "bd2bd8ae-cc44-41fa-8a08-b93c5786c568",
   "metadata": {},
   "outputs": [],
   "source": []
  },
  {
   "cell_type": "code",
   "execution_count": null,
   "id": "0467c4fd-31c6-4e60-a0ae-78f9616061e6",
   "metadata": {},
   "outputs": [],
   "source": []
  },
  {
   "cell_type": "code",
   "execution_count": null,
   "id": "4ebdb95d-dd97-4643-9add-a1baeb40245e",
   "metadata": {},
   "outputs": [],
   "source": []
  },
  {
   "cell_type": "markdown",
   "id": "d8e2a171-4b40-4875-8a5d-370a443ad440",
   "metadata": {},
   "source": [
    "# Retry decorator\n",
    "    "
   ]
  },
  {
   "cell_type": "code",
   "execution_count": 88,
   "id": "b9ed4243-ddba-4715-832e-fc2e4501475e",
   "metadata": {},
   "outputs": [],
   "source": [
    "def retry():\n",
    "    def decorator(func):\n",
    "        \n",
    "        def wrapper(*args,**kwargs):\n",
    "            for i in range(1,n+1):\n",
    "                try:\n",
    "                    print(\"Attempt {}.....format(i)\")\n",
    "                    return func(*args,**kwargs)\n",
    "    \n",
    "                except Exception as e:\n",
    "                    print(\"Failed due to {}\".format(e))\n",
    "            else:\n",
    "                print(\"All retries has failed\")\n",
    "                \n",
    "            return wrapper\n",
    "\n",
    "    return decorator\n",
    "\n",
    "    \n",
    "                      \n",
    "                               \n",
    "            \n",
    "            "
   ]
  },
  {
   "cell_type": "code",
   "execution_count": 92,
   "id": "a8074976-cd8c-4fe6-aafe-02899399d42d",
   "metadata": {},
   "outputs": [
    {
     "ename": "TypeError",
     "evalue": "retry() got an unexpected keyword argument 'n'",
     "output_type": "error",
     "traceback": [
      "\u001b[1;31m---------------------------------------------------------------------------\u001b[0m",
      "\u001b[1;31mTypeError\u001b[0m                                 Traceback (most recent call last)",
      "Cell \u001b[1;32mIn[92], line 1\u001b[0m\n\u001b[1;32m----> 1\u001b[0m \u001b[38;5;129m@retry\u001b[39m(n\u001b[38;5;241m=\u001b[39m\u001b[38;5;241m5\u001b[39m)\n\u001b[0;32m      2\u001b[0m \u001b[38;5;28;01mdef\u001b[39;00m \u001b[38;5;21msomefunction\u001b[39m():\n\u001b[0;32m      3\u001b[0m     \u001b[38;5;28;01mif\u001b[39;00m random\u001b[38;5;241m.\u001b[39mrandom()\u001b[38;5;241m>\u001b[39m\u001b[38;5;241m0.7\u001b[39m:\n\u001b[0;32m      4\u001b[0m         \u001b[38;5;28;01mraise\u001b[39;00m \u001b[38;5;167;01mValueError\u001b[39;00m(\u001b[38;5;124m\"\u001b[39m\u001b[38;5;124mRansom value failure occured\u001b[39m\u001b[38;5;124m\"\u001b[39m)\n",
      "\u001b[1;31mTypeError\u001b[0m: retry() got an unexpected keyword argument 'n'"
     ]
    }
   ],
   "source": [
    "@retry(n=5)\n",
    "def somefunction():\n",
    "    if random.random()>0.7:\n",
    "        raise ValueError(\"Ransom value failure occured\")\n",
    "    print(\"Program executed\")"
   ]
  },
  {
   "cell_type": "code",
   "execution_count": 91,
   "id": "d9d0721f-f0af-46d6-ac75-bfc1c3efbb82",
   "metadata": {},
   "outputs": [
    {
     "name": "stdout",
     "output_type": "stream",
     "text": [
      "Attempt 1...\n",
      "Program executed successfully\n"
     ]
    }
   ],
   "source": [
    "somefunction()"
   ]
  },
  {
   "cell_type": "raw",
   "id": "01c090bd-364a-429a-9e72-0ba00bd61f97",
   "metadata": {},
   "source": [
    "import random\n",
    "\n",
    "def retry(n=3):  # Accept retry count\n",
    "    def decorator(func):\n",
    "        def wrapper(*args, **kwargs):\n",
    "            for i in range(1, n + 1):\n",
    "                try:\n",
    "                    print(\"Attempt {}...\".format(i))\n",
    "                    return func(*args, **kwargs)\n",
    "                except Exception as e:\n",
    "                    print(\"Failed due to: {}\".format(e))\n",
    "            else:\n",
    "                print(\"All retries have failed.\")\n",
    "        return wrapper\n",
    "    return decorator\n",
    "\n",
    "@retry(n=5)\n",
    "def somefunction():\n",
    "    if random.random() > 0.7:\n",
    "        raise ValueError(\"Random value failure occurred\")\n",
    "    print(\"Program executed successfully\")\n",
    "\n",
    "# Run the function\n",
    "somefunction()\n"
   ]
  },
  {
   "cell_type": "code",
   "execution_count": 96,
   "id": "9f14b2c7-8edb-4452-a607-e7f1078c90a4",
   "metadata": {},
   "outputs": [
    {
     "name": "stdout",
     "output_type": "stream",
     "text": [
      "Attempt 1...\n",
      "Failed due to: somefunction() takes 0 positional arguments but 1 was given\n",
      "Attempt 2...\n",
      "Failed due to: somefunction() takes 0 positional arguments but 1 was given\n",
      "Attempt 3...\n",
      "Failed due to: somefunction() takes 0 positional arguments but 1 was given\n",
      "All retries have failed.\n"
     ]
    }
   ],
   "source": [
    "import random\n",
    "\n",
    "def retry(n=3):  # <-- Accept retry attempts\n",
    "    def decorator(func):\n",
    "        def wrapper(*args, **kwargs):\n",
    "            for i in range(1, n + 1):\n",
    "                try:\n",
    "                    print(\"Attempt {}...\".format(i))\n",
    "                    return func(*args, **kwargs)\n",
    "                except Exception as e:\n",
    "                    print(\"Failed due to: {}\".format(e))\n",
    "            else:\n",
    "                print(\"All retries have failed.\")\n",
    "        return wrapper\n",
    "    return decorator\n",
    "\n",
    "@retry()\n",
    "def somefunction():\n",
    "    if random.random() > 0.7:\n",
    "        raise ValueError(\"Random value failure occurred\")\n",
    "    print(\"Program executed successfully\")\n",
    "\n",
    "# Run it\n",
    "somefunction(7)\n"
   ]
  },
  {
   "cell_type": "markdown",
   "id": "f21bd52f-2369-4076-b959-cfac95e4185e",
   "metadata": {},
   "source": [
    "# lab Session2"
   ]
  },
  {
   "cell_type": "raw",
   "id": "7382615b-c33d-472b-ba95-d21839f286e4",
   "metadata": {},
   "source": [
    "Problem Statement #1:\n",
    "--------------------------------------------------------\n",
    "\n",
    "Create a Python class called Circle that represents a circle. The class should allow the following:\n",
    "\n",
    "Use @property to return the circumference of the circle using the formula 2 * π * radius.\n",
    "\n",
    "Use @classmethod to create a Circle instance from a diameter.\n",
    "\n",
    "Use @staticmethod to check if a given value is a valid radius (i.e., a positive number).\n",
    "\n",
    "Problem Statement #2\n",
    "--------------------------------------------------------\n",
    "\n",
    "Create a class called BankAccount to represent a user’s bank account. \n",
    "The class should allow the following:\n",
    "\n",
    "Use @property to return the current balance with a message like \"Your balance is ₹5000\".\n",
    "\n",
    "Use @classmethod to create a BankAccount from a dictionary containing account details like:\n",
    "{\"name\": \"Alice\", \"balance\": 10000}\n",
    "\n",
    "Use @staticmethod to check if a given withdrawal amount is valid, i.e., \n",
    "it must be a positive number and less than or equal to the current balance.\n",
    "\n"
   ]
  },
  {
   "cell_type": "raw",
   "id": "d5632576-77d7-4166-9e20-acc2bbd4cf17",
   "metadata": {},
   "source": [
    "Problem Statement #1:\n",
    "--------------------------------------------------------\n",
    "\n",
    "Create a Python class called Circle that represents a circle. The class should allow the following:\n",
    "\n",
    "Use @property to return the circumference of the circle using the formula 2 * π * radius.\n",
    "\n",
    "Use @classmethod to create a Circle instance from a diameter.\n",
    "\n",
    "Use @staticmethod to check if a given value is a valid radius (i.e., a positive number).\n"
   ]
  },
  {
   "cell_type": "code",
   "execution_count": null,
   "id": "d8bfdb7e-ccee-4634-89ac-f84d26b3e38c",
   "metadata": {},
   "outputs": [],
   "source": [
    "class circle():\n",
    "\n",
    "    def __init__(self, radius):\n",
    "        self.radius=radius\n",
    "\n",
    "    @property\n",
    "    def circumerence(self):\n",
    "        return 2*3.14*self.radius\n",
    "        \n",
    "    @classmethod \n",
    "    def from_diameter(cls,diameter):\n",
    "        radius=diameter/2\n",
    "        return cls(radius)\n",
    "\n",
    "    @staticmethod\n",
    "    def is_valid(radius):\n",
    "        if radius > 0:\n",
    "            return True\n",
    "\n",
    "        else :\n",
    "            return False \n",
    "        \n",
    "        \n",
    "    \n",
    "        \n"
   ]
  }
 ],
 "metadata": {
  "kernelspec": {
   "display_name": "Python 3 (ipykernel)",
   "language": "python",
   "name": "python3"
  },
  "language_info": {
   "codemirror_mode": {
    "name": "ipython",
    "version": 3
   },
   "file_extension": ".py",
   "mimetype": "text/x-python",
   "name": "python",
   "nbconvert_exporter": "python",
   "pygments_lexer": "ipython3",
   "version": "3.12.4"
  }
 },
 "nbformat": 4,
 "nbformat_minor": 5
}
