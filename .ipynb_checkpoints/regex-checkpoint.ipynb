{
 "cells": [
  {
   "cell_type": "raw",
   "id": "9ca7997c-c371-4295-9b9d-77b623433f48",
   "metadata": {},
   "source": [
    "Session 1: [90 - 120]\n",
    "-----------------------------------------------------------------------------------------------------\n",
    "\n",
    "Regular Expression Exercises in Python\n",
    "\n",
    "Extract Floating Point Numbers\n",
    "Text: \"This statement contains +1.234 floating -67.87 point 1.234 number\"\n",
    "Task: Write a regex to extract the floating-point number from the text including sign\n",
    "\n",
    "Find Email Addresses\n",
    "Text: \"Contact us at support@example.com for more details\"\n",
    "Task: Write a regex to extract the email address from the text.\n",
    "\n",
    "Extract Dates\n",
    "Text: \"Today's date is 2025-03-27\"\n",
    "Task: Write a regex to extract the date in YYYY-MM-DD format.\n",
    "\n",
    "Find Words with Double Letters\n",
    "Text: \"I saw a little kitten running across the street\"\n",
    "Task: Write a regex to extract words containing consecutive duplicate letters (e.g., little, kitten).\n",
    "\n",
    "Extract Phone Numbers\n",
    "Text: \"My phone numbers are (123) 456-7890 and 987-654-3210\"\n",
    "Task: Write a regex to extract both phone numbers.\n",
    "\n",
    "------------------------------------\n",
    "\n",
    "Find Hashtags in a Tweet\n",
    "Text: \"Loving the #Python and #AI vibes today!\"\n",
    "Task: Write a regex to extract all hashtags from the text.\n",
    "\n",
    "Extract Digits from a String\n",
    "Text: \"Order number: 98765, Confirmation code: 54321\"\n",
    "Task: Write a regex to extract all numerical values.\n",
    "\n",
    "Find Words Starting with a Capital Letter\n",
    "Text: \"Alice and Bob went to New York for a Conference\"\n",
    "Task: Write a regex to extract words that start with a capital letter.\n",
    "\n",
    "Extract Domain from URLs\n",
    "Text: \"Visit https://www.example.com or http://test.org for info\"\n",
    "Task: Write a regex to extract domain names from the URLs.\n",
    "\n",
    "Find Repeated Words\n",
    "Text: \"This is is a test test to find repeated repeated words\"\n",
    "Task: Write a regex to find repeated words appearing consecutively.\n",
    "\n",
    "----------------------------------------\n",
    "\n",
    "Extract Currency Values\n",
    "Text: \"The product costs $59.99 and the discount is €10.50\"\n",
    "Task: Write a regex to extract all currency values.\n",
    "\n",
    "Find HTML Tags\n",
    "Text: \"<div>Welcome</div> <p>This is a paragraph.</p>\"\n",
    "Task: Write a regex to extract all HTML tags.\n",
    "\n",
    "Extract Currency Values\n",
    "Text: \"The product costs $59.99 and the discount is €10.50\"\n",
    "Task: Write a regex to extract all currency values.\n",
    "\n",
    "\n",
    "Extract Words Ending with ‘ing’\n",
    "Text: \"Running, swimming, and playing are fun activities\"\n",
    "Task: Write a regex to extract words ending with ‘ing’.\n",
    "\n",
    "Find Sentences Ending with a Question Mark\n",
    "Text: \"Do you know the answer? Let's find out. Are you sure?\"\n",
    "Task: Write a regex to extract all sentences ending with ?.\n",
    "\n",
    "----------------------------------------------\n",
    "\n",
    "Extract Hex Color Codes\n",
    "Text: \"Background color is #FF5733 and text color is #00FF00\"\n",
    "Task: Write a regex to extract hex color codes.\n",
    "\n",
    "Extract Usernames from Twitter Handles\n",
    "Text: \"Follow us @ChatGPT and @OpenAI\"\n",
    "Task: Write a regex to extract usernames after @.\n",
    "\n",
    "Validate Strong Passwords\n",
    "Text: \"My password is Str0ngP@ss!\"\n",
    "Task: Write a regex to check if the password has at least 8 characters, including uppercase, lowercase, numbers, and special characters.\n",
    "\n",
    "Extract File Names from a Path\n",
    "Text: \"/home/user/documents/report.pdf and C:\\\\Users\\\\Admin\\\\file.txt\"\n",
    "Task: Write a regex to extract file names from paths.\n",
    "\n",
    "Find Three Consecutive Vowels\n",
    "Text: \"Beautiful ocean scenery is amazing\"\n",
    "Task: Write a regex to find words containing three consecutive vowels.\n",
    "\n"
   ]
  },
  {
   "cell_type": "code",
   "execution_count": 2,
   "id": "bc7a468a-ae64-4846-9368-73f586017f7f",
   "metadata": {},
   "outputs": [],
   "source": [
    "import re"
   ]
  },
  {
   "cell_type": "code",
   "execution_count": 11,
   "id": "33cac9da-0aab-4080-85f0-13dcf904aeb5",
   "metadata": {},
   "outputs": [
    {
     "name": "stdout",
     "output_type": "stream",
     "text": [
      "['+1.234', '-67.87', '1.234']\n"
     ]
    }
   ],
   "source": [
    "\n",
    "pattern=r\"[+-]?\\d+(?:\\.\\d+)?\"\n",
    "\n",
    "text=\"This statement contains +1.234 floating -67.87 point 1.234 number\"\n",
    "matches = re.findall(pattern, text)\n",
    "print(matches)"
   ]
  },
  {
   "cell_type": "code",
   "execution_count": null,
   "id": "22d28dc5-9d5b-4a2c-9aed-e174f0920e84",
   "metadata": {},
   "outputs": [],
   "source": []
  }
 ],
 "metadata": {
  "kernelspec": {
   "display_name": "Python 3 (ipykernel)",
   "language": "python",
   "name": "python3"
  },
  "language_info": {
   "codemirror_mode": {
    "name": "ipython",
    "version": 3
   },
   "file_extension": ".py",
   "mimetype": "text/x-python",
   "name": "python",
   "nbconvert_exporter": "python",
   "pygments_lexer": "ipython3",
   "version": "3.12.4"
  }
 },
 "nbformat": 4,
 "nbformat_minor": 5
}
