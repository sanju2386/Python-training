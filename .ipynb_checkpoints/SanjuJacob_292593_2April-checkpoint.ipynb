{
 "cells": [
  {
   "cell_type": "code",
   "execution_count": 1,
   "id": "2d64fb85-e8f4-42d1-a86c-79f0c74ffa54",
   "metadata": {},
   "outputs": [
    {
     "name": "stdout",
     "output_type": "stream",
     "text": [
      "Car Details:\n",
      "Brand: Toyota\n",
      "Model: Corolla\n",
      "Year: 2022\n",
      "Engine: 1500cc\n",
      "Mileage: 20000 km\n",
      "Fuel Level: 30 L\n",
      "Mileage per liter: 12.00 km/L\n",
      "Drove 200 km. New mileage: 20000 km, Fuel level: 13.33 L\n",
      "Updated mileage per liter: 12.05 km/L\n",
      "Refueled 10 L. Current fuel level: 23.33 L\n",
      "Not enough fuel! Please refuel.\n",
      "Car Details:\n",
      "Brand: Toyota\n",
      "Model: Corolla\n",
      "Year: 2022\n",
      "Engine: 1500cc\n",
      "Mileage: 20000 km\n",
      "Fuel Level: 23.333333333333332 L\n",
      "Mileage per liter: 12.05 km/L\n"
     ]
    }
   ],
   "source": [
    "class Car:\n",
    "    def __init__(self, brand, model, year, engine_capacity, mileage, fuel_level):\n",
    "        self.brand = brand\n",
    "        self.model = model\n",
    "        self.year = year\n",
    "        self.engine_capacity = engine_capacity\n",
    "        self.mileage = mileage  # Total mileage of the car\n",
    "        self.fuel_level = fuel_level  # Fuel level in liters\n",
    "        self.mileage_per_liter = self.calculate_mileage_per_liter()\n",
    "\n",
    "    def calculate_mileage_per_liter(self):\n",
    "        # Placeholder calculation for mileage per liter, this can depend on engine capacity or other factors.\n",
    "        if self.engine_capacity <= 1000:\n",
    "            return 15  # Example mileage for smaller engines\n",
    "        elif 1000 < self.engine_capacity <= 1500:\n",
    "            return 12  # Example mileage for medium engines\n",
    "        else:\n",
    "            return 10  # Example mileage for larger engines\n",
    "\n",
    "    def drive(self, distance):\n",
    "        # Calculate fuel needed for the trip\n",
    "        fuel_needed = distance / self.mileage_per_liter\n",
    "\n",
    "        if self.fuel_level >= fuel_needed:\n",
    "            # Update the car's mileage and fuel level\n",
    "            #self.mileage += distance\n",
    "            self.fuel_level -= fuel_needed\n",
    "\n",
    "            # Update the mileage per liter based on driving distance (can be improved or degraded based on factors)\n",
    "            self.update_mileage_per_liter(distance)\n",
    "\n",
    "            print(f\"Drove {distance} km. New mileage: {self.mileage} km, Fuel level: {self.fuel_level:.2f} L\")\n",
    "            print(f\"Updated mileage per liter: {self.mileage_per_liter:.2f} km/L\")\n",
    "        else:\n",
    "            print(\"Not enough fuel! Please refuel.\")\n",
    "\n",
    "    def update_mileage_per_liter(self, distance):\n",
    "        # Let's say the car's mileage per liter improves slightly with more distance driven\n",
    "        if distance > 100:  # If a long distance is driven, improve efficiency slightly\n",
    "            self.mileage_per_liter += 0.05\n",
    "        elif distance < 20:  # If a short distance is driven, mileage may degrade slightly\n",
    "            self.mileage_per_liter -= 0.05\n",
    "\n",
    "    def refuel(self, amount):\n",
    "        self.fuel_level += amount\n",
    "        print(f\"Refueled {amount} L. Current fuel level: {self.fuel_level:.2f} L\")\n",
    "\n",
    "    def display_info(self):\n",
    "        print(f\"Car Details:\\nBrand: {self.brand}\\nModel: {self.model}\\nYear: {self.year}\")\n",
    "        print(f\"Engine: {self.engine_capacity}cc\\nMileage: {self.mileage} km\\nFuel Level: {self.fuel_level} L\")\n",
    "        print(f\"Mileage per liter: {self.mileage_per_liter:.2f} km/L\")\n",
    "\n",
    "\n",
    "# Example usage:\n",
    "car = Car(brand=\"Toyota\", model=\"Corolla\", year=2022, engine_capacity=1500, mileage=20000, fuel_level=30)\n",
    "\n",
    "car.display_info()\n",
    "\n",
    "# Drive the car\n",
    "car.drive(200)\n",
    "\n",
    "# Refuel the car\n",
    "car.refuel(10)\n",
    "\n",
    "# Drive again after refueling\n",
    "car.drive(300)\n",
    "\n",
    "car.display_info()\n"
   ]
  },
  {
   "cell_type": "code",
   "execution_count": 2,
   "id": "07dbb1df-4382-4d80-acac-0ca601d655ad",
   "metadata": {},
   "outputs": [],
   "source": [
    "class ElectricCar(Car):\n",
    "    def __init__(self, brand, model, year, engine_capacity, mileage, battery_capacity, charge_level=100):\n",
    "        # Call the parent class constructor with default fuel level = 0 (since EVs don't use fuel)\n",
    "        super().__init__(brand, model, year, engine_capacity, mileage, fuel_level=0)\n",
    "        \n",
    "        # EV-specific attributes\n",
    "        self.battery_capacity = battery_capacity  # Battery capacity in kWh\n",
    "        self.charge_level = charge_level  # Battery charge level in %\n",
    "\n",
    "    def charge(self, amount):\n",
    "        #Charges the battery but ensures it doesn't exceed 100%\n",
    "        self.charge_level = min(self.charge_level + amount, 100)\n",
    "        print(f\"Charged {amount}%. Battery level: {self.charge_level}%\")\n",
    "\n",
    "    def display_info(self):\n",
    "        # Override display_info() to include electric car details\n",
    "        super().display_info()  # Call parent method to display general car info\n",
    "        print(f\"Battery Capacity: {self.battery_capacity} kWh\")\n",
    "        print(f\"Charge Level: {self.charge_level}%\")\n",
    "        print(\"-\" * 40)"
   ]
  },
  {
   "cell_type": "markdown",
   "id": "83874e39-af05-4952-b91e-ac47e392abf7",
   "metadata": {},
   "source": [
    "# polymorhism "
   ]
  },
  {
   "cell_type": "code",
   "execution_count": 3,
   "id": "bfb3c223-8429-4812-a2c9-4506e91c3ee3",
   "metadata": {},
   "outputs": [],
   "source": [
    "class Car2(object):\n",
    "\n",
    "    # Class variables\n",
    "    nCars = 0\n",
    "\n",
    "    # Constructor\n",
    "    def __init__(self, brand, model, year, mileage=0): # double underscored = dunder\n",
    "        # Instance variables\n",
    "        self.brand = brand\n",
    "        self.model = model\n",
    "        self.year  = year\n",
    "        self.mileage = mileage\n",
    "\n",
    "    # Member functions\n",
    "    def drive(self, distance):\n",
    "        self.mileage += distance\n",
    "\n",
    "    def display_info(self):\n",
    "        print(\"BRAND\".ljust(10), '|', self.brand)\n",
    "        print(\"MODEL\".ljust(10), '|', self.model)\n",
    "        print(\"YEAR\".ljust(10), '|', self.year)\n",
    "        print(\"MILEAGE\".ljust(10), '|', self.mileage)"
   ]
  },
  {
   "cell_type": "code",
   "execution_count": 4,
   "id": "4a3f3991-0599-4fb4-8c06-59209682d61e",
   "metadata": {},
   "outputs": [],
   "source": [
    "class ElectricCar2(Car2):\n",
    "\n",
    "    def __init__(self, brand, model, year, mileage=0, battery=10):\n",
    "        super().__init__(brand, model, year, mileage)  # initialize the parent with appropriate values\n",
    "        # local to ElectricCar - instance variables\n",
    "        self.battery = battery\n",
    "\n",
    "    # Newly added mothod\n",
    "    def charge(self, units):\n",
    "        self.battery += units\n",
    "\n",
    "    # Overridden methods to accomodate the changes in the electric car\n",
    "    def drive(self, distance):\n",
    "        self.battery -= distance/10  # charge reduces 1 unit for 10 KMS driven -> assumption\n",
    "\n",
    "    def display_info(self):\n",
    "        super().display_info()\n",
    "        print(\"CHARGE\".ljust(10), '|', self.battery)"
   ]
  },
  {
   "cell_type": "code",
   "execution_count": 5,
   "id": "ad5b8c07-bede-44c2-a6d3-08ba3cf30ccd",
   "metadata": {},
   "outputs": [],
   "source": [
    "class dummy:\n",
    "\n",
    "    def display_info(self):\n",
    "        print(\"This is a dummy class\")"
   ]
  },
  {
   "cell_type": "code",
   "execution_count": 6,
   "id": "ad3f5c4d-8b76-4002-8ad1-22c48e44f2a5",
   "metadata": {},
   "outputs": [],
   "source": [
    "c1 = Car2(\"Toyota\", \"Innova Crysta\", 2024, 1000)\n",
    "c2 = ElectricCar2(\"Hyundai\", \"IONIQ\", 2024, 1000, 10)\n",
    "c3 = ElectricCar2(\"MG\", \"Windsor\", 2025, 100, 10)\n",
    "d = dummy()"
   ]
  },
  {
   "cell_type": "code",
   "execution_count": 7,
   "id": "733e342d-6c03-401d-b743-5f1ea75dd286",
   "metadata": {},
   "outputs": [
    {
     "name": "stdout",
     "output_type": "stream",
     "text": [
      "BRAND      | Toyota\n",
      "MODEL      | Innova Crysta\n",
      "YEAR       | 2024\n",
      "MILEAGE    | 1000\n"
     ]
    }
   ],
   "source": [
    "c = c1\n",
    "c.display_info()"
   ]
  },
  {
   "cell_type": "code",
   "execution_count": 8,
   "id": "b63ff8dc-26b8-41e3-b034-25844db55c74",
   "metadata": {},
   "outputs": [
    {
     "name": "stdout",
     "output_type": "stream",
     "text": [
      "BRAND      | Hyundai\n",
      "MODEL      | IONIQ\n",
      "YEAR       | 2024\n",
      "MILEAGE    | 1000\n",
      "CHARGE     | 10\n"
     ]
    }
   ],
   "source": [
    "c = c2\n",
    "c.display_info()"
   ]
  },
  {
   "cell_type": "code",
   "execution_count": 9,
   "id": "2811aad1-c50f-4db8-9350-0bd7d5238531",
   "metadata": {},
   "outputs": [
    {
     "name": "stdout",
     "output_type": "stream",
     "text": [
      "This is a dummy class\n"
     ]
    }
   ],
   "source": [
    "c = d \n",
    "c.display_info()"
   ]
  },
  {
   "cell_type": "code",
   "execution_count": null,
   "id": "5f9516e1-5e42-4ab2-a08d-3b3ace4ea3d5",
   "metadata": {},
   "outputs": [],
   "source": []
  },
  {
   "cell_type": "code",
   "execution_count": null,
   "id": "dc88a4ef-40b8-4879-a529-bbd8fc6deb0a",
   "metadata": {},
   "outputs": [],
   "source": []
  },
  {
   "cell_type": "code",
   "execution_count": null,
   "id": "4bd91230-4b8b-4dac-8e59-dcb836e5b272",
   "metadata": {},
   "outputs": [],
   "source": []
  },
  {
   "cell_type": "markdown",
   "id": "8a09102e-8d8c-466c-9ab6-5d8f37850ef1",
   "metadata": {},
   "source": [
    "# Buitlin functions"
   ]
  },
  {
   "cell_type": "code",
   "execution_count": null,
   "id": "d6a10b04-389f-45cd-bbf5-69a9c79a3578",
   "metadata": {},
   "outputs": [],
   "source": []
  },
  {
   "cell_type": "code",
   "execution_count": null,
   "id": "48c00f85-afde-4552-9150-81dd156de311",
   "metadata": {},
   "outputs": [],
   "source": []
  },
  {
   "cell_type": "markdown",
   "id": "3f32dd37-7308-4221-98ba-bb8e4b169ba1",
   "metadata": {},
   "source": [
    "# Built in module -operator"
   ]
  },
  {
   "cell_type": "code",
   "execution_count": null,
   "id": "d3c31031-c616-4592-a86f-dc100985cbe3",
   "metadata": {},
   "outputs": [],
   "source": []
  },
  {
   "cell_type": "code",
   "execution_count": null,
   "id": "aac51d5b-70cf-4a94-b16e-70ccf94b625a",
   "metadata": {},
   "outputs": [],
   "source": []
  },
  {
   "cell_type": "code",
   "execution_count": null,
   "id": "f09a1281-5925-4e53-91f0-998d3047164b",
   "metadata": {},
   "outputs": [],
   "source": []
  },
  {
   "cell_type": "code",
   "execution_count": null,
   "id": "8111f20d-306c-4ada-8314-e7920446ea10",
   "metadata": {},
   "outputs": [],
   "source": []
  },
  {
   "cell_type": "code",
   "execution_count": null,
   "id": "5e7ccf66-15e2-4829-82a0-5fa4770b48b4",
   "metadata": {},
   "outputs": [],
   "source": []
  },
  {
   "cell_type": "markdown",
   "id": "c26b8357-a391-4c23-a549-dd60cbbb01a0",
   "metadata": {},
   "source": [
    "# lab session I"
   ]
  },
  {
   "cell_type": "raw",
   "id": "adb94603-1506-474e-9a75-dad55f460b19",
   "metadata": {},
   "source": [
    "Session 1 [45]\n",
    "----------------------------------------------------------------------------------------------\n",
    "\n",
    "1. Review the concepts \n",
    "2. Review the Word Jumble Game in OOP framework\n",
    "3. Implement the Guess-my-Number game in the OOP framework\n",
    "\n",
    "    Computer has chose a number (1, 100), can you guess? Max. 10 guesses\n",
    "\n",
    "    -> 35\n",
    "    Higher\n",
    "\n",
    "    -> 65\n",
    "    Lower\n",
    "\n",
    "    -> 44\n",
    "    Higher\n",
    "\n",
    "    -> 45\n",
    "    Correct!!\n",
    "\n",
    "    Number of attempts 4/10\n",
    "    Excellent playing!"
   ]
  },
  {
   "cell_type": "code",
   "execution_count": 10,
   "id": "e81e4510-4800-4248-a702-4b663fcf3a3d",
   "metadata": {},
   "outputs": [
    {
     "name": "stdout",
     "output_type": "stream",
     "text": [
      "24\n"
     ]
    }
   ],
   "source": [
    "import random\n",
    "\n",
    "a = random.randint(1, 100)  # Generates a random integer between 1 and 100\n",
    "print(a)"
   ]
  },
  {
   "cell_type": "code",
   "execution_count": 11,
   "id": "041b748d-3122-4bd0-86fc-0a60bcd0324d",
   "metadata": {},
   "outputs": [],
   "source": [
    "# My intial logic"
   ]
  },
  {
   "cell_type": "raw",
   "id": "d3c4e207-0d87-4ebd-ab72-fa699f818ecd",
   "metadata": {},
   "source": [
    "import random\n",
    "class guessnumber:\n",
    "    def __init__(self ,name,number):\n",
    "        self.name=name\n",
    "        self.attempt=0\n",
    "        self.number = random.randint(1, 500)\n",
    "        self.max_attempts = 10\n",
    "\n",
    "    def number(self):\n",
    "            n=random.randint(1,500)\n",
    "            return n\n",
    "\n",
    "    def play(self):\n",
    "        \n",
    "        while self_attempt < self.max_attempts:\n",
    "            guess=int(input())\n",
    "            self.attempt += 1\n",
    "\n",
    "            if guess< self.number:\n",
    "                print(\"Guess higher\")\n",
    "\n",
    "            elif guess>self.number:\n",
    "                print(\"Guess lower\")\n",
    "\n",
    "            else:\n",
    "                print(\"Great guess\")\n",
    "\n",
    "                    \n",
    "        "
   ]
  },
  {
   "cell_type": "code",
   "execution_count": 12,
   "id": "38708e92-09ba-4bb2-a566-197986e3727d",
   "metadata": {},
   "outputs": [],
   "source": [
    "# chatgpt help in polishing game ,nneded advice how to reward"
   ]
  },
  {
   "cell_type": "code",
   "execution_count": 13,
   "id": "bddaeae9-a9fb-41c8-b4a0-79606859f2dd",
   "metadata": {},
   "outputs": [
    {
     "name": "stdin",
     "output_type": "stream",
     "text": [
      "Enter your name:  Jacob\n"
     ]
    },
    {
     "name": "stdout",
     "output_type": "stream",
     "text": [
      "Jacob, I have chosen a number between 1 and 500. Can you guess it?\n",
      "You have 10 attempts.\n"
     ]
    },
    {
     "name": "stdin",
     "output_type": "stream",
     "text": [
      "Enter your guess:  23\n"
     ]
    },
    {
     "name": "stdout",
     "output_type": "stream",
     "text": [
      "Guess higher!\n"
     ]
    },
    {
     "name": "stdin",
     "output_type": "stream",
     "text": [
      "Enter your guess:  567\n"
     ]
    },
    {
     "name": "stdout",
     "output_type": "stream",
     "text": [
      "Guess lower!\n"
     ]
    },
    {
     "name": "stdin",
     "output_type": "stream",
     "text": [
      "Enter your guess:  564\n"
     ]
    },
    {
     "name": "stdout",
     "output_type": "stream",
     "text": [
      "Guess lower!\n"
     ]
    },
    {
     "name": "stdin",
     "output_type": "stream",
     "text": [
      "Enter your guess:  345\n"
     ]
    },
    {
     "name": "stdout",
     "output_type": "stream",
     "text": [
      "Guess lower!\n"
     ]
    },
    {
     "name": "stdin",
     "output_type": "stream",
     "text": [
      "Enter your guess:  234\n"
     ]
    },
    {
     "name": "stdout",
     "output_type": "stream",
     "text": [
      "Guess lower!\n"
     ]
    },
    {
     "name": "stdin",
     "output_type": "stream",
     "text": [
      "Enter your guess:  123\n"
     ]
    },
    {
     "name": "stdout",
     "output_type": "stream",
     "text": [
      "Guess lower!\n"
     ]
    },
    {
     "name": "stdin",
     "output_type": "stream",
     "text": [
      "Enter your guess:  456\n"
     ]
    },
    {
     "name": "stdout",
     "output_type": "stream",
     "text": [
      "Guess lower!\n"
     ]
    },
    {
     "name": "stdin",
     "output_type": "stream",
     "text": [
      "Enter your guess:  453\n"
     ]
    },
    {
     "name": "stdout",
     "output_type": "stream",
     "text": [
      "Guess lower!\n"
     ]
    },
    {
     "name": "stdin",
     "output_type": "stream",
     "text": [
      "Enter your guess:  3456\n"
     ]
    },
    {
     "name": "stdout",
     "output_type": "stream",
     "text": [
      "Guess lower!\n"
     ]
    },
    {
     "name": "stdin",
     "output_type": "stream",
     "text": [
      "Enter your guess:  234\n"
     ]
    },
    {
     "name": "stdout",
     "output_type": "stream",
     "text": [
      "Guess lower!\n",
      "😢 Sorry, you've used all 10 attempts. The correct number was 66.\n"
     ]
    }
   ],
   "source": [
    "import random\n",
    "\n",
    "class GuessNumber:\n",
    "    def __init__(self, name):\n",
    "        self.name = name\n",
    "        self.attempt = 0\n",
    "        self.number = random.randint(1, 500)  # Store the random number once\n",
    "        self.max_attempts = 10\n",
    "\n",
    "    def play(self):\n",
    "        print(f\"{self.name}, I have chosen a number between 1 and 500. Can you guess it?\")\n",
    "        print(f\"You have {self.max_attempts} attempts.\")\n",
    "\n",
    "        while self.attempt < self.max_attempts:\n",
    "            try:\n",
    "                guess = int(input(\"Enter your guess: \"))\n",
    "                self.attempt += 1\n",
    "\n",
    "                if guess < self.number:\n",
    "                    print(\"Guess higher!\")\n",
    "\n",
    "                elif guess > self.number:\n",
    "                    print(\"Guess lower!\")\n",
    "\n",
    "                else:\n",
    "                    print(f\"🎉 Great guess, {self.name}! You got it in {self.attempt} attempts.\")\n",
    "                    \n",
    "                    # Rewarding based on attempts\n",
    "                    if self.attempt == 1:\n",
    "                        print(\"🔥 Amazing! You got it on the first try! You're a genius! 🏆\")\n",
    "                    elif self.attempt <= 3:\n",
    "                        print(\"🌟 Excellent! That was super fast! 🎖️\")\n",
    "                    elif self.attempt <= 6:\n",
    "                        print(\"👍 Good job! You did well! 🎉\")\n",
    "                    else:\n",
    "                        print(\"😃 You did it! Keep practicing for a quicker guess next time!\")\n",
    "\n",
    "                    return  # Exit after correct guess\n",
    "            except ValueError:\n",
    "                print(\"❌ Please enter a valid number!\")\n",
    "\n",
    "        print(f\"😢 Sorry, you've used all {self.max_attempts} attempts. The correct number was {self.number}.\")\n",
    "\n",
    "# Run the game\n",
    "name = input(\"Enter your name: \")\n",
    "game = GuessNumber(name)\n",
    "game.play()\n"
   ]
  },
  {
   "cell_type": "code",
   "execution_count": null,
   "id": "a4a18b14-dd9d-43a4-8f37-d7c5552d18de",
   "metadata": {},
   "outputs": [],
   "source": [
    "name = input(\"Enter your name: \")\n",
    "game = GuessNumber(name)\n",
    "game.play()"
   ]
  },
  {
   "cell_type": "raw",
   "id": "a881766c-0bdf-4051-b010-aa1d4105b50c",
   "metadata": {},
   "source": [
    "mport random\n",
    " \n",
    "class Guessthenumber:\n",
    "    def __init__(self):\n",
    "        self.number = random.randint(1, 80)\n",
    "        self.no_of_gusess = 10\n",
    " \n",
    "    def start_game(self):\n",
    "        for attempt in range(1, self.no_of_gusess + 1):\n",
    "            guess = int(input(f\"Attempt {attempt}/{self.no_of_gusess} - Give your guess: \"))\n",
    "            if guess < self.number:\n",
    "                print(\"Give a bit higher\")\n",
    "            elif guess > self.number:\n",
    "                print(\"Give a bit lower\")\n",
    "            else:\n",
    "                print(f\"WooHoo...yeah...you guessed it Correct! in {attempt} attempts.\")\n",
    "                print(\"really you have a brain...!!!\") \n",
    "                break\n",
    "        else:\n",
    "            print(f\"ohh...ohh...Sorry! the number is {self.number}.\")\n",
    "            print(\"get your brain and try again\")\n",
    " \n",
    "game = Guessthenumber()\n",
    " \n",
    "game.start_game()"
   ]
  },
  {
   "cell_type": "code",
   "execution_count": null,
   "id": "6e5d1257-97bd-410f-8aa1-783e23c231a7",
   "metadata": {},
   "outputs": [],
   "source": []
  },
  {
   "cell_type": "raw",
   "id": "b940ffcf-ef68-4c10-a8a7-b7f3204919dc",
   "metadata": {},
   "source": [
    "Session 2 [45]\n",
    "----------------------------------------------------------------------------------------------\n",
    "\n",
    "Exercise: Implement a Vector2D Class with Overloaded Operators\n",
    "----------------------------------------------------------------\n",
    "Objective:\n",
    "Implement a 2D vector class and overload operators for addition, subtraction, and comparison.\n",
    "\n",
    "Tasks:\n",
    "Create a class Vector2D with attributes:\n",
    "\n",
    "    x (horizontal component)\n",
    "\n",
    "    y (vertical component)\n",
    "\n",
    "Overload the following operators:\n",
    "\n",
    "    + (addition): Add corresponding x and y values of two vectors.\n",
    "\n",
    "    - (subtraction): Subtract corresponding x and y values.\n",
    "\n",
    "    == (equality): Check if two vectors are identical. Go into operator module and find out what is the\n",
    "                   function that needs to be overloaded to achieve this functionality\n",
    "\n",
    "Implement a __str__() method to display vectors as \"(x, y)\".\n",
    "\n",
    "Test your class with examples like:\n",
    "v1 = Vector2D(3, 4)\n",
    "v2 = Vector2D(1, 2)\n",
    "v3 = v1 + v2   # Should return Vector2D(4, 6)\n",
    "v4 = v1 - v2   # Should return Vector2D(2, 2)\n",
    "print(v3 == Vector2D(4, 6))  # Should return True\n",
    "\n",
    "\n",
    "Exercise: Implement a Time Class with Overloaded Operators\n",
    "----------------------------------------------------------------\n",
    "\n",
    "\n",
    "Objective:\n",
    "Create a Time class that allows addition of two time durations and comparisons.\n",
    "\n",
    "Tasks:\n",
    "Define a class Time with attributes:\n",
    "\n",
    "hours, minutes, seconds.\n",
    "\n",
    "Overload the following operators:\n",
    "\n",
    "+ (addition): Add two time objects correctly handling overflow (e.g., 90 seconds = 1 min 30 sec).\n",
    "\n",
    "> (greater than): Compare two time objects based on total seconds. Go into operator module and find out what is the\n",
    "                   function that needs to be overloaded to achieve this functionality\n",
    "\n",
    "Implement a __str__() method to display time in \"hh:mm:ss\" format.\n",
    "\n",
    "Test your class with examples like:\n",
    "\n",
    "t1 = Time(1, 45, 50)\n",
    "t2 = Time(0, 30, 20)\n",
    "t3 = t1 + t2  # Should return Time(2, 16, 10)\n",
    "print(t1 > t2)  # Should return True"
   ]
  },
  {
   "cell_type": "raw",
   "id": "d197ce5b-8d0c-407e-b09a-5d2197ccebaf",
   "metadata": {},
   "source": [
    "Exercise: Implement a Vector2D Class with Overloaded Operators\n",
    "----------------------------------------------------------------\n",
    "Objective:\n",
    "Implement a 2D vector class and overload operators for addition, subtraction, and comparison.\n",
    "\n",
    "Tasks:\n",
    "Create a class Vector2D with attributes:\n",
    "\n",
    "    x (horizontal component)\n",
    "\n",
    "    y (vertical component)\n",
    "\n",
    "Overload the following operators:\n",
    "\n",
    "    + (addition): Add corresponding x and y values of two vectors.\n",
    "\n",
    "    - (subtraction): Subtract corresponding x and y values.\n",
    "\n",
    "    == (equality): Check if two vectors are identical. Go into operator module and find out what is the\n",
    "                   function that needs to be overloaded to achieve this functionality\n",
    "\n",
    "Implement a __str__() method to display vectors as \"(x, y)\".\n",
    "\n",
    "Test your class with examples like:\n",
    "v1 = Vector2D(3, 4)\n",
    "v2 = Vector2D(1, 2)\n",
    "v3 = v1 + v2   # Should return Vector2D(4, 6)\n",
    "v4 = v1 - v2   # Should return Vector2D(2, 2)\n",
    "print(v3 == Vector2D(4, 6))  # Should return True"
   ]
  },
  {
   "cell_type": "code",
   "execution_count": 14,
   "id": "7326eb7b-464e-49f3-8833-443f2d88552f",
   "metadata": {},
   "outputs": [],
   "source": [
    "class Vector2D:\n",
    "    def __init__(self,x,y):\n",
    "        self.x=x\n",
    "        self.y=y\n",
    "\n",
    "    def __add__(self ,other):\n",
    "        return Vector2D(self.x + other.x , self.y + other.y)\n",
    "\n",
    "    def __sub__(self,other):\n",
    "        return Vector2D(self.x-other.x, self.y - other.y)\n",
    "\n",
    "    def __eq__(self, other):\n",
    "        return self.x == other.x and self.y == other.y\n",
    "\n",
    "    def __str__(self):\n",
    "        return f\"({self.x}, {self.y})\"\n",
    "        \n",
    "\n",
    "    \n",
    "\n",
    "\n",
    "        \n",
    "    "
   ]
  },
  {
   "cell_type": "code",
   "execution_count": 15,
   "id": "3a580ee0-5ca8-408a-806f-70dc3d054f7a",
   "metadata": {},
   "outputs": [
    {
     "name": "stdout",
     "output_type": "stream",
     "text": [
      "(4, 6)\n",
      "(2, 2)\n",
      "True\n"
     ]
    }
   ],
   "source": [
    "# Testing the class\n",
    "v1 = Vector2D(3, 4)\n",
    "v2 = Vector2D(1, 2)\n",
    "\n",
    "v3 = v1 + v2   # Should return Vector2D(4, 6)\n",
    "v4 = v1 - v2   # Should return Vector2D(2, 2)\n",
    "\n",
    "print(v3)  # Output: (4, 6)\n",
    "print(v4)  # Output: (2, 2)\n",
    "print(v3 == Vector2D(4, 6))  # Output: True\n"
   ]
  },
  {
   "cell_type": "raw",
   "id": "8b291bc6-f8bd-4e4d-aa24-bbdcf41dd6d0",
   "metadata": {},
   "source": [
    "Exercise: Implement a Time Class with Overloaded Operators\n",
    "----------------------------------------------------------------\n",
    "\n",
    "\n",
    "Objective:\n",
    "Create a Time class that allows addition of two time durations and comparisons.\n",
    "\n",
    "Tasks:\n",
    "Define a class Time with attributes:\n",
    "\n",
    "hours, minutes, seconds.\n",
    "\n",
    "Overload the following operators:\n",
    "\n",
    "+ (addition): Add two time objects correctly handling overflow (e.g., 90 seconds = 1 min 30 sec).\n",
    "\n",
    "> (greater than): Compare two time objects based on total seconds. Go into operator module and find out what is the\n",
    "                   function that needs to be overloaded to achieve this functionality\n",
    "\n",
    "Implement a __str__() method to display time in \"hh:mm:ss\" format.\n",
    "\n",
    "Test your class with examples like:\n",
    "\n",
    "t1 = Time(1, 45, 50)\n",
    "t2 = Time(0, 30, 20)\n",
    "t3 = t1 + t2  # Should return Time(2, 16, 10)\n",
    "print(t1 > t2)  # Should return True"
   ]
  },
  {
   "cell_type": "code",
   "execution_count": null,
   "id": "8d81335c-89b0-4701-b31f-567df777bff8",
   "metadata": {},
   "outputs": [],
   "source": [
    "class Time:\n",
    "    def __init__(self, hours, minutes, seconds):\n",
    "        self.hours = hours\n",
    "        self.minutes = minutes\n",
    "        self.seconds = seconds\n",
    "        self.normalize_time()\n",
    "\n",
    "    def normalize_time(self):\n",
    "        #\"\"\"Ensures that seconds and minutes do not exceed 59.\"\"\"\n",
    "        self.minutes += self.seconds // 60\n",
    "        self.seconds = self.seconds % 60\n",
    "        self.hours += self.minutes // 60\n",
    "        self.minutes = self.minutes % 60\n",
    "    \n",
    "    def __add__(self, other):\n",
    "        \"\"\"Adds two Time objects and returns a new Time object.\"\"\"\n",
    "        new_hours = self.hours + other.hours\n",
    "        new_minutes = self.minutes + other.minutes\n",
    "        new_seconds = self.seconds + other.seconds\n",
    "        return Time(new_hours, new_minutes, new_seconds)\n",
    "\n",
    "    def __gt__(self, other):\n",
    "        \"\"\"Compares two Time objects based on total seconds.\"\"\"\n",
    "        return (self.hours * 3600 + self.minutes * 60 + self.seconds) > (other.hours * 3600 + other.minutes * 60 + other.seconds)\n",
    "\n",
    "    def __str__(self):\n",
    "        \"\"\"Returns the string representation in hh:mm:ss format.\"\"\"\n",
    "        return f\"{self.hours:02}:{self.minutes:02}:{self.seconds:02}\"\n",
    "\n",
    "# Testing the class\n",
    "t1 = Time(1, 45, 50)\n",
    "t2 = Time(0, 30, 20)\n",
    "t3 = t1 + t2  # Should return Time(2, 16, 10)\n",
    "\n",
    "print(t3)  # Output: 02:16:10\n",
    "print(t1 > t2)  # Output: True\n"
   ]
  },
  {
   "cell_type": "code",
   "execution_count": 16,
   "id": "5724a363-7e00-403b-b035-755b5d7b03cd",
   "metadata": {},
   "outputs": [
    {
     "data": {
      "text/plain": [
       "1"
      ]
     },
     "execution_count": 16,
     "metadata": {},
     "output_type": "execute_result"
    }
   ],
   "source": [
    "3%2"
   ]
  },
  {
   "cell_type": "code",
   "execution_count": 17,
   "id": "abca396d-64af-41c7-b1eb-0a96d1580f0a",
   "metadata": {},
   "outputs": [
    {
     "data": {
      "text/plain": [
       "1"
      ]
     },
     "execution_count": 17,
     "metadata": {},
     "output_type": "execute_result"
    }
   ],
   "source": [
    "5%2\n"
   ]
  },
  {
   "cell_type": "code",
   "execution_count": 18,
   "id": "eebd88c1-b57a-448c-981b-3d3b3877c91e",
   "metadata": {},
   "outputs": [
    {
     "data": {
      "text/plain": [
       "2"
      ]
     },
     "execution_count": 18,
     "metadata": {},
     "output_type": "execute_result"
    }
   ],
   "source": [
    "5%3"
   ]
  },
  {
   "cell_type": "raw",
   "id": "9a1518c0-0f2c-4d09-8baa-da46e55da1fb",
   "metadata": {},
   "source": [
    "class time2(object):\n",
    "    def __init__(self,hours minutes,records):\n",
    "        se"
   ]
  },
  {
   "cell_type": "code",
   "execution_count": 19,
   "id": "7100794d-9e9b-42cd-877a-43a66b0fbb87",
   "metadata": {},
   "outputs": [
    {
     "data": {
      "text/plain": [
       "15"
      ]
     },
     "execution_count": 19,
     "metadata": {},
     "output_type": "execute_result"
    }
   ],
   "source": [
    "12+3"
   ]
  },
  {
   "cell_type": "code",
   "execution_count": null,
   "id": "15e8758c-b914-4e81-bc1a-455b1c0138bb",
   "metadata": {},
   "outputs": [],
   "source": [
    "class Person:\n",
    "    def __init__(self,name,age):\n",
    "        self.name=name\n",
    "        self.age=age\n",
    "    # Due to way iti s used it can be alternate constructor \n",
    "    def birth_year(cls name,birth_year):\n",
    "        return cls(name,2025-birth_year )\n",
    "        # cls refers to class name in this is equivalent to Person(name ,2025-birth_year)\n",
    "        "
   ]
  }
 ],
 "metadata": {
  "kernelspec": {
   "display_name": "Python 3 (ipykernel)",
   "language": "python",
   "name": "python3"
  },
  "language_info": {
   "codemirror_mode": {
    "name": "ipython",
    "version": 3
   },
   "file_extension": ".py",
   "mimetype": "text/x-python",
   "name": "python",
   "nbconvert_exporter": "python",
   "pygments_lexer": "ipython3",
   "version": "3.12.4"
  }
 },
 "nbformat": 4,
 "nbformat_minor": 5
}
