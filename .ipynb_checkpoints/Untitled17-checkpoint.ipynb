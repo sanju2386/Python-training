{
 "cells": [
  {
   "cell_type": "code",
   "execution_count": null,
   "id": "4612bf27-b810-416e-bc46-88f3bb56c536",
   "metadata": {},
   "outputs": [],
   "source": [
    "#!/usr/bin/python           # This is server.py file\n",
    "\n",
    "import socket               # Import socket module\n",
    "\n",
    "s = socket.socket()         # Create a socket object\n",
    "\n",
    "s.bind(('127.0.0.1', 1000))        # Bind to the port\n",
    "\n",
    "s.listen(5)                 # Now wait for client connection.\n",
    "while True:\n",
    "   c, addr = s.accept()     # Establish connection with client.\n",
    "   print ('Got connection from', addr)\n",
    "   c.send(bytes('Thank you for connecting', 'utf-8'))\n",
    "   c.close()                # Close the connection\n"
   ]
  },
  {
   "cell_type": "code",
   "execution_count": null,
   "id": "c4ad5316-ce93-4a8f-bb86-99396eb299bb",
   "metadata": {},
   "outputs": [],
   "source": [
    "#!/usr/bin/python           # This is client.py file\n",
    "\n",
    "import socket               # Import socket module\n",
    "\n",
    "s = socket.socket()         # Create a socket object\n",
    "#host = socket.gethostname() # Get local machine name\n",
    "#port = 12345                # Reserve a port for your service.\n",
    "\n",
    "s.connect(('127.0.0.1', 1000))\n",
    "print (s.recv(1024))\n",
    "s.close()                    # Close the socket when done\n"
   ]
  },
  {
   "cell_type": "code",
   "execution_count": 1,
   "id": "ac150b71-9994-4181-83d8-c48fcadf6913",
   "metadata": {},
   "outputs": [
    {
     "name": "stdout",
     "output_type": "stream",
     "text": [
      "Server is listening on port 1000...\n"
     ]
    }
   ],
   "source": [
    "import socket\n",
    "import threading\n",
    "\n",
    "def run_server():\n",
    "    s = socket.socket()\n",
    "    s.bind(('127.0.0.1', 1000))\n",
    "    s.listen(5)\n",
    "    print(\"Server is listening on port 1000...\")\n",
    "    \n",
    "    while True:\n",
    "        c, addr = s.accept()\n",
    "        print('Got connection from', addr)\n",
    "        c.send(bytes('Thank you for connecting', 'utf-8'))\n",
    "        c.close()\n",
    "\n",
    "# Run server in a background thread\n",
    "server_thread = threading.Thread(target=run_server, daemon=True)\n",
    "server_thread.start()\n"
   ]
  },
  {
   "cell_type": "code",
   "execution_count": 2,
   "id": "bf8b7f8b-ba68-42a7-af5e-5d538521d33f",
   "metadata": {},
   "outputs": [
    {
     "name": "stdout",
     "output_type": "stream",
     "text": [
      "Got connection from ('127.0.0.1', 51464)\n",
      "Thank you for connecting\n"
     ]
    }
   ],
   "source": [
    "import socket\n",
    "\n",
    "s = socket.socket()\n",
    "s.connect(('127.0.0.1', 1000))\n",
    "print(s.recv(1024).decode('utf-8'))\n",
    "s.close()\n"
   ]
  },
  {
   "cell_type": "code",
   "execution_count": null,
   "id": "f91c5d2a-9e24-4c80-b636-fac33add1822",
   "metadata": {},
   "outputs": [],
   "source": []
  }
 ],
 "metadata": {
  "kernelspec": {
   "display_name": "Python 3 (ipykernel)",
   "language": "python",
   "name": "python3"
  },
  "language_info": {
   "codemirror_mode": {
    "name": "ipython",
    "version": 3
   },
   "file_extension": ".py",
   "mimetype": "text/x-python",
   "name": "python",
   "nbconvert_exporter": "python",
   "pygments_lexer": "ipython3",
   "version": "3.12.4"
  }
 },
 "nbformat": 4,
 "nbformat_minor": 5
}
