{
 "cells": [
  {
   "cell_type": "code",
   "execution_count": 1,
   "id": "b4eb8abf-7b69-4b54-9da9-896aef5301e4",
   "metadata": {},
   "outputs": [],
   "source": [
    "import re"
   ]
  },
  {
   "cell_type": "code",
   "execution_count": 4,
   "id": "fbdc990a-f37b-4ad6-8df4-bd76216bdc9c",
   "metadata": {},
   "outputs": [
    {
     "name": "stdout",
     "output_type": "stream",
     "text": [
      "abc matched in 'abc'\n",
      "abc matched in 'abc ab'\n"
     ]
    }
   ],
   "source": [
    "data = ['ab', 'abc', 'a5e', 'a6f', '123 a6c', 'a5b', 'a55b', 'a555b', 'a5555b',\n",
    "        'a55555b', 'a555555b', 'a5xb', '1/4', '3+2=5', 'def ghi', 'abc ab']\n",
    "for item in data:\n",
    "  m = re.match(r'a.c', item)\n",
    "  if m:\n",
    "      \n",
    "      print( m.group() + ' matched in ' + '\\'' + item + '\\'')"
   ]
  },
  {
   "cell_type": "code",
   "execution_count": 6,
   "id": "5aabff08-69c6-4eed-8e08-e520983341ab",
   "metadata": {},
   "outputs": [
    {
     "ename": "SyntaxError",
     "evalue": "unexpected character after line continuation character (2246952494.py, line 1)",
     "output_type": "error",
     "traceback": [
      "\u001b[1;36m  Cell \u001b[1;32mIn[6], line 1\u001b[1;36m\u001b[0m\n\u001b[1;33m    print(' '\\'a'')\u001b[0m\n\u001b[1;37m              ^\u001b[0m\n\u001b[1;31mSyntaxError\u001b[0m\u001b[1;31m:\u001b[0m unexpected character after line continuation character\n"
     ]
    }
   ],
   "source": [
    "print(' '\\'a'')"
   ]
  },
  {
   "cell_type": "code",
   "execution_count": 7,
   "id": "ee063827-e6ba-4622-b2cb-34ab5566ac14",
   "metadata": {},
   "outputs": [
    {
     "ename": "SyntaxError",
     "evalue": "unexpected character after line continuation character (2170950918.py, line 1)",
     "output_type": "error",
     "traceback": [
      "\u001b[1;36m  Cell \u001b[1;32mIn[7], line 1\u001b[1;36m\u001b[0m\n\u001b[1;33m    print(' '\\'a'')\u001b[0m\n\u001b[1;37m              ^\u001b[0m\n\u001b[1;31mSyntaxError\u001b[0m\u001b[1;31m:\u001b[0m unexpected character after line continuation character\n"
     ]
    }
   ],
   "source": [
    "print(' '\\'a'')\n"
   ]
  },
  {
   "cell_type": "code",
   "execution_count": 8,
   "id": "2bec64aa-7830-4ca8-8481-300bd02af85b",
   "metadata": {},
   "outputs": [
    {
     "name": "stdout",
     "output_type": "stream",
     "text": [
      " 'a' \n"
     ]
    }
   ],
   "source": [
    "print(' \\'a\\' ')\n"
   ]
  },
  {
   "cell_type": "code",
   "execution_count": 9,
   "id": "f4833144-f01e-4dc8-a9bf-f52aab782af0",
   "metadata": {},
   "outputs": [
    {
     "name": "stdout",
     "output_type": "stream",
     "text": [
      "abc matched in 'abc'\n",
      "abc matched in 'abc ab'\n"
     ]
    }
   ],
   "source": [
    "data = ['ab', 'abc', 'a5e', 'a6f', '123 a6c', 'a5b', 'a55b', 'a555b', 'a5555b',\n",
    "        'a55555b', 'a555555b', 'a5xb', '1/4', '3+2=5', 'def ghi', 'abc ab']\n",
    "for item in data:\n",
    "  m2 = re.match('a.c', item)\n",
    "  if m2:\n",
    "      \n",
    "      print( m2.group() + ' matched in ' + '\\'' + item + '\\'')"
   ]
  },
  {
   "cell_type": "code",
   "execution_count": 10,
   "id": "ddee92bb-fe33-493a-bf45-02f95ecf33c9",
   "metadata": {},
   "outputs": [
    {
     "name": "stdout",
     "output_type": "stream",
     "text": [
      "abc matched in 'abc'\n",
      "a6c matched in '123 a6c'\n",
      "abc matched in 'abc ab'\n"
     ]
    }
   ],
   "source": [
    "data = ['ab', 'abc', 'a5e', 'a6f', '123 a6c', 'a5b', 'a55b', 'a555b', 'a5555b',\n",
    "        'a55555b', 'a555555b', 'a5xb', '1/4', '3+2=5', 'def ghi', 'abc ab']\n",
    "for item in data:\n",
    "  m2 = re.search('a.c', item)\n",
    "  if m2:\n",
    "      \n",
    "      print( m2.group() + ' matched in ' + '\\'' + item + '\\'')"
   ]
  },
  {
   "cell_type": "code",
   "execution_count": 11,
   "id": "7bd84992-5b6b-4d87-b967-b1eafa1ee317",
   "metadata": {},
   "outputs": [
    {
     "name": "stdout",
     "output_type": "stream",
     "text": [
      "abc matched in 'abc'\n",
      "a5e matched in 'a5e'\n",
      "a6f matched in 'a6f'\n",
      "a6c matched in '123 a6c'\n",
      "a5b matched in 'a5b'\n",
      "a55 matched in 'a55b'\n",
      "a55 matched in 'a555b'\n",
      "a55 matched in 'a5555b'\n",
      "a55 matched in 'a55555b'\n",
      "a55 matched in 'a555555b'\n",
      "a5x matched in 'a5xb'\n",
      "abc matched in 'abc ab'\n"
     ]
    }
   ],
   "source": [
    "data3 = ['ab', 'abc', 'a5e', 'a6f', '123 a6c', 'a5b', 'a55b', 'a555b', 'a5555b',\n",
    "        'a55555b', 'a555555b', 'a5xb', '1/4', '3+2=5', 'def ghi', 'abc ab']\n",
    "for item in data3:\n",
    "  m2 = re.search('a..', item)\n",
    "  if m2:\n",
    "      \n",
    "      print( m2.group() + ' matched in ' + '\\'' + item + '\\'')"
   ]
  },
  {
   "cell_type": "code",
   "execution_count": 12,
   "id": "bb9635cd-1b7a-4397-ada0-730008f81a98",
   "metadata": {},
   "outputs": [
    {
     "name": "stdout",
     "output_type": "stream",
     "text": [
      "abc matched in 'abc'\n",
      "a6f matched in 'a6f'\n",
      "a6c matched in '123 a6c'\n",
      "a5b matched in 'a5b'\n",
      "abc matched in 'abc ab'\n"
     ]
    }
   ],
   "source": [
    "data4 = ['ab', 'abc', 'a5e', 'a6f', '123 a6c', 'a5b', 'a55b', 'a555b', 'a5555b',\n",
    "        'a55555b', 'a555555b', 'a5xb', '1/4', '3+2=5', 'def ghi', 'abc ab']\n",
    "for item in data4:\n",
    "  m2 = re.search('a.[bcf]', item)\n",
    "  if m2:\n",
    "      \n",
    "      print( m2.group() + ' matched in ' + '\\'' + item + '\\'')"
   ]
  },
  {
   "cell_type": "code",
   "execution_count": 13,
   "id": "4e41f21d-5ba2-415a-8d6c-e1f211c4822b",
   "metadata": {},
   "outputs": [
    {
     "name": "stdout",
     "output_type": "stream",
     "text": [
      "a55 matched in 'a55b'\n",
      "a55 matched in 'a555b'\n",
      "a55 matched in 'a5555b'\n",
      "a55 matched in 'a55555b'\n",
      "a55 matched in 'a555555b'\n"
     ]
    }
   ],
   "source": [
    "data4 = ['ab', 'abc', 'a5e', 'a6f', '123 a6c', 'a5b', 'a55b', 'a555b', 'a5555b',\n",
    "        'a55555b', 'a555555b', 'a5xb', '1/4', '3+2=5', 'def ghi', 'abc ab']\n",
    "for item in data4:\n",
    "  m2 = re.search('a.[0-9]', item)\n",
    "  if m2:\n",
    "      \n",
    "      print( m2.group() + ' matched in ' + '\\'' + item + '\\'')"
   ]
  },
  {
   "cell_type": "code",
   "execution_count": 15,
   "id": "f4e15036-e3ec-470c-8a0d-5efda1454963",
   "metadata": {},
   "outputs": [
    {
     "name": "stdout",
     "output_type": "stream",
     "text": [
      "a5e matched in 'a5e'\n",
      "a6f matched in 'a6f'\n",
      "a5b matched in 'a5b'\n",
      "a5x matched in 'a5xb'\n"
     ]
    }
   ],
   "source": [
    "data5 = ['ab', 'abc', 'a5e', 'a6f', '123 a6c', 'a5b', 'a55b', 'a555b', 'a5555b',\n",
    "        'a55555b', 'a555555b', 'a5xb', '1/4', '3+2=5', 'def ghi', 'abc ab']\n",
    "for item in data5:\n",
    "  m2 = re.search('a.[abd-z]', item)\n",
    "  if m2:\n",
    "      \n",
    "      print( m2.group() + ' matched in ' + '\\'' + item + '\\'')"
   ]
  },
  {
   "cell_type": "code",
   "execution_count": 16,
   "id": "f7b79b61-f603-482e-982b-cda1000e8e61",
   "metadata": {},
   "outputs": [
    {
     "name": "stdout",
     "output_type": "stream",
     "text": [
      "a5e matched in 'a5e'\n",
      "a5b matched in 'a5b'\n",
      "a55 matched in 'a55b'\n",
      "a55 matched in 'a555b'\n",
      "a55 matched in 'a5555b'\n",
      "a55 matched in 'a55555b'\n",
      "a55 matched in 'a555555b'\n",
      "a5x matched in 'a5xb'\n"
     ]
    }
   ],
   "source": [
    "data4 = ['ab', 'abc', 'a5e', 'a6f', '123 a6c', 'a5b', 'a55b', 'a555b', 'a5555b',\n",
    "        'a55555b', 'a555555b', 'a5xb', '1/4', '3+2=5', 'def ghi', 'abc ab']\n",
    "for item in data4:\n",
    "  m2 = re.search('a.[^cf]', item)\n",
    "  if m2:\n",
    "      \n",
    "      print( m2.group() + ' matched in ' + '\\'' + item + '\\'')"
   ]
  },
  {
   "cell_type": "code",
   "execution_count": 17,
   "id": "8fc3aead-16e1-4061-a347-c9aafd1c9366",
   "metadata": {},
   "outputs": [
    {
     "name": "stdout",
     "output_type": "stream",
     "text": [
      "a55b matched in 'a55b'\n",
      "a555 matched in 'a555b'\n",
      "a555 matched in 'a5555b'\n",
      "a555 matched in 'a55555b'\n",
      "a555 matched in 'a555555b'\n"
     ]
    }
   ],
   "source": [
    "data4 = ['ab', 'abc', 'a5e', 'a6f', '123 a6c', 'a5b', 'a55b', 'a555b', 'a5555b',\n",
    "        'a55555b', 'a555555b', 'a5xb', '1/4', '3+2=5', 'def ghi', 'abc ab']\n",
    "for item in data4:\n",
    "  m2 = re.search('a.[0-9][^cf]', item)\n",
    "  if m2:\n",
    "      \n",
    "      print( m2.group() + ' matched in ' + '\\'' + item + '\\'')"
   ]
  },
  {
   "cell_type": "code",
   "execution_count": 22,
   "id": "bc885982-03f5-4772-8f30-9e0920be0619",
   "metadata": {},
   "outputs": [],
   "source": [
    "data4 = ['ab', 'abc', 'a5e', 'a6f', '123 a6c', 'a5b', 'a55b', 'a555b', 'a5555b',\n",
    "        'a55555b', 'a555555b', 'a5xb', '1/4', '3+2=5', 'def ghi', 'abc ab']\n",
    "for item in data4:\n",
    "  m2 = re.search(r'a.[0-9]3\\+2', item)\n",
    "  if m2:\n",
    "      \n",
    "      print( m2.group() + ' matched in ' + '\\'' + item + '\\'')"
   ]
  },
  {
   "cell_type": "code",
   "execution_count": 23,
   "id": "99b82ea5-1986-4a7d-9ac5-fdb3d67b3821",
   "metadata": {},
   "outputs": [],
   "source": [
    "import re  # Import the re module\n",
    "\n",
    "data4 = ['ab', 'abc', 'a5e', 'a6f', '123 a6c', 'a5b', 'a55b', 'a555b', 'a5555b',\n",
    "         'a55555b', 'a555555b', 'a5xb', '1/4', '3+2=5', 'def ghi', 'abc ab']\n",
    "\n",
    "for item in data4:\n",
    "    m2 = re.search(r'a.[0-9]3\\+2', item)  # Searching for the pattern in the string\n",
    "    if m2:\n",
    "        print(m2.group() + \" matched in '\" + item + \"'\")\n"
   ]
  },
  {
   "cell_type": "code",
   "execution_count": 24,
   "id": "7f436903-9dfb-42cf-8f36-10fa6b7b88d4",
   "metadata": {},
   "outputs": [
    {
     "name": "stdout",
     "output_type": "stream",
     "text": [
      "3+2 matched in '3+2=5'\n"
     ]
    }
   ],
   "source": [
    "import re  # Import the re module\n",
    "\n",
    "data4 = ['ab', 'abc', 'a5e', 'a6f', '123 a6c', 'a5b', 'a55b', 'a555b', 'a5555b',\n",
    "         'a55555b', 'a555555b', 'a5xb', '1/4', '3+2=5', 'def ghi', 'abc ab']\n",
    "\n",
    "for item in data4:\n",
    "    m2 = re.search(r'3\\+2', item)  # Searching for the pattern in the string\n",
    "    if m2:\n",
    "        print(m2.group() + \" matched in '\" + item + \"'\")\n"
   ]
  },
  {
   "cell_type": "code",
   "execution_count": 25,
   "id": "3712d449-c639-4a91-8300-5a1ba4813685",
   "metadata": {},
   "outputs": [
    {
     "name": "stdout",
     "output_type": "stream",
     "text": [
      "12 matched in '123 a6c'\n",
      "55 matched in 'a55b'\n",
      "55 matched in 'a555b'\n",
      "55 matched in 'a5555b'\n",
      "55 matched in 'a55555b'\n",
      "55 matched in 'a555555b'\n"
     ]
    }
   ],
   "source": [
    "import re  # Import the re module\n",
    "\n",
    "data4 = ['ab', 'abc', 'a5e', 'a6f', '123 a6c', 'a5b', 'a55b', 'a555b', 'a5555b',\n",
    "         'a55555b', 'a555555b', 'a5xb', '1/4', '3+2=5', 'def ghi', 'abc ab']\n",
    "\n",
    "for item in data4:\n",
    "    m2 = re.search(r'[0-9][0-9]', item)  # Searching for the pattern in the string\n",
    "    if m2:\n",
    "        print(m2.group() + \" matched in '\" + item + \"'\")\n"
   ]
  },
  {
   "cell_type": "code",
   "execution_count": 26,
   "id": "ae01db31-6e32-4dd3-aef2-802c59978283",
   "metadata": {},
   "outputs": [
    {
     "name": "stdout",
     "output_type": "stream",
     "text": [
      "a5e matched in 'a5e'\n",
      "a6f matched in 'a6f'\n",
      "a6c matched in '123 a6c'\n",
      "a5b matched in 'a5b'\n",
      "abc matched in 'abc ab'\n"
     ]
    }
   ],
   "source": [
    "import re\n",
    "\n",
    "data = ['ab', 'bc', 'a5e', 'a6f', '123 a6c', 'a5b', 'a55b', 'a555b', 'a5555b',\n",
    "\n",
    "        'a55555b', 'a555555b', 'a54b', '1/4', '3+2=5', 'def ghi', 'abc ab','a4//sdac','3+24343']\n",
    "\n",
    "for item in data:\n",
    "\n",
    "# m = re.match(r'.c', item)\n",
    "\n",
    "# m = re.search(r'a.[bcf]', item) #first char a and then anything in between and the next char should be one among [b,c,f]\n",
    "\n",
    "  #m = re.search(r'a.[abd-z]', item) #match anything except c\n",
    "\n",
    "  #m = re.search(r'a[0-9][a-z]', item)\n",
    "\n",
    "# m = re.search(r'a[0-9][^cf]', item) #^cf\n",
    "\n",
    "# m = re.search(r'3\\+2', item) #need \\to negate the meaning og '+'\n",
    "\n",
    "  m = re.search(r'a[0-9][a-z]|a.c', item)\n",
    " \n",
    "  if m:\n",
    "\n",
    "      print (m.group() + ' matched in ' + '\\'' + item + '\\'')\n",
    " "
   ]
  },
  {
   "cell_type": "code",
   "execution_count": 27,
   "id": "e32b3f01-0f40-4945-9589-9fd01ef7406c",
   "metadata": {},
   "outputs": [
    {
     "name": "stdout",
     "output_type": "stream",
     "text": [
      "a6c matched in '123 a6c'\n",
      "3+2 matched in '3+2=5'\n",
      "abc matched in 'abc ab'\n",
      "3+2 matched in '3+24343'\n"
     ]
    }
   ],
   "source": [
    "for item in data:\n",
    "    m=re.search(r'[0-9]\\+[0-9]|a.c',item) \n",
    "    if m:\n",
    "        print (m.group() + ' matched in ' + '\\'' + item + '\\'')"
   ]
  },
  {
   "cell_type": "code",
   "execution_count": 28,
   "id": "4bc089e0-6afc-4d54-ae61-e1fc05ab3149",
   "metadata": {},
   "outputs": [
    {
     "name": "stdout",
     "output_type": "stream",
     "text": [
      "a6c matched in '123 a6c'\n",
      "abc matched in 'abc ab'\n"
     ]
    }
   ],
   "source": [
    "for item in data:\n",
    "    m=re.search(r'[0-9]\\+[a-c]|a.c',item) \n",
    "    if m:\n",
    "        print (m.group() + ' matched in ' + '\\'' + item + '\\'')"
   ]
  },
  {
   "cell_type": "code",
   "execution_count": 29,
   "id": "b8e64820-cf06-4d32-bf9c-64243e93a2af",
   "metadata": {},
   "outputs": [
    {
     "name": "stdout",
     "output_type": "stream",
     "text": [
      "abc matched in 'abc ab'\n"
     ]
    }
   ],
   "source": [
    "for item in data:\n",
    "    m=re.match(r'[0-9]\\+[a-c]|a.c',item) \n",
    "    if m:\n",
    "        print (m.group() + ' matched in ' + '\\'' + item + '\\'')"
   ]
  },
  {
   "cell_type": "markdown",
   "id": "0602a55c-482b-49b6-91f9-de559012ca16",
   "metadata": {},
   "source": [
    "# Metacharacthers2"
   ]
  },
  {
   "cell_type": "code",
   "execution_count": 35,
   "id": "c853f595-4ae1-4194-ac0f-6befb8b5e245",
   "metadata": {},
   "outputs": [
    {
     "ename": "IndentationError",
     "evalue": "expected an indented block after 'for' statement on line 3 (1859584073.py, line 4)",
     "output_type": "error",
     "traceback": [
      "\u001b[1;36m  Cell \u001b[1;32mIn[35], line 4\u001b[1;36m\u001b[0m\n\u001b[1;33m    for item in data:\u001b[0m\n\u001b[1;37m    ^\u001b[0m\n\u001b[1;31mIndentationError\u001b[0m\u001b[1;31m:\u001b[0m expected an indented block after 'for' statement on line 3\n"
     ]
    }
   ],
   "source": [
    "data = ['ab', 'abc', 'a5e', 'a6f', '123 a6c', 'a5b', 'a55b', 'a555b', 'a5555b',\n",
    "        'a55555b', 'a555555b', 'a5xb', '1/4', '3+2=5', 'def ghi', 'abc ab']\n",
    "for item in data:\n",
    "for item in data:\n",
    "    m=re.match(r'\\w\\s\\w_',item) \n",
    "    if m:\n",
    "        print (m.group() + ' matched in ' + '\\'' + item + '\\'')"
   ]
  },
  {
   "cell_type": "code",
   "execution_count": 39,
   "id": "e2fd3a95-cf37-4ed3-83a9-9f296ff25623",
   "metadata": {},
   "outputs": [],
   "source": [
    "import re  # Missing import statement\n",
    "\n",
    "data = ['ab', 'abc', 'a5e', 'a6f', '123 a6c', 'a5b', 'a55b', 'a555b', 'a5555b',\n",
    "        'a55555b', 'a555555b', 'a5xb', '1/4', '3+2=5', 'def ghi', 'abc ab']\n",
    "\n",
    "for item in data:  # Remove duplicate loop\n",
    "    m = re.match(r'\\w\\s\\w', item)  # Fixed indentation\n",
    "    if m:\n",
    "        print(m.group() + \" matched in '\" + item + \"'\")  # Fixed print formatting\n"
   ]
  },
  {
   "cell_type": "code",
   "execution_count": 37,
   "id": "ad92b7e0-5285-4dcc-991f-a38d8fbf07ca",
   "metadata": {},
   "outputs": [
    {
     "name": "stdout",
     "output_type": "stream",
     "text": [
      "123 a6c matched in '123 a6c'\n",
      "def ghi matched in 'def ghi'\n",
      "abc ab matched in 'abc ab'\n"
     ]
    }
   ],
   "source": [
    "import re\n",
    "\n",
    "data = ['ab', 'abc', 'a5e', 'a6f', '123 a6c', 'a5b', 'a55b', 'a555b', 'a5555b',\n",
    "        'a55555b', 'a555555b', 'a5xb', '1/4', '3+2=5', 'def ghi', 'abc ab']\n",
    "\n",
    "for item in data:\n",
    "    m = re.search(r'\\w+\\s\\w+', item)  # Match words with a space in between\n",
    "    if m:\n",
    "        print(m.group() + \" matched in '\" + item + \"'\")\n"
   ]
  },
  {
   "cell_type": "code",
   "execution_count": 40,
   "id": "9feca829-4d56-472d-a151-d0e7c4c80785",
   "metadata": {},
   "outputs": [
    {
     "name": "stdout",
     "output_type": "stream",
     "text": [
      "a6 matched in 'a6f'\n"
     ]
    }
   ],
   "source": [
    "import re\n",
    "\n",
    "data = ['ab', 'abc', 'a5e', 'a6f', '123 a6c', 'a5b', 'a55b', 'a555b', 'a5555b',\n",
    "        'a55555b', 'a555555b', 'a5xb', '1/4', '3+2=5', 'def ghi', 'abc ab']\n",
    "\n",
    "for item in data:\n",
    "    m = re.search(r'^a6', item)  # Match words with a space in between\n",
    "    if m:\n",
    "        print(m.group() + \" matched in '\" + item + \"'\")"
   ]
  },
  {
   "cell_type": "code",
   "execution_count": 41,
   "id": "83a6acee-babe-4a38-a686-c5a902827465",
   "metadata": {},
   "outputs": [
    {
     "name": "stdout",
     "output_type": "stream",
     "text": [
      "abc matched in 'abc'\n",
      "a6c matched in '123 a6c'\n",
      "abc matched in 'abc ab'\n"
     ]
    }
   ],
   "source": [
    "import re\n",
    "\n",
    "data = ['ab', 'abc', 'a5e', 'a6f', '123 a6c', 'a5b', 'a55b', 'a555b', 'a5555b',\n",
    "        'a55555b', 'a555555b', 'a5xb', '1/4', '3+2=5', 'def ghi', 'abc ab']\n",
    "\n",
    "for item in data:\n",
    "    m = re.search(r'..c', item)  # Match words with a space in between\n",
    "    if m:\n",
    "        print(m.group() + \" matched in '\" + item + \"'\")"
   ]
  },
  {
   "cell_type": "code",
   "execution_count": 42,
   "id": "0e487e19-9e6b-41fc-ab1c-4e034d938697",
   "metadata": {},
   "outputs": [
    {
     "name": "stdout",
     "output_type": "stream",
     "text": [
      "abc matched in 'abc'\n",
      "a6c matched in '123 a6c'\n"
     ]
    }
   ],
   "source": [
    "import re\n",
    "\n",
    "data = ['ab', 'abc', 'a5e', 'a6f', '123 a6c', 'a5b', 'a55b', 'a555b', 'a5555b',\n",
    "        'a55555b', 'a555555b', 'a5xb', '1/4', '3+2=5', 'def ghi', 'abc ab']\n",
    "\n",
    "for item in data:\n",
    "    m = re.search(r'..c$', item)  # Match words with a space in between\n",
    "    if m:\n",
    "        print(m.group() + \" matched in '\" + item + \"'\")"
   ]
  },
  {
   "cell_type": "code",
   "execution_count": 43,
   "id": "47e2990c-e1ae-4adf-a7e2-368278ace9a8",
   "metadata": {},
   "outputs": [
    {
     "name": "stdout",
     "output_type": "stream",
     "text": [
      "ab matched in 'ab'\n",
      "ab matched in 'abc ab'\n"
     ]
    }
   ],
   "source": [
    "import re\n",
    "\n",
    "data = ['ab', 'abc', 'a5e', 'a6f', '123 a6c', 'a5b', 'a55b', 'a555b', 'a5555b',\n",
    "        'a55555b', 'a555555b', 'a5xb', '1/4', '3+2=5', 'def ghi', 'abc ab']\n",
    "\n",
    "for item in data:\n",
    "    m = re.search(r'ab\\b', item)  # Match words with a space in between\n",
    "    if m:\n",
    "        print(m.group() + \" matched in '\" + item + \"'\")"
   ]
  },
  {
   "cell_type": "code",
   "execution_count": 44,
   "id": "b43053b9-4474-4316-b34c-8c2c0660cb26",
   "metadata": {},
   "outputs": [
    {
     "name": "stdout",
     "output_type": "stream",
     "text": [
      "ab matched in 'abc'\n",
      "ab matched in 'abc ab'\n"
     ]
    }
   ],
   "source": [
    "import re\n",
    "\n",
    "data = ['ab', 'abc', 'a5e', 'a6f', '123 a6c', 'a5b', 'a55b', 'a555b', 'a5555b',\n",
    "        'a55555b', 'a555555b', 'a5xb', '1/4', '3+2=5', 'def ghi', 'abc ab']\n",
    "\n",
    "for item in data:\n",
    "    m = re.search(r'ab\\B', item)  # Match words with a space in between\n",
    "    if m:\n",
    "        print(m.group() + \" matched in '\" + item + \"'\")"
   ]
  },
  {
   "cell_type": "code",
   "execution_count": null,
   "id": "d69ab0ab-55dc-4c92-a9a1-35f35b3f750a",
   "metadata": {},
   "outputs": [],
   "source": []
  },
  {
   "cell_type": "markdown",
   "id": "bcc2a0cc-466f-4b07-9531-ac6a6a586714",
   "metadata": {},
   "source": [
    "# Quatifiers\""
   ]
  },
  {
   "cell_type": "code",
   "execution_count": 45,
   "id": "0a1cc297-ce99-42e9-b868-8ce124268b6f",
   "metadata": {},
   "outputs": [
    {
     "name": "stdout",
     "output_type": "stream",
     "text": [
      "a5b matched in 'a5b'\n",
      "a55b matched in 'a55b'\n",
      "a555b matched in 'a555b'\n",
      "a5555b matched in 'a5555b'\n",
      "a55555b matched in 'a55555b'\n",
      "a555555b matched in 'a555555b'\n"
     ]
    }
   ],
   "source": [
    "for item in data:\n",
    "    m = re.search(r'a55*b', item)  # Match words with a space in between\n",
    "    if m:\n",
    "        print(m.group() + \" matched in '\" + item + \"'\")"
   ]
  },
  {
   "cell_type": "code",
   "execution_count": 46,
   "id": "7b10ef5e-abfe-4795-a6b9-cab0360d3fee",
   "metadata": {},
   "outputs": [
    {
     "name": "stdout",
     "output_type": "stream",
     "text": [
      "a5b matched in 'a5b'\n",
      "a55b matched in 'a55b'\n"
     ]
    }
   ],
   "source": [
    "for item in data:\n",
    "    m = re.search(r'a55?b', item)  # Match words with a space in between\n",
    "    if m:\n",
    "        print(m.group() + \" matched in '\" + item + \"'\")"
   ]
  },
  {
   "cell_type": "code",
   "execution_count": 48,
   "id": "49390967-7489-46c4-9056-3f5bc4fa6079",
   "metadata": {},
   "outputs": [
    {
     "name": "stdout",
     "output_type": "stream",
     "text": [
      "a55555b matched in 'a55555b'\n"
     ]
    }
   ],
   "source": [
    "for item in data:\n",
    "    m = re.search(r'a55{4}b', item)  # Match words with a space in between\n",
    "    if m:\n",
    "        print(m.group() + \" matched in '\" + item + \"'\")"
   ]
  },
  {
   "cell_type": "code",
   "execution_count": 49,
   "id": "ddb85c6f-9b66-4317-9413-0ac4f78a292d",
   "metadata": {},
   "outputs": [
    {
     "name": "stdout",
     "output_type": "stream",
     "text": [
      "a555b matched in 'a555b'\n",
      "a5555b matched in 'a5555b'\n",
      "a55555b matched in 'a55555b'\n"
     ]
    }
   ],
   "source": [
    "for item in data:\n",
    "    m = re.search(r'a55{2,4}b', item)  # Match words with a space in between\n",
    "    if m:\n",
    "        print(m.group() + \" matched in '\" + item + \"'\")"
   ]
  },
  {
   "cell_type": "code",
   "execution_count": 50,
   "id": "8e8c0c05-e682-4f6d-9ba3-7990c328d5c4",
   "metadata": {},
   "outputs": [
    {
     "ename": "error",
     "evalue": "multiple repeat at position 5",
     "output_type": "error",
     "traceback": [
      "\u001b[1;31m---------------------------------------------------------------------------\u001b[0m",
      "\u001b[1;31merror\u001b[0m                                     Traceback (most recent call last)",
      "Cell \u001b[1;32mIn[50], line 2\u001b[0m\n\u001b[0;32m      1\u001b[0m \u001b[38;5;28;01mfor\u001b[39;00m item \u001b[38;5;129;01min\u001b[39;00m data:\n\u001b[1;32m----> 2\u001b[0m     m \u001b[38;5;241m=\u001b[39m re\u001b[38;5;241m.\u001b[39msearch(\u001b[38;5;124mr\u001b[39m\u001b[38;5;124m'\u001b[39m\u001b[38;5;124ma\u001b[39m\u001b[38;5;132;01m{55}\u001b[39;00m\u001b[38;5;132;01m{2}\u001b[39;00m\u001b[38;5;124mb\u001b[39m\u001b[38;5;124m'\u001b[39m, item)  \u001b[38;5;66;03m# Match words with a space in between\u001b[39;00m\n\u001b[0;32m      3\u001b[0m     \u001b[38;5;28;01mif\u001b[39;00m m:\n\u001b[0;32m      4\u001b[0m         \u001b[38;5;28mprint\u001b[39m(m\u001b[38;5;241m.\u001b[39mgroup() \u001b[38;5;241m+\u001b[39m \u001b[38;5;124m\"\u001b[39m\u001b[38;5;124m matched in \u001b[39m\u001b[38;5;124m'\u001b[39m\u001b[38;5;124m\"\u001b[39m \u001b[38;5;241m+\u001b[39m item \u001b[38;5;241m+\u001b[39m \u001b[38;5;124m\"\u001b[39m\u001b[38;5;124m'\u001b[39m\u001b[38;5;124m\"\u001b[39m)\n",
      "File \u001b[1;32mC:\\ProgramData\\anaconda3\\Lib\\re\\__init__.py:177\u001b[0m, in \u001b[0;36msearch\u001b[1;34m(pattern, string, flags)\u001b[0m\n\u001b[0;32m    174\u001b[0m \u001b[38;5;28;01mdef\u001b[39;00m \u001b[38;5;21msearch\u001b[39m(pattern, string, flags\u001b[38;5;241m=\u001b[39m\u001b[38;5;241m0\u001b[39m):\n\u001b[0;32m    175\u001b[0m \u001b[38;5;250m    \u001b[39m\u001b[38;5;124;03m\"\"\"Scan through string looking for a match to the pattern, returning\u001b[39;00m\n\u001b[0;32m    176\u001b[0m \u001b[38;5;124;03m    a Match object, or None if no match was found.\"\"\"\u001b[39;00m\n\u001b[1;32m--> 177\u001b[0m     \u001b[38;5;28;01mreturn\u001b[39;00m _compile(pattern, flags)\u001b[38;5;241m.\u001b[39msearch(string)\n",
      "File \u001b[1;32mC:\\ProgramData\\anaconda3\\Lib\\re\\__init__.py:307\u001b[0m, in \u001b[0;36m_compile\u001b[1;34m(pattern, flags)\u001b[0m\n\u001b[0;32m    301\u001b[0m     \u001b[38;5;28;01mimport\u001b[39;00m \u001b[38;5;21;01mwarnings\u001b[39;00m\n\u001b[0;32m    302\u001b[0m     warnings\u001b[38;5;241m.\u001b[39mwarn(\u001b[38;5;124m\"\u001b[39m\u001b[38;5;124mThe re.TEMPLATE/re.T flag is deprecated \u001b[39m\u001b[38;5;124m\"\u001b[39m\n\u001b[0;32m    303\u001b[0m             \u001b[38;5;124m\"\u001b[39m\u001b[38;5;124mas it is an undocumented flag \u001b[39m\u001b[38;5;124m\"\u001b[39m\n\u001b[0;32m    304\u001b[0m             \u001b[38;5;124m\"\u001b[39m\u001b[38;5;124mwithout an obvious purpose. \u001b[39m\u001b[38;5;124m\"\u001b[39m\n\u001b[0;32m    305\u001b[0m             \u001b[38;5;124m\"\u001b[39m\u001b[38;5;124mDon\u001b[39m\u001b[38;5;124m'\u001b[39m\u001b[38;5;124mt use it.\u001b[39m\u001b[38;5;124m\"\u001b[39m,\n\u001b[0;32m    306\u001b[0m             \u001b[38;5;167;01mDeprecationWarning\u001b[39;00m)\n\u001b[1;32m--> 307\u001b[0m p \u001b[38;5;241m=\u001b[39m _compiler\u001b[38;5;241m.\u001b[39mcompile(pattern, flags)\n\u001b[0;32m    308\u001b[0m \u001b[38;5;28;01mif\u001b[39;00m flags \u001b[38;5;241m&\u001b[39m DEBUG:\n\u001b[0;32m    309\u001b[0m     \u001b[38;5;28;01mreturn\u001b[39;00m p\n",
      "File \u001b[1;32mC:\\ProgramData\\anaconda3\\Lib\\re\\_compiler.py:745\u001b[0m, in \u001b[0;36mcompile\u001b[1;34m(p, flags)\u001b[0m\n\u001b[0;32m    743\u001b[0m \u001b[38;5;28;01mif\u001b[39;00m isstring(p):\n\u001b[0;32m    744\u001b[0m     pattern \u001b[38;5;241m=\u001b[39m p\n\u001b[1;32m--> 745\u001b[0m     p \u001b[38;5;241m=\u001b[39m _parser\u001b[38;5;241m.\u001b[39mparse(p, flags)\n\u001b[0;32m    746\u001b[0m \u001b[38;5;28;01melse\u001b[39;00m:\n\u001b[0;32m    747\u001b[0m     pattern \u001b[38;5;241m=\u001b[39m \u001b[38;5;28;01mNone\u001b[39;00m\n",
      "File \u001b[1;32mC:\\ProgramData\\anaconda3\\Lib\\re\\_parser.py:979\u001b[0m, in \u001b[0;36mparse\u001b[1;34m(str, flags, state)\u001b[0m\n\u001b[0;32m    976\u001b[0m state\u001b[38;5;241m.\u001b[39mflags \u001b[38;5;241m=\u001b[39m flags\n\u001b[0;32m    977\u001b[0m state\u001b[38;5;241m.\u001b[39mstr \u001b[38;5;241m=\u001b[39m \u001b[38;5;28mstr\u001b[39m\n\u001b[1;32m--> 979\u001b[0m p \u001b[38;5;241m=\u001b[39m _parse_sub(source, state, flags \u001b[38;5;241m&\u001b[39m SRE_FLAG_VERBOSE, \u001b[38;5;241m0\u001b[39m)\n\u001b[0;32m    980\u001b[0m p\u001b[38;5;241m.\u001b[39mstate\u001b[38;5;241m.\u001b[39mflags \u001b[38;5;241m=\u001b[39m fix_flags(\u001b[38;5;28mstr\u001b[39m, p\u001b[38;5;241m.\u001b[39mstate\u001b[38;5;241m.\u001b[39mflags)\n\u001b[0;32m    982\u001b[0m \u001b[38;5;28;01mif\u001b[39;00m source\u001b[38;5;241m.\u001b[39mnext \u001b[38;5;129;01mis\u001b[39;00m \u001b[38;5;129;01mnot\u001b[39;00m \u001b[38;5;28;01mNone\u001b[39;00m:\n",
      "File \u001b[1;32mC:\\ProgramData\\anaconda3\\Lib\\re\\_parser.py:460\u001b[0m, in \u001b[0;36m_parse_sub\u001b[1;34m(source, state, verbose, nested)\u001b[0m\n\u001b[0;32m    458\u001b[0m start \u001b[38;5;241m=\u001b[39m source\u001b[38;5;241m.\u001b[39mtell()\n\u001b[0;32m    459\u001b[0m \u001b[38;5;28;01mwhile\u001b[39;00m \u001b[38;5;28;01mTrue\u001b[39;00m:\n\u001b[1;32m--> 460\u001b[0m     itemsappend(_parse(source, state, verbose, nested \u001b[38;5;241m+\u001b[39m \u001b[38;5;241m1\u001b[39m,\n\u001b[0;32m    461\u001b[0m                        \u001b[38;5;129;01mnot\u001b[39;00m nested \u001b[38;5;129;01mand\u001b[39;00m \u001b[38;5;129;01mnot\u001b[39;00m items))\n\u001b[0;32m    462\u001b[0m     \u001b[38;5;28;01mif\u001b[39;00m \u001b[38;5;129;01mnot\u001b[39;00m sourcematch(\u001b[38;5;124m\"\u001b[39m\u001b[38;5;124m|\u001b[39m\u001b[38;5;124m\"\u001b[39m):\n\u001b[0;32m    463\u001b[0m         \u001b[38;5;28;01mbreak\u001b[39;00m\n",
      "File \u001b[1;32mC:\\ProgramData\\anaconda3\\Lib\\re\\_parser.py:690\u001b[0m, in \u001b[0;36m_parse\u001b[1;34m(source, state, verbose, nested, first)\u001b[0m\n\u001b[0;32m    687\u001b[0m     \u001b[38;5;28;01mraise\u001b[39;00m source\u001b[38;5;241m.\u001b[39merror(\u001b[38;5;124m\"\u001b[39m\u001b[38;5;124mnothing to repeat\u001b[39m\u001b[38;5;124m\"\u001b[39m,\n\u001b[0;32m    688\u001b[0m                        source\u001b[38;5;241m.\u001b[39mtell() \u001b[38;5;241m-\u001b[39m here \u001b[38;5;241m+\u001b[39m \u001b[38;5;28mlen\u001b[39m(this))\n\u001b[0;32m    689\u001b[0m \u001b[38;5;28;01mif\u001b[39;00m item[\u001b[38;5;241m0\u001b[39m][\u001b[38;5;241m0\u001b[39m] \u001b[38;5;129;01min\u001b[39;00m _REPEATCODES:\n\u001b[1;32m--> 690\u001b[0m     \u001b[38;5;28;01mraise\u001b[39;00m source\u001b[38;5;241m.\u001b[39merror(\u001b[38;5;124m\"\u001b[39m\u001b[38;5;124mmultiple repeat\u001b[39m\u001b[38;5;124m\"\u001b[39m,\n\u001b[0;32m    691\u001b[0m                        source\u001b[38;5;241m.\u001b[39mtell() \u001b[38;5;241m-\u001b[39m here \u001b[38;5;241m+\u001b[39m \u001b[38;5;28mlen\u001b[39m(this))\n\u001b[0;32m    692\u001b[0m \u001b[38;5;28;01mif\u001b[39;00m item[\u001b[38;5;241m0\u001b[39m][\u001b[38;5;241m0\u001b[39m] \u001b[38;5;129;01mis\u001b[39;00m SUBPATTERN:\n\u001b[0;32m    693\u001b[0m     group, add_flags, del_flags, p \u001b[38;5;241m=\u001b[39m item[\u001b[38;5;241m0\u001b[39m][\u001b[38;5;241m1\u001b[39m]\n",
      "\u001b[1;31merror\u001b[0m: multiple repeat at position 5"
     ]
    }
   ],
   "source": [
    "for item in data:\n",
    "    m = re.search(r'a{55}{2}b', item)  # Match words with a space in between\n",
    "    if m:\n",
    "        print(m.group() + \" matched in '\" + item + \"'\")"
   ]
  },
  {
   "cell_type": "code",
   "execution_count": 52,
   "id": "bce03b99-2dee-494d-9962-ca791ecf91a4",
   "metadata": {},
   "outputs": [
    {
     "name": "stdout",
     "output_type": "stream",
     "text": [
      "a5555b matched in 'a5555b'\n"
     ]
    }
   ],
   "source": [
    "import re\n",
    "\n",
    "data = ['ab', 'abc', 'a5e', 'a6f', '123 a6c', 'a5b', 'a55b', 'a555b', 'a5555b',\n",
    "        'a55555b', 'a555555b', 'a5xb', '1/4', '3+2=5', 'def ghi', 'abc ab']\n",
    "\n",
    "for item in data:\n",
    "    m = re.search(r'a(55){2}b', item)  # Match 'a' followed by two '5's, then 'b'\n",
    "    if m:\n",
    "        print(m.group() + \" matched in '\" + item + \"'\")\n"
   ]
  },
  {
   "cell_type": "code",
   "execution_count": 53,
   "id": "8b2ed5aa-3ac3-494a-a0bb-49e4ddd72abf",
   "metadata": {},
   "outputs": [
    {
     "name": "stderr",
     "output_type": "stream",
     "text": [
      "<>:2: SyntaxWarning: invalid escape sequence '\\d'\n",
      "<>:2: SyntaxWarning: invalid escape sequence '\\d'\n",
      "C:\\Users\\292593\\AppData\\Local\\Temp\\ipykernel_28336\\2714374208.py:2: SyntaxWarning: invalid escape sequence '\\d'\n",
      "  pp=\"[(+91)(0)]?\\d{10}\"\n",
      "C:\\Users\\292593\\AppData\\Local\\Temp\\ipykernel_28336\\2714374208.py:2: SyntaxWarning: invalid escape sequence '\\d'\n",
      "  pp=\"[(+91)(0)]?\\d{10}\"\n"
     ]
    },
    {
     "ename": "AttributeError",
     "evalue": "'str' object has no attribute 'findall'",
     "output_type": "error",
     "traceback": [
      "\u001b[1;31m---------------------------------------------------------------------------\u001b[0m",
      "\u001b[1;31mAttributeError\u001b[0m                            Traceback (most recent call last)",
      "Cell \u001b[1;32mIn[53], line 3\u001b[0m\n\u001b[0;32m      1\u001b[0m text\u001b[38;5;241m=\u001b[39m \u001b[38;5;124m\"\u001b[39m\u001b[38;5;124mThere +9181568658261 and another sis 09495438261 9645102061 \u001b[39m\u001b[38;5;124m\"\u001b[39m\n\u001b[0;32m      2\u001b[0m pp\u001b[38;5;241m=\u001b[39m\u001b[38;5;124m\"\u001b[39m\u001b[38;5;124m[(+91)(0)]?\u001b[39m\u001b[38;5;124m\\\u001b[39m\u001b[38;5;124md\u001b[39m\u001b[38;5;132;01m{10}\u001b[39;00m\u001b[38;5;124m\"\u001b[39m\n\u001b[1;32m----> 3\u001b[0m t2\u001b[38;5;241m=\u001b[39mpp\u001b[38;5;241m.\u001b[39mfindall(text)\n\u001b[0;32m      4\u001b[0m \u001b[38;5;28mprint\u001b[39m(t2)\n",
      "\u001b[1;31mAttributeError\u001b[0m: 'str' object has no attribute 'findall'"
     ]
    }
   ],
   "source": [
    "text= \"There +9181568658261 and another sis 09495438261 9645102061 \"\n",
    "pp=\"[(+91)(0)]?\\d{10}\"\n",
    "t2=pp.findall(text)\n",
    "print(t2)"
   ]
  },
  {
   "cell_type": "code",
   "execution_count": 54,
   "id": "b1f9bcd8-3a5f-40c3-969b-d51663dd8ad5",
   "metadata": {},
   "outputs": [
    {
     "name": "stdout",
     "output_type": "stream",
     "text": [
      "['+91', '0', '']\n"
     ]
    }
   ],
   "source": [
    "import re  # Import re module\n",
    "\n",
    "text = \"There +9181568658261 and another sis 09495438261 9645102061 \"\n",
    "\n",
    "# Corrected regex pattern\n",
    "pp = r'(\\+91|0)?\\d{10}'\n",
    "\n",
    "# Use re.findall() instead of pp.findall()\n",
    "t2 = re.findall(pp, text)\n",
    "\n",
    "print(t2)\n"
   ]
  },
  {
   "cell_type": "markdown",
   "id": "a263f8e1-a3cf-468c-9145-1774f0c80796",
   "metadata": {},
   "source": [
    "# Lab session I"
   ]
  },
  {
   "cell_type": "raw",
   "id": "5e02720d-3ca9-40be-aa89-318cd1a9b2b9",
   "metadata": {},
   "source": [
    "\n",
    "Regular Expression Exercises in Python\n",
    " \n",
    "Extract Floating Point Numbers\n",
    "Text: \"This statement contains +1.234 floating -67.87 point 1.234 number\"\n",
    "Task: Write a regex to extract the floating-point number from the text including sign\n",
    " \n",
    "Find Email Addresses\n",
    "Text: \"Contact us at support@example.com for more details\"\n",
    "Task: Write a regex to extract the email address from the text.\n",
    " \n",
    "Extract Dates\n",
    "Text: \"Today's date is 2025-03-27\"\n",
    "Task: Write a regex to extract the date in YYYY-MM-DD format.\n",
    " \n",
    "Find Words with Double Letters\n",
    "Text: \"I saw a little kitten running across the street\"\n",
    "Task: Write a regex to extract words containing consecutive duplicate letters (e.g., little, kitten).\n",
    " \n",
    "Extract Phone Numbers\n",
    "Text: \"My phone numbers are (123) 456-7890 and 987-654-3210\"\n",
    "Task: Write a regex to extract both phone numbers.\n",
    " \n",
    "------------------------------------\n",
    " \n",
    "Find Hashtags in a Tweet\n",
    "Text: \"Loving the #Python and #AI vibes today!\"\n",
    "Task: Write a regex to extract all hashtags from the text.\n",
    " \n",
    "Extract Digits from a String\n",
    "Text: \"Order number: 98765, Confirmation code: 54321\"\n",
    "Task: Write a regex to extract all numerical values.\n",
    " \n",
    "Find Words Starting with a Capital Letter\n",
    "Text: \"Alice and Bob went to New York for a Conference\"\n",
    "Task: Write a regex to extract words that start with a capital letter.\n",
    " \n",
    "Extract Domain from URLs\n",
    "Text: \"Visit https://www.example.com or http://test.org for info\"\n",
    "Task: Write a regex to extract domain names from the URLs.\n",
    " \n",
    "Find Repeated Words\n",
    "Text: \"This is is a test test to find repeated repeated words\"\n",
    "Task: Write a regex to find repeated words appearing consecutively.\n",
    " \n",
    "----------------------------------------\n",
    " \n",
    "Extract Currency Values\n",
    "Text: \"The product costs $59.99 and the discount is €10.50\"\n",
    "Task: Write a regex to extract all currency values.\n",
    " \n",
    "Find HTML Tags\n",
    "Text: \"<div>Welcome</div> <p>This is a paragraph.</p>\"\n",
    "Task: Write a regex to extract all HTML tags.\n",
    " \n",
    "Validate IPv4 Addresses\n",
    "Text: \"Valid IP: 192.168.1.1, Invalid IP: 999.999.999.999\"\n",
    "Task: Write a regex to validate IPv4 addresses.\n",
    " \n",
    "Extract Words Ending with ‘ing’\n",
    "Text: \"Running, swimming, and playing are fun activities\"\n",
    "Task: Write a regex to extract words ending with ‘ing’.\n",
    " \n",
    "Find Sentences Ending with a Question Mark\n",
    "Text: \"Do you know the answer? Let's find out. Are you sure?\"\n",
    "Task: Write a regex to extract all sentences ending with ?.\n",
    " \n",
    "----------------------------------------------\n",
    " \n",
    "Extract Hex Color Codes\n",
    "Text: \"Background color is #FF5733 and text color is #00FF00\"\n",
    "Task: Write a regex to extract hex color codes.\n",
    " \n",
    "Extract Usernames from Twitter Handles\n",
    "Text: \"Follow us @ChatGPT and @OpenAI\"\n",
    "Task: Write a regex to extract usernames after @.\n",
    " \n",
    "Validate Strong Passwords\n",
    "Text: \"My password is Str0ngP@ss!\"\n",
    "Task: Write a regex to check if the password has at least 8 characters, including uppercase, lowercase, numbers, and special characters.\n",
    " \n",
    "Extract File Names from a Path\n",
    "Text: \"/home/user/documents/report.pdf and C:\\\\Users\\\\Admin\\\\file.txt\"\n",
    "Task: Write a regex to extract file names from paths.\n",
    " \n",
    "Find Three Consecutive Vowels\n",
    "Text: \"Beautiful ocean scenery is amazing\"\n",
    "Task: Write a regex to find words containing three consecutive vowels."
   ]
  },
  {
   "cell_type": "raw",
   "id": "db93e486-289c-421d-864a-33a4db0a5fe3",
   "metadata": {},
   "source": [
    "Extract Floating Point Numbers\n",
    "Text: \"This statement contains +1.234 floating -67.87 point 1.234 number\"\n",
    "Task: Write a regex to extract the floating-point number from the text including sign"
   ]
  },
  {
   "cell_type": "code",
   "execution_count": 56,
   "id": "3bfea698-c1e4-470a-afeb-555028a44959",
   "metadata": {},
   "outputs": [],
   "source": [
    "import re "
   ]
  },
  {
   "cell_type": "raw",
   "id": "05056daa-6bde-44f3-9330-826a5b7abab0",
   "metadata": {},
   "source": [
    "Text: \"C\"\n",
    "r=\"\\[(+)(-)]?\\d\"\n",
    "matches =re.findall(r,text)\n",
    "print(matches)"
   ]
  },
  {
   "cell_type": "code",
   "execution_count": 60,
   "id": "9449cf00-3784-43d6-bdc8-4a28877c1a65",
   "metadata": {},
   "outputs": [
    {
     "name": "stdout",
     "output_type": "stream",
     "text": [
      "['+1.234 ', '-67.87 ', '1.234 ']\n"
     ]
    }
   ],
   "source": [
    "import re\n",
    "\n",
    "text = \"This statement contains +1.234 floating -67.87 point 1.234 number\"\n",
    "\n",
    "pattern = r\"\\+?\\-?\\d+\\.\\d+ \"\n",
    "matches = re.findall(pattern, text)\n",
    "\n",
    "print(matches)\n"
   ]
  },
  {
   "cell_type": "markdown",
   "id": "2f28051c-4a91-48dc-b78f-9e84358a3cb3",
   "metadata": {},
   "source": [
    "# Q2"
   ]
  },
  {
   "cell_type": "raw",
   "id": "21e5e1ee-74b8-4a08-8d09-9f3907ca9d4b",
   "metadata": {},
   "source": [
    "Find Email Addresses\n",
    "Text: \"Contact us at support@example.com for more details\"\n",
    "Task: Write a regex to extract the email address from the text."
   ]
  },
  {
   "cell_type": "code",
   "execution_count": 61,
   "id": "1aa62672-946a-4711-8383-cd35759a9f42",
   "metadata": {},
   "outputs": [
    {
     "name": "stdout",
     "output_type": "stream",
     "text": [
      "['support@example.com']\n"
     ]
    }
   ],
   "source": [
    "import re\n",
    "\n",
    "text = \"Contact us at support@example.com for more details\"\n",
    "\n",
    "# Email regex pattern\n",
    "pattern = r\"[a-zA-Z0-9._%+-]+@[a-zA-Z0-9.-]+\\.[a-zA-Z]{2,}\"\n",
    "\n",
    "# Find all email addresses\n",
    "emails = re.findall(pattern, text)\n",
    "\n",
    "print(emails)\n"
   ]
  },
  {
   "cell_type": "raw",
   "id": "bc01ec52-a104-4c4f-b23f-fc867b489f64",
   "metadata": {},
   "source": [
    "Extract Dates\n",
    "Text: \"Today's date is 2025-03-27\"\n",
    "Task: Write a regex to extract the date in YYYY-MM-DD format."
   ]
  },
  {
   "cell_type": "code",
   "execution_count": null,
   "id": "60670550-837f-48f0-a6f7-f88234173510",
   "metadata": {},
   "outputs": [],
   "source": []
  },
  {
   "cell_type": "raw",
   "id": "e33c4681-045a-4f01-80b9-c82bba18f680",
   "metadata": {},
   "source": [
    "Explanation of the Regex\n",
    "Regex Part\tMeaning\n",
    "\\d{4}\tMatches 4-digit year (e.g., 2025)\n",
    "-\tMatches the hyphen - separator\n",
    "\\d{2}\tMatches 2-digit month (e.g., 03 for March)\n",
    "-\tMatches the hyphen - separator\n",
    "\\d{2}\tMatches 2-digit day (e.g., 27)"
   ]
  },
  {
   "cell_type": "code",
   "execution_count": 62,
   "id": "03eacd76-ed3c-4cc2-b688-d2be2ea329b1",
   "metadata": {},
   "outputs": [
    {
     "name": "stdout",
     "output_type": "stream",
     "text": [
      "['2025-03-27']\n"
     ]
    }
   ],
   "source": [
    "import re\n",
    "\n",
    "text = \"Today's date is 2025-03-27\"\n",
    "\n",
    "# Date regex pattern\n",
    "pattern = r\"\\d{4}-\\d{2}-\\d{2}\"\n",
    "\n",
    "# Find all dates\n",
    "dates = re.findall(pattern, text)\n",
    "\n",
    "print(dates)\n"
   ]
  },
  {
   "cell_type": "code",
   "execution_count": null,
   "id": "d7288b07-3d5b-4293-b939-bf007021b70e",
   "metadata": {},
   "outputs": [],
   "source": []
  },
  {
   "cell_type": "raw",
   "id": "aa8d16c0-8d55-4dcd-9685-efafae205aac",
   "metadata": {},
   "source": [
    "Find Words with Double Letters\n",
    "Text: \"I saw a little kitten running across the street\"\n",
    "Task: Write a regex to extract words containing consecutive duplicate letters (e.g., little, kitten)."
   ]
  },
  {
   "cell_type": "code",
   "execution_count": 63,
   "id": "77292b65-684d-426f-a514-b622000f95c1",
   "metadata": {},
   "outputs": [
    {
     "name": "stdout",
     "output_type": "stream",
     "text": [
      "['t', 't', 'n', 's', 'e']\n"
     ]
    }
   ],
   "source": [
    "import re\n",
    "\n",
    "text = \"I saw a little kitten running across the street\"\n",
    "\n",
    "# Regex pattern with backreferencing\n",
    "pattern = r\"\\b\\w*(\\w)\\1\\w*\\b\"\n",
    "\n",
    "# Find all matching words\n",
    "matches = re.findall(pattern, text)\n",
    "\n",
    "print(matches)\n"
   ]
  },
  {
   "cell_type": "code",
   "execution_count": 70,
   "id": "9d402298-f122-40bc-ac5f-ada151cf0344",
   "metadata": {},
   "outputs": [
    {
     "name": "stdout",
     "output_type": "stream",
     "text": [
      "['t', 't', 'n', 's', 'e']\n"
     ]
    }
   ],
   "source": [
    "import re\n",
    "\n",
    "text = \"I saw a little kitten running across the street\"\n",
    "\n",
    "# Regex pattern with backreferencing\n",
    "pattern = r\"\\b\\w*(\\w)\\1\\w*\\b\"\n",
    "\n",
    "# Find all matching words\n",
    "matches = re.findall(pattern, text)\n",
    "s=\" \".join(matches)\n",
    "print(matches)\n",
    "#print(s)\n"
   ]
  },
  {
   "cell_type": "code",
   "execution_count": 73,
   "id": "26c348dd-adce-438f-915b-b37956a218c6",
   "metadata": {},
   "outputs": [
    {
     "name": "stdout",
     "output_type": "stream",
     "text": [
      "<callable_iterator object at 0x0000020673F95FC0>\n"
     ]
    }
   ],
   "source": [
    "import re\n",
    "\n",
    "text = \"I saw a little kitten running across the street\"\n",
    "\n",
    "# Regex pattern with backreferencing\n",
    "pattern = r\"\\b\\w*(\\w)\\1\\w*\\b\"\n",
    "match = re.search(pattern, text)\n",
    "\n",
    "# Find all matching words\n",
    "#matches = [m.group() for m in re.finditer(pattern, text)]\n",
    "if match:\n",
    "    print(re.finditer(pattern,text))\n",
    "#print(matches)\n"
   ]
  },
  {
   "cell_type": "code",
   "execution_count": 74,
   "id": "632113b6-f05a-480a-808d-18857974d84b",
   "metadata": {},
   "outputs": [
    {
     "name": "stdout",
     "output_type": "stream",
     "text": [
      "little\n",
      "kitten\n",
      "running\n",
      "across\n",
      "street\n"
     ]
    }
   ],
   "source": [
    "import re\n",
    "\n",
    "text = \"I saw a little kitten running across the street\"\n",
    "pattern = r\"\\b\\w*(\\w)\\1\\w*\\b\"  # Matches words with double letters\n",
    "\n",
    "# Using re.finditer()\n",
    "matches = re.finditer(pattern, text)\n",
    "\n",
    "for match in matches:\n",
    "    print(match.group())  # Prints the full word\n"
   ]
  },
  {
   "cell_type": "code",
   "execution_count": 75,
   "id": "748b5ba6-8163-4358-bd4a-4dd5155d9baf",
   "metadata": {},
   "outputs": [
    {
     "name": "stdout",
     "output_type": "stream",
     "text": [
      "Match: little, Start: 8, End: 14\n",
      "Match: kitten, Start: 15, End: 21\n",
      "Match: running, Start: 22, End: 29\n",
      "Match: across, Start: 30, End: 36\n",
      "Match: street, Start: 41, End: 47\n"
     ]
    }
   ],
   "source": [
    "import re\n",
    "\n",
    "text = \"I saw a little kitten running across the street\"\n",
    "pattern = r\"\\b\\w*(\\w)\\1\\w*\\b\"  # Matches words with double letters\n",
    "\n",
    "# Using re.finditer()\n",
    "matches = re.finditer(pattern, text)\n",
    "\n",
    "for match in matches:\n",
    "    print(f\"Match: {match.group()}, Start: {match.start()}, End: {match.end()}\")\n"
   ]
  },
  {
   "cell_type": "raw",
   "id": "cf5a78d3-21dc-4dd5-971a-0d01d75823f9",
   "metadata": {},
   "source": [
    "Text: \"My phone numbers are (123) 456-7890 and 987-654-3210\"\n",
    "Task: Write a regex to extract both phone numbers."
   ]
  },
  {
   "cell_type": "code",
   "execution_count": 76,
   "id": "1a077723-fa22-407b-ad8f-449f0ffe9581",
   "metadata": {},
   "outputs": [
    {
     "name": "stdout",
     "output_type": "stream",
     "text": [
      "['(123) 456-7890', '987-654-3210']\n"
     ]
    }
   ],
   "source": [
    "import re\n",
    "\n",
    "text = \"My phone numbers are (123) 456-7890 and 987-654-3210\"\n",
    "\n",
    "# Regex pattern\n",
    "pattern = r\"\\(?\\d{3}\\)?[-\\s]?\\d{3}[-\\s]?\\d{4}\"\n",
    "\n",
    "# Find all matches\n",
    "matches = re.findall(pattern, text)\n",
    "\n",
    "print(matches)\n",
    "\n"
   ]
  },
  {
   "cell_type": "code",
   "execution_count": 77,
   "id": "7b5784cb-1384-4f3f-a835-01963dcef3d5",
   "metadata": {},
   "outputs": [
    {
     "name": "stdout",
     "output_type": "stream",
     "text": [
      "(123) 456-7890\n",
      "987-654-3210\n"
     ]
    }
   ],
   "source": [
    "import re\n",
    "\n",
    "text = \"My phone numbers are (123) 456-7890 and 987-654-3210\"\n",
    "\n",
    "# Regex pattern\n",
    "pattern = r\"\\(?\\d{3}\\)?[-\\s]?\\d{3}[-\\s]?\\d{4}\"\n",
    "\n",
    "# Find all matches\n",
    "matches = re.findall(pattern, text)\n",
    "\n",
    "# Print each phone number separately\n",
    "for match in matches:\n",
    "    print(match)\n"
   ]
  },
  {
   "cell_type": "code",
   "execution_count": null,
   "id": "13958147-58a0-4918-97cf-83a1f4211de6",
   "metadata": {},
   "outputs": [],
   "source": []
  },
  {
   "cell_type": "code",
   "execution_count": null,
   "id": "736531e7-2c2e-433f-8133-c0ec65d3e9e7",
   "metadata": {},
   "outputs": [],
   "source": []
  },
  {
   "cell_type": "raw",
   "id": "9f8a9420-20a3-47af-8d9c-4ba26c251bc4",
   "metadata": {},
   "source": [
    "Text: \"Loving the #Python and #AI vibes today!\"\n",
    "Task: Write a regex to extract all hashtags from the text."
   ]
  },
  {
   "cell_type": "code",
   "execution_count": 79,
   "id": "14a4393f-a4a6-4a6c-b9d6-dd8c16564bdd",
   "metadata": {},
   "outputs": [
    {
     "name": "stdout",
     "output_type": "stream",
     "text": [
      "#Python\n",
      "#AI\n"
     ]
    }
   ],
   "source": [
    "import re\n",
    "\n",
    "text = \"Loving the #Python and #AI vibes today!\"\n",
    "\n",
    "# Regex pattern to match hashtags\n",
    "pattern = r\"#\\w+\"\n",
    "\n",
    "# Find all matches\n",
    "matches = re.findall(pattern, text)\n",
    "\n",
    "# Print hashtags as a single string (not a list)\n",
    "for match in matches:\n",
    "    print(match)"
   ]
  },
  {
   "cell_type": "code",
   "execution_count": 80,
   "id": "5a2aeabd-916f-4a4c-8fe7-1cda65d12da6",
   "metadata": {},
   "outputs": [
    {
     "name": "stdout",
     "output_type": "stream",
     "text": [
      "#Python #AI\n"
     ]
    }
   ],
   "source": [
    "import re\n",
    "\n",
    "text = \"Loving the #Python and #AI vibes today!\"\n",
    "\n",
    "# Regex pattern to match hashtags\n",
    "pattern = r\"#\\w+\"\n",
    "\n",
    "# Find all matches\n",
    "matches = re.findall(pattern, text)\n",
    "\n",
    "# Print hashtags side by side\n",
    "print(\" \".join(matches))\n"
   ]
  },
  {
   "cell_type": "raw",
   "id": "b90e845b-9707-46c6-9c58-4f319412885d",
   "metadata": {},
   "source": [
    "Extract Hex Color Codes\n",
    "Text: \"Background color is #FF5733 and text color is #00FF00\"\n",
    "Task: Write a regex to extract hex color codes."
   ]
  },
  {
   "cell_type": "code",
   "execution_count": 81,
   "id": "053e9369-ee98-452c-ad6b-3272450fd496",
   "metadata": {},
   "outputs": [
    {
     "name": "stdout",
     "output_type": "stream",
     "text": [
      "#FF5733 #00FF00\n"
     ]
    }
   ],
   "source": [
    "import re\n",
    "\n",
    "text = \"Background color is #FF5733 and text color is #00FF00\"\n",
    "\n",
    "# Regex pattern to match hex color codes\n",
    "pattern = r\"#(?:[A-Fa-f0-9]{6}|[A-Fa-f0-9]{3})\"\n",
    "\n",
    "# Find all matches\n",
    "matches = re.findall(pattern, text)\n",
    "\n",
    "# Print hex codes side by side\n",
    "print(\" \".join(matches))\n"
   ]
  },
  {
   "cell_type": "raw",
   "id": "ccafe804-0d7e-4732-8d25-bdc44b24544e",
   "metadata": {},
   "source": [
    "Q:Extract Digits from a String\n",
    "Text: \"Order number: 98765, Confirmation code: 54321\"\n",
    "Task: Write a regex to extract all numerical values.\n"
   ]
  },
  {
   "cell_type": "code",
   "execution_count": 82,
   "id": "fdd66f86-17ca-4861-a7d5-a9d698457884",
   "metadata": {},
   "outputs": [
    {
     "name": "stdout",
     "output_type": "stream",
     "text": [
      "98765 54321\n"
     ]
    }
   ],
   "source": [
    "import re\n",
    "\n",
    "text = \"Order number: 98765, Confirmation code: 54321\"\n",
    "\n",
    "# Regex pattern to match numerical values\n",
    "pattern = r\"\\d+\"\n",
    "\n",
    "# Find all matches\n",
    "matches = re.findall(pattern, text)\n",
    "\n",
    "# Print numbers side by side\n",
    "print(\" \".join(matches))\n"
   ]
  },
  {
   "cell_type": "raw",
   "id": "c5f4983a-55ce-432e-b7c6-122cc8d88bf1",
   "metadata": {},
   "source": [
    "Find Words Starting with a Capital Letter\n",
    "Text: \"Alice and Bob went to New York for a Conference\"\n",
    "Task: Write a regex to extract words that start with a capital letter.\n"
   ]
  },
  {
   "cell_type": "code",
   "execution_count": 90,
   "id": "af12d5de-1f2d-4260-92ae-47eb41c7fbd1",
   "metadata": {},
   "outputs": [
    {
     "name": "stdout",
     "output_type": "stream",
     "text": [
      "Alice Bob New York Conference\n"
     ]
    }
   ],
   "source": [
    "import re\n",
    "\n",
    "text = \"Alice and Bob went to New York for a Conference\"\n",
    "\n",
    "# Regex pattern to match words starting with a capital letter\n",
    "p1=r\"\\b[A-z][a-z]*\"\n",
    "p2 = r\"\\b[A-Z][a-z]*\"\n",
    "\n",
    "# Find all matches\n",
    "matches = re.findall(p2, text)\n",
    "\n",
    "# Print words side by side\n",
    "print(\" \".join(matches))\n"
   ]
  },
  {
   "cell_type": "raw",
   "id": "32271fbd-07e4-40c4-adee-bb43b3d2f10a",
   "metadata": {},
   "source": []
  },
  {
   "cell_type": "raw",
   "id": "31c1b8b4-b8e9-44d5-98ef-a3378b33705d",
   "metadata": {},
   "source": [
    "Extract Domain from URLs\n",
    "Text: \"Visit https://www.example.com or http://test.org for info\"\n",
    "Task: Write a regex to extract domain names from the URLs.\n"
   ]
  },
  {
   "cell_type": "code",
   "execution_count": 91,
   "id": "d0bd06b2-0979-40ed-a462-891f2fdd81a4",
   "metadata": {},
   "outputs": [
    {
     "name": "stdout",
     "output_type": "stream",
     "text": [
      "example.com test.org\n"
     ]
    }
   ],
   "source": [
    "import re\n",
    "\n",
    "text = \"Visit https://www.example.com or http://test.org for info\"\n",
    "\n",
    "# Regex pattern to match domain names\n",
    "pattern = r\"https?://(?:www\\.)?([a-zA-Z0-9.-]+)\"\n",
    "\n",
    "# Find all matches\n",
    "matches = re.findall(pattern, text)\n",
    "\n",
    "# Print domains side by side\n",
    "print(\" \".join(matches))\n"
   ]
  },
  {
   "cell_type": "raw",
   "id": "d6713d15-083e-4fce-b9e3-eaca59b4fe5e",
   "metadata": {},
   "source": [
    "Find Repeated Words\n",
    "Text: \"This is is a test test to find repeated repeated words\"\n",
    "Task: Write a regex to find repeated words appearing consecutively.\n"
   ]
  },
  {
   "cell_type": "code",
   "execution_count": 92,
   "id": "94599aa3-5639-4025-96ed-c3d4673a1ed6",
   "metadata": {},
   "outputs": [
    {
     "name": "stdout",
     "output_type": "stream",
     "text": [
      "is test repeated\n"
     ]
    }
   ],
   "source": [
    "import re\n",
    "\n",
    "text = \"This is is a test test to find repeated repeated words\"\n",
    "\n",
    "# Regex pattern to match consecutive repeated words\n",
    "pattern = r\"\\b(\\w+)\\s+\\1\\b\"\n",
    "\n",
    "# Find all matches\n",
    "matches = re.findall(pattern, text)\n",
    "\n",
    "# Print repeated words\n",
    "print(\" \".join(matches))\n"
   ]
  },
  {
   "cell_type": "raw",
   "id": "d8541e69-0c87-4769-8699-426b71ad0beb",
   "metadata": {},
   "source": [
    "Extract Currency Values\n",
    "Text: \"The product costs $59.99 and the discount is €10.50\"\n",
    "Task: Write a regex to extract all currency values.\n",
    "\n",
    "\n"
   ]
  },
  {
   "cell_type": "code",
   "execution_count": null,
   "id": "e5ad9e5e-2af4-44b3-addb-fb5fbc748ffe",
   "metadata": {},
   "outputs": [],
   "source": []
  },
  {
   "cell_type": "code",
   "execution_count": null,
   "id": "220127f0-c6ab-4fa2-9e08-7499868c587f",
   "metadata": {},
   "outputs": [],
   "source": []
  },
  {
   "cell_type": "raw",
   "id": "0a806f68-5ccd-4ba1-8124-01e1109c56e4",
   "metadata": {},
   "source": [
    "Extract Currency Values\n",
    "Text: \"The product costs $59.99 and the discount is €10.50\"\n",
    "Task: Write a regex to extract all currency values.\n",
    "\n"
   ]
  },
  {
   "cell_type": "code",
   "execution_count": 93,
   "id": "325edee9-95cb-4a94-9797-0592d0cf0954",
   "metadata": {},
   "outputs": [
    {
     "name": "stdout",
     "output_type": "stream",
     "text": [
      "$59.99 €10.50\n"
     ]
    }
   ],
   "source": [
    "import re\n",
    "\n",
    "text = \"The product costs $59.99 and the discount is €10.50\"\n",
    "\n",
    "# Regex pattern to match currency values\n",
    "pattern = r\"(?:\\$|€|£)\\d+(?:\\.\\d{2})?\"\n",
    "\n",
    "# Find all matches\n",
    "matches = re.findall(pattern, text)\n",
    "\n",
    "# Print currency values side by side\n",
    "print(\" \".join(matches))\n"
   ]
  },
  {
   "cell_type": "code",
   "execution_count": null,
   "id": "3d5f965a-fcaa-4c19-989b-c04670e04612",
   "metadata": {},
   "outputs": [],
   "source": []
  },
  {
   "cell_type": "raw",
   "id": "2ef7614c-0d0d-4763-8e3c-9b57f101d275",
   "metadata": {},
   "source": [
    "validate ip4 address"
   ]
  },
  {
   "cell_type": "code",
   "execution_count": 94,
   "id": "6a3ebef9-5c9c-4520-9bf7-82fe3e207267",
   "metadata": {},
   "outputs": [
    {
     "name": "stdout",
     "output_type": "stream",
     "text": [
      "192.168.1.1\n"
     ]
    }
   ],
   "source": [
    "import re\n",
    "\n",
    "text = \"Valid IP: 192.168.1.1, Invalid IP: 999.999.999.999\"\n",
    "\n",
    "# Regex pattern to match valid IPv4 addresses\n",
    "pattern = r\"\\b(25[0-5]|2[0-4][0-9]|1?[0-9][0-9]?)\\.(25[0-5]|2[0-4][0-9]|1?[0-9][0-9]?)\\.(25[0-5]|2[0-4][0-9]|1?[0-9][0-9]?)\\.(25[0-5]|2[0-4][0-9]|1?[0-9][0-9]?)\\b\"\n",
    "\n",
    "# Find all valid IP addresses\n",
    "matches = re.findall(pattern, text)\n",
    "\n",
    "# Format the valid IP addresses correctly\n",
    "valid_ips = [\".\".join(match) for match in matches]\n",
    "\n",
    "# Print valid IPs\n",
    "print(\" \".join(valid_ips))\n"
   ]
  },
  {
   "cell_type": "raw",
   "id": "be7b146e-623a-4a52-a5f3-434f89f05234",
   "metadata": {},
   "source": [
    "Find HTML Tags\n",
    "Text: \"<div>Welcome</div> <p>This is a paragraph.</p>\"\n",
    "Task: Write a regex to extract all HTML tags.\n"
   ]
  },
  {
   "cell_type": "code",
   "execution_count": 95,
   "id": "dc86328d-ab30-4e41-be46-f53e1494f932",
   "metadata": {},
   "outputs": [
    {
     "name": "stdout",
     "output_type": "stream",
     "text": [
      "<div> </div> <p> </p>\n"
     ]
    }
   ],
   "source": [
    "import re\n",
    "\n",
    "text = \"<div>Welcome</div> <p>This is a paragraph.</p>\"\n",
    "\n",
    "# Correct regex pattern for HTML tags\n",
    "pattern = r\"</?\\w+>\"\n",
    "\n",
    "# Find all matches\n",
    "matches = re.findall(pattern, text)\n",
    "\n",
    "# Print extracted tags\n",
    "print(\" \".join(matches))\n"
   ]
  },
  {
   "cell_type": "code",
   "execution_count": null,
   "id": "04a37483-13da-463d-800d-6b93d6cb02f2",
   "metadata": {},
   "outputs": [],
   "source": []
  }
 ],
 "metadata": {
  "kernelspec": {
   "display_name": "Python 3 (ipykernel)",
   "language": "python",
   "name": "python3"
  },
  "language_info": {
   "codemirror_mode": {
    "name": "ipython",
    "version": 3
   },
   "file_extension": ".py",
   "mimetype": "text/x-python",
   "name": "python",
   "nbconvert_exporter": "python",
   "pygments_lexer": "ipython3",
   "version": "3.12.4"
  }
 },
 "nbformat": 4,
 "nbformat_minor": 5
}
