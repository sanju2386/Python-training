{
 "cells": [
  {
   "cell_type": "markdown",
   "id": "70950176-1912-4589-bf2c-ca82a890c81d",
   "metadata": {},
   "source": [
    "# File"
   ]
  },
  {
   "cell_type": "raw",
   "id": "09bbc6b4-5da3-4f89-a047-6955a7d41ce3",
   "metadata": {},
   "source": [
    "Opening and closing files :\n",
    "open() ,close()\n",
    "MOdes : r,w,a(append), b(binary mode used when file is broken in bit during Network Phase)\n",
    "reading: read(),readline(),readlines()\n",
    "writing: write(), writelines()\n",
    "other functions: seek() ,tell()\n",
    "attributes :\n",
    "f.mode, f.name, f.closed, f.encoding ,f.newlines"
   ]
  },
  {
   "cell_type": "markdown",
   "id": "1eb7f642-9613-4214-bd5d-a3ef75cd163b",
   "metadata": {},
   "source": [
    "# Reading from a file"
   ]
  },
  {
   "cell_type": "code",
   "execution_count": 8,
   "id": "f9c00727-0293-41eb-bf18-d80eae0ace3a",
   "metadata": {},
   "outputs": [],
   "source": [
    "path = r\"C:\\Users\\292593\\Desktop\\master\\python training\\Git_repo\\ust-python-2025\\day-06\\class-assignments.txt\""
   ]
  },
  {
   "cell_type": "code",
   "execution_count": 9,
   "id": "6b2803c7-def8-4e08-8f7a-ff13ecfb5070",
   "metadata": {},
   "outputs": [],
   "source": [
    "f=open(path,'r')\n"
   ]
  },
  {
   "cell_type": "code",
   "execution_count": 11,
   "id": "27701714-4d86-4110-9389-fceadd9d47a8",
   "metadata": {},
   "outputs": [
    {
     "data": {
      "text/plain": [
       "'r'"
      ]
     },
     "execution_count": 11,
     "metadata": {},
     "output_type": "execute_result"
    }
   ],
   "source": [
    "f.mode"
   ]
  },
  {
   "cell_type": "code",
   "execution_count": 12,
   "id": "5583b36d-b1ab-4845-9a70-a46807a664d6",
   "metadata": {},
   "outputs": [
    {
     "data": {
      "text/plain": [
       "'cp1252'"
      ]
     },
     "execution_count": 12,
     "metadata": {},
     "output_type": "execute_result"
    }
   ],
   "source": [
    "f.encoding"
   ]
  },
  {
   "cell_type": "code",
   "execution_count": 13,
   "id": "6f7beab4-e17a-4e12-a1cf-26a2509a89c0",
   "metadata": {},
   "outputs": [
    {
     "data": {
      "text/plain": [
       "'C:\\\\Users\\\\292593\\\\Desktop\\\\master\\\\python training\\\\Git_repo\\\\ust-python-2025\\\\day-06\\\\class-assignments.txt'"
      ]
     },
     "execution_count": 13,
     "metadata": {},
     "output_type": "execute_result"
    }
   ],
   "source": [
    "f.name"
   ]
  },
  {
   "cell_type": "code",
   "execution_count": 14,
   "id": "803d6c0f-d0a9-4ca5-bde7-e2afe069f981",
   "metadata": {},
   "outputs": [],
   "source": [
    "data=f.read()"
   ]
  },
  {
   "cell_type": "code",
   "execution_count": 15,
   "id": "b0c535d3-b158-4aad-9832-c2423d056e7d",
   "metadata": {},
   "outputs": [
    {
     "name": "stdout",
     "output_type": "stream",
     "text": [
      "\n",
      "Warm-up:\n",
      "---------------------------------------------------------------------------------------------------------\n",
      "1. Design the guess my number game\n",
      "\n",
      "\n",
      "Session 1: [45]\n",
      "---------------------------------------------------------------------------------------------------------\n",
      "1. Create a module called strops\n",
      "2. Create a function to get the span of substrings\n",
      "3. Create a setup file \n",
      "4. Test in a virtual environment\n",
      "    4.1 Install the module in virtual environment\n",
      "    4.2 Create a program to input a string and substring. Diplay the span of the substrings\n",
      "\n",
      "\n",
      "Session 2: \n",
      "---------------------------------------------------------------------------------------------------------\n",
      "\n",
      "\n",
      "Session 3:\n",
      "---------------------------------------------------------------------------------------------------------\n",
      "1. Design a Word Jumble Game and implement in python\n",
      "   The game should consist of atleast 10 words to begin with\n",
      "    Jumbled Word: \"otpcomure\"\n",
      "    Your Guess: \"computer\"\n",
      "    âœ… Correct! \n",
      "\n",
      "    Note: Use Unicode charecter to print the tick marks\n",
      "    Example: print(\"\\U00002705 Correct!\")\n"
     ]
    }
   ],
   "source": [
    "print(data)"
   ]
  },
  {
   "cell_type": "code",
   "execution_count": 16,
   "id": "08c73a45-815a-4556-8a67-502a7e6ac646",
   "metadata": {},
   "outputs": [],
   "source": [
    "d=f.readline()"
   ]
  },
  {
   "cell_type": "code",
   "execution_count": 17,
   "id": "c5dc6aaa-b3db-434f-a1ed-d9f472f1f94b",
   "metadata": {},
   "outputs": [
    {
     "data": {
      "text/plain": [
       "''"
      ]
     },
     "execution_count": 17,
     "metadata": {},
     "output_type": "execute_result"
    }
   ],
   "source": [
    "d"
   ]
  },
  {
   "cell_type": "raw",
   "id": "a07cbfb6-e549-46af-84c9-b724f73fdbfc",
   "metadata": {},
   "source": [
    "Above output is empty bcoz ,we  allready readup so it came empty"
   ]
  },
  {
   "cell_type": "code",
   "execution_count": 18,
   "id": "0f3ce083-fb46-4b04-a9b2-e14444ea582e",
   "metadata": {},
   "outputs": [
    {
     "data": {
      "text/plain": [
       "1113"
      ]
     },
     "execution_count": 18,
     "metadata": {},
     "output_type": "execute_result"
    }
   ],
   "source": [
    "f.tell()"
   ]
  },
  {
   "cell_type": "code",
   "execution_count": 19,
   "id": "e69074fe-b2d8-4b58-a620-2153f8ebeee2",
   "metadata": {},
   "outputs": [
    {
     "data": {
      "text/plain": [
       "1084"
      ]
     },
     "execution_count": 19,
     "metadata": {},
     "output_type": "execute_result"
    }
   ],
   "source": [
    "len(data)"
   ]
  },
  {
   "cell_type": "code",
   "execution_count": 20,
   "id": "0f9cb44f-3300-4057-a850-ace710897ed3",
   "metadata": {},
   "outputs": [
    {
     "data": {
      "text/plain": [
       "0"
      ]
     },
     "execution_count": 20,
     "metadata": {},
     "output_type": "execute_result"
    }
   ],
   "source": [
    "f.seek(0)"
   ]
  },
  {
   "cell_type": "code",
   "execution_count": 21,
   "id": "10f7c971-e95f-4468-8f96-adc5f523a43f",
   "metadata": {},
   "outputs": [
    {
     "data": {
      "text/plain": [
       "'\\n'"
      ]
     },
     "execution_count": 21,
     "metadata": {},
     "output_type": "execute_result"
    }
   ],
   "source": [
    "f.readline()"
   ]
  },
  {
   "cell_type": "code",
   "execution_count": 22,
   "id": "26304c7d-9706-4c33-b27e-1421bb5c18be",
   "metadata": {},
   "outputs": [
    {
     "data": {
      "text/plain": [
       "'Warm-up:\\n'"
      ]
     },
     "execution_count": 22,
     "metadata": {},
     "output_type": "execute_result"
    }
   ],
   "source": [
    "f.readline()"
   ]
  },
  {
   "cell_type": "code",
   "execution_count": 23,
   "id": "9a078654-9d12-4b28-982d-288bb4de670d",
   "metadata": {},
   "outputs": [
    {
     "data": {
      "text/plain": [
       "'---------------------------------------------------------------------------------------------------------\\n'"
      ]
     },
     "execution_count": 23,
     "metadata": {},
     "output_type": "execute_result"
    }
   ],
   "source": [
    "f.readline()"
   ]
  },
  {
   "cell_type": "code",
   "execution_count": 24,
   "id": "8cdf5688-9003-4a9f-a07d-fada101f72d7",
   "metadata": {},
   "outputs": [
    {
     "data": {
      "text/plain": [
       "'1. Design the guess my number game\\n'"
      ]
     },
     "execution_count": 24,
     "metadata": {},
     "output_type": "execute_result"
    }
   ],
   "source": [
    "f.readline()"
   ]
  },
  {
   "cell_type": "raw",
   "id": "1f5915ec-9867-4e3d-95f9-964e406a7908",
   "metadata": {},
   "source": [
    "f.readline() give current postion of pointer"
   ]
  },
  {
   "cell_type": "code",
   "execution_count": 25,
   "id": "5ba75ea0-b513-4324-980f-04e288674365",
   "metadata": {},
   "outputs": [
    {
     "data": {
      "text/plain": [
       "'\\n\\nSession 1: [45]\\n----------------------------------------------------------------------------------'"
      ]
     },
     "execution_count": 25,
     "metadata": {},
     "output_type": "execute_result"
    }
   ],
   "source": [
    "f.read(100) # The number of bytes to read from a file ->100"
   ]
  },
  {
   "cell_type": "code",
   "execution_count": 26,
   "id": "abdb2175-c861-423b-8e35-fff899fc4d09",
   "metadata": {},
   "outputs": [
    {
     "data": {
      "text/plain": [
       "0"
      ]
     },
     "execution_count": 26,
     "metadata": {},
     "output_type": "execute_result"
    }
   ],
   "source": [
    "f.seek(0)"
   ]
  },
  {
   "cell_type": "code",
   "execution_count": 42,
   "id": "1945fe27-d541-46fe-b801-4d3b64b3e1f5",
   "metadata": {},
   "outputs": [
    {
     "data": {
      "text/plain": [
       "<_io.TextIOWrapper name='C:\\\\Users\\\\292593\\\\Desktop\\\\master\\\\python training\\\\Git_repo\\\\ust-python-2025\\\\day-06\\\\python-package-structure.txt' mode='a' encoding='cp1252'>"
      ]
     },
     "execution_count": 42,
     "metadata": {},
     "output_type": "execute_result"
    }
   ],
   "source": [
    "f"
   ]
  },
  {
   "cell_type": "code",
   "execution_count": 27,
   "id": "f10ec25b-56d8-409b-bd8a-0fb167bd20b7",
   "metadata": {},
   "outputs": [
    {
     "data": {
      "text/plain": [
       "'\\n'"
      ]
     },
     "execution_count": 27,
     "metadata": {},
     "output_type": "execute_result"
    }
   ],
   "source": [
    "content=f.readline()\n",
    "content"
   ]
  },
  {
   "cell_type": "code",
   "execution_count": 29,
   "id": "a0387dc8-ddbc-4d1f-94b8-fca4cf8d446e",
   "metadata": {},
   "outputs": [
    {
     "data": {
      "text/plain": [
       "''"
      ]
     },
     "execution_count": 29,
     "metadata": {},
     "output_type": "execute_result"
    }
   ],
   "source": [
    "content[4:20]"
   ]
  },
  {
   "cell_type": "code",
   "execution_count": 30,
   "id": "3b425368-16f2-40d4-bbeb-459d56ad3d2a",
   "metadata": {},
   "outputs": [
    {
     "data": {
      "text/plain": [
       "''"
      ]
     },
     "execution_count": 30,
     "metadata": {},
     "output_type": "execute_result"
    }
   ],
   "source": [
    "content[5:20]"
   ]
  },
  {
   "cell_type": "code",
   "execution_count": 31,
   "id": "13f884a1-6521-490e-b0f9-ce6e740ecadc",
   "metadata": {},
   "outputs": [
    {
     "data": {
      "text/plain": [
       "''"
      ]
     },
     "execution_count": 31,
     "metadata": {},
     "output_type": "execute_result"
    }
   ],
   "source": [
    "content[10:20]"
   ]
  },
  {
   "cell_type": "code",
   "execution_count": 32,
   "id": "ea7f3728-d4a4-49f8-ad3f-e54fcdbc7a16",
   "metadata": {},
   "outputs": [
    {
     "data": {
      "text/plain": [
       "<function TextIOWrapper.close()>"
      ]
     },
     "execution_count": 32,
     "metadata": {},
     "output_type": "execute_result"
    }
   ],
   "source": [
    "f.close"
   ]
  },
  {
   "cell_type": "markdown",
   "id": "7965160e-9e07-4140-b83d-4d719b3e5e05",
   "metadata": {},
   "source": [
    "# Wrie into a file "
   ]
  },
  {
   "cell_type": "code",
   "execution_count": 33,
   "id": "8fc9671b-c66d-4d4f-957b-7da691e2dad9",
   "metadata": {},
   "outputs": [],
   "source": [
    "path2=r\"C:\\Users\\292593\\Desktop\\master\\python training\\Git_repo\\ust-python-2025\\day-06\\python-package-structure.txt\""
   ]
  },
  {
   "cell_type": "code",
   "execution_count": 35,
   "id": "339eeab7-b4a3-4256-bbfa-bf6c0f87f49f",
   "metadata": {},
   "outputs": [],
   "source": [
    "f=open(path2,'w')"
   ]
  },
  {
   "cell_type": "code",
   "execution_count": 36,
   "id": "b8be73ff-0d99-4d2b-a976-9f1971da2fc5",
   "metadata": {},
   "outputs": [
    {
     "data": {
      "text/plain": [
       "8"
      ]
     },
     "execution_count": 36,
     "metadata": {},
     "output_type": "execute_result"
    }
   ],
   "source": [
    "f.write(\"Song:     Believer \\n\")\n",
    "f.write(\"Artist:    Kavya \\n\")\n",
    "f.write (\"--: kkkk\")"
   ]
  },
  {
   "cell_type": "code",
   "execution_count": 37,
   "id": "7dd235d4-8539-4152-82c7-c002fdf41cf1",
   "metadata": {},
   "outputs": [],
   "source": [
    "f.close()"
   ]
  },
  {
   "cell_type": "code",
   "execution_count": 38,
   "id": "055cc840-81a6-4717-8acb-40adb5e589b8",
   "metadata": {},
   "outputs": [],
   "source": [
    "f=open(path2,'a')"
   ]
  },
  {
   "cell_type": "code",
   "execution_count": 39,
   "id": "ec9ac8ba-c612-4a06-a875-6806ba9b1d31",
   "metadata": {},
   "outputs": [],
   "source": [
    "f.writelines(content)"
   ]
  },
  {
   "cell_type": "code",
   "execution_count": 40,
   "id": "66e85ab4-97da-4fae-98a0-a98226c72aad",
   "metadata": {},
   "outputs": [],
   "source": [
    "f.close()"
   ]
  },
  {
   "cell_type": "code",
   "execution_count": 41,
   "id": "90c17d70-95d6-4b2e-b751-969078be1af2",
   "metadata": {},
   "outputs": [
    {
     "data": {
      "text/plain": [
       "'\\n'"
      ]
     },
     "execution_count": 41,
     "metadata": {},
     "output_type": "execute_result"
    }
   ],
   "source": [
    "content\n"
   ]
  },
  {
   "cell_type": "code",
   "execution_count": 44,
   "id": "4b6be553-2168-42b0-904e-3c8dfd358646",
   "metadata": {},
   "outputs": [
    {
     "data": {
      "text/plain": [
       "1"
      ]
     },
     "execution_count": 44,
     "metadata": {},
     "output_type": "execute_result"
    }
   ],
   "source": [
    "data.count('python')"
   ]
  },
  {
   "cell_type": "code",
   "execution_count": 47,
   "id": "a7bfa15e-b091-4d23-9fc9-2d7be8c89efc",
   "metadata": {},
   "outputs": [
    {
     "ename": "AttributeError",
     "evalue": "'builtin_function_or_method' object has no attribute 'count'",
     "output_type": "error",
     "traceback": [
      "\u001b[1;31m---------------------------------------------------------------------------\u001b[0m",
      "\u001b[1;31mAttributeError\u001b[0m                            Traceback (most recent call last)",
      "Cell \u001b[1;32mIn[47], line 8\u001b[0m\n\u001b[0;32m      6\u001b[0m         \u001b[38;5;28;01mbreak\u001b[39;00m\n\u001b[0;32m      7\u001b[0m     \u001b[38;5;28;01melse\u001b[39;00m:\n\u001b[1;32m----> 8\u001b[0m         count\u001b[38;5;241m+\u001b[39m\u001b[38;5;241m=\u001b[39md\u001b[38;5;241m.\u001b[39mcount(\u001b[38;5;124m'\u001b[39m\u001b[38;5;124mfunction\u001b[39m\u001b[38;5;124m'\u001b[39m)\n\u001b[0;32m     10\u001b[0m count\n",
      "\u001b[1;31mAttributeError\u001b[0m: 'builtin_function_or_method' object has no attribute 'count'"
     ]
    }
   ],
   "source": [
    "path2=r\"C:\\Users\\292593\\Desktop\\master\\python training\\Git_repo\\ust-python-2025\\day-06\\python-package-structure.txt\"\n",
    "f=open(path2,'w')\n",
    "count=0\n",
    "while True:\n",
    "    d=f.readline\n",
    "    if d == '' :\n",
    "        break\n",
    "    else:\n",
    "        count+=d.count('function')\n",
    "\n",
    "count\n",
    "    "
   ]
  },
  {
   "cell_type": "code",
   "execution_count": 50,
   "id": "4ad32f3c-de5a-47b0-8589-8ca99ba2f933",
   "metadata": {},
   "outputs": [
    {
     "name": "stdout",
     "output_type": "stream",
     "text": [
      "2\n"
     ]
    }
   ],
   "source": [
    "path2 = r\"C:\\Users\\292593\\Desktop\\master\\python training\\Git_repo\\ust-python-2025\\day-06\\python-package-structure.txt\"\n",
    "\n",
    "# Step 1: Write to the file\n",
    "with open(path2, 'w') as f:\n",
    "    f.write(\"This function is useful.\\nAnother function here.\\n\")\n",
    "\n",
    "# Step 2: Read & Count occurrences of \"function\"\n",
    "count = 0\n",
    "with open(path2, 'r') as f:\n",
    "    for line in f:\n",
    "        count += line.count(\"function\")\n",
    "\n",
    "print(count)  # ✅ Output: 2\n"
   ]
  },
  {
   "cell_type": "code",
   "execution_count": 49,
   "id": "b8238d6c-f9df-412e-bef9-9ee5aa04910a",
   "metadata": {},
   "outputs": [
    {
     "name": "stdout",
     "output_type": "stream",
     "text": [
      "0\n"
     ]
    }
   ],
   "source": [
    "path2 = r\"C:\\Users\\292593\\Desktop\\master\\python training\\Git_repo\\ust-python-2025\\day-06\\python-package-structure.txt\"\n",
    "\n",
    "l = ['function', 'python', 'dictionary']\n",
    "count = 0\n",
    "\n",
    "with open(path2, 'r') as f:\n",
    "    for line in f:  # ✅ Iterate through each line\n",
    "        for word in l:  # ✅ Check each word in the list\n",
    "            count += line.count(word)  # ✅ Count occurrences\n",
    "\n",
    "print(count)  # ✅ Print total occurrences\n"
   ]
  },
  {
   "cell_type": "code",
   "execution_count": 51,
   "id": "6fa1fe12-395e-4116-bd9e-b220b1f1731b",
   "metadata": {},
   "outputs": [
    {
     "ename": "SyntaxError",
     "evalue": "invalid syntax (3292128821.py, line 4)",
     "output_type": "error",
     "traceback": [
      "\u001b[1;36m  Cell \u001b[1;32mIn[51], line 4\u001b[1;36m\u001b[0m\n\u001b[1;33m    f.write(f\"Beliver\" :{count}\\n\")\u001b[0m\n\u001b[1;37m                       ^\u001b[0m\n\u001b[1;31mSyntaxError\u001b[0m\u001b[1;31m:\u001b[0m invalid syntax\n"
     ]
    }
   ],
   "source": [
    "path2 = r\"C:\\Users\\292593\\Desktop\\master\\python training\\Git_repo\\ust-python-2025\\day-06\\python-package-structure.txt\"\n",
    "f=open(path2,'a')\n",
    "f.write(\"\\n\\n\"+\"-\"*80+'\\n')\n",
    "f.write(f\"Beliver\" :{count}\\n\")\n",
    "f.close()"
   ]
  },
  {
   "cell_type": "code",
   "execution_count": 52,
   "id": "33e3ecf2-618c-4d33-8fd8-bb957db9539d",
   "metadata": {},
   "outputs": [],
   "source": [
    "path2 = r\"C:\\Users\\292593\\Desktop\\master\\python training\\Git_repo\\ust-python-2025\\day-06\\python-package-structure.txt\"\n",
    "\n",
    "with open(path2, 'a') as f:  # ✅ Open in append mode ('a')\n",
    "    f.write(\"\\n\\n\" + \"-\" * 80 + '\\n')  # ✅ Adds a separator line\n",
    "    f.write(f\"Believer: {count}\\n\")  # ✅ Corrected f-string syntax\n"
   ]
  },
  {
   "cell_type": "code",
   "execution_count": null,
   "id": "aa2c8ba8-b1e8-4b36-b52f-22338aafbdac",
   "metadata": {},
   "outputs": [],
   "source": []
  },
  {
   "cell_type": "code",
   "execution_count": 1,
   "id": "73c03d4e-cac2-4275-90ea-043030a4282e",
   "metadata": {},
   "outputs": [
    {
     "name": "stdout",
     "output_type": "stream",
     "text": [
      "['apple', 'mango', 'cherry', 'banna', 'pineapple', 'tomato', 'onion', 'clove', 'ginger', 'coriander']\n"
     ]
    }
   ],
   "source": [
    "import random\n",
    "\n",
    "# Function to jumble the word\n",
    "def jumble(word):\n",
    "    temp = list(word)  # Convert word to a list of characters\n",
    "    random.shuffle(temp)\n",
    "    return ''.join(temp)\n",
    "\n",
    "# File path\n",
    "path = r\"C:\\Users\\292593\\Desktop\\master\\python training\\python_code_submit\\Python-training\\word.txt\"\n",
    "\n",
    "# Read file\n",
    "with open(path, 'r') as f:\n",
    "    content = f.read()\n",
    "\n",
    "# Split content into a list of words (assuming comma-separated words)\n",
    "words = content.strip().split(',')\n",
    "print(words)"
   ]
  },
  {
   "cell_type": "code",
   "execution_count": 4,
   "id": "ba8bc411-f11a-48ec-9ed2-549b73b8ede1",
   "metadata": {},
   "outputs": [
    {
     "name": "stdout",
     "output_type": "stream",
     "text": [
      "Valid credentials\n",
      "Name: Sanju, Mobile: 9876543210, Username: sanju123\n",
      "Password or username is invalid\n"
     ]
    }
   ],
   "source": [
    "class PasswordInvalidException(Exception):\n",
    "    \"\"\"Custom exception for invalid password\"\"\"\n",
    "    pass\n",
    "\n",
    "class User:\n",
    "    def __init__(self, name, mobile, username, password):\n",
    "        self.name = name\n",
    "        self.mobile = mobile\n",
    "        self.username = username\n",
    "        self.password = password\n",
    "\n",
    "    def display(self, input_username, input_password):\n",
    "        if self.username == input_username and self.password == input_password:\n",
    "            print(\"Valid credentials\")\n",
    "            print(f\"Name: {self.name}, Mobile: {self.mobile}, Username: {self.username}\")\n",
    "        else:\n",
    "            raise PasswordInvalidException(\"Password or username is invalid\")\n",
    "\n",
    "# Example usage:\n",
    "try:\n",
    "    user1 = User(\"Sanju\", \"9876543210\", \"sanju123\", \"securePass\")\n",
    "    user1.display(\"sanju123\", \"securePass\")  # Valid\n",
    "    user1.display(\"sanju123\", \"wrongPass\")  # Uncomment to test exception\n",
    "except PasswordInvalidException as e:\n",
    "    print(e)\n"
   ]
  },
  {
   "cell_type": "code",
   "execution_count": 53,
   "id": "37a6514e-14d0-455c-a3a5-80bddb81ad2e",
   "metadata": {},
   "outputs": [
    {
     "name": "stdout",
     "output_type": "stream",
     "text": [
      "\n",
      "🎮 Welcome to the Word Jumble Game! 🎮\n",
      "Try to guess the correct word. Type 'exit' to quit.\n",
      "\n",
      "🔀 Jumbled Word: hrrcey\n"
     ]
    },
    {
     "name": "stdin",
     "output_type": "stream",
     "text": [
      "Your guess:  cherry\n"
     ]
    },
    {
     "name": "stdout",
     "output_type": "stream",
     "text": [
      "✅ Correct!\n",
      "\n",
      "🔀 Jumbled Word: aognm\n"
     ]
    },
    {
     "name": "stdin",
     "output_type": "stream",
     "text": [
      "Your guess:  mango\n"
     ]
    },
    {
     "name": "stdout",
     "output_type": "stream",
     "text": [
      "✅ Correct!\n",
      "\n",
      "🔀 Jumbled Word: nidracore\n"
     ]
    },
    {
     "name": "stdin",
     "output_type": "stream",
     "text": [
      "Your guess:  criander\n"
     ]
    },
    {
     "name": "stdout",
     "output_type": "stream",
     "text": [
      "❌ Wrong! The correct word was: coriander\n",
      "\n",
      "🔀 Jumbled Word: plpae\n"
     ]
    },
    {
     "name": "stdin",
     "output_type": "stream",
     "text": [
      "Your guess:  apple\n"
     ]
    },
    {
     "name": "stdout",
     "output_type": "stream",
     "text": [
      "✅ Correct!\n",
      "\n",
      "🔀 Jumbled Word: noino\n"
     ]
    },
    {
     "name": "stdin",
     "output_type": "stream",
     "text": [
      "Your guess:  onion\n"
     ]
    },
    {
     "name": "stdout",
     "output_type": "stream",
     "text": [
      "✅ Correct!\n",
      "\n",
      "🔀 Jumbled Word: ngreig\n"
     ]
    },
    {
     "name": "stdin",
     "output_type": "stream",
     "text": [
      "Your guess:  der\n"
     ]
    },
    {
     "name": "stdout",
     "output_type": "stream",
     "text": [
      "❌ Wrong! The correct word was: ginger\n",
      "\n",
      "🔀 Jumbled Word: laenepppi\n"
     ]
    },
    {
     "name": "stdin",
     "output_type": "stream",
     "text": [
      "Your guess:  pinapple\n"
     ]
    },
    {
     "name": "stdout",
     "output_type": "stream",
     "text": [
      "❌ Wrong! The correct word was: pineapple\n",
      "\n",
      "🔀 Jumbled Word: mootat\n"
     ]
    },
    {
     "name": "stdin",
     "output_type": "stream",
     "text": [
      "Your guess:  tomatoo\n"
     ]
    },
    {
     "name": "stdout",
     "output_type": "stream",
     "text": [
      "❌ Wrong! The correct word was: tomato\n",
      "\n",
      "🔀 Jumbled Word: vleoc\n"
     ]
    },
    {
     "name": "stdin",
     "output_type": "stream",
     "text": [
      "Your guess:  clove\n"
     ]
    },
    {
     "name": "stdout",
     "output_type": "stream",
     "text": [
      "✅ Correct!\n",
      "\n",
      "🔀 Jumbled Word: nanab\n"
     ]
    },
    {
     "name": "stdin",
     "output_type": "stream",
     "text": [
      "Your guess:  banna\n"
     ]
    },
    {
     "name": "stdout",
     "output_type": "stream",
     "text": [
      "✅ Correct!\n",
      "\n",
      "\n",
      "🎯 Game Over! 🎯\n",
      "Your final score: 6 out of 10\n"
     ]
    }
   ],
   "source": [
    "import random\n",
    "\n",
    "# Function to jumble the word\n",
    "def jumble(word):\n",
    "    temp = list(word)  # Convert word to a list of characters\n",
    "    random.shuffle(temp)\n",
    "    return ''.join(temp)\n",
    "\n",
    "# File path\n",
    "path = r\"C:\\Users\\292593\\Desktop\\master\\python training\\python_code_submit\\Python-training\\word.txt\"\n",
    "\n",
    "# Read file\n",
    "with open(path, 'r') as f:\n",
    "    content = f.read()\n",
    "\n",
    "# Split content into a list of words (assuming comma-separated words)\n",
    "words = content.strip().split(',')\n",
    "\n",
    "# Shuffle the word list to randomize the game\n",
    "random.shuffle(words)\n",
    "\n",
    "# Game variables\n",
    "score = 0\n",
    "total_rounds = len(words)  # Number of words in the game\n",
    "\n",
    "print(\"\\n🎮 Welcome to the Word Jumble Game! 🎮\")\n",
    "print(\"Try to guess the correct word. Type 'exit' to quit.\\n\")\n",
    "\n",
    "# Start the game loop\n",
    "for word in words:\n",
    "    jumbled_word = jumble(word.strip())  # Jumble the word\n",
    "\n",
    "    # Ask user for their guess\n",
    "    print(f\"🔀 Jumbled Word: {jumbled_word}\")\n",
    "    user_guess = input(\"Your guess: \").strip().lower()\n",
    "\n",
    "    # Check if the user wants to exit\n",
    "    if user_guess == \"exit\":\n",
    "        break\n",
    "\n",
    "    # Compare user input with the original word\n",
    "    if user_guess == word.strip().lower():\n",
    "        print(\"✅ Correct!\\n\")\n",
    "        score += 1  # Increase score for a correct answer\n",
    "    else:\n",
    "        print(f\"❌ Wrong! The correct word was: {word.strip()}\\n\")\n",
    "\n",
    "# Display final score\n",
    "print(\"\\n🎯 Game Over! 🎯\")\n",
    "print(f\"Your final score: {score} out of {total_rounds}\")\n"
   ]
  },
  {
   "cell_type": "raw",
   "id": "181348de-6e1d-4098-a701-28f65fe4eab8",
   "metadata": {},
   "source": [
    "Give players two attempts\n",
    "   If the player guesses in the first attempt give 2 points, in the second attempt 1 points, otherwise 0\n",
    "   Allow players to get hints/clues if they fail to guess in the first attempt\n",
    "   Give the result based on total points, total first attempts, total second attempts\n",
    "   Use appropriate unicode charecters\n",
    " \n",
    "   Example: 'alepp'\n",
    "             Can you guess? ape \n",
    "             CLUE: 'This is a fruit'\n",
    "             Take a second guess? apple\n",
    "             ✅ Correct!\n",
    " \n",
    "             ...\n",
    " \n",
    "             Total          = 18\n",
    "             First          = 5\n",
    "             Second         = 8\n",
    "             Overall        = B+\n",
    " \n",
    "   Challenge: Keep the hints in the file. How to read the the words and hints from a file and integrate it\n",
    "            Come up with a logic to display the result"
   ]
  },
  {
   "cell_type": "code",
   "execution_count": 54,
   "id": "09483f70-9475-48f5-b24c-8b0abe52c749",
   "metadata": {
    "scrolled": true
   },
   "outputs": [
    {
     "ename": "FileNotFoundError",
     "evalue": "[Errno 2] No such file or directory: 'C:\\\\Users\\\\292593\\\\Desktop\\\\master\\\\python training\\\\python_code_submit\\\\Python-training\\\\hint.txt'",
     "output_type": "error",
     "traceback": [
      "\u001b[1;31m---------------------------------------------------------------------------\u001b[0m",
      "\u001b[1;31mFileNotFoundError\u001b[0m                         Traceback (most recent call last)",
      "Cell \u001b[1;32mIn[54], line 19\u001b[0m\n\u001b[0;32m     16\u001b[0m     words \u001b[38;5;241m=\u001b[39m f\u001b[38;5;241m.\u001b[39mread()\u001b[38;5;241m.\u001b[39mstrip()\u001b[38;5;241m.\u001b[39msplit(\u001b[38;5;124m'\u001b[39m\u001b[38;5;124m,\u001b[39m\u001b[38;5;124m'\u001b[39m)\n\u001b[0;32m     18\u001b[0m \u001b[38;5;66;03m# Read hints from hint.txt (JSON file)\u001b[39;00m\n\u001b[1;32m---> 19\u001b[0m \u001b[38;5;28;01mwith\u001b[39;00m \u001b[38;5;28mopen\u001b[39m(hint_file, \u001b[38;5;124m'\u001b[39m\u001b[38;5;124mr\u001b[39m\u001b[38;5;124m'\u001b[39m) \u001b[38;5;28;01mas\u001b[39;00m f:\n\u001b[0;32m     20\u001b[0m     hints \u001b[38;5;241m=\u001b[39m json\u001b[38;5;241m.\u001b[39mload(f)  \u001b[38;5;66;03m# Load JSON into a dictionary\u001b[39;00m\n\u001b[0;32m     22\u001b[0m \u001b[38;5;66;03m# Shuffle the words randomly for gameplay\u001b[39;00m\n",
      "File \u001b[1;32mC:\\ProgramData\\anaconda3\\Lib\\site-packages\\IPython\\core\\interactiveshell.py:324\u001b[0m, in \u001b[0;36m_modified_open\u001b[1;34m(file, *args, **kwargs)\u001b[0m\n\u001b[0;32m    317\u001b[0m \u001b[38;5;28;01mif\u001b[39;00m file \u001b[38;5;129;01min\u001b[39;00m {\u001b[38;5;241m0\u001b[39m, \u001b[38;5;241m1\u001b[39m, \u001b[38;5;241m2\u001b[39m}:\n\u001b[0;32m    318\u001b[0m     \u001b[38;5;28;01mraise\u001b[39;00m \u001b[38;5;167;01mValueError\u001b[39;00m(\n\u001b[0;32m    319\u001b[0m         \u001b[38;5;124mf\u001b[39m\u001b[38;5;124m\"\u001b[39m\u001b[38;5;124mIPython won\u001b[39m\u001b[38;5;124m'\u001b[39m\u001b[38;5;124mt let you open fd=\u001b[39m\u001b[38;5;132;01m{\u001b[39;00mfile\u001b[38;5;132;01m}\u001b[39;00m\u001b[38;5;124m by default \u001b[39m\u001b[38;5;124m\"\u001b[39m\n\u001b[0;32m    320\u001b[0m         \u001b[38;5;124m\"\u001b[39m\u001b[38;5;124mas it is likely to crash IPython. If you know what you are doing, \u001b[39m\u001b[38;5;124m\"\u001b[39m\n\u001b[0;32m    321\u001b[0m         \u001b[38;5;124m\"\u001b[39m\u001b[38;5;124myou can use builtins\u001b[39m\u001b[38;5;124m'\u001b[39m\u001b[38;5;124m open.\u001b[39m\u001b[38;5;124m\"\u001b[39m\n\u001b[0;32m    322\u001b[0m     )\n\u001b[1;32m--> 324\u001b[0m \u001b[38;5;28;01mreturn\u001b[39;00m io_open(file, \u001b[38;5;241m*\u001b[39margs, \u001b[38;5;241m*\u001b[39m\u001b[38;5;241m*\u001b[39mkwargs)\n",
      "\u001b[1;31mFileNotFoundError\u001b[0m: [Errno 2] No such file or directory: 'C:\\\\Users\\\\292593\\\\Desktop\\\\master\\\\python training\\\\python_code_submit\\\\Python-training\\\\hint.txt'"
     ]
    }
   ],
   "source": [
    "import random\n",
    "import json\n",
    "\n",
    "# Function to jumble a word\n",
    "def jumble(word):\n",
    "    temp = list(word)\n",
    "    random.shuffle(temp)\n",
    "    return ''.join(temp)\n",
    "\n",
    "# File paths\n",
    "word_file = r\"C:\\Users\\292593\\Desktop\\master\\python training\\python_code_submit\\Python-training\\word.txt\"\n",
    "hint_file = r\"C:\\Users\\292593\\Desktop\\master\\python training\\python_code_submit\\Python-training\\hint.txt\"\n",
    "\n",
    "# Read words from word.txt\n",
    "with open(word_file, 'r') as f:\n",
    "    words = f.read().strip().split(',')\n",
    "\n",
    "# Read hints from hint.txt (JSON file)\n",
    "with open(hint_file, 'r') as f:\n",
    "    hints = json.load(f)  # Load JSON into a dictionary\n",
    "\n",
    "# Shuffle the words randomly for gameplay\n",
    "random.shuffle(words)\n",
    "\n",
    "# Game variables\n",
    "score = 0\n",
    "first_attempts = 0\n",
    "second_attempts = 0\n",
    "total_rounds = len(words)\n",
    "\n",
    "print(\"\\n🎮 Welcome to the Word Jumble Game! 🎮\")\n",
    "print(\"Try to guess the correct word. You have **two attempts**. Type 'exit' to quit.\\n\")\n",
    "\n",
    "# Start the game loop\n",
    "for word in words:\n",
    "    jumbled_word = jumble(word.strip())\n",
    "\n",
    "    print(f\"🔀 Jumbled Word: {jumbled_word}\")\n",
    "\n",
    "    # First attempt\n",
    "    user_guess = input(\"Can you guess? \").strip().lower()\n",
    "\n",
    "    if user_guess == \"exit\":\n",
    "        break\n",
    "\n",
    "    if user_guess == word.lower():\n",
    "        print(\"✅ Correct! (+2 points)\\n\")\n",
    "        score += 2\n",
    "        first_attempts += 1\n",
    "        continue  # Move to the next word\n",
    "\n",
    "    # Provide a hint for the second attempt\n",
    "    hint = hints.get(word.strip(), \"No hint available\")  # Get hint from JSON\n",
    "    print(f\"💡 CLUE: {hint}\")\n",
    "\n",
    "    user_guess = input(\"Take a second guess? \").strip().lower()\n",
    "\n",
    "    if user_guess == \"exit\":\n",
    "        break\n",
    "\n",
    "    if user_guess == word.lower():\n",
    "        print(\"✅ Correct! (+1 point)\\n\")\n",
    "        score += 1\n",
    "        second_attempts += 1\n",
    "    else:\n",
    "        print(f\"❌ Wrong! The correct word was: {word.strip()}\\n\")\n",
    "\n",
    "# Grading System\n",
    "if score >= total_rounds * 2 * 0.8:\n",
    "    grade = \"A+\"\n",
    "elif score >= total_rounds * 2 * 0.6:\n",
    "    grade = \"A\"\n",
    "elif score >= total_rounds * 2 * 0.4:\n",
    "    grade = \"B+\"\n",
    "elif score >= total_rounds * 2 * 0.2:\n",
    "    grade = \"B\"\n",
    "else:\n",
    "    grade = \"C\"\n",
    "\n",
    "# Final Results\n",
    "print(\"\\n🎯 Game Over! 🎯\")\n",
    "print(f\"🏆 Total Points   = {score}\")\n",
    "print(f\"🥇 First Attempts = {first_attempts}\")\n",
    "print(f\"🥈 Second Attempts = {second_attempts}\")\n",
    "print(f\"🎓 Overall Grade  = {grade}\")\n"
   ]
  },
  {
   "cell_type": "code",
   "execution_count": 56,
   "id": "46f5f68d-8ad8-49af-a564-da8bedc69fda",
   "metadata": {},
   "outputs": [
    {
     "name": "stdout",
     "output_type": "stream",
     "text": [
      "\n",
      "🎮 Welcome to the Word Jumble Game! 🎮\n",
      "🔹 Try to guess the correct word. You have **two attempts**. Type 'exit' to quit.\n",
      "\n",
      "\n",
      "🔀 Jumbled Word: hrreyc\n"
     ]
    },
    {
     "name": "stdin",
     "output_type": "stream",
     "text": [
      "💡 Can you guess?  cherry\n"
     ]
    },
    {
     "name": "stdout",
     "output_type": "stream",
     "text": [
      "✅ Correct! (+2 points) 🎉\n",
      "\n",
      "\n",
      "🔀 Jumbled Word: banan\n"
     ]
    },
    {
     "name": "stdin",
     "output_type": "stream",
     "text": [
      "💡 Can you guess?  asd\n"
     ]
    },
    {
     "name": "stdout",
     "output_type": "stream",
     "text": [
      "💡 CLUE: Yellow color, USA imports in tonnes\n"
     ]
    },
    {
     "name": "stdin",
     "output_type": "stream",
     "text": [
      "🤔 Take a second guess?  banna\n"
     ]
    },
    {
     "name": "stdout",
     "output_type": "stream",
     "text": [
      "✅ Correct! (+1 point) 🎉\n",
      "\n",
      "\n",
      "🔀 Jumbled Word: ionno\n"
     ]
    },
    {
     "name": "stdin",
     "output_type": "stream",
     "text": [
      "💡 Can you guess?  onnion\n"
     ]
    },
    {
     "name": "stdout",
     "output_type": "stream",
     "text": [
      "💡 CLUE: Layered vegetable\n"
     ]
    },
    {
     "name": "stdin",
     "output_type": "stream",
     "text": [
      "🤔 Take a second guess?  onnion\n"
     ]
    },
    {
     "name": "stdout",
     "output_type": "stream",
     "text": [
      "❌ Wrong! The correct word was: onion\n",
      "\n",
      "\n",
      "🔀 Jumbled Word: vcloe\n"
     ]
    },
    {
     "name": "stdin",
     "output_type": "stream",
     "text": [
      "💡 Can you guess?  dsa\n"
     ]
    },
    {
     "name": "stdout",
     "output_type": "stream",
     "text": [
      "💡 CLUE: Used as a spice\n"
     ]
    },
    {
     "name": "stdin",
     "output_type": "stream",
     "text": [
      "🤔 Take a second guess?  clove\n"
     ]
    },
    {
     "name": "stdout",
     "output_type": "stream",
     "text": [
      "✅ Correct! (+1 point) 🎉\n",
      "\n",
      "\n",
      "🔀 Jumbled Word: girgen\n"
     ]
    },
    {
     "name": "stdin",
     "output_type": "stream",
     "text": [
      "💡 Can you guess?  ginger\n"
     ]
    },
    {
     "name": "stdout",
     "output_type": "stream",
     "text": [
      "✅ Correct! (+2 points) 🎉\n",
      "\n",
      "\n",
      "🔀 Jumbled Word: eplpa\n"
     ]
    },
    {
     "name": "stdin",
     "output_type": "stream",
     "text": [
      "💡 Can you guess?  sad\n"
     ]
    },
    {
     "name": "stdout",
     "output_type": "stream",
     "text": [
      "💡 CLUE: It is mentioned in a proverb\n"
     ]
    },
    {
     "name": "stdin",
     "output_type": "stream",
     "text": [
      "🤔 Take a second guess?  apple\n"
     ]
    },
    {
     "name": "stdout",
     "output_type": "stream",
     "text": [
      "✅ Correct! (+1 point) 🎉\n",
      "\n",
      "\n",
      "🔀 Jumbled Word: matoto\n"
     ]
    },
    {
     "name": "stdin",
     "output_type": "stream",
     "text": [
      "💡 Can you guess?  red\n"
     ]
    },
    {
     "name": "stdout",
     "output_type": "stream",
     "text": [
      "💡 CLUE: A red shiny fruit\n"
     ]
    },
    {
     "name": "stdin",
     "output_type": "stream",
     "text": [
      "🤔 Take a second guess?  Tomato\n"
     ]
    },
    {
     "name": "stdout",
     "output_type": "stream",
     "text": [
      "✅ Correct! (+1 point) 🎉\n",
      "\n",
      "\n",
      "🔀 Jumbled Word: nacodrier\n"
     ]
    },
    {
     "name": "stdin",
     "output_type": "stream",
     "text": [
      "💡 Can you guess?  red\n"
     ]
    },
    {
     "name": "stdout",
     "output_type": "stream",
     "text": [
      "💡 CLUE: A green vegetable\n"
     ]
    },
    {
     "name": "stdin",
     "output_type": "stream",
     "text": [
      "🤔 Take a second guess?  coriander\n"
     ]
    },
    {
     "name": "stdout",
     "output_type": "stream",
     "text": [
      "✅ Correct! (+1 point) 🎉\n",
      "\n",
      "\n",
      "🔀 Jumbled Word: gamon\n"
     ]
    },
    {
     "name": "stdin",
     "output_type": "stream",
     "text": [
      "💡 Can you guess?  was\n"
     ]
    },
    {
     "name": "stdout",
     "output_type": "stream",
     "text": [
      "💡 CLUE: Referred to as the king of fruits\n"
     ]
    },
    {
     "name": "stdin",
     "output_type": "stream",
     "text": [
      "🤔 Take a second guess?  mango\n"
     ]
    },
    {
     "name": "stdout",
     "output_type": "stream",
     "text": [
      "✅ Correct! (+1 point) 🎉\n",
      "\n",
      "\n",
      "🔀 Jumbled Word: aeppilnpe\n"
     ]
    },
    {
     "name": "stdin",
     "output_type": "stream",
     "text": [
      "💡 Can you guess?  green\n"
     ]
    },
    {
     "name": "stdout",
     "output_type": "stream",
     "text": [
      "💡 CLUE: Thorny fruit, high export from Kerala\n"
     ]
    },
    {
     "name": "stdin",
     "output_type": "stream",
     "text": [
      "🤔 Take a second guess?  pinneappli\n"
     ]
    },
    {
     "name": "stdout",
     "output_type": "stream",
     "text": [
      "❌ Wrong! The correct word was: pineapple\n",
      "\n",
      "\n",
      "🎯 Game Over! 🎯\n",
      "🏆 Total Points   = 10/20\n",
      "🥇 First Attempts = 2\n",
      "🥈 Second Attempts = 6\n",
      "🎓 Overall Grade  = B+\n",
      "\n"
     ]
    }
   ],
   "source": [
    "import random\n",
    "import json\n",
    "import os\n",
    "\n",
    "# Function to jumble a word\n",
    "def jumble(word):\n",
    "    temp = list(word)\n",
    "    random.shuffle(temp)\n",
    "    return ''.join(temp)\n",
    "\n",
    "# File paths (✅ Updated hint filename)\n",
    "word_file = r\"C:\\Users\\292593\\Desktop\\master\\python training\\python_code_submit\\Python-training\\word.txt\"\n",
    "hint_file = r\"C:\\Users\\292593\\Desktop\\master\\python training\\python_code_submit\\Python-training\\hints.txt\"\n",
    "\n",
    "# ✅ Check if files exist before proceeding\n",
    "if not os.path.exists(word_file):\n",
    "    print(\"❌ Error: word.txt file not found!\")\n",
    "    exit()\n",
    "\n",
    "if not os.path.exists(hint_file):\n",
    "    print(\"❌ Error: hints.txt file not found!\")\n",
    "    exit()\n",
    "\n",
    "# ✅ Read words from word.txt\n",
    "with open(word_file, 'r') as f:\n",
    "    words = f.read().strip().split(',')\n",
    "\n",
    "# ✅ Read hints from hints.txt (JSON file)\n",
    "with open(hint_file, 'r') as f:\n",
    "    hints = json.load(f)  # Load JSON into a dictionary\n",
    "\n",
    "# Shuffle words for randomness\n",
    "random.shuffle(words)\n",
    "\n",
    "# Game variables\n",
    "score = 0\n",
    "first_attempts = 0\n",
    "second_attempts = 0\n",
    "total_rounds = len(words)\n",
    "\n",
    "print(\"\\n🎮 Welcome to the Word Jumble Game! 🎮\")\n",
    "print(\"🔹 Try to guess the correct word. You have **two attempts**. Type 'exit' to quit.\\n\")\n",
    "\n",
    "# Start the game loop\n",
    "for word in words:\n",
    "    jumbled_word = jumble(word.strip())\n",
    "\n",
    "    print(f\"\\n🔀 Jumbled Word: {jumbled_word}\")\n",
    "\n",
    "    # First attempt\n",
    "    user_guess = input(\"💡 Can you guess? \").strip().lower()\n",
    "\n",
    "    if user_guess == \"exit\":\n",
    "        break\n",
    "\n",
    "    if user_guess == word.lower():\n",
    "        print(\"✅ Correct! (+2 points) 🎉\\n\")\n",
    "        score += 2\n",
    "        first_attempts += 1\n",
    "        continue  # Move to the next word\n",
    "\n",
    "    # Provide a hint for the second attempt\n",
    "    hint = hints.get(word.strip(), \"No hint available\")  # Get hint from JSON\n",
    "    print(f\"💡 CLUE: {hint}\")\n",
    "\n",
    "    user_guess = input(\"🤔 Take a second guess? \").strip().lower()\n",
    "\n",
    "    if user_guess == \"exit\":\n",
    "        break\n",
    "\n",
    "    if user_guess == word.lower():\n",
    "        print(\"✅ Correct! (+1 point) 🎉\\n\")\n",
    "        score += 1\n",
    "        second_attempts += 1\n",
    "    else:\n",
    "        print(f\"❌ Wrong! The correct word was: {word.strip()}\\n\")\n",
    "\n",
    "# ✅ Grading System\n",
    "max_score = total_rounds * 2  # Maximum possible score (2 points per word)\n",
    "percentage = (score / max_score) * 100\n",
    "\n",
    "if percentage >= 80:\n",
    "    grade = \"A+\"\n",
    "elif percentage >= 60:\n",
    "    grade = \"A\"\n",
    "elif percentage >= 40:\n",
    "    grade = \"B+\"\n",
    "elif percentage >= 20:\n",
    "    grade = \"B\"\n",
    "else:\n",
    "    grade = \"C\"\n",
    "\n",
    "# ✅ Final Results\n",
    "print(\"\\n🎯 Game Over! 🎯\")\n",
    "print(f\"🏆 Total Points   = {score}/{max_score}\")\n",
    "print(f\"🥇 First Attempts = {first_attempts}\")\n",
    "print(f\"🥈 Second Attempts = {second_attempts}\")\n",
    "print(f\"🎓 Overall Grade  = {grade}\\n\")\n"
   ]
  },
  {
   "cell_type": "code",
   "execution_count": 58,
   "id": "8a0580c7-6137-47dc-af6a-fcd53b7c090f",
   "metadata": {},
   "outputs": [
    {
     "name": "stdout",
     "output_type": "stream",
     "text": [
      "\n",
      "🎮 Welcome to the Word Jumble Game! 🎮\n",
      "🔹 Try to guess the correct word. You have **two attempts**. Type 'exit' to quit.\n",
      "\n",
      "\n",
      "🔀 Jumbled Word: gmano\n"
     ]
    },
    {
     "name": "stdin",
     "output_type": "stream",
     "text": [
      "💡 Can you guess?  mango\n"
     ]
    },
    {
     "name": "stdout",
     "output_type": "stream",
     "text": [
      "✅ Correct! (+2 points) 🎉\n",
      "\n",
      "\n",
      "🔀 Jumbled Word: nbaan\n"
     ]
    },
    {
     "name": "stdin",
     "output_type": "stream",
     "text": [
      "💡 Can you guess?  banna\n"
     ]
    },
    {
     "name": "stdout",
     "output_type": "stream",
     "text": [
      "✅ Correct! (+2 points) 🎉\n",
      "\n",
      "\n",
      "🔀 Jumbled Word: noino\n"
     ]
    },
    {
     "name": "stdin",
     "output_type": "stream",
     "text": [
      "💡 Can you guess?  onion\n"
     ]
    },
    {
     "name": "stdout",
     "output_type": "stream",
     "text": [
      "✅ Correct! (+2 points) 🎉\n",
      "\n",
      "\n",
      "🔀 Jumbled Word: ndcroeiar\n"
     ]
    },
    {
     "name": "stdin",
     "output_type": "stream",
     "text": [
      "💡 Can you guess?  coriander\n"
     ]
    },
    {
     "name": "stdout",
     "output_type": "stream",
     "text": [
      "✅ Correct! (+2 points) 🎉\n",
      "\n",
      "\n",
      "🔀 Jumbled Word: tatoom\n"
     ]
    },
    {
     "name": "stdin",
     "output_type": "stream",
     "text": [
      "💡 Can you guess?  tomato\n"
     ]
    },
    {
     "name": "stdout",
     "output_type": "stream",
     "text": [
      "✅ Correct! (+2 points) 🎉\n",
      "\n",
      "\n",
      "🔀 Jumbled Word: ecvol\n"
     ]
    },
    {
     "name": "stdin",
     "output_type": "stream",
     "text": [
      "💡 Can you guess?  clove\n"
     ]
    },
    {
     "name": "stdout",
     "output_type": "stream",
     "text": [
      "✅ Correct! (+2 points) 🎉\n",
      "\n",
      "\n",
      "🔀 Jumbled Word: pileeappn\n"
     ]
    },
    {
     "name": "stdin",
     "output_type": "stream",
     "text": [
      "💡 Can you guess?  pineapple\n"
     ]
    },
    {
     "name": "stdout",
     "output_type": "stream",
     "text": [
      "✅ Correct! (+2 points) 🎉\n",
      "\n",
      "\n",
      "🔀 Jumbled Word: hyrerc\n"
     ]
    },
    {
     "name": "stdin",
     "output_type": "stream",
     "text": [
      "💡 Can you guess?  cherry\n"
     ]
    },
    {
     "name": "stdout",
     "output_type": "stream",
     "text": [
      "✅ Correct! (+2 points) 🎉\n",
      "\n",
      "\n",
      "🔀 Jumbled Word: lppea\n"
     ]
    },
    {
     "name": "stdin",
     "output_type": "stream",
     "text": [
      "💡 Can you guess?  apple\n"
     ]
    },
    {
     "name": "stdout",
     "output_type": "stream",
     "text": [
      "✅ Correct! (+2 points) 🎉\n",
      "\n",
      "\n",
      "🔀 Jumbled Word: igenrg\n"
     ]
    },
    {
     "name": "stdin",
     "output_type": "stream",
     "text": [
      "💡 Can you guess?  ginger\n"
     ]
    },
    {
     "name": "stdout",
     "output_type": "stream",
     "text": [
      "✅ Correct! (+2 points) 🎉\n",
      "\n",
      "\n",
      "🎯 Game Over! 🎯\n",
      "🏆 Total Points   = 20/20\n",
      "🥇 First Attempts = 10\n",
      "🥈 Second Attempts = 0\n",
      "🎓 Overall Grade  = A+\n",
      "\n"
     ]
    }
   ],
   "source": [
    "import random\n",
    "import json\n",
    "import os\n",
    "\n",
    "# Function to jumble a word\n",
    "def jumble(word):\n",
    "    temp = list(word)\n",
    "    random.shuffle(temp)\n",
    "    return ''.join(temp)\n",
    "\n",
    "# File paths\n",
    "word_file = r\"C:\\Users\\292593\\Desktop\\master\\python training\\python_code_submit\\Python-training\\word.txt\"\n",
    "hint_file = r\"C:\\Users\\292593\\Desktop\\master\\python training\\python_code_submit\\Python-training\\hints.txt\"\n",
    "\n",
    "# Check if files exist before proceeding\n",
    "if not os.path.exists(word_file):\n",
    "    print(\"\\U0000274C Error: word.txt file not found!\")\n",
    "    exit()\n",
    "\n",
    "if not os.path.exists(hint_file):\n",
    "    print(\"\\U0000274C Error: hints.txt file not found!\")\n",
    "    exit()\n",
    "\n",
    "# Read words from word.txt\n",
    "with open(word_file, 'r') as f:\n",
    "    words = f.read().strip().split(',')\n",
    "\n",
    "# Read hints from hints.txt (JSON file)\n",
    "with open(hint_file, 'r') as f:\n",
    "    hints = json.load(f)\n",
    "\n",
    "# Shuffle words for randomness\n",
    "random.shuffle(words)\n",
    "\n",
    "# Game variables\n",
    "score = 0\n",
    "first_attempts = 0\n",
    "second_attempts = 0\n",
    "total_rounds = len(words)\n",
    "\n",
    "print(\"\\n\\U0001F3AE Welcome to the Word Jumble Game! \\U0001F3AE\")\n",
    "print(\"\\U0001F539 Try to guess the correct word. You have **two attempts**. Type 'exit' to quit.\\n\")\n",
    "\n",
    "# Start the game loop\n",
    "for word in words:\n",
    "    jumbled_word = jumble(word.strip())\n",
    "    print(f\"\\n\\U0001F500 Jumbled Word: {jumbled_word}\")\n",
    "    \n",
    "    # First attempt\n",
    "    user_guess = input(\"\\U0001F4A1 Can you guess? \").strip().lower()\n",
    "    \n",
    "    if user_guess == \"exit\":\n",
    "        break\n",
    "    \n",
    "    if user_guess == word.lower():\n",
    "        print(\"\\U00002705 Correct! (+2 points) \\U0001F389\\n\")  # ✅ 🎉\n",
    "        score += 2\n",
    "        first_attempts += 1\n",
    "        continue  # Move to the next word\n",
    "    \n",
    "    # Provide a hint for the second attempt\n",
    "    hint = hints.get(word.strip(), \"No hint available\")  # Get hint from JSON\n",
    "    print(f\"\\U0001F4A1 CLUE: {hint}\")\n",
    "    \n",
    "    user_guess = input(\"\\U0001F914 Take a second guess? \").strip().lower()\n",
    "    \n",
    "    if user_guess == \"exit\":\n",
    "        break\n",
    "    \n",
    "    if user_guess == word.lower():\n",
    "        print(\"\\U00002705 Correct! (+1 point) \\U0001F389\\n\")  # ✅ 🎉\n",
    "        score += 1\n",
    "        second_attempts += 1\n",
    "    else:\n",
    "        print(f\"\\U0000274C Wrong! The correct word was: {word.strip()}\\n\")  # ❌\n",
    "\n",
    "# Grading System\n",
    "max_score = total_rounds * 2  # Maximum possible score (2 points per word)\n",
    "percentage = (score / max_score) * 100\n",
    "\n",
    "if percentage >= 80:\n",
    "    grade = \"A+\"\n",
    "elif percentage >= 60:\n",
    "    grade = \"A\"\n",
    "elif percentage >= 40:\n",
    "    grade = \"B+\"\n",
    "elif percentage >= 20:\n",
    "    grade = \"B\"\n",
    "else:\n",
    "    grade = \"C\"\n",
    "\n",
    "# Final Results\n",
    "print(\"\\n\\U0001F3AF Game Over! \\U0001F3AF\")\n",
    "print(f\"\\U0001F3C6 Total Points   = {score}/{max_score}\")\n",
    "print(f\"\\U0001F947 First Attempts = {first_attempts}\")\n",
    "print(f\"\\U0001F948 Second Attempts = {second_attempts}\")\n",
    "print(f\"\\U0001F393 Overall Grade  = {grade}\\n\")"
   ]
  },
  {
   "cell_type": "raw",
   "id": "c3e5b279-a4ec-47a8-b547-3fd926adf2e7",
   "metadata": {},
   "source": [
    "🔹 Unicode for Special Characters\n",
    "Symbol\tUnicode\tDescription\n",
    "🎮\t\\U0001F3AE\tVideo game controller\n",
    "🔹\t\\U0001F539\tSmall blue diamond\n",
    "🔀\t\\U0001F500\tShuffle symbol\n",
    "💡\t\\U0001F4A1\tLight bulb\n",
    "✅\t\\U00002705\tGreen checkmark\n",
    "🎉\t\\U0001F389\tParty popper\n",
    "❌\t\\U0000274C\tRed cross mark\n",
    "🤔\t\\U0001F914\tThinking face\n",
    "🏆\t\\U0001F3C6\tTrophy\n",
    "🥇\t\\U0001F947\t1st place medal\n",
    "🥈\t\\U0001F948\t2nd place medal\n",
    "🎓\t\\U0001F393\tGraduation cap\n",
    "🎯\t\\U0001F3AF\tBullseye\n"
   ]
  },
  {
   "cell_type": "code",
   "execution_count": 59,
   "id": "3c537c28-6995-42a7-81b0-71f3f9d54c67",
   "metadata": {},
   "outputs": [
    {
     "name": "stdout",
     "output_type": "stream",
     "text": [
      "['apple', 'mango', 'cherry', 'banna', 'pineapple', 'tomato', 'onion', 'clove', 'ginger', 'coriander']\n"
     ]
    }
   ],
   "source": [
    "with open(word_file, 'r') as f:\n",
    "    words = f.read().strip().split(',')\n",
    "    print(words)"
   ]
  },
  {
   "cell_type": "code",
   "execution_count": 60,
   "id": "bd4de003-3303-485e-a4ef-5c3ea1ad6f70",
   "metadata": {},
   "outputs": [
    {
     "name": "stdout",
     "output_type": "stream",
     "text": [
      "\n",
      "🎮 Welcome to the Word Jumble Game! 🎮\n",
      "🔹 Try to guess the correct word. You have **two attempts**. Type 'exit' to quit.\n",
      "\n",
      "\n",
      "🔀 Jumbled Word: pepepnlai\n"
     ]
    },
    {
     "name": "stdin",
     "output_type": "stream",
     "text": [
      "💡 Can you guess?  pinneapple\n"
     ]
    },
    {
     "name": "stdout",
     "output_type": "stream",
     "text": [
      "❌ Incorrect!\n",
      "💡 CLUE: Thorny fruit, high export from Kerala\n"
     ]
    },
    {
     "name": "stdin",
     "output_type": "stream",
     "text": [
      "🤔 Take a second guess?  pineapple\n"
     ]
    },
    {
     "name": "stdout",
     "output_type": "stream",
     "text": [
      "✅ Correct! (+1 point) 🎉\n",
      "\n",
      "\n",
      "🔀 Jumbled Word: oionn\n"
     ]
    },
    {
     "name": "stdin",
     "output_type": "stream",
     "text": [
      "💡 Can you guess?  onion\n"
     ]
    },
    {
     "name": "stdout",
     "output_type": "stream",
     "text": [
      "✅ Correct! (+2 points) 🎉\n",
      "\n",
      "\n",
      "🔀 Jumbled Word: giengr\n"
     ]
    },
    {
     "name": "stdin",
     "output_type": "stream",
     "text": [
      "💡 Can you guess?  ginger\n"
     ]
    },
    {
     "name": "stdout",
     "output_type": "stream",
     "text": [
      "✅ Correct! (+2 points) 🎉\n",
      "\n",
      "\n",
      "🔀 Jumbled Word: cnardroie\n"
     ]
    },
    {
     "name": "stdin",
     "output_type": "stream",
     "text": [
      "💡 Can you guess?  coriander\n"
     ]
    },
    {
     "name": "stdout",
     "output_type": "stream",
     "text": [
      "✅ Correct! (+2 points) 🎉\n",
      "\n",
      "\n",
      "🔀 Jumbled Word: ocvle\n"
     ]
    },
    {
     "name": "stdin",
     "output_type": "stream",
     "text": [
      "💡 Can you guess?  clove\n"
     ]
    },
    {
     "name": "stdout",
     "output_type": "stream",
     "text": [
      "✅ Correct! (+2 points) 🎉\n",
      "\n",
      "\n",
      "🔀 Jumbled Word: aabnn\n"
     ]
    },
    {
     "name": "stdin",
     "output_type": "stream",
     "text": [
      "💡 Can you guess?  banana\n"
     ]
    },
    {
     "name": "stdout",
     "output_type": "stream",
     "text": [
      "❌ Incorrect!\n",
      "💡 CLUE: Yellow color, USA imports in tonnes\n"
     ]
    },
    {
     "name": "stdin",
     "output_type": "stream",
     "text": [
      "🤔 Take a second guess?  banna\n"
     ]
    },
    {
     "name": "stdout",
     "output_type": "stream",
     "text": [
      "✅ Correct! (+1 point) 🎉\n",
      "\n",
      "\n",
      "🔀 Jumbled Word: pepla\n"
     ]
    },
    {
     "name": "stdin",
     "output_type": "stream",
     "text": [
      "💡 Can you guess?  apple\n"
     ]
    },
    {
     "name": "stdout",
     "output_type": "stream",
     "text": [
      "✅ Correct! (+2 points) 🎉\n",
      "\n",
      "\n",
      "🔀 Jumbled Word: rcyreh\n"
     ]
    },
    {
     "name": "stdin",
     "output_type": "stream",
     "text": [
      "💡 Can you guess?  cherry\n"
     ]
    },
    {
     "name": "stdout",
     "output_type": "stream",
     "text": [
      "✅ Correct! (+2 points) 🎉\n",
      "\n",
      "\n",
      "🔀 Jumbled Word: tamoto\n"
     ]
    },
    {
     "name": "stdin",
     "output_type": "stream",
     "text": [
      "💡 Can you guess?  tomate\n"
     ]
    },
    {
     "name": "stdout",
     "output_type": "stream",
     "text": [
      "❌ Incorrect!\n",
      "💡 CLUE: A red shiny fruit\n"
     ]
    },
    {
     "name": "stdin",
     "output_type": "stream",
     "text": [
      "🤔 Take a second guess?  tomato\n"
     ]
    },
    {
     "name": "stdout",
     "output_type": "stream",
     "text": [
      "✅ Correct! (+1 point) 🎉\n",
      "\n",
      "\n",
      "🔀 Jumbled Word: mnoga\n"
     ]
    },
    {
     "name": "stdin",
     "output_type": "stream",
     "text": [
      "💡 Can you guess?  nogam\n"
     ]
    },
    {
     "name": "stdout",
     "output_type": "stream",
     "text": [
      "❌ Incorrect!\n",
      "💡 CLUE: Referred to as the king of fruits\n"
     ]
    },
    {
     "name": "stdin",
     "output_type": "stream",
     "text": [
      "🤔 Take a second guess?  mango\n"
     ]
    },
    {
     "name": "stdout",
     "output_type": "stream",
     "text": [
      "✅ Correct! (+1 point) 🎉\n",
      "\n",
      "\n",
      "🎯 Game Over! 🎯\n",
      "🏆 Total Points   = 16/20\n",
      "🥇 First Attempts = 6\n",
      "🥈 Second Attempts = 4\n",
      "🎓 Overall Grade  = A+\n",
      "\n"
     ]
    }
   ],
   "source": [
    "import random\n",
    "import json\n",
    "import os\n",
    "\n",
    "# Function to jumble a word\n",
    "def jumble(word):\n",
    "    temp = list(word)\n",
    "    random.shuffle(temp)\n",
    "    return ''.join(temp)\n",
    "\n",
    "# File paths\n",
    "word_file = r\"C:\\Users\\292593\\Desktop\\master\\python training\\python_code_submit\\Python-training\\word.txt\"\n",
    "hint_file = r\"C:\\Users\\292593\\Desktop\\master\\python training\\python_code_submit\\Python-training\\hints.txt\"\n",
    "\n",
    "# Check if files exist\n",
    "if not os.path.exists(word_file) or not os.path.exists(hint_file):\n",
    "    print(\"❌ Error: One or more required files are missing!\")\n",
    "    exit()\n",
    "\n",
    "# Read words\n",
    "with open(word_file, 'r') as f:\n",
    "    words = f.read().strip().split(',')\n",
    "\n",
    "# Read hints\n",
    "with open(hint_file, 'r') as f:\n",
    "    hints = json.load(f)\n",
    "\n",
    "# Shuffle words\n",
    "random.shuffle(words)\n",
    "\n",
    "# Game variables\n",
    "score = 0\n",
    "first_attempts = 0\n",
    "second_attempts = 0\n",
    "total_rounds = len(words)\n",
    "\n",
    "print(\"\\n🎮 Welcome to the Word Jumble Game! 🎮\")\n",
    "print(\"🔹 Try to guess the correct word. You have **two attempts**. Type 'exit' to quit.\\n\")\n",
    "\n",
    "# Start the game loop\n",
    "for word in words:\n",
    "    jumbled_word = jumble(word.strip())\n",
    "\n",
    "    print(f\"\\n🔀 Jumbled Word: {jumbled_word}\")\n",
    "\n",
    "    # First attempt\n",
    "    user_guess = input(\"💡 Can you guess? \").strip().lower()\n",
    "\n",
    "    if user_guess == \"exit\":\n",
    "        break\n",
    "\n",
    "    if user_guess == word.lower():\n",
    "        print(\"✅ Correct! (+2 points) 🎉\\n\")\n",
    "        score += 2\n",
    "        first_attempts += 1\n",
    "    else:\n",
    "        # First attempt was wrong\n",
    "        print(\"❌ Incorrect!\")\n",
    "\n",
    "        # Provide a hint\n",
    "        if word.strip() in hints:\n",
    "            print(f\"💡 CLUE: {hints[word.strip()]}\")\n",
    "        else:\n",
    "            print(\"💡 CLUE: No hint available.\")\n",
    "\n",
    "        # Second attempt\n",
    "        user_guess = input(\"🤔 Take a second guess? \").strip().lower()\n",
    "\n",
    "        if user_guess == \"exit\":\n",
    "            break\n",
    "\n",
    "        if user_guess == word.lower():\n",
    "            print(\"✅ Correct! (+1 point) 🎉\\n\")\n",
    "            score += 1\n",
    "            second_attempts += 1\n",
    "        else:\n",
    "            print(f\"❌ Wrong! The correct word was: {word.strip()}\\n\")\n",
    "\n",
    "# Grading System\n",
    "max_score = total_rounds * 2\n",
    "percentage = (score / max_score) * 100\n",
    "\n",
    "if percentage >= 80:\n",
    "    grade = \"A+\"\n",
    "elif percentage >= 60:\n",
    "    grade = \"A\"\n",
    "elif percentage >= 40:\n",
    "    grade = \"B+\"\n",
    "elif percentage >= 20:\n",
    "    grade = \"B\"\n",
    "else:\n",
    "    grade = \"C\"\n",
    "\n",
    "# Final Results\n",
    "print(\"\\n🎯 Game Over! 🎯\")\n",
    "print(f\"🏆 Total Points   = {score}/{max_score}\")\n",
    "print(f\"🥇 First Attempts = {first_attempts}\")\n",
    "print(f\"🥈 Second Attempts = {second_attempts}\")\n",
    "print(f\"🎓 Overall Grade  = {grade}\\n\")\n"
   ]
  },
  {
   "cell_type": "code",
   "execution_count": 109,
   "id": "449a44a1-9e9b-4d83-9aba-f8d474b835e5",
   "metadata": {},
   "outputs": [
    {
     "name": "stdout",
     "output_type": "stream",
     "text": [
      "\n",
      "🎮 Welcome to the **Word Jumble Game!** 🎮\n",
      "🔹 **Try to guess the correct word.** You have **two attempts**. Type '❌ exit' to quit.\n",
      "\n",
      "\n",
      "🔀 **Jumbled Word:** 🌀 nagmo\n"
     ]
    },
    {
     "name": "stdin",
     "output_type": "stream",
     "text": [
      "💡 Can you guess? 🎤  as\n"
     ]
    },
    {
     "name": "stdout",
     "output_type": "stream",
     "text": [
      "❌ **Incorrect! Try again...**\n",
      "💡 **CLUE:** Referred to as the king of fruits\n"
     ]
    },
    {
     "name": "stdin",
     "output_type": "stream",
     "text": [
      "🤔 Take a second guess? 🎤  mango\n"
     ]
    },
    {
     "name": "stdout",
     "output_type": "stream",
     "text": [
      "✅ **Correct! (+1 point) 🎉**\n",
      "\n",
      "\n",
      "🔀 **Jumbled Word:** 🌀 yrechr\n"
     ]
    },
    {
     "name": "stdin",
     "output_type": "stream",
     "text": [
      "💡 Can you guess? 🎤  as\n"
     ]
    },
    {
     "name": "stdout",
     "output_type": "stream",
     "text": [
      "❌ **Incorrect! Try again...**\n",
      "💡 **CLUE:** Linked to a band\n"
     ]
    },
    {
     "name": "stdin",
     "output_type": "stream",
     "text": [
      "🤔 Take a second guess? 🎤  cherry\n"
     ]
    },
    {
     "name": "stdout",
     "output_type": "stream",
     "text": [
      "✅ **Correct! (+1 point) 🎉**\n",
      "\n",
      "\n",
      "🔀 **Jumbled Word:** 🌀 nbana\n"
     ]
    },
    {
     "name": "stdin",
     "output_type": "stream",
     "text": [
      "💡 Can you guess? 🎤  banna\n"
     ]
    },
    {
     "name": "stdout",
     "output_type": "stream",
     "text": [
      "✅ **Correct! (+2 points) 🎉🎊**\n",
      "\n",
      "\n",
      "🔀 **Jumbled Word:** 🌀 aonrecdir\n"
     ]
    },
    {
     "name": "stdin",
     "output_type": "stream",
     "text": [
      "💡 Can you guess? 🎤  coriander\n"
     ]
    },
    {
     "name": "stdout",
     "output_type": "stream",
     "text": [
      "✅ **Correct! (+2 points) 🎉🎊**\n",
      "\n",
      "\n",
      "🔀 **Jumbled Word:** 🌀 elaeppnip\n"
     ]
    },
    {
     "name": "stdin",
     "output_type": "stream",
     "text": [
      "💡 Can you guess? 🎤  pinneapple\n"
     ]
    },
    {
     "name": "stdout",
     "output_type": "stream",
     "text": [
      "❌ **Incorrect! Try again...**\n",
      "💡 **CLUE:** Thorny fruit, high export from Kerala\n"
     ]
    },
    {
     "name": "stdin",
     "output_type": "stream",
     "text": [
      "🤔 Take a second guess? 🎤  pineapple\n"
     ]
    },
    {
     "name": "stdout",
     "output_type": "stream",
     "text": [
      "✅ **Correct! (+1 point) 🎉**\n",
      "\n",
      "\n",
      "🔀 **Jumbled Word:** 🌀 egrgin\n"
     ]
    },
    {
     "name": "stdin",
     "output_type": "stream",
     "text": [
      "💡 Can you guess? 🎤  fr\n"
     ]
    },
    {
     "name": "stdout",
     "output_type": "stream",
     "text": [
      "❌ **Incorrect! Try again...**\n",
      "💡 **CLUE:** A root used for medicinal purposes\n"
     ]
    },
    {
     "name": "stdin",
     "output_type": "stream",
     "text": [
      "🤔 Take a second guess? 🎤  ginger\n"
     ]
    },
    {
     "name": "stdout",
     "output_type": "stream",
     "text": [
      "✅ **Correct! (+1 point) 🎉**\n",
      "\n",
      "\n",
      "🔀 **Jumbled Word:** 🌀 tooamt\n"
     ]
    },
    {
     "name": "stdin",
     "output_type": "stream",
     "text": [
      "💡 Can you guess? 🎤  tomato\n"
     ]
    },
    {
     "name": "stdout",
     "output_type": "stream",
     "text": [
      "✅ **Correct! (+2 points) 🎉🎊**\n",
      "\n",
      "\n",
      "🔀 **Jumbled Word:** 🌀 evlco\n"
     ]
    },
    {
     "name": "stdin",
     "output_type": "stream",
     "text": [
      "💡 Can you guess? 🎤  asd\n"
     ]
    },
    {
     "name": "stdout",
     "output_type": "stream",
     "text": [
      "❌ **Incorrect! Try again...**\n",
      "💡 **CLUE:** Used as a spice\n"
     ]
    },
    {
     "name": "stdin",
     "output_type": "stream",
     "text": [
      "🤔 Take a second guess? 🎤  clove\n"
     ]
    },
    {
     "name": "stdout",
     "output_type": "stream",
     "text": [
      "✅ **Correct! (+1 point) 🎉**\n",
      "\n",
      "\n",
      "🔀 **Jumbled Word:** 🌀 eplpa\n"
     ]
    },
    {
     "name": "stdin",
     "output_type": "stream",
     "text": [
      "💡 Can you guess? 🎤  apple\n"
     ]
    },
    {
     "name": "stdout",
     "output_type": "stream",
     "text": [
      "✅ **Correct! (+2 points) 🎉🎊**\n",
      "\n",
      "\n",
      "🔀 **Jumbled Word:** 🌀 nnoio\n"
     ]
    },
    {
     "name": "stdin",
     "output_type": "stream",
     "text": [
      "💡 Can you guess? 🎤  onion\n"
     ]
    },
    {
     "name": "stdout",
     "output_type": "stream",
     "text": [
      "✅ **Correct! (+2 points) 🎉🎊**\n",
      "\n",
      "\n",
      "🎯 **Game Over!** 🎯\n",
      "🏆 **Total Points:** 15/20\n",
      "🥇 **First Attempts:** 5\n",
      "🥈 **Second Attempts:** 5\n",
      "🎓 **Overall Grade:** 🥇 A\n",
      "\n",
      "🎉 **Thanks for playing! See you again!** 🚀\n"
     ]
    }
   ],
   "source": [
    "import random\n",
    "import json\n",
    "import os\n",
    "\n",
    "# 🎲 Function to jumble a word\n",
    "def jumble(word):\n",
    "    temp = list(word)\n",
    "    random.shuffle(temp)\n",
    "    return ''.join(temp)\n",
    "\n",
    "# 📂 File paths\n",
    "word_file = r\"C:\\Users\\292593\\Desktop\\master\\python training\\python_code_submit\\Python-training\\word.txt\"\n",
    "hint_file = r\"C:\\Users\\292593\\Desktop\\master\\python training\\python_code_submit\\Python-training\\hints.txt\"\n",
    "\n",
    "# ✅ Check if files exist before proceeding\n",
    "if not os.path.exists(word_file) or not os.path.exists(hint_file):\n",
    "    print(\"❌ Error: One or more required files are missing!\")\n",
    "    exit()\n",
    "\n",
    "# 📖 Read words from word.txt\n",
    "with open(word_file, 'r') as f:\n",
    "    words = f.read().strip().split(',')\n",
    "\n",
    "# 📝 Read hints from hints.txt (JSON file)\n",
    "with open(hint_file, 'r') as f:\n",
    "    hints = json.load(f)\n",
    "\n",
    "# 🔀 Shuffle words randomly\n",
    "random.shuffle(words)\n",
    "\n",
    "# 🏆 Game variables\n",
    "score = 0\n",
    "first_attempts = 0\n",
    "second_attempts = 0\n",
    "total_rounds = len(words)\n",
    "\n",
    "print(\"\\n🎮 Welcome to the **Word Jumble Game!** 🎮\")\n",
    "print(\"🔹 **Try to guess the correct word.** You have **two attempts**. Type '❌ exit' to quit.\\n\")\n",
    "\n",
    "# 🔥 Start the game loop\n",
    "for word in words:\n",
    "    jumbled_word = jumble(word.strip())\n",
    "\n",
    "    print(f\"\\n🔀 **Jumbled Word:** 🌀 {jumbled_word}\")\n",
    "\n",
    "    # 🏅 First attempt\n",
    "    user_guess = input(\"💡 Can you guess? 🎤 \").strip().lower()\n",
    "\n",
    "    if user_guess == \"exit\":\n",
    "        print(\"👋 Exiting the game... See you next time! 🚀\")\n",
    "        break\n",
    "\n",
    "    if user_guess == word.lower():\n",
    "        print(\"✅ **Correct! (+2 points) 🎉🎊**\\n\")\n",
    "        score += 2\n",
    "        first_attempts += 1\n",
    "    else:\n",
    "        # First attempt was **wrong**\n",
    "        print(\"❌ **Incorrect! Try again...**\")\n",
    "\n",
    "        # 🛎️ Provide a hint\n",
    "        if word.strip() in hints:\n",
    "            print(f\"💡 **CLUE:** {hints[word.strip()]}\")\n",
    "        else:\n",
    "            print(\"💡 **CLUE:** No hint available.\")\n",
    "\n",
    "        # 🎭 Second attempt\n",
    "        user_guess = input(\"🤔 Take a second guess? 🎤 \").strip().lower()\n",
    "\n",
    "        if user_guess == \"exit\":\n",
    "            print(\"👋 Exiting the game... See you next time! 🚀\")\n",
    "            break\n",
    "\n",
    "        if user_guess == word.lower():\n",
    "            print(\"✅ **Correct! (+1 point) 🎉**\\n\")\n",
    "            score += 1\n",
    "            second_attempts += 1\n",
    "        else:\n",
    "            print(f\"❌ **Wrong! The correct word was:** {word.strip()} 🚨\\n\")\n",
    "\n",
    "# 📊 **Grading System**\n",
    "max_score = total_rounds * 2  # Maximum possible score (2 points per word)\n",
    "percentage = (score / max_score) * 100\n",
    "\n",
    "if percentage >= 80:\n",
    "    grade = \"🏅 A+ 🎖️\"\n",
    "elif percentage >= 60:\n",
    "    grade = \"🥇 A\"\n",
    "elif percentage >= 40:\n",
    "    grade = \"🥈 B+\"\n",
    "elif percentage >= 20:\n",
    "    grade = \"🥉 B\"\n",
    "else:\n",
    "    grade = \"❌ C\"\n",
    "\n",
    "# 🎯 **Final Results**\n",
    "print(\"\\n🎯 **Game Over!** 🎯\")\n",
    "print(f\"🏆 **Total Points:** {score}/{max_score}\")\n",
    "print(f\"🥇 **First Attempts:** {first_attempts}\")\n",
    "print(f\"🥈 **Second Attempts:** {second_attempts}\")\n",
    "print(f\"🎓 **Overall Grade:** {grade}\\n\")\n",
    "print(\"🎉 **Thanks for playing! See you again!** 🚀\")\n"
   ]
  },
  {
   "cell_type": "code",
   "execution_count": 107,
   "id": "16dda0be-0fd3-4a5c-9e0c-64acdd0bc38d",
   "metadata": {},
   "outputs": [
    {
     "name": "stdout",
     "output_type": "stream",
     "text": [
      "\n",
      "🎮 **Welcome to the Word Jumble Game!** 🚀\n",
      "🔹 **Try to guess the correct word.** You have **two attempts**. Type '❌ exit' to quit.\n",
      "\n",
      "\n",
      "🔀 **Jumbled Word:** 🌀 plape\n"
     ]
    },
    {
     "name": "stdin",
     "output_type": "stream",
     "text": [
      "💡 **Can you guess? 🎤**  aws\n"
     ]
    },
    {
     "name": "stdout",
     "output_type": "stream",
     "text": [
      "❌ **Incorrect! Try again...** 🚨\n",
      "💡 **CLUE:** 🧐 It is mentioned in a proverb\n",
      "\n",
      "🔀 **Jumbled Word:** 🌀 nrcedirao\n"
     ]
    },
    {
     "name": "stdin",
     "output_type": "stream",
     "text": [
      "💡 **Can you guess? 🎤**  as\n"
     ]
    },
    {
     "name": "stdout",
     "output_type": "stream",
     "text": [
      "❌ **Incorrect! Try again...** 🚨\n",
      "💡 **CLUE:** 🧐 A green vegetable\n",
      "\n",
      "🔀 **Jumbled Word:** 🌀 tmaoot\n"
     ]
    },
    {
     "name": "stdin",
     "output_type": "stream",
     "text": [
      "💡 **Can you guess? 🎤**  w\n"
     ]
    },
    {
     "name": "stdout",
     "output_type": "stream",
     "text": [
      "❌ **Incorrect! Try again...** 🚨\n",
      "💡 **CLUE:** 🧐 A red shiny fruit\n",
      "\n",
      "🔀 **Jumbled Word:** 🌀 ionon\n"
     ]
    },
    {
     "name": "stdin",
     "output_type": "stream",
     "text": [
      "💡 **Can you guess? 🎤**  2\n"
     ]
    },
    {
     "name": "stdout",
     "output_type": "stream",
     "text": [
      "❌ **Incorrect! Try again...** 🚨\n",
      "💡 **CLUE:** 🧐 Layered vegetable\n",
      "\n",
      "🔀 **Jumbled Word:** 🌀 erhryc\n"
     ]
    },
    {
     "name": "stdin",
     "output_type": "stream",
     "text": [
      "💡 **Can you guess? 🎤**  2\n"
     ]
    },
    {
     "name": "stdout",
     "output_type": "stream",
     "text": [
      "❌ **Incorrect! Try again...** 🚨\n",
      "💡 **CLUE:** 🧐 Linked to a band\n",
      "\n",
      "🔀 **Jumbled Word:** 🌀 bnaan\n"
     ]
    },
    {
     "name": "stdin",
     "output_type": "stream",
     "text": [
      "💡 **Can you guess? 🎤**  3\n"
     ]
    },
    {
     "name": "stdout",
     "output_type": "stream",
     "text": [
      "❌ **Incorrect! Try again...** 🚨\n",
      "💡 **CLUE:** 🧐 Yellow color, USA imports in tonnes\n",
      "\n",
      "🔀 **Jumbled Word:** 🌀 ppplneiea\n"
     ]
    },
    {
     "name": "stdin",
     "output_type": "stream",
     "text": [
      "💡 **Can you guess? 🎤**  4\n"
     ]
    },
    {
     "name": "stdout",
     "output_type": "stream",
     "text": [
      "❌ **Incorrect! Try again...** 🚨\n",
      "💡 **CLUE:** 🧐 Thorny fruit, high export from Kerala\n",
      "\n",
      "🔀 **Jumbled Word:** 🌀 negigr\n"
     ]
    },
    {
     "name": "stdin",
     "output_type": "stream",
     "text": [
      "💡 **Can you guess? 🎤**  e\n"
     ]
    },
    {
     "name": "stdout",
     "output_type": "stream",
     "text": [
      "❌ **Incorrect! Try again...** 🚨\n",
      "💡 **CLUE:** 🧐 A root used for medicinal purposes\n",
      "\n",
      "🔀 **Jumbled Word:** 🌀 magon\n"
     ]
    },
    {
     "name": "stdin",
     "output_type": "stream",
     "text": [
      "💡 **Can you guess? 🎤**  w\n"
     ]
    },
    {
     "name": "stdout",
     "output_type": "stream",
     "text": [
      "❌ **Incorrect! Try again...** 🚨\n",
      "💡 **CLUE:** 🧐 Referred to as the king of fruits\n",
      "\n",
      "🔀 **Jumbled Word:** 🌀 lvoec\n"
     ]
    },
    {
     "name": "stdin",
     "output_type": "stream",
     "text": [
      "💡 **Can you guess? 🎤**  sa\n"
     ]
    },
    {
     "name": "stdout",
     "output_type": "stream",
     "text": [
      "❌ **Incorrect! Try again...** 🚨\n",
      "💡 **CLUE:** 🧐 Used as a spice\n"
     ]
    }
   ],
   "source": [
    "import random\n",
    "import json\n",
    "import os\n",
    "\n",
    "# 🎲 Function to jumble a word\n",
    "def jumble(word):\n",
    "    temp = list(word)\n",
    "    random.shuffle(temp)\n",
    "    return ''.join(temp)\n",
    "\n",
    "# 📂 File paths\n",
    "word_file = r\"C:\\Users\\292593\\Desktop\\master\\python training\\python_code_submit\\Python-training\\word.txt\"\n",
    "hint_file = r\"C:\\Users\\292593\\Desktop\\master\\python training\\python_code_submit\\Python-training\\hints.txt\"\n",
    "\n",
    "# ✅ Check if files exist before proceeding\n",
    "if not os.path.exists(word_file) or not os.path.exists(hint_file):\n",
    "    print(\"\\u274C Error: One or more required files are missing! \\U0001F6D1\")\n",
    "    exit()\n",
    "\n",
    "# 📖 Read words from word.txt\n",
    "with open(word_file, 'r') as f:\n",
    "    words = f.read().strip().split(',')\n",
    "\n",
    "# 📝 Read hints from hints.txt (JSON file)\n",
    "with open(hint_file, 'r') as f:\n",
    "    hints = json.load(f)\n",
    "\n",
    "# 🔀 Shuffle words randomly\n",
    "random.shuffle(words)\n",
    "\n",
    "# 🏆 Game variables\n",
    "score = 0\n",
    "first_attempts = 0\n",
    "second_attempts = 0\n",
    "total_rounds = len(words)\n",
    "\n",
    "print(\"\\n\\U0001F3AE **Welcome to the Word Jumble Game!** \\U0001F680\")\n",
    "print(\"\\U0001F539 **Try to guess the correct word.** You have **two attempts**. Type '\\u274C exit' to quit.\\n\")\n",
    "\n",
    "# 🔥 Start the game loop\n",
    "for word in words:\n",
    "    jumbled_word = jumble(word.strip())\n",
    "\n",
    "    print(f\"\\n\\U0001F500 **Jumbled Word:** \\U0001F300 {jumbled_word}\")\n",
    "\n",
    "    # 🏅 First attempt\n",
    "    user_guess = input(\"\\U0001F4A1 **Can you guess? \\U0001F3A4** \").strip().lower()\n",
    "\n",
    "    if user_guess == \"exit\":\n",
    "        print(\"\\U0001F44B **Exiting the game... See you next time! \\U0001F680**\")\n",
    "        break\n",
    "\n",
    "    if user_guess == word.lower():\n",
    "        print(\"\\u2705 **Correct! \\U0001F389 (+2 points) \\U0001F3C6**\\n\")\n",
    "        score += 2\n",
    "        first_attempts += 1\n",
    "    else:\n",
    "        # First attempt was **wrong**\n",
    "        print(\"\\u274C **Incorrect! Try again...** \\U0001F6A8\")\n",
    "\n",
    "        # 🛎️ Provide a hint\n",
    "        if word.strip() in hints:\n",
    "            print(f\"\\U0001F4A1 **CLUE:** \\U0001F9D0 {hints[word.strip()]}\")\n",
    "        else:\n",
    "            print(\"\\U0001F4A1\")\n"
   ]
  },
  {
   "cell_type": "markdown",
   "id": "7b7332e1-78d0-418a-9353-7f34489acf60",
   "metadata": {},
   "source": [
    "# Exceptions"
   ]
  },
  {
   "cell_type": "code",
   "execution_count": 64,
   "id": "cc546124-5aca-4fde-9cbd-0deb1c76127d",
   "metadata": {},
   "outputs": [
    {
     "name": "stdout",
     "output_type": "stream",
     "text": [
      "Exception occur\n"
     ]
    }
   ],
   "source": [
    "try :\n",
    "    a=10\n",
    "    b=0\n",
    "    print(a/b)\n",
    "except:\n",
    "    print(\"Exception occur\")\n",
    "    "
   ]
  },
  {
   "cell_type": "code",
   "execution_count": 65,
   "id": "b4eb4845-c20a-40c4-b298-6b6e551eb454",
   "metadata": {},
   "outputs": [
    {
     "name": "stdout",
     "output_type": "stream",
     "text": [
      "0.5\n"
     ]
    }
   ],
   "source": [
    "try :\n",
    "    a=10\n",
    "    b=20\n",
    "    print(a/b)\n",
    "except:\n",
    "    print(\"Exception occur\")\n",
    "    "
   ]
  },
  {
   "cell_type": "code",
   "execution_count": 67,
   "id": "a9905711-84b3-4089-b54a-20e743aca734",
   "metadata": {},
   "outputs": [
    {
     "name": "stdout",
     "output_type": "stream",
     "text": [
      "Exception occur : division by zero\n"
     ]
    }
   ],
   "source": [
    "try :\n",
    "    a=10\n",
    "    b=0\n",
    "    print(a/b)\n",
    "except Exception as e:\n",
    "    print(\"Exception occur : {}\".format(e))\n",
    "    "
   ]
  },
  {
   "cell_type": "code",
   "execution_count": 68,
   "id": "68012971-7c21-4f27-a4a5-58d5a6a8c1dd",
   "metadata": {},
   "outputs": [
    {
     "name": "stdout",
     "output_type": "stream",
     "text": [
      "0.5\n",
      "The block got excuted\n"
     ]
    }
   ],
   "source": [
    "try :\n",
    "    a=10\n",
    "    b=20\n",
    "    print(a/b)\n",
    "except Exception as e:\n",
    "    print(\"Exception occur : {}\".format(e))\n",
    "print(\"The block got excuted\")    "
   ]
  },
  {
   "cell_type": "code",
   "execution_count": 69,
   "id": "1affd9b3-d5d2-4527-9c38-f6c8ffeeaa20",
   "metadata": {},
   "outputs": [
    {
     "name": "stdout",
     "output_type": "stream",
     "text": [
      "Exception occur : division by zero\n",
      "Thank you \n"
     ]
    }
   ],
   "source": [
    "try :\n",
    "    a=10\n",
    "    b=20\n",
    "    print(a/0)\n",
    "except Exception as e:\n",
    "    print(\"Exception occur : {}\".format(e))\n",
    "else:\n",
    "    print(\"completed operATIONS\")\n",
    "finally :\n",
    "    print(\"Thank you \")"
   ]
  },
  {
   "cell_type": "code",
   "execution_count": 70,
   "id": "7b0ba3f5-f0d4-4b8d-8ccb-3208a3522058",
   "metadata": {},
   "outputs": [
    {
     "name": "stdout",
     "output_type": "stream",
     "text": [
      "0.5\n",
      "completed operATIONS\n",
      "Thank you \n"
     ]
    }
   ],
   "source": [
    "try :\n",
    "    a=10\n",
    "    b=20\n",
    "    print(a/b)\n",
    "except Exception as e:\n",
    "    print(\"Exception occur : {}\".format(e))\n",
    "else:\n",
    "    print(\"completed operATIONS\")\n",
    "finally :\n",
    "    print(\"Thank you \")"
   ]
  },
  {
   "cell_type": "code",
   "execution_count": 71,
   "id": "ca06bee6-7dda-4ae9-9008-eed35b6432f2",
   "metadata": {},
   "outputs": [
    {
     "name": "stdout",
     "output_type": "stream",
     "text": [
      "0.25\n",
      "completed opeations\n",
      "Thanku\n"
     ]
    }
   ],
   "source": [
    "try:\n",
    "\n",
    "    a=10\n",
    "\n",
    "    b=40\n",
    "\n",
    "    print(a/b)  #it will try to execute.a/b\n",
    "\n",
    "except ZeroDivisonError:\n",
    "\n",
    "    print(\"Zero division Exception occured!\")  \n",
    "\n",
    "except ValueError:\n",
    "\n",
    "    print(\"value Exception occured!\")\n",
    "\n",
    "except FileNotFoundError:\n",
    "\n",
    "    print(\"file does not exist\")\n",
    "\n",
    "except Exception as e:\n",
    "\n",
    "    print(f\"Exception occured!{e}\")\n",
    "\n",
    "else:\n",
    "\n",
    "    print(\"completed opeations\")\n",
    "\n",
    "finally:#this will execute whatever be the case\n",
    "\n",
    "    print(\"Thanku\")\n",
    " "
   ]
  },
  {
   "cell_type": "code",
   "execution_count": 74,
   "id": "dbb4c6e9-7361-4832-b838-4b8fa2831e14",
   "metadata": {},
   "outputs": [
    {
     "name": "stdout",
     "output_type": "stream",
     "text": [
      "file does not exist\n",
      "Thanku\n"
     ]
    }
   ],
   "source": [
    "try:\n",
    "\n",
    "    a=10\n",
    "\n",
    "    b=40\n",
    "    open('x')\n",
    "    D={}\n",
    "\n",
    "    print(a/b)  #it will try to execute.a/b\n",
    "\n",
    "except ZeroDivisionError:\n",
    "\n",
    "    print(\"Donot divide by zero!\")  \n",
    "\n",
    "except ValueError:\n",
    "\n",
    "    print(\"value Exception occured!\")\n",
    "\n",
    "except FileNotFoundError:\n",
    "\n",
    "    print(\"file does not exist\")\n",
    "\n",
    "except Exception as e:\n",
    "\n",
    "    print(f\"Exception occured!{e}\")\n",
    "\n",
    "else:\n",
    "\n",
    "    print(\"completed opeations\")\n",
    "\n",
    "finally:#this will execute whatever be the case\n",
    "\n",
    "    print(\"Thanku\")\n",
    " "
   ]
  },
  {
   "cell_type": "code",
   "execution_count": 76,
   "id": "86ff7657-a248-4fde-8c97-d4bdc6ec2d92",
   "metadata": {},
   "outputs": [
    {
     "name": "stdout",
     "output_type": "stream",
     "text": [
      "0.25\n",
      "\n",
      "completed opeations\n",
      "Thanku\n"
     ]
    }
   ],
   "source": [
    "try:\n",
    "\n",
    "    a=10\n",
    "\n",
    "    b=40\n",
    "    #open('x')\n",
    "    #D={}\n",
    "\n",
    "    print(a/b)  #it will try to execute.a/b\n",
    "    print()\n",
    "\n",
    "except ZeroDivisionError:\n",
    "\n",
    "    print(\"Donot divide by zero!\")  \n",
    "\n",
    "except ValueError:\n",
    "\n",
    "    print(\"value Exception occured!\")\n",
    "\n",
    "except FileNotFoundError:\n",
    "\n",
    "    print(\"file does not exist\")\n",
    "\n",
    "except Exception as e:\n",
    "\n",
    "    print(f\"Exception occured!{e}\")\n",
    "\n",
    "else:\n",
    "\n",
    "    print(\"completed opeations\")\n",
    "\n",
    "finally:#this will execute whatever be the case\n",
    "\n",
    "    print(\"Thanku\")\n",
    " "
   ]
  },
  {
   "cell_type": "code",
   "execution_count": 78,
   "id": "96ae5ae7-8f40-4696-81ca-a66f4c61f134",
   "metadata": {},
   "outputs": [
    {
     "name": "stdout",
     "output_type": "stream",
     "text": [
      "0.25\n",
      "completed opeations\n",
      "Thanku\n"
     ]
    }
   ],
   "source": [
    "try:\n",
    "\n",
    "    a=10\n",
    "\n",
    "    b=40\n",
    "    #open('x')\n",
    "    #D={}\n",
    "\n",
    "    print(a/b)  #it will try to execute.a/b\n",
    "    assert (a+b>20)\n",
    "except ZeroDivisionError:\n",
    "\n",
    "    print(\"Donot divide by zero!\")  \n",
    "\n",
    "except ValueError:\n",
    "\n",
    "    print(\"value Exception occured!\")\n",
    "\n",
    "except FileNotFoundError:\n",
    "\n",
    "    print(\"file does not exist\")\n",
    "\n",
    "except Exception as e:\n",
    "\n",
    "    print(f\"Exception occured!{e}\")\n",
    "\n",
    "else:\n",
    "\n",
    "    print(\"completed opeations\")\n",
    "\n",
    "finally:#this will execute whatever be the case\n",
    "\n",
    "    print(\"Thanku\")\n",
    " "
   ]
  },
  {
   "cell_type": "code",
   "execution_count": 81,
   "id": "a9671550-3a35-458c-b5c4-f0b9a560c1ce",
   "metadata": {},
   "outputs": [
    {
     "name": "stdout",
     "output_type": "stream",
     "text": [
      "some other exception occured\n",
      "Thanku\n"
     ]
    }
   ],
   "source": [
    "try:\n",
    "    a=10\n",
    "    b=40\n",
    "    assert(a+b<30)  #it will try to execute.except\n",
    "except Exception as e:\n",
    "    print(\"some other exception occured{}\".format(e))\n",
    "else:\n",
    "    print(\"completed opeations\")\n",
    "finally:#this will execute whatever be the case\n",
    "    print(\"Thanku\")"
   ]
  },
  {
   "cell_type": "code",
   "execution_count": 83,
   "id": "cd6c43ba-810f-45b3-af13-e8c5139f6659",
   "metadata": {},
   "outputs": [],
   "source": [
    "def div(a,b):\n",
    "    if b==0:\n",
    "        raise ZerodivisionError(\"Donot Divide by 0\")\n",
    "    else:\n",
    "        return a/b\n",
    "        "
   ]
  },
  {
   "cell_type": "code",
   "execution_count": 85,
   "id": "7e88ac50-3ff8-4f49-91e2-273eb3ab7403",
   "metadata": {},
   "outputs": [
    {
     "ename": "NameError",
     "evalue": "name 'ZerodivisionError' is not defined",
     "output_type": "error",
     "traceback": [
      "\u001b[1;31m---------------------------------------------------------------------------\u001b[0m",
      "\u001b[1;31mNameError\u001b[0m                                 Traceback (most recent call last)",
      "Cell \u001b[1;32mIn[85], line 1\u001b[0m\n\u001b[1;32m----> 1\u001b[0m \u001b[38;5;28mprint\u001b[39m(div(\u001b[38;5;241m2\u001b[39m,\u001b[38;5;241m0\u001b[39m))\n",
      "Cell \u001b[1;32mIn[83], line 3\u001b[0m, in \u001b[0;36mdiv\u001b[1;34m(a, b)\u001b[0m\n\u001b[0;32m      1\u001b[0m \u001b[38;5;28;01mdef\u001b[39;00m \u001b[38;5;21mdiv\u001b[39m(a,b):\n\u001b[0;32m      2\u001b[0m     \u001b[38;5;28;01mif\u001b[39;00m b\u001b[38;5;241m==\u001b[39m\u001b[38;5;241m0\u001b[39m:\n\u001b[1;32m----> 3\u001b[0m         \u001b[38;5;28;01mraise\u001b[39;00m ZerodivisionError(\u001b[38;5;124m\"\u001b[39m\u001b[38;5;124mDonot Divide by 0\u001b[39m\u001b[38;5;124m\"\u001b[39m)\n\u001b[0;32m      4\u001b[0m     \u001b[38;5;28;01melse\u001b[39;00m:\n\u001b[0;32m      5\u001b[0m         \u001b[38;5;28;01mreturn\u001b[39;00m a\u001b[38;5;241m/\u001b[39mb\n",
      "\u001b[1;31mNameError\u001b[0m: name 'ZerodivisionError' is not defined"
     ]
    }
   ],
   "source": [
    "print(div(2,0))"
   ]
  },
  {
   "cell_type": "code",
   "execution_count": 86,
   "id": "9b634d14-a7e6-4619-8fd8-92450865b69d",
   "metadata": {},
   "outputs": [
    {
     "ename": "ZeroDivisionError",
     "evalue": "❌ Do not divide by 0",
     "output_type": "error",
     "traceback": [
      "\u001b[1;31m---------------------------------------------------------------------------\u001b[0m",
      "\u001b[1;31mZeroDivisionError\u001b[0m                         Traceback (most recent call last)",
      "Cell \u001b[1;32mIn[86], line 8\u001b[0m\n\u001b[0;32m      5\u001b[0m         \u001b[38;5;28;01mreturn\u001b[39;00m a \u001b[38;5;241m/\u001b[39m b\n\u001b[0;32m      7\u001b[0m \u001b[38;5;66;03m# Testing\u001b[39;00m\n\u001b[1;32m----> 8\u001b[0m \u001b[38;5;28mprint\u001b[39m(div(\u001b[38;5;241m2\u001b[39m, \u001b[38;5;241m0\u001b[39m))\n",
      "Cell \u001b[1;32mIn[86], line 3\u001b[0m, in \u001b[0;36mdiv\u001b[1;34m(a, b)\u001b[0m\n\u001b[0;32m      1\u001b[0m \u001b[38;5;28;01mdef\u001b[39;00m \u001b[38;5;21mdiv\u001b[39m(a, b):\n\u001b[0;32m      2\u001b[0m     \u001b[38;5;28;01mif\u001b[39;00m b \u001b[38;5;241m==\u001b[39m \u001b[38;5;241m0\u001b[39m:\n\u001b[1;32m----> 3\u001b[0m         \u001b[38;5;28;01mraise\u001b[39;00m \u001b[38;5;167;01mZeroDivisionError\u001b[39;00m(\u001b[38;5;124m\"\u001b[39m\u001b[38;5;124m❌ Do not divide by 0\u001b[39m\u001b[38;5;124m\"\u001b[39m)  \u001b[38;5;66;03m# ✅ Corrected exception name\u001b[39;00m\n\u001b[0;32m      4\u001b[0m     \u001b[38;5;28;01melse\u001b[39;00m:\n\u001b[0;32m      5\u001b[0m         \u001b[38;5;28;01mreturn\u001b[39;00m a \u001b[38;5;241m/\u001b[39m b\n",
      "\u001b[1;31mZeroDivisionError\u001b[0m: ❌ Do not divide by 0"
     ]
    }
   ],
   "source": [
    "def div(a, b):\n",
    "    if b == 0:\n",
    "        raise ZeroDivisionError(\"❌ Do not divide by 0\")  # ✅ Corrected exception name\n",
    "    else:\n",
    "        return a / b\n",
    "\n",
    "# Testing\n",
    "print(div(2, 0))  # 🚨 This will raise ZeroDivisionError\n"
   ]
  },
  {
   "cell_type": "raw",
   "id": "977d29f7-a3c7-4a15-94d8-815eeeb317f4",
   "metadata": {},
   "source": [
    "2. Create nfactorial(n) which raises an exception if the input value is 0 or less, test it\n",
    "3. Upgrade the getSpan(s, ss) function to raise an exception if ss = '' or s = '', test it"
   ]
  },
  {
   "cell_type": "markdown",
   "id": "585a199f-4020-4cf7-a47b-a1293eb021bd",
   "metadata": {},
   "source": [
    "# Q 2. Create nfactorial(n) which raises an exception if the input value is 0 or less, test it"
   ]
  },
  {
   "cell_type": "code",
   "execution_count": 103,
   "id": "7fc54390-07d1-433f-a161-e2e906affc7e",
   "metadata": {},
   "outputs": [
    {
     "name": "stdin",
     "output_type": "stream",
     "text": [
      "🤔 Enter a number:  5\n"
     ]
    },
    {
     "name": "stdout",
     "output_type": "stream",
     "text": [
      "✅ Factorial of 5 : 120\n"
     ]
    }
   ],
   "source": [
    "def nfactorial(n):\n",
    "    \"\"\"Computes factorial and raises ValueError for non-positive numbers.\"\"\"\n",
    "    if n <= 0:\n",
    "        raise ValueError(\"\\u274C Input must be greater than 0 to compute factorial!\")  # ❌ Unicode: U+274C\n",
    "\n",
    "    #fact = 1\n",
    "    if n==1:\n",
    "        return 1\n",
    "        \n",
    "         \n",
    "    return n*nfactorial(n-1) \n",
    "\n",
    "# Testing\n",
    "try:\n",
    "    a = int(input(\"\\U0001F914 Enter a number: \"))  # 🤔 Unicode: U+1F914\n",
    "    print(f\"\\u2705 Factorial of {a} : {nfactorial(a)}\")  # ✅ Unicode: U+2705\n",
    "\n",
    "except ValueError as e:\n",
    "    print(f\"\\U0001F6A8 Exception: {e}\")  # 🚨 Unicode: U+1F6A8\n"
   ]
  },
  {
   "cell_type": "code",
   "execution_count": 116,
   "id": "72fc6359-9c7e-495a-b576-eb9944d16b4b",
   "metadata": {},
   "outputs": [
    {
     "name": "stdin",
     "output_type": "stream",
     "text": [
      "Enter a number:  0\n"
     ]
    },
    {
     "name": "stdout",
     "output_type": "stream",
     "text": [
      "1\n"
     ]
    }
   ],
   "source": [
    "def fact(n):\n",
    "\n",
    "    if n<0:\n",
    "\n",
    "        raise ValueError(\"Input value must greater tha 0\")\n",
    "\n",
    "    elif n==0 or n==1:\n",
    "\n",
    "        return 1\n",
    "\n",
    "    else:\n",
    "\n",
    "        return n*fact(n-1)\n",
    " \n",
    "n=int(input(\"Enter a number: \"))\n",
    "\n",
    "print(fact(n))\n",
    " "
   ]
  },
  {
   "cell_type": "raw",
   "id": "32d548b0-cd00-4ca6-9b5a-262cd1d3f15c",
   "metadata": {},
   "source": [
    "# 3. Upgrade the getSpan(s, ss) function to raise an exception if ss = '' or s = '', test it"
   ]
  },
  {
   "cell_type": "code",
   "execution_count": 114,
   "id": "027f884a-fcb2-4554-8569-279c45f856da",
   "metadata": {},
   "outputs": [
    {
     "name": "stdin",
     "output_type": "stream",
     "text": [
      "🤔 Enter a string:   \n",
      "🤔 Enter a string:  \n"
     ]
    },
    {
     "name": "stdout",
     "output_type": "stream",
     "text": [
      "🚨 Exception: ❌ No empty string or empty spaces are allowed!\n"
     ]
    }
   ],
   "source": [
    "def getspan(s, r):\n",
    "\n",
    "    count = 0\n",
    "\n",
    "    spans = []\n",
    "\n",
    "    start = 0\n",
    "\n",
    "    while True:\n",
    "\n",
    "        start = s.find(r, start)\n",
    "\n",
    "        if start == -1:\n",
    "\n",
    "            break\n",
    "\n",
    "        end = start + len(r)\n",
    "\n",
    "        spans.append((start, end))\n",
    "\n",
    "        count += 1\n",
    "\n",
    "        start += 1  # Move to the next character to find subsequent occurrences\n",
    "\n",
    "    return count, spans\n",
    "try:\n",
    "    s=input(\"\\U0001F914 Enter a string: \" )\n",
    "    r=input(\"\\U0001F914 Enter a string: \" )\n",
    "\n",
    "    if s==\"\" or r==\"\" and s==\" \" or r==\" \":\n",
    "        raise ValueError(\"\\u274C No empty string or empty spaces are allowed!\")\n",
    "\n",
    "\n",
    "    count, spans = getspan(s, r)\n",
    "    print(f\"\\u2705 Found {count} occurrences at positions: {spans}\")  # ✅ Unicode: U+2705\n",
    "\n",
    "except ValueError as e:\n",
    "    print(f\"\\U0001F6A8 Exception: {e}\")  # 🚨 Unicode: U+1F6A8\n",
    "\n",
    "\n"
   ]
  },
  {
   "cell_type": "code",
   "execution_count": null,
   "id": "149f7926-7f38-4346-92cb-d89d80185712",
   "metadata": {},
   "outputs": [],
   "source": []
  },
  {
   "cell_type": "markdown",
   "id": "d629f776-cd54-43bc-b44f-139005c71531",
   "metadata": {},
   "source": [
    "# regular Expression "
   ]
  },
  {
   "cell_type": "code",
   "execution_count": 117,
   "id": "c9c8853a-31a9-4630-8563-159f1f2cb270",
   "metadata": {},
   "outputs": [],
   "source": [
    "import re"
   ]
  },
  {
   "cell_type": "code",
   "execution_count": 119,
   "id": "57da2894-ca8f-4f75-a515-c1b6685b6845",
   "metadata": {},
   "outputs": [],
   "source": [
    "p = r'\\d+\\.?\\d*'\n"
   ]
  },
  {
   "cell_type": "code",
   "execution_count": 120,
   "id": "c9cb87aa-c514-409b-939e-d618da9baf75",
   "metadata": {},
   "outputs": [
    {
     "data": {
      "text/plain": [
       "<re.Match object; span=(0, 5), match='12.45'>"
      ]
     },
     "execution_count": 120,
     "metadata": {},
     "output_type": "execute_result"
    }
   ],
   "source": [
    "re.match(p,\"12.45\")"
   ]
  },
  {
   "cell_type": "code",
   "execution_count": 121,
   "id": "8f540dbe-2655-49a3-850a-9fd38fcb693f",
   "metadata": {},
   "outputs": [],
   "source": [
    "text=\"Temperature in TRV 34.56 and BLR is 32.0 degrees\""
   ]
  },
  {
   "cell_type": "code",
   "execution_count": 122,
   "id": "f7c47e80-db73-4dfb-8b99-d3bd3357d6cc",
   "metadata": {},
   "outputs": [],
   "source": [
    "re.match(p,text)"
   ]
  },
  {
   "cell_type": "code",
   "execution_count": 123,
   "id": "cf107222-e98e-4366-acc7-baea37b07e0a",
   "metadata": {},
   "outputs": [],
   "source": [
    "text2=\"13Temperature in TRV 34.56 and BLR is 32.0 degrees\""
   ]
  },
  {
   "cell_type": "code",
   "execution_count": 125,
   "id": "b86055f2-0039-4c94-a7ce-0a0ce60e7322",
   "metadata": {},
   "outputs": [
    {
     "data": {
      "text/plain": [
       "<re.Match object; span=(0, 2), match='13'>"
      ]
     },
     "execution_count": 125,
     "metadata": {},
     "output_type": "execute_result"
    }
   ],
   "source": [
    "re.match(p,text2)"
   ]
  },
  {
   "cell_type": "code",
   "execution_count": 126,
   "id": "b3249749-0c52-4048-ba86-a9f1d61a9eee",
   "metadata": {},
   "outputs": [
    {
     "data": {
      "text/plain": [
       "<re.Match object; span=(19, 24), match='34.56'>"
      ]
     },
     "execution_count": 126,
     "metadata": {},
     "output_type": "execute_result"
    }
   ],
   "source": [
    "re.search(p, text)"
   ]
  },
  {
   "cell_type": "code",
   "execution_count": 128,
   "id": "c040ac54-b9a5-44d7-ba4f-78225e9f23f0",
   "metadata": {},
   "outputs": [
    {
     "data": {
      "text/plain": [
       "['34.56', '32.0']"
      ]
     },
     "execution_count": 128,
     "metadata": {},
     "output_type": "execute_result"
    }
   ],
   "source": [
    "re.findall(p,text)"
   ]
  },
  {
   "cell_type": "code",
   "execution_count": 129,
   "id": "03080f56-ef9a-4f25-b112-f1a1a3227ebf",
   "metadata": {},
   "outputs": [
    {
     "data": {
      "text/plain": [
       "<callable_iterator at 0x20c27545330>"
      ]
     },
     "execution_count": 129,
     "metadata": {},
     "output_type": "execute_result"
    }
   ],
   "source": [
    "re.finditer(p,text)"
   ]
  },
  {
   "cell_type": "code",
   "execution_count": 132,
   "id": "2b82960b-faf0-460d-a27e-dca226b9b7db",
   "metadata": {},
   "outputs": [
    {
     "name": "stdout",
     "output_type": "stream",
     "text": [
      "34.56 -> (19, 24)\n",
      "32.0 -> (36, 40)\n"
     ]
    }
   ],
   "source": [
    "for m in re.finditer(p,text):\n",
    "    print(m.group() ,'->',m.span())"
   ]
  },
  {
   "cell_type": "code",
   "execution_count": 133,
   "id": "9fd7e39b-70db-4583-87db-3c6fba6a8d37",
   "metadata": {},
   "outputs": [],
   "source": [
    "# apply group() and span()"
   ]
  },
  {
   "cell_type": "markdown",
   "id": "438e633f-2a8e-490d-8d31-08211c7ee661",
   "metadata": {},
   "source": [
    "# substitution"
   ]
  },
  {
   "cell_type": "code",
   "execution_count": 135,
   "id": "c765c7b9-e989-4d00-bec0-153080d7cd8d",
   "metadata": {},
   "outputs": [
    {
     "data": {
      "text/plain": [
       "'Temperature in TRV <floating_point_number> and BLR is <floating_point_number> degrees'"
      ]
     },
     "execution_count": 135,
     "metadata": {},
     "output_type": "execute_result"
    }
   ],
   "source": [
    "re.sub(p,'<floating_point_number>',text)"
   ]
  },
  {
   "cell_type": "code",
   "execution_count": 136,
   "id": "aad966e6-c4a9-4f28-b190-65c0442bcfe0",
   "metadata": {},
   "outputs": [
    {
     "data": {
      "text/plain": [
       "('Temperature in TRV <floating_point_number> and BLR is <floating_point_number> degrees',\n",
       " 2)"
      ]
     },
     "execution_count": 136,
     "metadata": {},
     "output_type": "execute_result"
    }
   ],
   "source": [
    "re.subn(p,'<floating_point_number>',text)"
   ]
  },
  {
   "cell_type": "markdown",
   "id": "71be99ec-c77d-403f-9a7d-074c9844e443",
   "metadata": {},
   "source": [
    "# Groups"
   ]
  },
  {
   "cell_type": "code",
   "execution_count": 137,
   "id": "765c5389-f8de-4514-b215-3d8f70218c56",
   "metadata": {},
   "outputs": [
    {
     "data": {
      "text/plain": [
       "'\\\\d+\\\\.?\\\\d*'"
      ]
     },
     "execution_count": 137,
     "metadata": {},
     "output_type": "execute_result"
    }
   ],
   "source": [
    "p"
   ]
  },
  {
   "cell_type": "code",
   "execution_count": 139,
   "id": "4a8eb77c-6d34-4fe3-869e-adab058ad7ff",
   "metadata": {},
   "outputs": [],
   "source": [
    "t= \" This line is 3.14159 floating point number \""
   ]
  },
  {
   "cell_type": "code",
   "execution_count": 141,
   "id": "2bf2ffde-7def-4724-bb36-5630ffb0d583",
   "metadata": {},
   "outputs": [],
   "source": [
    "m2=re.search(p,t)"
   ]
  },
  {
   "cell_type": "code",
   "execution_count": 142,
   "id": "12cfd0a2-9906-4255-a614-2a92ea132d7d",
   "metadata": {},
   "outputs": [
    {
     "data": {
      "text/plain": [
       "<re.Match object; span=(14, 21), match='3.14159'>"
      ]
     },
     "execution_count": 142,
     "metadata": {},
     "output_type": "execute_result"
    }
   ],
   "source": [
    "m2"
   ]
  },
  {
   "cell_type": "code",
   "execution_count": 143,
   "id": "2fd6f29a-77fc-4399-be1e-9eb8c22b28ee",
   "metadata": {},
   "outputs": [
    {
     "data": {
      "text/plain": [
       "'32.0'"
      ]
     },
     "execution_count": 143,
     "metadata": {},
     "output_type": "execute_result"
    }
   ],
   "source": [
    "m.group()"
   ]
  },
  {
   "cell_type": "code",
   "execution_count": 144,
   "id": "d61d8478-164a-4597-8936-c69e6798126a",
   "metadata": {},
   "outputs": [
    {
     "data": {
      "text/plain": [
       "'3.14159'"
      ]
     },
     "execution_count": 144,
     "metadata": {},
     "output_type": "execute_result"
    }
   ],
   "source": [
    "m2.group()"
   ]
  },
  {
   "cell_type": "code",
   "execution_count": 145,
   "id": "9482b3f8-e47b-4950-89dc-632dcb12ca46",
   "metadata": {},
   "outputs": [
    {
     "data": {
      "text/plain": [
       "'\\\\d+\\\\.?\\\\d*'"
      ]
     },
     "execution_count": 145,
     "metadata": {},
     "output_type": "execute_result"
    }
   ],
   "source": [
    "p"
   ]
  },
  {
   "cell_type": "code",
   "execution_count": 146,
   "id": "c20ebf89-bdd5-4c0e-a614-9882197f7d17",
   "metadata": {},
   "outputs": [],
   "source": [
    "p1=r'(\\d)\\.?(\\d*)'\n"
   ]
  },
  {
   "cell_type": "code",
   "execution_count": 147,
   "id": "8b0e6ff9-7aeb-465c-92d6-b8add5ae7735",
   "metadata": {},
   "outputs": [],
   "source": [
    "m3=re.search(p,t)"
   ]
  },
  {
   "cell_type": "code",
   "execution_count": 148,
   "id": "43e9ab70-bdbd-45b2-a9d7-e96ecbeb8a1b",
   "metadata": {},
   "outputs": [
    {
     "data": {
      "text/plain": [
       "<re.Match object; span=(14, 21), match='3.14159'>"
      ]
     },
     "execution_count": 148,
     "metadata": {},
     "output_type": "execute_result"
    }
   ],
   "source": [
    "m3"
   ]
  },
  {
   "cell_type": "raw",
   "id": "d269ac60-ea89-439c-b459-346d24f3639b",
   "metadata": {},
   "source": [
    "p2=r'(/p<int>\\d+)\\.?(?P)"
   ]
  },
  {
   "cell_type": "code",
   "execution_count": null,
   "id": "235c7a3a-b5d4-456f-81d8-585d43d881cf",
   "metadata": {},
   "outputs": [],
   "source": []
  }
 ],
 "metadata": {
  "kernelspec": {
   "display_name": "Python 3 (ipykernel)",
   "language": "python",
   "name": "python3"
  },
  "language_info": {
   "codemirror_mode": {
    "name": "ipython",
    "version": 3
   },
   "file_extension": ".py",
   "mimetype": "text/x-python",
   "name": "python",
   "nbconvert_exporter": "python",
   "pygments_lexer": "ipython3",
   "version": "3.12.4"
  }
 },
 "nbformat": 4,
 "nbformat_minor": 5
}
