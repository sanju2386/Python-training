{
 "cells": [
  {
   "cell_type": "raw",
   "id": "a8f8c517-5937-428a-b070-bc1add386c7e",
   "metadata": {},
   "source": [
    "Consider a list (list = []). You can perform the following commands:\n",
    "\n",
    "insert i e: Insert integer  at position .\n",
    "print: Print the list.\n",
    "remove e: Delete the first occurrence of integer .\n",
    "append e: Insert integer  at the end of the list.\n",
    "sort: Sort the list.\n",
    "pop: Pop the last element from the list.\n",
    "reverse: Reverse the list.\n",
    "Initialize your list and read in the value of  followed by  lines of commands where each command will be of the  types listed above. Iterate through each command in order and perform the corresponding operation on your list.\n",
    "\n",
    "Example\n",
    "\n",
    "\n",
    "\n",
    "\n",
    "\n",
    "\n",
    ": Append  to the list, .\n",
    ": Append  to the list, .\n",
    ": Insert  at index , .\n",
    ": Print the array.\n",
    "Output:\n",
    "[1, 3, 2]\n",
    "Input Format\n",
    "\n",
    "The first line contains an integer, , denoting the number of commands.\n",
    "Each line  of the  subsequent lines contains one of the commands described above.\n",
    "\n",
    "Constraints\n",
    "\n",
    "The elements added to the list must be integers.\n",
    "Output Format\n",
    "\n",
    "For each command of type print, print the list on a new line.\n",
    "\n",
    "Sample Input 0\n",
    "\n",
    "12\n",
    "insert 0 5\n",
    "insert 1 10\n",
    "insert 0 6\n",
    "print\n",
    "remove 6\n",
    "append 9\n",
    "append 1\n",
    "sort\n",
    "print\n",
    "pop\n",
    "reverse\n",
    "print\n",
    "Sample Output 0\n",
    "\n",
    "[6, 5, 10]\n",
    "[1, 5, 9, 10]\n",
    "[9, 5, 1]"
   ]
  },
  {
   "cell_type": "code",
   "execution_count": 3,
   "id": "19aa8d82-4170-470a-9386-86d4d64cf412",
   "metadata": {},
   "outputs": [
    {
     "name": "stdin",
     "output_type": "stream",
     "text": [
      " 3\n",
      " 'insert'\n",
      " 'pop'\n",
      " 'append'\n"
     ]
    }
   ],
   "source": [
    "\n",
    "N = int(input())  # Number of commands\n",
    "my_list = []\n",
    "\n",
    "for _ in range(N):\n",
    "    command = input().split()\n",
    "    action = command[0]\n",
    "\n",
    "    if action == 'insert':\n",
    "        index = int(command[1])\n",
    "        value = int(command[2])\n",
    "        my_list.insert(index, value)\n",
    "    elif action == 'print':\n",
    "        print(my_list)\n",
    "    elif action == 'remove':\n",
    "        value = int(command[1])\n",
    "        my_list.remove(value)\n",
    "    elif action == 'append':\n",
    "        value = int(command[1])\n",
    "        my_list.append(value)\n",
    "    elif action == 'sort':\n",
    "        my_list.sort()\n",
    "    elif action == 'pop':\n",
    "        my_list.pop()\n",
    "    elif action == 'reverse':\n",
    "        my_list.reverse()\n"
   ]
  },
  {
   "cell_type": "code",
   "execution_count": 4,
   "id": "e181843b-d5e5-4bcc-b56c-16552cb9d0d8",
   "metadata": {},
   "outputs": [
    {
     "name": "stdout",
     "output_type": "stream",
     "text": [
      "[]\n"
     ]
    }
   ],
   "source": [
    "print(my_list)\n"
   ]
  },
  {
   "cell_type": "code",
   "execution_count": 6,
   "id": "0281cb94-8b78-4641-8b80-a73f08d32d98",
   "metadata": {},
   "outputs": [
    {
     "name": "stdin",
     "output_type": "stream",
     "text": [
      " 3\n",
      " 'insert' 0,5\n",
      " 'pop'\n",
      " 'print'\n"
     ]
    }
   ],
   "source": [
    "if __name__ == '__main__':\n",
    "    N = int(input())  # Number of commands\n",
    "    my_list = []\n",
    "\n",
    "    def output(command, my_list):\n",
    "        action = command[0]\n",
    "\n",
    "        if action == 'insert':\n",
    "            index = int(command[1])\n",
    "            value = int(command[2])\n",
    "            my_list.insert(index, value)\n",
    "        elif action == 'print':\n",
    "            print(my_list)\n",
    "        elif action == 'remove':\n",
    "            value = int(command[1])\n",
    "            my_list.remove(value)\n",
    "        elif action == 'append':\n",
    "            value = int(command[1])\n",
    "            my_list.append(value)\n",
    "        elif action == 'sort':\n",
    "            my_list.sort()\n",
    "        elif action == 'pop':\n",
    "            my_list.pop()\n",
    "        elif action == 'reverse':\n",
    "            my_list.reverse()\n",
    "\n",
    "    for _ in range(N):\n",
    "        command = input().split()\n",
    "        output(command, my_list)\n"
   ]
  },
  {
   "cell_type": "code",
   "execution_count": 7,
   "id": "ac179484-32d8-4b1f-a7ac-4359bda29870",
   "metadata": {},
   "outputs": [],
   "source": [
    "commands = [\n",
    "    \"insert 0 5\",\n",
    "    \"insert 1 10\",\n",
    "    \"insert 0 6\",\n",
    "    \"print\",\n",
    "    \"remove 6\",\n",
    "    \"append 9\",\n",
    "    \"append 1\",\n",
    "    \"sort\",\n",
    "    \"print\",\n",
    "    \"pop\",\n",
    "    \"reverse\",\n",
    "    \"print\"\n",
    "]\n"
   ]
  },
  {
   "cell_type": "code",
   "execution_count": 8,
   "id": "24ddba17-ed3c-4fe0-9060-10c3f72bd12b",
   "metadata": {},
   "outputs": [
    {
     "name": "stdout",
     "output_type": "stream",
     "text": [
      "[6, 5, 10]\n",
      "[1, 5, 9, 10]\n",
      "[9, 5, 1]\n"
     ]
    }
   ],
   "source": [
    "my_list = []\n",
    "\n",
    "def output(command, my_list):\n",
    "    action = command[0]\n",
    "\n",
    "    if action == 'insert':\n",
    "        index = int(command[1])\n",
    "        value = int(command[2])\n",
    "        my_list.insert(index, value)\n",
    "    elif action == 'print':\n",
    "        print(my_list)\n",
    "    elif action == 'remove':\n",
    "        value = int(command[1])\n",
    "        my_list.remove(value)\n",
    "    elif action == 'append':\n",
    "        value = int(command[1])\n",
    "        my_list.append(value)\n",
    "    elif action == 'sort':\n",
    "        my_list.sort()\n",
    "    elif action == 'pop':\n",
    "        my_list.pop()\n",
    "    elif action == 'reverse':\n",
    "        my_list.reverse()\n",
    "\n",
    "# Simulate input by looping over predefined commands\n",
    "for cmd in commands:\n",
    "    output(cmd.split(), my_list)\n"
   ]
  },
  {
   "cell_type": "raw",
   "id": "47dd8ca8-b8c3-4a86-913d-4fe3dcb45e23",
   "metadata": {},
   "source": [
    "Qn:\n",
    "Task\n",
    "Given an integer, , and  space-separated integers as input, create a tuple, , of those  integers. Then compute and print the result of .\n",
    "\n",
    "Note: hash() is one of the functions in the __builtins__ module, so it need not be imported.\n",
    "\n",
    "Input Format\n",
    "\n",
    "The first line contains an integer, , denoting the number of elements in the tuple.\n",
    "The second line contains  space-separated integers describing the elements in tuple .\n",
    "\n",
    "Output Format\n",
    "\n",
    "Print the result of .\n",
    "\n",
    "Sample Input 0"
   ]
  },
  {
   "cell_type": "code",
   "execution_count": 12,
   "id": "c17fe8c6-5e10-4c73-8f8c-38748b228749",
   "metadata": {},
   "outputs": [
    {
     "name": "stdin",
     "output_type": "stream",
     "text": [
      " 2\n",
      " 1 2\n"
     ]
    },
    {
     "name": "stdout",
     "output_type": "stream",
     "text": [
      "-3550055125485641917\n"
     ]
    }
   ],
   "source": [
    "if __name__ == '__main__':\n",
    "    n = int(input())                  # number of elements\n",
    "    integer_list = map(int, input().split())  # converts input to integers\n",
    "    t = tuple(integer_list)          # create a tuple\n",
    "    print(hash(t))                   # print hash of the tuple\n"
   ]
  },
  {
   "cell_type": "raw",
   "id": "de395930-0fa5-4270-acd1-242de1448898",
   "metadata": {},
   "source": [
    "Qn:\n",
    "You are given a string and your task is to swap cases. In other words, convert all lowercase letters to uppercase letters and vice versa.\n",
    "\n",
    "For Example:\n",
    "\n",
    "Www.HackerRank.com → wWW.hACKERrANK.COM\n",
    "Pythonist 2 → pYTHONIST 2  \n",
    "Function Description\n",
    "\n",
    "Complete the swap_case function in the editor below.\n",
    "\n",
    "swap_case has the following parameters:\n",
    "\n",
    "string s: the string to modify\n",
    "Returns\n",
    "\n",
    "string: the modified string\n",
    "Input Format\n",
    "\n",
    "A single line containing a string .\n",
    "\n",
    "Constraints\n",
    "\n",
    "\n",
    "Sample Input 0"
   ]
  },
  {
   "cell_type": "code",
   "execution_count": 1,
   "id": "92666f35-d41a-4cfd-9487-445703e30c89",
   "metadata": {},
   "outputs": [],
   "source": [
    "def swap_case(s):\n",
    "    return s.swapcase()"
   ]
  },
  {
   "cell_type": "code",
   "execution_count": null,
   "id": "9ed7169f-1fbc-410d-8e10-99e5cadc9fad",
   "metadata": {},
   "outputs": [],
   "source": []
  }
 ],
 "metadata": {
  "kernelspec": {
   "display_name": "Python 3 (ipykernel)",
   "language": "python",
   "name": "python3"
  },
  "language_info": {
   "codemirror_mode": {
    "name": "ipython",
    "version": 3
   },
   "file_extension": ".py",
   "mimetype": "text/x-python",
   "name": "python",
   "nbconvert_exporter": "python",
   "pygments_lexer": "ipython3",
   "version": "3.12.4"
  }
 },
 "nbformat": 4,
 "nbformat_minor": 5
}
